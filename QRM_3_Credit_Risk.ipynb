{
 "cells": [
  {
   "cell_type": "markdown",
   "metadata": {},
   "source": [
    "# Assignment 3 - Credit Risk Scoring"
   ]
  },
  {
   "cell_type": "code",
   "execution_count": 1,
   "metadata": {},
   "outputs": [
    {
     "data": {
      "application/javascript": [
       "\n",
       "            setTimeout(function() {\n",
       "                var nbb_cell_id = 1;\n",
       "                var nbb_unformatted_code = \"%load_ext nb_black\";\n",
       "                var nbb_formatted_code = \"%load_ext nb_black\";\n",
       "                var nbb_cells = Jupyter.notebook.get_cells();\n",
       "                for (var i = 0; i < nbb_cells.length; ++i) {\n",
       "                    if (nbb_cells[i].input_prompt_number == nbb_cell_id) {\n",
       "                        if (nbb_cells[i].get_text() == nbb_unformatted_code) {\n",
       "                             nbb_cells[i].set_text(nbb_formatted_code);\n",
       "                        }\n",
       "                        break;\n",
       "                    }\n",
       "                }\n",
       "            }, 500);\n",
       "            "
      ],
      "text/plain": [
       "<IPython.core.display.Javascript object>"
      ]
     },
     "metadata": {},
     "output_type": "display_data"
    }
   ],
   "source": [
    "%load_ext nb_black"
   ]
  },
  {
   "cell_type": "code",
   "execution_count": 2,
   "metadata": {},
   "outputs": [
    {
     "data": {
      "application/javascript": [
       "\n",
       "            setTimeout(function() {\n",
       "                var nbb_cell_id = 2;\n",
       "                var nbb_unformatted_code = \"# Basic packages\\nimport pandas as pd\\nimport numpy as np\\nimport matplotlib.pyplot as plt\\n\\n# Preporcessing\\nfrom sklearn import preprocessing\\nfrom sklearn.model_selection import train_test_split\\n\\n# Balancing\\nfrom imblearn.over_sampling import SMOTE\\nfrom imblearn.under_sampling import RandomUnderSampler\\n\\n# Models\\nimport statsmodels.api as sm\\nfrom sklearn.linear_model import LogisticRegression\\nfrom sklearn.neighbors import KNeighborsClassifier\\nfrom sklearn.svm import SVC\\nfrom sklearn.tree import DecisionTreeClassifier\\nfrom sklearn.ensemble import RandomForestClassifier\\n\\n# Metrics\\nfrom sklearn.metrics import roc_auc_score\\nfrom sklearn.metrics import roc_curve\\nfrom sklearn.metrics import accuracy_score\\nfrom sklearn.metrics import f1_score\";\n",
       "                var nbb_formatted_code = \"# Basic packages\\nimport pandas as pd\\nimport numpy as np\\nimport matplotlib.pyplot as plt\\n\\n# Preporcessing\\nfrom sklearn import preprocessing\\nfrom sklearn.model_selection import train_test_split\\n\\n# Balancing\\nfrom imblearn.over_sampling import SMOTE\\nfrom imblearn.under_sampling import RandomUnderSampler\\n\\n# Models\\nimport statsmodels.api as sm\\nfrom sklearn.linear_model import LogisticRegression\\nfrom sklearn.neighbors import KNeighborsClassifier\\nfrom sklearn.svm import SVC\\nfrom sklearn.tree import DecisionTreeClassifier\\nfrom sklearn.ensemble import RandomForestClassifier\\n\\n# Metrics\\nfrom sklearn.metrics import roc_auc_score\\nfrom sklearn.metrics import roc_curve\\nfrom sklearn.metrics import accuracy_score\\nfrom sklearn.metrics import f1_score\";\n",
       "                var nbb_cells = Jupyter.notebook.get_cells();\n",
       "                for (var i = 0; i < nbb_cells.length; ++i) {\n",
       "                    if (nbb_cells[i].input_prompt_number == nbb_cell_id) {\n",
       "                        if (nbb_cells[i].get_text() == nbb_unformatted_code) {\n",
       "                             nbb_cells[i].set_text(nbb_formatted_code);\n",
       "                        }\n",
       "                        break;\n",
       "                    }\n",
       "                }\n",
       "            }, 500);\n",
       "            "
      ],
      "text/plain": [
       "<IPython.core.display.Javascript object>"
      ]
     },
     "metadata": {},
     "output_type": "display_data"
    }
   ],
   "source": [
    "# Basic packages\n",
    "import pandas as pd\n",
    "import numpy as np\n",
    "import matplotlib.pyplot as plt\n",
    "\n",
    "# Preporcessing\n",
    "from sklearn import preprocessing\n",
    "from sklearn.model_selection import train_test_split\n",
    "\n",
    "# Balancing\n",
    "from imblearn.over_sampling import SMOTE\n",
    "from imblearn.under_sampling import RandomUnderSampler\n",
    "\n",
    "# Models\n",
    "import statsmodels.api as sm\n",
    "from sklearn.linear_model import LogisticRegression\n",
    "from sklearn.neighbors import KNeighborsClassifier\n",
    "from sklearn.svm import SVC\n",
    "from sklearn.tree import DecisionTreeClassifier\n",
    "from sklearn.ensemble import RandomForestClassifier\n",
    "\n",
    "# Metrics\n",
    "from sklearn.metrics import roc_auc_score\n",
    "from sklearn.metrics import roc_curve\n",
    "from sklearn.metrics import accuracy_score"
   ]
  },
  {
   "cell_type": "code",
   "execution_count": 3,
   "metadata": {},
   "outputs": [
    {
     "data": {
      "text/html": [
       "<div>\n",
       "<style scoped>\n",
       "    .dataframe tbody tr th:only-of-type {\n",
       "        vertical-align: middle;\n",
       "    }\n",
       "\n",
       "    .dataframe tbody tr th {\n",
       "        vertical-align: top;\n",
       "    }\n",
       "\n",
       "    .dataframe thead th {\n",
       "        text-align: right;\n",
       "    }\n",
       "</style>\n",
       "<table border=\"1\" class=\"dataframe\">\n",
       "  <thead>\n",
       "    <tr style=\"text-align: right;\">\n",
       "      <th></th>\n",
       "      <th>Loan ID</th>\n",
       "      <th>Customer ID</th>\n",
       "      <th>Loan Status</th>\n",
       "      <th>Current Loan Amount</th>\n",
       "      <th>Term</th>\n",
       "      <th>Credit Score</th>\n",
       "      <th>Annual Income</th>\n",
       "      <th>Years in current job</th>\n",
       "      <th>Home Ownership</th>\n",
       "      <th>Purpose</th>\n",
       "      <th>Monthly Debt</th>\n",
       "      <th>Years of Credit History</th>\n",
       "      <th>Months since last delinquent</th>\n",
       "      <th>Number of Open Accounts</th>\n",
       "      <th>Number of Credit Problems</th>\n",
       "      <th>Current Credit Balance</th>\n",
       "      <th>Maximum Open Credit</th>\n",
       "      <th>Bankruptcies</th>\n",
       "      <th>Tax Liens</th>\n",
       "    </tr>\n",
       "  </thead>\n",
       "  <tbody>\n",
       "    <tr>\n",
       "      <th>0</th>\n",
       "      <td>14dd8831-6af5-400b-83ec-68e61888a048</td>\n",
       "      <td>981165ec-3274-42f5-a3b4-d104041a9ca9</td>\n",
       "      <td>Fully Paid</td>\n",
       "      <td>445412.0</td>\n",
       "      <td>Short Term</td>\n",
       "      <td>709.0</td>\n",
       "      <td>1167493.0</td>\n",
       "      <td>8 years</td>\n",
       "      <td>Home Mortgage</td>\n",
       "      <td>Home Improvements</td>\n",
       "      <td>5214.74</td>\n",
       "      <td>17.2</td>\n",
       "      <td>NaN</td>\n",
       "      <td>6.0</td>\n",
       "      <td>1.0</td>\n",
       "      <td>228190.0</td>\n",
       "      <td>416746.0</td>\n",
       "      <td>1.0</td>\n",
       "      <td>0.0</td>\n",
       "    </tr>\n",
       "    <tr>\n",
       "      <th>1</th>\n",
       "      <td>4771cc26-131a-45db-b5aa-537ea4ba5342</td>\n",
       "      <td>2de017a3-2e01-49cb-a581-08169e83be29</td>\n",
       "      <td>Fully Paid</td>\n",
       "      <td>262328.0</td>\n",
       "      <td>Short Term</td>\n",
       "      <td>NaN</td>\n",
       "      <td>NaN</td>\n",
       "      <td>10+ years</td>\n",
       "      <td>Home Mortgage</td>\n",
       "      <td>Debt Consolidation</td>\n",
       "      <td>33295.98</td>\n",
       "      <td>21.1</td>\n",
       "      <td>8.0</td>\n",
       "      <td>35.0</td>\n",
       "      <td>0.0</td>\n",
       "      <td>229976.0</td>\n",
       "      <td>850784.0</td>\n",
       "      <td>0.0</td>\n",
       "      <td>0.0</td>\n",
       "    </tr>\n",
       "    <tr>\n",
       "      <th>2</th>\n",
       "      <td>4eed4e6a-aa2f-4c91-8651-ce984ee8fb26</td>\n",
       "      <td>5efb2b2b-bf11-4dfd-a572-3761a2694725</td>\n",
       "      <td>Fully Paid</td>\n",
       "      <td>99999999.0</td>\n",
       "      <td>Short Term</td>\n",
       "      <td>741.0</td>\n",
       "      <td>2231892.0</td>\n",
       "      <td>8 years</td>\n",
       "      <td>Own Home</td>\n",
       "      <td>Debt Consolidation</td>\n",
       "      <td>29200.53</td>\n",
       "      <td>14.9</td>\n",
       "      <td>29.0</td>\n",
       "      <td>18.0</td>\n",
       "      <td>1.0</td>\n",
       "      <td>297996.0</td>\n",
       "      <td>750090.0</td>\n",
       "      <td>0.0</td>\n",
       "      <td>0.0</td>\n",
       "    </tr>\n",
       "    <tr>\n",
       "      <th>3</th>\n",
       "      <td>77598f7b-32e7-4e3b-a6e5-06ba0d98fe8a</td>\n",
       "      <td>e777faab-98ae-45af-9a86-7ce5b33b1011</td>\n",
       "      <td>Fully Paid</td>\n",
       "      <td>347666.0</td>\n",
       "      <td>Long Term</td>\n",
       "      <td>721.0</td>\n",
       "      <td>806949.0</td>\n",
       "      <td>3 years</td>\n",
       "      <td>Own Home</td>\n",
       "      <td>Debt Consolidation</td>\n",
       "      <td>8741.90</td>\n",
       "      <td>12.0</td>\n",
       "      <td>NaN</td>\n",
       "      <td>9.0</td>\n",
       "      <td>0.0</td>\n",
       "      <td>256329.0</td>\n",
       "      <td>386958.0</td>\n",
       "      <td>0.0</td>\n",
       "      <td>0.0</td>\n",
       "    </tr>\n",
       "    <tr>\n",
       "      <th>4</th>\n",
       "      <td>d4062e70-befa-4995-8643-a0de73938182</td>\n",
       "      <td>81536ad9-5ccf-4eb8-befb-47a4d608658e</td>\n",
       "      <td>Fully Paid</td>\n",
       "      <td>176220.0</td>\n",
       "      <td>Short Term</td>\n",
       "      <td>NaN</td>\n",
       "      <td>NaN</td>\n",
       "      <td>5 years</td>\n",
       "      <td>Rent</td>\n",
       "      <td>Debt Consolidation</td>\n",
       "      <td>20639.70</td>\n",
       "      <td>6.1</td>\n",
       "      <td>NaN</td>\n",
       "      <td>15.0</td>\n",
       "      <td>0.0</td>\n",
       "      <td>253460.0</td>\n",
       "      <td>427174.0</td>\n",
       "      <td>0.0</td>\n",
       "      <td>0.0</td>\n",
       "    </tr>\n",
       "  </tbody>\n",
       "</table>\n",
       "</div>"
      ],
      "text/plain": [
       "                                Loan ID                           Customer ID  \\\n",
       "0  14dd8831-6af5-400b-83ec-68e61888a048  981165ec-3274-42f5-a3b4-d104041a9ca9   \n",
       "1  4771cc26-131a-45db-b5aa-537ea4ba5342  2de017a3-2e01-49cb-a581-08169e83be29   \n",
       "2  4eed4e6a-aa2f-4c91-8651-ce984ee8fb26  5efb2b2b-bf11-4dfd-a572-3761a2694725   \n",
       "3  77598f7b-32e7-4e3b-a6e5-06ba0d98fe8a  e777faab-98ae-45af-9a86-7ce5b33b1011   \n",
       "4  d4062e70-befa-4995-8643-a0de73938182  81536ad9-5ccf-4eb8-befb-47a4d608658e   \n",
       "\n",
       "  Loan Status  Current Loan Amount        Term  Credit Score  Annual Income  \\\n",
       "0  Fully Paid             445412.0  Short Term         709.0      1167493.0   \n",
       "1  Fully Paid             262328.0  Short Term           NaN            NaN   \n",
       "2  Fully Paid           99999999.0  Short Term         741.0      2231892.0   \n",
       "3  Fully Paid             347666.0   Long Term         721.0       806949.0   \n",
       "4  Fully Paid             176220.0  Short Term           NaN            NaN   \n",
       "\n",
       "  Years in current job Home Ownership             Purpose  Monthly Debt  \\\n",
       "0              8 years  Home Mortgage   Home Improvements       5214.74   \n",
       "1            10+ years  Home Mortgage  Debt Consolidation      33295.98   \n",
       "2              8 years       Own Home  Debt Consolidation      29200.53   \n",
       "3              3 years       Own Home  Debt Consolidation       8741.90   \n",
       "4              5 years           Rent  Debt Consolidation      20639.70   \n",
       "\n",
       "   Years of Credit History  Months since last delinquent  \\\n",
       "0                     17.2                           NaN   \n",
       "1                     21.1                           8.0   \n",
       "2                     14.9                          29.0   \n",
       "3                     12.0                           NaN   \n",
       "4                      6.1                           NaN   \n",
       "\n",
       "   Number of Open Accounts  Number of Credit Problems  Current Credit Balance  \\\n",
       "0                      6.0                        1.0                228190.0   \n",
       "1                     35.0                        0.0                229976.0   \n",
       "2                     18.0                        1.0                297996.0   \n",
       "3                      9.0                        0.0                256329.0   \n",
       "4                     15.0                        0.0                253460.0   \n",
       "\n",
       "   Maximum Open Credit  Bankruptcies  Tax Liens  \n",
       "0             416746.0           1.0        0.0  \n",
       "1             850784.0           0.0        0.0  \n",
       "2             750090.0           0.0        0.0  \n",
       "3             386958.0           0.0        0.0  \n",
       "4             427174.0           0.0        0.0  "
      ]
     },
     "execution_count": 3,
     "metadata": {},
     "output_type": "execute_result"
    },
    {
     "data": {
      "application/javascript": [
       "\n",
       "            setTimeout(function() {\n",
       "                var nbb_cell_id = 3;\n",
       "                var nbb_unformatted_code = \"data = pd.read_csv(\\\"01_Data/credit_train.csv\\\")\\ndata.head()\";\n",
       "                var nbb_formatted_code = \"data = pd.read_csv(\\\"01_Data/credit_train.csv\\\")\\ndata.head()\";\n",
       "                var nbb_cells = Jupyter.notebook.get_cells();\n",
       "                for (var i = 0; i < nbb_cells.length; ++i) {\n",
       "                    if (nbb_cells[i].input_prompt_number == nbb_cell_id) {\n",
       "                        if (nbb_cells[i].get_text() == nbb_unformatted_code) {\n",
       "                             nbb_cells[i].set_text(nbb_formatted_code);\n",
       "                        }\n",
       "                        break;\n",
       "                    }\n",
       "                }\n",
       "            }, 500);\n",
       "            "
      ],
      "text/plain": [
       "<IPython.core.display.Javascript object>"
      ]
     },
     "metadata": {},
     "output_type": "display_data"
    }
   ],
   "source": [
    "data = pd.read_csv(\"01_Data/credit_train.csv\")\n",
    "data.head()"
   ]
  },
  {
   "cell_type": "code",
   "execution_count": 4,
   "metadata": {},
   "outputs": [
    {
     "data": {
      "text/html": [
       "<div>\n",
       "<style scoped>\n",
       "    .dataframe tbody tr th:only-of-type {\n",
       "        vertical-align: middle;\n",
       "    }\n",
       "\n",
       "    .dataframe tbody tr th {\n",
       "        vertical-align: top;\n",
       "    }\n",
       "\n",
       "    .dataframe thead th {\n",
       "        text-align: right;\n",
       "    }\n",
       "</style>\n",
       "<table border=\"1\" class=\"dataframe\">\n",
       "  <thead>\n",
       "    <tr style=\"text-align: right;\">\n",
       "      <th></th>\n",
       "      <th>Current Loan Amount</th>\n",
       "      <th>Credit Score</th>\n",
       "      <th>Annual Income</th>\n",
       "      <th>Monthly Debt</th>\n",
       "      <th>Years of Credit History</th>\n",
       "      <th>Months since last delinquent</th>\n",
       "      <th>Number of Open Accounts</th>\n",
       "      <th>Number of Credit Problems</th>\n",
       "      <th>Current Credit Balance</th>\n",
       "      <th>Maximum Open Credit</th>\n",
       "      <th>Bankruptcies</th>\n",
       "      <th>Tax Liens</th>\n",
       "    </tr>\n",
       "  </thead>\n",
       "  <tbody>\n",
       "    <tr>\n",
       "      <th>count</th>\n",
       "      <td>1.000000e+05</td>\n",
       "      <td>80846.000000</td>\n",
       "      <td>8.084600e+04</td>\n",
       "      <td>100000.000000</td>\n",
       "      <td>100000.000000</td>\n",
       "      <td>46859.000000</td>\n",
       "      <td>100000.00000</td>\n",
       "      <td>100000.000000</td>\n",
       "      <td>1.000000e+05</td>\n",
       "      <td>9.999800e+04</td>\n",
       "      <td>99796.000000</td>\n",
       "      <td>99990.000000</td>\n",
       "    </tr>\n",
       "    <tr>\n",
       "      <th>mean</th>\n",
       "      <td>1.176045e+07</td>\n",
       "      <td>1076.456089</td>\n",
       "      <td>1.378277e+06</td>\n",
       "      <td>18472.412336</td>\n",
       "      <td>18.199141</td>\n",
       "      <td>34.901321</td>\n",
       "      <td>11.12853</td>\n",
       "      <td>0.168310</td>\n",
       "      <td>2.946374e+05</td>\n",
       "      <td>7.607984e+05</td>\n",
       "      <td>0.117740</td>\n",
       "      <td>0.029313</td>\n",
       "    </tr>\n",
       "    <tr>\n",
       "      <th>std</th>\n",
       "      <td>3.178394e+07</td>\n",
       "      <td>1475.403791</td>\n",
       "      <td>1.081360e+06</td>\n",
       "      <td>12174.992609</td>\n",
       "      <td>7.015324</td>\n",
       "      <td>21.997829</td>\n",
       "      <td>5.00987</td>\n",
       "      <td>0.482705</td>\n",
       "      <td>3.761709e+05</td>\n",
       "      <td>8.384503e+06</td>\n",
       "      <td>0.351424</td>\n",
       "      <td>0.258182</td>\n",
       "    </tr>\n",
       "    <tr>\n",
       "      <th>min</th>\n",
       "      <td>1.080200e+04</td>\n",
       "      <td>585.000000</td>\n",
       "      <td>7.662700e+04</td>\n",
       "      <td>0.000000</td>\n",
       "      <td>3.600000</td>\n",
       "      <td>0.000000</td>\n",
       "      <td>0.00000</td>\n",
       "      <td>0.000000</td>\n",
       "      <td>0.000000e+00</td>\n",
       "      <td>0.000000e+00</td>\n",
       "      <td>0.000000</td>\n",
       "      <td>0.000000</td>\n",
       "    </tr>\n",
       "    <tr>\n",
       "      <th>25%</th>\n",
       "      <td>1.796520e+05</td>\n",
       "      <td>705.000000</td>\n",
       "      <td>8.488440e+05</td>\n",
       "      <td>10214.162500</td>\n",
       "      <td>13.500000</td>\n",
       "      <td>16.000000</td>\n",
       "      <td>8.00000</td>\n",
       "      <td>0.000000</td>\n",
       "      <td>1.126700e+05</td>\n",
       "      <td>2.734380e+05</td>\n",
       "      <td>0.000000</td>\n",
       "      <td>0.000000</td>\n",
       "    </tr>\n",
       "    <tr>\n",
       "      <th>50%</th>\n",
       "      <td>3.122460e+05</td>\n",
       "      <td>724.000000</td>\n",
       "      <td>1.174162e+06</td>\n",
       "      <td>16220.300000</td>\n",
       "      <td>16.900000</td>\n",
       "      <td>32.000000</td>\n",
       "      <td>10.00000</td>\n",
       "      <td>0.000000</td>\n",
       "      <td>2.098170e+05</td>\n",
       "      <td>4.678740e+05</td>\n",
       "      <td>0.000000</td>\n",
       "      <td>0.000000</td>\n",
       "    </tr>\n",
       "    <tr>\n",
       "      <th>75%</th>\n",
       "      <td>5.249420e+05</td>\n",
       "      <td>741.000000</td>\n",
       "      <td>1.650663e+06</td>\n",
       "      <td>24012.057500</td>\n",
       "      <td>21.700000</td>\n",
       "      <td>51.000000</td>\n",
       "      <td>14.00000</td>\n",
       "      <td>0.000000</td>\n",
       "      <td>3.679588e+05</td>\n",
       "      <td>7.829580e+05</td>\n",
       "      <td>0.000000</td>\n",
       "      <td>0.000000</td>\n",
       "    </tr>\n",
       "    <tr>\n",
       "      <th>max</th>\n",
       "      <td>1.000000e+08</td>\n",
       "      <td>7510.000000</td>\n",
       "      <td>1.655574e+08</td>\n",
       "      <td>435843.280000</td>\n",
       "      <td>70.500000</td>\n",
       "      <td>176.000000</td>\n",
       "      <td>76.00000</td>\n",
       "      <td>15.000000</td>\n",
       "      <td>3.287897e+07</td>\n",
       "      <td>1.539738e+09</td>\n",
       "      <td>7.000000</td>\n",
       "      <td>15.000000</td>\n",
       "    </tr>\n",
       "  </tbody>\n",
       "</table>\n",
       "</div>"
      ],
      "text/plain": [
       "       Current Loan Amount  Credit Score  Annual Income   Monthly Debt  \\\n",
       "count         1.000000e+05  80846.000000   8.084600e+04  100000.000000   \n",
       "mean          1.176045e+07   1076.456089   1.378277e+06   18472.412336   \n",
       "std           3.178394e+07   1475.403791   1.081360e+06   12174.992609   \n",
       "min           1.080200e+04    585.000000   7.662700e+04       0.000000   \n",
       "25%           1.796520e+05    705.000000   8.488440e+05   10214.162500   \n",
       "50%           3.122460e+05    724.000000   1.174162e+06   16220.300000   \n",
       "75%           5.249420e+05    741.000000   1.650663e+06   24012.057500   \n",
       "max           1.000000e+08   7510.000000   1.655574e+08  435843.280000   \n",
       "\n",
       "       Years of Credit History  Months since last delinquent  \\\n",
       "count            100000.000000                  46859.000000   \n",
       "mean                 18.199141                     34.901321   \n",
       "std                   7.015324                     21.997829   \n",
       "min                   3.600000                      0.000000   \n",
       "25%                  13.500000                     16.000000   \n",
       "50%                  16.900000                     32.000000   \n",
       "75%                  21.700000                     51.000000   \n",
       "max                  70.500000                    176.000000   \n",
       "\n",
       "       Number of Open Accounts  Number of Credit Problems  \\\n",
       "count             100000.00000              100000.000000   \n",
       "mean                  11.12853                   0.168310   \n",
       "std                    5.00987                   0.482705   \n",
       "min                    0.00000                   0.000000   \n",
       "25%                    8.00000                   0.000000   \n",
       "50%                   10.00000                   0.000000   \n",
       "75%                   14.00000                   0.000000   \n",
       "max                   76.00000                  15.000000   \n",
       "\n",
       "       Current Credit Balance  Maximum Open Credit  Bankruptcies     Tax Liens  \n",
       "count            1.000000e+05         9.999800e+04  99796.000000  99990.000000  \n",
       "mean             2.946374e+05         7.607984e+05      0.117740      0.029313  \n",
       "std              3.761709e+05         8.384503e+06      0.351424      0.258182  \n",
       "min              0.000000e+00         0.000000e+00      0.000000      0.000000  \n",
       "25%              1.126700e+05         2.734380e+05      0.000000      0.000000  \n",
       "50%              2.098170e+05         4.678740e+05      0.000000      0.000000  \n",
       "75%              3.679588e+05         7.829580e+05      0.000000      0.000000  \n",
       "max              3.287897e+07         1.539738e+09      7.000000     15.000000  "
      ]
     },
     "execution_count": 4,
     "metadata": {},
     "output_type": "execute_result"
    },
    {
     "data": {
      "application/javascript": [
       "\n",
       "            setTimeout(function() {\n",
       "                var nbb_cell_id = 4;\n",
       "                var nbb_unformatted_code = \"data.describe()\";\n",
       "                var nbb_formatted_code = \"data.describe()\";\n",
       "                var nbb_cells = Jupyter.notebook.get_cells();\n",
       "                for (var i = 0; i < nbb_cells.length; ++i) {\n",
       "                    if (nbb_cells[i].input_prompt_number == nbb_cell_id) {\n",
       "                        if (nbb_cells[i].get_text() == nbb_unformatted_code) {\n",
       "                             nbb_cells[i].set_text(nbb_formatted_code);\n",
       "                        }\n",
       "                        break;\n",
       "                    }\n",
       "                }\n",
       "            }, 500);\n",
       "            "
      ],
      "text/plain": [
       "<IPython.core.display.Javascript object>"
      ]
     },
     "metadata": {},
     "output_type": "display_data"
    }
   ],
   "source": [
    "data.describe()"
   ]
  },
  {
   "cell_type": "markdown",
   "metadata": {},
   "source": [
    "# Data Preprocessing"
   ]
  },
  {
   "cell_type": "markdown",
   "metadata": {},
   "source": [
    "## Missing Values"
   ]
  },
  {
   "cell_type": "code",
   "execution_count": 5,
   "metadata": {},
   "outputs": [
    {
     "data": {
      "text/plain": [
       "Index(['Loan ID', 'Customer ID', 'Loan Status', 'Current Loan Amount', 'Term',\n",
       "       'Credit Score', 'Annual Income', 'Years in current job',\n",
       "       'Home Ownership', 'Purpose', 'Monthly Debt', 'Years of Credit History',\n",
       "       'Months since last delinquent', 'Number of Open Accounts',\n",
       "       'Number of Credit Problems', 'Current Credit Balance',\n",
       "       'Maximum Open Credit', 'Bankruptcies', 'Tax Liens'],\n",
       "      dtype='object')"
      ]
     },
     "execution_count": 5,
     "metadata": {},
     "output_type": "execute_result"
    },
    {
     "data": {
      "application/javascript": [
       "\n",
       "            setTimeout(function() {\n",
       "                var nbb_cell_id = 5;\n",
       "                var nbb_unformatted_code = \"data.columns\";\n",
       "                var nbb_formatted_code = \"data.columns\";\n",
       "                var nbb_cells = Jupyter.notebook.get_cells();\n",
       "                for (var i = 0; i < nbb_cells.length; ++i) {\n",
       "                    if (nbb_cells[i].input_prompt_number == nbb_cell_id) {\n",
       "                        if (nbb_cells[i].get_text() == nbb_unformatted_code) {\n",
       "                             nbb_cells[i].set_text(nbb_formatted_code);\n",
       "                        }\n",
       "                        break;\n",
       "                    }\n",
       "                }\n",
       "            }, 500);\n",
       "            "
      ],
      "text/plain": [
       "<IPython.core.display.Javascript object>"
      ]
     },
     "metadata": {},
     "output_type": "display_data"
    }
   ],
   "source": [
    "data.columns"
   ]
  },
  {
   "cell_type": "code",
   "execution_count": 6,
   "metadata": {},
   "outputs": [
    {
     "name": "stdout",
     "output_type": "stream",
     "text": [
      "There are  514 null values for Loan ID\n",
      "There are  514 null values for Customer ID\n",
      "There are  514 null values for Loan Status\n",
      "There are  514 null values for Current Loan Amount\n",
      "There are  514 null values for Term\n",
      "There are  19668 null values for Credit Score\n",
      "There are  19668 null values for Annual Income\n",
      "There are  4736 null values for Years in current job\n",
      "There are  514 null values for Home Ownership\n",
      "There are  514 null values for Purpose\n",
      "There are  514 null values for Monthly Debt\n",
      "There are  514 null values for Years of Credit History\n",
      "There are  53655 null values for Months since last delinquent\n",
      "There are  514 null values for Number of Open Accounts\n",
      "There are  514 null values for Number of Credit Problems\n",
      "There are  514 null values for Current Credit Balance\n",
      "There are  516 null values for Maximum Open Credit\n",
      "There are  718 null values for Bankruptcies\n",
      "There are  524 null values for Tax Liens\n"
     ]
    },
    {
     "data": {
      "application/javascript": [
       "\n",
       "            setTimeout(function() {\n",
       "                var nbb_cell_id = 6;\n",
       "                var nbb_unformatted_code = \"# Check number of missings for all variables\\nvariables = [\\n    \\\"Loan ID\\\",\\n    \\\"Customer ID\\\",\\n    \\\"Loan Status\\\",\\n    \\\"Current Loan Amount\\\",\\n    \\\"Term\\\",\\n    \\\"Credit Score\\\",\\n    \\\"Annual Income\\\",\\n    \\\"Years in current job\\\",\\n    \\\"Home Ownership\\\",\\n    \\\"Purpose\\\",\\n    \\\"Monthly Debt\\\",\\n    \\\"Years of Credit History\\\",\\n    \\\"Months since last delinquent\\\",\\n    \\\"Number of Open Accounts\\\",\\n    \\\"Number of Credit Problems\\\",\\n    \\\"Current Credit Balance\\\",\\n    \\\"Maximum Open Credit\\\",\\n    \\\"Bankruptcies\\\",\\n    \\\"Tax Liens\\\",\\n]\\nfor i in variables:\\n    print(\\\"There are \\\", data[i].isna().sum(), \\\"null values for \\\" + i)\";\n",
       "                var nbb_formatted_code = \"# Check number of missings for all variables\\nvariables = [\\n    \\\"Loan ID\\\",\\n    \\\"Customer ID\\\",\\n    \\\"Loan Status\\\",\\n    \\\"Current Loan Amount\\\",\\n    \\\"Term\\\",\\n    \\\"Credit Score\\\",\\n    \\\"Annual Income\\\",\\n    \\\"Years in current job\\\",\\n    \\\"Home Ownership\\\",\\n    \\\"Purpose\\\",\\n    \\\"Monthly Debt\\\",\\n    \\\"Years of Credit History\\\",\\n    \\\"Months since last delinquent\\\",\\n    \\\"Number of Open Accounts\\\",\\n    \\\"Number of Credit Problems\\\",\\n    \\\"Current Credit Balance\\\",\\n    \\\"Maximum Open Credit\\\",\\n    \\\"Bankruptcies\\\",\\n    \\\"Tax Liens\\\",\\n]\\nfor i in variables:\\n    print(\\\"There are \\\", data[i].isna().sum(), \\\"null values for \\\" + i)\";\n",
       "                var nbb_cells = Jupyter.notebook.get_cells();\n",
       "                for (var i = 0; i < nbb_cells.length; ++i) {\n",
       "                    if (nbb_cells[i].input_prompt_number == nbb_cell_id) {\n",
       "                        if (nbb_cells[i].get_text() == nbb_unformatted_code) {\n",
       "                             nbb_cells[i].set_text(nbb_formatted_code);\n",
       "                        }\n",
       "                        break;\n",
       "                    }\n",
       "                }\n",
       "            }, 500);\n",
       "            "
      ],
      "text/plain": [
       "<IPython.core.display.Javascript object>"
      ]
     },
     "metadata": {},
     "output_type": "display_data"
    }
   ],
   "source": [
    "# Check number of missings for all variables\n",
    "variables = [\n",
    "    \"Loan ID\",\n",
    "    \"Customer ID\",\n",
    "    \"Loan Status\",\n",
    "    \"Current Loan Amount\",\n",
    "    \"Term\",\n",
    "    \"Credit Score\",\n",
    "    \"Annual Income\",\n",
    "    \"Years in current job\",\n",
    "    \"Home Ownership\",\n",
    "    \"Purpose\",\n",
    "    \"Monthly Debt\",\n",
    "    \"Years of Credit History\",\n",
    "    \"Months since last delinquent\",\n",
    "    \"Number of Open Accounts\",\n",
    "    \"Number of Credit Problems\",\n",
    "    \"Current Credit Balance\",\n",
    "    \"Maximum Open Credit\",\n",
    "    \"Bankruptcies\",\n",
    "    \"Tax Liens\",\n",
    "]\n",
    "for i in variables:\n",
    "    print(\"There are \", data[i].isna().sum(), \"null values for \" + i)"
   ]
  },
  {
   "cell_type": "markdown",
   "metadata": {},
   "source": [
    "There are many missing values for Credit Score, Annual Income and Months since last delinquency. The following missing tratments are applied: <br>\n",
    "- impute the missing annual income with the mean <br> \n",
    "- impute the missing values for credit score with 2 different means based on short and long-term debt <br> \n",
    "- drop Months since last delinquency as it is used for calculating other key variables\n",
    "- drop missing observations for the other variables"
   ]
  },
  {
   "cell_type": "code",
   "execution_count": 7,
   "metadata": {},
   "outputs": [
    {
     "data": {
      "application/javascript": [
       "\n",
       "            setTimeout(function() {\n",
       "                var nbb_cell_id = 7;\n",
       "                var nbb_unformatted_code = \"# Remove missing values for target variable\\ndata.dropna(subset=[\\\"Loan Status\\\"], inplace=True)\";\n",
       "                var nbb_formatted_code = \"# Remove missing values for target variable\\ndata.dropna(subset=[\\\"Loan Status\\\"], inplace=True)\";\n",
       "                var nbb_cells = Jupyter.notebook.get_cells();\n",
       "                for (var i = 0; i < nbb_cells.length; ++i) {\n",
       "                    if (nbb_cells[i].input_prompt_number == nbb_cell_id) {\n",
       "                        if (nbb_cells[i].get_text() == nbb_unformatted_code) {\n",
       "                             nbb_cells[i].set_text(nbb_formatted_code);\n",
       "                        }\n",
       "                        break;\n",
       "                    }\n",
       "                }\n",
       "            }, 500);\n",
       "            "
      ],
      "text/plain": [
       "<IPython.core.display.Javascript object>"
      ]
     },
     "metadata": {},
     "output_type": "display_data"
    }
   ],
   "source": [
    "# Remove missing values for target variable\n",
    "data.dropna(subset=[\"Loan Status\"], inplace=True)"
   ]
  },
  {
   "cell_type": "code",
   "execution_count": 8,
   "metadata": {},
   "outputs": [
    {
     "data": {
      "application/javascript": [
       "\n",
       "            setTimeout(function() {\n",
       "                var nbb_cell_id = 8;\n",
       "                var nbb_unformatted_code = \"# Impute missing values for annual income with the mean\\ndata[\\\"Annual Income\\\"].fillna(data[\\\"Annual Income\\\"].mean(), inplace=True)\";\n",
       "                var nbb_formatted_code = \"# Impute missing values for annual income with the mean\\ndata[\\\"Annual Income\\\"].fillna(data[\\\"Annual Income\\\"].mean(), inplace=True)\";\n",
       "                var nbb_cells = Jupyter.notebook.get_cells();\n",
       "                for (var i = 0; i < nbb_cells.length; ++i) {\n",
       "                    if (nbb_cells[i].input_prompt_number == nbb_cell_id) {\n",
       "                        if (nbb_cells[i].get_text() == nbb_unformatted_code) {\n",
       "                             nbb_cells[i].set_text(nbb_formatted_code);\n",
       "                        }\n",
       "                        break;\n",
       "                    }\n",
       "                }\n",
       "            }, 500);\n",
       "            "
      ],
      "text/plain": [
       "<IPython.core.display.Javascript object>"
      ]
     },
     "metadata": {},
     "output_type": "display_data"
    }
   ],
   "source": [
    "# Impute missing values for annual income with the mean\n",
    "data[\"Annual Income\"].fillna(data[\"Annual Income\"].mean(), inplace=True)"
   ]
  },
  {
   "cell_type": "code",
   "execution_count": 9,
   "metadata": {},
   "outputs": [
    {
     "data": {
      "application/javascript": [
       "\n",
       "            setTimeout(function() {\n",
       "                var nbb_cell_id = 9;\n",
       "                var nbb_unformatted_code = \"# Rescale credit scores above 850\\ndata[\\\"Credit Score\\\"] = data[\\\"Credit Score\\\"].apply(\\n    lambda val: (val / 10) if val > 850 else val\\n)\";\n",
       "                var nbb_formatted_code = \"# Rescale credit scores above 850\\ndata[\\\"Credit Score\\\"] = data[\\\"Credit Score\\\"].apply(\\n    lambda val: (val / 10) if val > 850 else val\\n)\";\n",
       "                var nbb_cells = Jupyter.notebook.get_cells();\n",
       "                for (var i = 0; i < nbb_cells.length; ++i) {\n",
       "                    if (nbb_cells[i].input_prompt_number == nbb_cell_id) {\n",
       "                        if (nbb_cells[i].get_text() == nbb_unformatted_code) {\n",
       "                             nbb_cells[i].set_text(nbb_formatted_code);\n",
       "                        }\n",
       "                        break;\n",
       "                    }\n",
       "                }\n",
       "            }, 500);\n",
       "            "
      ],
      "text/plain": [
       "<IPython.core.display.Javascript object>"
      ]
     },
     "metadata": {},
     "output_type": "display_data"
    }
   ],
   "source": [
    "# Rescale credit scores above 850\n",
    "data[\"Credit Score\"] = data[\"Credit Score\"].apply(\n",
    "    lambda val: (val / 10) if val > 850 else val\n",
    ")"
   ]
  },
  {
   "cell_type": "code",
   "execution_count": 10,
   "metadata": {},
   "outputs": [
    {
     "name": "stdout",
     "output_type": "stream",
     "text": [
      "724.6209386906824\n",
      "695.483727170432\n"
     ]
    },
    {
     "data": {
      "application/javascript": [
       "\n",
       "            setTimeout(function() {\n",
       "                var nbb_cell_id = 10;\n",
       "                var nbb_unformatted_code = \"# Impute missing values for credit score and annual income with 2 different means based on short and long-term debt\\ncscoredf = data[data[\\\"Term\\\"] == \\\"Short Term\\\"]\\nstermAVG = cscoredf[\\\"Credit Score\\\"].mean()\\nprint(stermAVG)\\nlscoredf = data[data[\\\"Term\\\"] == \\\"Long Term\\\"]\\nltermAVG = lscoredf[\\\"Credit Score\\\"].mean()\\nprint(ltermAVG)\\ndata.loc[(data.Term == 0) & (data[\\\"Credit Score\\\"].isnull()), \\\"Credit Score\\\"] = stermAVG\\ndata.loc[(data.Term == 1) & (data[\\\"Credit Score\\\"].isnull()), \\\"Credit Score\\\"] = ltermAVG\";\n",
       "                var nbb_formatted_code = \"# Impute missing values for credit score and annual income with 2 different means based on short and long-term debt\\ncscoredf = data[data[\\\"Term\\\"] == \\\"Short Term\\\"]\\nstermAVG = cscoredf[\\\"Credit Score\\\"].mean()\\nprint(stermAVG)\\nlscoredf = data[data[\\\"Term\\\"] == \\\"Long Term\\\"]\\nltermAVG = lscoredf[\\\"Credit Score\\\"].mean()\\nprint(ltermAVG)\\ndata.loc[(data.Term == 0) & (data[\\\"Credit Score\\\"].isnull()), \\\"Credit Score\\\"] = stermAVG\\ndata.loc[(data.Term == 1) & (data[\\\"Credit Score\\\"].isnull()), \\\"Credit Score\\\"] = ltermAVG\";\n",
       "                var nbb_cells = Jupyter.notebook.get_cells();\n",
       "                for (var i = 0; i < nbb_cells.length; ++i) {\n",
       "                    if (nbb_cells[i].input_prompt_number == nbb_cell_id) {\n",
       "                        if (nbb_cells[i].get_text() == nbb_unformatted_code) {\n",
       "                             nbb_cells[i].set_text(nbb_formatted_code);\n",
       "                        }\n",
       "                        break;\n",
       "                    }\n",
       "                }\n",
       "            }, 500);\n",
       "            "
      ],
      "text/plain": [
       "<IPython.core.display.Javascript object>"
      ]
     },
     "metadata": {},
     "output_type": "display_data"
    }
   ],
   "source": [
    "# Impute missing values for credit score and annual income with 2 different means based on short and long-term debt\n",
    "cscoredf = data[data[\"Term\"] == \"Short Term\"]\n",
    "stermAVG = cscoredf[\"Credit Score\"].mean()\n",
    "print(stermAVG)\n",
    "lscoredf = data[data[\"Term\"] == \"Long Term\"]\n",
    "ltermAVG = lscoredf[\"Credit Score\"].mean()\n",
    "print(ltermAVG)\n",
    "data.loc[(data.Term == 0) & (data[\"Credit Score\"].isnull()), \"Credit Score\"] = stermAVG\n",
    "data.loc[(data.Term == 1) & (data[\"Credit Score\"].isnull()), \"Credit Score\"] = ltermAVG"
   ]
  },
  {
   "cell_type": "code",
   "execution_count": 11,
   "metadata": {},
   "outputs": [
    {
     "data": {
      "application/javascript": [
       "\n",
       "            setTimeout(function() {\n",
       "                var nbb_cell_id = 11;\n",
       "                var nbb_unformatted_code = \"# Create default flag\\ndata[\\\"default\\\"] = data[\\\"Loan Status\\\"].apply(lambda x: 0 if x == \\\"Fully Paid\\\" else 1)\";\n",
       "                var nbb_formatted_code = \"# Create default flag\\ndata[\\\"default\\\"] = data[\\\"Loan Status\\\"].apply(lambda x: 0 if x == \\\"Fully Paid\\\" else 1)\";\n",
       "                var nbb_cells = Jupyter.notebook.get_cells();\n",
       "                for (var i = 0; i < nbb_cells.length; ++i) {\n",
       "                    if (nbb_cells[i].input_prompt_number == nbb_cell_id) {\n",
       "                        if (nbb_cells[i].get_text() == nbb_unformatted_code) {\n",
       "                             nbb_cells[i].set_text(nbb_formatted_code);\n",
       "                        }\n",
       "                        break;\n",
       "                    }\n",
       "                }\n",
       "            }, 500);\n",
       "            "
      ],
      "text/plain": [
       "<IPython.core.display.Javascript object>"
      ]
     },
     "metadata": {},
     "output_type": "display_data"
    }
   ],
   "source": [
    "# Create default flag\n",
    "data[\"default\"] = data[\"Loan Status\"].apply(lambda x: 0 if x == \"Fully Paid\" else 1)"
   ]
  },
  {
   "cell_type": "code",
   "execution_count": 12,
   "metadata": {},
   "outputs": [
    {
     "data": {
      "application/javascript": [
       "\n",
       "            setTimeout(function() {\n",
       "                var nbb_cell_id = 12;\n",
       "                var nbb_unformatted_code = \"# Remove fields that are not needed\\ndata.drop(\\n    labels=[\\\"Loan ID\\\", \\\"Customer ID\\\", \\\"Loan Status\\\", \\\"Months since last delinquent\\\",],\\n    axis=1,\\n    inplace=True,\\n)\";\n",
       "                var nbb_formatted_code = \"# Remove fields that are not needed\\ndata.drop(\\n    labels=[\\\"Loan ID\\\", \\\"Customer ID\\\", \\\"Loan Status\\\", \\\"Months since last delinquent\\\",],\\n    axis=1,\\n    inplace=True,\\n)\";\n",
       "                var nbb_cells = Jupyter.notebook.get_cells();\n",
       "                for (var i = 0; i < nbb_cells.length; ++i) {\n",
       "                    if (nbb_cells[i].input_prompt_number == nbb_cell_id) {\n",
       "                        if (nbb_cells[i].get_text() == nbb_unformatted_code) {\n",
       "                             nbb_cells[i].set_text(nbb_formatted_code);\n",
       "                        }\n",
       "                        break;\n",
       "                    }\n",
       "                }\n",
       "            }, 500);\n",
       "            "
      ],
      "text/plain": [
       "<IPython.core.display.Javascript object>"
      ]
     },
     "metadata": {},
     "output_type": "display_data"
    }
   ],
   "source": [
    "# Remove fields that are not needed\n",
    "data.drop(\n",
    "    labels=[\"Loan ID\", \"Customer ID\", \"Loan Status\", \"Months since last delinquent\",],\n",
    "    axis=1,\n",
    "    inplace=True,\n",
    ")"
   ]
  },
  {
   "cell_type": "code",
   "execution_count": 13,
   "metadata": {},
   "outputs": [
    {
     "data": {
      "text/plain": [
       "Index(['Current Loan Amount', 'Term', 'Credit Score', 'Annual Income',\n",
       "       'Years in current job', 'Home Ownership', 'Purpose', 'Monthly Debt',\n",
       "       'Years of Credit History', 'Number of Open Accounts',\n",
       "       'Number of Credit Problems', 'Current Credit Balance',\n",
       "       'Maximum Open Credit', 'Bankruptcies', 'Tax Liens', 'default'],\n",
       "      dtype='object')"
      ]
     },
     "execution_count": 13,
     "metadata": {},
     "output_type": "execute_result"
    },
    {
     "data": {
      "application/javascript": [
       "\n",
       "            setTimeout(function() {\n",
       "                var nbb_cell_id = 13;\n",
       "                var nbb_unformatted_code = \"data.columns\";\n",
       "                var nbb_formatted_code = \"data.columns\";\n",
       "                var nbb_cells = Jupyter.notebook.get_cells();\n",
       "                for (var i = 0; i < nbb_cells.length; ++i) {\n",
       "                    if (nbb_cells[i].input_prompt_number == nbb_cell_id) {\n",
       "                        if (nbb_cells[i].get_text() == nbb_unformatted_code) {\n",
       "                             nbb_cells[i].set_text(nbb_formatted_code);\n",
       "                        }\n",
       "                        break;\n",
       "                    }\n",
       "                }\n",
       "            }, 500);\n",
       "            "
      ],
      "text/plain": [
       "<IPython.core.display.Javascript object>"
      ]
     },
     "metadata": {},
     "output_type": "display_data"
    }
   ],
   "source": [
    "data.columns"
   ]
  },
  {
   "cell_type": "code",
   "execution_count": 14,
   "metadata": {},
   "outputs": [
    {
     "name": "stdout",
     "output_type": "stream",
     "text": [
      "There are 100000 observations before applying treatment for missing values.\n",
      "There are 77271 observations after applying treatment for missing values.\n"
     ]
    },
    {
     "data": {
      "application/javascript": [
       "\n",
       "            setTimeout(function() {\n",
       "                var nbb_cell_id = 14;\n",
       "                var nbb_unformatted_code = \"print(\\n    \\\"There are\\\",\\n    len(data),\\n    \\\"observations before applying treatment for missing values.\\\",\\n)\\n\\ndata_dropna = data.dropna()\\nprint(\\n    \\\"There are\\\",\\n    len(data_dropna),\\n    \\\"observations after applying treatment for missing values.\\\",\\n)\";\n",
       "                var nbb_formatted_code = \"print(\\n    \\\"There are\\\",\\n    len(data),\\n    \\\"observations before applying treatment for missing values.\\\",\\n)\\n\\ndata_dropna = data.dropna()\\nprint(\\n    \\\"There are\\\",\\n    len(data_dropna),\\n    \\\"observations after applying treatment for missing values.\\\",\\n)\";\n",
       "                var nbb_cells = Jupyter.notebook.get_cells();\n",
       "                for (var i = 0; i < nbb_cells.length; ++i) {\n",
       "                    if (nbb_cells[i].input_prompt_number == nbb_cell_id) {\n",
       "                        if (nbb_cells[i].get_text() == nbb_unformatted_code) {\n",
       "                             nbb_cells[i].set_text(nbb_formatted_code);\n",
       "                        }\n",
       "                        break;\n",
       "                    }\n",
       "                }\n",
       "            }, 500);\n",
       "            "
      ],
      "text/plain": [
       "<IPython.core.display.Javascript object>"
      ]
     },
     "metadata": {},
     "output_type": "display_data"
    }
   ],
   "source": [
    "print(\n",
    "    \"There are\",\n",
    "    len(data),\n",
    "    \"observations before applying treatment for missing values.\",\n",
    ")\n",
    "\n",
    "data_dropna = data.dropna()\n",
    "print(\n",
    "    \"There are\",\n",
    "    len(data_dropna),\n",
    "    \"observations after applying treatment for missing values.\",\n",
    ")"
   ]
  },
  {
   "cell_type": "markdown",
   "metadata": {},
   "source": [
    "## Correlations"
   ]
  },
  {
   "cell_type": "code",
   "execution_count": 15,
   "metadata": {},
   "outputs": [
    {
     "name": "stdout",
     "output_type": "stream",
     "text": [
      "<bound method NDFrame.tail of Credit Score                 1.000000\n",
      "Current Loan Amount          0.134951\n",
      "Years of Credit History      0.077718\n",
      "Maximum Open Credit          0.017392\n",
      "Annual Income               -0.005092\n",
      "Current Credit Balance      -0.015964\n",
      "Tax Liens                   -0.020593\n",
      "Number of Open Accounts     -0.030063\n",
      "Bankruptcies                -0.034479\n",
      "Number of Credit Problems   -0.047260\n",
      "Monthly Debt                -0.091347\n",
      "default                     -0.108485\n",
      "Name: Credit Score, dtype: float64>\n"
     ]
    },
    {
     "data": {
      "application/javascript": [
       "\n",
       "            setTimeout(function() {\n",
       "                var nbb_cell_id = 15;\n",
       "                var nbb_unformatted_code = \"# Find all correlations and sort\\ncorrelations_data = data.corr()[\\\"Credit Score\\\"].sort_values(ascending=False)\\n\\n# Print the correlations\\nprint(correlations_data.tail)\";\n",
       "                var nbb_formatted_code = \"# Find all correlations and sort\\ncorrelations_data = data.corr()[\\\"Credit Score\\\"].sort_values(ascending=False)\\n\\n# Print the correlations\\nprint(correlations_data.tail)\";\n",
       "                var nbb_cells = Jupyter.notebook.get_cells();\n",
       "                for (var i = 0; i < nbb_cells.length; ++i) {\n",
       "                    if (nbb_cells[i].input_prompt_number == nbb_cell_id) {\n",
       "                        if (nbb_cells[i].get_text() == nbb_unformatted_code) {\n",
       "                             nbb_cells[i].set_text(nbb_formatted_code);\n",
       "                        }\n",
       "                        break;\n",
       "                    }\n",
       "                }\n",
       "            }, 500);\n",
       "            "
      ],
      "text/plain": [
       "<IPython.core.display.Javascript object>"
      ]
     },
     "metadata": {},
     "output_type": "display_data"
    }
   ],
   "source": [
    "# Find all correlations and sort\n",
    "correlations_data = data.corr()[\"Credit Score\"].sort_values(ascending=False)\n",
    "\n",
    "# Print the correlations\n",
    "print(correlations_data.tail)"
   ]
  },
  {
   "cell_type": "code",
   "execution_count": 16,
   "metadata": {},
   "outputs": [
    {
     "data": {
      "text/plain": [
       "<matplotlib.axes._subplots.AxesSubplot at 0x1ce82b72548>"
      ]
     },
     "execution_count": 16,
     "metadata": {},
     "output_type": "execute_result"
    },
    {
     "data": {
      "image/png": "[encoded data removed]",
      "text/plain": [
       "<Figure size 576x432 with 2 Axes>"
      ]
     },
     "metadata": {},
     "output_type": "display_data"
    },
    {
     "data": {
      "application/javascript": [
       "\n",
       "            setTimeout(function() {\n",
       "                var nbb_cell_id = 16;\n",
       "                var nbb_unformatted_code = \"import seaborn as sns\\n\\nsns.set(style=\\\"white\\\")\\n\\n# Compute the correlation matrix\\ncorr = data.corr()\\n\\n# Generate a mask for the upper triangle\\nmask = np.triu(np.ones_like(corr, dtype=np.bool))\\n\\n# Set up the matplotlib figure\\nf, ax = plt.subplots(figsize=(8, 6))\\n\\n# Generate a custom diverging colormap\\ncmap = sns.diverging_palette(220, 10, as_cmap=True)\\n\\n# Draw the heatmap with the mask and correct aspect ratio\\nsns.heatmap(\\n    corr,\\n    mask=mask,\\n    cmap=cmap,\\n    vmax=0.3,\\n    center=0,\\n    square=True,\\n    linewidths=0.5,\\n    cbar_kws={\\\"shrink\\\": 0.5},\\n)\";\n",
       "                var nbb_formatted_code = \"import seaborn as sns\\n\\nsns.set(style=\\\"white\\\")\\n\\n# Compute the correlation matrix\\ncorr = data.corr()\\n\\n# Generate a mask for the upper triangle\\nmask = np.triu(np.ones_like(corr, dtype=np.bool))\\n\\n# Set up the matplotlib figure\\nf, ax = plt.subplots(figsize=(8, 6))\\n\\n# Generate a custom diverging colormap\\ncmap = sns.diverging_palette(220, 10, as_cmap=True)\\n\\n# Draw the heatmap with the mask and correct aspect ratio\\nsns.heatmap(\\n    corr,\\n    mask=mask,\\n    cmap=cmap,\\n    vmax=0.3,\\n    center=0,\\n    square=True,\\n    linewidths=0.5,\\n    cbar_kws={\\\"shrink\\\": 0.5},\\n)\";\n",
       "                var nbb_cells = Jupyter.notebook.get_cells();\n",
       "                for (var i = 0; i < nbb_cells.length; ++i) {\n",
       "                    if (nbb_cells[i].input_prompt_number == nbb_cell_id) {\n",
       "                        if (nbb_cells[i].get_text() == nbb_unformatted_code) {\n",
       "                             nbb_cells[i].set_text(nbb_formatted_code);\n",
       "                        }\n",
       "                        break;\n",
       "                    }\n",
       "                }\n",
       "            }, 500);\n",
       "            "
      ],
      "text/plain": [
       "<IPython.core.display.Javascript object>"
      ]
     },
     "metadata": {},
     "output_type": "display_data"
    }
   ],
   "source": [
    "import seaborn as sns\n",
    "\n",
    "sns.set(style=\"white\")\n",
    "\n",
    "# Compute the correlation matrix\n",
    "corr = data.corr()\n",
    "\n",
    "# Generate a mask for the upper triangle\n",
    "mask = np.triu(np.ones_like(corr, dtype=np.bool))\n",
    "\n",
    "# Set up the matplotlib figure\n",
    "f, ax = plt.subplots(figsize=(8, 6))\n",
    "\n",
    "# Generate a custom diverging colormap\n",
    "cmap = sns.diverging_palette(220, 10, as_cmap=True)\n",
    "\n",
    "# Draw the heatmap with the mask and correct aspect ratio\n",
    "sns.heatmap(\n",
    "    corr,\n",
    "    mask=mask,\n",
    "    cmap=cmap,\n",
    "    vmax=0.3,\n",
    "    center=0,\n",
    "    square=True,\n",
    "    linewidths=0.5,\n",
    "    cbar_kws={\"shrink\": 0.5},\n",
    ")"
   ]
  },
  {
   "cell_type": "markdown",
   "metadata": {},
   "source": [
    "## Univariate Analysis"
   ]
  },
  {
   "cell_type": "markdown",
   "metadata": {},
   "source": [
    "1. Fine and coarse classing <br>\n",
    "2. Check if the explanatory variables have reasonable trends <br>"
   ]
  },
  {
   "cell_type": "markdown",
   "metadata": {},
   "source": [
    "#### Target Variable - Default flag"
   ]
  },
  {
   "cell_type": "code",
   "execution_count": 17,
   "metadata": {},
   "outputs": [
    {
     "data": {
      "text/plain": [
       "<matplotlib.axes._subplots.AxesSubplot at 0x1ce84d4bac8>"
      ]
     },
     "execution_count": 17,
     "metadata": {},
     "output_type": "execute_result"
    },
    {
     "data": {
      "image/png": "[encoded data removed]",
      "text/plain": [
       "<Figure size 432x288 with 1 Axes>"
      ]
     },
     "metadata": {},
     "output_type": "display_data"
    },
    {
     "data": {
      "application/javascript": [
       "\n",
       "            setTimeout(function() {\n",
       "                var nbb_cell_id = 17;\n",
       "                var nbb_unformatted_code = \"coffvalue = data_dropna[data_dropna[\\\"default\\\"] == 0][\\\"default\\\"].count()\\nfpaidvalue = data_dropna[data_dropna[\\\"default\\\"] == 1][\\\"default\\\"].count()\\ndata_plot = {\\\"Counts\\\": [coffvalue, fpaidvalue]}\\nstatusDF = pd.DataFrame(data_plot, index=[1, 0])\\n# statusDF.head()\\nstatusDF.plot(kind=\\\"bar\\\", color=\\\"cadetblue\\\", title=\\\"Status of the Loan\\\")\";\n",
       "                var nbb_formatted_code = \"coffvalue = data_dropna[data_dropna[\\\"default\\\"] == 0][\\\"default\\\"].count()\\nfpaidvalue = data_dropna[data_dropna[\\\"default\\\"] == 1][\\\"default\\\"].count()\\ndata_plot = {\\\"Counts\\\": [coffvalue, fpaidvalue]}\\nstatusDF = pd.DataFrame(data_plot, index=[1, 0])\\n# statusDF.head()\\nstatusDF.plot(kind=\\\"bar\\\", color=\\\"cadetblue\\\", title=\\\"Status of the Loan\\\")\";\n",
       "                var nbb_cells = Jupyter.notebook.get_cells();\n",
       "                for (var i = 0; i < nbb_cells.length; ++i) {\n",
       "                    if (nbb_cells[i].input_prompt_number == nbb_cell_id) {\n",
       "                        if (nbb_cells[i].get_text() == nbb_unformatted_code) {\n",
       "                             nbb_cells[i].set_text(nbb_formatted_code);\n",
       "                        }\n",
       "                        break;\n",
       "                    }\n",
       "                }\n",
       "            }, 500);\n",
       "            "
      ],
      "text/plain": [
       "<IPython.core.display.Javascript object>"
      ]
     },
     "metadata": {},
     "output_type": "display_data"
    }
   ],
   "source": [
    "coffvalue = data_dropna[data_dropna[\"default\"] == 0][\"default\"].count()\n",
    "fpaidvalue = data_dropna[data_dropna[\"default\"] == 1][\"default\"].count()\n",
    "data_plot = {\"Counts\": [coffvalue, fpaidvalue]}\n",
    "statusDF = pd.DataFrame(data_plot, index=[1, 0])\n",
    "# statusDF.head()\n",
    "statusDF.plot(kind=\"bar\", color=\"cadetblue\", title=\"Status of the Loan\")"
   ]
  },
  {
   "cell_type": "code",
   "execution_count": 18,
   "metadata": {},
   "outputs": [
    {
     "data": {
      "text/html": [
       "<div>\n",
       "<style scoped>\n",
       "    .dataframe tbody tr th:only-of-type {\n",
       "        vertical-align: middle;\n",
       "    }\n",
       "\n",
       "    .dataframe tbody tr th {\n",
       "        vertical-align: top;\n",
       "    }\n",
       "\n",
       "    .dataframe thead th {\n",
       "        text-align: right;\n",
       "    }\n",
       "</style>\n",
       "<table border=\"1\" class=\"dataframe\">\n",
       "  <thead>\n",
       "    <tr style=\"text-align: right;\">\n",
       "      <th></th>\n",
       "      <th>Count default</th>\n",
       "    </tr>\n",
       "  </thead>\n",
       "  <tbody>\n",
       "    <tr>\n",
       "      <th>Performing</th>\n",
       "      <td>61057</td>\n",
       "    </tr>\n",
       "    <tr>\n",
       "      <th>Default</th>\n",
       "      <td>16214</td>\n",
       "    </tr>\n",
       "  </tbody>\n",
       "</table>\n",
       "</div>"
      ],
      "text/plain": [
       "            Count default\n",
       "Performing          61057\n",
       "Default             16214"
      ]
     },
     "execution_count": 18,
     "metadata": {},
     "output_type": "execute_result"
    },
    {
     "data": {
      "application/javascript": [
       "\n",
       "            setTimeout(function() {\n",
       "                var nbb_cell_id = 18;\n",
       "                var nbb_unformatted_code = \"performing = data_dropna[data_dropna[\\\"default\\\"] == 0][\\\"default\\\"].count()\\ndefaults = data_dropna[data_dropna[\\\"default\\\"] == 1][\\\"default\\\"].count()\\n\\ncount_defaults = {\\\"Count default\\\": [performing, defaults]}\\ncount_defaults_df = pd.DataFrame(count_defaults, index=[\\\"Performing\\\", \\\"Default\\\"])\\ncount_defaults_df.head()\";\n",
       "                var nbb_formatted_code = \"performing = data_dropna[data_dropna[\\\"default\\\"] == 0][\\\"default\\\"].count()\\ndefaults = data_dropna[data_dropna[\\\"default\\\"] == 1][\\\"default\\\"].count()\\n\\ncount_defaults = {\\\"Count default\\\": [performing, defaults]}\\ncount_defaults_df = pd.DataFrame(count_defaults, index=[\\\"Performing\\\", \\\"Default\\\"])\\ncount_defaults_df.head()\";\n",
       "                var nbb_cells = Jupyter.notebook.get_cells();\n",
       "                for (var i = 0; i < nbb_cells.length; ++i) {\n",
       "                    if (nbb_cells[i].input_prompt_number == nbb_cell_id) {\n",
       "                        if (nbb_cells[i].get_text() == nbb_unformatted_code) {\n",
       "                             nbb_cells[i].set_text(nbb_formatted_code);\n",
       "                        }\n",
       "                        break;\n",
       "                    }\n",
       "                }\n",
       "            }, 500);\n",
       "            "
      ],
      "text/plain": [
       "<IPython.core.display.Javascript object>"
      ]
     },
     "metadata": {},
     "output_type": "display_data"
    }
   ],
   "source": [
    "performing = data_dropna[data_dropna[\"default\"] == 0][\"default\"].count()\n",
    "defaults = data_dropna[data_dropna[\"default\"] == 1][\"default\"].count()\n",
    "\n",
    "count_defaults = {\"Count default\": [performing, defaults]}\n",
    "count_defaults_df = pd.DataFrame(count_defaults, index=[\"Performing\", \"Default\"])\n",
    "count_defaults_df.head()"
   ]
  },
  {
   "cell_type": "markdown",
   "metadata": {},
   "source": [
    "#### Credit Score"
   ]
  },
  {
   "cell_type": "code",
   "execution_count": 19,
   "metadata": {},
   "outputs": [
    {
     "name": "stderr",
     "output_type": "stream",
     "text": [
      "C:\\Users\\Asus\\.conda\\envs\\py37\\lib\\site-packages\\ipykernel_launcher.py:2: SettingWithCopyWarning: \n",
      "A value is trying to be set on a copy of a slice from a DataFrame.\n",
      "Try using .loc[row_indexer,col_indexer] = value instead\n",
      "\n",
      "See the caveats in the documentation: http://pandas.pydata.org/pandas-docs/stable/indexing.html#indexing-view-versus-copy\n",
      "  \n",
      "C:\\Users\\Asus\\.conda\\envs\\py37\\lib\\site-packages\\ipykernel_launcher.py:5: SettingWithCopyWarning: \n",
      "A value is trying to be set on a copy of a slice from a DataFrame.\n",
      "Try using .loc[row_indexer,col_indexer] = value instead\n",
      "\n",
      "See the caveats in the documentation: http://pandas.pydata.org/pandas-docs/stable/indexing.html#indexing-view-versus-copy\n",
      "  \"\"\"\n",
      "C:\\Users\\Asus\\.conda\\envs\\py37\\lib\\site-packages\\ipykernel_launcher.py:8: SettingWithCopyWarning: \n",
      "A value is trying to be set on a copy of a slice from a DataFrame.\n",
      "Try using .loc[row_indexer,col_indexer] = value instead\n",
      "\n",
      "See the caveats in the documentation: http://pandas.pydata.org/pandas-docs/stable/indexing.html#indexing-view-versus-copy\n",
      "  \n",
      "C:\\Users\\Asus\\.conda\\envs\\py37\\lib\\site-packages\\ipykernel_launcher.py:11: SettingWithCopyWarning: \n",
      "A value is trying to be set on a copy of a slice from a DataFrame.\n",
      "Try using .loc[row_indexer,col_indexer] = value instead\n",
      "\n",
      "See the caveats in the documentation: http://pandas.pydata.org/pandas-docs/stable/indexing.html#indexing-view-versus-copy\n",
      "  # This is added back by InteractiveShellApp.init_path()\n",
      "C:\\Users\\Asus\\.conda\\envs\\py37\\lib\\site-packages\\ipykernel_launcher.py:14: SettingWithCopyWarning: \n",
      "A value is trying to be set on a copy of a slice from a DataFrame.\n",
      "Try using .loc[row_indexer,col_indexer] = value instead\n",
      "\n",
      "See the caveats in the documentation: http://pandas.pydata.org/pandas-docs/stable/indexing.html#indexing-view-versus-copy\n",
      "  \n"
     ]
    },
    {
     "data": {
      "application/javascript": [
       "\n",
       "            setTimeout(function() {\n",
       "                var nbb_cell_id = 19;\n",
       "                var nbb_unformatted_code = \"data_dropna[\\\"Credit Score\\\"] = data_dropna[\\\"Credit Score\\\"].apply(\\n    lambda val: \\\"Poor\\\" if np.isreal(val) and val < 580 else val\\n)\\ndata_dropna[\\\"Credit Score\\\"] = data_dropna[\\\"Credit Score\\\"].apply(\\n    lambda val: \\\"Average\\\" if np.isreal(val) and (val >= 580 and val < 670) else val\\n)\\ndata_dropna[\\\"Credit Score\\\"] = data_dropna[\\\"Credit Score\\\"].apply(\\n    lambda val: \\\"Good\\\" if np.isreal(val) and (val >= 670 and val < 740) else val\\n)\\ndata_dropna[\\\"Credit Score\\\"] = data_dropna[\\\"Credit Score\\\"].apply(\\n    lambda val: \\\"Very Good\\\" if np.isreal(val) and (val >= 740 and val < 800) else val\\n)\\ndata_dropna[\\\"Credit Score\\\"] = data_dropna[\\\"Credit Score\\\"].apply(\\n    lambda val: \\\"Exceptional\\\" if np.isreal(val) and (val >= 800 and val <= 850) else val\\n)\";\n",
       "                var nbb_formatted_code = \"data_dropna[\\\"Credit Score\\\"] = data_dropna[\\\"Credit Score\\\"].apply(\\n    lambda val: \\\"Poor\\\" if np.isreal(val) and val < 580 else val\\n)\\ndata_dropna[\\\"Credit Score\\\"] = data_dropna[\\\"Credit Score\\\"].apply(\\n    lambda val: \\\"Average\\\" if np.isreal(val) and (val >= 580 and val < 670) else val\\n)\\ndata_dropna[\\\"Credit Score\\\"] = data_dropna[\\\"Credit Score\\\"].apply(\\n    lambda val: \\\"Good\\\" if np.isreal(val) and (val >= 670 and val < 740) else val\\n)\\ndata_dropna[\\\"Credit Score\\\"] = data_dropna[\\\"Credit Score\\\"].apply(\\n    lambda val: \\\"Very Good\\\" if np.isreal(val) and (val >= 740 and val < 800) else val\\n)\\ndata_dropna[\\\"Credit Score\\\"] = data_dropna[\\\"Credit Score\\\"].apply(\\n    lambda val: \\\"Exceptional\\\" if np.isreal(val) and (val >= 800 and val <= 850) else val\\n)\";\n",
       "                var nbb_cells = Jupyter.notebook.get_cells();\n",
       "                for (var i = 0; i < nbb_cells.length; ++i) {\n",
       "                    if (nbb_cells[i].input_prompt_number == nbb_cell_id) {\n",
       "                        if (nbb_cells[i].get_text() == nbb_unformatted_code) {\n",
       "                             nbb_cells[i].set_text(nbb_formatted_code);\n",
       "                        }\n",
       "                        break;\n",
       "                    }\n",
       "                }\n",
       "            }, 500);\n",
       "            "
      ],
      "text/plain": [
       "<IPython.core.display.Javascript object>"
      ]
     },
     "metadata": {},
     "output_type": "display_data"
    }
   ],
   "source": [
    "data_dropna[\"Credit Score\"] = data_dropna[\"Credit Score\"].apply(\n",
    "    lambda val: \"Poor\" if np.isreal(val) and val < 580 else val\n",
    ")\n",
    "data_dropna[\"Credit Score\"] = data_dropna[\"Credit Score\"].apply(\n",
    "    lambda val: \"Average\" if np.isreal(val) and (val >= 580 and val < 670) else val\n",
    ")\n",
    "data_dropna[\"Credit Score\"] = data_dropna[\"Credit Score\"].apply(\n",
    "    lambda val: \"Good\" if np.isreal(val) and (val >= 670 and val < 740) else val\n",
    ")\n",
    "data_dropna[\"Credit Score\"] = data_dropna[\"Credit Score\"].apply(\n",
    "    lambda val: \"Very Good\" if np.isreal(val) and (val >= 740 and val < 800) else val\n",
    ")\n",
    "data_dropna[\"Credit Score\"] = data_dropna[\"Credit Score\"].apply(\n",
    "    lambda val: \"Exceptional\" if np.isreal(val) and (val >= 800 and val <= 850) else val\n",
    ")"
   ]
  },
  {
   "cell_type": "code",
   "execution_count": 20,
   "metadata": {},
   "outputs": [
    {
     "data": {
      "text/html": [
       "<div>\n",
       "<style scoped>\n",
       "    .dataframe tbody tr th:only-of-type {\n",
       "        vertical-align: middle;\n",
       "    }\n",
       "\n",
       "    .dataframe tbody tr th {\n",
       "        vertical-align: top;\n",
       "    }\n",
       "\n",
       "    .dataframe thead th {\n",
       "        text-align: right;\n",
       "    }\n",
       "</style>\n",
       "<table border=\"1\" class=\"dataframe\">\n",
       "  <thead>\n",
       "    <tr style=\"text-align: right;\">\n",
       "      <th>default</th>\n",
       "      <th>0</th>\n",
       "      <th>1</th>\n",
       "    </tr>\n",
       "    <tr>\n",
       "      <th>Credit Score</th>\n",
       "      <th></th>\n",
       "      <th></th>\n",
       "    </tr>\n",
       "  </thead>\n",
       "  <tbody>\n",
       "    <tr>\n",
       "      <th>Average</th>\n",
       "      <td>3861</td>\n",
       "      <td>1907</td>\n",
       "    </tr>\n",
       "    <tr>\n",
       "      <th>Good</th>\n",
       "      <td>41930</td>\n",
       "      <td>11908</td>\n",
       "    </tr>\n",
       "    <tr>\n",
       "      <th>Very Good</th>\n",
       "      <td>15266</td>\n",
       "      <td>2399</td>\n",
       "    </tr>\n",
       "  </tbody>\n",
       "</table>\n",
       "</div>"
      ],
      "text/plain": [
       "default           0      1\n",
       "Credit Score              \n",
       "Average        3861   1907\n",
       "Good          41930  11908\n",
       "Very Good     15266   2399"
      ]
     },
     "execution_count": 20,
     "metadata": {},
     "output_type": "execute_result"
    },
    {
     "data": {
      "application/javascript": [
       "\n",
       "            setTimeout(function() {\n",
       "                var nbb_cell_id = 20;\n",
       "                var nbb_unformatted_code = \"pd.crosstab(data_dropna[\\\"Credit Score\\\"], data_dropna[\\\"default\\\"])\";\n",
       "                var nbb_formatted_code = \"pd.crosstab(data_dropna[\\\"Credit Score\\\"], data_dropna[\\\"default\\\"])\";\n",
       "                var nbb_cells = Jupyter.notebook.get_cells();\n",
       "                for (var i = 0; i < nbb_cells.length; ++i) {\n",
       "                    if (nbb_cells[i].input_prompt_number == nbb_cell_id) {\n",
       "                        if (nbb_cells[i].get_text() == nbb_unformatted_code) {\n",
       "                             nbb_cells[i].set_text(nbb_formatted_code);\n",
       "                        }\n",
       "                        break;\n",
       "                    }\n",
       "                }\n",
       "            }, 500);\n",
       "            "
      ],
      "text/plain": [
       "<IPython.core.display.Javascript object>"
      ]
     },
     "metadata": {},
     "output_type": "display_data"
    }
   ],
   "source": [
    "pd.crosstab(data_dropna[\"Credit Score\"], data_dropna[\"default\"])"
   ]
  },
  {
   "cell_type": "code",
   "execution_count": 21,
   "metadata": {},
   "outputs": [
    {
     "data": {
      "text/html": [
       "<div>\n",
       "<style scoped>\n",
       "    .dataframe tbody tr th:only-of-type {\n",
       "        vertical-align: middle;\n",
       "    }\n",
       "\n",
       "    .dataframe tbody tr th {\n",
       "        vertical-align: top;\n",
       "    }\n",
       "\n",
       "    .dataframe thead th {\n",
       "        text-align: right;\n",
       "    }\n",
       "</style>\n",
       "<table border=\"1\" class=\"dataframe\">\n",
       "  <thead>\n",
       "    <tr style=\"text-align: right;\">\n",
       "      <th>default</th>\n",
       "      <th>0</th>\n",
       "      <th>1</th>\n",
       "    </tr>\n",
       "    <tr>\n",
       "      <th>Credit Score</th>\n",
       "      <th></th>\n",
       "      <th></th>\n",
       "    </tr>\n",
       "  </thead>\n",
       "  <tbody>\n",
       "    <tr>\n",
       "      <th>Average</th>\n",
       "      <td>0.669383</td>\n",
       "      <td>0.330617</td>\n",
       "    </tr>\n",
       "    <tr>\n",
       "      <th>Good</th>\n",
       "      <td>0.778818</td>\n",
       "      <td>0.221182</td>\n",
       "    </tr>\n",
       "    <tr>\n",
       "      <th>Very Good</th>\n",
       "      <td>0.864195</td>\n",
       "      <td>0.135805</td>\n",
       "    </tr>\n",
       "  </tbody>\n",
       "</table>\n",
       "</div>"
      ],
      "text/plain": [
       "default              0         1\n",
       "Credit Score                    \n",
       "Average       0.669383  0.330617\n",
       "Good          0.778818  0.221182\n",
       "Very Good     0.864195  0.135805"
      ]
     },
     "execution_count": 21,
     "metadata": {},
     "output_type": "execute_result"
    },
    {
     "data": {
      "application/javascript": [
       "\n",
       "            setTimeout(function() {\n",
       "                var nbb_cell_id = 21;\n",
       "                var nbb_unformatted_code = \"pd.crosstab(data_dropna[\\\"Credit Score\\\"], data_dropna[\\\"default\\\"]).apply(\\n    lambda r: r / r.sum(), axis=1\\n)\";\n",
       "                var nbb_formatted_code = \"pd.crosstab(data_dropna[\\\"Credit Score\\\"], data_dropna[\\\"default\\\"]).apply(\\n    lambda r: r / r.sum(), axis=1\\n)\";\n",
       "                var nbb_cells = Jupyter.notebook.get_cells();\n",
       "                for (var i = 0; i < nbb_cells.length; ++i) {\n",
       "                    if (nbb_cells[i].input_prompt_number == nbb_cell_id) {\n",
       "                        if (nbb_cells[i].get_text() == nbb_unformatted_code) {\n",
       "                             nbb_cells[i].set_text(nbb_formatted_code);\n",
       "                        }\n",
       "                        break;\n",
       "                    }\n",
       "                }\n",
       "            }, 500);\n",
       "            "
      ],
      "text/plain": [
       "<IPython.core.display.Javascript object>"
      ]
     },
     "metadata": {},
     "output_type": "display_data"
    }
   ],
   "source": [
    "pd.crosstab(data_dropna[\"Credit Score\"], data_dropna[\"default\"]).apply(\n",
    "    lambda r: r / r.sum(), axis=1\n",
    ")"
   ]
  },
  {
   "cell_type": "code",
   "execution_count": 22,
   "metadata": {},
   "outputs": [
    {
     "data": {
      "text/plain": [
       "Text(0, 0.5, 'Proportion of Defaults')"
      ]
     },
     "execution_count": 22,
     "metadata": {},
     "output_type": "execute_result"
    },
    {
     "data": {
      "image/png": "[encoded data removed]",
      "text/plain": [
       "<Figure size 432x288 with 1 Axes>"
      ]
     },
     "metadata": {},
     "output_type": "display_data"
    },
    {
     "data": {
      "application/javascript": [
       "\n",
       "            setTimeout(function() {\n",
       "                var nbb_cell_id = 22;\n",
       "                var nbb_unformatted_code = \"table = pd.crosstab(data_dropna[\\\"Credit Score\\\"], data_dropna[\\\"default\\\"])\\ntable.div(table.sum(1).astype(float), axis=0).plot(\\n    kind=\\\"bar\\\", color=[\\\"cadetblue\\\", \\\"crimson\\\"], stacked=True\\n)\\nplt.title(\\\"Stacked Bar Chart of Credit Score vs Default\\\")\\nplt.xlabel(\\\"Credit Score\\\")\\nplt.ylabel(\\\"Proportion of Defaults\\\")\";\n",
       "                var nbb_formatted_code = \"table = pd.crosstab(data_dropna[\\\"Credit Score\\\"], data_dropna[\\\"default\\\"])\\ntable.div(table.sum(1).astype(float), axis=0).plot(\\n    kind=\\\"bar\\\", color=[\\\"cadetblue\\\", \\\"crimson\\\"], stacked=True\\n)\\nplt.title(\\\"Stacked Bar Chart of Credit Score vs Default\\\")\\nplt.xlabel(\\\"Credit Score\\\")\\nplt.ylabel(\\\"Proportion of Defaults\\\")\";\n",
       "                var nbb_cells = Jupyter.notebook.get_cells();\n",
       "                for (var i = 0; i < nbb_cells.length; ++i) {\n",
       "                    if (nbb_cells[i].input_prompt_number == nbb_cell_id) {\n",
       "                        if (nbb_cells[i].get_text() == nbb_unformatted_code) {\n",
       "                             nbb_cells[i].set_text(nbb_formatted_code);\n",
       "                        }\n",
       "                        break;\n",
       "                    }\n",
       "                }\n",
       "            }, 500);\n",
       "            "
      ],
      "text/plain": [
       "<IPython.core.display.Javascript object>"
      ]
     },
     "metadata": {},
     "output_type": "display_data"
    }
   ],
   "source": [
    "table = pd.crosstab(data_dropna[\"Credit Score\"], data_dropna[\"default\"])\n",
    "table.div(table.sum(1).astype(float), axis=0).plot(\n",
    "    kind=\"bar\", color=[\"cadetblue\", \"crimson\"], stacked=True\n",
    ")\n",
    "plt.title(\"Stacked Bar Chart of Credit Score vs Default\")\n",
    "plt.xlabel(\"Credit Score\")\n",
    "plt.ylabel(\"Proportion of Defaults\")"
   ]
  },
  {
   "cell_type": "markdown",
   "metadata": {},
   "source": [
    "#### Current Loan Amount"
   ]
  },
  {
   "cell_type": "code",
   "execution_count": 23,
   "metadata": {},
   "outputs": [
    {
     "data": {
      "image/png": "[encoded data removed]",
      "text/plain": [
       "<Figure size 432x288 with 1 Axes>"
      ]
     },
     "metadata": {},
     "output_type": "display_data"
    },
    {
     "data": {
      "application/javascript": [
       "\n",
       "            setTimeout(function() {\n",
       "                var nbb_cell_id = 23;\n",
       "                var nbb_unformatted_code = \"plt.hist(data_dropna[\\\"Current Loan Amount\\\"], bins=5, color=\\\"cadetblue\\\")\\nplt.xticks(rotation=\\\"vertical\\\")\\nplt.show()\";\n",
       "                var nbb_formatted_code = \"plt.hist(data_dropna[\\\"Current Loan Amount\\\"], bins=5, color=\\\"cadetblue\\\")\\nplt.xticks(rotation=\\\"vertical\\\")\\nplt.show()\";\n",
       "                var nbb_cells = Jupyter.notebook.get_cells();\n",
       "                for (var i = 0; i < nbb_cells.length; ++i) {\n",
       "                    if (nbb_cells[i].input_prompt_number == nbb_cell_id) {\n",
       "                        if (nbb_cells[i].get_text() == nbb_unformatted_code) {\n",
       "                             nbb_cells[i].set_text(nbb_formatted_code);\n",
       "                        }\n",
       "                        break;\n",
       "                    }\n",
       "                }\n",
       "            }, 500);\n",
       "            "
      ],
      "text/plain": [
       "<IPython.core.display.Javascript object>"
      ]
     },
     "metadata": {},
     "output_type": "display_data"
    }
   ],
   "source": [
    "plt.hist(data_dropna[\"Current Loan Amount\"], bins=5, color=\"cadetblue\")\n",
    "plt.xticks(rotation=\"vertical\")\n",
    "plt.show()"
   ]
  },
  {
   "cell_type": "code",
   "execution_count": 24,
   "metadata": {},
   "outputs": [
    {
     "name": "stderr",
     "output_type": "stream",
     "text": [
      "C:\\Users\\Asus\\.conda\\envs\\py37\\lib\\site-packages\\ipykernel_launcher.py:2: SettingWithCopyWarning: \n",
      "A value is trying to be set on a copy of a slice from a DataFrame.\n",
      "Try using .loc[row_indexer,col_indexer] = value instead\n",
      "\n",
      "See the caveats in the documentation: http://pandas.pydata.org/pandas-docs/stable/indexing.html#indexing-view-versus-copy\n",
      "  \n",
      "C:\\Users\\Asus\\.conda\\envs\\py37\\lib\\site-packages\\ipykernel_launcher.py:5: SettingWithCopyWarning: \n",
      "A value is trying to be set on a copy of a slice from a DataFrame.\n",
      "Try using .loc[row_indexer,col_indexer] = value instead\n",
      "\n",
      "See the caveats in the documentation: http://pandas.pydata.org/pandas-docs/stable/indexing.html#indexing-view-versus-copy\n",
      "  \"\"\"\n",
      "C:\\Users\\Asus\\.conda\\envs\\py37\\lib\\site-packages\\ipykernel_launcher.py:10: SettingWithCopyWarning: \n",
      "A value is trying to be set on a copy of a slice from a DataFrame.\n",
      "Try using .loc[row_indexer,col_indexer] = value instead\n",
      "\n",
      "See the caveats in the documentation: http://pandas.pydata.org/pandas-docs/stable/indexing.html#indexing-view-versus-copy\n",
      "  # Remove the CWD from sys.path while we load stuff.\n",
      "C:\\Users\\Asus\\.conda\\envs\\py37\\lib\\site-packages\\ipykernel_launcher.py:15: SettingWithCopyWarning: \n",
      "A value is trying to be set on a copy of a slice from a DataFrame.\n",
      "Try using .loc[row_indexer,col_indexer] = value instead\n",
      "\n",
      "See the caveats in the documentation: http://pandas.pydata.org/pandas-docs/stable/indexing.html#indexing-view-versus-copy\n",
      "  from ipykernel import kernelapp as app\n",
      "C:\\Users\\Asus\\.conda\\envs\\py37\\lib\\site-packages\\ipykernel_launcher.py:20: SettingWithCopyWarning: \n",
      "A value is trying to be set on a copy of a slice from a DataFrame.\n",
      "Try using .loc[row_indexer,col_indexer] = value instead\n",
      "\n",
      "See the caveats in the documentation: http://pandas.pydata.org/pandas-docs/stable/indexing.html#indexing-view-versus-copy\n",
      "C:\\Users\\Asus\\.conda\\envs\\py37\\lib\\site-packages\\ipykernel_launcher.py:25: SettingWithCopyWarning: \n",
      "A value is trying to be set on a copy of a slice from a DataFrame.\n",
      "Try using .loc[row_indexer,col_indexer] = value instead\n",
      "\n",
      "See the caveats in the documentation: http://pandas.pydata.org/pandas-docs/stable/indexing.html#indexing-view-versus-copy\n"
     ]
    },
    {
     "data": {
      "application/javascript": [
       "\n",
       "            setTimeout(function() {\n",
       "                var nbb_cell_id = 24;\n",
       "                var nbb_unformatted_code = \"data_dropna[\\\"Current Loan Amount\\\"] = data_dropna[\\\"Current Loan Amount\\\"].apply(\\n    lambda val: \\\"LoanAmount 1: <=100 000\\\" if np.isreal(val) and val <= 100000 else val\\n)\\ndata_dropna[\\\"Current Loan Amount\\\"] = data_dropna[\\\"Current Loan Amount\\\"].apply(\\n    lambda val: \\\"LoanAmount 2: >100 000 and <=200 000 \\\"\\n    if np.isreal(val) and val > 100000 and val <= 200000\\n    else val\\n)\\ndata_dropna[\\\"Current Loan Amount\\\"] = data_dropna[\\\"Current Loan Amount\\\"].apply(\\n    lambda val: \\\"LoanAmount 3: >200 000 and <=300 000 \\\"\\n    if np.isreal(val) and val > 200000 and val <= 300000\\n    else val\\n)\\ndata_dropna[\\\"Current Loan Amount\\\"] = data_dropna[\\\"Current Loan Amount\\\"].apply(\\n    lambda val: \\\"LoanAmount 3: >300 000 and <=400 000 \\\"\\n    if np.isreal(val) and val > 300000 and val <= 400000\\n    else val\\n)\\ndata_dropna[\\\"Current Loan Amount\\\"] = data_dropna[\\\"Current Loan Amount\\\"].apply(\\n    lambda val: \\\"LoanAmount 4: >400 000 and <=500 000 \\\"\\n    if np.isreal(val) and val > 400000 and val <= 500000\\n    else val\\n)\\ndata_dropna[\\\"Current Loan Amount\\\"] = data_dropna[\\\"Current Loan Amount\\\"].apply(\\n    lambda val: \\\"LoanAmount 5: >500 000 \\\" if np.isreal(val) and val > 500000 else val\\n)\";\n",
       "                var nbb_formatted_code = \"data_dropna[\\\"Current Loan Amount\\\"] = data_dropna[\\\"Current Loan Amount\\\"].apply(\\n    lambda val: \\\"LoanAmount 1: <=100 000\\\" if np.isreal(val) and val <= 100000 else val\\n)\\ndata_dropna[\\\"Current Loan Amount\\\"] = data_dropna[\\\"Current Loan Amount\\\"].apply(\\n    lambda val: \\\"LoanAmount 2: >100 000 and <=200 000 \\\"\\n    if np.isreal(val) and val > 100000 and val <= 200000\\n    else val\\n)\\ndata_dropna[\\\"Current Loan Amount\\\"] = data_dropna[\\\"Current Loan Amount\\\"].apply(\\n    lambda val: \\\"LoanAmount 3: >200 000 and <=300 000 \\\"\\n    if np.isreal(val) and val > 200000 and val <= 300000\\n    else val\\n)\\ndata_dropna[\\\"Current Loan Amount\\\"] = data_dropna[\\\"Current Loan Amount\\\"].apply(\\n    lambda val: \\\"LoanAmount 3: >300 000 and <=400 000 \\\"\\n    if np.isreal(val) and val > 300000 and val <= 400000\\n    else val\\n)\\ndata_dropna[\\\"Current Loan Amount\\\"] = data_dropna[\\\"Current Loan Amount\\\"].apply(\\n    lambda val: \\\"LoanAmount 4: >400 000 and <=500 000 \\\"\\n    if np.isreal(val) and val > 400000 and val <= 500000\\n    else val\\n)\\ndata_dropna[\\\"Current Loan Amount\\\"] = data_dropna[\\\"Current Loan Amount\\\"].apply(\\n    lambda val: \\\"LoanAmount 5: >500 000 \\\" if np.isreal(val) and val > 500000 else val\\n)\";\n",
       "                var nbb_cells = Jupyter.notebook.get_cells();\n",
       "                for (var i = 0; i < nbb_cells.length; ++i) {\n",
       "                    if (nbb_cells[i].input_prompt_number == nbb_cell_id) {\n",
       "                        if (nbb_cells[i].get_text() == nbb_unformatted_code) {\n",
       "                             nbb_cells[i].set_text(nbb_formatted_code);\n",
       "                        }\n",
       "                        break;\n",
       "                    }\n",
       "                }\n",
       "            }, 500);\n",
       "            "
      ],
      "text/plain": [
       "<IPython.core.display.Javascript object>"
      ]
     },
     "metadata": {},
     "output_type": "display_data"
    }
   ],
   "source": [
    "data_dropna[\"Current Loan Amount\"] = data_dropna[\"Current Loan Amount\"].apply(\n",
    "    lambda val: \"LoanAmount 1: <=100 000\" if np.isreal(val) and val <= 100000 else val\n",
    ")\n",
    "data_dropna[\"Current Loan Amount\"] = data_dropna[\"Current Loan Amount\"].apply(\n",
    "    lambda val: \"LoanAmount 2: >100 000 and <=200 000 \"\n",
    "    if np.isreal(val) and val > 100000 and val <= 200000\n",
    "    else val\n",
    ")\n",
    "data_dropna[\"Current Loan Amount\"] = data_dropna[\"Current Loan Amount\"].apply(\n",
    "    lambda val: \"LoanAmount 3: >200 000 and <=300 000 \"\n",
    "    if np.isreal(val) and val > 200000 and val <= 300000\n",
    "    else val\n",
    ")\n",
    "data_dropna[\"Current Loan Amount\"] = data_dropna[\"Current Loan Amount\"].apply(\n",
    "    lambda val: \"LoanAmount 3: >300 000 and <=400 000 \"\n",
    "    if np.isreal(val) and val > 300000 and val <= 400000\n",
    "    else val\n",
    ")\n",
    "data_dropna[\"Current Loan Amount\"] = data_dropna[\"Current Loan Amount\"].apply(\n",
    "    lambda val: \"LoanAmount 4: >400 000 and <=500 000 \"\n",
    "    if np.isreal(val) and val > 400000 and val <= 500000\n",
    "    else val\n",
    ")\n",
    "data_dropna[\"Current Loan Amount\"] = data_dropna[\"Current Loan Amount\"].apply(\n",
    "    lambda val: \"LoanAmount 5: >500 000 \" if np.isreal(val) and val > 500000 else val\n",
    ")"
   ]
  },
  {
   "cell_type": "markdown",
   "metadata": {},
   "source": [
    "#### Annual Income --> Debt to Income"
   ]
  },
  {
   "cell_type": "code",
   "execution_count": 25,
   "metadata": {},
   "outputs": [
    {
     "name": "stderr",
     "output_type": "stream",
     "text": [
      "C:\\Users\\Asus\\.conda\\envs\\py37\\lib\\site-packages\\ipykernel_launcher.py:1: SettingWithCopyWarning: \n",
      "A value is trying to be set on a copy of a slice from a DataFrame.\n",
      "Try using .loc[row_indexer,col_indexer] = value instead\n",
      "\n",
      "See the caveats in the documentation: http://pandas.pydata.org/pandas-docs/stable/indexing.html#indexing-view-versus-copy\n",
      "  \"\"\"Entry point for launching an IPython kernel.\n",
      "C:\\Users\\Asus\\.conda\\envs\\py37\\lib\\site-packages\\ipykernel_launcher.py:3: SettingWithCopyWarning: \n",
      "A value is trying to be set on a copy of a slice from a DataFrame.\n",
      "Try using .loc[row_indexer,col_indexer] = value instead\n",
      "\n",
      "See the caveats in the documentation: http://pandas.pydata.org/pandas-docs/stable/indexing.html#indexing-view-versus-copy\n",
      "  This is separate from the ipykernel package so we can avoid doing imports until\n"
     ]
    },
    {
     "data": {
      "application/javascript": [
       "\n",
       "            setTimeout(function() {\n",
       "                var nbb_cell_id = 25;\n",
       "                var nbb_unformatted_code = \"data_dropna[\\\"Monthly Income\\\"] = data_dropna[\\\"Annual Income\\\"] / 12\\ndata_dropna[\\\"Debt to Income\\\"] = (\\n    data_dropna[\\\"Monthly Debt\\\"] / data_dropna[\\\"Monthly Income\\\"]\\n)\";\n",
       "                var nbb_formatted_code = \"data_dropna[\\\"Monthly Income\\\"] = data_dropna[\\\"Annual Income\\\"] / 12\\ndata_dropna[\\\"Debt to Income\\\"] = (\\n    data_dropna[\\\"Monthly Debt\\\"] / data_dropna[\\\"Monthly Income\\\"]\\n)\";\n",
       "                var nbb_cells = Jupyter.notebook.get_cells();\n",
       "                for (var i = 0; i < nbb_cells.length; ++i) {\n",
       "                    if (nbb_cells[i].input_prompt_number == nbb_cell_id) {\n",
       "                        if (nbb_cells[i].get_text() == nbb_unformatted_code) {\n",
       "                             nbb_cells[i].set_text(nbb_formatted_code);\n",
       "                        }\n",
       "                        break;\n",
       "                    }\n",
       "                }\n",
       "            }, 500);\n",
       "            "
      ],
      "text/plain": [
       "<IPython.core.display.Javascript object>"
      ]
     },
     "metadata": {},
     "output_type": "display_data"
    }
   ],
   "source": [
    "data_dropna[\"Monthly Income\"] = data_dropna[\"Annual Income\"] / 12\n",
    "data_dropna[\"Debt to Income\"] = (\n",
    "    data_dropna[\"Monthly Debt\"] / data_dropna[\"Monthly Income\"]\n",
    ")"
   ]
  },
  {
   "cell_type": "code",
   "execution_count": 26,
   "metadata": {},
   "outputs": [
    {
     "data": {
      "image/png": "[encoded data removed]",
      "text/plain": [
       "<Figure size 432x288 with 1 Axes>"
      ]
     },
     "metadata": {},
     "output_type": "display_data"
    },
    {
     "data": {
      "application/javascript": [
       "\n",
       "            setTimeout(function() {\n",
       "                var nbb_cell_id = 26;\n",
       "                var nbb_unformatted_code = \"plt.hist(data_dropna[\\\"Debt to Income\\\"], bins=10, color=\\\"cadetblue\\\")\\nplt.xticks(rotation=\\\"vertical\\\")\\nplt.show()\";\n",
       "                var nbb_formatted_code = \"plt.hist(data_dropna[\\\"Debt to Income\\\"], bins=10, color=\\\"cadetblue\\\")\\nplt.xticks(rotation=\\\"vertical\\\")\\nplt.show()\";\n",
       "                var nbb_cells = Jupyter.notebook.get_cells();\n",
       "                for (var i = 0; i < nbb_cells.length; ++i) {\n",
       "                    if (nbb_cells[i].input_prompt_number == nbb_cell_id) {\n",
       "                        if (nbb_cells[i].get_text() == nbb_unformatted_code) {\n",
       "                             nbb_cells[i].set_text(nbb_formatted_code);\n",
       "                        }\n",
       "                        break;\n",
       "                    }\n",
       "                }\n",
       "            }, 500);\n",
       "            "
      ],
      "text/plain": [
       "<IPython.core.display.Javascript object>"
      ]
     },
     "metadata": {},
     "output_type": "display_data"
    }
   ],
   "source": [
    "plt.hist(data_dropna[\"Debt to Income\"], bins=10, color=\"cadetblue\")\n",
    "plt.xticks(rotation=\"vertical\")\n",
    "plt.show()"
   ]
  },
  {
   "cell_type": "code",
   "execution_count": 27,
   "metadata": {},
   "outputs": [
    {
     "name": "stderr",
     "output_type": "stream",
     "text": [
      "C:\\Users\\Asus\\.conda\\envs\\py37\\lib\\site-packages\\ipykernel_launcher.py:2: SettingWithCopyWarning: \n",
      "A value is trying to be set on a copy of a slice from a DataFrame.\n",
      "Try using .loc[row_indexer,col_indexer] = value instead\n",
      "\n",
      "See the caveats in the documentation: http://pandas.pydata.org/pandas-docs/stable/indexing.html#indexing-view-versus-copy\n",
      "  \n"
     ]
    },
    {
     "data": {
      "application/javascript": [
       "\n",
       "            setTimeout(function() {\n",
       "                var nbb_cell_id = 27;\n",
       "                var nbb_unformatted_code = \"data_dropna[\\\"Debt to Income v2\\\"] = data_dropna[\\\"Debt to Income\\\"].apply(\\n    lambda x: \\\"DTI 1: <15%\\\" if x < 0.15 else (\\\"DTI 2: =>15%\\\")\\n)\";\n",
       "                var nbb_formatted_code = \"data_dropna[\\\"Debt to Income v2\\\"] = data_dropna[\\\"Debt to Income\\\"].apply(\\n    lambda x: \\\"DTI 1: <15%\\\" if x < 0.15 else (\\\"DTI 2: =>15%\\\")\\n)\";\n",
       "                var nbb_cells = Jupyter.notebook.get_cells();\n",
       "                for (var i = 0; i < nbb_cells.length; ++i) {\n",
       "                    if (nbb_cells[i].input_prompt_number == nbb_cell_id) {\n",
       "                        if (nbb_cells[i].get_text() == nbb_unformatted_code) {\n",
       "                             nbb_cells[i].set_text(nbb_formatted_code);\n",
       "                        }\n",
       "                        break;\n",
       "                    }\n",
       "                }\n",
       "            }, 500);\n",
       "            "
      ],
      "text/plain": [
       "<IPython.core.display.Javascript object>"
      ]
     },
     "metadata": {},
     "output_type": "display_data"
    }
   ],
   "source": [
    "data_dropna[\"Debt to Income v2\"] = data_dropna[\"Debt to Income\"].apply(\n",
    "    lambda x: \"DTI 1: <15%\" if x < 0.15 else (\"DTI 2: =>15%\")\n",
    ")"
   ]
  },
  {
   "cell_type": "code",
   "execution_count": 28,
   "metadata": {},
   "outputs": [
    {
     "data": {
      "text/html": [
       "<div>\n",
       "<style scoped>\n",
       "    .dataframe tbody tr th:only-of-type {\n",
       "        vertical-align: middle;\n",
       "    }\n",
       "\n",
       "    .dataframe tbody tr th {\n",
       "        vertical-align: top;\n",
       "    }\n",
       "\n",
       "    .dataframe thead th {\n",
       "        text-align: right;\n",
       "    }\n",
       "</style>\n",
       "<table border=\"1\" class=\"dataframe\">\n",
       "  <thead>\n",
       "    <tr style=\"text-align: right;\">\n",
       "      <th>default</th>\n",
       "      <th>0</th>\n",
       "      <th>1</th>\n",
       "    </tr>\n",
       "    <tr>\n",
       "      <th>Debt to Income v2</th>\n",
       "      <th></th>\n",
       "      <th></th>\n",
       "    </tr>\n",
       "  </thead>\n",
       "  <tbody>\n",
       "    <tr>\n",
       "      <th>DTI 1: &lt;15%</th>\n",
       "      <td>26551</td>\n",
       "      <td>5474</td>\n",
       "    </tr>\n",
       "    <tr>\n",
       "      <th>DTI 2: =&gt;15%</th>\n",
       "      <td>34506</td>\n",
       "      <td>10740</td>\n",
       "    </tr>\n",
       "  </tbody>\n",
       "</table>\n",
       "</div>"
      ],
      "text/plain": [
       "default                0      1\n",
       "Debt to Income v2              \n",
       "DTI 1: <15%        26551   5474\n",
       "DTI 2: =>15%       34506  10740"
      ]
     },
     "execution_count": 28,
     "metadata": {},
     "output_type": "execute_result"
    },
    {
     "data": {
      "application/javascript": [
       "\n",
       "            setTimeout(function() {\n",
       "                var nbb_cell_id = 28;\n",
       "                var nbb_unformatted_code = \"pd.crosstab(data_dropna[\\\"Debt to Income v2\\\"], data_dropna[\\\"default\\\"])\";\n",
       "                var nbb_formatted_code = \"pd.crosstab(data_dropna[\\\"Debt to Income v2\\\"], data_dropna[\\\"default\\\"])\";\n",
       "                var nbb_cells = Jupyter.notebook.get_cells();\n",
       "                for (var i = 0; i < nbb_cells.length; ++i) {\n",
       "                    if (nbb_cells[i].input_prompt_number == nbb_cell_id) {\n",
       "                        if (nbb_cells[i].get_text() == nbb_unformatted_code) {\n",
       "                             nbb_cells[i].set_text(nbb_formatted_code);\n",
       "                        }\n",
       "                        break;\n",
       "                    }\n",
       "                }\n",
       "            }, 500);\n",
       "            "
      ],
      "text/plain": [
       "<IPython.core.display.Javascript object>"
      ]
     },
     "metadata": {},
     "output_type": "display_data"
    }
   ],
   "source": [
    "pd.crosstab(data_dropna[\"Debt to Income v2\"], data_dropna[\"default\"])"
   ]
  },
  {
   "cell_type": "code",
   "execution_count": 29,
   "metadata": {},
   "outputs": [
    {
     "data": {
      "text/html": [
       "<div>\n",
       "<style scoped>\n",
       "    .dataframe tbody tr th:only-of-type {\n",
       "        vertical-align: middle;\n",
       "    }\n",
       "\n",
       "    .dataframe tbody tr th {\n",
       "        vertical-align: top;\n",
       "    }\n",
       "\n",
       "    .dataframe thead th {\n",
       "        text-align: right;\n",
       "    }\n",
       "</style>\n",
       "<table border=\"1\" class=\"dataframe\">\n",
       "  <thead>\n",
       "    <tr style=\"text-align: right;\">\n",
       "      <th>default</th>\n",
       "      <th>0</th>\n",
       "      <th>1</th>\n",
       "    </tr>\n",
       "    <tr>\n",
       "      <th>Debt to Income v2</th>\n",
       "      <th></th>\n",
       "      <th></th>\n",
       "    </tr>\n",
       "  </thead>\n",
       "  <tbody>\n",
       "    <tr>\n",
       "      <th>DTI 1: &lt;15%</th>\n",
       "      <td>0.829071</td>\n",
       "      <td>0.170929</td>\n",
       "    </tr>\n",
       "    <tr>\n",
       "      <th>DTI 2: =&gt;15%</th>\n",
       "      <td>0.762631</td>\n",
       "      <td>0.237369</td>\n",
       "    </tr>\n",
       "  </tbody>\n",
       "</table>\n",
       "</div>"
      ],
      "text/plain": [
       "default                   0         1\n",
       "Debt to Income v2                    \n",
       "DTI 1: <15%        0.829071  0.170929\n",
       "DTI 2: =>15%       0.762631  0.237369"
      ]
     },
     "execution_count": 29,
     "metadata": {},
     "output_type": "execute_result"
    },
    {
     "data": {
      "application/javascript": [
       "\n",
       "            setTimeout(function() {\n",
       "                var nbb_cell_id = 29;\n",
       "                var nbb_unformatted_code = \"pd.crosstab(data_dropna[\\\"Debt to Income v2\\\"], data_dropna[\\\"default\\\"]).apply(\\n    lambda r: r / r.sum(), axis=1\\n)\";\n",
       "                var nbb_formatted_code = \"pd.crosstab(data_dropna[\\\"Debt to Income v2\\\"], data_dropna[\\\"default\\\"]).apply(\\n    lambda r: r / r.sum(), axis=1\\n)\";\n",
       "                var nbb_cells = Jupyter.notebook.get_cells();\n",
       "                for (var i = 0; i < nbb_cells.length; ++i) {\n",
       "                    if (nbb_cells[i].input_prompt_number == nbb_cell_id) {\n",
       "                        if (nbb_cells[i].get_text() == nbb_unformatted_code) {\n",
       "                             nbb_cells[i].set_text(nbb_formatted_code);\n",
       "                        }\n",
       "                        break;\n",
       "                    }\n",
       "                }\n",
       "            }, 500);\n",
       "            "
      ],
      "text/plain": [
       "<IPython.core.display.Javascript object>"
      ]
     },
     "metadata": {},
     "output_type": "display_data"
    }
   ],
   "source": [
    "pd.crosstab(data_dropna[\"Debt to Income v2\"], data_dropna[\"default\"]).apply(\n",
    "    lambda r: r / r.sum(), axis=1\n",
    ")"
   ]
  },
  {
   "cell_type": "code",
   "execution_count": 30,
   "metadata": {},
   "outputs": [
    {
     "data": {
      "text/plain": [
       "Text(0, 0.5, 'Proportion of Defaults')"
      ]
     },
     "execution_count": 30,
     "metadata": {},
     "output_type": "execute_result"
    },
    {
     "data": {
      "image/png": "[encoded data removed]",
      "text/plain": [
       "<Figure size 432x288 with 1 Axes>"
      ]
     },
     "metadata": {
      "needs_background": "light"
     },
     "output_type": "display_data"
    },
    {
     "data": {
      "application/javascript": [
       "\n",
       "            setTimeout(function() {\n",
       "                var nbb_cell_id = 30;\n",
       "                var nbb_unformatted_code = \"%matplotlib inline\\ntable = pd.crosstab(data_dropna[\\\"Debt to Income v2\\\"], data_dropna[\\\"default\\\"])\\ntable.div(table.sum(1).astype(float), axis=0).plot(\\n    kind=\\\"bar\\\", color=[\\\"cadetblue\\\", \\\"crimson\\\"], stacked=True\\n)\\nplt.title(\\\"Stacked Bar Chart of Debt to Income vs Default\\\")\\nplt.xlabel(\\\"Debt to Income\\\")\\nplt.ylabel(\\\"Proportion of Defaults\\\")\";\n",
       "                var nbb_formatted_code = \"%matplotlib inline\\ntable = pd.crosstab(data_dropna[\\\"Debt to Income v2\\\"], data_dropna[\\\"default\\\"])\\ntable.div(table.sum(1).astype(float), axis=0).plot(\\n    kind=\\\"bar\\\", color=[\\\"cadetblue\\\", \\\"crimson\\\"], stacked=True\\n)\\nplt.title(\\\"Stacked Bar Chart of Debt to Income vs Default\\\")\\nplt.xlabel(\\\"Debt to Income\\\")\\nplt.ylabel(\\\"Proportion of Defaults\\\")\";\n",
       "                var nbb_cells = Jupyter.notebook.get_cells();\n",
       "                for (var i = 0; i < nbb_cells.length; ++i) {\n",
       "                    if (nbb_cells[i].input_prompt_number == nbb_cell_id) {\n",
       "                        if (nbb_cells[i].get_text() == nbb_unformatted_code) {\n",
       "                             nbb_cells[i].set_text(nbb_formatted_code);\n",
       "                        }\n",
       "                        break;\n",
       "                    }\n",
       "                }\n",
       "            }, 500);\n",
       "            "
      ],
      "text/plain": [
       "<IPython.core.display.Javascript object>"
      ]
     },
     "metadata": {},
     "output_type": "display_data"
    }
   ],
   "source": [
    "%matplotlib inline\n",
    "table = pd.crosstab(data_dropna[\"Debt to Income v2\"], data_dropna[\"default\"])\n",
    "table.div(table.sum(1).astype(float), axis=0).plot(\n",
    "    kind=\"bar\", color=[\"cadetblue\", \"crimson\"], stacked=True\n",
    ")\n",
    "plt.title(\"Stacked Bar Chart of Debt to Income vs Default\")\n",
    "plt.xlabel(\"Debt to Income\")\n",
    "plt.ylabel(\"Proportion of Defaults\")"
   ]
  },
  {
   "cell_type": "markdown",
   "metadata": {},
   "source": [
    "#### Years in Current Job - Tried different versions of bucketing, but it does not show good discriminatory power"
   ]
  },
  {
   "cell_type": "code",
   "execution_count": 31,
   "metadata": {},
   "outputs": [
    {
     "name": "stderr",
     "output_type": "stream",
     "text": [
      "C:\\Users\\Asus\\.conda\\envs\\py37\\lib\\site-packages\\ipykernel_launcher.py:2: SettingWithCopyWarning: \n",
      "A value is trying to be set on a copy of a slice from a DataFrame.\n",
      "Try using .loc[row_indexer,col_indexer] = value instead\n",
      "\n",
      "See the caveats in the documentation: http://pandas.pydata.org/pandas-docs/stable/indexing.html#indexing-view-versus-copy\n",
      "  \n",
      "C:\\Users\\Asus\\.conda\\envs\\py37\\lib\\site-packages\\ipykernel_launcher.py:4: SettingWithCopyWarning: \n",
      "A value is trying to be set on a copy of a slice from a DataFrame.\n",
      "Try using .loc[row_indexer,col_indexer] = value instead\n",
      "\n",
      "See the caveats in the documentation: http://pandas.pydata.org/pandas-docs/stable/indexing.html#indexing-view-versus-copy\n",
      "  after removing the cwd from sys.path.\n"
     ]
    },
    {
     "data": {
      "application/javascript": [
       "\n",
       "            setTimeout(function() {\n",
       "                var nbb_cell_id = 31;\n",
       "                var nbb_unformatted_code = \"data_dropna[\\\"Years in current job\\\"] = data_dropna[\\\"Years in current job\\\"].str.extract(\\n    r\\\"(\\\\d+)\\\"\\n)\\ndata_dropna[\\\"Years in current job\\\"] = data_dropna[\\\"Years in current job\\\"].astype(float)\";\n",
       "                var nbb_formatted_code = \"data_dropna[\\\"Years in current job\\\"] = data_dropna[\\\"Years in current job\\\"].str.extract(\\n    r\\\"(\\\\d+)\\\"\\n)\\ndata_dropna[\\\"Years in current job\\\"] = data_dropna[\\\"Years in current job\\\"].astype(float)\";\n",
       "                var nbb_cells = Jupyter.notebook.get_cells();\n",
       "                for (var i = 0; i < nbb_cells.length; ++i) {\n",
       "                    if (nbb_cells[i].input_prompt_number == nbb_cell_id) {\n",
       "                        if (nbb_cells[i].get_text() == nbb_unformatted_code) {\n",
       "                             nbb_cells[i].set_text(nbb_formatted_code);\n",
       "                        }\n",
       "                        break;\n",
       "                    }\n",
       "                }\n",
       "            }, 500);\n",
       "            "
      ],
      "text/plain": [
       "<IPython.core.display.Javascript object>"
      ]
     },
     "metadata": {},
     "output_type": "display_data"
    }
   ],
   "source": [
    "data_dropna[\"Years in current job\"] = data_dropna[\"Years in current job\"].str.extract(\n",
    "    r\"(\\d+)\"\n",
    ")\n",
    "data_dropna[\"Years in current job\"] = data_dropna[\"Years in current job\"].astype(float)"
   ]
  },
  {
   "cell_type": "code",
   "execution_count": 32,
   "metadata": {},
   "outputs": [
    {
     "data": {
      "image/png": "[encoded data removed]",
      "text/plain": [
       "<Figure size 432x288 with 1 Axes>"
      ]
     },
     "metadata": {
      "needs_background": "light"
     },
     "output_type": "display_data"
    },
    {
     "data": {
      "application/javascript": [
       "\n",
       "            setTimeout(function() {\n",
       "                var nbb_cell_id = 32;\n",
       "                var nbb_unformatted_code = \"plt.hist(data_dropna[\\\"Years in current job\\\"], bins=5, color=\\\"cadetblue\\\")\\nplt.show()\";\n",
       "                var nbb_formatted_code = \"plt.hist(data_dropna[\\\"Years in current job\\\"], bins=5, color=\\\"cadetblue\\\")\\nplt.show()\";\n",
       "                var nbb_cells = Jupyter.notebook.get_cells();\n",
       "                for (var i = 0; i < nbb_cells.length; ++i) {\n",
       "                    if (nbb_cells[i].input_prompt_number == nbb_cell_id) {\n",
       "                        if (nbb_cells[i].get_text() == nbb_unformatted_code) {\n",
       "                             nbb_cells[i].set_text(nbb_formatted_code);\n",
       "                        }\n",
       "                        break;\n",
       "                    }\n",
       "                }\n",
       "            }, 500);\n",
       "            "
      ],
      "text/plain": [
       "<IPython.core.display.Javascript object>"
      ]
     },
     "metadata": {},
     "output_type": "display_data"
    }
   ],
   "source": [
    "plt.hist(data_dropna[\"Years in current job\"], bins=5, color=\"cadetblue\")\n",
    "plt.show()"
   ]
  },
  {
   "cell_type": "code",
   "execution_count": 33,
   "metadata": {},
   "outputs": [
    {
     "name": "stderr",
     "output_type": "stream",
     "text": [
      "C:\\Users\\Asus\\.conda\\envs\\py37\\lib\\site-packages\\ipykernel_launcher.py:2: SettingWithCopyWarning: \n",
      "A value is trying to be set on a copy of a slice from a DataFrame.\n",
      "Try using .loc[row_indexer,col_indexer] = value instead\n",
      "\n",
      "See the caveats in the documentation: http://pandas.pydata.org/pandas-docs/stable/indexing.html#indexing-view-versus-copy\n",
      "  \n"
     ]
    },
    {
     "data": {
      "application/javascript": [
       "\n",
       "            setTimeout(function() {\n",
       "                var nbb_cell_id = 33;\n",
       "                var nbb_unformatted_code = \"data_dropna[\\\"Employment History\\\"] = data_dropna[\\\"Years in current job\\\"].apply(\\n    lambda x: \\\"Job 1: <=1years\\\" if x <= 1 else (\\\"Job 2: >1 years\\\")\\n)\";\n",
       "                var nbb_formatted_code = \"data_dropna[\\\"Employment History\\\"] = data_dropna[\\\"Years in current job\\\"].apply(\\n    lambda x: \\\"Job 1: <=1years\\\" if x <= 1 else (\\\"Job 2: >1 years\\\")\\n)\";\n",
       "                var nbb_cells = Jupyter.notebook.get_cells();\n",
       "                for (var i = 0; i < nbb_cells.length; ++i) {\n",
       "                    if (nbb_cells[i].input_prompt_number == nbb_cell_id) {\n",
       "                        if (nbb_cells[i].get_text() == nbb_unformatted_code) {\n",
       "                             nbb_cells[i].set_text(nbb_formatted_code);\n",
       "                        }\n",
       "                        break;\n",
       "                    }\n",
       "                }\n",
       "            }, 500);\n",
       "            "
      ],
      "text/plain": [
       "<IPython.core.display.Javascript object>"
      ]
     },
     "metadata": {},
     "output_type": "display_data"
    }
   ],
   "source": [
    "data_dropna[\"Employment History\"] = data_dropna[\"Years in current job\"].apply(\n",
    "    lambda x: \"Job 1: <=1years\" if x <= 1 else (\"Job 2: >1 years\")\n",
    ")"
   ]
  },
  {
   "cell_type": "code",
   "execution_count": 34,
   "metadata": {},
   "outputs": [
    {
     "data": {
      "text/html": [
       "<div>\n",
       "<style scoped>\n",
       "    .dataframe tbody tr th:only-of-type {\n",
       "        vertical-align: middle;\n",
       "    }\n",
       "\n",
       "    .dataframe tbody tr th {\n",
       "        vertical-align: top;\n",
       "    }\n",
       "\n",
       "    .dataframe thead th {\n",
       "        text-align: right;\n",
       "    }\n",
       "</style>\n",
       "<table border=\"1\" class=\"dataframe\">\n",
       "  <thead>\n",
       "    <tr style=\"text-align: right;\">\n",
       "      <th>default</th>\n",
       "      <th>0</th>\n",
       "      <th>1</th>\n",
       "    </tr>\n",
       "    <tr>\n",
       "      <th>Employment History</th>\n",
       "      <th></th>\n",
       "      <th></th>\n",
       "    </tr>\n",
       "  </thead>\n",
       "  <tbody>\n",
       "    <tr>\n",
       "      <th>Job 1: &lt;=1years</th>\n",
       "      <td>9132</td>\n",
       "      <td>2552</td>\n",
       "    </tr>\n",
       "    <tr>\n",
       "      <th>Job 2: &gt;1 years</th>\n",
       "      <td>51925</td>\n",
       "      <td>13662</td>\n",
       "    </tr>\n",
       "  </tbody>\n",
       "</table>\n",
       "</div>"
      ],
      "text/plain": [
       "default                 0      1\n",
       "Employment History              \n",
       "Job 1: <=1years      9132   2552\n",
       "Job 2: >1 years     51925  13662"
      ]
     },
     "execution_count": 34,
     "metadata": {},
     "output_type": "execute_result"
    },
    {
     "data": {
      "application/javascript": [
       "\n",
       "            setTimeout(function() {\n",
       "                var nbb_cell_id = 34;\n",
       "                var nbb_unformatted_code = \"pd.crosstab(data_dropna[\\\"Employment History\\\"], data_dropna[\\\"default\\\"])\";\n",
       "                var nbb_formatted_code = \"pd.crosstab(data_dropna[\\\"Employment History\\\"], data_dropna[\\\"default\\\"])\";\n",
       "                var nbb_cells = Jupyter.notebook.get_cells();\n",
       "                for (var i = 0; i < nbb_cells.length; ++i) {\n",
       "                    if (nbb_cells[i].input_prompt_number == nbb_cell_id) {\n",
       "                        if (nbb_cells[i].get_text() == nbb_unformatted_code) {\n",
       "                             nbb_cells[i].set_text(nbb_formatted_code);\n",
       "                        }\n",
       "                        break;\n",
       "                    }\n",
       "                }\n",
       "            }, 500);\n",
       "            "
      ],
      "text/plain": [
       "<IPython.core.display.Javascript object>"
      ]
     },
     "metadata": {},
     "output_type": "display_data"
    }
   ],
   "source": [
    "pd.crosstab(data_dropna[\"Employment History\"], data_dropna[\"default\"])"
   ]
  },
  {
   "cell_type": "code",
   "execution_count": 35,
   "metadata": {},
   "outputs": [
    {
     "data": {
      "text/html": [
       "<div>\n",
       "<style scoped>\n",
       "    .dataframe tbody tr th:only-of-type {\n",
       "        vertical-align: middle;\n",
       "    }\n",
       "\n",
       "    .dataframe tbody tr th {\n",
       "        vertical-align: top;\n",
       "    }\n",
       "\n",
       "    .dataframe thead th {\n",
       "        text-align: right;\n",
       "    }\n",
       "</style>\n",
       "<table border=\"1\" class=\"dataframe\">\n",
       "  <thead>\n",
       "    <tr style=\"text-align: right;\">\n",
       "      <th>default</th>\n",
       "      <th>0</th>\n",
       "      <th>1</th>\n",
       "    </tr>\n",
       "    <tr>\n",
       "      <th>Employment History</th>\n",
       "      <th></th>\n",
       "      <th></th>\n",
       "    </tr>\n",
       "  </thead>\n",
       "  <tbody>\n",
       "    <tr>\n",
       "      <th>Job 1: &lt;=1years</th>\n",
       "      <td>0.781582</td>\n",
       "      <td>0.218418</td>\n",
       "    </tr>\n",
       "    <tr>\n",
       "      <th>Job 2: &gt;1 years</th>\n",
       "      <td>0.791697</td>\n",
       "      <td>0.208303</td>\n",
       "    </tr>\n",
       "  </tbody>\n",
       "</table>\n",
       "</div>"
      ],
      "text/plain": [
       "default                    0         1\n",
       "Employment History                    \n",
       "Job 1: <=1years     0.781582  0.218418\n",
       "Job 2: >1 years     0.791697  0.208303"
      ]
     },
     "execution_count": 35,
     "metadata": {},
     "output_type": "execute_result"
    },
    {
     "data": {
      "application/javascript": [
       "\n",
       "            setTimeout(function() {\n",
       "                var nbb_cell_id = 35;\n",
       "                var nbb_unformatted_code = \"pd.crosstab(data_dropna[\\\"Employment History\\\"], data_dropna[\\\"default\\\"]).apply(\\n    lambda r: r / r.sum(), axis=1\\n)\";\n",
       "                var nbb_formatted_code = \"pd.crosstab(data_dropna[\\\"Employment History\\\"], data_dropna[\\\"default\\\"]).apply(\\n    lambda r: r / r.sum(), axis=1\\n)\";\n",
       "                var nbb_cells = Jupyter.notebook.get_cells();\n",
       "                for (var i = 0; i < nbb_cells.length; ++i) {\n",
       "                    if (nbb_cells[i].input_prompt_number == nbb_cell_id) {\n",
       "                        if (nbb_cells[i].get_text() == nbb_unformatted_code) {\n",
       "                             nbb_cells[i].set_text(nbb_formatted_code);\n",
       "                        }\n",
       "                        break;\n",
       "                    }\n",
       "                }\n",
       "            }, 500);\n",
       "            "
      ],
      "text/plain": [
       "<IPython.core.display.Javascript object>"
      ]
     },
     "metadata": {},
     "output_type": "display_data"
    }
   ],
   "source": [
    "pd.crosstab(data_dropna[\"Employment History\"], data_dropna[\"default\"]).apply(\n",
    "    lambda r: r / r.sum(), axis=1\n",
    ")"
   ]
  },
  {
   "cell_type": "code",
   "execution_count": 36,
   "metadata": {},
   "outputs": [
    {
     "data": {
      "text/plain": [
       "Text(0, 0.5, 'Proportion of Defaults')"
      ]
     },
     "execution_count": 36,
     "metadata": {},
     "output_type": "execute_result"
    },
    {
     "data": {
      "image/png": "[encoded data removed]",
      "text/plain": [
       "<Figure size 432x288 with 1 Axes>"
      ]
     },
     "metadata": {
      "needs_background": "light"
     },
     "output_type": "display_data"
    },
    {
     "data": {
      "application/javascript": [
       "\n",
       "            setTimeout(function() {\n",
       "                var nbb_cell_id = 36;\n",
       "                var nbb_unformatted_code = \"%matplotlib inline\\ntable = pd.crosstab(data_dropna[\\\"Employment History\\\"], data_dropna[\\\"default\\\"])\\ntable.div(table.sum(1).astype(float), axis=0).plot(kind=\\\"bar\\\", color=[\\\"cadetblue\\\", \\\"crimson\\\"], stacked=True)\\nplt.title(\\\"Stacked Bar Chart of Employment History vs Default\\\")\\nplt.xlabel(\\\"Employment History\\\")\\nplt.ylabel(\\\"Proportion of Defaults\\\")\";\n",
       "                var nbb_formatted_code = \"%matplotlib inline\\ntable = pd.crosstab(data_dropna[\\\"Employment History\\\"], data_dropna[\\\"default\\\"])\\ntable.div(table.sum(1).astype(float), axis=0).plot(\\n    kind=\\\"bar\\\", color=[\\\"cadetblue\\\", \\\"crimson\\\"], stacked=True\\n)\\nplt.title(\\\"Stacked Bar Chart of Employment History vs Default\\\")\\nplt.xlabel(\\\"Employment History\\\")\\nplt.ylabel(\\\"Proportion of Defaults\\\")\";\n",
       "                var nbb_cells = Jupyter.notebook.get_cells();\n",
       "                for (var i = 0; i < nbb_cells.length; ++i) {\n",
       "                    if (nbb_cells[i].input_prompt_number == nbb_cell_id) {\n",
       "                        if (nbb_cells[i].get_text() == nbb_unformatted_code) {\n",
       "                             nbb_cells[i].set_text(nbb_formatted_code);\n",
       "                        }\n",
       "                        break;\n",
       "                    }\n",
       "                }\n",
       "            }, 500);\n",
       "            "
      ],
      "text/plain": [
       "<IPython.core.display.Javascript object>"
      ]
     },
     "metadata": {},
     "output_type": "display_data"
    }
   ],
   "source": [
    "%matplotlib inline\n",
    "table = pd.crosstab(data_dropna[\"Employment History\"], data_dropna[\"default\"])\n",
    "table.div(table.sum(1).astype(float), axis=0).plot(\n",
    "    kind=\"bar\", color=[\"cadetblue\", \"crimson\"], stacked=True\n",
    ")\n",
    "plt.title(\"Stacked Bar Chart of Employment History vs Default\")\n",
    "plt.xlabel(\"Employment History\")\n",
    "plt.ylabel(\"Proportion of Defaults\")"
   ]
  },
  {
   "cell_type": "markdown",
   "metadata": {},
   "source": [
    "#### Years of credit history"
   ]
  },
  {
   "cell_type": "code",
   "execution_count": 37,
   "metadata": {},
   "outputs": [
    {
     "data": {
      "image/png": "[encoded data removed]",
      "text/plain": [
       "<Figure size 432x288 with 1 Axes>"
      ]
     },
     "metadata": {
      "needs_background": "light"
     },
     "output_type": "display_data"
    },
    {
     "data": {
      "application/javascript": [
       "\n",
       "            setTimeout(function() {\n",
       "                var nbb_cell_id = 37;\n",
       "                var nbb_unformatted_code = \"plt.hist(data_dropna[\\\"Years of Credit History\\\"], bins=5, color=\\\"cadetblue\\\")\\nplt.show()\";\n",
       "                var nbb_formatted_code = \"plt.hist(data_dropna[\\\"Years of Credit History\\\"], bins=5, color=\\\"cadetblue\\\")\\nplt.show()\";\n",
       "                var nbb_cells = Jupyter.notebook.get_cells();\n",
       "                for (var i = 0; i < nbb_cells.length; ++i) {\n",
       "                    if (nbb_cells[i].input_prompt_number == nbb_cell_id) {\n",
       "                        if (nbb_cells[i].get_text() == nbb_unformatted_code) {\n",
       "                             nbb_cells[i].set_text(nbb_formatted_code);\n",
       "                        }\n",
       "                        break;\n",
       "                    }\n",
       "                }\n",
       "            }, 500);\n",
       "            "
      ],
      "text/plain": [
       "<IPython.core.display.Javascript object>"
      ]
     },
     "metadata": {},
     "output_type": "display_data"
    }
   ],
   "source": [
    "plt.hist(data_dropna[\"Years of Credit History\"], bins=5, color=\"cadetblue\")\n",
    "plt.show()"
   ]
  },
  {
   "cell_type": "code",
   "execution_count": 90,
   "metadata": {},
   "outputs": [
    {
     "name": "stderr",
     "output_type": "stream",
     "text": [
      "C:\\Users\\Asus\\.conda\\envs\\py37\\lib\\site-packages\\ipykernel_launcher.py:2: SettingWithCopyWarning: \n",
      "A value is trying to be set on a copy of a slice from a DataFrame.\n",
      "Try using .loc[row_indexer,col_indexer] = value instead\n",
      "\n",
      "See the caveats in the documentation: http://pandas.pydata.org/pandas-docs/stable/indexing.html#indexing-view-versus-copy\n",
      "  \n"
     ]
    },
    {
     "data": {
      "application/javascript": [
       "\n",
       "            setTimeout(function() {\n",
       "                var nbb_cell_id = 90;\n",
       "                var nbb_unformatted_code = \"data_dropna[\\\"Years of Credit History2\\\"] = data_dropna[\\\"Years of Credit History\\\"].apply(\\n    lambda x: \\\"CrHistory 1: <20\\\" if x < 20 else (\\\"CrHistory 2: >=20\\\")\\n)\";\n",
       "                var nbb_formatted_code = \"data_dropna[\\\"Years of Credit History2\\\"] = data_dropna[\\\"Years of Credit History\\\"].apply(\\n    lambda x: \\\"CrHistory 1: <20\\\" if x < 20 else (\\\"CrHistory 2: >=20\\\")\\n)\";\n",
       "                var nbb_cells = Jupyter.notebook.get_cells();\n",
       "                for (var i = 0; i < nbb_cells.length; ++i) {\n",
       "                    if (nbb_cells[i].input_prompt_number == nbb_cell_id) {\n",
       "                        if (nbb_cells[i].get_text() == nbb_unformatted_code) {\n",
       "                             nbb_cells[i].set_text(nbb_formatted_code);\n",
       "                        }\n",
       "                        break;\n",
       "                    }\n",
       "                }\n",
       "            }, 500);\n",
       "            "
      ],
      "text/plain": [
       "<IPython.core.display.Javascript object>"
      ]
     },
     "metadata": {},
     "output_type": "display_data"
    }
   ],
   "source": [
    "data_dropna[\"Years of Credit History2\"] = data_dropna[\"Years of Credit History\"].apply(\n",
    "    lambda x: \"CrHistory 1: <20\" if x < 20 else (\"CrHistory 2: >=20\")\n",
    ")"
   ]
  },
  {
   "cell_type": "code",
   "execution_count": 91,
   "metadata": {},
   "outputs": [
    {
     "data": {
      "text/html": [
       "<div>\n",
       "<style scoped>\n",
       "    .dataframe tbody tr th:only-of-type {\n",
       "        vertical-align: middle;\n",
       "    }\n",
       "\n",
       "    .dataframe tbody tr th {\n",
       "        vertical-align: top;\n",
       "    }\n",
       "\n",
       "    .dataframe thead th {\n",
       "        text-align: right;\n",
       "    }\n",
       "</style>\n",
       "<table border=\"1\" class=\"dataframe\">\n",
       "  <thead>\n",
       "    <tr style=\"text-align: right;\">\n",
       "      <th>default</th>\n",
       "      <th>0</th>\n",
       "      <th>1</th>\n",
       "    </tr>\n",
       "    <tr>\n",
       "      <th>Years of Credit History2</th>\n",
       "      <th></th>\n",
       "      <th></th>\n",
       "    </tr>\n",
       "  </thead>\n",
       "  <tbody>\n",
       "    <tr>\n",
       "      <th>CrHistory 1: &lt;20</th>\n",
       "      <td>41230</td>\n",
       "      <td>11416</td>\n",
       "    </tr>\n",
       "    <tr>\n",
       "      <th>CrHistory 2: &gt;=20</th>\n",
       "      <td>19827</td>\n",
       "      <td>4798</td>\n",
       "    </tr>\n",
       "  </tbody>\n",
       "</table>\n",
       "</div>"
      ],
      "text/plain": [
       "default                       0      1\n",
       "Years of Credit History2              \n",
       "CrHistory 1: <20          41230  11416\n",
       "CrHistory 2: >=20         19827   4798"
      ]
     },
     "execution_count": 91,
     "metadata": {},
     "output_type": "execute_result"
    },
    {
     "data": {
      "application/javascript": [
       "\n",
       "            setTimeout(function() {\n",
       "                var nbb_cell_id = 91;\n",
       "                var nbb_unformatted_code = \"pd.crosstab(data_dropna[\\\"Years of Credit History2\\\"], data_dropna[\\\"default\\\"])\";\n",
       "                var nbb_formatted_code = \"pd.crosstab(data_dropna[\\\"Years of Credit History2\\\"], data_dropna[\\\"default\\\"])\";\n",
       "                var nbb_cells = Jupyter.notebook.get_cells();\n",
       "                for (var i = 0; i < nbb_cells.length; ++i) {\n",
       "                    if (nbb_cells[i].input_prompt_number == nbb_cell_id) {\n",
       "                        if (nbb_cells[i].get_text() == nbb_unformatted_code) {\n",
       "                             nbb_cells[i].set_text(nbb_formatted_code);\n",
       "                        }\n",
       "                        break;\n",
       "                    }\n",
       "                }\n",
       "            }, 500);\n",
       "            "
      ],
      "text/plain": [
       "<IPython.core.display.Javascript object>"
      ]
     },
     "metadata": {},
     "output_type": "display_data"
    }
   ],
   "source": [
    "pd.crosstab(data_dropna[\"Years of Credit History2\"], data_dropna[\"default\"])"
   ]
  },
  {
   "cell_type": "code",
   "execution_count": 92,
   "metadata": {},
   "outputs": [
    {
     "data": {
      "text/html": [
       "<div>\n",
       "<style scoped>\n",
       "    .dataframe tbody tr th:only-of-type {\n",
       "        vertical-align: middle;\n",
       "    }\n",
       "\n",
       "    .dataframe tbody tr th {\n",
       "        vertical-align: top;\n",
       "    }\n",
       "\n",
       "    .dataframe thead th {\n",
       "        text-align: right;\n",
       "    }\n",
       "</style>\n",
       "<table border=\"1\" class=\"dataframe\">\n",
       "  <thead>\n",
       "    <tr style=\"text-align: right;\">\n",
       "      <th>default</th>\n",
       "      <th>0</th>\n",
       "      <th>1</th>\n",
       "    </tr>\n",
       "    <tr>\n",
       "      <th>Years of Credit History2</th>\n",
       "      <th></th>\n",
       "      <th></th>\n",
       "    </tr>\n",
       "  </thead>\n",
       "  <tbody>\n",
       "    <tr>\n",
       "      <th>CrHistory 1: &lt;20</th>\n",
       "      <td>0.783155</td>\n",
       "      <td>0.216845</td>\n",
       "    </tr>\n",
       "    <tr>\n",
       "      <th>CrHistory 2: &gt;=20</th>\n",
       "      <td>0.805157</td>\n",
       "      <td>0.194843</td>\n",
       "    </tr>\n",
       "  </tbody>\n",
       "</table>\n",
       "</div>"
      ],
      "text/plain": [
       "default                          0         1\n",
       "Years of Credit History2                    \n",
       "CrHistory 1: <20          0.783155  0.216845\n",
       "CrHistory 2: >=20         0.805157  0.194843"
      ]
     },
     "execution_count": 92,
     "metadata": {},
     "output_type": "execute_result"
    },
    {
     "data": {
      "application/javascript": [
       "\n",
       "            setTimeout(function() {\n",
       "                var nbb_cell_id = 92;\n",
       "                var nbb_unformatted_code = \"pd.crosstab(data_dropna[\\\"Years of Credit History2\\\"], data_dropna[\\\"default\\\"]).apply(\\n    lambda r: r / r.sum(), axis=1\\n)\";\n",
       "                var nbb_formatted_code = \"pd.crosstab(data_dropna[\\\"Years of Credit History2\\\"], data_dropna[\\\"default\\\"]).apply(\\n    lambda r: r / r.sum(), axis=1\\n)\";\n",
       "                var nbb_cells = Jupyter.notebook.get_cells();\n",
       "                for (var i = 0; i < nbb_cells.length; ++i) {\n",
       "                    if (nbb_cells[i].input_prompt_number == nbb_cell_id) {\n",
       "                        if (nbb_cells[i].get_text() == nbb_unformatted_code) {\n",
       "                             nbb_cells[i].set_text(nbb_formatted_code);\n",
       "                        }\n",
       "                        break;\n",
       "                    }\n",
       "                }\n",
       "            }, 500);\n",
       "            "
      ],
      "text/plain": [
       "<IPython.core.display.Javascript object>"
      ]
     },
     "metadata": {},
     "output_type": "display_data"
    }
   ],
   "source": [
    "pd.crosstab(data_dropna[\"Years of Credit History2\"], data_dropna[\"default\"]).apply(\n",
    "    lambda r: r / r.sum(), axis=1\n",
    ")"
   ]
  },
  {
   "cell_type": "code",
   "execution_count": 93,
   "metadata": {},
   "outputs": [
    {
     "data": {
      "text/plain": [
       "Text(0, 0.5, 'Proportion of Defaults')"
      ]
     },
     "execution_count": 93,
     "metadata": {},
     "output_type": "execute_result"
    },
    {
     "data": {
      "image/png": "[encoded data removed]",
      "text/plain": [
       "<Figure size 432x288 with 1 Axes>"
      ]
     },
     "metadata": {
      "needs_background": "light"
     },
     "output_type": "display_data"
    },
    {
     "data": {
      "application/javascript": [
       "\n",
       "            setTimeout(function() {\n",
       "                var nbb_cell_id = 93;\n",
       "                var nbb_unformatted_code = \"%matplotlib inline\\ntable = pd.crosstab(data_dropna[\\\"Years of Credit History2\\\"], data_dropna[\\\"default\\\"])\\ntable.div(table.sum(1).astype(float), axis=0).plot(\\n    kind=\\\"bar\\\", color=[\\\"cadetblue\\\", \\\"crimson\\\"], stacked=True\\n)\\nplt.title(\\\"Stacked Bar Chart of Years of Credit History vs Default\\\")\\nplt.xlabel(\\\"Years of Credit History2\\\")\\nplt.ylabel(\\\"Proportion of Defaults\\\")\";\n",
       "                var nbb_formatted_code = \"%matplotlib inline\\ntable = pd.crosstab(data_dropna[\\\"Years of Credit History2\\\"], data_dropna[\\\"default\\\"])\\ntable.div(table.sum(1).astype(float), axis=0).plot(\\n    kind=\\\"bar\\\", color=[\\\"cadetblue\\\", \\\"crimson\\\"], stacked=True\\n)\\nplt.title(\\\"Stacked Bar Chart of Years of Credit History vs Default\\\")\\nplt.xlabel(\\\"Years of Credit History2\\\")\\nplt.ylabel(\\\"Proportion of Defaults\\\")\";\n",
       "                var nbb_cells = Jupyter.notebook.get_cells();\n",
       "                for (var i = 0; i < nbb_cells.length; ++i) {\n",
       "                    if (nbb_cells[i].input_prompt_number == nbb_cell_id) {\n",
       "                        if (nbb_cells[i].get_text() == nbb_unformatted_code) {\n",
       "                             nbb_cells[i].set_text(nbb_formatted_code);\n",
       "                        }\n",
       "                        break;\n",
       "                    }\n",
       "                }\n",
       "            }, 500);\n",
       "            "
      ],
      "text/plain": [
       "<IPython.core.display.Javascript object>"
      ]
     },
     "metadata": {},
     "output_type": "display_data"
    }
   ],
   "source": [
    "%matplotlib inline\n",
    "table = pd.crosstab(data_dropna[\"Years of Credit History2\"], data_dropna[\"default\"])\n",
    "table.div(table.sum(1).astype(float), axis=0).plot(\n",
    "    kind=\"bar\", color=[\"cadetblue\", \"crimson\"], stacked=True\n",
    ")\n",
    "plt.title(\"Stacked Bar Chart of Years of Credit History vs Default\")\n",
    "plt.xlabel(\"Years of Credit History2\")\n",
    "plt.ylabel(\"Proportion of Defaults\")"
   ]
  },
  {
   "cell_type": "markdown",
   "metadata": {},
   "source": [
    "#### Number of credit problems - Tried different versions of bucketing, but it does not show good discriminatory power"
   ]
  },
  {
   "cell_type": "code",
   "execution_count": 94,
   "metadata": {},
   "outputs": [
    {
     "data": {
      "image/png": "[encoded data removed]",
      "text/plain": [
       "<Figure size 432x288 with 1 Axes>"
      ]
     },
     "metadata": {
      "needs_background": "light"
     },
     "output_type": "display_data"
    },
    {
     "data": {
      "application/javascript": [
       "\n",
       "            setTimeout(function() {\n",
       "                var nbb_cell_id = 94;\n",
       "                var nbb_unformatted_code = \"plt.hist(data_dropna[\\\"Number of Credit Problems\\\"], bins=5, color=\\\"cadetblue\\\")\\nplt.show()\";\n",
       "                var nbb_formatted_code = \"plt.hist(data_dropna[\\\"Number of Credit Problems\\\"], bins=5, color=\\\"cadetblue\\\")\\nplt.show()\";\n",
       "                var nbb_cells = Jupyter.notebook.get_cells();\n",
       "                for (var i = 0; i < nbb_cells.length; ++i) {\n",
       "                    if (nbb_cells[i].input_prompt_number == nbb_cell_id) {\n",
       "                        if (nbb_cells[i].get_text() == nbb_unformatted_code) {\n",
       "                             nbb_cells[i].set_text(nbb_formatted_code);\n",
       "                        }\n",
       "                        break;\n",
       "                    }\n",
       "                }\n",
       "            }, 500);\n",
       "            "
      ],
      "text/plain": [
       "<IPython.core.display.Javascript object>"
      ]
     },
     "metadata": {},
     "output_type": "display_data"
    }
   ],
   "source": [
    "plt.hist(data_dropna[\"Number of Credit Problems\"], bins=5, color=\"cadetblue\")\n",
    "plt.show()"
   ]
  },
  {
   "cell_type": "code",
   "execution_count": 95,
   "metadata": {},
   "outputs": [
    {
     "name": "stderr",
     "output_type": "stream",
     "text": [
      "C:\\Users\\Asus\\.conda\\envs\\py37\\lib\\site-packages\\ipykernel_launcher.py:3: SettingWithCopyWarning: \n",
      "A value is trying to be set on a copy of a slice from a DataFrame.\n",
      "Try using .loc[row_indexer,col_indexer] = value instead\n",
      "\n",
      "See the caveats in the documentation: http://pandas.pydata.org/pandas-docs/stable/indexing.html#indexing-view-versus-copy\n",
      "  This is separate from the ipykernel package so we can avoid doing imports until\n"
     ]
    },
    {
     "data": {
      "application/javascript": [
       "\n",
       "            setTimeout(function() {\n",
       "                var nbb_cell_id = 95;\n",
       "                var nbb_unformatted_code = \"data_dropna[\\\"Number of Credit Problems2\\\"] = data_dropna[\\n    \\\"Number of Credit Problems\\\"\\n].apply(lambda x: \\\"CrProblems 1: 0\\\" if x == 0 else (\\\"CrProblems 2: >0\\\"))\";\n",
       "                var nbb_formatted_code = \"data_dropna[\\\"Number of Credit Problems2\\\"] = data_dropna[\\n    \\\"Number of Credit Problems\\\"\\n].apply(lambda x: \\\"CrProblems 1: 0\\\" if x == 0 else (\\\"CrProblems 2: >0\\\"))\";\n",
       "                var nbb_cells = Jupyter.notebook.get_cells();\n",
       "                for (var i = 0; i < nbb_cells.length; ++i) {\n",
       "                    if (nbb_cells[i].input_prompt_number == nbb_cell_id) {\n",
       "                        if (nbb_cells[i].get_text() == nbb_unformatted_code) {\n",
       "                             nbb_cells[i].set_text(nbb_formatted_code);\n",
       "                        }\n",
       "                        break;\n",
       "                    }\n",
       "                }\n",
       "            }, 500);\n",
       "            "
      ],
      "text/plain": [
       "<IPython.core.display.Javascript object>"
      ]
     },
     "metadata": {},
     "output_type": "display_data"
    }
   ],
   "source": [
    "data_dropna[\"Number of Credit Problems2\"] = data_dropna[\n",
    "    \"Number of Credit Problems\"\n",
    "].apply(lambda x: \"CrProblems 1: 0\" if x == 0 else (\"CrProblems 2: >0\"))"
   ]
  },
  {
   "cell_type": "code",
   "execution_count": 96,
   "metadata": {},
   "outputs": [
    {
     "data": {
      "text/html": [
       "<div>\n",
       "<style scoped>\n",
       "    .dataframe tbody tr th:only-of-type {\n",
       "        vertical-align: middle;\n",
       "    }\n",
       "\n",
       "    .dataframe tbody tr th {\n",
       "        vertical-align: top;\n",
       "    }\n",
       "\n",
       "    .dataframe thead th {\n",
       "        text-align: right;\n",
       "    }\n",
       "</style>\n",
       "<table border=\"1\" class=\"dataframe\">\n",
       "  <thead>\n",
       "    <tr style=\"text-align: right;\">\n",
       "      <th>default</th>\n",
       "      <th>0</th>\n",
       "      <th>1</th>\n",
       "    </tr>\n",
       "    <tr>\n",
       "      <th>Number of Credit Problems2</th>\n",
       "      <th></th>\n",
       "      <th></th>\n",
       "    </tr>\n",
       "  </thead>\n",
       "  <tbody>\n",
       "    <tr>\n",
       "      <th>CrProblems 1: 0</th>\n",
       "      <td>52667</td>\n",
       "      <td>14061</td>\n",
       "    </tr>\n",
       "    <tr>\n",
       "      <th>CrProblems 2: &gt;0</th>\n",
       "      <td>8390</td>\n",
       "      <td>2153</td>\n",
       "    </tr>\n",
       "  </tbody>\n",
       "</table>\n",
       "</div>"
      ],
      "text/plain": [
       "default                         0      1\n",
       "Number of Credit Problems2              \n",
       "CrProblems 1: 0             52667  14061\n",
       "CrProblems 2: >0             8390   2153"
      ]
     },
     "execution_count": 96,
     "metadata": {},
     "output_type": "execute_result"
    },
    {
     "data": {
      "application/javascript": [
       "\n",
       "            setTimeout(function() {\n",
       "                var nbb_cell_id = 96;\n",
       "                var nbb_unformatted_code = \"pd.crosstab(data_dropna[\\\"Number of Credit Problems2\\\"], data_dropna[\\\"default\\\"])\";\n",
       "                var nbb_formatted_code = \"pd.crosstab(data_dropna[\\\"Number of Credit Problems2\\\"], data_dropna[\\\"default\\\"])\";\n",
       "                var nbb_cells = Jupyter.notebook.get_cells();\n",
       "                for (var i = 0; i < nbb_cells.length; ++i) {\n",
       "                    if (nbb_cells[i].input_prompt_number == nbb_cell_id) {\n",
       "                        if (nbb_cells[i].get_text() == nbb_unformatted_code) {\n",
       "                             nbb_cells[i].set_text(nbb_formatted_code);\n",
       "                        }\n",
       "                        break;\n",
       "                    }\n",
       "                }\n",
       "            }, 500);\n",
       "            "
      ],
      "text/plain": [
       "<IPython.core.display.Javascript object>"
      ]
     },
     "metadata": {},
     "output_type": "display_data"
    }
   ],
   "source": [
    "pd.crosstab(data_dropna[\"Number of Credit Problems2\"], data_dropna[\"default\"])"
   ]
  },
  {
   "cell_type": "code",
   "execution_count": 97,
   "metadata": {},
   "outputs": [
    {
     "data": {
      "text/html": [
       "<div>\n",
       "<style scoped>\n",
       "    .dataframe tbody tr th:only-of-type {\n",
       "        vertical-align: middle;\n",
       "    }\n",
       "\n",
       "    .dataframe tbody tr th {\n",
       "        vertical-align: top;\n",
       "    }\n",
       "\n",
       "    .dataframe thead th {\n",
       "        text-align: right;\n",
       "    }\n",
       "</style>\n",
       "<table border=\"1\" class=\"dataframe\">\n",
       "  <thead>\n",
       "    <tr style=\"text-align: right;\">\n",
       "      <th>default</th>\n",
       "      <th>0</th>\n",
       "      <th>1</th>\n",
       "    </tr>\n",
       "    <tr>\n",
       "      <th>Number of Credit Problems2</th>\n",
       "      <th></th>\n",
       "      <th></th>\n",
       "    </tr>\n",
       "  </thead>\n",
       "  <tbody>\n",
       "    <tr>\n",
       "      <th>CrProblems 1: 0</th>\n",
       "      <td>0.789279</td>\n",
       "      <td>0.210721</td>\n",
       "    </tr>\n",
       "    <tr>\n",
       "      <th>CrProblems 2: &gt;0</th>\n",
       "      <td>0.795789</td>\n",
       "      <td>0.204211</td>\n",
       "    </tr>\n",
       "  </tbody>\n",
       "</table>\n",
       "</div>"
      ],
      "text/plain": [
       "default                            0         1\n",
       "Number of Credit Problems2                    \n",
       "CrProblems 1: 0             0.789279  0.210721\n",
       "CrProblems 2: >0            0.795789  0.204211"
      ]
     },
     "execution_count": 97,
     "metadata": {},
     "output_type": "execute_result"
    },
    {
     "data": {
      "application/javascript": [
       "\n",
       "            setTimeout(function() {\n",
       "                var nbb_cell_id = 97;\n",
       "                var nbb_unformatted_code = \"pd.crosstab(data_dropna[\\\"Number of Credit Problems2\\\"], data_dropna[\\\"default\\\"]).apply(\\n    lambda r: r / r.sum(), axis=1\\n)\";\n",
       "                var nbb_formatted_code = \"pd.crosstab(data_dropna[\\\"Number of Credit Problems2\\\"], data_dropna[\\\"default\\\"]).apply(\\n    lambda r: r / r.sum(), axis=1\\n)\";\n",
       "                var nbb_cells = Jupyter.notebook.get_cells();\n",
       "                for (var i = 0; i < nbb_cells.length; ++i) {\n",
       "                    if (nbb_cells[i].input_prompt_number == nbb_cell_id) {\n",
       "                        if (nbb_cells[i].get_text() == nbb_unformatted_code) {\n",
       "                             nbb_cells[i].set_text(nbb_formatted_code);\n",
       "                        }\n",
       "                        break;\n",
       "                    }\n",
       "                }\n",
       "            }, 500);\n",
       "            "
      ],
      "text/plain": [
       "<IPython.core.display.Javascript object>"
      ]
     },
     "metadata": {},
     "output_type": "display_data"
    }
   ],
   "source": [
    "pd.crosstab(data_dropna[\"Number of Credit Problems2\"], data_dropna[\"default\"]).apply(\n",
    "    lambda r: r / r.sum(), axis=1\n",
    ")"
   ]
  },
  {
   "cell_type": "code",
   "execution_count": 98,
   "metadata": {},
   "outputs": [
    {
     "data": {
      "text/plain": [
       "Text(0, 0.5, 'Proportion of Defaults')"
      ]
     },
     "execution_count": 98,
     "metadata": {},
     "output_type": "execute_result"
    },
    {
     "data": {
      "image/png": "[encoded data removed]",
      "text/plain": [
       "<Figure size 432x288 with 1 Axes>"
      ]
     },
     "metadata": {
      "needs_background": "light"
     },
     "output_type": "display_data"
    },
    {
     "data": {
      "application/javascript": [
       "\n",
       "            setTimeout(function() {\n",
       "                var nbb_cell_id = 98;\n",
       "                var nbb_unformatted_code = \"%matplotlib inline\\ntable = pd.crosstab(data_dropna[\\\"Number of Credit Problems2\\\"], data_dropna[\\\"default\\\"])\\ntable.div(table.sum(1).astype(float), axis=0).plot(\\n    kind=\\\"bar\\\", color=[\\\"cadetblue\\\", \\\"crimson\\\"], stacked=True\\n)\\nplt.title(\\\"Stacked Bar Chart of Number of Credit Problems vs Default\\\")\\nplt.xlabel(\\\"Number of Credit Problems\\\")\\nplt.ylabel(\\\"Proportion of Defaults\\\")\";\n",
       "                var nbb_formatted_code = \"%matplotlib inline\\ntable = pd.crosstab(data_dropna[\\\"Number of Credit Problems2\\\"], data_dropna[\\\"default\\\"])\\ntable.div(table.sum(1).astype(float), axis=0).plot(\\n    kind=\\\"bar\\\", color=[\\\"cadetblue\\\", \\\"crimson\\\"], stacked=True\\n)\\nplt.title(\\\"Stacked Bar Chart of Number of Credit Problems vs Default\\\")\\nplt.xlabel(\\\"Number of Credit Problems\\\")\\nplt.ylabel(\\\"Proportion of Defaults\\\")\";\n",
       "                var nbb_cells = Jupyter.notebook.get_cells();\n",
       "                for (var i = 0; i < nbb_cells.length; ++i) {\n",
       "                    if (nbb_cells[i].input_prompt_number == nbb_cell_id) {\n",
       "                        if (nbb_cells[i].get_text() == nbb_unformatted_code) {\n",
       "                             nbb_cells[i].set_text(nbb_formatted_code);\n",
       "                        }\n",
       "                        break;\n",
       "                    }\n",
       "                }\n",
       "            }, 500);\n",
       "            "
      ],
      "text/plain": [
       "<IPython.core.display.Javascript object>"
      ]
     },
     "metadata": {},
     "output_type": "display_data"
    }
   ],
   "source": [
    "%matplotlib inline\n",
    "table = pd.crosstab(data_dropna[\"Number of Credit Problems2\"], data_dropna[\"default\"])\n",
    "table.div(table.sum(1).astype(float), axis=0).plot(\n",
    "    kind=\"bar\", color=[\"cadetblue\", \"crimson\"], stacked=True\n",
    ")\n",
    "plt.title(\"Stacked Bar Chart of Number of Credit Problems vs Default\")\n",
    "plt.xlabel(\"Number of Credit Problems\")\n",
    "plt.ylabel(\"Proportion of Defaults\")"
   ]
  },
  {
   "cell_type": "markdown",
   "metadata": {},
   "source": [
    "#### Number of open accounts - Tried different versions of bucketing, but it does not show good discriminatory power"
   ]
  },
  {
   "cell_type": "code",
   "execution_count": 99,
   "metadata": {},
   "outputs": [
    {
     "data": {
      "image/png": "[encoded data removed]",
      "text/plain": [
       "<Figure size 432x288 with 1 Axes>"
      ]
     },
     "metadata": {
      "needs_background": "light"
     },
     "output_type": "display_data"
    },
    {
     "data": {
      "application/javascript": [
       "\n",
       "            setTimeout(function() {\n",
       "                var nbb_cell_id = 99;\n",
       "                var nbb_unformatted_code = \"plt.hist(data_dropna[\\\"Number of Open Accounts\\\"], bins=5, color=\\\"cadetblue\\\")\\nplt.show()\";\n",
       "                var nbb_formatted_code = \"plt.hist(data_dropna[\\\"Number of Open Accounts\\\"], bins=5, color=\\\"cadetblue\\\")\\nplt.show()\";\n",
       "                var nbb_cells = Jupyter.notebook.get_cells();\n",
       "                for (var i = 0; i < nbb_cells.length; ++i) {\n",
       "                    if (nbb_cells[i].input_prompt_number == nbb_cell_id) {\n",
       "                        if (nbb_cells[i].get_text() == nbb_unformatted_code) {\n",
       "                             nbb_cells[i].set_text(nbb_formatted_code);\n",
       "                        }\n",
       "                        break;\n",
       "                    }\n",
       "                }\n",
       "            }, 500);\n",
       "            "
      ],
      "text/plain": [
       "<IPython.core.display.Javascript object>"
      ]
     },
     "metadata": {},
     "output_type": "display_data"
    }
   ],
   "source": [
    "plt.hist(data_dropna[\"Number of Open Accounts\"], bins=5, color=\"cadetblue\")\n",
    "plt.show()"
   ]
  },
  {
   "cell_type": "code",
   "execution_count": 100,
   "metadata": {},
   "outputs": [
    {
     "name": "stderr",
     "output_type": "stream",
     "text": [
      "C:\\Users\\Asus\\.conda\\envs\\py37\\lib\\site-packages\\ipykernel_launcher.py:2: SettingWithCopyWarning: \n",
      "A value is trying to be set on a copy of a slice from a DataFrame.\n",
      "Try using .loc[row_indexer,col_indexer] = value instead\n",
      "\n",
      "See the caveats in the documentation: http://pandas.pydata.org/pandas-docs/stable/indexing.html#indexing-view-versus-copy\n",
      "  \n"
     ]
    },
    {
     "data": {
      "application/javascript": [
       "\n",
       "            setTimeout(function() {\n",
       "                var nbb_cell_id = 100;\n",
       "                var nbb_unformatted_code = \"data_dropna[\\\"Number of Open Accounts2\\\"] = data_dropna[\\\"Number of Open Accounts\\\"].apply(\\n    lambda x: \\\"OpenAcc 1: <10\\\"\\n    if x <= 10\\n    else (\\\"OpenAcc 2: 10-20\\\" if x > 10 and x < 20 else \\\"OpenAcc 3: >=20\\\")\\n)\";\n",
       "                var nbb_formatted_code = \"data_dropna[\\\"Number of Open Accounts2\\\"] = data_dropna[\\\"Number of Open Accounts\\\"].apply(\\n    lambda x: \\\"OpenAcc 1: <10\\\"\\n    if x <= 10\\n    else (\\\"OpenAcc 2: 10-20\\\" if x > 10 and x < 20 else \\\"OpenAcc 3: >=20\\\")\\n)\";\n",
       "                var nbb_cells = Jupyter.notebook.get_cells();\n",
       "                for (var i = 0; i < nbb_cells.length; ++i) {\n",
       "                    if (nbb_cells[i].input_prompt_number == nbb_cell_id) {\n",
       "                        if (nbb_cells[i].get_text() == nbb_unformatted_code) {\n",
       "                             nbb_cells[i].set_text(nbb_formatted_code);\n",
       "                        }\n",
       "                        break;\n",
       "                    }\n",
       "                }\n",
       "            }, 500);\n",
       "            "
      ],
      "text/plain": [
       "<IPython.core.display.Javascript object>"
      ]
     },
     "metadata": {},
     "output_type": "display_data"
    }
   ],
   "source": [
    "data_dropna[\"Number of Open Accounts2\"] = data_dropna[\"Number of Open Accounts\"].apply(\n",
    "    lambda x: \"OpenAcc 1: <10\"\n",
    "    if x <= 10\n",
    "    else (\"OpenAcc 2: 10-20\" if x > 10 and x < 20 else \"OpenAcc 3: >=20\")\n",
    ")"
   ]
  },
  {
   "cell_type": "code",
   "execution_count": 101,
   "metadata": {},
   "outputs": [
    {
     "data": {
      "text/html": [
       "<div>\n",
       "<style scoped>\n",
       "    .dataframe tbody tr th:only-of-type {\n",
       "        vertical-align: middle;\n",
       "    }\n",
       "\n",
       "    .dataframe tbody tr th {\n",
       "        vertical-align: top;\n",
       "    }\n",
       "\n",
       "    .dataframe thead th {\n",
       "        text-align: right;\n",
       "    }\n",
       "</style>\n",
       "<table border=\"1\" class=\"dataframe\">\n",
       "  <thead>\n",
       "    <tr style=\"text-align: right;\">\n",
       "      <th>default</th>\n",
       "      <th>0</th>\n",
       "      <th>1</th>\n",
       "    </tr>\n",
       "    <tr>\n",
       "      <th>Number of Open Accounts2</th>\n",
       "      <th></th>\n",
       "      <th></th>\n",
       "    </tr>\n",
       "  </thead>\n",
       "  <tbody>\n",
       "    <tr>\n",
       "      <th>OpenAcc 1: &lt;10</th>\n",
       "      <td>31176</td>\n",
       "      <td>8088</td>\n",
       "    </tr>\n",
       "    <tr>\n",
       "      <th>OpenAcc 2: 10-20</th>\n",
       "      <td>25993</td>\n",
       "      <td>7004</td>\n",
       "    </tr>\n",
       "    <tr>\n",
       "      <th>OpenAcc 3: &gt;=20</th>\n",
       "      <td>3888</td>\n",
       "      <td>1122</td>\n",
       "    </tr>\n",
       "  </tbody>\n",
       "</table>\n",
       "</div>"
      ],
      "text/plain": [
       "default                       0     1\n",
       "Number of Open Accounts2             \n",
       "OpenAcc 1: <10            31176  8088\n",
       "OpenAcc 2: 10-20          25993  7004\n",
       "OpenAcc 3: >=20            3888  1122"
      ]
     },
     "execution_count": 101,
     "metadata": {},
     "output_type": "execute_result"
    },
    {
     "data": {
      "application/javascript": [
       "\n",
       "            setTimeout(function() {\n",
       "                var nbb_cell_id = 101;\n",
       "                var nbb_unformatted_code = \"pd.crosstab(data_dropna[\\\"Number of Open Accounts2\\\"], data_dropna[\\\"default\\\"])\";\n",
       "                var nbb_formatted_code = \"pd.crosstab(data_dropna[\\\"Number of Open Accounts2\\\"], data_dropna[\\\"default\\\"])\";\n",
       "                var nbb_cells = Jupyter.notebook.get_cells();\n",
       "                for (var i = 0; i < nbb_cells.length; ++i) {\n",
       "                    if (nbb_cells[i].input_prompt_number == nbb_cell_id) {\n",
       "                        if (nbb_cells[i].get_text() == nbb_unformatted_code) {\n",
       "                             nbb_cells[i].set_text(nbb_formatted_code);\n",
       "                        }\n",
       "                        break;\n",
       "                    }\n",
       "                }\n",
       "            }, 500);\n",
       "            "
      ],
      "text/plain": [
       "<IPython.core.display.Javascript object>"
      ]
     },
     "metadata": {},
     "output_type": "display_data"
    }
   ],
   "source": [
    "pd.crosstab(data_dropna[\"Number of Open Accounts2\"], data_dropna[\"default\"])"
   ]
  },
  {
   "cell_type": "code",
   "execution_count": 102,
   "metadata": {},
   "outputs": [
    {
     "data": {
      "text/html": [
       "<div>\n",
       "<style scoped>\n",
       "    .dataframe tbody tr th:only-of-type {\n",
       "        vertical-align: middle;\n",
       "    }\n",
       "\n",
       "    .dataframe tbody tr th {\n",
       "        vertical-align: top;\n",
       "    }\n",
       "\n",
       "    .dataframe thead th {\n",
       "        text-align: right;\n",
       "    }\n",
       "</style>\n",
       "<table border=\"1\" class=\"dataframe\">\n",
       "  <thead>\n",
       "    <tr style=\"text-align: right;\">\n",
       "      <th>default</th>\n",
       "      <th>0</th>\n",
       "      <th>1</th>\n",
       "    </tr>\n",
       "    <tr>\n",
       "      <th>Number of Open Accounts2</th>\n",
       "      <th></th>\n",
       "      <th></th>\n",
       "    </tr>\n",
       "  </thead>\n",
       "  <tbody>\n",
       "    <tr>\n",
       "      <th>OpenAcc 1: &lt;10</th>\n",
       "      <td>0.794010</td>\n",
       "      <td>0.205990</td>\n",
       "    </tr>\n",
       "    <tr>\n",
       "      <th>OpenAcc 2: 10-20</th>\n",
       "      <td>0.787738</td>\n",
       "      <td>0.212262</td>\n",
       "    </tr>\n",
       "    <tr>\n",
       "      <th>OpenAcc 3: &gt;=20</th>\n",
       "      <td>0.776048</td>\n",
       "      <td>0.223952</td>\n",
       "    </tr>\n",
       "  </tbody>\n",
       "</table>\n",
       "</div>"
      ],
      "text/plain": [
       "default                          0         1\n",
       "Number of Open Accounts2                    \n",
       "OpenAcc 1: <10            0.794010  0.205990\n",
       "OpenAcc 2: 10-20          0.787738  0.212262\n",
       "OpenAcc 3: >=20           0.776048  0.223952"
      ]
     },
     "execution_count": 102,
     "metadata": {},
     "output_type": "execute_result"
    },
    {
     "data": {
      "application/javascript": [
       "\n",
       "            setTimeout(function() {\n",
       "                var nbb_cell_id = 102;\n",
       "                var nbb_unformatted_code = \"pd.crosstab(data_dropna[\\\"Number of Open Accounts2\\\"], data_dropna[\\\"default\\\"]).apply(\\n    lambda r: r / r.sum(), axis=1\\n)\";\n",
       "                var nbb_formatted_code = \"pd.crosstab(data_dropna[\\\"Number of Open Accounts2\\\"], data_dropna[\\\"default\\\"]).apply(\\n    lambda r: r / r.sum(), axis=1\\n)\";\n",
       "                var nbb_cells = Jupyter.notebook.get_cells();\n",
       "                for (var i = 0; i < nbb_cells.length; ++i) {\n",
       "                    if (nbb_cells[i].input_prompt_number == nbb_cell_id) {\n",
       "                        if (nbb_cells[i].get_text() == nbb_unformatted_code) {\n",
       "                             nbb_cells[i].set_text(nbb_formatted_code);\n",
       "                        }\n",
       "                        break;\n",
       "                    }\n",
       "                }\n",
       "            }, 500);\n",
       "            "
      ],
      "text/plain": [
       "<IPython.core.display.Javascript object>"
      ]
     },
     "metadata": {},
     "output_type": "display_data"
    }
   ],
   "source": [
    "pd.crosstab(data_dropna[\"Number of Open Accounts2\"], data_dropna[\"default\"]).apply(\n",
    "    lambda r: r / r.sum(), axis=1\n",
    ")"
   ]
  },
  {
   "cell_type": "code",
   "execution_count": 103,
   "metadata": {},
   "outputs": [
    {
     "data": {
      "text/plain": [
       "Text(0, 0.5, 'Proportion of Defaults')"
      ]
     },
     "execution_count": 103,
     "metadata": {},
     "output_type": "execute_result"
    },
    {
     "data": {
      "image/png": "[encoded data removed]",
      "text/plain": [
       "<Figure size 432x288 with 1 Axes>"
      ]
     },
     "metadata": {
      "needs_background": "light"
     },
     "output_type": "display_data"
    },
    {
     "data": {
      "application/javascript": [
       "\n",
       "            setTimeout(function() {\n",
       "                var nbb_cell_id = 103;\n",
       "                var nbb_unformatted_code = \"%matplotlib inline\\ntable = pd.crosstab(data_dropna[\\\"Number of Open Accounts2\\\"], data_dropna[\\\"default\\\"])\\ntable.div(table.sum(1).astype(float), axis=0).plot(\\n    kind=\\\"bar\\\", color=[\\\"cadetblue\\\", \\\"crimson\\\"], stacked=True\\n)\\nplt.title(\\\"Stacked Bar Chart of Number of Open Accounts vs Default\\\")\\nplt.xlabel(\\\"Number of Open Accounts\\\")\\nplt.ylabel(\\\"Proportion of Defaults\\\")\";\n",
       "                var nbb_formatted_code = \"%matplotlib inline\\ntable = pd.crosstab(data_dropna[\\\"Number of Open Accounts2\\\"], data_dropna[\\\"default\\\"])\\ntable.div(table.sum(1).astype(float), axis=0).plot(\\n    kind=\\\"bar\\\", color=[\\\"cadetblue\\\", \\\"crimson\\\"], stacked=True\\n)\\nplt.title(\\\"Stacked Bar Chart of Number of Open Accounts vs Default\\\")\\nplt.xlabel(\\\"Number of Open Accounts\\\")\\nplt.ylabel(\\\"Proportion of Defaults\\\")\";\n",
       "                var nbb_cells = Jupyter.notebook.get_cells();\n",
       "                for (var i = 0; i < nbb_cells.length; ++i) {\n",
       "                    if (nbb_cells[i].input_prompt_number == nbb_cell_id) {\n",
       "                        if (nbb_cells[i].get_text() == nbb_unformatted_code) {\n",
       "                             nbb_cells[i].set_text(nbb_formatted_code);\n",
       "                        }\n",
       "                        break;\n",
       "                    }\n",
       "                }\n",
       "            }, 500);\n",
       "            "
      ],
      "text/plain": [
       "<IPython.core.display.Javascript object>"
      ]
     },
     "metadata": {},
     "output_type": "display_data"
    }
   ],
   "source": [
    "%matplotlib inline\n",
    "table = pd.crosstab(data_dropna[\"Number of Open Accounts2\"], data_dropna[\"default\"])\n",
    "table.div(table.sum(1).astype(float), axis=0).plot(\n",
    "    kind=\"bar\", color=[\"cadetblue\", \"crimson\"], stacked=True\n",
    ")\n",
    "plt.title(\"Stacked Bar Chart of Number of Open Accounts vs Default\")\n",
    "plt.xlabel(\"Number of Open Accounts\")\n",
    "plt.ylabel(\"Proportion of Defaults\")"
   ]
  },
  {
   "cell_type": "markdown",
   "metadata": {},
   "source": [
    "#### Bankruptcies - Tried different versions of bucketing, but it does not show good discriminatory power"
   ]
  },
  {
   "cell_type": "code",
   "execution_count": 104,
   "metadata": {},
   "outputs": [
    {
     "data": {
      "image/png": "[encoded data removed]",
      "text/plain": [
       "<Figure size 432x288 with 1 Axes>"
      ]
     },
     "metadata": {
      "needs_background": "light"
     },
     "output_type": "display_data"
    },
    {
     "data": {
      "application/javascript": [
       "\n",
       "            setTimeout(function() {\n",
       "                var nbb_cell_id = 104;\n",
       "                var nbb_unformatted_code = \"plt.hist(data_dropna[\\\"Bankruptcies\\\"], bins=5, color=\\\"cadetblue\\\")\\nplt.show()\";\n",
       "                var nbb_formatted_code = \"plt.hist(data_dropna[\\\"Bankruptcies\\\"], bins=5, color=\\\"cadetblue\\\")\\nplt.show()\";\n",
       "                var nbb_cells = Jupyter.notebook.get_cells();\n",
       "                for (var i = 0; i < nbb_cells.length; ++i) {\n",
       "                    if (nbb_cells[i].input_prompt_number == nbb_cell_id) {\n",
       "                        if (nbb_cells[i].get_text() == nbb_unformatted_code) {\n",
       "                             nbb_cells[i].set_text(nbb_formatted_code);\n",
       "                        }\n",
       "                        break;\n",
       "                    }\n",
       "                }\n",
       "            }, 500);\n",
       "            "
      ],
      "text/plain": [
       "<IPython.core.display.Javascript object>"
      ]
     },
     "metadata": {},
     "output_type": "display_data"
    }
   ],
   "source": [
    "plt.hist(data_dropna[\"Bankruptcies\"], bins=5, color=\"cadetblue\")\n",
    "plt.show()"
   ]
  },
  {
   "cell_type": "code",
   "execution_count": 105,
   "metadata": {},
   "outputs": [
    {
     "name": "stderr",
     "output_type": "stream",
     "text": [
      "C:\\Users\\Asus\\.conda\\envs\\py37\\lib\\site-packages\\ipykernel_launcher.py:2: SettingWithCopyWarning: \n",
      "A value is trying to be set on a copy of a slice from a DataFrame.\n",
      "Try using .loc[row_indexer,col_indexer] = value instead\n",
      "\n",
      "See the caveats in the documentation: http://pandas.pydata.org/pandas-docs/stable/indexing.html#indexing-view-versus-copy\n",
      "  \n"
     ]
    },
    {
     "data": {
      "application/javascript": [
       "\n",
       "            setTimeout(function() {\n",
       "                var nbb_cell_id = 105;\n",
       "                var nbb_unformatted_code = \"data_dropna[\\\"Bankruptcies2\\\"] = data_dropna[\\\"Bankruptcies\\\"].apply(\\n    lambda x: \\\"Bankruptcies 1: 0\\\" if x == 0 else (\\\"Bankruptcies 2: >0\\\")\\n)\";\n",
       "                var nbb_formatted_code = \"data_dropna[\\\"Bankruptcies2\\\"] = data_dropna[\\\"Bankruptcies\\\"].apply(\\n    lambda x: \\\"Bankruptcies 1: 0\\\" if x == 0 else (\\\"Bankruptcies 2: >0\\\")\\n)\";\n",
       "                var nbb_cells = Jupyter.notebook.get_cells();\n",
       "                for (var i = 0; i < nbb_cells.length; ++i) {\n",
       "                    if (nbb_cells[i].input_prompt_number == nbb_cell_id) {\n",
       "                        if (nbb_cells[i].get_text() == nbb_unformatted_code) {\n",
       "                             nbb_cells[i].set_text(nbb_formatted_code);\n",
       "                        }\n",
       "                        break;\n",
       "                    }\n",
       "                }\n",
       "            }, 500);\n",
       "            "
      ],
      "text/plain": [
       "<IPython.core.display.Javascript object>"
      ]
     },
     "metadata": {},
     "output_type": "display_data"
    }
   ],
   "source": [
    "data_dropna[\"Bankruptcies2\"] = data_dropna[\"Bankruptcies\"].apply(\n",
    "    lambda x: \"Bankruptcies 1: 0\" if x == 0 else (\"Bankruptcies 2: >0\")\n",
    ")"
   ]
  },
  {
   "cell_type": "code",
   "execution_count": 106,
   "metadata": {},
   "outputs": [
    {
     "data": {
      "text/html": [
       "<div>\n",
       "<style scoped>\n",
       "    .dataframe tbody tr th:only-of-type {\n",
       "        vertical-align: middle;\n",
       "    }\n",
       "\n",
       "    .dataframe tbody tr th {\n",
       "        vertical-align: top;\n",
       "    }\n",
       "\n",
       "    .dataframe thead th {\n",
       "        text-align: right;\n",
       "    }\n",
       "</style>\n",
       "<table border=\"1\" class=\"dataframe\">\n",
       "  <thead>\n",
       "    <tr style=\"text-align: right;\">\n",
       "      <th>default</th>\n",
       "      <th>0</th>\n",
       "      <th>1</th>\n",
       "    </tr>\n",
       "    <tr>\n",
       "      <th>Bankruptcies2</th>\n",
       "      <th></th>\n",
       "      <th></th>\n",
       "    </tr>\n",
       "  </thead>\n",
       "  <tbody>\n",
       "    <tr>\n",
       "      <th>Bankruptcies 1: 0</th>\n",
       "      <td>54403</td>\n",
       "      <td>14584</td>\n",
       "    </tr>\n",
       "    <tr>\n",
       "      <th>Bankruptcies 2: &gt;0</th>\n",
       "      <td>6654</td>\n",
       "      <td>1630</td>\n",
       "    </tr>\n",
       "  </tbody>\n",
       "</table>\n",
       "</div>"
      ],
      "text/plain": [
       "default                 0      1\n",
       "Bankruptcies2                   \n",
       "Bankruptcies 1: 0   54403  14584\n",
       "Bankruptcies 2: >0   6654   1630"
      ]
     },
     "execution_count": 106,
     "metadata": {},
     "output_type": "execute_result"
    },
    {
     "data": {
      "application/javascript": [
       "\n",
       "            setTimeout(function() {\n",
       "                var nbb_cell_id = 106;\n",
       "                var nbb_unformatted_code = \"pd.crosstab(data_dropna[\\\"Bankruptcies2\\\"], data_dropna[\\\"default\\\"])\";\n",
       "                var nbb_formatted_code = \"pd.crosstab(data_dropna[\\\"Bankruptcies2\\\"], data_dropna[\\\"default\\\"])\";\n",
       "                var nbb_cells = Jupyter.notebook.get_cells();\n",
       "                for (var i = 0; i < nbb_cells.length; ++i) {\n",
       "                    if (nbb_cells[i].input_prompt_number == nbb_cell_id) {\n",
       "                        if (nbb_cells[i].get_text() == nbb_unformatted_code) {\n",
       "                             nbb_cells[i].set_text(nbb_formatted_code);\n",
       "                        }\n",
       "                        break;\n",
       "                    }\n",
       "                }\n",
       "            }, 500);\n",
       "            "
      ],
      "text/plain": [
       "<IPython.core.display.Javascript object>"
      ]
     },
     "metadata": {},
     "output_type": "display_data"
    }
   ],
   "source": [
    "pd.crosstab(data_dropna[\"Bankruptcies2\"], data_dropna[\"default\"])"
   ]
  },
  {
   "cell_type": "code",
   "execution_count": 107,
   "metadata": {},
   "outputs": [
    {
     "data": {
      "text/html": [
       "<div>\n",
       "<style scoped>\n",
       "    .dataframe tbody tr th:only-of-type {\n",
       "        vertical-align: middle;\n",
       "    }\n",
       "\n",
       "    .dataframe tbody tr th {\n",
       "        vertical-align: top;\n",
       "    }\n",
       "\n",
       "    .dataframe thead th {\n",
       "        text-align: right;\n",
       "    }\n",
       "</style>\n",
       "<table border=\"1\" class=\"dataframe\">\n",
       "  <thead>\n",
       "    <tr style=\"text-align: right;\">\n",
       "      <th>default</th>\n",
       "      <th>0</th>\n",
       "      <th>1</th>\n",
       "    </tr>\n",
       "    <tr>\n",
       "      <th>Bankruptcies2</th>\n",
       "      <th></th>\n",
       "      <th></th>\n",
       "    </tr>\n",
       "  </thead>\n",
       "  <tbody>\n",
       "    <tr>\n",
       "      <th>Bankruptcies 1: 0</th>\n",
       "      <td>0.788598</td>\n",
       "      <td>0.211402</td>\n",
       "    </tr>\n",
       "    <tr>\n",
       "      <th>Bankruptcies 2: &gt;0</th>\n",
       "      <td>0.803235</td>\n",
       "      <td>0.196765</td>\n",
       "    </tr>\n",
       "  </tbody>\n",
       "</table>\n",
       "</div>"
      ],
      "text/plain": [
       "default                    0         1\n",
       "Bankruptcies2                         \n",
       "Bankruptcies 1: 0   0.788598  0.211402\n",
       "Bankruptcies 2: >0  0.803235  0.196765"
      ]
     },
     "execution_count": 107,
     "metadata": {},
     "output_type": "execute_result"
    },
    {
     "data": {
      "application/javascript": [
       "\n",
       "            setTimeout(function() {\n",
       "                var nbb_cell_id = 107;\n",
       "                var nbb_unformatted_code = \"pd.crosstab(data_dropna[\\\"Bankruptcies2\\\"], data_dropna[\\\"default\\\"]).apply(\\n    lambda r: r / r.sum(), axis=1\\n)\";\n",
       "                var nbb_formatted_code = \"pd.crosstab(data_dropna[\\\"Bankruptcies2\\\"], data_dropna[\\\"default\\\"]).apply(\\n    lambda r: r / r.sum(), axis=1\\n)\";\n",
       "                var nbb_cells = Jupyter.notebook.get_cells();\n",
       "                for (var i = 0; i < nbb_cells.length; ++i) {\n",
       "                    if (nbb_cells[i].input_prompt_number == nbb_cell_id) {\n",
       "                        if (nbb_cells[i].get_text() == nbb_unformatted_code) {\n",
       "                             nbb_cells[i].set_text(nbb_formatted_code);\n",
       "                        }\n",
       "                        break;\n",
       "                    }\n",
       "                }\n",
       "            }, 500);\n",
       "            "
      ],
      "text/plain": [
       "<IPython.core.display.Javascript object>"
      ]
     },
     "metadata": {},
     "output_type": "display_data"
    }
   ],
   "source": [
    "pd.crosstab(data_dropna[\"Bankruptcies2\"], data_dropna[\"default\"]).apply(\n",
    "    lambda r: r / r.sum(), axis=1\n",
    ")"
   ]
  },
  {
   "cell_type": "code",
   "execution_count": 108,
   "metadata": {},
   "outputs": [
    {
     "data": {
      "text/plain": [
       "Text(0, 0.5, 'Proportion of Defaults')"
      ]
     },
     "execution_count": 108,
     "metadata": {},
     "output_type": "execute_result"
    },
    {
     "data": {
      "image/png": "[encoded data removed]",
      "text/plain": [
       "<Figure size 432x288 with 1 Axes>"
      ]
     },
     "metadata": {
      "needs_background": "light"
     },
     "output_type": "display_data"
    },
    {
     "data": {
      "application/javascript": [
       "\n",
       "            setTimeout(function() {\n",
       "                var nbb_cell_id = 108;\n",
       "                var nbb_unformatted_code = \"%matplotlib inline\\ntable = pd.crosstab(data_dropna[\\\"Bankruptcies2\\\"], data_dropna[\\\"default\\\"])\\ntable.div(table.sum(1).astype(float), axis=0).plot(\\n    kind=\\\"bar\\\", color=[\\\"cadetblue\\\", \\\"crimson\\\"], stacked=True\\n)\\nplt.title(\\\"Stacked Bar Chart of Number of Bankruptcies vs Default\\\")\\nplt.xlabel(\\\"Number of Bankruptcies\\\")\\nplt.ylabel(\\\"Proportion of Defaults\\\")\";\n",
       "                var nbb_formatted_code = \"%matplotlib inline\\ntable = pd.crosstab(data_dropna[\\\"Bankruptcies2\\\"], data_dropna[\\\"default\\\"])\\ntable.div(table.sum(1).astype(float), axis=0).plot(\\n    kind=\\\"bar\\\", color=[\\\"cadetblue\\\", \\\"crimson\\\"], stacked=True\\n)\\nplt.title(\\\"Stacked Bar Chart of Number of Bankruptcies vs Default\\\")\\nplt.xlabel(\\\"Number of Bankruptcies\\\")\\nplt.ylabel(\\\"Proportion of Defaults\\\")\";\n",
       "                var nbb_cells = Jupyter.notebook.get_cells();\n",
       "                for (var i = 0; i < nbb_cells.length; ++i) {\n",
       "                    if (nbb_cells[i].input_prompt_number == nbb_cell_id) {\n",
       "                        if (nbb_cells[i].get_text() == nbb_unformatted_code) {\n",
       "                             nbb_cells[i].set_text(nbb_formatted_code);\n",
       "                        }\n",
       "                        break;\n",
       "                    }\n",
       "                }\n",
       "            }, 500);\n",
       "            "
      ],
      "text/plain": [
       "<IPython.core.display.Javascript object>"
      ]
     },
     "metadata": {},
     "output_type": "display_data"
    }
   ],
   "source": [
    "%matplotlib inline\n",
    "table = pd.crosstab(data_dropna[\"Bankruptcies2\"], data_dropna[\"default\"])\n",
    "table.div(table.sum(1).astype(float), axis=0).plot(\n",
    "    kind=\"bar\", color=[\"cadetblue\", \"crimson\"], stacked=True\n",
    ")\n",
    "plt.title(\"Stacked Bar Chart of Number of Bankruptcies vs Default\")\n",
    "plt.xlabel(\"Number of Bankruptcies\")\n",
    "plt.ylabel(\"Proportion of Defaults\")"
   ]
  },
  {
   "cell_type": "markdown",
   "metadata": {},
   "source": [
    "#### Home Ownership - This Variable does not show reasonable trend as we would expect people with own home to have smallest default rate"
   ]
  },
  {
   "cell_type": "code",
   "execution_count": 109,
   "metadata": {},
   "outputs": [
    {
     "data": {
      "image/png": "[encoded data removed]",
      "text/plain": [
       "<Figure size 432x288 with 1 Axes>"
      ]
     },
     "metadata": {
      "needs_background": "light"
     },
     "output_type": "display_data"
    },
    {
     "data": {
      "application/javascript": [
       "\n",
       "            setTimeout(function() {\n",
       "                var nbb_cell_id = 109;\n",
       "                var nbb_unformatted_code = \"plt.hist(data_dropna[\\\"Home Ownership\\\"], bins=5, color=\\\"cadetblue\\\")\\nplt.xticks(rotation=\\\"vertical\\\")\\nplt.show()\";\n",
       "                var nbb_formatted_code = \"plt.hist(data_dropna[\\\"Home Ownership\\\"], bins=5, color=\\\"cadetblue\\\")\\nplt.xticks(rotation=\\\"vertical\\\")\\nplt.show()\";\n",
       "                var nbb_cells = Jupyter.notebook.get_cells();\n",
       "                for (var i = 0; i < nbb_cells.length; ++i) {\n",
       "                    if (nbb_cells[i].input_prompt_number == nbb_cell_id) {\n",
       "                        if (nbb_cells[i].get_text() == nbb_unformatted_code) {\n",
       "                             nbb_cells[i].set_text(nbb_formatted_code);\n",
       "                        }\n",
       "                        break;\n",
       "                    }\n",
       "                }\n",
       "            }, 500);\n",
       "            "
      ],
      "text/plain": [
       "<IPython.core.display.Javascript object>"
      ]
     },
     "metadata": {},
     "output_type": "display_data"
    }
   ],
   "source": [
    "plt.hist(data_dropna[\"Home Ownership\"], bins=5, color=\"cadetblue\")\n",
    "plt.xticks(rotation=\"vertical\")\n",
    "plt.show()"
   ]
  },
  {
   "cell_type": "code",
   "execution_count": 110,
   "metadata": {},
   "outputs": [
    {
     "name": "stderr",
     "output_type": "stream",
     "text": [
      "C:\\Users\\Asus\\.conda\\envs\\py37\\lib\\site-packages\\ipykernel_launcher.py:2: SettingWithCopyWarning: \n",
      "A value is trying to be set on a copy of a slice from a DataFrame.\n",
      "Try using .loc[row_indexer,col_indexer] = value instead\n",
      "\n",
      "See the caveats in the documentation: http://pandas.pydata.org/pandas-docs/stable/indexing.html#indexing-view-versus-copy\n",
      "  \n"
     ]
    },
    {
     "data": {
      "application/javascript": [
       "\n",
       "            setTimeout(function() {\n",
       "                var nbb_cell_id = 110;\n",
       "                var nbb_unformatted_code = \"data_dropna[\\\"Home Ownership2\\\"] = data_dropna[\\\"Home Ownership\\\"].apply(\\n    lambda x: \\\"HO 1: Own Home\\\"\\n    if x == \\\"Own Home\\\"\\n    else (\\\"HO 2: Rent\\\" if x == \\\"Rent\\\" else \\\"HO 3: Mortgage\\\")\\n)\";\n",
       "                var nbb_formatted_code = \"data_dropna[\\\"Home Ownership2\\\"] = data_dropna[\\\"Home Ownership\\\"].apply(\\n    lambda x: \\\"HO 1: Own Home\\\"\\n    if x == \\\"Own Home\\\"\\n    else (\\\"HO 2: Rent\\\" if x == \\\"Rent\\\" else \\\"HO 3: Mortgage\\\")\\n)\";\n",
       "                var nbb_cells = Jupyter.notebook.get_cells();\n",
       "                for (var i = 0; i < nbb_cells.length; ++i) {\n",
       "                    if (nbb_cells[i].input_prompt_number == nbb_cell_id) {\n",
       "                        if (nbb_cells[i].get_text() == nbb_unformatted_code) {\n",
       "                             nbb_cells[i].set_text(nbb_formatted_code);\n",
       "                        }\n",
       "                        break;\n",
       "                    }\n",
       "                }\n",
       "            }, 500);\n",
       "            "
      ],
      "text/plain": [
       "<IPython.core.display.Javascript object>"
      ]
     },
     "metadata": {},
     "output_type": "display_data"
    }
   ],
   "source": [
    "data_dropna[\"Home Ownership2\"] = data_dropna[\"Home Ownership\"].apply(\n",
    "    lambda x: \"HO 1: Own Home\"\n",
    "    if x == \"Own Home\"\n",
    "    else (\"HO 2: Rent\" if x == \"Rent\" else \"HO 3: Mortgage\")\n",
    ")"
   ]
  },
  {
   "cell_type": "code",
   "execution_count": 111,
   "metadata": {},
   "outputs": [
    {
     "data": {
      "text/html": [
       "<div>\n",
       "<style scoped>\n",
       "    .dataframe tbody tr th:only-of-type {\n",
       "        vertical-align: middle;\n",
       "    }\n",
       "\n",
       "    .dataframe tbody tr th {\n",
       "        vertical-align: top;\n",
       "    }\n",
       "\n",
       "    .dataframe thead th {\n",
       "        text-align: right;\n",
       "    }\n",
       "</style>\n",
       "<table border=\"1\" class=\"dataframe\">\n",
       "  <thead>\n",
       "    <tr style=\"text-align: right;\">\n",
       "      <th>default</th>\n",
       "      <th>0</th>\n",
       "      <th>1</th>\n",
       "    </tr>\n",
       "    <tr>\n",
       "      <th>Home Ownership2</th>\n",
       "      <th></th>\n",
       "      <th></th>\n",
       "    </tr>\n",
       "  </thead>\n",
       "  <tbody>\n",
       "    <tr>\n",
       "      <th>HO 1: Own Home</th>\n",
       "      <td>5380</td>\n",
       "      <td>1455</td>\n",
       "    </tr>\n",
       "    <tr>\n",
       "      <th>HO 2: Rent</th>\n",
       "      <td>25157</td>\n",
       "      <td>7609</td>\n",
       "    </tr>\n",
       "    <tr>\n",
       "      <th>HO 3: Mortgage</th>\n",
       "      <td>30520</td>\n",
       "      <td>7150</td>\n",
       "    </tr>\n",
       "  </tbody>\n",
       "</table>\n",
       "</div>"
      ],
      "text/plain": [
       "default              0     1\n",
       "Home Ownership2             \n",
       "HO 1: Own Home    5380  1455\n",
       "HO 2: Rent       25157  7609\n",
       "HO 3: Mortgage   30520  7150"
      ]
     },
     "execution_count": 111,
     "metadata": {},
     "output_type": "execute_result"
    },
    {
     "data": {
      "application/javascript": [
       "\n",
       "            setTimeout(function() {\n",
       "                var nbb_cell_id = 111;\n",
       "                var nbb_unformatted_code = \"pd.crosstab(data_dropna[\\\"Home Ownership2\\\"], data_dropna[\\\"default\\\"])\";\n",
       "                var nbb_formatted_code = \"pd.crosstab(data_dropna[\\\"Home Ownership2\\\"], data_dropna[\\\"default\\\"])\";\n",
       "                var nbb_cells = Jupyter.notebook.get_cells();\n",
       "                for (var i = 0; i < nbb_cells.length; ++i) {\n",
       "                    if (nbb_cells[i].input_prompt_number == nbb_cell_id) {\n",
       "                        if (nbb_cells[i].get_text() == nbb_unformatted_code) {\n",
       "                             nbb_cells[i].set_text(nbb_formatted_code);\n",
       "                        }\n",
       "                        break;\n",
       "                    }\n",
       "                }\n",
       "            }, 500);\n",
       "            "
      ],
      "text/plain": [
       "<IPython.core.display.Javascript object>"
      ]
     },
     "metadata": {},
     "output_type": "display_data"
    }
   ],
   "source": [
    "pd.crosstab(data_dropna[\"Home Ownership2\"], data_dropna[\"default\"])"
   ]
  },
  {
   "cell_type": "code",
   "execution_count": 112,
   "metadata": {},
   "outputs": [
    {
     "data": {
      "text/html": [
       "<div>\n",
       "<style scoped>\n",
       "    .dataframe tbody tr th:only-of-type {\n",
       "        vertical-align: middle;\n",
       "    }\n",
       "\n",
       "    .dataframe tbody tr th {\n",
       "        vertical-align: top;\n",
       "    }\n",
       "\n",
       "    .dataframe thead th {\n",
       "        text-align: right;\n",
       "    }\n",
       "</style>\n",
       "<table border=\"1\" class=\"dataframe\">\n",
       "  <thead>\n",
       "    <tr style=\"text-align: right;\">\n",
       "      <th>default</th>\n",
       "      <th>0</th>\n",
       "      <th>1</th>\n",
       "    </tr>\n",
       "    <tr>\n",
       "      <th>Home Ownership2</th>\n",
       "      <th></th>\n",
       "      <th></th>\n",
       "    </tr>\n",
       "  </thead>\n",
       "  <tbody>\n",
       "    <tr>\n",
       "      <th>HO 1: Own Home</th>\n",
       "      <td>0.787125</td>\n",
       "      <td>0.212875</td>\n",
       "    </tr>\n",
       "    <tr>\n",
       "      <th>HO 2: Rent</th>\n",
       "      <td>0.767778</td>\n",
       "      <td>0.232222</td>\n",
       "    </tr>\n",
       "    <tr>\n",
       "      <th>HO 3: Mortgage</th>\n",
       "      <td>0.810194</td>\n",
       "      <td>0.189806</td>\n",
       "    </tr>\n",
       "  </tbody>\n",
       "</table>\n",
       "</div>"
      ],
      "text/plain": [
       "default                 0         1\n",
       "Home Ownership2                    \n",
       "HO 1: Own Home   0.787125  0.212875\n",
       "HO 2: Rent       0.767778  0.232222\n",
       "HO 3: Mortgage   0.810194  0.189806"
      ]
     },
     "execution_count": 112,
     "metadata": {},
     "output_type": "execute_result"
    },
    {
     "data": {
      "application/javascript": [
       "\n",
       "            setTimeout(function() {\n",
       "                var nbb_cell_id = 112;\n",
       "                var nbb_unformatted_code = \"pd.crosstab(data_dropna[\\\"Home Ownership2\\\"], data_dropna[\\\"default\\\"]).apply(\\n    lambda r: r / r.sum(), axis=1\\n)\";\n",
       "                var nbb_formatted_code = \"pd.crosstab(data_dropna[\\\"Home Ownership2\\\"], data_dropna[\\\"default\\\"]).apply(\\n    lambda r: r / r.sum(), axis=1\\n)\";\n",
       "                var nbb_cells = Jupyter.notebook.get_cells();\n",
       "                for (var i = 0; i < nbb_cells.length; ++i) {\n",
       "                    if (nbb_cells[i].input_prompt_number == nbb_cell_id) {\n",
       "                        if (nbb_cells[i].get_text() == nbb_unformatted_code) {\n",
       "                             nbb_cells[i].set_text(nbb_formatted_code);\n",
       "                        }\n",
       "                        break;\n",
       "                    }\n",
       "                }\n",
       "            }, 500);\n",
       "            "
      ],
      "text/plain": [
       "<IPython.core.display.Javascript object>"
      ]
     },
     "metadata": {},
     "output_type": "display_data"
    }
   ],
   "source": [
    "pd.crosstab(data_dropna[\"Home Ownership2\"], data_dropna[\"default\"]).apply(\n",
    "    lambda r: r / r.sum(), axis=1\n",
    ")"
   ]
  },
  {
   "cell_type": "code",
   "execution_count": 113,
   "metadata": {},
   "outputs": [
    {
     "data": {
      "text/plain": [
       "Text(0, 0.5, 'Proportion of Defaults')"
      ]
     },
     "execution_count": 113,
     "metadata": {},
     "output_type": "execute_result"
    },
    {
     "data": {
      "image/png": "[encoded data removed]",
      "text/plain": [
       "<Figure size 432x288 with 1 Axes>"
      ]
     },
     "metadata": {
      "needs_background": "light"
     },
     "output_type": "display_data"
    },
    {
     "data": {
      "application/javascript": [
       "\n",
       "            setTimeout(function() {\n",
       "                var nbb_cell_id = 113;\n",
       "                var nbb_unformatted_code = \"%matplotlib inline\\ntable = pd.crosstab(data_dropna[\\\"Home Ownership2\\\"], data_dropna[\\\"default\\\"])\\ntable.div(table.sum(1).astype(float), axis=0).plot(\\n    kind=\\\"bar\\\", color=[\\\"cadetblue\\\", \\\"crimson\\\"], stacked=True\\n)\\nplt.title(\\\"Stacked Bar Chart of Home Ownership vs Default\\\")\\nplt.xlabel(\\\"Number of Home Ownership\\\")\\nplt.ylabel(\\\"Proportion of Defaults\\\")\";\n",
       "                var nbb_formatted_code = \"%matplotlib inline\\ntable = pd.crosstab(data_dropna[\\\"Home Ownership2\\\"], data_dropna[\\\"default\\\"])\\ntable.div(table.sum(1).astype(float), axis=0).plot(\\n    kind=\\\"bar\\\", color=[\\\"cadetblue\\\", \\\"crimson\\\"], stacked=True\\n)\\nplt.title(\\\"Stacked Bar Chart of Home Ownership vs Default\\\")\\nplt.xlabel(\\\"Number of Home Ownership\\\")\\nplt.ylabel(\\\"Proportion of Defaults\\\")\";\n",
       "                var nbb_cells = Jupyter.notebook.get_cells();\n",
       "                for (var i = 0; i < nbb_cells.length; ++i) {\n",
       "                    if (nbb_cells[i].input_prompt_number == nbb_cell_id) {\n",
       "                        if (nbb_cells[i].get_text() == nbb_unformatted_code) {\n",
       "                             nbb_cells[i].set_text(nbb_formatted_code);\n",
       "                        }\n",
       "                        break;\n",
       "                    }\n",
       "                }\n",
       "            }, 500);\n",
       "            "
      ],
      "text/plain": [
       "<IPython.core.display.Javascript object>"
      ]
     },
     "metadata": {},
     "output_type": "display_data"
    }
   ],
   "source": [
    "%matplotlib inline\n",
    "table = pd.crosstab(data_dropna[\"Home Ownership2\"], data_dropna[\"default\"])\n",
    "table.div(table.sum(1).astype(float), axis=0).plot(\n",
    "    kind=\"bar\", color=[\"cadetblue\", \"crimson\"], stacked=True\n",
    ")\n",
    "plt.title(\"Stacked Bar Chart of Home Ownership vs Default\")\n",
    "plt.xlabel(\"Number of Home Ownership\")\n",
    "plt.ylabel(\"Proportion of Defaults\")"
   ]
  },
  {
   "cell_type": "markdown",
   "metadata": {},
   "source": [
    "#### Purpose"
   ]
  },
  {
   "cell_type": "code",
   "execution_count": 114,
   "metadata": {},
   "outputs": [
    {
     "data": {
      "text/html": [
       "<div>\n",
       "<style scoped>\n",
       "    .dataframe tbody tr th:only-of-type {\n",
       "        vertical-align: middle;\n",
       "    }\n",
       "\n",
       "    .dataframe tbody tr th {\n",
       "        vertical-align: top;\n",
       "    }\n",
       "\n",
       "    .dataframe thead th {\n",
       "        text-align: right;\n",
       "    }\n",
       "</style>\n",
       "<table border=\"1\" class=\"dataframe\">\n",
       "  <thead>\n",
       "    <tr style=\"text-align: right;\">\n",
       "      <th>default</th>\n",
       "      <th>0</th>\n",
       "      <th>1</th>\n",
       "    </tr>\n",
       "    <tr>\n",
       "      <th>Purpose</th>\n",
       "      <th></th>\n",
       "      <th></th>\n",
       "    </tr>\n",
       "  </thead>\n",
       "  <tbody>\n",
       "    <tr>\n",
       "      <th>Business Loan</th>\n",
       "      <td>881</td>\n",
       "      <td>352</td>\n",
       "    </tr>\n",
       "    <tr>\n",
       "      <th>Buy House</th>\n",
       "      <td>434</td>\n",
       "      <td>107</td>\n",
       "    </tr>\n",
       "    <tr>\n",
       "      <th>Buy a Car</th>\n",
       "      <td>826</td>\n",
       "      <td>151</td>\n",
       "    </tr>\n",
       "    <tr>\n",
       "      <th>Debt Consolidation</th>\n",
       "      <td>47821</td>\n",
       "      <td>12866</td>\n",
       "    </tr>\n",
       "    <tr>\n",
       "      <th>Educational Expenses</th>\n",
       "      <td>63</td>\n",
       "      <td>9</td>\n",
       "    </tr>\n",
       "    <tr>\n",
       "      <th>Home Improvements</th>\n",
       "      <td>3619</td>\n",
       "      <td>829</td>\n",
       "    </tr>\n",
       "    <tr>\n",
       "      <th>Medical Bills</th>\n",
       "      <td>663</td>\n",
       "      <td>188</td>\n",
       "    </tr>\n",
       "    <tr>\n",
       "      <th>Other</th>\n",
       "      <td>2101</td>\n",
       "      <td>423</td>\n",
       "    </tr>\n",
       "    <tr>\n",
       "      <th>Take a Trip</th>\n",
       "      <td>378</td>\n",
       "      <td>77</td>\n",
       "    </tr>\n",
       "    <tr>\n",
       "      <th>major_purchase</th>\n",
       "      <td>211</td>\n",
       "      <td>56</td>\n",
       "    </tr>\n",
       "    <tr>\n",
       "      <th>moving</th>\n",
       "      <td>85</td>\n",
       "      <td>31</td>\n",
       "    </tr>\n",
       "    <tr>\n",
       "      <th>other</th>\n",
       "      <td>3705</td>\n",
       "      <td>1008</td>\n",
       "    </tr>\n",
       "    <tr>\n",
       "      <th>renewable_energy</th>\n",
       "      <td>6</td>\n",
       "      <td>2</td>\n",
       "    </tr>\n",
       "    <tr>\n",
       "      <th>small_business</th>\n",
       "      <td>140</td>\n",
       "      <td>85</td>\n",
       "    </tr>\n",
       "    <tr>\n",
       "      <th>vacation</th>\n",
       "      <td>53</td>\n",
       "      <td>16</td>\n",
       "    </tr>\n",
       "    <tr>\n",
       "      <th>wedding</th>\n",
       "      <td>71</td>\n",
       "      <td>14</td>\n",
       "    </tr>\n",
       "  </tbody>\n",
       "</table>\n",
       "</div>"
      ],
      "text/plain": [
       "default                   0      1\n",
       "Purpose                           \n",
       "Business Loan           881    352\n",
       "Buy House               434    107\n",
       "Buy a Car               826    151\n",
       "Debt Consolidation    47821  12866\n",
       "Educational Expenses     63      9\n",
       "Home Improvements      3619    829\n",
       "Medical Bills           663    188\n",
       "Other                  2101    423\n",
       "Take a Trip             378     77\n",
       "major_purchase          211     56\n",
       "moving                   85     31\n",
       "other                  3705   1008\n",
       "renewable_energy          6      2\n",
       "small_business          140     85\n",
       "vacation                 53     16\n",
       "wedding                  71     14"
      ]
     },
     "execution_count": 114,
     "metadata": {},
     "output_type": "execute_result"
    },
    {
     "data": {
      "application/javascript": [
       "\n",
       "            setTimeout(function() {\n",
       "                var nbb_cell_id = 114;\n",
       "                var nbb_unformatted_code = \"pd.crosstab(data_dropna[\\\"Purpose\\\"], data_dropna[\\\"default\\\"])\";\n",
       "                var nbb_formatted_code = \"pd.crosstab(data_dropna[\\\"Purpose\\\"], data_dropna[\\\"default\\\"])\";\n",
       "                var nbb_cells = Jupyter.notebook.get_cells();\n",
       "                for (var i = 0; i < nbb_cells.length; ++i) {\n",
       "                    if (nbb_cells[i].input_prompt_number == nbb_cell_id) {\n",
       "                        if (nbb_cells[i].get_text() == nbb_unformatted_code) {\n",
       "                             nbb_cells[i].set_text(nbb_formatted_code);\n",
       "                        }\n",
       "                        break;\n",
       "                    }\n",
       "                }\n",
       "            }, 500);\n",
       "            "
      ],
      "text/plain": [
       "<IPython.core.display.Javascript object>"
      ]
     },
     "metadata": {},
     "output_type": "display_data"
    }
   ],
   "source": [
    "pd.crosstab(data_dropna[\"Purpose\"], data_dropna[\"default\"])"
   ]
  },
  {
   "cell_type": "code",
   "execution_count": 115,
   "metadata": {},
   "outputs": [
    {
     "data": {
      "text/html": [
       "<div>\n",
       "<style scoped>\n",
       "    .dataframe tbody tr th:only-of-type {\n",
       "        vertical-align: middle;\n",
       "    }\n",
       "\n",
       "    .dataframe tbody tr th {\n",
       "        vertical-align: top;\n",
       "    }\n",
       "\n",
       "    .dataframe thead th {\n",
       "        text-align: right;\n",
       "    }\n",
       "</style>\n",
       "<table border=\"1\" class=\"dataframe\">\n",
       "  <thead>\n",
       "    <tr style=\"text-align: right;\">\n",
       "      <th>default</th>\n",
       "      <th>0</th>\n",
       "      <th>1</th>\n",
       "    </tr>\n",
       "    <tr>\n",
       "      <th>Purpose</th>\n",
       "      <th></th>\n",
       "      <th></th>\n",
       "    </tr>\n",
       "  </thead>\n",
       "  <tbody>\n",
       "    <tr>\n",
       "      <th>Business Loan</th>\n",
       "      <td>0.714517</td>\n",
       "      <td>0.285483</td>\n",
       "    </tr>\n",
       "    <tr>\n",
       "      <th>Buy House</th>\n",
       "      <td>0.802218</td>\n",
       "      <td>0.197782</td>\n",
       "    </tr>\n",
       "    <tr>\n",
       "      <th>Buy a Car</th>\n",
       "      <td>0.845445</td>\n",
       "      <td>0.154555</td>\n",
       "    </tr>\n",
       "    <tr>\n",
       "      <th>Debt Consolidation</th>\n",
       "      <td>0.787994</td>\n",
       "      <td>0.212006</td>\n",
       "    </tr>\n",
       "    <tr>\n",
       "      <th>Educational Expenses</th>\n",
       "      <td>0.875000</td>\n",
       "      <td>0.125000</td>\n",
       "    </tr>\n",
       "    <tr>\n",
       "      <th>Home Improvements</th>\n",
       "      <td>0.813624</td>\n",
       "      <td>0.186376</td>\n",
       "    </tr>\n",
       "    <tr>\n",
       "      <th>Medical Bills</th>\n",
       "      <td>0.779083</td>\n",
       "      <td>0.220917</td>\n",
       "    </tr>\n",
       "    <tr>\n",
       "      <th>Other</th>\n",
       "      <td>0.832409</td>\n",
       "      <td>0.167591</td>\n",
       "    </tr>\n",
       "    <tr>\n",
       "      <th>Take a Trip</th>\n",
       "      <td>0.830769</td>\n",
       "      <td>0.169231</td>\n",
       "    </tr>\n",
       "    <tr>\n",
       "      <th>major_purchase</th>\n",
       "      <td>0.790262</td>\n",
       "      <td>0.209738</td>\n",
       "    </tr>\n",
       "    <tr>\n",
       "      <th>moving</th>\n",
       "      <td>0.732759</td>\n",
       "      <td>0.267241</td>\n",
       "    </tr>\n",
       "    <tr>\n",
       "      <th>other</th>\n",
       "      <td>0.786123</td>\n",
       "      <td>0.213877</td>\n",
       "    </tr>\n",
       "    <tr>\n",
       "      <th>renewable_energy</th>\n",
       "      <td>0.750000</td>\n",
       "      <td>0.250000</td>\n",
       "    </tr>\n",
       "    <tr>\n",
       "      <th>small_business</th>\n",
       "      <td>0.622222</td>\n",
       "      <td>0.377778</td>\n",
       "    </tr>\n",
       "    <tr>\n",
       "      <th>vacation</th>\n",
       "      <td>0.768116</td>\n",
       "      <td>0.231884</td>\n",
       "    </tr>\n",
       "    <tr>\n",
       "      <th>wedding</th>\n",
       "      <td>0.835294</td>\n",
       "      <td>0.164706</td>\n",
       "    </tr>\n",
       "  </tbody>\n",
       "</table>\n",
       "</div>"
      ],
      "text/plain": [
       "default                      0         1\n",
       "Purpose                                 \n",
       "Business Loan         0.714517  0.285483\n",
       "Buy House             0.802218  0.197782\n",
       "Buy a Car             0.845445  0.154555\n",
       "Debt Consolidation    0.787994  0.212006\n",
       "Educational Expenses  0.875000  0.125000\n",
       "Home Improvements     0.813624  0.186376\n",
       "Medical Bills         0.779083  0.220917\n",
       "Other                 0.832409  0.167591\n",
       "Take a Trip           0.830769  0.169231\n",
       "major_purchase        0.790262  0.209738\n",
       "moving                0.732759  0.267241\n",
       "other                 0.786123  0.213877\n",
       "renewable_energy      0.750000  0.250000\n",
       "small_business        0.622222  0.377778\n",
       "vacation              0.768116  0.231884\n",
       "wedding               0.835294  0.164706"
      ]
     },
     "execution_count": 115,
     "metadata": {},
     "output_type": "execute_result"
    },
    {
     "data": {
      "application/javascript": [
       "\n",
       "            setTimeout(function() {\n",
       "                var nbb_cell_id = 115;\n",
       "                var nbb_unformatted_code = \"pd.crosstab(data_dropna[\\\"Purpose\\\"], data_dropna[\\\"default\\\"]).apply(\\n    lambda r: r / r.sum(), axis=1\\n)\";\n",
       "                var nbb_formatted_code = \"pd.crosstab(data_dropna[\\\"Purpose\\\"], data_dropna[\\\"default\\\"]).apply(\\n    lambda r: r / r.sum(), axis=1\\n)\";\n",
       "                var nbb_cells = Jupyter.notebook.get_cells();\n",
       "                for (var i = 0; i < nbb_cells.length; ++i) {\n",
       "                    if (nbb_cells[i].input_prompt_number == nbb_cell_id) {\n",
       "                        if (nbb_cells[i].get_text() == nbb_unformatted_code) {\n",
       "                             nbb_cells[i].set_text(nbb_formatted_code);\n",
       "                        }\n",
       "                        break;\n",
       "                    }\n",
       "                }\n",
       "            }, 500);\n",
       "            "
      ],
      "text/plain": [
       "<IPython.core.display.Javascript object>"
      ]
     },
     "metadata": {},
     "output_type": "display_data"
    }
   ],
   "source": [
    "pd.crosstab(data_dropna[\"Purpose\"], data_dropna[\"default\"]).apply(\n",
    "    lambda r: r / r.sum(), axis=1\n",
    ")"
   ]
  },
  {
   "cell_type": "code",
   "execution_count": 116,
   "metadata": {},
   "outputs": [
    {
     "name": "stderr",
     "output_type": "stream",
     "text": [
      "C:\\Users\\Asus\\.conda\\envs\\py37\\lib\\site-packages\\ipykernel_launcher.py:2: SettingWithCopyWarning: \n",
      "A value is trying to be set on a copy of a slice from a DataFrame.\n",
      "Try using .loc[row_indexer,col_indexer] = value instead\n",
      "\n",
      "See the caveats in the documentation: http://pandas.pydata.org/pandas-docs/stable/indexing.html#indexing-view-versus-copy\n",
      "  \n"
     ]
    },
    {
     "data": {
      "application/javascript": [
       "\n",
       "            setTimeout(function() {\n",
       "                var nbb_cell_id = 116;\n",
       "                var nbb_unformatted_code = \"data_dropna[\\\"Purpose2\\\"] = data_dropna[\\\"Purpose\\\"].apply(\\n    lambda x: \\\"Purpose 1: Vacation\\\"\\n    if (x == \\\"vacation\\\" or x == \\\"Take a Trip\\\")\\n    else (\\n        \\\"Purpose 2: Business\\\"\\n        if (x == \\\"small_business\\\" or x == \\\"Business Loan\\\")\\n        else (\\n            \\\"Purpose 3: Debt Consolidation\\\"\\n            if x == \\\"Debt Consolidation\\\"\\n            else (\\n                \\\"Purpose 4: Home\\\"\\n                if (x == \\\"Buy House\\\" or x == \\\"Home Improvements\\\")\\n                else (\\\"Purpose 5: Car\\\" if (x == \\\"Buy a Car\\\") else \\\"Purpose 6: Other\\\")\\n            )\\n        )\\n    )\\n)\";\n",
       "                var nbb_formatted_code = \"data_dropna[\\\"Purpose2\\\"] = data_dropna[\\\"Purpose\\\"].apply(\\n    lambda x: \\\"Purpose 1: Vacation\\\"\\n    if (x == \\\"vacation\\\" or x == \\\"Take a Trip\\\")\\n    else (\\n        \\\"Purpose 2: Business\\\"\\n        if (x == \\\"small_business\\\" or x == \\\"Business Loan\\\")\\n        else (\\n            \\\"Purpose 3: Debt Consolidation\\\"\\n            if x == \\\"Debt Consolidation\\\"\\n            else (\\n                \\\"Purpose 4: Home\\\"\\n                if (x == \\\"Buy House\\\" or x == \\\"Home Improvements\\\")\\n                else (\\\"Purpose 5: Car\\\" if (x == \\\"Buy a Car\\\") else \\\"Purpose 6: Other\\\")\\n            )\\n        )\\n    )\\n)\";\n",
       "                var nbb_cells = Jupyter.notebook.get_cells();\n",
       "                for (var i = 0; i < nbb_cells.length; ++i) {\n",
       "                    if (nbb_cells[i].input_prompt_number == nbb_cell_id) {\n",
       "                        if (nbb_cells[i].get_text() == nbb_unformatted_code) {\n",
       "                             nbb_cells[i].set_text(nbb_formatted_code);\n",
       "                        }\n",
       "                        break;\n",
       "                    }\n",
       "                }\n",
       "            }, 500);\n",
       "            "
      ],
      "text/plain": [
       "<IPython.core.display.Javascript object>"
      ]
     },
     "metadata": {},
     "output_type": "display_data"
    }
   ],
   "source": [
    "data_dropna[\"Purpose2\"] = data_dropna[\"Purpose\"].apply(\n",
    "    lambda x: \"Purpose 1: Vacation\"\n",
    "    if (x == \"vacation\" or x == \"Take a Trip\")\n",
    "    else (\n",
    "        \"Purpose 2: Business\"\n",
    "        if (x == \"small_business\" or x == \"Business Loan\")\n",
    "        else (\n",
    "            \"Purpose 3: Debt Consolidation\"\n",
    "            if x == \"Debt Consolidation\"\n",
    "            else (\n",
    "                \"Purpose 4: Home\"\n",
    "                if (x == \"Buy House\" or x == \"Home Improvements\")\n",
    "                else (\"Purpose 5: Car\" if (x == \"Buy a Car\") else \"Purpose 6: Other\")\n",
    "            )\n",
    "        )\n",
    "    )\n",
    ")"
   ]
  },
  {
   "cell_type": "code",
   "execution_count": 117,
   "metadata": {},
   "outputs": [
    {
     "data": {
      "text/html": [
       "<div>\n",
       "<style scoped>\n",
       "    .dataframe tbody tr th:only-of-type {\n",
       "        vertical-align: middle;\n",
       "    }\n",
       "\n",
       "    .dataframe tbody tr th {\n",
       "        vertical-align: top;\n",
       "    }\n",
       "\n",
       "    .dataframe thead th {\n",
       "        text-align: right;\n",
       "    }\n",
       "</style>\n",
       "<table border=\"1\" class=\"dataframe\">\n",
       "  <thead>\n",
       "    <tr style=\"text-align: right;\">\n",
       "      <th>default</th>\n",
       "      <th>0</th>\n",
       "      <th>1</th>\n",
       "    </tr>\n",
       "    <tr>\n",
       "      <th>Purpose2</th>\n",
       "      <th></th>\n",
       "      <th></th>\n",
       "    </tr>\n",
       "  </thead>\n",
       "  <tbody>\n",
       "    <tr>\n",
       "      <th>Purpose 1: Vacation</th>\n",
       "      <td>0.822519</td>\n",
       "      <td>0.177481</td>\n",
       "    </tr>\n",
       "    <tr>\n",
       "      <th>Purpose 2: Business</th>\n",
       "      <td>0.700274</td>\n",
       "      <td>0.299726</td>\n",
       "    </tr>\n",
       "    <tr>\n",
       "      <th>Purpose 3: Debt Consolidation</th>\n",
       "      <td>0.787994</td>\n",
       "      <td>0.212006</td>\n",
       "    </tr>\n",
       "    <tr>\n",
       "      <th>Purpose 4: Home</th>\n",
       "      <td>0.812387</td>\n",
       "      <td>0.187613</td>\n",
       "    </tr>\n",
       "    <tr>\n",
       "      <th>Purpose 5: Car</th>\n",
       "      <td>0.845445</td>\n",
       "      <td>0.154555</td>\n",
       "    </tr>\n",
       "    <tr>\n",
       "      <th>Purpose 6: Other</th>\n",
       "      <td>0.799560</td>\n",
       "      <td>0.200440</td>\n",
       "    </tr>\n",
       "  </tbody>\n",
       "</table>\n",
       "</div>"
      ],
      "text/plain": [
       "default                               0         1\n",
       "Purpose2                                         \n",
       "Purpose 1: Vacation            0.822519  0.177481\n",
       "Purpose 2: Business            0.700274  0.299726\n",
       "Purpose 3: Debt Consolidation  0.787994  0.212006\n",
       "Purpose 4: Home                0.812387  0.187613\n",
       "Purpose 5: Car                 0.845445  0.154555\n",
       "Purpose 6: Other               0.799560  0.200440"
      ]
     },
     "execution_count": 117,
     "metadata": {},
     "output_type": "execute_result"
    },
    {
     "data": {
      "application/javascript": [
       "\n",
       "            setTimeout(function() {\n",
       "                var nbb_cell_id = 117;\n",
       "                var nbb_unformatted_code = \"pd.crosstab(data_dropna[\\\"Purpose2\\\"], data_dropna[\\\"default\\\"]).apply(\\n    lambda r: r / r.sum(), axis=1\\n)\";\n",
       "                var nbb_formatted_code = \"pd.crosstab(data_dropna[\\\"Purpose2\\\"], data_dropna[\\\"default\\\"]).apply(\\n    lambda r: r / r.sum(), axis=1\\n)\";\n",
       "                var nbb_cells = Jupyter.notebook.get_cells();\n",
       "                for (var i = 0; i < nbb_cells.length; ++i) {\n",
       "                    if (nbb_cells[i].input_prompt_number == nbb_cell_id) {\n",
       "                        if (nbb_cells[i].get_text() == nbb_unformatted_code) {\n",
       "                             nbb_cells[i].set_text(nbb_formatted_code);\n",
       "                        }\n",
       "                        break;\n",
       "                    }\n",
       "                }\n",
       "            }, 500);\n",
       "            "
      ],
      "text/plain": [
       "<IPython.core.display.Javascript object>"
      ]
     },
     "metadata": {},
     "output_type": "display_data"
    }
   ],
   "source": [
    "pd.crosstab(data_dropna[\"Purpose2\"], data_dropna[\"default\"]).apply(\n",
    "    lambda r: r / r.sum(), axis=1\n",
    ")"
   ]
  },
  {
   "cell_type": "code",
   "execution_count": 118,
   "metadata": {},
   "outputs": [
    {
     "data": {
      "text/html": [
       "<div>\n",
       "<style scoped>\n",
       "    .dataframe tbody tr th:only-of-type {\n",
       "        vertical-align: middle;\n",
       "    }\n",
       "\n",
       "    .dataframe tbody tr th {\n",
       "        vertical-align: top;\n",
       "    }\n",
       "\n",
       "    .dataframe thead th {\n",
       "        text-align: right;\n",
       "    }\n",
       "</style>\n",
       "<table border=\"1\" class=\"dataframe\">\n",
       "  <thead>\n",
       "    <tr style=\"text-align: right;\">\n",
       "      <th>default</th>\n",
       "      <th>0</th>\n",
       "      <th>1</th>\n",
       "    </tr>\n",
       "    <tr>\n",
       "      <th>Purpose2</th>\n",
       "      <th></th>\n",
       "      <th></th>\n",
       "    </tr>\n",
       "  </thead>\n",
       "  <tbody>\n",
       "    <tr>\n",
       "      <th>Purpose 1: Vacation</th>\n",
       "      <td>431</td>\n",
       "      <td>93</td>\n",
       "    </tr>\n",
       "    <tr>\n",
       "      <th>Purpose 2: Business</th>\n",
       "      <td>1021</td>\n",
       "      <td>437</td>\n",
       "    </tr>\n",
       "    <tr>\n",
       "      <th>Purpose 3: Debt Consolidation</th>\n",
       "      <td>47821</td>\n",
       "      <td>12866</td>\n",
       "    </tr>\n",
       "    <tr>\n",
       "      <th>Purpose 4: Home</th>\n",
       "      <td>4053</td>\n",
       "      <td>936</td>\n",
       "    </tr>\n",
       "    <tr>\n",
       "      <th>Purpose 5: Car</th>\n",
       "      <td>826</td>\n",
       "      <td>151</td>\n",
       "    </tr>\n",
       "    <tr>\n",
       "      <th>Purpose 6: Other</th>\n",
       "      <td>6905</td>\n",
       "      <td>1731</td>\n",
       "    </tr>\n",
       "  </tbody>\n",
       "</table>\n",
       "</div>"
      ],
      "text/plain": [
       "default                            0      1\n",
       "Purpose2                                   \n",
       "Purpose 1: Vacation              431     93\n",
       "Purpose 2: Business             1021    437\n",
       "Purpose 3: Debt Consolidation  47821  12866\n",
       "Purpose 4: Home                 4053    936\n",
       "Purpose 5: Car                   826    151\n",
       "Purpose 6: Other                6905   1731"
      ]
     },
     "execution_count": 118,
     "metadata": {},
     "output_type": "execute_result"
    },
    {
     "data": {
      "application/javascript": [
       "\n",
       "            setTimeout(function() {\n",
       "                var nbb_cell_id = 118;\n",
       "                var nbb_unformatted_code = \"pd.crosstab(data_dropna[\\\"Purpose2\\\"], data_dropna[\\\"default\\\"])\";\n",
       "                var nbb_formatted_code = \"pd.crosstab(data_dropna[\\\"Purpose2\\\"], data_dropna[\\\"default\\\"])\";\n",
       "                var nbb_cells = Jupyter.notebook.get_cells();\n",
       "                for (var i = 0; i < nbb_cells.length; ++i) {\n",
       "                    if (nbb_cells[i].input_prompt_number == nbb_cell_id) {\n",
       "                        if (nbb_cells[i].get_text() == nbb_unformatted_code) {\n",
       "                             nbb_cells[i].set_text(nbb_formatted_code);\n",
       "                        }\n",
       "                        break;\n",
       "                    }\n",
       "                }\n",
       "            }, 500);\n",
       "            "
      ],
      "text/plain": [
       "<IPython.core.display.Javascript object>"
      ]
     },
     "metadata": {},
     "output_type": "display_data"
    }
   ],
   "source": [
    "pd.crosstab(data_dropna[\"Purpose2\"], data_dropna[\"default\"])"
   ]
  },
  {
   "cell_type": "code",
   "execution_count": 119,
   "metadata": {},
   "outputs": [
    {
     "data": {
      "text/plain": [
       "Text(0, 0.5, 'Proportion of Defaults')"
      ]
     },
     "execution_count": 119,
     "metadata": {},
     "output_type": "execute_result"
    },
    {
     "data": {
      "image/png": "[encoded data removed]",
      "text/plain": [
       "<Figure size 432x288 with 1 Axes>"
      ]
     },
     "metadata": {
      "needs_background": "light"
     },
     "output_type": "display_data"
    },
    {
     "data": {
      "application/javascript": [
       "\n",
       "            setTimeout(function() {\n",
       "                var nbb_cell_id = 119;\n",
       "                var nbb_unformatted_code = \"%matplotlib inline\\ntable = pd.crosstab(data_dropna[\\\"Purpose2\\\"], data_dropna[\\\"default\\\"])\\ntable.div(table.sum(1).astype(float), axis=0).plot(\\n    kind=\\\"bar\\\", color=[\\\"cadetblue\\\", \\\"crimson\\\"], stacked=True\\n)\\nplt.title(\\\"Stacked Bar Chart of Purpose vs Default\\\")\\nplt.xlabel(\\\"Purpose\\\")\\nplt.ylabel(\\\"Proportion of Defaults\\\")\";\n",
       "                var nbb_formatted_code = \"%matplotlib inline\\ntable = pd.crosstab(data_dropna[\\\"Purpose2\\\"], data_dropna[\\\"default\\\"])\\ntable.div(table.sum(1).astype(float), axis=0).plot(\\n    kind=\\\"bar\\\", color=[\\\"cadetblue\\\", \\\"crimson\\\"], stacked=True\\n)\\nplt.title(\\\"Stacked Bar Chart of Purpose vs Default\\\")\\nplt.xlabel(\\\"Purpose\\\")\\nplt.ylabel(\\\"Proportion of Defaults\\\")\";\n",
       "                var nbb_cells = Jupyter.notebook.get_cells();\n",
       "                for (var i = 0; i < nbb_cells.length; ++i) {\n",
       "                    if (nbb_cells[i].input_prompt_number == nbb_cell_id) {\n",
       "                        if (nbb_cells[i].get_text() == nbb_unformatted_code) {\n",
       "                             nbb_cells[i].set_text(nbb_formatted_code);\n",
       "                        }\n",
       "                        break;\n",
       "                    }\n",
       "                }\n",
       "            }, 500);\n",
       "            "
      ],
      "text/plain": [
       "<IPython.core.display.Javascript object>"
      ]
     },
     "metadata": {},
     "output_type": "display_data"
    }
   ],
   "source": [
    "%matplotlib inline\n",
    "table = pd.crosstab(data_dropna[\"Purpose2\"], data_dropna[\"default\"])\n",
    "table.div(table.sum(1).astype(float), axis=0).plot(\n",
    "    kind=\"bar\", color=[\"cadetblue\", \"crimson\"], stacked=True\n",
    ")\n",
    "plt.title(\"Stacked Bar Chart of Purpose vs Default\")\n",
    "plt.xlabel(\"Purpose\")\n",
    "plt.ylabel(\"Proportion of Defaults\")"
   ]
  },
  {
   "cell_type": "code",
   "execution_count": 120,
   "metadata": {},
   "outputs": [
    {
     "name": "stderr",
     "output_type": "stream",
     "text": [
      "C:\\Users\\Asus\\.conda\\envs\\py37\\lib\\site-packages\\ipykernel_launcher.py:2: SettingWithCopyWarning: \n",
      "A value is trying to be set on a copy of a slice from a DataFrame.\n",
      "Try using .loc[row_indexer,col_indexer] = value instead\n",
      "\n",
      "See the caveats in the documentation: http://pandas.pydata.org/pandas-docs/stable/indexing.html#indexing-view-versus-copy\n",
      "  \n"
     ]
    },
    {
     "data": {
      "application/javascript": [
       "\n",
       "            setTimeout(function() {\n",
       "                var nbb_cell_id = 120;\n",
       "                var nbb_unformatted_code = \"data_dropna[\\\"Purpose3\\\"] = data_dropna[\\\"Purpose\\\"].apply(\\n    lambda x: \\\"Purpose 1: Business\\\"\\n    if (x == \\\"small_business\\\" or x == \\\"Business Loan\\\")\\n    else (\\\"Purpose 2: Other\\\")\\n)\";\n",
       "                var nbb_formatted_code = \"data_dropna[\\\"Purpose3\\\"] = data_dropna[\\\"Purpose\\\"].apply(\\n    lambda x: \\\"Purpose 1: Business\\\"\\n    if (x == \\\"small_business\\\" or x == \\\"Business Loan\\\")\\n    else (\\\"Purpose 2: Other\\\")\\n)\";\n",
       "                var nbb_cells = Jupyter.notebook.get_cells();\n",
       "                for (var i = 0; i < nbb_cells.length; ++i) {\n",
       "                    if (nbb_cells[i].input_prompt_number == nbb_cell_id) {\n",
       "                        if (nbb_cells[i].get_text() == nbb_unformatted_code) {\n",
       "                             nbb_cells[i].set_text(nbb_formatted_code);\n",
       "                        }\n",
       "                        break;\n",
       "                    }\n",
       "                }\n",
       "            }, 500);\n",
       "            "
      ],
      "text/plain": [
       "<IPython.core.display.Javascript object>"
      ]
     },
     "metadata": {},
     "output_type": "display_data"
    }
   ],
   "source": [
    "data_dropna[\"Purpose3\"] = data_dropna[\"Purpose\"].apply(\n",
    "    lambda x: \"Purpose 1: Business\"\n",
    "    if (x == \"small_business\" or x == \"Business Loan\")\n",
    "    else (\"Purpose 2: Other\")\n",
    ")"
   ]
  },
  {
   "cell_type": "code",
   "execution_count": 121,
   "metadata": {},
   "outputs": [
    {
     "data": {
      "text/html": [
       "<div>\n",
       "<style scoped>\n",
       "    .dataframe tbody tr th:only-of-type {\n",
       "        vertical-align: middle;\n",
       "    }\n",
       "\n",
       "    .dataframe tbody tr th {\n",
       "        vertical-align: top;\n",
       "    }\n",
       "\n",
       "    .dataframe thead th {\n",
       "        text-align: right;\n",
       "    }\n",
       "</style>\n",
       "<table border=\"1\" class=\"dataframe\">\n",
       "  <thead>\n",
       "    <tr style=\"text-align: right;\">\n",
       "      <th>default</th>\n",
       "      <th>0</th>\n",
       "      <th>1</th>\n",
       "    </tr>\n",
       "    <tr>\n",
       "      <th>Purpose3</th>\n",
       "      <th></th>\n",
       "      <th></th>\n",
       "    </tr>\n",
       "  </thead>\n",
       "  <tbody>\n",
       "    <tr>\n",
       "      <th>Purpose 1: Business</th>\n",
       "      <td>0.700274</td>\n",
       "      <td>0.299726</td>\n",
       "    </tr>\n",
       "    <tr>\n",
       "      <th>Purpose 2: Other</th>\n",
       "      <td>0.791896</td>\n",
       "      <td>0.208104</td>\n",
       "    </tr>\n",
       "  </tbody>\n",
       "</table>\n",
       "</div>"
      ],
      "text/plain": [
       "default                     0         1\n",
       "Purpose3                               \n",
       "Purpose 1: Business  0.700274  0.299726\n",
       "Purpose 2: Other     0.791896  0.208104"
      ]
     },
     "execution_count": 121,
     "metadata": {},
     "output_type": "execute_result"
    },
    {
     "data": {
      "application/javascript": [
       "\n",
       "            setTimeout(function() {\n",
       "                var nbb_cell_id = 121;\n",
       "                var nbb_unformatted_code = \"pd.crosstab(data_dropna[\\\"Purpose3\\\"], data_dropna[\\\"default\\\"]).apply(\\n    lambda r: r / r.sum(), axis=1\\n)\";\n",
       "                var nbb_formatted_code = \"pd.crosstab(data_dropna[\\\"Purpose3\\\"], data_dropna[\\\"default\\\"]).apply(\\n    lambda r: r / r.sum(), axis=1\\n)\";\n",
       "                var nbb_cells = Jupyter.notebook.get_cells();\n",
       "                for (var i = 0; i < nbb_cells.length; ++i) {\n",
       "                    if (nbb_cells[i].input_prompt_number == nbb_cell_id) {\n",
       "                        if (nbb_cells[i].get_text() == nbb_unformatted_code) {\n",
       "                             nbb_cells[i].set_text(nbb_formatted_code);\n",
       "                        }\n",
       "                        break;\n",
       "                    }\n",
       "                }\n",
       "            }, 500);\n",
       "            "
      ],
      "text/plain": [
       "<IPython.core.display.Javascript object>"
      ]
     },
     "metadata": {},
     "output_type": "display_data"
    }
   ],
   "source": [
    "pd.crosstab(data_dropna[\"Purpose3\"], data_dropna[\"default\"]).apply(\n",
    "    lambda r: r / r.sum(), axis=1\n",
    ")"
   ]
  },
  {
   "cell_type": "code",
   "execution_count": 122,
   "metadata": {},
   "outputs": [
    {
     "data": {
      "text/html": [
       "<div>\n",
       "<style scoped>\n",
       "    .dataframe tbody tr th:only-of-type {\n",
       "        vertical-align: middle;\n",
       "    }\n",
       "\n",
       "    .dataframe tbody tr th {\n",
       "        vertical-align: top;\n",
       "    }\n",
       "\n",
       "    .dataframe thead th {\n",
       "        text-align: right;\n",
       "    }\n",
       "</style>\n",
       "<table border=\"1\" class=\"dataframe\">\n",
       "  <thead>\n",
       "    <tr style=\"text-align: right;\">\n",
       "      <th>default</th>\n",
       "      <th>0</th>\n",
       "      <th>1</th>\n",
       "    </tr>\n",
       "    <tr>\n",
       "      <th>Purpose3</th>\n",
       "      <th></th>\n",
       "      <th></th>\n",
       "    </tr>\n",
       "  </thead>\n",
       "  <tbody>\n",
       "    <tr>\n",
       "      <th>Purpose 1: Business</th>\n",
       "      <td>1021</td>\n",
       "      <td>437</td>\n",
       "    </tr>\n",
       "    <tr>\n",
       "      <th>Purpose 2: Other</th>\n",
       "      <td>60036</td>\n",
       "      <td>15777</td>\n",
       "    </tr>\n",
       "  </tbody>\n",
       "</table>\n",
       "</div>"
      ],
      "text/plain": [
       "default                  0      1\n",
       "Purpose3                         \n",
       "Purpose 1: Business   1021    437\n",
       "Purpose 2: Other     60036  15777"
      ]
     },
     "execution_count": 122,
     "metadata": {},
     "output_type": "execute_result"
    },
    {
     "data": {
      "application/javascript": [
       "\n",
       "            setTimeout(function() {\n",
       "                var nbb_cell_id = 122;\n",
       "                var nbb_unformatted_code = \"pd.crosstab(data_dropna[\\\"Purpose3\\\"], data_dropna[\\\"default\\\"])\";\n",
       "                var nbb_formatted_code = \"pd.crosstab(data_dropna[\\\"Purpose3\\\"], data_dropna[\\\"default\\\"])\";\n",
       "                var nbb_cells = Jupyter.notebook.get_cells();\n",
       "                for (var i = 0; i < nbb_cells.length; ++i) {\n",
       "                    if (nbb_cells[i].input_prompt_number == nbb_cell_id) {\n",
       "                        if (nbb_cells[i].get_text() == nbb_unformatted_code) {\n",
       "                             nbb_cells[i].set_text(nbb_formatted_code);\n",
       "                        }\n",
       "                        break;\n",
       "                    }\n",
       "                }\n",
       "            }, 500);\n",
       "            "
      ],
      "text/plain": [
       "<IPython.core.display.Javascript object>"
      ]
     },
     "metadata": {},
     "output_type": "display_data"
    }
   ],
   "source": [
    "pd.crosstab(data_dropna[\"Purpose3\"], data_dropna[\"default\"])"
   ]
  },
  {
   "cell_type": "code",
   "execution_count": 123,
   "metadata": {},
   "outputs": [
    {
     "data": {
      "text/plain": [
       "Text(0, 0.5, 'Proportion of Defaults')"
      ]
     },
     "execution_count": 123,
     "metadata": {},
     "output_type": "execute_result"
    },
    {
     "data": {
      "image/png": "[encoded data removed]",
      "text/plain": [
       "<Figure size 432x288 with 1 Axes>"
      ]
     },
     "metadata": {
      "needs_background": "light"
     },
     "output_type": "display_data"
    },
    {
     "data": {
      "application/javascript": [
       "\n",
       "            setTimeout(function() {\n",
       "                var nbb_cell_id = 123;\n",
       "                var nbb_unformatted_code = \"%matplotlib inline\\ntable = pd.crosstab(data_dropna[\\\"Purpose3\\\"], data_dropna[\\\"default\\\"])\\ntable.div(table.sum(1).astype(float), axis=0).plot(\\n    kind=\\\"bar\\\", color=[\\\"cadetblue\\\", \\\"crimson\\\"], stacked=True\\n)\\nplt.title(\\\"Stacked Bar Chart of Purpose vs Default\\\")\\nplt.xlabel(\\\"Purpose\\\")\\nplt.ylabel(\\\"Proportion of Defaults\\\")\";\n",
       "                var nbb_formatted_code = \"%matplotlib inline\\ntable = pd.crosstab(data_dropna[\\\"Purpose3\\\"], data_dropna[\\\"default\\\"])\\ntable.div(table.sum(1).astype(float), axis=0).plot(\\n    kind=\\\"bar\\\", color=[\\\"cadetblue\\\", \\\"crimson\\\"], stacked=True\\n)\\nplt.title(\\\"Stacked Bar Chart of Purpose vs Default\\\")\\nplt.xlabel(\\\"Purpose\\\")\\nplt.ylabel(\\\"Proportion of Defaults\\\")\";\n",
       "                var nbb_cells = Jupyter.notebook.get_cells();\n",
       "                for (var i = 0; i < nbb_cells.length; ++i) {\n",
       "                    if (nbb_cells[i].input_prompt_number == nbb_cell_id) {\n",
       "                        if (nbb_cells[i].get_text() == nbb_unformatted_code) {\n",
       "                             nbb_cells[i].set_text(nbb_formatted_code);\n",
       "                        }\n",
       "                        break;\n",
       "                    }\n",
       "                }\n",
       "            }, 500);\n",
       "            "
      ],
      "text/plain": [
       "<IPython.core.display.Javascript object>"
      ]
     },
     "metadata": {},
     "output_type": "display_data"
    }
   ],
   "source": [
    "%matplotlib inline\n",
    "table = pd.crosstab(data_dropna[\"Purpose3\"], data_dropna[\"default\"])\n",
    "table.div(table.sum(1).astype(float), axis=0).plot(\n",
    "    kind=\"bar\", color=[\"cadetblue\", \"crimson\"], stacked=True\n",
    ")\n",
    "plt.title(\"Stacked Bar Chart of Purpose vs Default\")\n",
    "plt.xlabel(\"Purpose\")\n",
    "plt.ylabel(\"Proportion of Defaults\")"
   ]
  },
  {
   "cell_type": "markdown",
   "metadata": {},
   "source": [
    "#### Term"
   ]
  },
  {
   "cell_type": "code",
   "execution_count": 124,
   "metadata": {},
   "outputs": [
    {
     "data": {
      "image/png": "[encoded data removed]",
      "text/plain": [
       "<Figure size 432x288 with 1 Axes>"
      ]
     },
     "metadata": {
      "needs_background": "light"
     },
     "output_type": "display_data"
    },
    {
     "data": {
      "application/javascript": [
       "\n",
       "            setTimeout(function() {\n",
       "                var nbb_cell_id = 124;\n",
       "                var nbb_unformatted_code = \"plt.hist(data_dropna[\\\"Term\\\"], bins=2, color=\\\"cadetblue\\\")\\nplt.xticks(rotation=\\\"vertical\\\")\\nplt.show()\";\n",
       "                var nbb_formatted_code = \"plt.hist(data_dropna[\\\"Term\\\"], bins=2, color=\\\"cadetblue\\\")\\nplt.xticks(rotation=\\\"vertical\\\")\\nplt.show()\";\n",
       "                var nbb_cells = Jupyter.notebook.get_cells();\n",
       "                for (var i = 0; i < nbb_cells.length; ++i) {\n",
       "                    if (nbb_cells[i].input_prompt_number == nbb_cell_id) {\n",
       "                        if (nbb_cells[i].get_text() == nbb_unformatted_code) {\n",
       "                             nbb_cells[i].set_text(nbb_formatted_code);\n",
       "                        }\n",
       "                        break;\n",
       "                    }\n",
       "                }\n",
       "            }, 500);\n",
       "            "
      ],
      "text/plain": [
       "<IPython.core.display.Javascript object>"
      ]
     },
     "metadata": {},
     "output_type": "display_data"
    }
   ],
   "source": [
    "plt.hist(data_dropna[\"Term\"], bins=2, color=\"cadetblue\")\n",
    "plt.xticks(rotation=\"vertical\")\n",
    "plt.show()"
   ]
  },
  {
   "cell_type": "code",
   "execution_count": 125,
   "metadata": {},
   "outputs": [
    {
     "data": {
      "text/html": [
       "<div>\n",
       "<style scoped>\n",
       "    .dataframe tbody tr th:only-of-type {\n",
       "        vertical-align: middle;\n",
       "    }\n",
       "\n",
       "    .dataframe tbody tr th {\n",
       "        vertical-align: top;\n",
       "    }\n",
       "\n",
       "    .dataframe thead th {\n",
       "        text-align: right;\n",
       "    }\n",
       "</style>\n",
       "<table border=\"1\" class=\"dataframe\">\n",
       "  <thead>\n",
       "    <tr style=\"text-align: right;\">\n",
       "      <th>default</th>\n",
       "      <th>0</th>\n",
       "      <th>1</th>\n",
       "    </tr>\n",
       "    <tr>\n",
       "      <th>Term</th>\n",
       "      <th></th>\n",
       "      <th></th>\n",
       "    </tr>\n",
       "  </thead>\n",
       "  <tbody>\n",
       "    <tr>\n",
       "      <th>Long Term</th>\n",
       "      <td>16297</td>\n",
       "      <td>6237</td>\n",
       "    </tr>\n",
       "    <tr>\n",
       "      <th>Short Term</th>\n",
       "      <td>44760</td>\n",
       "      <td>9977</td>\n",
       "    </tr>\n",
       "  </tbody>\n",
       "</table>\n",
       "</div>"
      ],
      "text/plain": [
       "default         0     1\n",
       "Term                   \n",
       "Long Term   16297  6237\n",
       "Short Term  44760  9977"
      ]
     },
     "execution_count": 125,
     "metadata": {},
     "output_type": "execute_result"
    },
    {
     "data": {
      "application/javascript": [
       "\n",
       "            setTimeout(function() {\n",
       "                var nbb_cell_id = 125;\n",
       "                var nbb_unformatted_code = \"pd.crosstab(data_dropna[\\\"Term\\\"], data_dropna[\\\"default\\\"])\";\n",
       "                var nbb_formatted_code = \"pd.crosstab(data_dropna[\\\"Term\\\"], data_dropna[\\\"default\\\"])\";\n",
       "                var nbb_cells = Jupyter.notebook.get_cells();\n",
       "                for (var i = 0; i < nbb_cells.length; ++i) {\n",
       "                    if (nbb_cells[i].input_prompt_number == nbb_cell_id) {\n",
       "                        if (nbb_cells[i].get_text() == nbb_unformatted_code) {\n",
       "                             nbb_cells[i].set_text(nbb_formatted_code);\n",
       "                        }\n",
       "                        break;\n",
       "                    }\n",
       "                }\n",
       "            }, 500);\n",
       "            "
      ],
      "text/plain": [
       "<IPython.core.display.Javascript object>"
      ]
     },
     "metadata": {},
     "output_type": "display_data"
    }
   ],
   "source": [
    "pd.crosstab(data_dropna[\"Term\"], data_dropna[\"default\"])"
   ]
  },
  {
   "cell_type": "code",
   "execution_count": 126,
   "metadata": {},
   "outputs": [
    {
     "data": {
      "text/html": [
       "<div>\n",
       "<style scoped>\n",
       "    .dataframe tbody tr th:only-of-type {\n",
       "        vertical-align: middle;\n",
       "    }\n",
       "\n",
       "    .dataframe tbody tr th {\n",
       "        vertical-align: top;\n",
       "    }\n",
       "\n",
       "    .dataframe thead th {\n",
       "        text-align: right;\n",
       "    }\n",
       "</style>\n",
       "<table border=\"1\" class=\"dataframe\">\n",
       "  <thead>\n",
       "    <tr style=\"text-align: right;\">\n",
       "      <th>default</th>\n",
       "      <th>0</th>\n",
       "      <th>1</th>\n",
       "    </tr>\n",
       "    <tr>\n",
       "      <th>Term</th>\n",
       "      <th></th>\n",
       "      <th></th>\n",
       "    </tr>\n",
       "  </thead>\n",
       "  <tbody>\n",
       "    <tr>\n",
       "      <th>Long Term</th>\n",
       "      <td>0.723218</td>\n",
       "      <td>0.276782</td>\n",
       "    </tr>\n",
       "    <tr>\n",
       "      <th>Short Term</th>\n",
       "      <td>0.817728</td>\n",
       "      <td>0.182272</td>\n",
       "    </tr>\n",
       "  </tbody>\n",
       "</table>\n",
       "</div>"
      ],
      "text/plain": [
       "default            0         1\n",
       "Term                          \n",
       "Long Term   0.723218  0.276782\n",
       "Short Term  0.817728  0.182272"
      ]
     },
     "execution_count": 126,
     "metadata": {},
     "output_type": "execute_result"
    },
    {
     "data": {
      "application/javascript": [
       "\n",
       "            setTimeout(function() {\n",
       "                var nbb_cell_id = 126;\n",
       "                var nbb_unformatted_code = \"pd.crosstab(data_dropna[\\\"Term\\\"], data_dropna[\\\"default\\\"]).apply(\\n    lambda r: r / r.sum(), axis=1\\n)\";\n",
       "                var nbb_formatted_code = \"pd.crosstab(data_dropna[\\\"Term\\\"], data_dropna[\\\"default\\\"]).apply(\\n    lambda r: r / r.sum(), axis=1\\n)\";\n",
       "                var nbb_cells = Jupyter.notebook.get_cells();\n",
       "                for (var i = 0; i < nbb_cells.length; ++i) {\n",
       "                    if (nbb_cells[i].input_prompt_number == nbb_cell_id) {\n",
       "                        if (nbb_cells[i].get_text() == nbb_unformatted_code) {\n",
       "                             nbb_cells[i].set_text(nbb_formatted_code);\n",
       "                        }\n",
       "                        break;\n",
       "                    }\n",
       "                }\n",
       "            }, 500);\n",
       "            "
      ],
      "text/plain": [
       "<IPython.core.display.Javascript object>"
      ]
     },
     "metadata": {},
     "output_type": "display_data"
    }
   ],
   "source": [
    "pd.crosstab(data_dropna[\"Term\"], data_dropna[\"default\"]).apply(\n",
    "    lambda r: r / r.sum(), axis=1\n",
    ")"
   ]
  },
  {
   "cell_type": "code",
   "execution_count": 127,
   "metadata": {},
   "outputs": [
    {
     "data": {
      "text/plain": [
       "Text(0, 0.5, 'Proportion of Defaults')"
      ]
     },
     "execution_count": 127,
     "metadata": {},
     "output_type": "execute_result"
    },
    {
     "data": {
      "image/png": "[encoded data removed]",
      "text/plain": [
       "<Figure size 432x288 with 1 Axes>"
      ]
     },
     "metadata": {
      "needs_background": "light"
     },
     "output_type": "display_data"
    },
    {
     "data": {
      "application/javascript": [
       "\n",
       "            setTimeout(function() {\n",
       "                var nbb_cell_id = 127;\n",
       "                var nbb_unformatted_code = \"%matplotlib inline\\ntable = pd.crosstab(data_dropna[\\\"Term\\\"], data_dropna[\\\"default\\\"])\\ntable.div(table.sum(1).astype(float), axis=0).plot(\\n    kind=\\\"bar\\\", color=[\\\"cadetblue\\\", \\\"crimson\\\"], stacked=True\\n)\\nplt.title(\\\"Stacked Bar Chart of Term vs Default\\\")\\nplt.xlabel(\\\"Term\\\")\\nplt.ylabel(\\\"Proportion of Defaults\\\")\";\n",
       "                var nbb_formatted_code = \"%matplotlib inline\\ntable = pd.crosstab(data_dropna[\\\"Term\\\"], data_dropna[\\\"default\\\"])\\ntable.div(table.sum(1).astype(float), axis=0).plot(\\n    kind=\\\"bar\\\", color=[\\\"cadetblue\\\", \\\"crimson\\\"], stacked=True\\n)\\nplt.title(\\\"Stacked Bar Chart of Term vs Default\\\")\\nplt.xlabel(\\\"Term\\\")\\nplt.ylabel(\\\"Proportion of Defaults\\\")\";\n",
       "                var nbb_cells = Jupyter.notebook.get_cells();\n",
       "                for (var i = 0; i < nbb_cells.length; ++i) {\n",
       "                    if (nbb_cells[i].input_prompt_number == nbb_cell_id) {\n",
       "                        if (nbb_cells[i].get_text() == nbb_unformatted_code) {\n",
       "                             nbb_cells[i].set_text(nbb_formatted_code);\n",
       "                        }\n",
       "                        break;\n",
       "                    }\n",
       "                }\n",
       "            }, 500);\n",
       "            "
      ],
      "text/plain": [
       "<IPython.core.display.Javascript object>"
      ]
     },
     "metadata": {},
     "output_type": "display_data"
    }
   ],
   "source": [
    "%matplotlib inline\n",
    "table = pd.crosstab(data_dropna[\"Term\"], data_dropna[\"default\"])\n",
    "table.div(table.sum(1).astype(float), axis=0).plot(\n",
    "    kind=\"bar\", color=[\"cadetblue\", \"crimson\"], stacked=True\n",
    ")\n",
    "plt.title(\"Stacked Bar Chart of Term vs Default\")\n",
    "plt.xlabel(\"Term\")\n",
    "plt.ylabel(\"Proportion of Defaults\")"
   ]
  },
  {
   "cell_type": "markdown",
   "metadata": {},
   "source": [
    "#### Tax Liens"
   ]
  },
  {
   "cell_type": "code",
   "execution_count": 128,
   "metadata": {},
   "outputs": [
    {
     "data": {
      "image/png": "[encoded data removed]",
      "text/plain": [
       "<Figure size 432x288 with 1 Axes>"
      ]
     },
     "metadata": {
      "needs_background": "light"
     },
     "output_type": "display_data"
    },
    {
     "data": {
      "application/javascript": [
       "\n",
       "            setTimeout(function() {\n",
       "                var nbb_cell_id = 128;\n",
       "                var nbb_unformatted_code = \"plt.hist(data_dropna[\\\"Tax Liens\\\"], bins=5, color=\\\"cadetblue\\\")\\nplt.show()\";\n",
       "                var nbb_formatted_code = \"plt.hist(data_dropna[\\\"Tax Liens\\\"], bins=5, color=\\\"cadetblue\\\")\\nplt.show()\";\n",
       "                var nbb_cells = Jupyter.notebook.get_cells();\n",
       "                for (var i = 0; i < nbb_cells.length; ++i) {\n",
       "                    if (nbb_cells[i].input_prompt_number == nbb_cell_id) {\n",
       "                        if (nbb_cells[i].get_text() == nbb_unformatted_code) {\n",
       "                             nbb_cells[i].set_text(nbb_formatted_code);\n",
       "                        }\n",
       "                        break;\n",
       "                    }\n",
       "                }\n",
       "            }, 500);\n",
       "            "
      ],
      "text/plain": [
       "<IPython.core.display.Javascript object>"
      ]
     },
     "metadata": {},
     "output_type": "display_data"
    }
   ],
   "source": [
    "plt.hist(data_dropna[\"Tax Liens\"], bins=5, color=\"cadetblue\")\n",
    "plt.show()"
   ]
  },
  {
   "cell_type": "code",
   "execution_count": 129,
   "metadata": {},
   "outputs": [
    {
     "data": {
      "text/html": [
       "<div>\n",
       "<style scoped>\n",
       "    .dataframe tbody tr th:only-of-type {\n",
       "        vertical-align: middle;\n",
       "    }\n",
       "\n",
       "    .dataframe tbody tr th {\n",
       "        vertical-align: top;\n",
       "    }\n",
       "\n",
       "    .dataframe thead th {\n",
       "        text-align: right;\n",
       "    }\n",
       "</style>\n",
       "<table border=\"1\" class=\"dataframe\">\n",
       "  <thead>\n",
       "    <tr style=\"text-align: right;\">\n",
       "      <th>default</th>\n",
       "      <th>0</th>\n",
       "      <th>1</th>\n",
       "    </tr>\n",
       "    <tr>\n",
       "      <th>Tax Liens</th>\n",
       "      <th></th>\n",
       "      <th></th>\n",
       "    </tr>\n",
       "  </thead>\n",
       "  <tbody>\n",
       "    <tr>\n",
       "      <th>0.0</th>\n",
       "      <td>59928</td>\n",
       "      <td>15877</td>\n",
       "    </tr>\n",
       "    <tr>\n",
       "      <th>1.0</th>\n",
       "      <td>795</td>\n",
       "      <td>221</td>\n",
       "    </tr>\n",
       "    <tr>\n",
       "      <th>2.0</th>\n",
       "      <td>222</td>\n",
       "      <td>67</td>\n",
       "    </tr>\n",
       "    <tr>\n",
       "      <th>3.0</th>\n",
       "      <td>56</td>\n",
       "      <td>23</td>\n",
       "    </tr>\n",
       "    <tr>\n",
       "      <th>4.0</th>\n",
       "      <td>31</td>\n",
       "      <td>14</td>\n",
       "    </tr>\n",
       "    <tr>\n",
       "      <th>5.0</th>\n",
       "      <td>7</td>\n",
       "      <td>6</td>\n",
       "    </tr>\n",
       "    <tr>\n",
       "      <th>6.0</th>\n",
       "      <td>9</td>\n",
       "      <td>2</td>\n",
       "    </tr>\n",
       "    <tr>\n",
       "      <th>7.0</th>\n",
       "      <td>4</td>\n",
       "      <td>3</td>\n",
       "    </tr>\n",
       "    <tr>\n",
       "      <th>9.0</th>\n",
       "      <td>1</td>\n",
       "      <td>1</td>\n",
       "    </tr>\n",
       "    <tr>\n",
       "      <th>10.0</th>\n",
       "      <td>1</td>\n",
       "      <td>0</td>\n",
       "    </tr>\n",
       "    <tr>\n",
       "      <th>11.0</th>\n",
       "      <td>2</td>\n",
       "      <td>0</td>\n",
       "    </tr>\n",
       "    <tr>\n",
       "      <th>15.0</th>\n",
       "      <td>1</td>\n",
       "      <td>0</td>\n",
       "    </tr>\n",
       "  </tbody>\n",
       "</table>\n",
       "</div>"
      ],
      "text/plain": [
       "default        0      1\n",
       "Tax Liens              \n",
       "0.0        59928  15877\n",
       "1.0          795    221\n",
       "2.0          222     67\n",
       "3.0           56     23\n",
       "4.0           31     14\n",
       "5.0            7      6\n",
       "6.0            9      2\n",
       "7.0            4      3\n",
       "9.0            1      1\n",
       "10.0           1      0\n",
       "11.0           2      0\n",
       "15.0           1      0"
      ]
     },
     "execution_count": 129,
     "metadata": {},
     "output_type": "execute_result"
    },
    {
     "data": {
      "application/javascript": [
       "\n",
       "            setTimeout(function() {\n",
       "                var nbb_cell_id = 129;\n",
       "                var nbb_unformatted_code = \"pd.crosstab(data_dropna[\\\"Tax Liens\\\"], data_dropna[\\\"default\\\"])\";\n",
       "                var nbb_formatted_code = \"pd.crosstab(data_dropna[\\\"Tax Liens\\\"], data_dropna[\\\"default\\\"])\";\n",
       "                var nbb_cells = Jupyter.notebook.get_cells();\n",
       "                for (var i = 0; i < nbb_cells.length; ++i) {\n",
       "                    if (nbb_cells[i].input_prompt_number == nbb_cell_id) {\n",
       "                        if (nbb_cells[i].get_text() == nbb_unformatted_code) {\n",
       "                             nbb_cells[i].set_text(nbb_formatted_code);\n",
       "                        }\n",
       "                        break;\n",
       "                    }\n",
       "                }\n",
       "            }, 500);\n",
       "            "
      ],
      "text/plain": [
       "<IPython.core.display.Javascript object>"
      ]
     },
     "metadata": {},
     "output_type": "display_data"
    }
   ],
   "source": [
    "pd.crosstab(data_dropna[\"Tax Liens\"], data_dropna[\"default\"])"
   ]
  },
  {
   "cell_type": "code",
   "execution_count": 130,
   "metadata": {},
   "outputs": [
    {
     "name": "stderr",
     "output_type": "stream",
     "text": [
      "C:\\Users\\Asus\\.conda\\envs\\py37\\lib\\site-packages\\ipykernel_launcher.py:2: SettingWithCopyWarning: \n",
      "A value is trying to be set on a copy of a slice from a DataFrame.\n",
      "Try using .loc[row_indexer,col_indexer] = value instead\n",
      "\n",
      "See the caveats in the documentation: http://pandas.pydata.org/pandas-docs/stable/indexing.html#indexing-view-versus-copy\n",
      "  \n"
     ]
    },
    {
     "data": {
      "application/javascript": [
       "\n",
       "            setTimeout(function() {\n",
       "                var nbb_cell_id = 130;\n",
       "                var nbb_unformatted_code = \"data_dropna[\\\"Tax Liens2\\\"] = data_dropna[\\\"Tax Liens\\\"].apply(\\n    lambda x: \\\"Tax Liens 1: 0\\\" if x == 0 else \\\"Tax Liens 2: >0\\\"\\n)\";\n",
       "                var nbb_formatted_code = \"data_dropna[\\\"Tax Liens2\\\"] = data_dropna[\\\"Tax Liens\\\"].apply(\\n    lambda x: \\\"Tax Liens 1: 0\\\" if x == 0 else \\\"Tax Liens 2: >0\\\"\\n)\";\n",
       "                var nbb_cells = Jupyter.notebook.get_cells();\n",
       "                for (var i = 0; i < nbb_cells.length; ++i) {\n",
       "                    if (nbb_cells[i].input_prompt_number == nbb_cell_id) {\n",
       "                        if (nbb_cells[i].get_text() == nbb_unformatted_code) {\n",
       "                             nbb_cells[i].set_text(nbb_formatted_code);\n",
       "                        }\n",
       "                        break;\n",
       "                    }\n",
       "                }\n",
       "            }, 500);\n",
       "            "
      ],
      "text/plain": [
       "<IPython.core.display.Javascript object>"
      ]
     },
     "metadata": {},
     "output_type": "display_data"
    }
   ],
   "source": [
    "data_dropna[\"Tax Liens2\"] = data_dropna[\"Tax Liens\"].apply(\n",
    "    lambda x: \"Tax Liens 1: 0\" if x == 0 else \"Tax Liens 2: >0\"\n",
    ")"
   ]
  },
  {
   "cell_type": "code",
   "execution_count": 131,
   "metadata": {},
   "outputs": [
    {
     "data": {
      "text/html": [
       "<div>\n",
       "<style scoped>\n",
       "    .dataframe tbody tr th:only-of-type {\n",
       "        vertical-align: middle;\n",
       "    }\n",
       "\n",
       "    .dataframe tbody tr th {\n",
       "        vertical-align: top;\n",
       "    }\n",
       "\n",
       "    .dataframe thead th {\n",
       "        text-align: right;\n",
       "    }\n",
       "</style>\n",
       "<table border=\"1\" class=\"dataframe\">\n",
       "  <thead>\n",
       "    <tr style=\"text-align: right;\">\n",
       "      <th>default</th>\n",
       "      <th>0</th>\n",
       "      <th>1</th>\n",
       "    </tr>\n",
       "    <tr>\n",
       "      <th>Tax Liens2</th>\n",
       "      <th></th>\n",
       "      <th></th>\n",
       "    </tr>\n",
       "  </thead>\n",
       "  <tbody>\n",
       "    <tr>\n",
       "      <th>Tax Liens 1: 0</th>\n",
       "      <td>59928</td>\n",
       "      <td>15877</td>\n",
       "    </tr>\n",
       "    <tr>\n",
       "      <th>Tax Liens 2: &gt;0</th>\n",
       "      <td>1129</td>\n",
       "      <td>337</td>\n",
       "    </tr>\n",
       "  </tbody>\n",
       "</table>\n",
       "</div>"
      ],
      "text/plain": [
       "default              0      1\n",
       "Tax Liens2                   \n",
       "Tax Liens 1: 0   59928  15877\n",
       "Tax Liens 2: >0   1129    337"
      ]
     },
     "execution_count": 131,
     "metadata": {},
     "output_type": "execute_result"
    },
    {
     "data": {
      "application/javascript": [
       "\n",
       "            setTimeout(function() {\n",
       "                var nbb_cell_id = 131;\n",
       "                var nbb_unformatted_code = \"pd.crosstab(data_dropna[\\\"Tax Liens2\\\"], data_dropna[\\\"default\\\"])\";\n",
       "                var nbb_formatted_code = \"pd.crosstab(data_dropna[\\\"Tax Liens2\\\"], data_dropna[\\\"default\\\"])\";\n",
       "                var nbb_cells = Jupyter.notebook.get_cells();\n",
       "                for (var i = 0; i < nbb_cells.length; ++i) {\n",
       "                    if (nbb_cells[i].input_prompt_number == nbb_cell_id) {\n",
       "                        if (nbb_cells[i].get_text() == nbb_unformatted_code) {\n",
       "                             nbb_cells[i].set_text(nbb_formatted_code);\n",
       "                        }\n",
       "                        break;\n",
       "                    }\n",
       "                }\n",
       "            }, 500);\n",
       "            "
      ],
      "text/plain": [
       "<IPython.core.display.Javascript object>"
      ]
     },
     "metadata": {},
     "output_type": "display_data"
    }
   ],
   "source": [
    "pd.crosstab(data_dropna[\"Tax Liens2\"], data_dropna[\"default\"])"
   ]
  },
  {
   "cell_type": "code",
   "execution_count": 132,
   "metadata": {},
   "outputs": [
    {
     "data": {
      "text/html": [
       "<div>\n",
       "<style scoped>\n",
       "    .dataframe tbody tr th:only-of-type {\n",
       "        vertical-align: middle;\n",
       "    }\n",
       "\n",
       "    .dataframe tbody tr th {\n",
       "        vertical-align: top;\n",
       "    }\n",
       "\n",
       "    .dataframe thead th {\n",
       "        text-align: right;\n",
       "    }\n",
       "</style>\n",
       "<table border=\"1\" class=\"dataframe\">\n",
       "  <thead>\n",
       "    <tr style=\"text-align: right;\">\n",
       "      <th>default</th>\n",
       "      <th>0</th>\n",
       "      <th>1</th>\n",
       "    </tr>\n",
       "    <tr>\n",
       "      <th>Tax Liens2</th>\n",
       "      <th></th>\n",
       "      <th></th>\n",
       "    </tr>\n",
       "  </thead>\n",
       "  <tbody>\n",
       "    <tr>\n",
       "      <th>Tax Liens 1: 0</th>\n",
       "      <td>0.790555</td>\n",
       "      <td>0.209445</td>\n",
       "    </tr>\n",
       "    <tr>\n",
       "      <th>Tax Liens 2: &gt;0</th>\n",
       "      <td>0.770123</td>\n",
       "      <td>0.229877</td>\n",
       "    </tr>\n",
       "  </tbody>\n",
       "</table>\n",
       "</div>"
      ],
      "text/plain": [
       "default                 0         1\n",
       "Tax Liens2                         \n",
       "Tax Liens 1: 0   0.790555  0.209445\n",
       "Tax Liens 2: >0  0.770123  0.229877"
      ]
     },
     "execution_count": 132,
     "metadata": {},
     "output_type": "execute_result"
    },
    {
     "data": {
      "application/javascript": [
       "\n",
       "            setTimeout(function() {\n",
       "                var nbb_cell_id = 132;\n",
       "                var nbb_unformatted_code = \"pd.crosstab(data_dropna[\\\"Tax Liens2\\\"], data_dropna[\\\"default\\\"]).apply(\\n    lambda r: r / r.sum(), axis=1\\n)\";\n",
       "                var nbb_formatted_code = \"pd.crosstab(data_dropna[\\\"Tax Liens2\\\"], data_dropna[\\\"default\\\"]).apply(\\n    lambda r: r / r.sum(), axis=1\\n)\";\n",
       "                var nbb_cells = Jupyter.notebook.get_cells();\n",
       "                for (var i = 0; i < nbb_cells.length; ++i) {\n",
       "                    if (nbb_cells[i].input_prompt_number == nbb_cell_id) {\n",
       "                        if (nbb_cells[i].get_text() == nbb_unformatted_code) {\n",
       "                             nbb_cells[i].set_text(nbb_formatted_code);\n",
       "                        }\n",
       "                        break;\n",
       "                    }\n",
       "                }\n",
       "            }, 500);\n",
       "            "
      ],
      "text/plain": [
       "<IPython.core.display.Javascript object>"
      ]
     },
     "metadata": {},
     "output_type": "display_data"
    }
   ],
   "source": [
    "pd.crosstab(data_dropna[\"Tax Liens2\"], data_dropna[\"default\"]).apply(\n",
    "    lambda r: r / r.sum(), axis=1\n",
    ")"
   ]
  },
  {
   "cell_type": "code",
   "execution_count": 133,
   "metadata": {},
   "outputs": [
    {
     "data": {
      "text/plain": [
       "Text(0, 0.5, 'Proportion of Defaults')"
      ]
     },
     "execution_count": 133,
     "metadata": {},
     "output_type": "execute_result"
    },
    {
     "data": {
      "image/png": "[encoded data removed]",
      "text/plain": [
       "<Figure size 432x288 with 1 Axes>"
      ]
     },
     "metadata": {
      "needs_background": "light"
     },
     "output_type": "display_data"
    },
    {
     "data": {
      "application/javascript": [
       "\n",
       "            setTimeout(function() {\n",
       "                var nbb_cell_id = 133;\n",
       "                var nbb_unformatted_code = \"%matplotlib inline\\ntable = pd.crosstab(data_dropna[\\\"Tax Liens2\\\"], data_dropna[\\\"default\\\"])\\ntable.div(table.sum(1).astype(float), axis=0).plot(\\n    kind=\\\"bar\\\", color=[\\\"cadetblue\\\", \\\"crimson\\\"], stacked=True\\n)\\nplt.title(\\\"Stacked Bar Tax Liens vs Default\\\")\\nplt.xlabel(\\\"Tax Liens\\\")\\nplt.ylabel(\\\"Proportion of Defaults\\\")\";\n",
       "                var nbb_formatted_code = \"%matplotlib inline\\ntable = pd.crosstab(data_dropna[\\\"Tax Liens2\\\"], data_dropna[\\\"default\\\"])\\ntable.div(table.sum(1).astype(float), axis=0).plot(\\n    kind=\\\"bar\\\", color=[\\\"cadetblue\\\", \\\"crimson\\\"], stacked=True\\n)\\nplt.title(\\\"Stacked Bar Tax Liens vs Default\\\")\\nplt.xlabel(\\\"Tax Liens\\\")\\nplt.ylabel(\\\"Proportion of Defaults\\\")\";\n",
       "                var nbb_cells = Jupyter.notebook.get_cells();\n",
       "                for (var i = 0; i < nbb_cells.length; ++i) {\n",
       "                    if (nbb_cells[i].input_prompt_number == nbb_cell_id) {\n",
       "                        if (nbb_cells[i].get_text() == nbb_unformatted_code) {\n",
       "                             nbb_cells[i].set_text(nbb_formatted_code);\n",
       "                        }\n",
       "                        break;\n",
       "                    }\n",
       "                }\n",
       "            }, 500);\n",
       "            "
      ],
      "text/plain": [
       "<IPython.core.display.Javascript object>"
      ]
     },
     "metadata": {},
     "output_type": "display_data"
    }
   ],
   "source": [
    "%matplotlib inline\n",
    "table = pd.crosstab(data_dropna[\"Tax Liens2\"], data_dropna[\"default\"])\n",
    "table.div(table.sum(1).astype(float), axis=0).plot(\n",
    "    kind=\"bar\", color=[\"cadetblue\", \"crimson\"], stacked=True\n",
    ")\n",
    "plt.title(\"Stacked Bar Tax Liens vs Default\")\n",
    "plt.xlabel(\"Tax Liens\")\n",
    "plt.ylabel(\"Proportion of Defaults\")"
   ]
  },
  {
   "cell_type": "markdown",
   "metadata": {},
   "source": [
    "## Create Dummies"
   ]
  },
  {
   "cell_type": "code",
   "execution_count": 134,
   "metadata": {},
   "outputs": [
    {
     "data": {
      "application/javascript": [
       "\n",
       "            setTimeout(function() {\n",
       "                var nbb_cell_id = 134;\n",
       "                var nbb_unformatted_code = \"data_modelling = data_dropna[\\n    [\\n        \\\"default\\\",\\n        \\\"Credit Score\\\",\\n        \\\"Debt to Income v2\\\",\\n        \\\"Years of Credit History2\\\",\\n        \\\"Purpose3\\\",\\n        \\\"Term\\\",\\n        \\\"Tax Liens2\\\",\\n    ]\\n]\";\n",
       "                var nbb_formatted_code = \"data_modelling = data_dropna[\\n    [\\n        \\\"default\\\",\\n        \\\"Credit Score\\\",\\n        \\\"Debt to Income v2\\\",\\n        \\\"Years of Credit History2\\\",\\n        \\\"Purpose3\\\",\\n        \\\"Term\\\",\\n        \\\"Tax Liens2\\\",\\n    ]\\n]\";\n",
       "                var nbb_cells = Jupyter.notebook.get_cells();\n",
       "                for (var i = 0; i < nbb_cells.length; ++i) {\n",
       "                    if (nbb_cells[i].input_prompt_number == nbb_cell_id) {\n",
       "                        if (nbb_cells[i].get_text() == nbb_unformatted_code) {\n",
       "                             nbb_cells[i].set_text(nbb_formatted_code);\n",
       "                        }\n",
       "                        break;\n",
       "                    }\n",
       "                }\n",
       "            }, 500);\n",
       "            "
      ],
      "text/plain": [
       "<IPython.core.display.Javascript object>"
      ]
     },
     "metadata": {},
     "output_type": "display_data"
    }
   ],
   "source": [
    "data_modelling = data_dropna[\n",
    "    [\n",
    "        \"default\",\n",
    "        \"Credit Score\",\n",
    "        \"Debt to Income v2\",\n",
    "        \"Years of Credit History2\",\n",
    "        \"Purpose3\",\n",
    "        \"Term\",\n",
    "        \"Tax Liens2\",\n",
    "    ]\n",
    "]"
   ]
  },
  {
   "cell_type": "code",
   "execution_count": 135,
   "metadata": {},
   "outputs": [
    {
     "data": {
      "application/javascript": [
       "\n",
       "            setTimeout(function() {\n",
       "                var nbb_cell_id = 135;\n",
       "                var nbb_unformatted_code = \"modelling_variables = [\\n    \\\"default\\\",\\n    \\\"Credit Score\\\",\\n    \\\"Debt to Income v2\\\",\\n    \\\"Years of Credit History2\\\",\\n    \\\"Purpose3\\\",\\n    \\\"Term\\\",\\n    \\\"Tax Liens2\\\",\\n]\";\n",
       "                var nbb_formatted_code = \"modelling_variables = [\\n    \\\"default\\\",\\n    \\\"Credit Score\\\",\\n    \\\"Debt to Income v2\\\",\\n    \\\"Years of Credit History2\\\",\\n    \\\"Purpose3\\\",\\n    \\\"Term\\\",\\n    \\\"Tax Liens2\\\",\\n]\";\n",
       "                var nbb_cells = Jupyter.notebook.get_cells();\n",
       "                for (var i = 0; i < nbb_cells.length; ++i) {\n",
       "                    if (nbb_cells[i].input_prompt_number == nbb_cell_id) {\n",
       "                        if (nbb_cells[i].get_text() == nbb_unformatted_code) {\n",
       "                             nbb_cells[i].set_text(nbb_formatted_code);\n",
       "                        }\n",
       "                        break;\n",
       "                    }\n",
       "                }\n",
       "            }, 500);\n",
       "            "
      ],
      "text/plain": [
       "<IPython.core.display.Javascript object>"
      ]
     },
     "metadata": {},
     "output_type": "display_data"
    }
   ],
   "source": [
    "modelling_variables = [\n",
    "    \"default\",\n",
    "    \"Credit Score\",\n",
    "    \"Debt to Income v2\",\n",
    "    \"Years of Credit History2\",\n",
    "    \"Purpose3\",\n",
    "    \"Term\",\n",
    "    \"Tax Liens2\",\n",
    "]"
   ]
  },
  {
   "cell_type": "code",
   "execution_count": 136,
   "metadata": {},
   "outputs": [
    {
     "data": {
      "application/javascript": [
       "\n",
       "            setTimeout(function() {\n",
       "                var nbb_cell_id = 136;\n",
       "                var nbb_unformatted_code = \"for i in modelling_variables:\\n    if i != \\\"default\\\":\\n        data_modelling = data_modelling.join(pd.get_dummies(data_modelling[i]))\\n        data_modelling = data_modelling.drop([i], axis=1)\";\n",
       "                var nbb_formatted_code = \"for i in modelling_variables:\\n    if i != \\\"default\\\":\\n        data_modelling = data_modelling.join(pd.get_dummies(data_modelling[i]))\\n        data_modelling = data_modelling.drop([i], axis=1)\";\n",
       "                var nbb_cells = Jupyter.notebook.get_cells();\n",
       "                for (var i = 0; i < nbb_cells.length; ++i) {\n",
       "                    if (nbb_cells[i].input_prompt_number == nbb_cell_id) {\n",
       "                        if (nbb_cells[i].get_text() == nbb_unformatted_code) {\n",
       "                             nbb_cells[i].set_text(nbb_formatted_code);\n",
       "                        }\n",
       "                        break;\n",
       "                    }\n",
       "                }\n",
       "            }, 500);\n",
       "            "
      ],
      "text/plain": [
       "<IPython.core.display.Javascript object>"
      ]
     },
     "metadata": {},
     "output_type": "display_data"
    }
   ],
   "source": [
    "for i in modelling_variables:\n",
    "    if i != \"default\":\n",
    "        data_modelling = data_modelling.join(pd.get_dummies(data_modelling[i]))\n",
    "        data_modelling = data_modelling.drop([i], axis=1)"
   ]
  },
  {
   "cell_type": "code",
   "execution_count": 137,
   "metadata": {},
   "outputs": [
    {
     "data": {
      "text/plain": [
       "Index(['default', 'Average', 'Good', 'Very Good', 'DTI 1: <15%',\n",
       "       'DTI 2: =>15%', 'CrHistory 1: <20', 'CrHistory 2: >=20',\n",
       "       'Purpose 1: Business', 'Purpose 2: Other', 'Long Term', 'Short Term',\n",
       "       'Tax Liens 1: 0', 'Tax Liens 2: >0'],\n",
       "      dtype='object')"
      ]
     },
     "execution_count": 137,
     "metadata": {},
     "output_type": "execute_result"
    },
    {
     "data": {
      "application/javascript": [
       "\n",
       "            setTimeout(function() {\n",
       "                var nbb_cell_id = 137;\n",
       "                var nbb_unformatted_code = \"data_modelling.columns\";\n",
       "                var nbb_formatted_code = \"data_modelling.columns\";\n",
       "                var nbb_cells = Jupyter.notebook.get_cells();\n",
       "                for (var i = 0; i < nbb_cells.length; ++i) {\n",
       "                    if (nbb_cells[i].input_prompt_number == nbb_cell_id) {\n",
       "                        if (nbb_cells[i].get_text() == nbb_unformatted_code) {\n",
       "                             nbb_cells[i].set_text(nbb_formatted_code);\n",
       "                        }\n",
       "                        break;\n",
       "                    }\n",
       "                }\n",
       "            }, 500);\n",
       "            "
      ],
      "text/plain": [
       "<IPython.core.display.Javascript object>"
      ]
     },
     "metadata": {},
     "output_type": "display_data"
    }
   ],
   "source": [
    "data_modelling.columns"
   ]
  },
  {
   "cell_type": "markdown",
   "metadata": {},
   "source": [
    "Assign Null Groups (groups that are in the middle of the default rate trend and usually the largest population). They serve as reference and we expect change in the sign of the coefficient before and after the Null group."
   ]
  },
  {
   "cell_type": "code",
   "execution_count": 139,
   "metadata": {},
   "outputs": [
    {
     "data": {
      "application/javascript": [
       "\n",
       "            setTimeout(function() {\n",
       "                var nbb_cell_id = 139;\n",
       "                var nbb_unformatted_code = \"data_modelling2 = data_modelling.drop(\\n    columns=[\\n        \\\"Good\\\",\\n        \\\"DTI 2: =>15%\\\",\\n        \\\"CrHistory 1: <20\\\", \\\"Purpose 2: Other\\\",\\n        \\\"Tax Liens 1: 0\\\",\\n        \\\"Short Term\\\",\\n    ]\\n)\";\n",
       "                var nbb_formatted_code = \"data_modelling2 = data_modelling.drop(\\n    columns=[\\n        \\\"Good\\\",\\n        \\\"DTI 2: =>15%\\\",\\n        \\\"CrHistory 1: <20\\\",\\n        \\\"Purpose 2: Other\\\",\\n        \\\"Tax Liens 1: 0\\\",\\n        \\\"Short Term\\\",\\n    ]\\n)\";\n",
       "                var nbb_cells = Jupyter.notebook.get_cells();\n",
       "                for (var i = 0; i < nbb_cells.length; ++i) {\n",
       "                    if (nbb_cells[i].input_prompt_number == nbb_cell_id) {\n",
       "                        if (nbb_cells[i].get_text() == nbb_unformatted_code) {\n",
       "                             nbb_cells[i].set_text(nbb_formatted_code);\n",
       "                        }\n",
       "                        break;\n",
       "                    }\n",
       "                }\n",
       "            }, 500);\n",
       "            "
      ],
      "text/plain": [
       "<IPython.core.display.Javascript object>"
      ]
     },
     "metadata": {},
     "output_type": "display_data"
    }
   ],
   "source": [
    "data_modelling2 = data_modelling.drop(\n",
    "    columns=[\n",
    "        \"Good\",\n",
    "        \"DTI 2: =>15%\",\n",
    "        \"CrHistory 1: <20\",\n",
    "        \"Purpose 2: Other\",\n",
    "        \"Tax Liens 1: 0\",\n",
    "        \"Short Term\",\n",
    "    ]\n",
    ")"
   ]
  },
  {
   "cell_type": "code",
   "execution_count": 140,
   "metadata": {},
   "outputs": [
    {
     "data": {
      "text/plain": [
       "Index(['default', 'Average', 'Very Good', 'DTI 1: <15%', 'CrHistory 2: >=20',\n",
       "       'Purpose 1: Business', 'Long Term', 'Tax Liens 2: >0'],\n",
       "      dtype='object')"
      ]
     },
     "execution_count": 140,
     "metadata": {},
     "output_type": "execute_result"
    },
    {
     "data": {
      "application/javascript": [
       "\n",
       "            setTimeout(function() {\n",
       "                var nbb_cell_id = 140;\n",
       "                var nbb_unformatted_code = \"data_modelling2.columns\";\n",
       "                var nbb_formatted_code = \"data_modelling2.columns\";\n",
       "                var nbb_cells = Jupyter.notebook.get_cells();\n",
       "                for (var i = 0; i < nbb_cells.length; ++i) {\n",
       "                    if (nbb_cells[i].input_prompt_number == nbb_cell_id) {\n",
       "                        if (nbb_cells[i].get_text() == nbb_unformatted_code) {\n",
       "                             nbb_cells[i].set_text(nbb_formatted_code);\n",
       "                        }\n",
       "                        break;\n",
       "                    }\n",
       "                }\n",
       "            }, 500);\n",
       "            "
      ],
      "text/plain": [
       "<IPython.core.display.Javascript object>"
      ]
     },
     "metadata": {},
     "output_type": "display_data"
    }
   ],
   "source": [
    "data_modelling2.columns"
   ]
  },
  {
   "cell_type": "markdown",
   "metadata": {},
   "source": [
    "# Modelling"
   ]
  },
  {
   "cell_type": "markdown",
   "metadata": {},
   "source": [
    "## Stepwise Logistic Regression"
   ]
  },
  {
   "cell_type": "markdown",
   "metadata": {},
   "source": [
    "### Model Iteration: 1"
   ]
  },
  {
   "cell_type": "code",
   "execution_count": 141,
   "metadata": {},
   "outputs": [
    {
     "data": {
      "application/javascript": [
       "\n",
       "            setTimeout(function() {\n",
       "                var nbb_cell_id = 141;\n",
       "                var nbb_unformatted_code = \"data_modelling3 = data_modelling2[\\n    [\\n'default', 'Average', 'Very Good', 'DTI 1: <15%', 'CrHistory 2: >=20',\\n       'Purpose 1: Business', 'Long Term', 'Tax Liens 2: >0'\\n    ]\\n]\";\n",
       "                var nbb_formatted_code = \"data_modelling3 = data_modelling2[\\n    [\\n        \\\"default\\\",\\n        \\\"Average\\\",\\n        \\\"Very Good\\\",\\n        \\\"DTI 1: <15%\\\",\\n        \\\"CrHistory 2: >=20\\\",\\n        \\\"Purpose 1: Business\\\",\\n        \\\"Long Term\\\",\\n        \\\"Tax Liens 2: >0\\\",\\n    ]\\n]\";\n",
       "                var nbb_cells = Jupyter.notebook.get_cells();\n",
       "                for (var i = 0; i < nbb_cells.length; ++i) {\n",
       "                    if (nbb_cells[i].input_prompt_number == nbb_cell_id) {\n",
       "                        if (nbb_cells[i].get_text() == nbb_unformatted_code) {\n",
       "                             nbb_cells[i].set_text(nbb_formatted_code);\n",
       "                        }\n",
       "                        break;\n",
       "                    }\n",
       "                }\n",
       "            }, 500);\n",
       "            "
      ],
      "text/plain": [
       "<IPython.core.display.Javascript object>"
      ]
     },
     "metadata": {},
     "output_type": "display_data"
    }
   ],
   "source": [
    "data_modelling3 = data_modelling2[\n",
    "    [\n",
    "        \"default\",\n",
    "        \"Average\",\n",
    "        \"Very Good\",\n",
    "        \"DTI 1: <15%\",\n",
    "        \"CrHistory 2: >=20\",\n",
    "        \"Purpose 1: Business\",\n",
    "        \"Long Term\",\n",
    "        \"Tax Liens 2: >0\",\n",
    "    ]\n",
    "]"
   ]
  },
  {
   "cell_type": "code",
   "execution_count": 142,
   "metadata": {},
   "outputs": [
    {
     "data": {
      "application/javascript": [
       "\n",
       "            setTimeout(function() {\n",
       "                var nbb_cell_id = 142;\n",
       "                var nbb_unformatted_code = \"X = data_modelling3.loc[:, data_modelling3.columns != \\\"default\\\"]\\ny = data_modelling3.loc[:, data_modelling3.columns == \\\"default\\\"]\";\n",
       "                var nbb_formatted_code = \"X = data_modelling3.loc[:, data_modelling3.columns != \\\"default\\\"]\\ny = data_modelling3.loc[:, data_modelling3.columns == \\\"default\\\"]\";\n",
       "                var nbb_cells = Jupyter.notebook.get_cells();\n",
       "                for (var i = 0; i < nbb_cells.length; ++i) {\n",
       "                    if (nbb_cells[i].input_prompt_number == nbb_cell_id) {\n",
       "                        if (nbb_cells[i].get_text() == nbb_unformatted_code) {\n",
       "                             nbb_cells[i].set_text(nbb_formatted_code);\n",
       "                        }\n",
       "                        break;\n",
       "                    }\n",
       "                }\n",
       "            }, 500);\n",
       "            "
      ],
      "text/plain": [
       "<IPython.core.display.Javascript object>"
      ]
     },
     "metadata": {},
     "output_type": "display_data"
    }
   ],
   "source": [
    "X = data_modelling3.loc[:, data_modelling3.columns != \"default\"]\n",
    "y = data_modelling3.loc[:, data_modelling3.columns == \"default\"]"
   ]
  },
  {
   "cell_type": "code",
   "execution_count": 143,
   "metadata": {},
   "outputs": [
    {
     "data": {
      "application/javascript": [
       "\n",
       "            setTimeout(function() {\n",
       "                var nbb_cell_id = 143;\n",
       "                var nbb_unformatted_code = \"os = RandomUnderSampler(sampling_strategy=0.5, random_state=42)\\nX_train, X_test, y_train, y_test = train_test_split(X, y, test_size=0.3, random_state=0)\\ncolumns = X_train.columns\";\n",
       "                var nbb_formatted_code = \"os = RandomUnderSampler(sampling_strategy=0.5, random_state=42)\\nX_train, X_test, y_train, y_test = train_test_split(X, y, test_size=0.3, random_state=0)\\ncolumns = X_train.columns\";\n",
       "                var nbb_cells = Jupyter.notebook.get_cells();\n",
       "                for (var i = 0; i < nbb_cells.length; ++i) {\n",
       "                    if (nbb_cells[i].input_prompt_number == nbb_cell_id) {\n",
       "                        if (nbb_cells[i].get_text() == nbb_unformatted_code) {\n",
       "                             nbb_cells[i].set_text(nbb_formatted_code);\n",
       "                        }\n",
       "                        break;\n",
       "                    }\n",
       "                }\n",
       "            }, 500);\n",
       "            "
      ],
      "text/plain": [
       "<IPython.core.display.Javascript object>"
      ]
     },
     "metadata": {},
     "output_type": "display_data"
    }
   ],
   "source": [
    "os = RandomUnderSampler(sampling_strategy=0.5, random_state=42)\n",
    "X_train, X_test, y_train, y_test = train_test_split(X, y, test_size=0.3, random_state=0)\n",
    "columns = X_train.columns"
   ]
  },
  {
   "cell_type": "code",
   "execution_count": 144,
   "metadata": {},
   "outputs": [
    {
     "name": "stdout",
     "output_type": "stream",
     "text": [
      "The number of observations in Development data before undersampling is  54089\n",
      "The number of observations in Development data after undersampling is  34014\n",
      "The number of observations in Validation data after undersampling is  23182\n",
      "The number of observations in Validation data after undersampling is  14628\n"
     ]
    },
    {
     "data": {
      "application/javascript": [
       "\n",
       "            setTimeout(function() {\n",
       "                var nbb_cell_id = 144;\n",
       "                var nbb_unformatted_code = \"# Train\\nos_data_X, os_data_y = os.fit_sample(X_train, y_train)\\nos_data_X = pd.DataFrame(data=os_data_X, columns=columns)\\nos_data_y = pd.DataFrame(data=os_data_y, columns=[\\\"default\\\"])\\n# Test\\nos_test_X, os_test_y = os.fit_sample(X_test, y_test)\\nos_test_X = pd.DataFrame(data=os_test_X, columns=columns)\\nos_test_y = pd.DataFrame(data=os_test_y, columns=[\\\"default\\\"])\\n# we can Check the numbers of our data\\nprint(\\n    \\\"The number of observations in Development data before undersampling is \\\",\\n    len(X_train),\\n)\\nprint(\\n    \\\"The number of observations in Development data after undersampling is \\\",\\n    len(os_data_X),\\n)\\nprint(\\n    \\\"The number of observations in Validation data after undersampling is \\\", len(X_test)\\n)\\nprint(\\n    \\\"The number of observations in Validation data after undersampling is \\\",\\n    len(os_test_X),\\n)\";\n",
       "                var nbb_formatted_code = \"# Train\\nos_data_X, os_data_y = os.fit_sample(X_train, y_train)\\nos_data_X = pd.DataFrame(data=os_data_X, columns=columns)\\nos_data_y = pd.DataFrame(data=os_data_y, columns=[\\\"default\\\"])\\n# Test\\nos_test_X, os_test_y = os.fit_sample(X_test, y_test)\\nos_test_X = pd.DataFrame(data=os_test_X, columns=columns)\\nos_test_y = pd.DataFrame(data=os_test_y, columns=[\\\"default\\\"])\\n# we can Check the numbers of our data\\nprint(\\n    \\\"The number of observations in Development data before undersampling is \\\",\\n    len(X_train),\\n)\\nprint(\\n    \\\"The number of observations in Development data after undersampling is \\\",\\n    len(os_data_X),\\n)\\nprint(\\n    \\\"The number of observations in Validation data after undersampling is \\\", len(X_test)\\n)\\nprint(\\n    \\\"The number of observations in Validation data after undersampling is \\\",\\n    len(os_test_X),\\n)\";\n",
       "                var nbb_cells = Jupyter.notebook.get_cells();\n",
       "                for (var i = 0; i < nbb_cells.length; ++i) {\n",
       "                    if (nbb_cells[i].input_prompt_number == nbb_cell_id) {\n",
       "                        if (nbb_cells[i].get_text() == nbb_unformatted_code) {\n",
       "                             nbb_cells[i].set_text(nbb_formatted_code);\n",
       "                        }\n",
       "                        break;\n",
       "                    }\n",
       "                }\n",
       "            }, 500);\n",
       "            "
      ],
      "text/plain": [
       "<IPython.core.display.Javascript object>"
      ]
     },
     "metadata": {},
     "output_type": "display_data"
    }
   ],
   "source": [
    "# Train\n",
    "os_data_X, os_data_y = os.fit_sample(X_train, y_train)\n",
    "os_data_X = pd.DataFrame(data=os_data_X, columns=columns)\n",
    "os_data_y = pd.DataFrame(data=os_data_y, columns=[\"default\"])\n",
    "# Test\n",
    "os_test_X, os_test_y = os.fit_sample(X_test, y_test)\n",
    "os_test_X = pd.DataFrame(data=os_test_X, columns=columns)\n",
    "os_test_y = pd.DataFrame(data=os_test_y, columns=[\"default\"])\n",
    "# we can Check the numbers of our data\n",
    "print(\n",
    "    \"The number of observations in Development data before undersampling is \",\n",
    "    len(X_train),\n",
    ")\n",
    "print(\n",
    "    \"The number of observations in Development data after undersampling is \",\n",
    "    len(os_data_X),\n",
    ")\n",
    "print(\n",
    "    \"The number of observations in Validation data after undersampling is \", len(X_test)\n",
    ")\n",
    "print(\n",
    "    \"The number of observations in Validation data after undersampling is \",\n",
    "    len(os_test_X),\n",
    ")"
   ]
  },
  {
   "cell_type": "code",
   "execution_count": 145,
   "metadata": {},
   "outputs": [
    {
     "name": "stdout",
     "output_type": "stream",
     "text": [
      "Optimization terminated successfully.\n",
      "         Current function value: 0.631552\n",
      "         Iterations 5\n",
      "                           Results: Logit\n",
      "====================================================================\n",
      "Model:               Logit             Pseudo R-squared:  0.008     \n",
      "Dependent Variable:  default           AIC:               42977.2292\n",
      "Date:                2020-06-01 23:48  BIC:               43036.2709\n",
      "No. Observations:    34014             Log-Likelihood:    -21482.   \n",
      "Df Model:            6                 LL-Null:           -21650.   \n",
      "Df Residuals:        34007             LLR p-value:       7.2319e-70\n",
      "Converged:           1.0000            Scale:             1.0000    \n",
      "No. Iterations:      5.0000                                         \n",
      "--------------------------------------------------------------------\n",
      "                     Coef.  Std.Err.    z     P>|z|   [0.025  0.975]\n",
      "--------------------------------------------------------------------\n",
      "Average              0.3111   0.0428   7.2780 0.0000  0.2274  0.3949\n",
      "Very Good           -0.7864   0.0301 -26.1232 0.0000 -0.8454 -0.7274\n",
      "DTI 1: <15%         -0.6981   0.0217 -32.2133 0.0000 -0.7406 -0.6556\n",
      "CrHistory 2: >=20   -0.3760   0.0238 -15.8263 0.0000 -0.4225 -0.3294\n",
      "Purpose 1: Business  0.3048   0.0807   3.7784 0.0002  0.1467  0.4630\n",
      "Long Term           -0.0109   0.0241  -0.4533 0.6504 -0.0581  0.0363\n",
      "Tax Liens 2: >0     -0.1181   0.0830  -1.4232 0.1547 -0.2808  0.0446\n",
      "====================================================================\n",
      "\n"
     ]
    },
    {
     "data": {
      "application/javascript": [
       "\n",
       "            setTimeout(function() {\n",
       "                var nbb_cell_id = 145;\n",
       "                var nbb_unformatted_code = \"logit_model = sm.Logit(os_data_y, os_data_X)\\nresult3 = logit_model.fit()\\nprint(result3.summary2())\";\n",
       "                var nbb_formatted_code = \"logit_model = sm.Logit(os_data_y, os_data_X)\\nresult3 = logit_model.fit()\\nprint(result3.summary2())\";\n",
       "                var nbb_cells = Jupyter.notebook.get_cells();\n",
       "                for (var i = 0; i < nbb_cells.length; ++i) {\n",
       "                    if (nbb_cells[i].input_prompt_number == nbb_cell_id) {\n",
       "                        if (nbb_cells[i].get_text() == nbb_unformatted_code) {\n",
       "                             nbb_cells[i].set_text(nbb_formatted_code);\n",
       "                        }\n",
       "                        break;\n",
       "                    }\n",
       "                }\n",
       "            }, 500);\n",
       "            "
      ],
      "text/plain": [
       "<IPython.core.display.Javascript object>"
      ]
     },
     "metadata": {},
     "output_type": "display_data"
    }
   ],
   "source": [
    "logit_model = sm.Logit(os_data_y, os_data_X)\n",
    "result3 = logit_model.fit()\n",
    "print(result3.summary2())"
   ]
  },
  {
   "cell_type": "markdown",
   "metadata": {},
   "source": [
    "Long-term and Tax Liens are insignificant (p-value < 0.05). We will exclude variables in a step-wise way, one at a time. We start with Tax Liens as it has higher value and lowest contribution to the regression."
   ]
  },
  {
   "cell_type": "markdown",
   "metadata": {},
   "source": [
    "### Model Iteration: 2 (excl. Tax Liens)"
   ]
  },
  {
   "cell_type": "code",
   "execution_count": 146,
   "metadata": {},
   "outputs": [
    {
     "data": {
      "application/javascript": [
       "\n",
       "            setTimeout(function() {\n",
       "                var nbb_cell_id = 146;\n",
       "                var nbb_unformatted_code = \"data_modelling3 = data_modelling2[\\n    [\\n        \\\"default\\\",\\n        \\\"Average\\\",\\n        \\\"Very Good\\\",\\n        \\\"DTI 1: <15%\\\",\\n        \\\"CrHistory 2: >=20\\\",\\n        \\\"Purpose 1: Business\\\",\\n        \\\"Long Term\\\",\\n    ]\\n]\";\n",
       "                var nbb_formatted_code = \"data_modelling3 = data_modelling2[\\n    [\\n        \\\"default\\\",\\n        \\\"Average\\\",\\n        \\\"Very Good\\\",\\n        \\\"DTI 1: <15%\\\",\\n        \\\"CrHistory 2: >=20\\\",\\n        \\\"Purpose 1: Business\\\",\\n        \\\"Long Term\\\",\\n    ]\\n]\";\n",
       "                var nbb_cells = Jupyter.notebook.get_cells();\n",
       "                for (var i = 0; i < nbb_cells.length; ++i) {\n",
       "                    if (nbb_cells[i].input_prompt_number == nbb_cell_id) {\n",
       "                        if (nbb_cells[i].get_text() == nbb_unformatted_code) {\n",
       "                             nbb_cells[i].set_text(nbb_formatted_code);\n",
       "                        }\n",
       "                        break;\n",
       "                    }\n",
       "                }\n",
       "            }, 500);\n",
       "            "
      ],
      "text/plain": [
       "<IPython.core.display.Javascript object>"
      ]
     },
     "metadata": {},
     "output_type": "display_data"
    }
   ],
   "source": [
    "data_modelling3 = data_modelling2[\n",
    "    [\n",
    "        \"default\",\n",
    "        \"Average\",\n",
    "        \"Very Good\",\n",
    "        \"DTI 1: <15%\",\n",
    "        \"CrHistory 2: >=20\",\n",
    "        \"Purpose 1: Business\",\n",
    "        \"Long Term\",\n",
    "    ]\n",
    "]"
   ]
  },
  {
   "cell_type": "code",
   "execution_count": 147,
   "metadata": {},
   "outputs": [
    {
     "data": {
      "application/javascript": [
       "\n",
       "            setTimeout(function() {\n",
       "                var nbb_cell_id = 147;\n",
       "                var nbb_unformatted_code = \"X = data_modelling3.loc[:, data_modelling3.columns != \\\"default\\\"]\\ny = data_modelling3.loc[:, data_modelling3.columns == \\\"default\\\"]\";\n",
       "                var nbb_formatted_code = \"X = data_modelling3.loc[:, data_modelling3.columns != \\\"default\\\"]\\ny = data_modelling3.loc[:, data_modelling3.columns == \\\"default\\\"]\";\n",
       "                var nbb_cells = Jupyter.notebook.get_cells();\n",
       "                for (var i = 0; i < nbb_cells.length; ++i) {\n",
       "                    if (nbb_cells[i].input_prompt_number == nbb_cell_id) {\n",
       "                        if (nbb_cells[i].get_text() == nbb_unformatted_code) {\n",
       "                             nbb_cells[i].set_text(nbb_formatted_code);\n",
       "                        }\n",
       "                        break;\n",
       "                    }\n",
       "                }\n",
       "            }, 500);\n",
       "            "
      ],
      "text/plain": [
       "<IPython.core.display.Javascript object>"
      ]
     },
     "metadata": {},
     "output_type": "display_data"
    }
   ],
   "source": [
    "X = data_modelling3.loc[:, data_modelling3.columns != \"default\"]\n",
    "y = data_modelling3.loc[:, data_modelling3.columns == \"default\"]"
   ]
  },
  {
   "cell_type": "code",
   "execution_count": 148,
   "metadata": {},
   "outputs": [
    {
     "data": {
      "application/javascript": [
       "\n",
       "            setTimeout(function() {\n",
       "                var nbb_cell_id = 148;\n",
       "                var nbb_unformatted_code = \"os = RandomUnderSampler(sampling_strategy=0.5, random_state=42)\\nX_train, X_test, y_train, y_test = train_test_split(X, y, test_size=0.3, random_state=0)\\ncolumns = X_train.columns\";\n",
       "                var nbb_formatted_code = \"os = RandomUnderSampler(sampling_strategy=0.5, random_state=42)\\nX_train, X_test, y_train, y_test = train_test_split(X, y, test_size=0.3, random_state=0)\\ncolumns = X_train.columns\";\n",
       "                var nbb_cells = Jupyter.notebook.get_cells();\n",
       "                for (var i = 0; i < nbb_cells.length; ++i) {\n",
       "                    if (nbb_cells[i].input_prompt_number == nbb_cell_id) {\n",
       "                        if (nbb_cells[i].get_text() == nbb_unformatted_code) {\n",
       "                             nbb_cells[i].set_text(nbb_formatted_code);\n",
       "                        }\n",
       "                        break;\n",
       "                    }\n",
       "                }\n",
       "            }, 500);\n",
       "            "
      ],
      "text/plain": [
       "<IPython.core.display.Javascript object>"
      ]
     },
     "metadata": {},
     "output_type": "display_data"
    }
   ],
   "source": [
    "os = RandomUnderSampler(sampling_strategy=0.5, random_state=42)\n",
    "X_train, X_test, y_train, y_test = train_test_split(X, y, test_size=0.3, random_state=0)\n",
    "columns = X_train.columns"
   ]
  },
  {
   "cell_type": "code",
   "execution_count": 149,
   "metadata": {},
   "outputs": [
    {
     "data": {
      "application/javascript": [
       "\n",
       "            setTimeout(function() {\n",
       "                var nbb_cell_id = 149;\n",
       "                var nbb_unformatted_code = \"# Train\\nos_data_X, os_data_y = os.fit_sample(X_train, y_train)\\nos_data_X = pd.DataFrame(data=os_data_X, columns=columns)\\nos_data_y = pd.DataFrame(data=os_data_y, columns=[\\\"default\\\"])\\n# Test\\nos_test_X, os_test_y = os.fit_sample(X_test, y_test)\\nos_test_X = pd.DataFrame(data=os_test_X, columns=columns)\\nos_test_y = pd.DataFrame(data=os_test_y, columns=[\\\"default\\\"])\";\n",
       "                var nbb_formatted_code = \"# Train\\nos_data_X, os_data_y = os.fit_sample(X_train, y_train)\\nos_data_X = pd.DataFrame(data=os_data_X, columns=columns)\\nos_data_y = pd.DataFrame(data=os_data_y, columns=[\\\"default\\\"])\\n# Test\\nos_test_X, os_test_y = os.fit_sample(X_test, y_test)\\nos_test_X = pd.DataFrame(data=os_test_X, columns=columns)\\nos_test_y = pd.DataFrame(data=os_test_y, columns=[\\\"default\\\"])\";\n",
       "                var nbb_cells = Jupyter.notebook.get_cells();\n",
       "                for (var i = 0; i < nbb_cells.length; ++i) {\n",
       "                    if (nbb_cells[i].input_prompt_number == nbb_cell_id) {\n",
       "                        if (nbb_cells[i].get_text() == nbb_unformatted_code) {\n",
       "                             nbb_cells[i].set_text(nbb_formatted_code);\n",
       "                        }\n",
       "                        break;\n",
       "                    }\n",
       "                }\n",
       "            }, 500);\n",
       "            "
      ],
      "text/plain": [
       "<IPython.core.display.Javascript object>"
      ]
     },
     "metadata": {},
     "output_type": "display_data"
    }
   ],
   "source": [
    "# Train\n",
    "os_data_X, os_data_y = os.fit_sample(X_train, y_train)\n",
    "os_data_X = pd.DataFrame(data=os_data_X, columns=columns)\n",
    "os_data_y = pd.DataFrame(data=os_data_y, columns=[\"default\"])\n",
    "# Test\n",
    "os_test_X, os_test_y = os.fit_sample(X_test, y_test)\n",
    "os_test_X = pd.DataFrame(data=os_test_X, columns=columns)\n",
    "os_test_y = pd.DataFrame(data=os_test_y, columns=[\"default\"])"
   ]
  },
  {
   "cell_type": "code",
   "execution_count": 150,
   "metadata": {},
   "outputs": [
    {
     "name": "stdout",
     "output_type": "stream",
     "text": [
      "Optimization terminated successfully.\n",
      "         Current function value: 0.631582\n",
      "         Iterations 5\n",
      "                           Results: Logit\n",
      "====================================================================\n",
      "Model:               Logit             Pseudo R-squared:  0.008     \n",
      "Dependent Variable:  default           AIC:               42977.2736\n",
      "Date:                2020-06-01 23:49  BIC:               43027.8808\n",
      "No. Observations:    34014             Log-Likelihood:    -21483.   \n",
      "Df Model:            5                 LL-Null:           -21650.   \n",
      "Df Residuals:        34008             LLR p-value:       2.2999e-70\n",
      "Converged:           1.0000            Scale:             1.0000    \n",
      "No. Iterations:      5.0000                                         \n",
      "--------------------------------------------------------------------\n",
      "                     Coef.  Std.Err.    z     P>|z|   [0.025  0.975]\n",
      "--------------------------------------------------------------------\n",
      "Average              0.3100   0.0427   7.2535 0.0000  0.2263  0.3938\n",
      "Very Good           -0.7864   0.0301 -26.1230 0.0000 -0.8454 -0.7274\n",
      "DTI 1: <15%         -0.7002   0.0216 -32.3784 0.0000 -0.7425 -0.6578\n",
      "CrHistory 2: >=20   -0.3775   0.0237 -15.9069 0.0000 -0.4240 -0.3310\n",
      "Purpose 1: Business  0.3036   0.0807   3.7634 0.0002  0.1455  0.4618\n",
      "Long Term           -0.0116   0.0241  -0.4829 0.6292 -0.0588  0.0356\n",
      "====================================================================\n",
      "\n"
     ]
    },
    {
     "data": {
      "application/javascript": [
       "\n",
       "            setTimeout(function() {\n",
       "                var nbb_cell_id = 150;\n",
       "                var nbb_unformatted_code = \"logit_model = sm.Logit(os_data_y, os_data_X)\\nresult3 = logit_model.fit()\\nprint(result3.summary2())\";\n",
       "                var nbb_formatted_code = \"logit_model = sm.Logit(os_data_y, os_data_X)\\nresult3 = logit_model.fit()\\nprint(result3.summary2())\";\n",
       "                var nbb_cells = Jupyter.notebook.get_cells();\n",
       "                for (var i = 0; i < nbb_cells.length; ++i) {\n",
       "                    if (nbb_cells[i].input_prompt_number == nbb_cell_id) {\n",
       "                        if (nbb_cells[i].get_text() == nbb_unformatted_code) {\n",
       "                             nbb_cells[i].set_text(nbb_formatted_code);\n",
       "                        }\n",
       "                        break;\n",
       "                    }\n",
       "                }\n",
       "            }, 500);\n",
       "            "
      ],
      "text/plain": [
       "<IPython.core.display.Javascript object>"
      ]
     },
     "metadata": {},
     "output_type": "display_data"
    }
   ],
   "source": [
    "logit_model = sm.Logit(os_data_y, os_data_X)\n",
    "result3 = logit_model.fit()\n",
    "print(result3.summary2())"
   ]
  },
  {
   "cell_type": "markdown",
   "metadata": {},
   "source": [
    "### Model Iteration: 3 (excl. Term)"
   ]
  },
  {
   "cell_type": "code",
   "execution_count": 152,
   "metadata": {},
   "outputs": [
    {
     "name": "stdout",
     "output_type": "stream",
     "text": [
      "Optimization terminated successfully.\n",
      "         Current function value: 0.631586\n",
      "         Iterations 5\n",
      "                           Results: Logit\n",
      "====================================================================\n",
      "Model:               Logit             Pseudo R-squared:  0.008     \n",
      "Dependent Variable:  default           AIC:               42975.5068\n",
      "Date:                2020-06-01 23:49  BIC:               43017.6795\n",
      "No. Observations:    34014             Log-Likelihood:    -21483.   \n",
      "Df Model:            4                 LL-Null:           -21650.   \n",
      "Df Residuals:        34009             LLR p-value:       2.6427e-71\n",
      "Converged:           1.0000            Scale:             1.0000    \n",
      "No. Iterations:      5.0000                                         \n",
      "--------------------------------------------------------------------\n",
      "                     Coef.  Std.Err.    z     P>|z|   [0.025  0.975]\n",
      "--------------------------------------------------------------------\n",
      "Average              0.3025   0.0398   7.6083 0.0000  0.2245  0.3804\n",
      "Very Good           -0.7851   0.0300 -26.1799 0.0000 -0.8439 -0.7263\n",
      "DTI 1: <15%         -0.7024   0.0211 -33.2642 0.0000 -0.7438 -0.6610\n",
      "CrHistory 2: >=20   -0.3805   0.0229 -16.6075 0.0000 -0.4254 -0.3356\n",
      "Purpose 1: Business  0.3037   0.0807   3.7636 0.0002  0.1455  0.4618\n",
      "====================================================================\n",
      "\n"
     ]
    },
    {
     "data": {
      "application/javascript": [
       "\n",
       "            setTimeout(function() {\n",
       "                var nbb_cell_id = 152;\n",
       "                var nbb_unformatted_code = \"data_modelling3 = data_modelling2[\\n    [\\n        \\\"default\\\",\\n        \\\"Average\\\",\\n        \\\"Very Good\\\",\\n        \\\"DTI 1: <15%\\\",\\n        \\\"CrHistory 2: >=20\\\",\\n        \\\"Purpose 1: Business\\\",\\n    ]\\n]\\n\\nX = data_modelling3.loc[:, data_modelling3.columns != \\\"default\\\"]\\ny = data_modelling3.loc[:, data_modelling3.columns == \\\"default\\\"]\\n\\nos = RandomUnderSampler(sampling_strategy=0.5, random_state=42)\\nX_train, X_test, y_train, y_test = train_test_split(X, y, test_size=0.3, random_state=0)\\ncolumns = X_train.columns\\n\\n# Train\\nos_data_X, os_data_y = os.fit_sample(X_train, y_train)\\nos_data_X = pd.DataFrame(data=os_data_X, columns=columns)\\nos_data_y = pd.DataFrame(data=os_data_y, columns=[\\\"default\\\"])\\n# Test\\nos_test_X, os_test_y = os.fit_sample(X_test, y_test)\\nos_test_X = pd.DataFrame(data=os_test_X, columns=columns)\\nos_test_y = pd.DataFrame(data=os_test_y, columns=[\\\"default\\\"])\\n\\nlogit_model = sm.Logit(os_data_y, os_data_X)\\n\\nresult3 = logit_model.fit()\\nresult_pred = result3.predict(os_data_X)\\nprint(result3.summary2())\";\n",
       "                var nbb_formatted_code = \"data_modelling3 = data_modelling2[\\n    [\\n        \\\"default\\\",\\n        \\\"Average\\\",\\n        \\\"Very Good\\\",\\n        \\\"DTI 1: <15%\\\",\\n        \\\"CrHistory 2: >=20\\\",\\n        \\\"Purpose 1: Business\\\",\\n    ]\\n]\\n\\nX = data_modelling3.loc[:, data_modelling3.columns != \\\"default\\\"]\\ny = data_modelling3.loc[:, data_modelling3.columns == \\\"default\\\"]\\n\\nos = RandomUnderSampler(sampling_strategy=0.5, random_state=42)\\nX_train, X_test, y_train, y_test = train_test_split(X, y, test_size=0.3, random_state=0)\\ncolumns = X_train.columns\\n\\n# Train\\nos_data_X, os_data_y = os.fit_sample(X_train, y_train)\\nos_data_X = pd.DataFrame(data=os_data_X, columns=columns)\\nos_data_y = pd.DataFrame(data=os_data_y, columns=[\\\"default\\\"])\\n# Test\\nos_test_X, os_test_y = os.fit_sample(X_test, y_test)\\nos_test_X = pd.DataFrame(data=os_test_X, columns=columns)\\nos_test_y = pd.DataFrame(data=os_test_y, columns=[\\\"default\\\"])\\n\\nlogit_model = sm.Logit(os_data_y, os_data_X)\\n\\nresult3 = logit_model.fit()\\nresult_pred = result3.predict(os_data_X)\\nprint(result3.summary2())\";\n",
       "                var nbb_cells = Jupyter.notebook.get_cells();\n",
       "                for (var i = 0; i < nbb_cells.length; ++i) {\n",
       "                    if (nbb_cells[i].input_prompt_number == nbb_cell_id) {\n",
       "                        if (nbb_cells[i].get_text() == nbb_unformatted_code) {\n",
       "                             nbb_cells[i].set_text(nbb_formatted_code);\n",
       "                        }\n",
       "                        break;\n",
       "                    }\n",
       "                }\n",
       "            }, 500);\n",
       "            "
      ],
      "text/plain": [
       "<IPython.core.display.Javascript object>"
      ]
     },
     "metadata": {},
     "output_type": "display_data"
    }
   ],
   "source": [
    "data_modelling3 = data_modelling2[\n",
    "    [\n",
    "        \"default\",\n",
    "        \"Average\",\n",
    "        \"Very Good\",\n",
    "        \"DTI 1: <15%\",\n",
    "        \"CrHistory 2: >=20\",\n",
    "        \"Purpose 1: Business\",\n",
    "    ]\n",
    "]\n",
    "\n",
    "X = data_modelling3.loc[:, data_modelling3.columns != \"default\"]\n",
    "y = data_modelling3.loc[:, data_modelling3.columns == \"default\"]\n",
    "\n",
    "os = RandomUnderSampler(sampling_strategy=0.5, random_state=42)\n",
    "X_train, X_test, y_train, y_test = train_test_split(X, y, test_size=0.3, random_state=0)\n",
    "columns = X_train.columns\n",
    "\n",
    "# Train\n",
    "os_data_X, os_data_y = os.fit_sample(X_train, y_train)\n",
    "os_data_X = pd.DataFrame(data=os_data_X, columns=columns)\n",
    "os_data_y = pd.DataFrame(data=os_data_y, columns=[\"default\"])\n",
    "# Test\n",
    "os_test_X, os_test_y = os.fit_sample(X_test, y_test)\n",
    "os_test_X = pd.DataFrame(data=os_test_X, columns=columns)\n",
    "os_test_y = pd.DataFrame(data=os_test_y, columns=[\"default\"])\n",
    "\n",
    "logit_model = sm.Logit(os_data_y, os_data_X)\n",
    "\n",
    "result3 = logit_model.fit()\n",
    "result_pred = result3.predict(os_data_X)\n",
    "print(result3.summary2())"
   ]
  },
  {
   "cell_type": "markdown",
   "metadata": {},
   "source": [
    "**Analysis of coefficients and trends** <br>\n",
    "\n",
    "Now all variables have p-values <0.05. We move on to analyzing the cofefficients and the trends. The higher the value of the coefficient means the bucket contributes more to default status. We expect change in coefficient around the Null group. The results are logical. <br> \n",
    "\n",
    "**1. Credit Score (Null group - Average)** <br>\n",
    "Very good credit scores are less likely to default than good scores (coef -) <br>\n",
    "Average credit scores are more likely to default than good scores (coef +) <br>\n",
    "\n",
    "**2. Debt to Income ratio (Null group - DTI >=15%)** <br>\n",
    "Low Debt-to-income ratios are less likely to default than high ones (coef -)<br>\n",
    "\n",
    "**3. Credit History (Null Group - <20 years of credit history)** <br>\n",
    "Longer credit history is less likely to default than short credit history (coef -) <br>\n",
    "\n",
    "**4. Purpose**<br>\n",
    "Business lending is associated with higher risk, as observed in the univariate analysis where business was linked to highest default rate. Hence, we observe no inverse trend as it enters the regression (coef +)"
   ]
  },
  {
   "cell_type": "markdown",
   "metadata": {},
   "source": [
    "#### Residuals"
   ]
  },
  {
   "cell_type": "markdown",
   "metadata": {},
   "source": [
    "If the fitted logistic regression model is true, we would expect to see that the residuals are falling between ± 3 and are normally distributed, meaning that the model is wrong in the same way in both directions. Positive values for the residual mean the prediction was too low (optimistic), and negative values mean the prediction was too high (conservative). For our logistic regression we observe that the residuals satisfy the condition for the boundaries, but they are not normally distributed. Since they are more skewed on the negative side (between -1.0 and -0.5), we conclude the model might be consistently slightly conservative."
   ]
  },
  {
   "cell_type": "code",
   "execution_count": 153,
   "metadata": {},
   "outputs": [
    {
     "data": {
      "text/plain": [
       "Text(0.5, 0, 'Normalized residuals')"
      ]
     },
     "execution_count": 153,
     "metadata": {},
     "output_type": "execute_result"
    },
    {
     "data": {
      "image/png": "[encoded data removed]",
      "text/plain": [
       "<Figure size 432x288 with 1 Axes>"
      ]
     },
     "metadata": {
      "needs_background": "light"
     },
     "output_type": "display_data"
    },
    {
     "data": {
      "application/javascript": [
       "\n",
       "            setTimeout(function() {\n",
       "                var nbb_cell_id = 153;\n",
       "                var nbb_unformatted_code = \"plt.hist(result3.resid_pearson, color=\\\"cadetblue\\\")\\nplt.ylabel(\\\"Count\\\")\\nplt.xlabel(\\\"Normalized residuals\\\")\";\n",
       "                var nbb_formatted_code = \"plt.hist(result3.resid_pearson, color=\\\"cadetblue\\\")\\nplt.ylabel(\\\"Count\\\")\\nplt.xlabel(\\\"Normalized residuals\\\")\";\n",
       "                var nbb_cells = Jupyter.notebook.get_cells();\n",
       "                for (var i = 0; i < nbb_cells.length; ++i) {\n",
       "                    if (nbb_cells[i].input_prompt_number == nbb_cell_id) {\n",
       "                        if (nbb_cells[i].get_text() == nbb_unformatted_code) {\n",
       "                             nbb_cells[i].set_text(nbb_formatted_code);\n",
       "                        }\n",
       "                        break;\n",
       "                    }\n",
       "                }\n",
       "            }, 500);\n",
       "            "
      ],
      "text/plain": [
       "<IPython.core.display.Javascript object>"
      ]
     },
     "metadata": {},
     "output_type": "display_data"
    }
   ],
   "source": [
    "plt.hist(result3.resid_pearson, color=\"cadetblue\")\n",
    "plt.ylabel(\"Count\")\n",
    "plt.xlabel(\"Normalized residuals\")"
   ]
  },
  {
   "cell_type": "markdown",
   "metadata": {},
   "source": [
    "## Logistic Regression"
   ]
  },
  {
   "cell_type": "code",
   "execution_count": 154,
   "metadata": {},
   "outputs": [
    {
     "name": "stderr",
     "output_type": "stream",
     "text": [
      "C:\\Users\\Asus\\.conda\\envs\\py37\\lib\\site-packages\\sklearn\\utils\\validation.py:73: DataConversionWarning: A column-vector y was passed when a 1d array was expected. Please change the shape of y to (n_samples, ), for example using ravel().\n",
      "  return f(**kwargs)\n"
     ]
    },
    {
     "name": "stdout",
     "output_type": "stream",
     "text": [
      "Accuracy of logistic regression classifier on test set: 0.66523\n"
     ]
    },
    {
     "data": {
      "image/png": "[encoded data removed]",
      "text/plain": [
       "<Figure size 432x288 with 1 Axes>"
      ]
     },
     "metadata": {
      "needs_background": "light"
     },
     "output_type": "display_data"
    },
    {
     "data": {
      "application/javascript": [
       "\n",
       "            setTimeout(function() {\n",
       "                var nbb_cell_id = 154;\n",
       "                var nbb_unformatted_code = \"logreg = LogisticRegression()\\nlogreg.fit(os_data_X, os_data_y)\\ny_pred = logreg.predict(os_test_X)\\nprint(\\n    \\\"Accuracy of logistic regression classifier on test set: {:.5f}\\\".format(\\n        logreg.score(os_test_X, os_test_y)\\n    )\\n)\\nlogit_roc_auc = roc_auc_score(os_test_y, logreg.predict(os_test_X))\\nfpr, tpr, thresholds = roc_curve(os_test_y, logreg.predict_proba(os_test_X)[:, 1])\\nplt.figure()\\nplt.plot(fpr, tpr, label=\\\"Logistic Regression (area = %0.2f)\\\" % logit_roc_auc)\\nplt.plot([0, 1], [0, 1], \\\"r--\\\")\\nplt.xlim([0.0, 1.0])\\nplt.ylim([0.0, 1.05])\\nplt.xlabel(\\\"False Positive Rate\\\")\\nplt.ylabel(\\\"True Positive Rate\\\")\\nplt.title(\\\"Receiver operating characteristic\\\")\\nplt.legend(loc=\\\"lower right\\\")\\nplt.savefig(\\\"Log_ROC\\\")\\nplt.show()\";\n",
       "                var nbb_formatted_code = \"logreg = LogisticRegression()\\nlogreg.fit(os_data_X, os_data_y)\\ny_pred = logreg.predict(os_test_X)\\nprint(\\n    \\\"Accuracy of logistic regression classifier on test set: {:.5f}\\\".format(\\n        logreg.score(os_test_X, os_test_y)\\n    )\\n)\\nlogit_roc_auc = roc_auc_score(os_test_y, logreg.predict(os_test_X))\\nfpr, tpr, thresholds = roc_curve(os_test_y, logreg.predict_proba(os_test_X)[:, 1])\\nplt.figure()\\nplt.plot(fpr, tpr, label=\\\"Logistic Regression (area = %0.2f)\\\" % logit_roc_auc)\\nplt.plot([0, 1], [0, 1], \\\"r--\\\")\\nplt.xlim([0.0, 1.0])\\nplt.ylim([0.0, 1.05])\\nplt.xlabel(\\\"False Positive Rate\\\")\\nplt.ylabel(\\\"True Positive Rate\\\")\\nplt.title(\\\"Receiver operating characteristic\\\")\\nplt.legend(loc=\\\"lower right\\\")\\nplt.savefig(\\\"Log_ROC\\\")\\nplt.show()\";\n",
       "                var nbb_cells = Jupyter.notebook.get_cells();\n",
       "                for (var i = 0; i < nbb_cells.length; ++i) {\n",
       "                    if (nbb_cells[i].input_prompt_number == nbb_cell_id) {\n",
       "                        if (nbb_cells[i].get_text() == nbb_unformatted_code) {\n",
       "                             nbb_cells[i].set_text(nbb_formatted_code);\n",
       "                        }\n",
       "                        break;\n",
       "                    }\n",
       "                }\n",
       "            }, 500);\n",
       "            "
      ],
      "text/plain": [
       "<IPython.core.display.Javascript object>"
      ]
     },
     "metadata": {},
     "output_type": "display_data"
    }
   ],
   "source": [
    "logreg = LogisticRegression()\n",
    "logreg.fit(os_data_X, os_data_y.values.ravel())\n",
    "y_pred = logreg.predict(os_test_X)\n",
    "print(\"Accuracy score Logistic Regression:\", logreg.score(os_test_X, os_test_y))\n",
    "logit_roc_auc = roc_auc_score(os_test_y, logreg.predict(os_test_X))\n",
    "fpr, tpr, thresholds = roc_curve(os_test_y, logreg.predict_proba(os_test_X)[:, 1])\n",
    "plt.figure()\n",
    "plt.plot(fpr, tpr, label=\"Logistic Regression (area = %0.2f)\" % logit_roc_auc)\n",
    "plt.plot([0, 1], [0, 1], \"r--\")\n",
    "plt.xlim([0.0, 1.0])\n",
    "plt.ylim([0.0, 1.05])\n",
    "plt.xlabel(\"False Positive Rate\")\n",
    "plt.ylabel(\"True Positive Rate\")\n",
    "plt.title(\"Receiver operating characteristic\")\n",
    "plt.legend(loc=\"lower right\")\n",
    "plt.savefig(\"Log_ROC\")\n",
    "plt.show()"
   ]
  },
  {
   "cell_type": "markdown",
   "metadata": {},
   "source": [
    "## KNN"
   ]
  },
  {
   "cell_type": "code",
   "execution_count": 155,
   "metadata": {},
   "outputs": [
    {
     "name": "stderr",
     "output_type": "stream",
     "text": [
      "C:\\Users\\Asus\\.conda\\envs\\py37\\lib\\site-packages\\ipykernel_launcher.py:2: DataConversionWarning: A column-vector y was passed when a 1d array was expected. Please change the shape of y to (n_samples, ), for example using ravel().\n",
      "  \n"
     ]
    },
    {
     "name": "stdout",
     "output_type": "stream",
     "text": [
      "Accuracy Score:  0.6642739950779327\n"
     ]
    },
    {
     "data": {
      "application/javascript": [
       "\n",
       "            setTimeout(function() {\n",
       "                var nbb_cell_id = 155;\n",
       "                var nbb_unformatted_code = \"knnclassifier = KNeighborsClassifier(n_neighbors=int(X.shape[1] / 2))\\nknnclassifier.fit(os_data_X, os_data_y)\\nprediction = knnclassifier.predict(os_test_X)\\nprint(\\\"Accuracy Score: \\\", accuracy_score(os_test_y, prediction))\";\n",
       "                var nbb_formatted_code = \"knnclassifier = KNeighborsClassifier(n_neighbors=int(X.shape[1] / 2))\\nknnclassifier.fit(os_data_X, os_data_y)\\nprediction = knnclassifier.predict(os_test_X)\\nprint(\\\"Accuracy Score: \\\", accuracy_score(os_test_y, prediction))\";\n",
       "                var nbb_cells = Jupyter.notebook.get_cells();\n",
       "                for (var i = 0; i < nbb_cells.length; ++i) {\n",
       "                    if (nbb_cells[i].input_prompt_number == nbb_cell_id) {\n",
       "                        if (nbb_cells[i].get_text() == nbb_unformatted_code) {\n",
       "                             nbb_cells[i].set_text(nbb_formatted_code);\n",
       "                        }\n",
       "                        break;\n",
       "                    }\n",
       "                }\n",
       "            }, 500);\n",
       "            "
      ],
      "text/plain": [
       "<IPython.core.display.Javascript object>"
      ]
     },
     "metadata": {},
     "output_type": "display_data"
    }
   ],
   "source": [
    "knnclassifier = KNeighborsClassifier(n_neighbors=int(X.shape[1] / 2))\n",
    "knnclassifier.fit(os_data_X, os_data_y.values.ravel())\n",
    "prediction = knnclassifier.predict(os_test_X)\n",
    "print(\"Accuracy Score: \", accuracy_score(os_test_y, prediction))"
   ]
  },
  {
   "cell_type": "markdown",
   "metadata": {},
   "source": [
    "## SVC"
   ]
  },
  {
   "cell_type": "code",
   "execution_count": 156,
   "metadata": {},
   "outputs": [
    {
     "name": "stderr",
     "output_type": "stream",
     "text": [
      "C:\\Users\\Asus\\.conda\\envs\\py37\\lib\\site-packages\\sklearn\\utils\\validation.py:73: DataConversionWarning: A column-vector y was passed when a 1d array was expected. Please change the shape of y to (n_samples, ), for example using ravel().\n",
      "  return f(**kwargs)\n"
     ]
    },
    {
     "name": "stdout",
     "output_type": "stream",
     "text": [
      "Accuracy Score:  0.6666666666666666\n"
     ]
    },
    {
     "data": {
      "application/javascript": [
       "\n",
       "            setTimeout(function() {\n",
       "                var nbb_cell_id = 156;\n",
       "                var nbb_unformatted_code = \"clf = SVC(gamma=\\\"auto\\\", kernel=\\\"linear\\\")\\nclf.fit(os_data_X, os_data_y)\\npred = clf.predict(os_test_X)\\nprint(\\\"Accuracy Score: \\\", accuracy_score(os_test_y, pred))\";\n",
       "                var nbb_formatted_code = \"clf = SVC(gamma=\\\"auto\\\", kernel=\\\"linear\\\")\\nclf.fit(os_data_X, os_data_y)\\npred = clf.predict(os_test_X)\\nprint(\\\"Accuracy Score: \\\", accuracy_score(os_test_y, pred))\";\n",
       "                var nbb_cells = Jupyter.notebook.get_cells();\n",
       "                for (var i = 0; i < nbb_cells.length; ++i) {\n",
       "                    if (nbb_cells[i].input_prompt_number == nbb_cell_id) {\n",
       "                        if (nbb_cells[i].get_text() == nbb_unformatted_code) {\n",
       "                             nbb_cells[i].set_text(nbb_formatted_code);\n",
       "                        }\n",
       "                        break;\n",
       "                    }\n",
       "                }\n",
       "            }, 500);\n",
       "            "
      ],
      "text/plain": [
       "<IPython.core.display.Javascript object>"
      ]
     },
     "metadata": {},
     "output_type": "display_data"
    }
   ],
   "source": [
    "clf = SVC(gamma=\"auto\", kernel=\"linear\")\n",
    "clf.fit(os_data_X, os_data_y.values.ravel())\n",
    "pred = clf.predict(os_test_X)\n",
    "print(\"Accuracy Score: \", accuracy_score(os_test_y, pred))"
   ]
  },
  {
   "cell_type": "markdown",
   "metadata": {},
   "source": [
    "## Decision Tree Classifier"
   ]
  },
  {
   "cell_type": "code",
   "execution_count": 157,
   "metadata": {},
   "outputs": [
    {
     "name": "stdout",
     "output_type": "stream",
     "text": [
      "Accuracy Score:  0.6648892534864643\n"
     ]
    },
    {
     "data": {
      "application/javascript": [
       "\n",
       "            setTimeout(function() {\n",
       "                var nbb_cell_id = 157;\n",
       "                var nbb_unformatted_code = \"tree = DecisionTreeClassifier()\\ntree.fit(os_data_X, os_data_y)\\npred = tree.predict(os_test_X)\\nprint(\\\"Accuracy Score: \\\", accuracy_score(os_test_y, pred))\";\n",
       "                var nbb_formatted_code = \"tree = DecisionTreeClassifier()\\ntree.fit(os_data_X, os_data_y)\\npred = tree.predict(os_test_X)\\nprint(\\\"Accuracy Score: \\\", accuracy_score(os_test_y, pred))\";\n",
       "                var nbb_cells = Jupyter.notebook.get_cells();\n",
       "                for (var i = 0; i < nbb_cells.length; ++i) {\n",
       "                    if (nbb_cells[i].input_prompt_number == nbb_cell_id) {\n",
       "                        if (nbb_cells[i].get_text() == nbb_unformatted_code) {\n",
       "                             nbb_cells[i].set_text(nbb_formatted_code);\n",
       "                        }\n",
       "                        break;\n",
       "                    }\n",
       "                }\n",
       "            }, 500);\n",
       "            "
      ],
      "text/plain": [
       "<IPython.core.display.Javascript object>"
      ]
     },
     "metadata": {},
     "output_type": "display_data"
    }
   ],
   "source": [
    "tree = DecisionTreeClassifier()\n",
    "tree.fit(os_data_X, os_data_y.values.ravel())\n",
    "pred = tree.predict(os_test_X)\n",
    "print(\"Accuracy Score: \", accuracy_score(os_test_y, pred))"
   ]
  },
  {
   "cell_type": "markdown",
   "metadata": {},
   "source": [
    "## Random Forest Classifier"
   ]
  },
  {
   "cell_type": "code",
   "execution_count": 162,
   "metadata": {},
   "outputs": [
    {
     "name": "stderr",
     "output_type": "stream",
     "text": [
      "C:\\Users\\Asus\\.conda\\envs\\py37\\lib\\site-packages\\ipykernel_launcher.py:3: DataConversionWarning: A column-vector y was passed when a 1d array was expected. Please change the shape of y to (n_samples,), for example using ravel().\n",
      "  This is separate from the ipykernel package so we can avoid doing imports until\n"
     ]
    },
    {
     "name": "stdout",
     "output_type": "stream",
     "text": [
      "Accuracy Score:  0.7737900094901217\n"
     ]
    },
    {
     "data": {
      "application/javascript": [
       "\n",
       "            setTimeout(function() {\n",
       "                var nbb_cell_id = 162;\n",
       "                var nbb_unformatted_code = \"# 1000 decision trees\\nrf = RandomForestClassifier(n_estimators=250, random_state=42)\\nrf.fit(os_data_X, os_data_y)\\npred = rf.predict(os_test_X)\\nprint(\\\"Accuracy Score: \\\", accuracy_score(os_test_y, pred))\";\n",
       "                var nbb_formatted_code = \"# 1000 decision trees\\nrf = RandomForestClassifier(n_estimators=250, random_state=42)\\nrf.fit(os_data_X, os_data_y)\\npred = rf.predict(os_test_X)\\nprint(\\\"Accuracy Score: \\\", accuracy_score(os_test_y, pred))\";\n",
       "                var nbb_cells = Jupyter.notebook.get_cells();\n",
       "                for (var i = 0; i < nbb_cells.length; ++i) {\n",
       "                    if (nbb_cells[i].input_prompt_number == nbb_cell_id) {\n",
       "                        if (nbb_cells[i].get_text() == nbb_unformatted_code) {\n",
       "                             nbb_cells[i].set_text(nbb_formatted_code);\n",
       "                        }\n",
       "                        break;\n",
       "                    }\n",
       "                }\n",
       "            }, 500);\n",
       "            "
      ],
      "text/plain": [
       "<IPython.core.display.Javascript object>"
      ]
     },
     "metadata": {},
     "output_type": "display_data"
    }
   ],
   "source": [
    "# 1000 decision trees\n",
    "rf = RandomForestClassifier(n_estimators=250, random_state=42)\n",
    "rf.fit(os_data_X, os_data_y.values.ravel())\n",
    "pred = rf.predict(os_test_X)\n",
    "print(\"Accuracy Score: \", accuracy_score(os_test_y, pred))"
   ]
  },
  {
   "cell_type": "markdown",
   "metadata": {},
   "source": [
    "## Fitting the final model also with Imbalanced data for comparison"
   ]
  },
  {
   "cell_type": "code",
   "execution_count": 163,
   "metadata": {},
   "outputs": [
    {
     "name": "stdout",
     "output_type": "stream",
     "text": [
      "Optimization terminated successfully.\n",
      "         Current function value: 0.631586\n",
      "         Iterations 5\n",
      "                           Results: Logit\n",
      "====================================================================\n",
      "Model:               Logit             Pseudo R-squared:  0.008     \n",
      "Dependent Variable:  default           AIC:               42975.5068\n",
      "Date:                2020-06-01 23:50  BIC:               43017.6795\n",
      "No. Observations:    34014             Log-Likelihood:    -21483.   \n",
      "Df Model:            4                 LL-Null:           -21650.   \n",
      "Df Residuals:        34009             LLR p-value:       2.6427e-71\n",
      "Converged:           1.0000            Scale:             1.0000    \n",
      "No. Iterations:      5.0000                                         \n",
      "--------------------------------------------------------------------\n",
      "                     Coef.  Std.Err.    z     P>|z|   [0.025  0.975]\n",
      "--------------------------------------------------------------------\n",
      "Average              0.3025   0.0398   7.6083 0.0000  0.2245  0.3804\n",
      "Very Good           -0.7851   0.0300 -26.1799 0.0000 -0.8439 -0.7263\n",
      "DTI 1: <15%         -0.7024   0.0211 -33.2642 0.0000 -0.7438 -0.6610\n",
      "CrHistory 2: >=20   -0.3805   0.0229 -16.6075 0.0000 -0.4254 -0.3356\n",
      "Purpose 1: Business  0.3037   0.0807   3.7636 0.0002  0.1455  0.4618\n",
      "====================================================================\n",
      "\n"
     ]
    },
    {
     "data": {
      "application/javascript": [
       "\n",
       "            setTimeout(function() {\n",
       "                var nbb_cell_id = 163;\n",
       "                var nbb_unformatted_code = \"data_modelling4 = data_modelling2[\\n    [\\n        \\\"default\\\",\\n        \\\"Average\\\",\\n        \\\"Very Good\\\",\\n        \\\"DTI 1: <15%\\\",\\n        \\\"CrHistory 2: >=20\\\",\\n        \\\"Purpose 1: Business\\\",\\n    ]\\n]\\n\\nX = data_modelling4.loc[:, data_modelling4.columns != \\\"default\\\"]\\ny = data_modelling4.loc[:, data_modelling4.columns == \\\"default\\\"]\\n\\nos_train_X, os_test_X, os_train_y, os_test_y = train_test_split(\\n    X, y, test_size=0.3, random_state=0\\n)\\n\\nresult3 = logit_model.fit()\\nprint(result3.summary2())\";\n",
       "                var nbb_formatted_code = \"data_modelling4 = data_modelling2[\\n    [\\n        \\\"default\\\",\\n        \\\"Average\\\",\\n        \\\"Very Good\\\",\\n        \\\"DTI 1: <15%\\\",\\n        \\\"CrHistory 2: >=20\\\",\\n        \\\"Purpose 1: Business\\\",\\n    ]\\n]\\n\\nX = data_modelling4.loc[:, data_modelling4.columns != \\\"default\\\"]\\ny = data_modelling4.loc[:, data_modelling4.columns == \\\"default\\\"]\\n\\nos_train_X, os_test_X, os_train_y, os_test_y = train_test_split(\\n    X, y, test_size=0.3, random_state=0\\n)\\n\\nresult3 = logit_model.fit()\\nprint(result3.summary2())\";\n",
       "                var nbb_cells = Jupyter.notebook.get_cells();\n",
       "                for (var i = 0; i < nbb_cells.length; ++i) {\n",
       "                    if (nbb_cells[i].input_prompt_number == nbb_cell_id) {\n",
       "                        if (nbb_cells[i].get_text() == nbb_unformatted_code) {\n",
       "                             nbb_cells[i].set_text(nbb_formatted_code);\n",
       "                        }\n",
       "                        break;\n",
       "                    }\n",
       "                }\n",
       "            }, 500);\n",
       "            "
      ],
      "text/plain": [
       "<IPython.core.display.Javascript object>"
      ]
     },
     "metadata": {},
     "output_type": "display_data"
    }
   ],
   "source": [
    "data_modelling4 = data_modelling2[\n",
    "    [\n",
    "        \"default\",\n",
    "        \"Average\",\n",
    "        \"Very Good\",\n",
    "        \"DTI 1: <15%\",\n",
    "        \"CrHistory 2: >=20\",\n",
    "        \"Purpose 1: Business\",\n",
    "    ]\n",
    "]\n",
    "\n",
    "X = data_modelling4.loc[:, data_modelling4.columns != \"default\"]\n",
    "y = data_modelling4.loc[:, data_modelling4.columns == \"default\"]\n",
    "\n",
    "os_train_X, os_test_X, os_train_y, os_test_y = train_test_split(\n",
    "    X, y, test_size=0.3, random_state=0\n",
    ")\n",
    "\n",
    "result3 = logit_model.fit()\n",
    "print(result3.summary2())"
   ]
  },
  {
   "cell_type": "code",
   "execution_count": 169,
   "metadata": {},
   "outputs": [
    {
     "name": "stdout",
     "output_type": "stream",
     "text": [
      "Accuracy score Logistic Regression: 0.7896643947890605\n",
      "Accuracy Score KNN:  0.6434302476059012\n",
      "Accuracy Score SVC:  0.7896643947890605\n",
      "Accuracy Score Decision Tree:  0.7896212578724873\n",
      "Accuracy Score Random Forest:  0.7896212578724873\n"
     ]
    },
    {
     "data": {
      "application/javascript": [
       "\n",
       "            setTimeout(function() {\n",
       "                var nbb_cell_id = 169;\n",
       "                var nbb_unformatted_code = \"# Logistic Regression\\nlogreg = LogisticRegression()\\nlogreg.fit(os_train_X, os_train_y.values.ravel())\\ny_pred = logreg.predict(os_test_X)\\nprint(\\\"Accuracy score Logistic Regression:\\\", logreg.score(os_test_X, os_test_y))\\n\\n# KNN\\nknnclassifier = KNeighborsClassifier(n_neighbors=5)\\nknnclassifier.fit(os_train_X, os_train_y.values.ravel())\\nprediction = knnclassifier.predict(os_test_X)\\nprint(\\\"Accuracy Score KNN: \\\", accuracy_score(os_test_y, prediction))\\n\\n# SVC\\nclf = SVC(gamma=\\\"auto\\\", kernel=\\\"linear\\\")\\nclf.fit(os_train_X, os_train_y.values.ravel())\\npred = clf.predict(os_test_X)\\nprint(\\\"Accuracy Score SVC: \\\", accuracy_score(os_test_y, pred))\\n\\n# Decision tree\\ntree = DecisionTreeClassifier()\\ntree.fit(os_train_X, os_train_y.values.ravel())\\npred = tree.predict(os_test_X)\\nprint(\\\"Accuracy Score Decision Tree: \\\", accuracy_score(os_test_y, pred))\\n\\n# Random Forest\\nrf = RandomForestClassifier(n_estimators=250, random_state=42)\\nrf.fit(os_train_X, os_train_y.values.ravel())\\npred2 = rf.predict(os_test_X)\\nprint(\\\"Accuracy Score Random Forest: \\\", accuracy_score(os_test_y, pred2))\";\n",
       "                var nbb_formatted_code = \"# Logistic Regression\\nlogreg = LogisticRegression()\\nlogreg.fit(os_train_X, os_train_y.values.ravel())\\ny_pred = logreg.predict(os_test_X)\\nprint(\\\"Accuracy score Logistic Regression:\\\", logreg.score(os_test_X, os_test_y))\\n\\n# KNN\\nknnclassifier = KNeighborsClassifier(n_neighbors=5)\\nknnclassifier.fit(os_train_X, os_train_y.values.ravel())\\nprediction = knnclassifier.predict(os_test_X)\\nprint(\\\"Accuracy Score KNN: \\\", accuracy_score(os_test_y, prediction))\\n\\n# SVC\\nclf = SVC(gamma=\\\"auto\\\", kernel=\\\"linear\\\")\\nclf.fit(os_train_X, os_train_y.values.ravel())\\npred = clf.predict(os_test_X)\\nprint(\\\"Accuracy Score SVC: \\\", accuracy_score(os_test_y, pred))\\n\\n# Decision tree\\ntree = DecisionTreeClassifier()\\ntree.fit(os_train_X, os_train_y.values.ravel())\\npred = tree.predict(os_test_X)\\nprint(\\\"Accuracy Score Decision Tree: \\\", accuracy_score(os_test_y, pred))\\n\\n# Random Forest\\nrf = RandomForestClassifier(n_estimators=250, random_state=42)\\nrf.fit(os_train_X, os_train_y.values.ravel())\\npred2 = rf.predict(os_test_X)\\nprint(\\\"Accuracy Score Random Forest: \\\", accuracy_score(os_test_y, pred2))\";\n",
       "                var nbb_cells = Jupyter.notebook.get_cells();\n",
       "                for (var i = 0; i < nbb_cells.length; ++i) {\n",
       "                    if (nbb_cells[i].input_prompt_number == nbb_cell_id) {\n",
       "                        if (nbb_cells[i].get_text() == nbb_unformatted_code) {\n",
       "                             nbb_cells[i].set_text(nbb_formatted_code);\n",
       "                        }\n",
       "                        break;\n",
       "                    }\n",
       "                }\n",
       "            }, 500);\n",
       "            "
      ],
      "text/plain": [
       "<IPython.core.display.Javascript object>"
      ]
     },
     "metadata": {},
     "output_type": "display_data"
    }
   ],
   "source": [
    "# Logistic Regression\n",
    "logreg = LogisticRegression()\n",
    "logreg.fit(os_train_X, os_train_y.values.ravel())\n",
    "y_pred = logreg.predict(os_test_X)\n",
    "print(\"Accuracy score Logistic Regression:\", logreg.score(os_test_X, os_test_y))\n",
    "\n",
    "# KNN\n",
    "knnclassifier = KNeighborsClassifier(n_neighbors=5)\n",
    "knnclassifier.fit(os_train_X, os_train_y.values.ravel())\n",
    "prediction = knnclassifier.predict(os_test_X)\n",
    "print(\"Accuracy Score KNN: \", accuracy_score(os_test_y, prediction))\n",
    "\n",
    "# SVC\n",
    "clf = SVC(gamma=\"auto\", kernel=\"linear\")\n",
    "clf.fit(os_train_X, os_train_y.values.ravel())\n",
    "pred = clf.predict(os_test_X)\n",
    "print(\"Accuracy Score SVC: \", accuracy_score(os_test_y, pred))\n",
    "\n",
    "# Decision tree\n",
    "tree = DecisionTreeClassifier()\n",
    "tree.fit(os_train_X, os_train_y.values.ravel())\n",
    "pred = tree.predict(os_test_X)\n",
    "print(\"Accuracy Score Decision Tree: \", accuracy_score(os_test_y, pred))\n",
    "\n",
    "# Random Forest\n",
    "rf = RandomForestClassifier(n_estimators=250, random_state=42)\n",
    "rf.fit(os_train_X, os_train_y.values.ravel())\n",
    "pred2 = rf.predict(os_test_X)\n",
    "print(\"Accuracy Score Random Forest: \", accuracy_score(os_test_y, pred2))"
   ]
  },
  {
   "cell_type": "code",
   "execution_count": null,
   "metadata": {},
   "outputs": [],
   "source": []
  }
 ],
 "metadata": {
  "kernelspec": {
   "display_name": "Python 3",
   "language": "python",
   "name": "python3"
  },
  "language_info": {
   "codemirror_mode": {
    "name": "ipython",
    "version": 3
   },
   "file_extension": ".py",
   "mimetype": "text/x-python",
   "name": "python",
   "nbconvert_exporter": "python",
   "pygments_lexer": "ipython3",
   "version": "3.7.4"
  }
 },
 "nbformat": 4,
 "nbformat_minor": 2
}
