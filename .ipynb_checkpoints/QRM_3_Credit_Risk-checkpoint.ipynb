{
 "cells": [
  {
   "cell_type": "markdown",
   "metadata": {},
   "source": [
    "# Assignment 3 - Credit Risk Scoring"
   ]
  },
  {
   "cell_type": "code",
   "execution_count": 1,
   "metadata": {},
   "outputs": [
    {
     "data": {
      "application/javascript": [
       "\n",
       "            setTimeout(function() {\n",
       "                var nbb_cell_id = 1;\n",
       "                var nbb_unformatted_code = \"%load_ext nb_black\";\n",
       "                var nbb_formatted_code = \"%load_ext nb_black\";\n",
       "                var nbb_cells = Jupyter.notebook.get_cells();\n",
       "                for (var i = 0; i < nbb_cells.length; ++i) {\n",
       "                    if (nbb_cells[i].input_prompt_number == nbb_cell_id) {\n",
       "                        if (nbb_cells[i].get_text() == nbb_unformatted_code) {\n",
       "                             nbb_cells[i].set_text(nbb_formatted_code);\n",
       "                        }\n",
       "                        break;\n",
       "                    }\n",
       "                }\n",
       "            }, 500);\n",
       "            "
      ],
      "text/plain": [
       "<IPython.core.display.Javascript object>"
      ]
     },
     "metadata": {},
     "output_type": "display_data"
    }
   ],
   "source": [
    "%load_ext nb_black"
   ]
  },
  {
   "cell_type": "code",
   "execution_count": 122,
   "metadata": {},
   "outputs": [
    {
     "data": {
      "application/javascript": [
       "\n",
       "            setTimeout(function() {\n",
       "                var nbb_cell_id = 122;\n",
       "                var nbb_unformatted_code = \"import pandas as pd\\nimport numpy as np\\nimport matplotlib.pyplot as plt\\nfrom sklearn import preprocessing\\nfrom sklearn.model_selection import train_test_split\\nfrom sklearn.linear_model import LogisticRegression\\nfrom sklearn.neighbors import KNeighborsClassifier\\nfrom sklearn.metrics import roc_auc_score\\nfrom sklearn.metrics import roc_curve\\nfrom sklearn.metrics import accuracy_score\";\n",
       "                var nbb_formatted_code = \"import pandas as pd\\nimport numpy as np\\nimport matplotlib.pyplot as plt\\nfrom sklearn import preprocessing\\nfrom sklearn.model_selection import train_test_split\\nfrom sklearn.linear_model import LogisticRegression\\nfrom sklearn.neighbors import KNeighborsClassifier\\nfrom sklearn.metrics import roc_auc_score\\nfrom sklearn.metrics import roc_curve\\nfrom sklearn.metrics import accuracy_score\";\n",
       "                var nbb_cells = Jupyter.notebook.get_cells();\n",
       "                for (var i = 0; i < nbb_cells.length; ++i) {\n",
       "                    if (nbb_cells[i].input_prompt_number == nbb_cell_id) {\n",
       "                        if (nbb_cells[i].get_text() == nbb_unformatted_code) {\n",
       "                             nbb_cells[i].set_text(nbb_formatted_code);\n",
       "                        }\n",
       "                        break;\n",
       "                    }\n",
       "                }\n",
       "            }, 500);\n",
       "            "
      ],
      "text/plain": [
       "<IPython.core.display.Javascript object>"
      ]
     },
     "metadata": {},
     "output_type": "display_data"
    }
   ],
   "source": [
    "import pandas as pd\n",
    "import numpy as np\n",
    "import matplotlib.pyplot as plt\n",
    "from sklearn import preprocessing\n",
    "from sklearn.model_selection import train_test_split\n",
    "from sklearn.linear_model import LogisticRegression\n",
    "from sklearn.neighbors import KNeighborsClassifier\n",
    "from sklearn.metrics import roc_auc_score\n",
    "from sklearn.metrics import roc_curve\n",
    "from sklearn.metrics import accuracy_score"
   ]
  },
  {
   "cell_type": "code",
   "execution_count": 3,
   "metadata": {},
   "outputs": [
    {
     "data": {
      "text/html": [
       "<div>\n",
       "<style scoped>\n",
       "    .dataframe tbody tr th:only-of-type {\n",
       "        vertical-align: middle;\n",
       "    }\n",
       "\n",
       "    .dataframe tbody tr th {\n",
       "        vertical-align: top;\n",
       "    }\n",
       "\n",
       "    .dataframe thead th {\n",
       "        text-align: right;\n",
       "    }\n",
       "</style>\n",
       "<table border=\"1\" class=\"dataframe\">\n",
       "  <thead>\n",
       "    <tr style=\"text-align: right;\">\n",
       "      <th></th>\n",
       "      <th>Loan ID</th>\n",
       "      <th>Customer ID</th>\n",
       "      <th>Loan Status</th>\n",
       "      <th>Current Loan Amount</th>\n",
       "      <th>Term</th>\n",
       "      <th>Credit Score</th>\n",
       "      <th>Annual Income</th>\n",
       "      <th>Years in current job</th>\n",
       "      <th>Home Ownership</th>\n",
       "      <th>Purpose</th>\n",
       "      <th>Monthly Debt</th>\n",
       "      <th>Years of Credit History</th>\n",
       "      <th>Months since last delinquent</th>\n",
       "      <th>Number of Open Accounts</th>\n",
       "      <th>Number of Credit Problems</th>\n",
       "      <th>Current Credit Balance</th>\n",
       "      <th>Maximum Open Credit</th>\n",
       "      <th>Bankruptcies</th>\n",
       "      <th>Tax Liens</th>\n",
       "    </tr>\n",
       "  </thead>\n",
       "  <tbody>\n",
       "    <tr>\n",
       "      <th>0</th>\n",
       "      <td>14dd8831-6af5-400b-83ec-68e61888a048</td>\n",
       "      <td>981165ec-3274-42f5-a3b4-d104041a9ca9</td>\n",
       "      <td>Fully Paid</td>\n",
       "      <td>445412.0</td>\n",
       "      <td>Short Term</td>\n",
       "      <td>709.0</td>\n",
       "      <td>1167493.0</td>\n",
       "      <td>8 years</td>\n",
       "      <td>Home Mortgage</td>\n",
       "      <td>Home Improvements</td>\n",
       "      <td>5214.74</td>\n",
       "      <td>17.2</td>\n",
       "      <td>NaN</td>\n",
       "      <td>6.0</td>\n",
       "      <td>1.0</td>\n",
       "      <td>228190.0</td>\n",
       "      <td>416746.0</td>\n",
       "      <td>1.0</td>\n",
       "      <td>0.0</td>\n",
       "    </tr>\n",
       "    <tr>\n",
       "      <th>1</th>\n",
       "      <td>4771cc26-131a-45db-b5aa-537ea4ba5342</td>\n",
       "      <td>2de017a3-2e01-49cb-a581-08169e83be29</td>\n",
       "      <td>Fully Paid</td>\n",
       "      <td>262328.0</td>\n",
       "      <td>Short Term</td>\n",
       "      <td>NaN</td>\n",
       "      <td>NaN</td>\n",
       "      <td>10+ years</td>\n",
       "      <td>Home Mortgage</td>\n",
       "      <td>Debt Consolidation</td>\n",
       "      <td>33295.98</td>\n",
       "      <td>21.1</td>\n",
       "      <td>8.0</td>\n",
       "      <td>35.0</td>\n",
       "      <td>0.0</td>\n",
       "      <td>229976.0</td>\n",
       "      <td>850784.0</td>\n",
       "      <td>0.0</td>\n",
       "      <td>0.0</td>\n",
       "    </tr>\n",
       "    <tr>\n",
       "      <th>2</th>\n",
       "      <td>4eed4e6a-aa2f-4c91-8651-ce984ee8fb26</td>\n",
       "      <td>5efb2b2b-bf11-4dfd-a572-3761a2694725</td>\n",
       "      <td>Fully Paid</td>\n",
       "      <td>99999999.0</td>\n",
       "      <td>Short Term</td>\n",
       "      <td>741.0</td>\n",
       "      <td>2231892.0</td>\n",
       "      <td>8 years</td>\n",
       "      <td>Own Home</td>\n",
       "      <td>Debt Consolidation</td>\n",
       "      <td>29200.53</td>\n",
       "      <td>14.9</td>\n",
       "      <td>29.0</td>\n",
       "      <td>18.0</td>\n",
       "      <td>1.0</td>\n",
       "      <td>297996.0</td>\n",
       "      <td>750090.0</td>\n",
       "      <td>0.0</td>\n",
       "      <td>0.0</td>\n",
       "    </tr>\n",
       "    <tr>\n",
       "      <th>3</th>\n",
       "      <td>77598f7b-32e7-4e3b-a6e5-06ba0d98fe8a</td>\n",
       "      <td>e777faab-98ae-45af-9a86-7ce5b33b1011</td>\n",
       "      <td>Fully Paid</td>\n",
       "      <td>347666.0</td>\n",
       "      <td>Long Term</td>\n",
       "      <td>721.0</td>\n",
       "      <td>806949.0</td>\n",
       "      <td>3 years</td>\n",
       "      <td>Own Home</td>\n",
       "      <td>Debt Consolidation</td>\n",
       "      <td>8741.90</td>\n",
       "      <td>12.0</td>\n",
       "      <td>NaN</td>\n",
       "      <td>9.0</td>\n",
       "      <td>0.0</td>\n",
       "      <td>256329.0</td>\n",
       "      <td>386958.0</td>\n",
       "      <td>0.0</td>\n",
       "      <td>0.0</td>\n",
       "    </tr>\n",
       "    <tr>\n",
       "      <th>4</th>\n",
       "      <td>d4062e70-befa-4995-8643-a0de73938182</td>\n",
       "      <td>81536ad9-5ccf-4eb8-befb-47a4d608658e</td>\n",
       "      <td>Fully Paid</td>\n",
       "      <td>176220.0</td>\n",
       "      <td>Short Term</td>\n",
       "      <td>NaN</td>\n",
       "      <td>NaN</td>\n",
       "      <td>5 years</td>\n",
       "      <td>Rent</td>\n",
       "      <td>Debt Consolidation</td>\n",
       "      <td>20639.70</td>\n",
       "      <td>6.1</td>\n",
       "      <td>NaN</td>\n",
       "      <td>15.0</td>\n",
       "      <td>0.0</td>\n",
       "      <td>253460.0</td>\n",
       "      <td>427174.0</td>\n",
       "      <td>0.0</td>\n",
       "      <td>0.0</td>\n",
       "    </tr>\n",
       "  </tbody>\n",
       "</table>\n",
       "</div>"
      ],
      "text/plain": [
       "                                Loan ID                           Customer ID  \\\n",
       "0  14dd8831-6af5-400b-83ec-68e61888a048  981165ec-3274-42f5-a3b4-d104041a9ca9   \n",
       "1  4771cc26-131a-45db-b5aa-537ea4ba5342  2de017a3-2e01-49cb-a581-08169e83be29   \n",
       "2  4eed4e6a-aa2f-4c91-8651-ce984ee8fb26  5efb2b2b-bf11-4dfd-a572-3761a2694725   \n",
       "3  77598f7b-32e7-4e3b-a6e5-06ba0d98fe8a  e777faab-98ae-45af-9a86-7ce5b33b1011   \n",
       "4  d4062e70-befa-4995-8643-a0de73938182  81536ad9-5ccf-4eb8-befb-47a4d608658e   \n",
       "\n",
       "  Loan Status  Current Loan Amount        Term  Credit Score  Annual Income  \\\n",
       "0  Fully Paid             445412.0  Short Term         709.0      1167493.0   \n",
       "1  Fully Paid             262328.0  Short Term           NaN            NaN   \n",
       "2  Fully Paid           99999999.0  Short Term         741.0      2231892.0   \n",
       "3  Fully Paid             347666.0   Long Term         721.0       806949.0   \n",
       "4  Fully Paid             176220.0  Short Term           NaN            NaN   \n",
       "\n",
       "  Years in current job Home Ownership             Purpose  Monthly Debt  \\\n",
       "0              8 years  Home Mortgage   Home Improvements       5214.74   \n",
       "1            10+ years  Home Mortgage  Debt Consolidation      33295.98   \n",
       "2              8 years       Own Home  Debt Consolidation      29200.53   \n",
       "3              3 years       Own Home  Debt Consolidation       8741.90   \n",
       "4              5 years           Rent  Debt Consolidation      20639.70   \n",
       "\n",
       "   Years of Credit History  Months since last delinquent  \\\n",
       "0                     17.2                           NaN   \n",
       "1                     21.1                           8.0   \n",
       "2                     14.9                          29.0   \n",
       "3                     12.0                           NaN   \n",
       "4                      6.1                           NaN   \n",
       "\n",
       "   Number of Open Accounts  Number of Credit Problems  Current Credit Balance  \\\n",
       "0                      6.0                        1.0                228190.0   \n",
       "1                     35.0                        0.0                229976.0   \n",
       "2                     18.0                        1.0                297996.0   \n",
       "3                      9.0                        0.0                256329.0   \n",
       "4                     15.0                        0.0                253460.0   \n",
       "\n",
       "   Maximum Open Credit  Bankruptcies  Tax Liens  \n",
       "0             416746.0           1.0        0.0  \n",
       "1             850784.0           0.0        0.0  \n",
       "2             750090.0           0.0        0.0  \n",
       "3             386958.0           0.0        0.0  \n",
       "4             427174.0           0.0        0.0  "
      ]
     },
     "execution_count": 3,
     "metadata": {},
     "output_type": "execute_result"
    },
    {
     "data": {
      "application/javascript": [
       "\n",
       "            setTimeout(function() {\n",
       "                var nbb_cell_id = 3;\n",
       "                var nbb_unformatted_code = \"data = pd.read_csv(\\\"01_Data/credit_train.csv\\\")\\ndata.head()\";\n",
       "                var nbb_formatted_code = \"data = pd.read_csv(\\\"01_Data/credit_train.csv\\\")\\ndata.head()\";\n",
       "                var nbb_cells = Jupyter.notebook.get_cells();\n",
       "                for (var i = 0; i < nbb_cells.length; ++i) {\n",
       "                    if (nbb_cells[i].input_prompt_number == nbb_cell_id) {\n",
       "                        if (nbb_cells[i].get_text() == nbb_unformatted_code) {\n",
       "                             nbb_cells[i].set_text(nbb_formatted_code);\n",
       "                        }\n",
       "                        break;\n",
       "                    }\n",
       "                }\n",
       "            }, 500);\n",
       "            "
      ],
      "text/plain": [
       "<IPython.core.display.Javascript object>"
      ]
     },
     "metadata": {},
     "output_type": "display_data"
    }
   ],
   "source": [
    "data = pd.read_csv(\"01_Data/credit_train.csv\")\n",
    "data.head()"
   ]
  },
  {
   "cell_type": "code",
   "execution_count": 4,
   "metadata": {},
   "outputs": [
    {
     "data": {
      "text/plain": [
       "Index(['Loan ID', 'Customer ID', 'Loan Status', 'Current Loan Amount', 'Term',\n",
       "       'Credit Score', 'Annual Income', 'Years in current job',\n",
       "       'Home Ownership', 'Purpose', 'Monthly Debt', 'Years of Credit History',\n",
       "       'Months since last delinquent', 'Number of Open Accounts',\n",
       "       'Number of Credit Problems', 'Current Credit Balance',\n",
       "       'Maximum Open Credit', 'Bankruptcies', 'Tax Liens'],\n",
       "      dtype='object')"
      ]
     },
     "execution_count": 4,
     "metadata": {},
     "output_type": "execute_result"
    },
    {
     "data": {
      "application/javascript": [
       "\n",
       "            setTimeout(function() {\n",
       "                var nbb_cell_id = 4;\n",
       "                var nbb_unformatted_code = \"data.columns\";\n",
       "                var nbb_formatted_code = \"data.columns\";\n",
       "                var nbb_cells = Jupyter.notebook.get_cells();\n",
       "                for (var i = 0; i < nbb_cells.length; ++i) {\n",
       "                    if (nbb_cells[i].input_prompt_number == nbb_cell_id) {\n",
       "                        if (nbb_cells[i].get_text() == nbb_unformatted_code) {\n",
       "                             nbb_cells[i].set_text(nbb_formatted_code);\n",
       "                        }\n",
       "                        break;\n",
       "                    }\n",
       "                }\n",
       "            }, 500);\n",
       "            "
      ],
      "text/plain": [
       "<IPython.core.display.Javascript object>"
      ]
     },
     "metadata": {},
     "output_type": "display_data"
    }
   ],
   "source": [
    "data.columns"
   ]
  },
  {
   "cell_type": "code",
   "execution_count": 5,
   "metadata": {},
   "outputs": [
    {
     "data": {
      "text/html": [
       "<div>\n",
       "<style scoped>\n",
       "    .dataframe tbody tr th:only-of-type {\n",
       "        vertical-align: middle;\n",
       "    }\n",
       "\n",
       "    .dataframe tbody tr th {\n",
       "        vertical-align: top;\n",
       "    }\n",
       "\n",
       "    .dataframe thead th {\n",
       "        text-align: right;\n",
       "    }\n",
       "</style>\n",
       "<table border=\"1\" class=\"dataframe\">\n",
       "  <thead>\n",
       "    <tr style=\"text-align: right;\">\n",
       "      <th></th>\n",
       "      <th>Current Loan Amount</th>\n",
       "      <th>Credit Score</th>\n",
       "      <th>Annual Income</th>\n",
       "      <th>Monthly Debt</th>\n",
       "      <th>Years of Credit History</th>\n",
       "      <th>Months since last delinquent</th>\n",
       "      <th>Number of Open Accounts</th>\n",
       "      <th>Number of Credit Problems</th>\n",
       "      <th>Current Credit Balance</th>\n",
       "      <th>Maximum Open Credit</th>\n",
       "      <th>Bankruptcies</th>\n",
       "      <th>Tax Liens</th>\n",
       "    </tr>\n",
       "  </thead>\n",
       "  <tbody>\n",
       "    <tr>\n",
       "      <th>count</th>\n",
       "      <td>1.000000e+05</td>\n",
       "      <td>80846.000000</td>\n",
       "      <td>8.084600e+04</td>\n",
       "      <td>100000.000000</td>\n",
       "      <td>100000.000000</td>\n",
       "      <td>46859.000000</td>\n",
       "      <td>100000.00000</td>\n",
       "      <td>100000.000000</td>\n",
       "      <td>1.000000e+05</td>\n",
       "      <td>9.999800e+04</td>\n",
       "      <td>99796.000000</td>\n",
       "      <td>99990.000000</td>\n",
       "    </tr>\n",
       "    <tr>\n",
       "      <th>mean</th>\n",
       "      <td>1.176045e+07</td>\n",
       "      <td>1076.456089</td>\n",
       "      <td>1.378277e+06</td>\n",
       "      <td>18472.412336</td>\n",
       "      <td>18.199141</td>\n",
       "      <td>34.901321</td>\n",
       "      <td>11.12853</td>\n",
       "      <td>0.168310</td>\n",
       "      <td>2.946374e+05</td>\n",
       "      <td>7.607984e+05</td>\n",
       "      <td>0.117740</td>\n",
       "      <td>0.029313</td>\n",
       "    </tr>\n",
       "    <tr>\n",
       "      <th>std</th>\n",
       "      <td>3.178394e+07</td>\n",
       "      <td>1475.403791</td>\n",
       "      <td>1.081360e+06</td>\n",
       "      <td>12174.992609</td>\n",
       "      <td>7.015324</td>\n",
       "      <td>21.997829</td>\n",
       "      <td>5.00987</td>\n",
       "      <td>0.482705</td>\n",
       "      <td>3.761709e+05</td>\n",
       "      <td>8.384503e+06</td>\n",
       "      <td>0.351424</td>\n",
       "      <td>0.258182</td>\n",
       "    </tr>\n",
       "    <tr>\n",
       "      <th>min</th>\n",
       "      <td>1.080200e+04</td>\n",
       "      <td>585.000000</td>\n",
       "      <td>7.662700e+04</td>\n",
       "      <td>0.000000</td>\n",
       "      <td>3.600000</td>\n",
       "      <td>0.000000</td>\n",
       "      <td>0.00000</td>\n",
       "      <td>0.000000</td>\n",
       "      <td>0.000000e+00</td>\n",
       "      <td>0.000000e+00</td>\n",
       "      <td>0.000000</td>\n",
       "      <td>0.000000</td>\n",
       "    </tr>\n",
       "    <tr>\n",
       "      <th>25%</th>\n",
       "      <td>1.796520e+05</td>\n",
       "      <td>705.000000</td>\n",
       "      <td>8.488440e+05</td>\n",
       "      <td>10214.162500</td>\n",
       "      <td>13.500000</td>\n",
       "      <td>16.000000</td>\n",
       "      <td>8.00000</td>\n",
       "      <td>0.000000</td>\n",
       "      <td>1.126700e+05</td>\n",
       "      <td>2.734380e+05</td>\n",
       "      <td>0.000000</td>\n",
       "      <td>0.000000</td>\n",
       "    </tr>\n",
       "    <tr>\n",
       "      <th>50%</th>\n",
       "      <td>3.122460e+05</td>\n",
       "      <td>724.000000</td>\n",
       "      <td>1.174162e+06</td>\n",
       "      <td>16220.300000</td>\n",
       "      <td>16.900000</td>\n",
       "      <td>32.000000</td>\n",
       "      <td>10.00000</td>\n",
       "      <td>0.000000</td>\n",
       "      <td>2.098170e+05</td>\n",
       "      <td>4.678740e+05</td>\n",
       "      <td>0.000000</td>\n",
       "      <td>0.000000</td>\n",
       "    </tr>\n",
       "    <tr>\n",
       "      <th>75%</th>\n",
       "      <td>5.249420e+05</td>\n",
       "      <td>741.000000</td>\n",
       "      <td>1.650663e+06</td>\n",
       "      <td>24012.057500</td>\n",
       "      <td>21.700000</td>\n",
       "      <td>51.000000</td>\n",
       "      <td>14.00000</td>\n",
       "      <td>0.000000</td>\n",
       "      <td>3.679588e+05</td>\n",
       "      <td>7.829580e+05</td>\n",
       "      <td>0.000000</td>\n",
       "      <td>0.000000</td>\n",
       "    </tr>\n",
       "    <tr>\n",
       "      <th>max</th>\n",
       "      <td>1.000000e+08</td>\n",
       "      <td>7510.000000</td>\n",
       "      <td>1.655574e+08</td>\n",
       "      <td>435843.280000</td>\n",
       "      <td>70.500000</td>\n",
       "      <td>176.000000</td>\n",
       "      <td>76.00000</td>\n",
       "      <td>15.000000</td>\n",
       "      <td>3.287897e+07</td>\n",
       "      <td>1.539738e+09</td>\n",
       "      <td>7.000000</td>\n",
       "      <td>15.000000</td>\n",
       "    </tr>\n",
       "  </tbody>\n",
       "</table>\n",
       "</div>"
      ],
      "text/plain": [
       "       Current Loan Amount  Credit Score  Annual Income   Monthly Debt  \\\n",
       "count         1.000000e+05  80846.000000   8.084600e+04  100000.000000   \n",
       "mean          1.176045e+07   1076.456089   1.378277e+06   18472.412336   \n",
       "std           3.178394e+07   1475.403791   1.081360e+06   12174.992609   \n",
       "min           1.080200e+04    585.000000   7.662700e+04       0.000000   \n",
       "25%           1.796520e+05    705.000000   8.488440e+05   10214.162500   \n",
       "50%           3.122460e+05    724.000000   1.174162e+06   16220.300000   \n",
       "75%           5.249420e+05    741.000000   1.650663e+06   24012.057500   \n",
       "max           1.000000e+08   7510.000000   1.655574e+08  435843.280000   \n",
       "\n",
       "       Years of Credit History  Months since last delinquent  \\\n",
       "count            100000.000000                  46859.000000   \n",
       "mean                 18.199141                     34.901321   \n",
       "std                   7.015324                     21.997829   \n",
       "min                   3.600000                      0.000000   \n",
       "25%                  13.500000                     16.000000   \n",
       "50%                  16.900000                     32.000000   \n",
       "75%                  21.700000                     51.000000   \n",
       "max                  70.500000                    176.000000   \n",
       "\n",
       "       Number of Open Accounts  Number of Credit Problems  \\\n",
       "count             100000.00000              100000.000000   \n",
       "mean                  11.12853                   0.168310   \n",
       "std                    5.00987                   0.482705   \n",
       "min                    0.00000                   0.000000   \n",
       "25%                    8.00000                   0.000000   \n",
       "50%                   10.00000                   0.000000   \n",
       "75%                   14.00000                   0.000000   \n",
       "max                   76.00000                  15.000000   \n",
       "\n",
       "       Current Credit Balance  Maximum Open Credit  Bankruptcies     Tax Liens  \n",
       "count            1.000000e+05         9.999800e+04  99796.000000  99990.000000  \n",
       "mean             2.946374e+05         7.607984e+05      0.117740      0.029313  \n",
       "std              3.761709e+05         8.384503e+06      0.351424      0.258182  \n",
       "min              0.000000e+00         0.000000e+00      0.000000      0.000000  \n",
       "25%              1.126700e+05         2.734380e+05      0.000000      0.000000  \n",
       "50%              2.098170e+05         4.678740e+05      0.000000      0.000000  \n",
       "75%              3.679588e+05         7.829580e+05      0.000000      0.000000  \n",
       "max              3.287897e+07         1.539738e+09      7.000000     15.000000  "
      ]
     },
     "execution_count": 5,
     "metadata": {},
     "output_type": "execute_result"
    },
    {
     "data": {
      "application/javascript": [
       "\n",
       "            setTimeout(function() {\n",
       "                var nbb_cell_id = 5;\n",
       "                var nbb_unformatted_code = \"data.describe()\";\n",
       "                var nbb_formatted_code = \"data.describe()\";\n",
       "                var nbb_cells = Jupyter.notebook.get_cells();\n",
       "                for (var i = 0; i < nbb_cells.length; ++i) {\n",
       "                    if (nbb_cells[i].input_prompt_number == nbb_cell_id) {\n",
       "                        if (nbb_cells[i].get_text() == nbb_unformatted_code) {\n",
       "                             nbb_cells[i].set_text(nbb_formatted_code);\n",
       "                        }\n",
       "                        break;\n",
       "                    }\n",
       "                }\n",
       "            }, 500);\n",
       "            "
      ],
      "text/plain": [
       "<IPython.core.display.Javascript object>"
      ]
     },
     "metadata": {},
     "output_type": "display_data"
    }
   ],
   "source": [
    "data.describe()"
   ]
  },
  {
   "cell_type": "code",
   "execution_count": 6,
   "metadata": {},
   "outputs": [
    {
     "data": {
      "application/javascript": [
       "\n",
       "            setTimeout(function() {\n",
       "                var nbb_cell_id = 6;\n",
       "                var nbb_unformatted_code = \"# Remove missing values for target variable\\ndata.dropna(subset=[\\\"Loan Status\\\"], inplace=True)\";\n",
       "                var nbb_formatted_code = \"# Remove missing values for target variable\\ndata.dropna(subset=[\\\"Loan Status\\\"], inplace=True)\";\n",
       "                var nbb_cells = Jupyter.notebook.get_cells();\n",
       "                for (var i = 0; i < nbb_cells.length; ++i) {\n",
       "                    if (nbb_cells[i].input_prompt_number == nbb_cell_id) {\n",
       "                        if (nbb_cells[i].get_text() == nbb_unformatted_code) {\n",
       "                             nbb_cells[i].set_text(nbb_formatted_code);\n",
       "                        }\n",
       "                        break;\n",
       "                    }\n",
       "                }\n",
       "            }, 500);\n",
       "            "
      ],
      "text/plain": [
       "<IPython.core.display.Javascript object>"
      ]
     },
     "metadata": {},
     "output_type": "display_data"
    }
   ],
   "source": [
    "# Remove missing values for target variable\n",
    "data.dropna(subset=[\"Loan Status\"], inplace=True)"
   ]
  },
  {
   "cell_type": "code",
   "execution_count": 7,
   "metadata": {},
   "outputs": [
    {
     "data": {
      "application/javascript": [
       "\n",
       "            setTimeout(function() {\n",
       "                var nbb_cell_id = 7;\n",
       "                var nbb_unformatted_code = \"# Impute missing values for annual income with the mean\\ndata[\\\"Annual Income\\\"].fillna(data[\\\"Annual Income\\\"].mean(), inplace=True)\";\n",
       "                var nbb_formatted_code = \"# Impute missing values for annual income with the mean\\ndata[\\\"Annual Income\\\"].fillna(data[\\\"Annual Income\\\"].mean(), inplace=True)\";\n",
       "                var nbb_cells = Jupyter.notebook.get_cells();\n",
       "                for (var i = 0; i < nbb_cells.length; ++i) {\n",
       "                    if (nbb_cells[i].input_prompt_number == nbb_cell_id) {\n",
       "                        if (nbb_cells[i].get_text() == nbb_unformatted_code) {\n",
       "                             nbb_cells[i].set_text(nbb_formatted_code);\n",
       "                        }\n",
       "                        break;\n",
       "                    }\n",
       "                }\n",
       "            }, 500);\n",
       "            "
      ],
      "text/plain": [
       "<IPython.core.display.Javascript object>"
      ]
     },
     "metadata": {},
     "output_type": "display_data"
    }
   ],
   "source": [
    "# Impute missing values for annual income with the mean\n",
    "data[\"Annual Income\"].fillna(data[\"Annual Income\"].mean(), inplace=True)"
   ]
  },
  {
   "cell_type": "code",
   "execution_count": 8,
   "metadata": {},
   "outputs": [
    {
     "data": {
      "application/javascript": [
       "\n",
       "            setTimeout(function() {\n",
       "                var nbb_cell_id = 8;\n",
       "                var nbb_unformatted_code = \"# Create default flag\\ndata[\\\"default\\\"] = data[\\\"Loan Status\\\"].apply(lambda x: 0 if x == \\\"Fully Paid\\\" else 1)\\n# Create flag for short term vs long term\\ndata[\\\"loan_term\\\"] = data[\\\"Term\\\"].apply(lambda x: 0 if x == \\\"Short term\\\" else 1)\";\n",
       "                var nbb_formatted_code = \"# Create default flag\\ndata[\\\"default\\\"] = data[\\\"Loan Status\\\"].apply(lambda x: 0 if x == \\\"Fully Paid\\\" else 1)\\n# Create flag for short term vs long term\\ndata[\\\"loan_term\\\"] = data[\\\"Term\\\"].apply(lambda x: 0 if x == \\\"Short term\\\" else 1)\";\n",
       "                var nbb_cells = Jupyter.notebook.get_cells();\n",
       "                for (var i = 0; i < nbb_cells.length; ++i) {\n",
       "                    if (nbb_cells[i].input_prompt_number == nbb_cell_id) {\n",
       "                        if (nbb_cells[i].get_text() == nbb_unformatted_code) {\n",
       "                             nbb_cells[i].set_text(nbb_formatted_code);\n",
       "                        }\n",
       "                        break;\n",
       "                    }\n",
       "                }\n",
       "            }, 500);\n",
       "            "
      ],
      "text/plain": [
       "<IPython.core.display.Javascript object>"
      ]
     },
     "metadata": {},
     "output_type": "display_data"
    }
   ],
   "source": [
    "# Create default flag\n",
    "data[\"default\"] = data[\"Loan Status\"].apply(lambda x: 0 if x == \"Fully Paid\" else 1)\n",
    "# Create flag for short term vs long term\n",
    "data[\"loan_term\"] = data[\"Term\"].apply(lambda x: 0 if x == \"Short term\" else 1)"
   ]
  },
  {
   "cell_type": "code",
   "execution_count": 9,
   "metadata": {},
   "outputs": [
    {
     "data": {
      "application/javascript": [
       "\n",
       "            setTimeout(function() {\n",
       "                var nbb_cell_id = 9;\n",
       "                var nbb_unformatted_code = \"# Rescale credit scores above 850\\ndata[\\\"Credit Score\\\"] = data[\\\"Credit Score\\\"].apply(\\n    lambda val: (val / 10) if val > 850 else val\\n)\";\n",
       "                var nbb_formatted_code = \"# Rescale credit scores above 850\\ndata[\\\"Credit Score\\\"] = data[\\\"Credit Score\\\"].apply(\\n    lambda val: (val / 10) if val > 850 else val\\n)\";\n",
       "                var nbb_cells = Jupyter.notebook.get_cells();\n",
       "                for (var i = 0; i < nbb_cells.length; ++i) {\n",
       "                    if (nbb_cells[i].input_prompt_number == nbb_cell_id) {\n",
       "                        if (nbb_cells[i].get_text() == nbb_unformatted_code) {\n",
       "                             nbb_cells[i].set_text(nbb_formatted_code);\n",
       "                        }\n",
       "                        break;\n",
       "                    }\n",
       "                }\n",
       "            }, 500);\n",
       "            "
      ],
      "text/plain": [
       "<IPython.core.display.Javascript object>"
      ]
     },
     "metadata": {},
     "output_type": "display_data"
    }
   ],
   "source": [
    "# Rescale credit scores above 850\n",
    "data[\"Credit Score\"] = data[\"Credit Score\"].apply(\n",
    "    lambda val: (val / 10) if val > 850 else val\n",
    ")"
   ]
  },
  {
   "cell_type": "code",
   "execution_count": 10,
   "metadata": {},
   "outputs": [
    {
     "data": {
      "application/javascript": [
       "\n",
       "            setTimeout(function() {\n",
       "                var nbb_cell_id = 10;\n",
       "                var nbb_unformatted_code = \"# Remove fields that are not needed\\ndata.drop(labels=[\\\"Loan ID\\\", \\\"Customer ID\\\", \\\"Loan Status\\\"], axis=1, inplace=True)\";\n",
       "                var nbb_formatted_code = \"# Remove fields that are not needed\\ndata.drop(labels=[\\\"Loan ID\\\", \\\"Customer ID\\\", \\\"Loan Status\\\"], axis=1, inplace=True)\";\n",
       "                var nbb_cells = Jupyter.notebook.get_cells();\n",
       "                for (var i = 0; i < nbb_cells.length; ++i) {\n",
       "                    if (nbb_cells[i].input_prompt_number == nbb_cell_id) {\n",
       "                        if (nbb_cells[i].get_text() == nbb_unformatted_code) {\n",
       "                             nbb_cells[i].set_text(nbb_formatted_code);\n",
       "                        }\n",
       "                        break;\n",
       "                    }\n",
       "                }\n",
       "            }, 500);\n",
       "            "
      ],
      "text/plain": [
       "<IPython.core.display.Javascript object>"
      ]
     },
     "metadata": {},
     "output_type": "display_data"
    }
   ],
   "source": [
    "# Remove fields that are not needed\n",
    "data.drop(labels=[\"Loan ID\", \"Customer ID\", \"Loan Status\"], axis=1, inplace=True)"
   ]
  },
  {
   "cell_type": "code",
   "execution_count": 11,
   "metadata": {},
   "outputs": [
    {
     "data": {
      "text/html": [
       "<div>\n",
       "<style scoped>\n",
       "    .dataframe tbody tr th:only-of-type {\n",
       "        vertical-align: middle;\n",
       "    }\n",
       "\n",
       "    .dataframe tbody tr th {\n",
       "        vertical-align: top;\n",
       "    }\n",
       "\n",
       "    .dataframe thead th {\n",
       "        text-align: right;\n",
       "    }\n",
       "</style>\n",
       "<table border=\"1\" class=\"dataframe\">\n",
       "  <thead>\n",
       "    <tr style=\"text-align: right;\">\n",
       "      <th></th>\n",
       "      <th>Current Loan Amount</th>\n",
       "      <th>Term</th>\n",
       "      <th>Credit Score</th>\n",
       "      <th>Annual Income</th>\n",
       "      <th>Years in current job</th>\n",
       "      <th>Home Ownership</th>\n",
       "      <th>Purpose</th>\n",
       "      <th>Monthly Debt</th>\n",
       "      <th>Years of Credit History</th>\n",
       "      <th>Months since last delinquent</th>\n",
       "      <th>Number of Open Accounts</th>\n",
       "      <th>Number of Credit Problems</th>\n",
       "      <th>Current Credit Balance</th>\n",
       "      <th>Maximum Open Credit</th>\n",
       "      <th>Bankruptcies</th>\n",
       "      <th>Tax Liens</th>\n",
       "      <th>default</th>\n",
       "      <th>loan_term</th>\n",
       "    </tr>\n",
       "  </thead>\n",
       "  <tbody>\n",
       "    <tr>\n",
       "      <th>0</th>\n",
       "      <td>445412.0</td>\n",
       "      <td>Short Term</td>\n",
       "      <td>709.0</td>\n",
       "      <td>1.167493e+06</td>\n",
       "      <td>8 years</td>\n",
       "      <td>Home Mortgage</td>\n",
       "      <td>Home Improvements</td>\n",
       "      <td>5214.74</td>\n",
       "      <td>17.2</td>\n",
       "      <td>NaN</td>\n",
       "      <td>6.0</td>\n",
       "      <td>1.0</td>\n",
       "      <td>228190.0</td>\n",
       "      <td>416746.0</td>\n",
       "      <td>1.0</td>\n",
       "      <td>0.0</td>\n",
       "      <td>0</td>\n",
       "      <td>1</td>\n",
       "    </tr>\n",
       "    <tr>\n",
       "      <th>1</th>\n",
       "      <td>262328.0</td>\n",
       "      <td>Short Term</td>\n",
       "      <td>NaN</td>\n",
       "      <td>1.378277e+06</td>\n",
       "      <td>10+ years</td>\n",
       "      <td>Home Mortgage</td>\n",
       "      <td>Debt Consolidation</td>\n",
       "      <td>33295.98</td>\n",
       "      <td>21.1</td>\n",
       "      <td>8.0</td>\n",
       "      <td>35.0</td>\n",
       "      <td>0.0</td>\n",
       "      <td>229976.0</td>\n",
       "      <td>850784.0</td>\n",
       "      <td>0.0</td>\n",
       "      <td>0.0</td>\n",
       "      <td>0</td>\n",
       "      <td>1</td>\n",
       "    </tr>\n",
       "    <tr>\n",
       "      <th>2</th>\n",
       "      <td>99999999.0</td>\n",
       "      <td>Short Term</td>\n",
       "      <td>741.0</td>\n",
       "      <td>2.231892e+06</td>\n",
       "      <td>8 years</td>\n",
       "      <td>Own Home</td>\n",
       "      <td>Debt Consolidation</td>\n",
       "      <td>29200.53</td>\n",
       "      <td>14.9</td>\n",
       "      <td>29.0</td>\n",
       "      <td>18.0</td>\n",
       "      <td>1.0</td>\n",
       "      <td>297996.0</td>\n",
       "      <td>750090.0</td>\n",
       "      <td>0.0</td>\n",
       "      <td>0.0</td>\n",
       "      <td>0</td>\n",
       "      <td>1</td>\n",
       "    </tr>\n",
       "    <tr>\n",
       "      <th>3</th>\n",
       "      <td>347666.0</td>\n",
       "      <td>Long Term</td>\n",
       "      <td>721.0</td>\n",
       "      <td>8.069490e+05</td>\n",
       "      <td>3 years</td>\n",
       "      <td>Own Home</td>\n",
       "      <td>Debt Consolidation</td>\n",
       "      <td>8741.90</td>\n",
       "      <td>12.0</td>\n",
       "      <td>NaN</td>\n",
       "      <td>9.0</td>\n",
       "      <td>0.0</td>\n",
       "      <td>256329.0</td>\n",
       "      <td>386958.0</td>\n",
       "      <td>0.0</td>\n",
       "      <td>0.0</td>\n",
       "      <td>0</td>\n",
       "      <td>1</td>\n",
       "    </tr>\n",
       "    <tr>\n",
       "      <th>4</th>\n",
       "      <td>176220.0</td>\n",
       "      <td>Short Term</td>\n",
       "      <td>NaN</td>\n",
       "      <td>1.378277e+06</td>\n",
       "      <td>5 years</td>\n",
       "      <td>Rent</td>\n",
       "      <td>Debt Consolidation</td>\n",
       "      <td>20639.70</td>\n",
       "      <td>6.1</td>\n",
       "      <td>NaN</td>\n",
       "      <td>15.0</td>\n",
       "      <td>0.0</td>\n",
       "      <td>253460.0</td>\n",
       "      <td>427174.0</td>\n",
       "      <td>0.0</td>\n",
       "      <td>0.0</td>\n",
       "      <td>0</td>\n",
       "      <td>1</td>\n",
       "    </tr>\n",
       "    <tr>\n",
       "      <th>5</th>\n",
       "      <td>206602.0</td>\n",
       "      <td>Short Term</td>\n",
       "      <td>729.0</td>\n",
       "      <td>8.968570e+05</td>\n",
       "      <td>10+ years</td>\n",
       "      <td>Home Mortgage</td>\n",
       "      <td>Debt Consolidation</td>\n",
       "      <td>16367.74</td>\n",
       "      <td>17.3</td>\n",
       "      <td>NaN</td>\n",
       "      <td>6.0</td>\n",
       "      <td>0.0</td>\n",
       "      <td>215308.0</td>\n",
       "      <td>272448.0</td>\n",
       "      <td>0.0</td>\n",
       "      <td>0.0</td>\n",
       "      <td>1</td>\n",
       "      <td>1</td>\n",
       "    </tr>\n",
       "    <tr>\n",
       "      <th>6</th>\n",
       "      <td>217646.0</td>\n",
       "      <td>Short Term</td>\n",
       "      <td>730.0</td>\n",
       "      <td>1.184194e+06</td>\n",
       "      <td>&lt; 1 year</td>\n",
       "      <td>Home Mortgage</td>\n",
       "      <td>Debt Consolidation</td>\n",
       "      <td>10855.08</td>\n",
       "      <td>19.6</td>\n",
       "      <td>10.0</td>\n",
       "      <td>13.0</td>\n",
       "      <td>1.0</td>\n",
       "      <td>122170.0</td>\n",
       "      <td>272052.0</td>\n",
       "      <td>1.0</td>\n",
       "      <td>0.0</td>\n",
       "      <td>0</td>\n",
       "      <td>1</td>\n",
       "    </tr>\n",
       "    <tr>\n",
       "      <th>7</th>\n",
       "      <td>648714.0</td>\n",
       "      <td>Long Term</td>\n",
       "      <td>NaN</td>\n",
       "      <td>1.378277e+06</td>\n",
       "      <td>&lt; 1 year</td>\n",
       "      <td>Home Mortgage</td>\n",
       "      <td>Buy House</td>\n",
       "      <td>14806.13</td>\n",
       "      <td>8.2</td>\n",
       "      <td>8.0</td>\n",
       "      <td>15.0</td>\n",
       "      <td>0.0</td>\n",
       "      <td>193306.0</td>\n",
       "      <td>864204.0</td>\n",
       "      <td>0.0</td>\n",
       "      <td>0.0</td>\n",
       "      <td>1</td>\n",
       "      <td>1</td>\n",
       "    </tr>\n",
       "    <tr>\n",
       "      <th>8</th>\n",
       "      <td>548746.0</td>\n",
       "      <td>Short Term</td>\n",
       "      <td>678.0</td>\n",
       "      <td>2.559110e+06</td>\n",
       "      <td>2 years</td>\n",
       "      <td>Rent</td>\n",
       "      <td>Debt Consolidation</td>\n",
       "      <td>18660.28</td>\n",
       "      <td>22.6</td>\n",
       "      <td>33.0</td>\n",
       "      <td>4.0</td>\n",
       "      <td>0.0</td>\n",
       "      <td>437171.0</td>\n",
       "      <td>555038.0</td>\n",
       "      <td>0.0</td>\n",
       "      <td>0.0</td>\n",
       "      <td>0</td>\n",
       "      <td>1</td>\n",
       "    </tr>\n",
       "    <tr>\n",
       "      <th>9</th>\n",
       "      <td>215952.0</td>\n",
       "      <td>Short Term</td>\n",
       "      <td>739.0</td>\n",
       "      <td>1.454735e+06</td>\n",
       "      <td>&lt; 1 year</td>\n",
       "      <td>Rent</td>\n",
       "      <td>Debt Consolidation</td>\n",
       "      <td>39277.75</td>\n",
       "      <td>13.9</td>\n",
       "      <td>NaN</td>\n",
       "      <td>20.0</td>\n",
       "      <td>0.0</td>\n",
       "      <td>669560.0</td>\n",
       "      <td>1021460.0</td>\n",
       "      <td>0.0</td>\n",
       "      <td>0.0</td>\n",
       "      <td>0</td>\n",
       "      <td>1</td>\n",
       "    </tr>\n",
       "    <tr>\n",
       "      <th>10</th>\n",
       "      <td>99999999.0</td>\n",
       "      <td>Short Term</td>\n",
       "      <td>728.0</td>\n",
       "      <td>7.146280e+05</td>\n",
       "      <td>3 years</td>\n",
       "      <td>Rent</td>\n",
       "      <td>Debt Consolidation</td>\n",
       "      <td>11851.06</td>\n",
       "      <td>16.0</td>\n",
       "      <td>76.0</td>\n",
       "      <td>16.0</td>\n",
       "      <td>0.0</td>\n",
       "      <td>203965.0</td>\n",
       "      <td>289784.0</td>\n",
       "      <td>0.0</td>\n",
       "      <td>0.0</td>\n",
       "      <td>0</td>\n",
       "      <td>1</td>\n",
       "    </tr>\n",
       "    <tr>\n",
       "      <th>11</th>\n",
       "      <td>541970.0</td>\n",
       "      <td>Short Term</td>\n",
       "      <td>NaN</td>\n",
       "      <td>1.378277e+06</td>\n",
       "      <td>10+ years</td>\n",
       "      <td>Home Mortgage</td>\n",
       "      <td>Home Improvements</td>\n",
       "      <td>23568.55</td>\n",
       "      <td>23.2</td>\n",
       "      <td>NaN</td>\n",
       "      <td>23.0</td>\n",
       "      <td>0.0</td>\n",
       "      <td>60705.0</td>\n",
       "      <td>1634468.0</td>\n",
       "      <td>0.0</td>\n",
       "      <td>0.0</td>\n",
       "      <td>0</td>\n",
       "      <td>1</td>\n",
       "    </tr>\n",
       "    <tr>\n",
       "      <th>12</th>\n",
       "      <td>99999999.0</td>\n",
       "      <td>Short Term</td>\n",
       "      <td>740.0</td>\n",
       "      <td>7.761880e+05</td>\n",
       "      <td>&lt; 1 year</td>\n",
       "      <td>Own Home</td>\n",
       "      <td>Debt Consolidation</td>\n",
       "      <td>11578.22</td>\n",
       "      <td>8.5</td>\n",
       "      <td>25.0</td>\n",
       "      <td>6.0</td>\n",
       "      <td>0.0</td>\n",
       "      <td>134083.0</td>\n",
       "      <td>220220.0</td>\n",
       "      <td>0.0</td>\n",
       "      <td>0.0</td>\n",
       "      <td>0</td>\n",
       "      <td>1</td>\n",
       "    </tr>\n",
       "    <tr>\n",
       "      <th>13</th>\n",
       "      <td>99999999.0</td>\n",
       "      <td>Short Term</td>\n",
       "      <td>743.0</td>\n",
       "      <td>1.560907e+06</td>\n",
       "      <td>4 years</td>\n",
       "      <td>Rent</td>\n",
       "      <td>Debt Consolidation</td>\n",
       "      <td>17560.37</td>\n",
       "      <td>13.3</td>\n",
       "      <td>NaN</td>\n",
       "      <td>10.0</td>\n",
       "      <td>1.0</td>\n",
       "      <td>225549.0</td>\n",
       "      <td>496474.0</td>\n",
       "      <td>1.0</td>\n",
       "      <td>0.0</td>\n",
       "      <td>0</td>\n",
       "      <td>1</td>\n",
       "    </tr>\n",
       "    <tr>\n",
       "      <th>14</th>\n",
       "      <td>234124.0</td>\n",
       "      <td>Short Term</td>\n",
       "      <td>727.0</td>\n",
       "      <td>6.932340e+05</td>\n",
       "      <td>10+ years</td>\n",
       "      <td>Rent</td>\n",
       "      <td>Debt Consolidation</td>\n",
       "      <td>14211.24</td>\n",
       "      <td>24.7</td>\n",
       "      <td>46.0</td>\n",
       "      <td>10.0</td>\n",
       "      <td>1.0</td>\n",
       "      <td>28291.0</td>\n",
       "      <td>107052.0</td>\n",
       "      <td>1.0</td>\n",
       "      <td>0.0</td>\n",
       "      <td>0</td>\n",
       "      <td>1</td>\n",
       "    </tr>\n",
       "    <tr>\n",
       "      <th>15</th>\n",
       "      <td>449020.0</td>\n",
       "      <td>Long Term</td>\n",
       "      <td>NaN</td>\n",
       "      <td>1.378277e+06</td>\n",
       "      <td>9 years</td>\n",
       "      <td>Own Home</td>\n",
       "      <td>Debt Consolidation</td>\n",
       "      <td>18904.81</td>\n",
       "      <td>19.4</td>\n",
       "      <td>NaN</td>\n",
       "      <td>8.0</td>\n",
       "      <td>0.0</td>\n",
       "      <td>334533.0</td>\n",
       "      <td>428956.0</td>\n",
       "      <td>0.0</td>\n",
       "      <td>0.0</td>\n",
       "      <td>0</td>\n",
       "      <td>1</td>\n",
       "    </tr>\n",
       "    <tr>\n",
       "      <th>16</th>\n",
       "      <td>653004.0</td>\n",
       "      <td>Long Term</td>\n",
       "      <td>NaN</td>\n",
       "      <td>1.378277e+06</td>\n",
       "      <td>7 years</td>\n",
       "      <td>Home Mortgage</td>\n",
       "      <td>Debt Consolidation</td>\n",
       "      <td>14537.09</td>\n",
       "      <td>20.5</td>\n",
       "      <td>NaN</td>\n",
       "      <td>9.0</td>\n",
       "      <td>0.0</td>\n",
       "      <td>302309.0</td>\n",
       "      <td>413754.0</td>\n",
       "      <td>0.0</td>\n",
       "      <td>0.0</td>\n",
       "      <td>1</td>\n",
       "      <td>1</td>\n",
       "    </tr>\n",
       "    <tr>\n",
       "      <th>17</th>\n",
       "      <td>666204.0</td>\n",
       "      <td>Long Term</td>\n",
       "      <td>723.0</td>\n",
       "      <td>1.821967e+06</td>\n",
       "      <td>10+ years</td>\n",
       "      <td>Home Mortgage</td>\n",
       "      <td>Debt Consolidation</td>\n",
       "      <td>17612.24</td>\n",
       "      <td>22.0</td>\n",
       "      <td>34.0</td>\n",
       "      <td>15.0</td>\n",
       "      <td>0.0</td>\n",
       "      <td>813694.0</td>\n",
       "      <td>2004618.0</td>\n",
       "      <td>0.0</td>\n",
       "      <td>0.0</td>\n",
       "      <td>0</td>\n",
       "      <td>1</td>\n",
       "    </tr>\n",
       "    <tr>\n",
       "      <th>18</th>\n",
       "      <td>66396.0</td>\n",
       "      <td>Short Term</td>\n",
       "      <td>NaN</td>\n",
       "      <td>1.378277e+06</td>\n",
       "      <td>10+ years</td>\n",
       "      <td>Rent</td>\n",
       "      <td>Debt Consolidation</td>\n",
       "      <td>9898.81</td>\n",
       "      <td>27.1</td>\n",
       "      <td>NaN</td>\n",
       "      <td>23.0</td>\n",
       "      <td>1.0</td>\n",
       "      <td>9728.0</td>\n",
       "      <td>402380.0</td>\n",
       "      <td>1.0</td>\n",
       "      <td>0.0</td>\n",
       "      <td>0</td>\n",
       "      <td>1</td>\n",
       "    </tr>\n",
       "    <tr>\n",
       "      <th>19</th>\n",
       "      <td>390390.0</td>\n",
       "      <td>Short Term</td>\n",
       "      <td>747.0</td>\n",
       "      <td>1.791738e+06</td>\n",
       "      <td>8 years</td>\n",
       "      <td>Home Mortgage</td>\n",
       "      <td>Home Improvements</td>\n",
       "      <td>2478.55</td>\n",
       "      <td>22.7</td>\n",
       "      <td>NaN</td>\n",
       "      <td>6.0</td>\n",
       "      <td>0.0</td>\n",
       "      <td>121182.0</td>\n",
       "      <td>801812.0</td>\n",
       "      <td>0.0</td>\n",
       "      <td>0.0</td>\n",
       "      <td>0</td>\n",
       "      <td>1</td>\n",
       "    </tr>\n",
       "    <tr>\n",
       "      <th>20</th>\n",
       "      <td>317108.0</td>\n",
       "      <td>Long Term</td>\n",
       "      <td>687.0</td>\n",
       "      <td>1.133274e+06</td>\n",
       "      <td>8 years</td>\n",
       "      <td>Rent</td>\n",
       "      <td>Debt Consolidation</td>\n",
       "      <td>9632.81</td>\n",
       "      <td>17.4</td>\n",
       "      <td>53.0</td>\n",
       "      <td>4.0</td>\n",
       "      <td>0.0</td>\n",
       "      <td>60287.0</td>\n",
       "      <td>126940.0</td>\n",
       "      <td>0.0</td>\n",
       "      <td>0.0</td>\n",
       "      <td>1</td>\n",
       "      <td>1</td>\n",
       "    </tr>\n",
       "    <tr>\n",
       "      <th>21</th>\n",
       "      <td>128238.0</td>\n",
       "      <td>Short Term</td>\n",
       "      <td>750.0</td>\n",
       "      <td>1.354073e+06</td>\n",
       "      <td>&lt; 1 year</td>\n",
       "      <td>Rent</td>\n",
       "      <td>Debt Consolidation</td>\n",
       "      <td>13202.15</td>\n",
       "      <td>11.9</td>\n",
       "      <td>NaN</td>\n",
       "      <td>7.0</td>\n",
       "      <td>0.0</td>\n",
       "      <td>131936.0</td>\n",
       "      <td>458788.0</td>\n",
       "      <td>0.0</td>\n",
       "      <td>0.0</td>\n",
       "      <td>0</td>\n",
       "      <td>1</td>\n",
       "    </tr>\n",
       "    <tr>\n",
       "      <th>22</th>\n",
       "      <td>153252.0</td>\n",
       "      <td>Short Term</td>\n",
       "      <td>714.0</td>\n",
       "      <td>1.890690e+06</td>\n",
       "      <td>2 years</td>\n",
       "      <td>Rent</td>\n",
       "      <td>Debt Consolidation</td>\n",
       "      <td>21900.35</td>\n",
       "      <td>15.7</td>\n",
       "      <td>NaN</td>\n",
       "      <td>12.0</td>\n",
       "      <td>0.0</td>\n",
       "      <td>891594.0</td>\n",
       "      <td>1081014.0</td>\n",
       "      <td>0.0</td>\n",
       "      <td>0.0</td>\n",
       "      <td>1</td>\n",
       "      <td>1</td>\n",
       "    </tr>\n",
       "    <tr>\n",
       "      <th>23</th>\n",
       "      <td>91894.0</td>\n",
       "      <td>Short Term</td>\n",
       "      <td>724.0</td>\n",
       "      <td>8.503830e+05</td>\n",
       "      <td>10+ years</td>\n",
       "      <td>Home Mortgage</td>\n",
       "      <td>Debt Consolidation</td>\n",
       "      <td>5860.74</td>\n",
       "      <td>17.5</td>\n",
       "      <td>NaN</td>\n",
       "      <td>7.0</td>\n",
       "      <td>0.0</td>\n",
       "      <td>95608.0</td>\n",
       "      <td>230626.0</td>\n",
       "      <td>0.0</td>\n",
       "      <td>0.0</td>\n",
       "      <td>0</td>\n",
       "      <td>1</td>\n",
       "    </tr>\n",
       "    <tr>\n",
       "      <th>24</th>\n",
       "      <td>244926.0</td>\n",
       "      <td>Long Term</td>\n",
       "      <td>704.0</td>\n",
       "      <td>1.249953e+06</td>\n",
       "      <td>4 years</td>\n",
       "      <td>Home Mortgage</td>\n",
       "      <td>Debt Consolidation</td>\n",
       "      <td>6812.26</td>\n",
       "      <td>14.4</td>\n",
       "      <td>NaN</td>\n",
       "      <td>6.0</td>\n",
       "      <td>1.0</td>\n",
       "      <td>143051.0</td>\n",
       "      <td>245014.0</td>\n",
       "      <td>0.0</td>\n",
       "      <td>1.0</td>\n",
       "      <td>0</td>\n",
       "      <td>1</td>\n",
       "    </tr>\n",
       "    <tr>\n",
       "      <th>25</th>\n",
       "      <td>465410.0</td>\n",
       "      <td>Long Term</td>\n",
       "      <td>688.0</td>\n",
       "      <td>1.722654e+06</td>\n",
       "      <td>3 years</td>\n",
       "      <td>Rent</td>\n",
       "      <td>Buy House</td>\n",
       "      <td>15647.45</td>\n",
       "      <td>22.3</td>\n",
       "      <td>30.0</td>\n",
       "      <td>7.0</td>\n",
       "      <td>0.0</td>\n",
       "      <td>107559.0</td>\n",
       "      <td>488356.0</td>\n",
       "      <td>0.0</td>\n",
       "      <td>0.0</td>\n",
       "      <td>0</td>\n",
       "      <td>1</td>\n",
       "    </tr>\n",
       "    <tr>\n",
       "      <th>26</th>\n",
       "      <td>99999999.0</td>\n",
       "      <td>Short Term</td>\n",
       "      <td>724.0</td>\n",
       "      <td>1.029857e+06</td>\n",
       "      <td>1 year</td>\n",
       "      <td>Rent</td>\n",
       "      <td>Debt Consolidation</td>\n",
       "      <td>13817.18</td>\n",
       "      <td>12.0</td>\n",
       "      <td>NaN</td>\n",
       "      <td>6.0</td>\n",
       "      <td>0.0</td>\n",
       "      <td>138339.0</td>\n",
       "      <td>221232.0</td>\n",
       "      <td>0.0</td>\n",
       "      <td>0.0</td>\n",
       "      <td>0</td>\n",
       "      <td>1</td>\n",
       "    </tr>\n",
       "    <tr>\n",
       "      <th>27</th>\n",
       "      <td>443960.0</td>\n",
       "      <td>Short Term</td>\n",
       "      <td>749.0</td>\n",
       "      <td>1.432391e+06</td>\n",
       "      <td>2 years</td>\n",
       "      <td>Home Mortgage</td>\n",
       "      <td>Debt Consolidation</td>\n",
       "      <td>25186.21</td>\n",
       "      <td>14.0</td>\n",
       "      <td>NaN</td>\n",
       "      <td>15.0</td>\n",
       "      <td>0.0</td>\n",
       "      <td>342475.0</td>\n",
       "      <td>905344.0</td>\n",
       "      <td>0.0</td>\n",
       "      <td>0.0</td>\n",
       "      <td>0</td>\n",
       "      <td>1</td>\n",
       "    </tr>\n",
       "    <tr>\n",
       "      <th>28</th>\n",
       "      <td>99999999.0</td>\n",
       "      <td>Short Term</td>\n",
       "      <td>746.0</td>\n",
       "      <td>1.749748e+06</td>\n",
       "      <td>10+ years</td>\n",
       "      <td>Home Mortgage</td>\n",
       "      <td>Debt Consolidation</td>\n",
       "      <td>19247.19</td>\n",
       "      <td>20.0</td>\n",
       "      <td>32.0</td>\n",
       "      <td>17.0</td>\n",
       "      <td>0.0</td>\n",
       "      <td>224390.0</td>\n",
       "      <td>295240.0</td>\n",
       "      <td>0.0</td>\n",
       "      <td>0.0</td>\n",
       "      <td>0</td>\n",
       "      <td>1</td>\n",
       "    </tr>\n",
       "    <tr>\n",
       "      <th>29</th>\n",
       "      <td>107404.0</td>\n",
       "      <td>Short Term</td>\n",
       "      <td>NaN</td>\n",
       "      <td>1.378277e+06</td>\n",
       "      <td>NaN</td>\n",
       "      <td>Home Mortgage</td>\n",
       "      <td>other</td>\n",
       "      <td>19238.07</td>\n",
       "      <td>43.7</td>\n",
       "      <td>NaN</td>\n",
       "      <td>5.0</td>\n",
       "      <td>0.0</td>\n",
       "      <td>28956.0</td>\n",
       "      <td>58014.0</td>\n",
       "      <td>0.0</td>\n",
       "      <td>0.0</td>\n",
       "      <td>0</td>\n",
       "      <td>1</td>\n",
       "    </tr>\n",
       "    <tr>\n",
       "      <th>...</th>\n",
       "      <td>...</td>\n",
       "      <td>...</td>\n",
       "      <td>...</td>\n",
       "      <td>...</td>\n",
       "      <td>...</td>\n",
       "      <td>...</td>\n",
       "      <td>...</td>\n",
       "      <td>...</td>\n",
       "      <td>...</td>\n",
       "      <td>...</td>\n",
       "      <td>...</td>\n",
       "      <td>...</td>\n",
       "      <td>...</td>\n",
       "      <td>...</td>\n",
       "      <td>...</td>\n",
       "      <td>...</td>\n",
       "      <td>...</td>\n",
       "      <td>...</td>\n",
       "    </tr>\n",
       "    <tr>\n",
       "      <th>99970</th>\n",
       "      <td>99999999.0</td>\n",
       "      <td>Short Term</td>\n",
       "      <td>674.0</td>\n",
       "      <td>1.058376e+06</td>\n",
       "      <td>&lt; 1 year</td>\n",
       "      <td>Home Mortgage</td>\n",
       "      <td>Other</td>\n",
       "      <td>11554.09</td>\n",
       "      <td>10.1</td>\n",
       "      <td>20.0</td>\n",
       "      <td>12.0</td>\n",
       "      <td>0.0</td>\n",
       "      <td>14098.0</td>\n",
       "      <td>333300.0</td>\n",
       "      <td>0.0</td>\n",
       "      <td>0.0</td>\n",
       "      <td>0</td>\n",
       "      <td>1</td>\n",
       "    </tr>\n",
       "    <tr>\n",
       "      <th>99971</th>\n",
       "      <td>99999999.0</td>\n",
       "      <td>Long Term</td>\n",
       "      <td>616.0</td>\n",
       "      <td>1.530564e+06</td>\n",
       "      <td>8 years</td>\n",
       "      <td>Rent</td>\n",
       "      <td>Medical Bills</td>\n",
       "      <td>13264.85</td>\n",
       "      <td>28.0</td>\n",
       "      <td>3.0</td>\n",
       "      <td>10.0</td>\n",
       "      <td>0.0</td>\n",
       "      <td>111283.0</td>\n",
       "      <td>162910.0</td>\n",
       "      <td>0.0</td>\n",
       "      <td>0.0</td>\n",
       "      <td>0</td>\n",
       "      <td>1</td>\n",
       "    </tr>\n",
       "    <tr>\n",
       "      <th>99972</th>\n",
       "      <td>328350.0</td>\n",
       "      <td>Long Term</td>\n",
       "      <td>704.0</td>\n",
       "      <td>2.041740e+06</td>\n",
       "      <td>5 years</td>\n",
       "      <td>Rent</td>\n",
       "      <td>other</td>\n",
       "      <td>32684.94</td>\n",
       "      <td>16.7</td>\n",
       "      <td>NaN</td>\n",
       "      <td>9.0</td>\n",
       "      <td>0.0</td>\n",
       "      <td>120612.0</td>\n",
       "      <td>234322.0</td>\n",
       "      <td>0.0</td>\n",
       "      <td>0.0</td>\n",
       "      <td>0</td>\n",
       "      <td>1</td>\n",
       "    </tr>\n",
       "    <tr>\n",
       "      <th>99973</th>\n",
       "      <td>522610.0</td>\n",
       "      <td>Long Term</td>\n",
       "      <td>725.0</td>\n",
       "      <td>1.026209e+06</td>\n",
       "      <td>10+ years</td>\n",
       "      <td>Home Mortgage</td>\n",
       "      <td>Debt Consolidation</td>\n",
       "      <td>15307.54</td>\n",
       "      <td>29.4</td>\n",
       "      <td>NaN</td>\n",
       "      <td>11.0</td>\n",
       "      <td>0.0</td>\n",
       "      <td>470250.0</td>\n",
       "      <td>821260.0</td>\n",
       "      <td>0.0</td>\n",
       "      <td>0.0</td>\n",
       "      <td>0</td>\n",
       "      <td>1</td>\n",
       "    </tr>\n",
       "    <tr>\n",
       "      <th>99974</th>\n",
       "      <td>330528.0</td>\n",
       "      <td>Short Term</td>\n",
       "      <td>731.0</td>\n",
       "      <td>1.141824e+06</td>\n",
       "      <td>10+ years</td>\n",
       "      <td>Rent</td>\n",
       "      <td>Debt Consolidation</td>\n",
       "      <td>13321.28</td>\n",
       "      <td>18.8</td>\n",
       "      <td>32.0</td>\n",
       "      <td>3.0</td>\n",
       "      <td>0.0</td>\n",
       "      <td>55119.0</td>\n",
       "      <td>375364.0</td>\n",
       "      <td>0.0</td>\n",
       "      <td>0.0</td>\n",
       "      <td>0</td>\n",
       "      <td>1</td>\n",
       "    </tr>\n",
       "    <tr>\n",
       "      <th>99975</th>\n",
       "      <td>274076.0</td>\n",
       "      <td>Short Term</td>\n",
       "      <td>736.0</td>\n",
       "      <td>7.096500e+05</td>\n",
       "      <td>10+ years</td>\n",
       "      <td>Rent</td>\n",
       "      <td>Debt Consolidation</td>\n",
       "      <td>4204.70</td>\n",
       "      <td>35.3</td>\n",
       "      <td>2.0</td>\n",
       "      <td>13.0</td>\n",
       "      <td>0.0</td>\n",
       "      <td>102866.0</td>\n",
       "      <td>844712.0</td>\n",
       "      <td>0.0</td>\n",
       "      <td>0.0</td>\n",
       "      <td>1</td>\n",
       "      <td>1</td>\n",
       "    </tr>\n",
       "    <tr>\n",
       "      <th>99976</th>\n",
       "      <td>333630.0</td>\n",
       "      <td>Short Term</td>\n",
       "      <td>NaN</td>\n",
       "      <td>1.378277e+06</td>\n",
       "      <td>10+ years</td>\n",
       "      <td>Own Home</td>\n",
       "      <td>Debt Consolidation</td>\n",
       "      <td>35234.17</td>\n",
       "      <td>30.7</td>\n",
       "      <td>NaN</td>\n",
       "      <td>24.0</td>\n",
       "      <td>0.0</td>\n",
       "      <td>291650.0</td>\n",
       "      <td>1075492.0</td>\n",
       "      <td>0.0</td>\n",
       "      <td>0.0</td>\n",
       "      <td>0</td>\n",
       "      <td>1</td>\n",
       "    </tr>\n",
       "    <tr>\n",
       "      <th>99977</th>\n",
       "      <td>483428.0</td>\n",
       "      <td>Short Term</td>\n",
       "      <td>NaN</td>\n",
       "      <td>1.378277e+06</td>\n",
       "      <td>10+ years</td>\n",
       "      <td>Rent</td>\n",
       "      <td>Debt Consolidation</td>\n",
       "      <td>19328.70</td>\n",
       "      <td>15.6</td>\n",
       "      <td>NaN</td>\n",
       "      <td>18.0</td>\n",
       "      <td>0.0</td>\n",
       "      <td>440572.0</td>\n",
       "      <td>824142.0</td>\n",
       "      <td>0.0</td>\n",
       "      <td>0.0</td>\n",
       "      <td>0</td>\n",
       "      <td>1</td>\n",
       "    </tr>\n",
       "    <tr>\n",
       "      <th>99978</th>\n",
       "      <td>431860.0</td>\n",
       "      <td>Long Term</td>\n",
       "      <td>NaN</td>\n",
       "      <td>1.378277e+06</td>\n",
       "      <td>10+ years</td>\n",
       "      <td>Home Mortgage</td>\n",
       "      <td>Debt Consolidation</td>\n",
       "      <td>8465.07</td>\n",
       "      <td>18.5</td>\n",
       "      <td>25.0</td>\n",
       "      <td>5.0</td>\n",
       "      <td>0.0</td>\n",
       "      <td>241319.0</td>\n",
       "      <td>476806.0</td>\n",
       "      <td>0.0</td>\n",
       "      <td>0.0</td>\n",
       "      <td>0</td>\n",
       "      <td>1</td>\n",
       "    </tr>\n",
       "    <tr>\n",
       "      <th>99979</th>\n",
       "      <td>766392.0</td>\n",
       "      <td>Short Term</td>\n",
       "      <td>717.0</td>\n",
       "      <td>1.891070e+06</td>\n",
       "      <td>7 years</td>\n",
       "      <td>Home Mortgage</td>\n",
       "      <td>Debt Consolidation</td>\n",
       "      <td>41130.82</td>\n",
       "      <td>15.4</td>\n",
       "      <td>NaN</td>\n",
       "      <td>20.0</td>\n",
       "      <td>1.0</td>\n",
       "      <td>604485.0</td>\n",
       "      <td>969430.0</td>\n",
       "      <td>1.0</td>\n",
       "      <td>0.0</td>\n",
       "      <td>0</td>\n",
       "      <td>1</td>\n",
       "    </tr>\n",
       "    <tr>\n",
       "      <th>99980</th>\n",
       "      <td>336776.0</td>\n",
       "      <td>Short Term</td>\n",
       "      <td>745.0</td>\n",
       "      <td>1.192459e+06</td>\n",
       "      <td>10+ years</td>\n",
       "      <td>Home Mortgage</td>\n",
       "      <td>Debt Consolidation</td>\n",
       "      <td>31600.04</td>\n",
       "      <td>16.9</td>\n",
       "      <td>NaN</td>\n",
       "      <td>14.0</td>\n",
       "      <td>0.0</td>\n",
       "      <td>347643.0</td>\n",
       "      <td>888558.0</td>\n",
       "      <td>0.0</td>\n",
       "      <td>0.0</td>\n",
       "      <td>0</td>\n",
       "      <td>1</td>\n",
       "    </tr>\n",
       "    <tr>\n",
       "      <th>99981</th>\n",
       "      <td>666666.0</td>\n",
       "      <td>Short Term</td>\n",
       "      <td>725.0</td>\n",
       "      <td>3.838380e+06</td>\n",
       "      <td>7 years</td>\n",
       "      <td>Home Mortgage</td>\n",
       "      <td>Debt Consolidation</td>\n",
       "      <td>48939.44</td>\n",
       "      <td>12.4</td>\n",
       "      <td>13.0</td>\n",
       "      <td>18.0</td>\n",
       "      <td>0.0</td>\n",
       "      <td>507414.0</td>\n",
       "      <td>1004322.0</td>\n",
       "      <td>0.0</td>\n",
       "      <td>0.0</td>\n",
       "      <td>1</td>\n",
       "      <td>1</td>\n",
       "    </tr>\n",
       "    <tr>\n",
       "      <th>99982</th>\n",
       "      <td>484968.0</td>\n",
       "      <td>Long Term</td>\n",
       "      <td>NaN</td>\n",
       "      <td>1.378277e+06</td>\n",
       "      <td>10+ years</td>\n",
       "      <td>Home Mortgage</td>\n",
       "      <td>Debt Consolidation</td>\n",
       "      <td>20941.80</td>\n",
       "      <td>23.7</td>\n",
       "      <td>NaN</td>\n",
       "      <td>15.0</td>\n",
       "      <td>0.0</td>\n",
       "      <td>804175.0</td>\n",
       "      <td>1322662.0</td>\n",
       "      <td>0.0</td>\n",
       "      <td>0.0</td>\n",
       "      <td>0</td>\n",
       "      <td>1</td>\n",
       "    </tr>\n",
       "    <tr>\n",
       "      <th>99983</th>\n",
       "      <td>758450.0</td>\n",
       "      <td>Short Term</td>\n",
       "      <td>726.0</td>\n",
       "      <td>1.590775e+06</td>\n",
       "      <td>10+ years</td>\n",
       "      <td>Home Mortgage</td>\n",
       "      <td>Debt Consolidation</td>\n",
       "      <td>24259.39</td>\n",
       "      <td>18.1</td>\n",
       "      <td>25.0</td>\n",
       "      <td>11.0</td>\n",
       "      <td>0.0</td>\n",
       "      <td>850820.0</td>\n",
       "      <td>1287792.0</td>\n",
       "      <td>0.0</td>\n",
       "      <td>0.0</td>\n",
       "      <td>0</td>\n",
       "      <td>1</td>\n",
       "    </tr>\n",
       "    <tr>\n",
       "      <th>99984</th>\n",
       "      <td>347468.0</td>\n",
       "      <td>Short Term</td>\n",
       "      <td>691.0</td>\n",
       "      <td>1.192307e+06</td>\n",
       "      <td>10+ years</td>\n",
       "      <td>Rent</td>\n",
       "      <td>Debt Consolidation</td>\n",
       "      <td>30204.87</td>\n",
       "      <td>21.9</td>\n",
       "      <td>NaN</td>\n",
       "      <td>17.0</td>\n",
       "      <td>0.0</td>\n",
       "      <td>331474.0</td>\n",
       "      <td>433686.0</td>\n",
       "      <td>0.0</td>\n",
       "      <td>0.0</td>\n",
       "      <td>0</td>\n",
       "      <td>1</td>\n",
       "    </tr>\n",
       "    <tr>\n",
       "      <th>99985</th>\n",
       "      <td>179454.0</td>\n",
       "      <td>Short Term</td>\n",
       "      <td>708.0</td>\n",
       "      <td>1.356068e+06</td>\n",
       "      <td>4 years</td>\n",
       "      <td>Home Mortgage</td>\n",
       "      <td>Debt Consolidation</td>\n",
       "      <td>22318.54</td>\n",
       "      <td>22.7</td>\n",
       "      <td>21.0</td>\n",
       "      <td>25.0</td>\n",
       "      <td>0.0</td>\n",
       "      <td>387410.0</td>\n",
       "      <td>1705616.0</td>\n",
       "      <td>0.0</td>\n",
       "      <td>0.0</td>\n",
       "      <td>0</td>\n",
       "      <td>1</td>\n",
       "    </tr>\n",
       "    <tr>\n",
       "      <th>99986</th>\n",
       "      <td>781022.0</td>\n",
       "      <td>Short Term</td>\n",
       "      <td>741.0</td>\n",
       "      <td>2.582404e+06</td>\n",
       "      <td>6 years</td>\n",
       "      <td>Home Mortgage</td>\n",
       "      <td>Debt Consolidation</td>\n",
       "      <td>51648.08</td>\n",
       "      <td>26.3</td>\n",
       "      <td>NaN</td>\n",
       "      <td>25.0</td>\n",
       "      <td>0.0</td>\n",
       "      <td>669180.0</td>\n",
       "      <td>2299198.0</td>\n",
       "      <td>0.0</td>\n",
       "      <td>0.0</td>\n",
       "      <td>0</td>\n",
       "      <td>1</td>\n",
       "    </tr>\n",
       "    <tr>\n",
       "      <th>99987</th>\n",
       "      <td>277882.0</td>\n",
       "      <td>Short Term</td>\n",
       "      <td>711.0</td>\n",
       "      <td>8.674070e+05</td>\n",
       "      <td>10+ years</td>\n",
       "      <td>Own Home</td>\n",
       "      <td>Debt Consolidation</td>\n",
       "      <td>23275.19</td>\n",
       "      <td>29.7</td>\n",
       "      <td>NaN</td>\n",
       "      <td>11.0</td>\n",
       "      <td>1.0</td>\n",
       "      <td>100719.0</td>\n",
       "      <td>204600.0</td>\n",
       "      <td>0.0</td>\n",
       "      <td>0.0</td>\n",
       "      <td>0</td>\n",
       "      <td>1</td>\n",
       "    </tr>\n",
       "    <tr>\n",
       "      <th>99988</th>\n",
       "      <td>309474.0</td>\n",
       "      <td>Short Term</td>\n",
       "      <td>NaN</td>\n",
       "      <td>1.378277e+06</td>\n",
       "      <td>10+ years</td>\n",
       "      <td>Home Mortgage</td>\n",
       "      <td>Debt Consolidation</td>\n",
       "      <td>13817.18</td>\n",
       "      <td>26.9</td>\n",
       "      <td>NaN</td>\n",
       "      <td>15.0</td>\n",
       "      <td>0.0</td>\n",
       "      <td>225872.0</td>\n",
       "      <td>892606.0</td>\n",
       "      <td>0.0</td>\n",
       "      <td>0.0</td>\n",
       "      <td>1</td>\n",
       "      <td>1</td>\n",
       "    </tr>\n",
       "    <tr>\n",
       "      <th>99989</th>\n",
       "      <td>429132.0</td>\n",
       "      <td>Short Term</td>\n",
       "      <td>NaN</td>\n",
       "      <td>1.378277e+06</td>\n",
       "      <td>10+ years</td>\n",
       "      <td>Home Mortgage</td>\n",
       "      <td>Debt Consolidation</td>\n",
       "      <td>28948.02</td>\n",
       "      <td>16.3</td>\n",
       "      <td>NaN</td>\n",
       "      <td>16.0</td>\n",
       "      <td>0.0</td>\n",
       "      <td>485279.0</td>\n",
       "      <td>656414.0</td>\n",
       "      <td>0.0</td>\n",
       "      <td>0.0</td>\n",
       "      <td>1</td>\n",
       "      <td>1</td>\n",
       "    </tr>\n",
       "    <tr>\n",
       "      <th>99990</th>\n",
       "      <td>99999999.0</td>\n",
       "      <td>Short Term</td>\n",
       "      <td>742.0</td>\n",
       "      <td>1.190046e+06</td>\n",
       "      <td>&lt; 1 year</td>\n",
       "      <td>Rent</td>\n",
       "      <td>other</td>\n",
       "      <td>11969.81</td>\n",
       "      <td>20.1</td>\n",
       "      <td>16.0</td>\n",
       "      <td>9.0</td>\n",
       "      <td>0.0</td>\n",
       "      <td>37392.0</td>\n",
       "      <td>134442.0</td>\n",
       "      <td>0.0</td>\n",
       "      <td>0.0</td>\n",
       "      <td>0</td>\n",
       "      <td>1</td>\n",
       "    </tr>\n",
       "    <tr>\n",
       "      <th>99991</th>\n",
       "      <td>244266.0</td>\n",
       "      <td>Short Term</td>\n",
       "      <td>714.0</td>\n",
       "      <td>1.619047e+06</td>\n",
       "      <td>10+ years</td>\n",
       "      <td>Rent</td>\n",
       "      <td>Debt Consolidation</td>\n",
       "      <td>4290.39</td>\n",
       "      <td>21.4</td>\n",
       "      <td>NaN</td>\n",
       "      <td>5.0</td>\n",
       "      <td>1.0</td>\n",
       "      <td>132012.0</td>\n",
       "      <td>242660.0</td>\n",
       "      <td>1.0</td>\n",
       "      <td>0.0</td>\n",
       "      <td>0</td>\n",
       "      <td>1</td>\n",
       "    </tr>\n",
       "    <tr>\n",
       "      <th>99992</th>\n",
       "      <td>48796.0</td>\n",
       "      <td>Short Term</td>\n",
       "      <td>NaN</td>\n",
       "      <td>1.378277e+06</td>\n",
       "      <td>4 years</td>\n",
       "      <td>Home Mortgage</td>\n",
       "      <td>major_purchase</td>\n",
       "      <td>8298.63</td>\n",
       "      <td>8.3</td>\n",
       "      <td>NaN</td>\n",
       "      <td>9.0</td>\n",
       "      <td>0.0</td>\n",
       "      <td>87875.0</td>\n",
       "      <td>239404.0</td>\n",
       "      <td>0.0</td>\n",
       "      <td>0.0</td>\n",
       "      <td>0</td>\n",
       "      <td>1</td>\n",
       "    </tr>\n",
       "    <tr>\n",
       "      <th>99993</th>\n",
       "      <td>44484.0</td>\n",
       "      <td>Short Term</td>\n",
       "      <td>717.0</td>\n",
       "      <td>1.152426e+06</td>\n",
       "      <td>10+ years</td>\n",
       "      <td>Home Mortgage</td>\n",
       "      <td>small_business</td>\n",
       "      <td>6280.64</td>\n",
       "      <td>21.0</td>\n",
       "      <td>12.0</td>\n",
       "      <td>6.0</td>\n",
       "      <td>0.0</td>\n",
       "      <td>961932.0</td>\n",
       "      <td>0.0</td>\n",
       "      <td>0.0</td>\n",
       "      <td>0.0</td>\n",
       "      <td>0</td>\n",
       "      <td>1</td>\n",
       "    </tr>\n",
       "    <tr>\n",
       "      <th>99994</th>\n",
       "      <td>210584.0</td>\n",
       "      <td>Short Term</td>\n",
       "      <td>719.0</td>\n",
       "      <td>7.833890e+05</td>\n",
       "      <td>1 year</td>\n",
       "      <td>Home Mortgage</td>\n",
       "      <td>Other</td>\n",
       "      <td>3727.61</td>\n",
       "      <td>17.4</td>\n",
       "      <td>18.0</td>\n",
       "      <td>6.0</td>\n",
       "      <td>0.0</td>\n",
       "      <td>456.0</td>\n",
       "      <td>259160.0</td>\n",
       "      <td>0.0</td>\n",
       "      <td>0.0</td>\n",
       "      <td>0</td>\n",
       "      <td>1</td>\n",
       "    </tr>\n",
       "    <tr>\n",
       "      <th>99995</th>\n",
       "      <td>147070.0</td>\n",
       "      <td>Short Term</td>\n",
       "      <td>725.0</td>\n",
       "      <td>4.754370e+05</td>\n",
       "      <td>7 years</td>\n",
       "      <td>Own Home</td>\n",
       "      <td>other</td>\n",
       "      <td>2202.86</td>\n",
       "      <td>22.3</td>\n",
       "      <td>NaN</td>\n",
       "      <td>5.0</td>\n",
       "      <td>0.0</td>\n",
       "      <td>47766.0</td>\n",
       "      <td>658548.0</td>\n",
       "      <td>0.0</td>\n",
       "      <td>0.0</td>\n",
       "      <td>0</td>\n",
       "      <td>1</td>\n",
       "    </tr>\n",
       "    <tr>\n",
       "      <th>99996</th>\n",
       "      <td>99999999.0</td>\n",
       "      <td>Short Term</td>\n",
       "      <td>732.0</td>\n",
       "      <td>1.289416e+06</td>\n",
       "      <td>1 year</td>\n",
       "      <td>Rent</td>\n",
       "      <td>Debt Consolidation</td>\n",
       "      <td>13109.05</td>\n",
       "      <td>9.4</td>\n",
       "      <td>21.0</td>\n",
       "      <td>22.0</td>\n",
       "      <td>0.0</td>\n",
       "      <td>153045.0</td>\n",
       "      <td>509234.0</td>\n",
       "      <td>0.0</td>\n",
       "      <td>0.0</td>\n",
       "      <td>0</td>\n",
       "      <td>1</td>\n",
       "    </tr>\n",
       "    <tr>\n",
       "      <th>99997</th>\n",
       "      <td>103136.0</td>\n",
       "      <td>Short Term</td>\n",
       "      <td>742.0</td>\n",
       "      <td>1.150545e+06</td>\n",
       "      <td>6 years</td>\n",
       "      <td>Rent</td>\n",
       "      <td>Debt Consolidation</td>\n",
       "      <td>7315.57</td>\n",
       "      <td>18.8</td>\n",
       "      <td>18.0</td>\n",
       "      <td>12.0</td>\n",
       "      <td>1.0</td>\n",
       "      <td>109554.0</td>\n",
       "      <td>537548.0</td>\n",
       "      <td>1.0</td>\n",
       "      <td>0.0</td>\n",
       "      <td>0</td>\n",
       "      <td>1</td>\n",
       "    </tr>\n",
       "    <tr>\n",
       "      <th>99998</th>\n",
       "      <td>530332.0</td>\n",
       "      <td>Short Term</td>\n",
       "      <td>746.0</td>\n",
       "      <td>1.717524e+06</td>\n",
       "      <td>9 years</td>\n",
       "      <td>Rent</td>\n",
       "      <td>Debt Consolidation</td>\n",
       "      <td>9890.07</td>\n",
       "      <td>15.0</td>\n",
       "      <td>NaN</td>\n",
       "      <td>8.0</td>\n",
       "      <td>0.0</td>\n",
       "      <td>404225.0</td>\n",
       "      <td>738254.0</td>\n",
       "      <td>0.0</td>\n",
       "      <td>0.0</td>\n",
       "      <td>0</td>\n",
       "      <td>1</td>\n",
       "    </tr>\n",
       "    <tr>\n",
       "      <th>99999</th>\n",
       "      <td>99999999.0</td>\n",
       "      <td>Short Term</td>\n",
       "      <td>743.0</td>\n",
       "      <td>9.351800e+05</td>\n",
       "      <td>NaN</td>\n",
       "      <td>Own Home</td>\n",
       "      <td>Debt Consolidation</td>\n",
       "      <td>9118.10</td>\n",
       "      <td>13.0</td>\n",
       "      <td>NaN</td>\n",
       "      <td>4.0</td>\n",
       "      <td>1.0</td>\n",
       "      <td>45600.0</td>\n",
       "      <td>91014.0</td>\n",
       "      <td>1.0</td>\n",
       "      <td>0.0</td>\n",
       "      <td>0</td>\n",
       "      <td>1</td>\n",
       "    </tr>\n",
       "  </tbody>\n",
       "</table>\n",
       "<p>100000 rows × 18 columns</p>\n",
       "</div>"
      ],
      "text/plain": [
       "       Current Loan Amount        Term  Credit Score  Annual Income  \\\n",
       "0                 445412.0  Short Term         709.0   1.167493e+06   \n",
       "1                 262328.0  Short Term           NaN   1.378277e+06   \n",
       "2               99999999.0  Short Term         741.0   2.231892e+06   \n",
       "3                 347666.0   Long Term         721.0   8.069490e+05   \n",
       "4                 176220.0  Short Term           NaN   1.378277e+06   \n",
       "5                 206602.0  Short Term         729.0   8.968570e+05   \n",
       "6                 217646.0  Short Term         730.0   1.184194e+06   \n",
       "7                 648714.0   Long Term           NaN   1.378277e+06   \n",
       "8                 548746.0  Short Term         678.0   2.559110e+06   \n",
       "9                 215952.0  Short Term         739.0   1.454735e+06   \n",
       "10              99999999.0  Short Term         728.0   7.146280e+05   \n",
       "11                541970.0  Short Term           NaN   1.378277e+06   \n",
       "12              99999999.0  Short Term         740.0   7.761880e+05   \n",
       "13              99999999.0  Short Term         743.0   1.560907e+06   \n",
       "14                234124.0  Short Term         727.0   6.932340e+05   \n",
       "15                449020.0   Long Term           NaN   1.378277e+06   \n",
       "16                653004.0   Long Term           NaN   1.378277e+06   \n",
       "17                666204.0   Long Term         723.0   1.821967e+06   \n",
       "18                 66396.0  Short Term           NaN   1.378277e+06   \n",
       "19                390390.0  Short Term         747.0   1.791738e+06   \n",
       "20                317108.0   Long Term         687.0   1.133274e+06   \n",
       "21                128238.0  Short Term         750.0   1.354073e+06   \n",
       "22                153252.0  Short Term         714.0   1.890690e+06   \n",
       "23                 91894.0  Short Term         724.0   8.503830e+05   \n",
       "24                244926.0   Long Term         704.0   1.249953e+06   \n",
       "25                465410.0   Long Term         688.0   1.722654e+06   \n",
       "26              99999999.0  Short Term         724.0   1.029857e+06   \n",
       "27                443960.0  Short Term         749.0   1.432391e+06   \n",
       "28              99999999.0  Short Term         746.0   1.749748e+06   \n",
       "29                107404.0  Short Term           NaN   1.378277e+06   \n",
       "...                    ...         ...           ...            ...   \n",
       "99970           99999999.0  Short Term         674.0   1.058376e+06   \n",
       "99971           99999999.0   Long Term         616.0   1.530564e+06   \n",
       "99972             328350.0   Long Term         704.0   2.041740e+06   \n",
       "99973             522610.0   Long Term         725.0   1.026209e+06   \n",
       "99974             330528.0  Short Term         731.0   1.141824e+06   \n",
       "99975             274076.0  Short Term         736.0   7.096500e+05   \n",
       "99976             333630.0  Short Term           NaN   1.378277e+06   \n",
       "99977             483428.0  Short Term           NaN   1.378277e+06   \n",
       "99978             431860.0   Long Term           NaN   1.378277e+06   \n",
       "99979             766392.0  Short Term         717.0   1.891070e+06   \n",
       "99980             336776.0  Short Term         745.0   1.192459e+06   \n",
       "99981             666666.0  Short Term         725.0   3.838380e+06   \n",
       "99982             484968.0   Long Term           NaN   1.378277e+06   \n",
       "99983             758450.0  Short Term         726.0   1.590775e+06   \n",
       "99984             347468.0  Short Term         691.0   1.192307e+06   \n",
       "99985             179454.0  Short Term         708.0   1.356068e+06   \n",
       "99986             781022.0  Short Term         741.0   2.582404e+06   \n",
       "99987             277882.0  Short Term         711.0   8.674070e+05   \n",
       "99988             309474.0  Short Term           NaN   1.378277e+06   \n",
       "99989             429132.0  Short Term           NaN   1.378277e+06   \n",
       "99990           99999999.0  Short Term         742.0   1.190046e+06   \n",
       "99991             244266.0  Short Term         714.0   1.619047e+06   \n",
       "99992              48796.0  Short Term           NaN   1.378277e+06   \n",
       "99993              44484.0  Short Term         717.0   1.152426e+06   \n",
       "99994             210584.0  Short Term         719.0   7.833890e+05   \n",
       "99995             147070.0  Short Term         725.0   4.754370e+05   \n",
       "99996           99999999.0  Short Term         732.0   1.289416e+06   \n",
       "99997             103136.0  Short Term         742.0   1.150545e+06   \n",
       "99998             530332.0  Short Term         746.0   1.717524e+06   \n",
       "99999           99999999.0  Short Term         743.0   9.351800e+05   \n",
       "\n",
       "      Years in current job Home Ownership             Purpose  Monthly Debt  \\\n",
       "0                  8 years  Home Mortgage   Home Improvements       5214.74   \n",
       "1                10+ years  Home Mortgage  Debt Consolidation      33295.98   \n",
       "2                  8 years       Own Home  Debt Consolidation      29200.53   \n",
       "3                  3 years       Own Home  Debt Consolidation       8741.90   \n",
       "4                  5 years           Rent  Debt Consolidation      20639.70   \n",
       "5                10+ years  Home Mortgage  Debt Consolidation      16367.74   \n",
       "6                 < 1 year  Home Mortgage  Debt Consolidation      10855.08   \n",
       "7                 < 1 year  Home Mortgage           Buy House      14806.13   \n",
       "8                  2 years           Rent  Debt Consolidation      18660.28   \n",
       "9                 < 1 year           Rent  Debt Consolidation      39277.75   \n",
       "10                 3 years           Rent  Debt Consolidation      11851.06   \n",
       "11               10+ years  Home Mortgage   Home Improvements      23568.55   \n",
       "12                < 1 year       Own Home  Debt Consolidation      11578.22   \n",
       "13                 4 years           Rent  Debt Consolidation      17560.37   \n",
       "14               10+ years           Rent  Debt Consolidation      14211.24   \n",
       "15                 9 years       Own Home  Debt Consolidation      18904.81   \n",
       "16                 7 years  Home Mortgage  Debt Consolidation      14537.09   \n",
       "17               10+ years  Home Mortgage  Debt Consolidation      17612.24   \n",
       "18               10+ years           Rent  Debt Consolidation       9898.81   \n",
       "19                 8 years  Home Mortgage   Home Improvements       2478.55   \n",
       "20                 8 years           Rent  Debt Consolidation       9632.81   \n",
       "21                < 1 year           Rent  Debt Consolidation      13202.15   \n",
       "22                 2 years           Rent  Debt Consolidation      21900.35   \n",
       "23               10+ years  Home Mortgage  Debt Consolidation       5860.74   \n",
       "24                 4 years  Home Mortgage  Debt Consolidation       6812.26   \n",
       "25                 3 years           Rent           Buy House      15647.45   \n",
       "26                  1 year           Rent  Debt Consolidation      13817.18   \n",
       "27                 2 years  Home Mortgage  Debt Consolidation      25186.21   \n",
       "28               10+ years  Home Mortgage  Debt Consolidation      19247.19   \n",
       "29                     NaN  Home Mortgage               other      19238.07   \n",
       "...                    ...            ...                 ...           ...   \n",
       "99970             < 1 year  Home Mortgage               Other      11554.09   \n",
       "99971              8 years           Rent       Medical Bills      13264.85   \n",
       "99972              5 years           Rent               other      32684.94   \n",
       "99973            10+ years  Home Mortgage  Debt Consolidation      15307.54   \n",
       "99974            10+ years           Rent  Debt Consolidation      13321.28   \n",
       "99975            10+ years           Rent  Debt Consolidation       4204.70   \n",
       "99976            10+ years       Own Home  Debt Consolidation      35234.17   \n",
       "99977            10+ years           Rent  Debt Consolidation      19328.70   \n",
       "99978            10+ years  Home Mortgage  Debt Consolidation       8465.07   \n",
       "99979              7 years  Home Mortgage  Debt Consolidation      41130.82   \n",
       "99980            10+ years  Home Mortgage  Debt Consolidation      31600.04   \n",
       "99981              7 years  Home Mortgage  Debt Consolidation      48939.44   \n",
       "99982            10+ years  Home Mortgage  Debt Consolidation      20941.80   \n",
       "99983            10+ years  Home Mortgage  Debt Consolidation      24259.39   \n",
       "99984            10+ years           Rent  Debt Consolidation      30204.87   \n",
       "99985              4 years  Home Mortgage  Debt Consolidation      22318.54   \n",
       "99986              6 years  Home Mortgage  Debt Consolidation      51648.08   \n",
       "99987            10+ years       Own Home  Debt Consolidation      23275.19   \n",
       "99988            10+ years  Home Mortgage  Debt Consolidation      13817.18   \n",
       "99989            10+ years  Home Mortgage  Debt Consolidation      28948.02   \n",
       "99990             < 1 year           Rent               other      11969.81   \n",
       "99991            10+ years           Rent  Debt Consolidation       4290.39   \n",
       "99992              4 years  Home Mortgage      major_purchase       8298.63   \n",
       "99993            10+ years  Home Mortgage      small_business       6280.64   \n",
       "99994               1 year  Home Mortgage               Other       3727.61   \n",
       "99995              7 years       Own Home               other       2202.86   \n",
       "99996               1 year           Rent  Debt Consolidation      13109.05   \n",
       "99997              6 years           Rent  Debt Consolidation       7315.57   \n",
       "99998              9 years           Rent  Debt Consolidation       9890.07   \n",
       "99999                  NaN       Own Home  Debt Consolidation       9118.10   \n",
       "\n",
       "       Years of Credit History  Months since last delinquent  \\\n",
       "0                         17.2                           NaN   \n",
       "1                         21.1                           8.0   \n",
       "2                         14.9                          29.0   \n",
       "3                         12.0                           NaN   \n",
       "4                          6.1                           NaN   \n",
       "5                         17.3                           NaN   \n",
       "6                         19.6                          10.0   \n",
       "7                          8.2                           8.0   \n",
       "8                         22.6                          33.0   \n",
       "9                         13.9                           NaN   \n",
       "10                        16.0                          76.0   \n",
       "11                        23.2                           NaN   \n",
       "12                         8.5                          25.0   \n",
       "13                        13.3                           NaN   \n",
       "14                        24.7                          46.0   \n",
       "15                        19.4                           NaN   \n",
       "16                        20.5                           NaN   \n",
       "17                        22.0                          34.0   \n",
       "18                        27.1                           NaN   \n",
       "19                        22.7                           NaN   \n",
       "20                        17.4                          53.0   \n",
       "21                        11.9                           NaN   \n",
       "22                        15.7                           NaN   \n",
       "23                        17.5                           NaN   \n",
       "24                        14.4                           NaN   \n",
       "25                        22.3                          30.0   \n",
       "26                        12.0                           NaN   \n",
       "27                        14.0                           NaN   \n",
       "28                        20.0                          32.0   \n",
       "29                        43.7                           NaN   \n",
       "...                        ...                           ...   \n",
       "99970                     10.1                          20.0   \n",
       "99971                     28.0                           3.0   \n",
       "99972                     16.7                           NaN   \n",
       "99973                     29.4                           NaN   \n",
       "99974                     18.8                          32.0   \n",
       "99975                     35.3                           2.0   \n",
       "99976                     30.7                           NaN   \n",
       "99977                     15.6                           NaN   \n",
       "99978                     18.5                          25.0   \n",
       "99979                     15.4                           NaN   \n",
       "99980                     16.9                           NaN   \n",
       "99981                     12.4                          13.0   \n",
       "99982                     23.7                           NaN   \n",
       "99983                     18.1                          25.0   \n",
       "99984                     21.9                           NaN   \n",
       "99985                     22.7                          21.0   \n",
       "99986                     26.3                           NaN   \n",
       "99987                     29.7                           NaN   \n",
       "99988                     26.9                           NaN   \n",
       "99989                     16.3                           NaN   \n",
       "99990                     20.1                          16.0   \n",
       "99991                     21.4                           NaN   \n",
       "99992                      8.3                           NaN   \n",
       "99993                     21.0                          12.0   \n",
       "99994                     17.4                          18.0   \n",
       "99995                     22.3                           NaN   \n",
       "99996                      9.4                          21.0   \n",
       "99997                     18.8                          18.0   \n",
       "99998                     15.0                           NaN   \n",
       "99999                     13.0                           NaN   \n",
       "\n",
       "       Number of Open Accounts  Number of Credit Problems  \\\n",
       "0                          6.0                        1.0   \n",
       "1                         35.0                        0.0   \n",
       "2                         18.0                        1.0   \n",
       "3                          9.0                        0.0   \n",
       "4                         15.0                        0.0   \n",
       "5                          6.0                        0.0   \n",
       "6                         13.0                        1.0   \n",
       "7                         15.0                        0.0   \n",
       "8                          4.0                        0.0   \n",
       "9                         20.0                        0.0   \n",
       "10                        16.0                        0.0   \n",
       "11                        23.0                        0.0   \n",
       "12                         6.0                        0.0   \n",
       "13                        10.0                        1.0   \n",
       "14                        10.0                        1.0   \n",
       "15                         8.0                        0.0   \n",
       "16                         9.0                        0.0   \n",
       "17                        15.0                        0.0   \n",
       "18                        23.0                        1.0   \n",
       "19                         6.0                        0.0   \n",
       "20                         4.0                        0.0   \n",
       "21                         7.0                        0.0   \n",
       "22                        12.0                        0.0   \n",
       "23                         7.0                        0.0   \n",
       "24                         6.0                        1.0   \n",
       "25                         7.0                        0.0   \n",
       "26                         6.0                        0.0   \n",
       "27                        15.0                        0.0   \n",
       "28                        17.0                        0.0   \n",
       "29                         5.0                        0.0   \n",
       "...                        ...                        ...   \n",
       "99970                     12.0                        0.0   \n",
       "99971                     10.0                        0.0   \n",
       "99972                      9.0                        0.0   \n",
       "99973                     11.0                        0.0   \n",
       "99974                      3.0                        0.0   \n",
       "99975                     13.0                        0.0   \n",
       "99976                     24.0                        0.0   \n",
       "99977                     18.0                        0.0   \n",
       "99978                      5.0                        0.0   \n",
       "99979                     20.0                        1.0   \n",
       "99980                     14.0                        0.0   \n",
       "99981                     18.0                        0.0   \n",
       "99982                     15.0                        0.0   \n",
       "99983                     11.0                        0.0   \n",
       "99984                     17.0                        0.0   \n",
       "99985                     25.0                        0.0   \n",
       "99986                     25.0                        0.0   \n",
       "99987                     11.0                        1.0   \n",
       "99988                     15.0                        0.0   \n",
       "99989                     16.0                        0.0   \n",
       "99990                      9.0                        0.0   \n",
       "99991                      5.0                        1.0   \n",
       "99992                      9.0                        0.0   \n",
       "99993                      6.0                        0.0   \n",
       "99994                      6.0                        0.0   \n",
       "99995                      5.0                        0.0   \n",
       "99996                     22.0                        0.0   \n",
       "99997                     12.0                        1.0   \n",
       "99998                      8.0                        0.0   \n",
       "99999                      4.0                        1.0   \n",
       "\n",
       "       Current Credit Balance  Maximum Open Credit  Bankruptcies  Tax Liens  \\\n",
       "0                    228190.0             416746.0           1.0        0.0   \n",
       "1                    229976.0             850784.0           0.0        0.0   \n",
       "2                    297996.0             750090.0           0.0        0.0   \n",
       "3                    256329.0             386958.0           0.0        0.0   \n",
       "4                    253460.0             427174.0           0.0        0.0   \n",
       "5                    215308.0             272448.0           0.0        0.0   \n",
       "6                    122170.0             272052.0           1.0        0.0   \n",
       "7                    193306.0             864204.0           0.0        0.0   \n",
       "8                    437171.0             555038.0           0.0        0.0   \n",
       "9                    669560.0            1021460.0           0.0        0.0   \n",
       "10                   203965.0             289784.0           0.0        0.0   \n",
       "11                    60705.0            1634468.0           0.0        0.0   \n",
       "12                   134083.0             220220.0           0.0        0.0   \n",
       "13                   225549.0             496474.0           1.0        0.0   \n",
       "14                    28291.0             107052.0           1.0        0.0   \n",
       "15                   334533.0             428956.0           0.0        0.0   \n",
       "16                   302309.0             413754.0           0.0        0.0   \n",
       "17                   813694.0            2004618.0           0.0        0.0   \n",
       "18                     9728.0             402380.0           1.0        0.0   \n",
       "19                   121182.0             801812.0           0.0        0.0   \n",
       "20                    60287.0             126940.0           0.0        0.0   \n",
       "21                   131936.0             458788.0           0.0        0.0   \n",
       "22                   891594.0            1081014.0           0.0        0.0   \n",
       "23                    95608.0             230626.0           0.0        0.0   \n",
       "24                   143051.0             245014.0           0.0        1.0   \n",
       "25                   107559.0             488356.0           0.0        0.0   \n",
       "26                   138339.0             221232.0           0.0        0.0   \n",
       "27                   342475.0             905344.0           0.0        0.0   \n",
       "28                   224390.0             295240.0           0.0        0.0   \n",
       "29                    28956.0              58014.0           0.0        0.0   \n",
       "...                       ...                  ...           ...        ...   \n",
       "99970                 14098.0             333300.0           0.0        0.0   \n",
       "99971                111283.0             162910.0           0.0        0.0   \n",
       "99972                120612.0             234322.0           0.0        0.0   \n",
       "99973                470250.0             821260.0           0.0        0.0   \n",
       "99974                 55119.0             375364.0           0.0        0.0   \n",
       "99975                102866.0             844712.0           0.0        0.0   \n",
       "99976                291650.0            1075492.0           0.0        0.0   \n",
       "99977                440572.0             824142.0           0.0        0.0   \n",
       "99978                241319.0             476806.0           0.0        0.0   \n",
       "99979                604485.0             969430.0           1.0        0.0   \n",
       "99980                347643.0             888558.0           0.0        0.0   \n",
       "99981                507414.0            1004322.0           0.0        0.0   \n",
       "99982                804175.0            1322662.0           0.0        0.0   \n",
       "99983                850820.0            1287792.0           0.0        0.0   \n",
       "99984                331474.0             433686.0           0.0        0.0   \n",
       "99985                387410.0            1705616.0           0.0        0.0   \n",
       "99986                669180.0            2299198.0           0.0        0.0   \n",
       "99987                100719.0             204600.0           0.0        0.0   \n",
       "99988                225872.0             892606.0           0.0        0.0   \n",
       "99989                485279.0             656414.0           0.0        0.0   \n",
       "99990                 37392.0             134442.0           0.0        0.0   \n",
       "99991                132012.0             242660.0           1.0        0.0   \n",
       "99992                 87875.0             239404.0           0.0        0.0   \n",
       "99993                961932.0                  0.0           0.0        0.0   \n",
       "99994                   456.0             259160.0           0.0        0.0   \n",
       "99995                 47766.0             658548.0           0.0        0.0   \n",
       "99996                153045.0             509234.0           0.0        0.0   \n",
       "99997                109554.0             537548.0           1.0        0.0   \n",
       "99998                404225.0             738254.0           0.0        0.0   \n",
       "99999                 45600.0              91014.0           1.0        0.0   \n",
       "\n",
       "       default  loan_term  \n",
       "0            0          1  \n",
       "1            0          1  \n",
       "2            0          1  \n",
       "3            0          1  \n",
       "4            0          1  \n",
       "5            1          1  \n",
       "6            0          1  \n",
       "7            1          1  \n",
       "8            0          1  \n",
       "9            0          1  \n",
       "10           0          1  \n",
       "11           0          1  \n",
       "12           0          1  \n",
       "13           0          1  \n",
       "14           0          1  \n",
       "15           0          1  \n",
       "16           1          1  \n",
       "17           0          1  \n",
       "18           0          1  \n",
       "19           0          1  \n",
       "20           1          1  \n",
       "21           0          1  \n",
       "22           1          1  \n",
       "23           0          1  \n",
       "24           0          1  \n",
       "25           0          1  \n",
       "26           0          1  \n",
       "27           0          1  \n",
       "28           0          1  \n",
       "29           0          1  \n",
       "...        ...        ...  \n",
       "99970        0          1  \n",
       "99971        0          1  \n",
       "99972        0          1  \n",
       "99973        0          1  \n",
       "99974        0          1  \n",
       "99975        1          1  \n",
       "99976        0          1  \n",
       "99977        0          1  \n",
       "99978        0          1  \n",
       "99979        0          1  \n",
       "99980        0          1  \n",
       "99981        1          1  \n",
       "99982        0          1  \n",
       "99983        0          1  \n",
       "99984        0          1  \n",
       "99985        0          1  \n",
       "99986        0          1  \n",
       "99987        0          1  \n",
       "99988        1          1  \n",
       "99989        1          1  \n",
       "99990        0          1  \n",
       "99991        0          1  \n",
       "99992        0          1  \n",
       "99993        0          1  \n",
       "99994        0          1  \n",
       "99995        0          1  \n",
       "99996        0          1  \n",
       "99997        0          1  \n",
       "99998        0          1  \n",
       "99999        0          1  \n",
       "\n",
       "[100000 rows x 18 columns]"
      ]
     },
     "execution_count": 11,
     "metadata": {},
     "output_type": "execute_result"
    },
    {
     "data": {
      "application/javascript": [
       "\n",
       "            setTimeout(function() {\n",
       "                var nbb_cell_id = 11;\n",
       "                var nbb_unformatted_code = \"data\";\n",
       "                var nbb_formatted_code = \"data\";\n",
       "                var nbb_cells = Jupyter.notebook.get_cells();\n",
       "                for (var i = 0; i < nbb_cells.length; ++i) {\n",
       "                    if (nbb_cells[i].input_prompt_number == nbb_cell_id) {\n",
       "                        if (nbb_cells[i].get_text() == nbb_unformatted_code) {\n",
       "                             nbb_cells[i].set_text(nbb_formatted_code);\n",
       "                        }\n",
       "                        break;\n",
       "                    }\n",
       "                }\n",
       "            }, 500);\n",
       "            "
      ],
      "text/plain": [
       "<IPython.core.display.Javascript object>"
      ]
     },
     "metadata": {},
     "output_type": "display_data"
    }
   ],
   "source": [
    "data"
   ]
  },
  {
   "cell_type": "code",
   "execution_count": 12,
   "metadata": {},
   "outputs": [
    {
     "name": "stdout",
     "output_type": "stream",
     "text": [
      "100000\n",
      "36423\n"
     ]
    },
    {
     "data": {
      "application/javascript": [
       "\n",
       "            setTimeout(function() {\n",
       "                var nbb_cell_id = 12;\n",
       "                var nbb_unformatted_code = \"# Check initial number of observations - 100,000\\nprint(len(data))\\n# Check number of observations if we remove rows with missing data - 36,423\\ndata_dropna = data.dropna()\\nprint(len(data_dropna))\";\n",
       "                var nbb_formatted_code = \"# Check initial number of observations - 100,000\\nprint(len(data))\\n# Check number of observations if we remove rows with missing data - 36,423\\ndata_dropna = data.dropna()\\nprint(len(data_dropna))\";\n",
       "                var nbb_cells = Jupyter.notebook.get_cells();\n",
       "                for (var i = 0; i < nbb_cells.length; ++i) {\n",
       "                    if (nbb_cells[i].input_prompt_number == nbb_cell_id) {\n",
       "                        if (nbb_cells[i].get_text() == nbb_unformatted_code) {\n",
       "                             nbb_cells[i].set_text(nbb_formatted_code);\n",
       "                        }\n",
       "                        break;\n",
       "                    }\n",
       "                }\n",
       "            }, 500);\n",
       "            "
      ],
      "text/plain": [
       "<IPython.core.display.Javascript object>"
      ]
     },
     "metadata": {},
     "output_type": "display_data"
    }
   ],
   "source": [
    "# Check initial number of observations - 100,000\n",
    "print(len(data))\n",
    "# Check number of observations if we remove rows with missing data - 36,423\n",
    "data_dropna = data.dropna()\n",
    "print(len(data_dropna))"
   ]
  },
  {
   "cell_type": "code",
   "execution_count": 13,
   "metadata": {},
   "outputs": [
    {
     "data": {
      "text/plain": [
       "<matplotlib.axes._subplots.AxesSubplot at 0x1a1f27e8148>"
      ]
     },
     "execution_count": 13,
     "metadata": {},
     "output_type": "execute_result"
    },
    {
     "data": {
      "image/png": "[encoded data removed]",
      "text/plain": [
       "<Figure size 432x288 with 1 Axes>"
      ]
     },
     "metadata": {
      "needs_background": "light"
     },
     "output_type": "display_data"
    },
    {
     "data": {
      "application/javascript": [
       "\n",
       "            setTimeout(function() {\n",
       "                var nbb_cell_id = 13;\n",
       "                var nbb_unformatted_code = \"coffvalue = data_dropna[data_dropna[\\\"default\\\"] == 0][\\\"default\\\"].count()\\nfpaidvalue = data_dropna[data_dropna[\\\"default\\\"] == 1][\\\"default\\\"].count()\\ndata_plot = {\\\"Counts\\\": [coffvalue, fpaidvalue]}\\nstatusDF = pd.DataFrame(data_plot, index=[1, 0])\\n# statusDF.head()\\nstatusDF.plot(kind=\\\"bar\\\", title=\\\"Status of the Loan\\\")\";\n",
       "                var nbb_formatted_code = \"coffvalue = data_dropna[data_dropna[\\\"default\\\"] == 0][\\\"default\\\"].count()\\nfpaidvalue = data_dropna[data_dropna[\\\"default\\\"] == 1][\\\"default\\\"].count()\\ndata_plot = {\\\"Counts\\\": [coffvalue, fpaidvalue]}\\nstatusDF = pd.DataFrame(data_plot, index=[1, 0])\\n# statusDF.head()\\nstatusDF.plot(kind=\\\"bar\\\", title=\\\"Status of the Loan\\\")\";\n",
       "                var nbb_cells = Jupyter.notebook.get_cells();\n",
       "                for (var i = 0; i < nbb_cells.length; ++i) {\n",
       "                    if (nbb_cells[i].input_prompt_number == nbb_cell_id) {\n",
       "                        if (nbb_cells[i].get_text() == nbb_unformatted_code) {\n",
       "                             nbb_cells[i].set_text(nbb_formatted_code);\n",
       "                        }\n",
       "                        break;\n",
       "                    }\n",
       "                }\n",
       "            }, 500);\n",
       "            "
      ],
      "text/plain": [
       "<IPython.core.display.Javascript object>"
      ]
     },
     "metadata": {},
     "output_type": "display_data"
    }
   ],
   "source": [
    "coffvalue = data_dropna[data_dropna[\"default\"] == 0][\"default\"].count()\n",
    "fpaidvalue = data_dropna[data_dropna[\"default\"] == 1][\"default\"].count()\n",
    "data_plot = {\"Counts\": [coffvalue, fpaidvalue]}\n",
    "statusDF = pd.DataFrame(data_plot, index=[1, 0])\n",
    "# statusDF.head()\n",
    "statusDF.plot(kind=\"bar\", title=\"Status of the Loan\")"
   ]
  },
  {
   "cell_type": "code",
   "execution_count": 14,
   "metadata": {},
   "outputs": [
    {
     "data": {
      "text/html": [
       "<div>\n",
       "<style scoped>\n",
       "    .dataframe tbody tr th:only-of-type {\n",
       "        vertical-align: middle;\n",
       "    }\n",
       "\n",
       "    .dataframe tbody tr th {\n",
       "        vertical-align: top;\n",
       "    }\n",
       "\n",
       "    .dataframe thead th {\n",
       "        text-align: right;\n",
       "    }\n",
       "</style>\n",
       "<table border=\"1\" class=\"dataframe\">\n",
       "  <thead>\n",
       "    <tr style=\"text-align: right;\">\n",
       "      <th></th>\n",
       "      <th>Count default</th>\n",
       "    </tr>\n",
       "  </thead>\n",
       "  <tbody>\n",
       "    <tr>\n",
       "      <th>Default</th>\n",
       "      <td>28972</td>\n",
       "    </tr>\n",
       "    <tr>\n",
       "      <th>Performing</th>\n",
       "      <td>7451</td>\n",
       "    </tr>\n",
       "  </tbody>\n",
       "</table>\n",
       "</div>"
      ],
      "text/plain": [
       "            Count default\n",
       "Default             28972\n",
       "Performing           7451"
      ]
     },
     "execution_count": 14,
     "metadata": {},
     "output_type": "execute_result"
    },
    {
     "data": {
      "application/javascript": [
       "\n",
       "            setTimeout(function() {\n",
       "                var nbb_cell_id = 14;\n",
       "                var nbb_unformatted_code = \"performing = data_dropna[data_dropna[\\\"default\\\"] == 0][\\\"default\\\"].count()\\ndefaults = data_dropna[data_dropna[\\\"default\\\"] == 1][\\\"default\\\"].count()\\n\\ncount_defaults = {\\\"Count default\\\": [performing, defaults]}\\ncount_defaults_df = pd.DataFrame(count_defaults, index=[\\\"Default\\\", \\\"Performing\\\"])\\ncount_defaults_df.head()\";\n",
       "                var nbb_formatted_code = \"performing = data_dropna[data_dropna[\\\"default\\\"] == 0][\\\"default\\\"].count()\\ndefaults = data_dropna[data_dropna[\\\"default\\\"] == 1][\\\"default\\\"].count()\\n\\ncount_defaults = {\\\"Count default\\\": [performing, defaults]}\\ncount_defaults_df = pd.DataFrame(count_defaults, index=[\\\"Default\\\", \\\"Performing\\\"])\\ncount_defaults_df.head()\";\n",
       "                var nbb_cells = Jupyter.notebook.get_cells();\n",
       "                for (var i = 0; i < nbb_cells.length; ++i) {\n",
       "                    if (nbb_cells[i].input_prompt_number == nbb_cell_id) {\n",
       "                        if (nbb_cells[i].get_text() == nbb_unformatted_code) {\n",
       "                             nbb_cells[i].set_text(nbb_formatted_code);\n",
       "                        }\n",
       "                        break;\n",
       "                    }\n",
       "                }\n",
       "            }, 500);\n",
       "            "
      ],
      "text/plain": [
       "<IPython.core.display.Javascript object>"
      ]
     },
     "metadata": {},
     "output_type": "display_data"
    }
   ],
   "source": [
    "performing = data_dropna[data_dropna[\"default\"] == 0][\"default\"].count()\n",
    "defaults = data_dropna[data_dropna[\"default\"] == 1][\"default\"].count()\n",
    "\n",
    "count_defaults = {\"Count default\": [performing, defaults]}\n",
    "count_defaults_df = pd.DataFrame(count_defaults, index=[\"Default\", \"Performing\"])\n",
    "count_defaults_df.head()"
   ]
  },
  {
   "cell_type": "code",
   "execution_count": 15,
   "metadata": {},
   "outputs": [
    {
     "data": {
      "text/html": [
       "<div>\n",
       "<style scoped>\n",
       "    .dataframe tbody tr th:only-of-type {\n",
       "        vertical-align: middle;\n",
       "    }\n",
       "\n",
       "    .dataframe tbody tr th {\n",
       "        vertical-align: top;\n",
       "    }\n",
       "\n",
       "    .dataframe thead th {\n",
       "        text-align: right;\n",
       "    }\n",
       "</style>\n",
       "<table border=\"1\" class=\"dataframe\">\n",
       "  <thead>\n",
       "    <tr style=\"text-align: right;\">\n",
       "      <th></th>\n",
       "      <th>Count term</th>\n",
       "    </tr>\n",
       "  </thead>\n",
       "  <tbody>\n",
       "    <tr>\n",
       "      <th>Short term</th>\n",
       "      <td>0</td>\n",
       "    </tr>\n",
       "    <tr>\n",
       "      <th>Long term</th>\n",
       "      <td>36423</td>\n",
       "    </tr>\n",
       "  </tbody>\n",
       "</table>\n",
       "</div>"
      ],
      "text/plain": [
       "            Count term\n",
       "Short term           0\n",
       "Long term        36423"
      ]
     },
     "execution_count": 15,
     "metadata": {},
     "output_type": "execute_result"
    },
    {
     "data": {
      "application/javascript": [
       "\n",
       "            setTimeout(function() {\n",
       "                var nbb_cell_id = 15;\n",
       "                var nbb_unformatted_code = \"st = data_dropna[data_dropna[\\\"loan_term\\\"] == 0][\\\"loan_term\\\"].count()\\nlt = data_dropna[data_dropna[\\\"loan_term\\\"] == 1][\\\"loan_term\\\"].count()\\n\\ncount_term = {\\\"Count term\\\": [st, lt]}\\ncount_term_df = pd.DataFrame(count_term, index=[\\\"Short term\\\", \\\"Long term\\\"])\\ncount_term_df.head()\";\n",
       "                var nbb_formatted_code = \"st = data_dropna[data_dropna[\\\"loan_term\\\"] == 0][\\\"loan_term\\\"].count()\\nlt = data_dropna[data_dropna[\\\"loan_term\\\"] == 1][\\\"loan_term\\\"].count()\\n\\ncount_term = {\\\"Count term\\\": [st, lt]}\\ncount_term_df = pd.DataFrame(count_term, index=[\\\"Short term\\\", \\\"Long term\\\"])\\ncount_term_df.head()\";\n",
       "                var nbb_cells = Jupyter.notebook.get_cells();\n",
       "                for (var i = 0; i < nbb_cells.length; ++i) {\n",
       "                    if (nbb_cells[i].input_prompt_number == nbb_cell_id) {\n",
       "                        if (nbb_cells[i].get_text() == nbb_unformatted_code) {\n",
       "                             nbb_cells[i].set_text(nbb_formatted_code);\n",
       "                        }\n",
       "                        break;\n",
       "                    }\n",
       "                }\n",
       "            }, 500);\n",
       "            "
      ],
      "text/plain": [
       "<IPython.core.display.Javascript object>"
      ]
     },
     "metadata": {},
     "output_type": "display_data"
    }
   ],
   "source": [
    "st = data_dropna[data_dropna[\"loan_term\"] == 0][\"loan_term\"].count()\n",
    "lt = data_dropna[data_dropna[\"loan_term\"] == 1][\"loan_term\"].count()\n",
    "\n",
    "count_term = {\"Count term\": [st, lt]}\n",
    "count_term_df = pd.DataFrame(count_term, index=[\"Short term\", \"Long term\"])\n",
    "count_term_df.head()"
   ]
  },
  {
   "cell_type": "markdown",
   "metadata": {},
   "source": [
    "## Variable transformation"
   ]
  },
  {
   "cell_type": "markdown",
   "metadata": {},
   "source": [
    "### Credit Score"
   ]
  },
  {
   "cell_type": "markdown",
   "metadata": {},
   "source": [
    "Since our problem is a classification problem, we can't have continuos variables in our dataframe. After the calculation of the missing variables we give our credit scores a range based on Experian's Credit Score Range."
   ]
  },
  {
   "cell_type": "code",
   "execution_count": 16,
   "metadata": {},
   "outputs": [
    {
     "name": "stderr",
     "output_type": "stream",
     "text": [
      "C:\\Users\\Asus\\.conda\\envs\\py37\\lib\\site-packages\\ipykernel_launcher.py:2: SettingWithCopyWarning: \n",
      "A value is trying to be set on a copy of a slice from a DataFrame.\n",
      "Try using .loc[row_indexer,col_indexer] = value instead\n",
      "\n",
      "See the caveats in the documentation: http://pandas.pydata.org/pandas-docs/stable/indexing.html#indexing-view-versus-copy\n",
      "  \n",
      "C:\\Users\\Asus\\.conda\\envs\\py37\\lib\\site-packages\\ipykernel_launcher.py:5: SettingWithCopyWarning: \n",
      "A value is trying to be set on a copy of a slice from a DataFrame.\n",
      "Try using .loc[row_indexer,col_indexer] = value instead\n",
      "\n",
      "See the caveats in the documentation: http://pandas.pydata.org/pandas-docs/stable/indexing.html#indexing-view-versus-copy\n",
      "  \"\"\"\n",
      "C:\\Users\\Asus\\.conda\\envs\\py37\\lib\\site-packages\\ipykernel_launcher.py:8: SettingWithCopyWarning: \n",
      "A value is trying to be set on a copy of a slice from a DataFrame.\n",
      "Try using .loc[row_indexer,col_indexer] = value instead\n",
      "\n",
      "See the caveats in the documentation: http://pandas.pydata.org/pandas-docs/stable/indexing.html#indexing-view-versus-copy\n",
      "  \n",
      "C:\\Users\\Asus\\.conda\\envs\\py37\\lib\\site-packages\\ipykernel_launcher.py:11: SettingWithCopyWarning: \n",
      "A value is trying to be set on a copy of a slice from a DataFrame.\n",
      "Try using .loc[row_indexer,col_indexer] = value instead\n",
      "\n",
      "See the caveats in the documentation: http://pandas.pydata.org/pandas-docs/stable/indexing.html#indexing-view-versus-copy\n",
      "  # This is added back by InteractiveShellApp.init_path()\n",
      "C:\\Users\\Asus\\.conda\\envs\\py37\\lib\\site-packages\\ipykernel_launcher.py:14: SettingWithCopyWarning: \n",
      "A value is trying to be set on a copy of a slice from a DataFrame.\n",
      "Try using .loc[row_indexer,col_indexer] = value instead\n",
      "\n",
      "See the caveats in the documentation: http://pandas.pydata.org/pandas-docs/stable/indexing.html#indexing-view-versus-copy\n",
      "  \n"
     ]
    },
    {
     "data": {
      "application/javascript": [
       "\n",
       "            setTimeout(function() {\n",
       "                var nbb_cell_id = 16;\n",
       "                var nbb_unformatted_code = \"data_dropna[\\\"Credit Score\\\"] = data_dropna[\\\"Credit Score\\\"].apply(\\n    lambda val: \\\"Poor\\\" if np.isreal(val) and val < 580 else val\\n)\\ndata_dropna[\\\"Credit Score\\\"] = data_dropna[\\\"Credit Score\\\"].apply(\\n    lambda val: \\\"Average\\\" if np.isreal(val) and (val >= 580 and val < 670) else val\\n)\\ndata_dropna[\\\"Credit Score\\\"] = data_dropna[\\\"Credit Score\\\"].apply(\\n    lambda val: \\\"Good\\\" if np.isreal(val) and (val >= 670 and val < 740) else val\\n)\\ndata_dropna[\\\"Credit Score\\\"] = data_dropna[\\\"Credit Score\\\"].apply(\\n    lambda val: \\\"Very Good\\\" if np.isreal(val) and (val >= 740 and val < 800) else val\\n)\\ndata_dropna[\\\"Credit Score\\\"] = data_dropna[\\\"Credit Score\\\"].apply(\\n    lambda val: \\\"Exceptional\\\" if np.isreal(val) and (val >= 800 and val <= 850) else val\\n)\";\n",
       "                var nbb_formatted_code = \"data_dropna[\\\"Credit Score\\\"] = data_dropna[\\\"Credit Score\\\"].apply(\\n    lambda val: \\\"Poor\\\" if np.isreal(val) and val < 580 else val\\n)\\ndata_dropna[\\\"Credit Score\\\"] = data_dropna[\\\"Credit Score\\\"].apply(\\n    lambda val: \\\"Average\\\" if np.isreal(val) and (val >= 580 and val < 670) else val\\n)\\ndata_dropna[\\\"Credit Score\\\"] = data_dropna[\\\"Credit Score\\\"].apply(\\n    lambda val: \\\"Good\\\" if np.isreal(val) and (val >= 670 and val < 740) else val\\n)\\ndata_dropna[\\\"Credit Score\\\"] = data_dropna[\\\"Credit Score\\\"].apply(\\n    lambda val: \\\"Very Good\\\" if np.isreal(val) and (val >= 740 and val < 800) else val\\n)\\ndata_dropna[\\\"Credit Score\\\"] = data_dropna[\\\"Credit Score\\\"].apply(\\n    lambda val: \\\"Exceptional\\\" if np.isreal(val) and (val >= 800 and val <= 850) else val\\n)\";\n",
       "                var nbb_cells = Jupyter.notebook.get_cells();\n",
       "                for (var i = 0; i < nbb_cells.length; ++i) {\n",
       "                    if (nbb_cells[i].input_prompt_number == nbb_cell_id) {\n",
       "                        if (nbb_cells[i].get_text() == nbb_unformatted_code) {\n",
       "                             nbb_cells[i].set_text(nbb_formatted_code);\n",
       "                        }\n",
       "                        break;\n",
       "                    }\n",
       "                }\n",
       "            }, 500);\n",
       "            "
      ],
      "text/plain": [
       "<IPython.core.display.Javascript object>"
      ]
     },
     "metadata": {},
     "output_type": "display_data"
    }
   ],
   "source": [
    "data_dropna[\"Credit Score\"] = data_dropna[\"Credit Score\"].apply(\n",
    "    lambda val: \"Poor\" if np.isreal(val) and val < 580 else val\n",
    ")\n",
    "data_dropna[\"Credit Score\"] = data_dropna[\"Credit Score\"].apply(\n",
    "    lambda val: \"Average\" if np.isreal(val) and (val >= 580 and val < 670) else val\n",
    ")\n",
    "data_dropna[\"Credit Score\"] = data_dropna[\"Credit Score\"].apply(\n",
    "    lambda val: \"Good\" if np.isreal(val) and (val >= 670 and val < 740) else val\n",
    ")\n",
    "data_dropna[\"Credit Score\"] = data_dropna[\"Credit Score\"].apply(\n",
    "    lambda val: \"Very Good\" if np.isreal(val) and (val >= 740 and val < 800) else val\n",
    ")\n",
    "data_dropna[\"Credit Score\"] = data_dropna[\"Credit Score\"].apply(\n",
    "    lambda val: \"Exceptional\" if np.isreal(val) and (val >= 800 and val <= 850) else val\n",
    ")"
   ]
  },
  {
   "cell_type": "code",
   "execution_count": 17,
   "metadata": {
    "scrolled": true
   },
   "outputs": [
    {
     "data": {
      "text/plain": [
       "<matplotlib.axes._subplots.AxesSubplot at 0x1a1f286aa48>"
      ]
     },
     "execution_count": 17,
     "metadata": {},
     "output_type": "execute_result"
    },
    {
     "data": {
      "image/png": "[encoded data removed]",
      "text/plain": [
       "<Figure size 432x288 with 1 Axes>"
      ]
     },
     "metadata": {
      "needs_background": "light"
     },
     "output_type": "display_data"
    },
    {
     "data": {
      "application/javascript": [
       "\n",
       "            setTimeout(function() {\n",
       "                var nbb_cell_id = 17;\n",
       "                var nbb_unformatted_code = \"data_dropna[\\\"Credit Score\\\"].value_counts().sort_values(ascending=True).plot(\\n    kind=\\\"bar\\\", title=\\\"Number of loans in terms of Credit Score category\\\"\\n)\";\n",
       "                var nbb_formatted_code = \"data_dropna[\\\"Credit Score\\\"].value_counts().sort_values(ascending=True).plot(\\n    kind=\\\"bar\\\", title=\\\"Number of loans in terms of Credit Score category\\\"\\n)\";\n",
       "                var nbb_cells = Jupyter.notebook.get_cells();\n",
       "                for (var i = 0; i < nbb_cells.length; ++i) {\n",
       "                    if (nbb_cells[i].input_prompt_number == nbb_cell_id) {\n",
       "                        if (nbb_cells[i].get_text() == nbb_unformatted_code) {\n",
       "                             nbb_cells[i].set_text(nbb_formatted_code);\n",
       "                        }\n",
       "                        break;\n",
       "                    }\n",
       "                }\n",
       "            }, 500);\n",
       "            "
      ],
      "text/plain": [
       "<IPython.core.display.Javascript object>"
      ]
     },
     "metadata": {},
     "output_type": "display_data"
    }
   ],
   "source": [
    "data_dropna[\"Credit Score\"].value_counts().sort_values(ascending=True).plot(\n",
    "    kind=\"bar\", title=\"Number of loans in terms of Credit Score category\"\n",
    ")"
   ]
  },
  {
   "cell_type": "markdown",
   "metadata": {},
   "source": [
    "## Univariate Analysis"
   ]
  },
  {
   "cell_type": "markdown",
   "metadata": {},
   "source": [
    "Check if the explanatory variables have reasonable trends <br>\n",
    "1. Credit score - yes (33% defaults for average, 20% defaults for good and 14% defaults for Very Good)"
   ]
  },
  {
   "cell_type": "markdown",
   "metadata": {},
   "source": [
    "#### Credit Score"
   ]
  },
  {
   "cell_type": "code",
   "execution_count": 18,
   "metadata": {},
   "outputs": [
    {
     "data": {
      "text/html": [
       "<div>\n",
       "<style scoped>\n",
       "    .dataframe tbody tr th:only-of-type {\n",
       "        vertical-align: middle;\n",
       "    }\n",
       "\n",
       "    .dataframe tbody tr th {\n",
       "        vertical-align: top;\n",
       "    }\n",
       "\n",
       "    .dataframe thead th {\n",
       "        text-align: right;\n",
       "    }\n",
       "</style>\n",
       "<table border=\"1\" class=\"dataframe\">\n",
       "  <thead>\n",
       "    <tr style=\"text-align: right;\">\n",
       "      <th>default</th>\n",
       "      <th>0</th>\n",
       "      <th>1</th>\n",
       "    </tr>\n",
       "    <tr>\n",
       "      <th>Credit Score</th>\n",
       "      <th></th>\n",
       "      <th></th>\n",
       "    </tr>\n",
       "  </thead>\n",
       "  <tbody>\n",
       "    <tr>\n",
       "      <th>Average</th>\n",
       "      <td>2004</td>\n",
       "      <td>998</td>\n",
       "    </tr>\n",
       "    <tr>\n",
       "      <th>Good</th>\n",
       "      <td>21499</td>\n",
       "      <td>5561</td>\n",
       "    </tr>\n",
       "    <tr>\n",
       "      <th>Very Good</th>\n",
       "      <td>5469</td>\n",
       "      <td>892</td>\n",
       "    </tr>\n",
       "  </tbody>\n",
       "</table>\n",
       "</div>"
      ],
      "text/plain": [
       "default           0     1\n",
       "Credit Score             \n",
       "Average        2004   998\n",
       "Good          21499  5561\n",
       "Very Good      5469   892"
      ]
     },
     "execution_count": 18,
     "metadata": {},
     "output_type": "execute_result"
    },
    {
     "data": {
      "application/javascript": [
       "\n",
       "            setTimeout(function() {\n",
       "                var nbb_cell_id = 18;\n",
       "                var nbb_unformatted_code = \"pd.crosstab(data_dropna[\\\"Credit Score\\\"], data_dropna[\\\"default\\\"])\";\n",
       "                var nbb_formatted_code = \"pd.crosstab(data_dropna[\\\"Credit Score\\\"], data_dropna[\\\"default\\\"])\";\n",
       "                var nbb_cells = Jupyter.notebook.get_cells();\n",
       "                for (var i = 0; i < nbb_cells.length; ++i) {\n",
       "                    if (nbb_cells[i].input_prompt_number == nbb_cell_id) {\n",
       "                        if (nbb_cells[i].get_text() == nbb_unformatted_code) {\n",
       "                             nbb_cells[i].set_text(nbb_formatted_code);\n",
       "                        }\n",
       "                        break;\n",
       "                    }\n",
       "                }\n",
       "            }, 500);\n",
       "            "
      ],
      "text/plain": [
       "<IPython.core.display.Javascript object>"
      ]
     },
     "metadata": {},
     "output_type": "display_data"
    }
   ],
   "source": [
    "pd.crosstab(data_dropna[\"Credit Score\"], data_dropna[\"default\"])"
   ]
  },
  {
   "cell_type": "code",
   "execution_count": 19,
   "metadata": {},
   "outputs": [
    {
     "data": {
      "text/html": [
       "<div>\n",
       "<style scoped>\n",
       "    .dataframe tbody tr th:only-of-type {\n",
       "        vertical-align: middle;\n",
       "    }\n",
       "\n",
       "    .dataframe tbody tr th {\n",
       "        vertical-align: top;\n",
       "    }\n",
       "\n",
       "    .dataframe thead th {\n",
       "        text-align: right;\n",
       "    }\n",
       "</style>\n",
       "<table border=\"1\" class=\"dataframe\">\n",
       "  <thead>\n",
       "    <tr style=\"text-align: right;\">\n",
       "      <th>default</th>\n",
       "      <th>0</th>\n",
       "      <th>1</th>\n",
       "    </tr>\n",
       "    <tr>\n",
       "      <th>Credit Score</th>\n",
       "      <th></th>\n",
       "      <th></th>\n",
       "    </tr>\n",
       "  </thead>\n",
       "  <tbody>\n",
       "    <tr>\n",
       "      <th>Average</th>\n",
       "      <td>0.667555</td>\n",
       "      <td>0.332445</td>\n",
       "    </tr>\n",
       "    <tr>\n",
       "      <th>Good</th>\n",
       "      <td>0.794494</td>\n",
       "      <td>0.205506</td>\n",
       "    </tr>\n",
       "    <tr>\n",
       "      <th>Very Good</th>\n",
       "      <td>0.859770</td>\n",
       "      <td>0.140230</td>\n",
       "    </tr>\n",
       "  </tbody>\n",
       "</table>\n",
       "</div>"
      ],
      "text/plain": [
       "default              0         1\n",
       "Credit Score                    \n",
       "Average       0.667555  0.332445\n",
       "Good          0.794494  0.205506\n",
       "Very Good     0.859770  0.140230"
      ]
     },
     "execution_count": 19,
     "metadata": {},
     "output_type": "execute_result"
    },
    {
     "data": {
      "application/javascript": [
       "\n",
       "            setTimeout(function() {\n",
       "                var nbb_cell_id = 19;\n",
       "                var nbb_unformatted_code = \"pd.crosstab(data_dropna[\\\"Credit Score\\\"], data_dropna[\\\"default\\\"]).apply(\\n    lambda r: r / r.sum(), axis=1\\n)\";\n",
       "                var nbb_formatted_code = \"pd.crosstab(data_dropna[\\\"Credit Score\\\"], data_dropna[\\\"default\\\"]).apply(\\n    lambda r: r / r.sum(), axis=1\\n)\";\n",
       "                var nbb_cells = Jupyter.notebook.get_cells();\n",
       "                for (var i = 0; i < nbb_cells.length; ++i) {\n",
       "                    if (nbb_cells[i].input_prompt_number == nbb_cell_id) {\n",
       "                        if (nbb_cells[i].get_text() == nbb_unformatted_code) {\n",
       "                             nbb_cells[i].set_text(nbb_formatted_code);\n",
       "                        }\n",
       "                        break;\n",
       "                    }\n",
       "                }\n",
       "            }, 500);\n",
       "            "
      ],
      "text/plain": [
       "<IPython.core.display.Javascript object>"
      ]
     },
     "metadata": {},
     "output_type": "display_data"
    }
   ],
   "source": [
    "pd.crosstab(data_dropna[\"Credit Score\"], data_dropna[\"default\"]).apply(\n",
    "    lambda r: r / r.sum(), axis=1\n",
    ")"
   ]
  },
  {
   "cell_type": "markdown",
   "metadata": {},
   "source": [
    "#### Current Loan Amount"
   ]
  },
  {
   "cell_type": "code",
   "execution_count": 20,
   "metadata": {},
   "outputs": [
    {
     "data": {
      "application/javascript": [
       "\n",
       "            setTimeout(function() {\n",
       "                var nbb_cell_id = 20;\n",
       "                var nbb_unformatted_code = \"# Drop values with current loan amount = 99999999.00\\n# Remove debt=0\";\n",
       "                var nbb_formatted_code = \"# Drop values with current loan amount = 99999999.00\\n# Remove debt=0\";\n",
       "                var nbb_cells = Jupyter.notebook.get_cells();\n",
       "                for (var i = 0; i < nbb_cells.length; ++i) {\n",
       "                    if (nbb_cells[i].input_prompt_number == nbb_cell_id) {\n",
       "                        if (nbb_cells[i].get_text() == nbb_unformatted_code) {\n",
       "                             nbb_cells[i].set_text(nbb_formatted_code);\n",
       "                        }\n",
       "                        break;\n",
       "                    }\n",
       "                }\n",
       "            }, 500);\n",
       "            "
      ],
      "text/plain": [
       "<IPython.core.display.Javascript object>"
      ]
     },
     "metadata": {},
     "output_type": "display_data"
    }
   ],
   "source": [
    "# Drop values with current loan amount = 99999999.00\n",
    "# Remove debt=0"
   ]
  },
  {
   "cell_type": "code",
   "execution_count": 21,
   "metadata": {},
   "outputs": [
    {
     "name": "stdout",
     "output_type": "stream",
     "text": [
      "31488\n"
     ]
    },
    {
     "data": {
      "application/javascript": [
       "\n",
       "            setTimeout(function() {\n",
       "                var nbb_cell_id = 21;\n",
       "                var nbb_unformatted_code = \"data_dropna = data_dropna[data_dropna[\\\"Current Loan Amount\\\"] != 99999999]\\ndata_dropna = data_dropna[data_dropna[\\\"Monthly Debt\\\"] != 0]\\nprint(len(data_dropna))\";\n",
       "                var nbb_formatted_code = \"data_dropna = data_dropna[data_dropna[\\\"Current Loan Amount\\\"] != 99999999]\\ndata_dropna = data_dropna[data_dropna[\\\"Monthly Debt\\\"] != 0]\\nprint(len(data_dropna))\";\n",
       "                var nbb_cells = Jupyter.notebook.get_cells();\n",
       "                for (var i = 0; i < nbb_cells.length; ++i) {\n",
       "                    if (nbb_cells[i].input_prompt_number == nbb_cell_id) {\n",
       "                        if (nbb_cells[i].get_text() == nbb_unformatted_code) {\n",
       "                             nbb_cells[i].set_text(nbb_formatted_code);\n",
       "                        }\n",
       "                        break;\n",
       "                    }\n",
       "                }\n",
       "            }, 500);\n",
       "            "
      ],
      "text/plain": [
       "<IPython.core.display.Javascript object>"
      ]
     },
     "metadata": {},
     "output_type": "display_data"
    }
   ],
   "source": [
    "data_dropna = data_dropna[data_dropna[\"Current Loan Amount\"] != 99999999]\n",
    "data_dropna = data_dropna[data_dropna[\"Monthly Debt\"] != 0]\n",
    "print(len(data_dropna))"
   ]
  },
  {
   "cell_type": "code",
   "execution_count": 22,
   "metadata": {},
   "outputs": [
    {
     "data": {
      "image/png": "[encoded data removed]",
      "text/plain": [
       "<Figure size 432x288 with 1 Axes>"
      ]
     },
     "metadata": {
      "needs_background": "light"
     },
     "output_type": "display_data"
    },
    {
     "data": {
      "application/javascript": [
       "\n",
       "            setTimeout(function() {\n",
       "                var nbb_cell_id = 22;\n",
       "                var nbb_unformatted_code = \"plt.hist(data_dropna[\\\"Current Loan Amount\\\"], bins=5)\\nplt.show()\";\n",
       "                var nbb_formatted_code = \"plt.hist(data_dropna[\\\"Current Loan Amount\\\"], bins=5)\\nplt.show()\";\n",
       "                var nbb_cells = Jupyter.notebook.get_cells();\n",
       "                for (var i = 0; i < nbb_cells.length; ++i) {\n",
       "                    if (nbb_cells[i].input_prompt_number == nbb_cell_id) {\n",
       "                        if (nbb_cells[i].get_text() == nbb_unformatted_code) {\n",
       "                             nbb_cells[i].set_text(nbb_formatted_code);\n",
       "                        }\n",
       "                        break;\n",
       "                    }\n",
       "                }\n",
       "            }, 500);\n",
       "            "
      ],
      "text/plain": [
       "<IPython.core.display.Javascript object>"
      ]
     },
     "metadata": {},
     "output_type": "display_data"
    }
   ],
   "source": [
    "plt.hist(data_dropna[\"Current Loan Amount\"], bins=5)\n",
    "plt.show()"
   ]
  },
  {
   "cell_type": "code",
   "execution_count": 23,
   "metadata": {},
   "outputs": [
    {
     "data": {
      "application/javascript": [
       "\n",
       "            setTimeout(function() {\n",
       "                var nbb_cell_id = 23;\n",
       "                var nbb_unformatted_code = \"data_dropna[\\\"Current Loan Amount\\\"] = data_dropna[\\\"Current Loan Amount\\\"].apply(\\n    lambda val: \\\"LoanAmount 1: <=100 000\\\" if np.isreal(val) and val <= 100000 else val\\n)\\ndata_dropna[\\\"Current Loan Amount\\\"] = data_dropna[\\\"Current Loan Amount\\\"].apply(\\n    lambda val: \\\"LoanAmount 2: >100 000 and <=200 000 \\\"\\n    if np.isreal(val) and val > 100000 and val <= 200000\\n    else val\\n)\\ndata_dropna[\\\"Current Loan Amount\\\"] = data_dropna[\\\"Current Loan Amount\\\"].apply(\\n    lambda val: \\\"LoanAmount 3: >200 000 and <=300 000 \\\"\\n    if np.isreal(val) and val > 200000 and val <= 300000\\n    else val\\n)\\ndata_dropna[\\\"Current Loan Amount\\\"] = data_dropna[\\\"Current Loan Amount\\\"].apply(\\n    lambda val: \\\"LoanAmount 3: >300 000 and <=400 000 \\\"\\n    if np.isreal(val) and val > 300000 and val <= 400000\\n    else val\\n)\\ndata_dropna[\\\"Current Loan Amount\\\"] = data_dropna[\\\"Current Loan Amount\\\"].apply(\\n    lambda val: \\\"LoanAmount 4: >400 000 and <=500 000 \\\"\\n    if np.isreal(val) and val > 400000 and val <= 500000\\n    else val\\n)\\ndata_dropna[\\\"Current Loan Amount\\\"] = data_dropna[\\\"Current Loan Amount\\\"].apply(\\n    lambda val: \\\"LoanAmount 5: >500 000 \\\" if np.isreal(val) and val > 500000 else val\\n)\";\n",
       "                var nbb_formatted_code = \"data_dropna[\\\"Current Loan Amount\\\"] = data_dropna[\\\"Current Loan Amount\\\"].apply(\\n    lambda val: \\\"LoanAmount 1: <=100 000\\\" if np.isreal(val) and val <= 100000 else val\\n)\\ndata_dropna[\\\"Current Loan Amount\\\"] = data_dropna[\\\"Current Loan Amount\\\"].apply(\\n    lambda val: \\\"LoanAmount 2: >100 000 and <=200 000 \\\"\\n    if np.isreal(val) and val > 100000 and val <= 200000\\n    else val\\n)\\ndata_dropna[\\\"Current Loan Amount\\\"] = data_dropna[\\\"Current Loan Amount\\\"].apply(\\n    lambda val: \\\"LoanAmount 3: >200 000 and <=300 000 \\\"\\n    if np.isreal(val) and val > 200000 and val <= 300000\\n    else val\\n)\\ndata_dropna[\\\"Current Loan Amount\\\"] = data_dropna[\\\"Current Loan Amount\\\"].apply(\\n    lambda val: \\\"LoanAmount 3: >300 000 and <=400 000 \\\"\\n    if np.isreal(val) and val > 300000 and val <= 400000\\n    else val\\n)\\ndata_dropna[\\\"Current Loan Amount\\\"] = data_dropna[\\\"Current Loan Amount\\\"].apply(\\n    lambda val: \\\"LoanAmount 4: >400 000 and <=500 000 \\\"\\n    if np.isreal(val) and val > 400000 and val <= 500000\\n    else val\\n)\\ndata_dropna[\\\"Current Loan Amount\\\"] = data_dropna[\\\"Current Loan Amount\\\"].apply(\\n    lambda val: \\\"LoanAmount 5: >500 000 \\\" if np.isreal(val) and val > 500000 else val\\n)\";\n",
       "                var nbb_cells = Jupyter.notebook.get_cells();\n",
       "                for (var i = 0; i < nbb_cells.length; ++i) {\n",
       "                    if (nbb_cells[i].input_prompt_number == nbb_cell_id) {\n",
       "                        if (nbb_cells[i].get_text() == nbb_unformatted_code) {\n",
       "                             nbb_cells[i].set_text(nbb_formatted_code);\n",
       "                        }\n",
       "                        break;\n",
       "                    }\n",
       "                }\n",
       "            }, 500);\n",
       "            "
      ],
      "text/plain": [
       "<IPython.core.display.Javascript object>"
      ]
     },
     "metadata": {},
     "output_type": "display_data"
    }
   ],
   "source": [
    "data_dropna[\"Current Loan Amount\"] = data_dropna[\"Current Loan Amount\"].apply(\n",
    "    lambda val: \"LoanAmount 1: <=100 000\" if np.isreal(val) and val <= 100000 else val\n",
    ")\n",
    "data_dropna[\"Current Loan Amount\"] = data_dropna[\"Current Loan Amount\"].apply(\n",
    "    lambda val: \"LoanAmount 2: >100 000 and <=200 000 \"\n",
    "    if np.isreal(val) and val > 100000 and val <= 200000\n",
    "    else val\n",
    ")\n",
    "data_dropna[\"Current Loan Amount\"] = data_dropna[\"Current Loan Amount\"].apply(\n",
    "    lambda val: \"LoanAmount 3: >200 000 and <=300 000 \"\n",
    "    if np.isreal(val) and val > 200000 and val <= 300000\n",
    "    else val\n",
    ")\n",
    "data_dropna[\"Current Loan Amount\"] = data_dropna[\"Current Loan Amount\"].apply(\n",
    "    lambda val: \"LoanAmount 3: >300 000 and <=400 000 \"\n",
    "    if np.isreal(val) and val > 300000 and val <= 400000\n",
    "    else val\n",
    ")\n",
    "data_dropna[\"Current Loan Amount\"] = data_dropna[\"Current Loan Amount\"].apply(\n",
    "    lambda val: \"LoanAmount 4: >400 000 and <=500 000 \"\n",
    "    if np.isreal(val) and val > 400000 and val <= 500000\n",
    "    else val\n",
    ")\n",
    "data_dropna[\"Current Loan Amount\"] = data_dropna[\"Current Loan Amount\"].apply(\n",
    "    lambda val: \"LoanAmount 5: >500 000 \" if np.isreal(val) and val > 500000 else val\n",
    ")"
   ]
  },
  {
   "cell_type": "markdown",
   "metadata": {},
   "source": [
    "#### Annual Income --> Debt to Income"
   ]
  },
  {
   "cell_type": "code",
   "execution_count": 24,
   "metadata": {},
   "outputs": [
    {
     "data": {
      "application/javascript": [
       "\n",
       "            setTimeout(function() {\n",
       "                var nbb_cell_id = 24;\n",
       "                var nbb_unformatted_code = \"data_dropna[\\\"Monthly Income\\\"] = data_dropna[\\\"Annual Income\\\"] / 12\\ndata_dropna[\\\"Debt to Income\\\"] = (\\n    data_dropna[\\\"Monthly Debt\\\"] / data_dropna[\\\"Monthly Income\\\"]\\n)\";\n",
       "                var nbb_formatted_code = \"data_dropna[\\\"Monthly Income\\\"] = data_dropna[\\\"Annual Income\\\"] / 12\\ndata_dropna[\\\"Debt to Income\\\"] = (\\n    data_dropna[\\\"Monthly Debt\\\"] / data_dropna[\\\"Monthly Income\\\"]\\n)\";\n",
       "                var nbb_cells = Jupyter.notebook.get_cells();\n",
       "                for (var i = 0; i < nbb_cells.length; ++i) {\n",
       "                    if (nbb_cells[i].input_prompt_number == nbb_cell_id) {\n",
       "                        if (nbb_cells[i].get_text() == nbb_unformatted_code) {\n",
       "                             nbb_cells[i].set_text(nbb_formatted_code);\n",
       "                        }\n",
       "                        break;\n",
       "                    }\n",
       "                }\n",
       "            }, 500);\n",
       "            "
      ],
      "text/plain": [
       "<IPython.core.display.Javascript object>"
      ]
     },
     "metadata": {},
     "output_type": "display_data"
    }
   ],
   "source": [
    "data_dropna[\"Monthly Income\"] = data_dropna[\"Annual Income\"] / 12\n",
    "data_dropna[\"Debt to Income\"] = (\n",
    "    data_dropna[\"Monthly Debt\"] / data_dropna[\"Monthly Income\"]\n",
    ")"
   ]
  },
  {
   "cell_type": "code",
   "execution_count": 25,
   "metadata": {},
   "outputs": [
    {
     "data": {
      "image/png": "[encoded data removed]",
      "text/plain": [
       "<Figure size 432x288 with 1 Axes>"
      ]
     },
     "metadata": {
      "needs_background": "light"
     },
     "output_type": "display_data"
    },
    {
     "data": {
      "application/javascript": [
       "\n",
       "            setTimeout(function() {\n",
       "                var nbb_cell_id = 25;\n",
       "                var nbb_unformatted_code = \"plt.hist(data_dropna[\\\"Debt to Income\\\"], bins=10)\\nplt.show()\";\n",
       "                var nbb_formatted_code = \"plt.hist(data_dropna[\\\"Debt to Income\\\"], bins=10)\\nplt.show()\";\n",
       "                var nbb_cells = Jupyter.notebook.get_cells();\n",
       "                for (var i = 0; i < nbb_cells.length; ++i) {\n",
       "                    if (nbb_cells[i].input_prompt_number == nbb_cell_id) {\n",
       "                        if (nbb_cells[i].get_text() == nbb_unformatted_code) {\n",
       "                             nbb_cells[i].set_text(nbb_formatted_code);\n",
       "                        }\n",
       "                        break;\n",
       "                    }\n",
       "                }\n",
       "            }, 500);\n",
       "            "
      ],
      "text/plain": [
       "<IPython.core.display.Javascript object>"
      ]
     },
     "metadata": {},
     "output_type": "display_data"
    }
   ],
   "source": [
    "plt.hist(data_dropna[\"Debt to Income\"], bins=10)\n",
    "plt.show()"
   ]
  },
  {
   "cell_type": "code",
   "execution_count": 26,
   "metadata": {},
   "outputs": [
    {
     "data": {
      "application/javascript": [
       "\n",
       "            setTimeout(function() {\n",
       "                var nbb_cell_id = 26;\n",
       "                var nbb_unformatted_code = \"data_dropna[\\\"Debt to Income v2\\\"] = data_dropna[\\\"Debt to Income\\\"].apply(\\n    lambda x: \\\"DTI 1: <=10%\\\"\\n    if x <= 0.1\\n    else (\\n        \\\"DTI 2: between 10 and 20%\\\"\\n        if x > 0.10 and x <= 0.20\\n        else (\\\"DTI 3: between 20 and 30%\\\")\\n        if x > 0.20 and x <= 0.30\\n        else \\\"DTI 4: >30%\\\"\\n    )\\n)\";\n",
       "                var nbb_formatted_code = \"data_dropna[\\\"Debt to Income v2\\\"] = data_dropna[\\\"Debt to Income\\\"].apply(\\n    lambda x: \\\"DTI 1: <=10%\\\"\\n    if x <= 0.1\\n    else (\\n        \\\"DTI 2: between 10 and 20%\\\"\\n        if x > 0.10 and x <= 0.20\\n        else (\\\"DTI 3: between 20 and 30%\\\")\\n        if x > 0.20 and x <= 0.30\\n        else \\\"DTI 4: >30%\\\"\\n    )\\n)\";\n",
       "                var nbb_cells = Jupyter.notebook.get_cells();\n",
       "                for (var i = 0; i < nbb_cells.length; ++i) {\n",
       "                    if (nbb_cells[i].input_prompt_number == nbb_cell_id) {\n",
       "                        if (nbb_cells[i].get_text() == nbb_unformatted_code) {\n",
       "                             nbb_cells[i].set_text(nbb_formatted_code);\n",
       "                        }\n",
       "                        break;\n",
       "                    }\n",
       "                }\n",
       "            }, 500);\n",
       "            "
      ],
      "text/plain": [
       "<IPython.core.display.Javascript object>"
      ]
     },
     "metadata": {},
     "output_type": "display_data"
    }
   ],
   "source": [
    "data_dropna[\"Debt to Income v2\"] = data_dropna[\"Debt to Income\"].apply(\n",
    "    lambda x: \"DTI 1: <=10%\"\n",
    "    if x <= 0.1\n",
    "    else (\n",
    "        \"DTI 2: between 10 and 20%\"\n",
    "        if x > 0.10 and x <= 0.20\n",
    "        else (\"DTI 3: between 20 and 30%\")\n",
    "        if x > 0.20 and x <= 0.30\n",
    "        else \"DTI 4: >30%\"\n",
    "    )\n",
    ")"
   ]
  },
  {
   "cell_type": "code",
   "execution_count": 27,
   "metadata": {},
   "outputs": [
    {
     "data": {
      "text/html": [
       "<div>\n",
       "<style scoped>\n",
       "    .dataframe tbody tr th:only-of-type {\n",
       "        vertical-align: middle;\n",
       "    }\n",
       "\n",
       "    .dataframe tbody tr th {\n",
       "        vertical-align: top;\n",
       "    }\n",
       "\n",
       "    .dataframe thead th {\n",
       "        text-align: right;\n",
       "    }\n",
       "</style>\n",
       "<table border=\"1\" class=\"dataframe\">\n",
       "  <thead>\n",
       "    <tr style=\"text-align: right;\">\n",
       "      <th>default</th>\n",
       "      <th>0</th>\n",
       "      <th>1</th>\n",
       "    </tr>\n",
       "    <tr>\n",
       "      <th>Debt to Income v2</th>\n",
       "      <th></th>\n",
       "      <th></th>\n",
       "    </tr>\n",
       "  </thead>\n",
       "  <tbody>\n",
       "    <tr>\n",
       "      <th>DTI 1: &lt;=10%</th>\n",
       "      <td>5285</td>\n",
       "      <td>1150</td>\n",
       "    </tr>\n",
       "    <tr>\n",
       "      <th>DTI 2: between 10 and 20%</th>\n",
       "      <td>10869</td>\n",
       "      <td>3187</td>\n",
       "    </tr>\n",
       "    <tr>\n",
       "      <th>DTI 3: between 20 and 30%</th>\n",
       "      <td>6476</td>\n",
       "      <td>2457</td>\n",
       "    </tr>\n",
       "    <tr>\n",
       "      <th>DTI 4: &gt;30%</th>\n",
       "      <td>1410</td>\n",
       "      <td>654</td>\n",
       "    </tr>\n",
       "  </tbody>\n",
       "</table>\n",
       "</div>"
      ],
      "text/plain": [
       "default                        0     1\n",
       "Debt to Income v2                     \n",
       "DTI 1: <=10%                5285  1150\n",
       "DTI 2: between 10 and 20%  10869  3187\n",
       "DTI 3: between 20 and 30%   6476  2457\n",
       "DTI 4: >30%                 1410   654"
      ]
     },
     "execution_count": 27,
     "metadata": {},
     "output_type": "execute_result"
    },
    {
     "data": {
      "application/javascript": [
       "\n",
       "            setTimeout(function() {\n",
       "                var nbb_cell_id = 27;\n",
       "                var nbb_unformatted_code = \"pd.crosstab(data_dropna[\\\"Debt to Income v2\\\"], data_dropna[\\\"default\\\"])\";\n",
       "                var nbb_formatted_code = \"pd.crosstab(data_dropna[\\\"Debt to Income v2\\\"], data_dropna[\\\"default\\\"])\";\n",
       "                var nbb_cells = Jupyter.notebook.get_cells();\n",
       "                for (var i = 0; i < nbb_cells.length; ++i) {\n",
       "                    if (nbb_cells[i].input_prompt_number == nbb_cell_id) {\n",
       "                        if (nbb_cells[i].get_text() == nbb_unformatted_code) {\n",
       "                             nbb_cells[i].set_text(nbb_formatted_code);\n",
       "                        }\n",
       "                        break;\n",
       "                    }\n",
       "                }\n",
       "            }, 500);\n",
       "            "
      ],
      "text/plain": [
       "<IPython.core.display.Javascript object>"
      ]
     },
     "metadata": {},
     "output_type": "display_data"
    }
   ],
   "source": [
    "pd.crosstab(data_dropna[\"Debt to Income v2\"], data_dropna[\"default\"])"
   ]
  },
  {
   "cell_type": "code",
   "execution_count": 28,
   "metadata": {},
   "outputs": [
    {
     "data": {
      "text/html": [
       "<div>\n",
       "<style scoped>\n",
       "    .dataframe tbody tr th:only-of-type {\n",
       "        vertical-align: middle;\n",
       "    }\n",
       "\n",
       "    .dataframe tbody tr th {\n",
       "        vertical-align: top;\n",
       "    }\n",
       "\n",
       "    .dataframe thead th {\n",
       "        text-align: right;\n",
       "    }\n",
       "</style>\n",
       "<table border=\"1\" class=\"dataframe\">\n",
       "  <thead>\n",
       "    <tr style=\"text-align: right;\">\n",
       "      <th>default</th>\n",
       "      <th>0</th>\n",
       "      <th>1</th>\n",
       "    </tr>\n",
       "    <tr>\n",
       "      <th>Debt to Income v2</th>\n",
       "      <th></th>\n",
       "      <th></th>\n",
       "    </tr>\n",
       "  </thead>\n",
       "  <tbody>\n",
       "    <tr>\n",
       "      <th>DTI 1: &lt;=10%</th>\n",
       "      <td>0.821290</td>\n",
       "      <td>0.178710</td>\n",
       "    </tr>\n",
       "    <tr>\n",
       "      <th>DTI 2: between 10 and 20%</th>\n",
       "      <td>0.773264</td>\n",
       "      <td>0.226736</td>\n",
       "    </tr>\n",
       "    <tr>\n",
       "      <th>DTI 3: between 20 and 30%</th>\n",
       "      <td>0.724952</td>\n",
       "      <td>0.275048</td>\n",
       "    </tr>\n",
       "    <tr>\n",
       "      <th>DTI 4: &gt;30%</th>\n",
       "      <td>0.683140</td>\n",
       "      <td>0.316860</td>\n",
       "    </tr>\n",
       "  </tbody>\n",
       "</table>\n",
       "</div>"
      ],
      "text/plain": [
       "default                           0         1\n",
       "Debt to Income v2                            \n",
       "DTI 1: <=10%               0.821290  0.178710\n",
       "DTI 2: between 10 and 20%  0.773264  0.226736\n",
       "DTI 3: between 20 and 30%  0.724952  0.275048\n",
       "DTI 4: >30%                0.683140  0.316860"
      ]
     },
     "execution_count": 28,
     "metadata": {},
     "output_type": "execute_result"
    },
    {
     "data": {
      "application/javascript": [
       "\n",
       "            setTimeout(function() {\n",
       "                var nbb_cell_id = 28;\n",
       "                var nbb_unformatted_code = \"pd.crosstab(data_dropna[\\\"Debt to Income v2\\\"], data_dropna[\\\"default\\\"]).apply(\\n    lambda r: r / r.sum(), axis=1\\n)\";\n",
       "                var nbb_formatted_code = \"pd.crosstab(data_dropna[\\\"Debt to Income v2\\\"], data_dropna[\\\"default\\\"]).apply(\\n    lambda r: r / r.sum(), axis=1\\n)\";\n",
       "                var nbb_cells = Jupyter.notebook.get_cells();\n",
       "                for (var i = 0; i < nbb_cells.length; ++i) {\n",
       "                    if (nbb_cells[i].input_prompt_number == nbb_cell_id) {\n",
       "                        if (nbb_cells[i].get_text() == nbb_unformatted_code) {\n",
       "                             nbb_cells[i].set_text(nbb_formatted_code);\n",
       "                        }\n",
       "                        break;\n",
       "                    }\n",
       "                }\n",
       "            }, 500);\n",
       "            "
      ],
      "text/plain": [
       "<IPython.core.display.Javascript object>"
      ]
     },
     "metadata": {},
     "output_type": "display_data"
    }
   ],
   "source": [
    "pd.crosstab(data_dropna[\"Debt to Income v2\"], data_dropna[\"default\"]).apply(\n",
    "    lambda r: r / r.sum(), axis=1\n",
    ")"
   ]
  },
  {
   "cell_type": "code",
   "execution_count": 29,
   "metadata": {},
   "outputs": [
    {
     "data": {
      "text/plain": [
       "Text(0, 0.5, 'Frequency of Default')"
      ]
     },
     "execution_count": 29,
     "metadata": {},
     "output_type": "execute_result"
    },
    {
     "data": {
      "image/png": "[encoded data removed]",
      "text/plain": [
       "<Figure size 432x288 with 1 Axes>"
      ]
     },
     "metadata": {
      "needs_background": "light"
     },
     "output_type": "display_data"
    },
    {
     "data": {
      "application/javascript": [
       "\n",
       "            setTimeout(function() {\n",
       "                var nbb_cell_id = 29;\n",
       "                var nbb_unformatted_code = \"%matplotlib inline\\npd.crosstab(data_dropna[\\\"Debt to Income v2\\\"], data_dropna[\\\"default\\\"]).plot(kind=\\\"bar\\\")\\nplt.title(\\\"Debt to Income\\\")\\nplt.xlabel(\\\"Debt to Income\\\")\\nplt.ylabel(\\\"Frequency of Default\\\")\";\n",
       "                var nbb_formatted_code = \"%matplotlib inline\\npd.crosstab(data_dropna[\\\"Debt to Income v2\\\"], data_dropna[\\\"default\\\"]).plot(kind=\\\"bar\\\")\\nplt.title(\\\"Debt to Income\\\")\\nplt.xlabel(\\\"Debt to Income\\\")\\nplt.ylabel(\\\"Frequency of Default\\\")\";\n",
       "                var nbb_cells = Jupyter.notebook.get_cells();\n",
       "                for (var i = 0; i < nbb_cells.length; ++i) {\n",
       "                    if (nbb_cells[i].input_prompt_number == nbb_cell_id) {\n",
       "                        if (nbb_cells[i].get_text() == nbb_unformatted_code) {\n",
       "                             nbb_cells[i].set_text(nbb_formatted_code);\n",
       "                        }\n",
       "                        break;\n",
       "                    }\n",
       "                }\n",
       "            }, 500);\n",
       "            "
      ],
      "text/plain": [
       "<IPython.core.display.Javascript object>"
      ]
     },
     "metadata": {},
     "output_type": "display_data"
    }
   ],
   "source": [
    "%matplotlib inline\n",
    "pd.crosstab(data_dropna[\"Debt to Income v2\"], data_dropna[\"default\"]).plot(kind=\"bar\")\n",
    "plt.title(\"Debt to Income\")\n",
    "plt.xlabel(\"Debt to Income\")\n",
    "plt.ylabel(\"Frequency of Default\")"
   ]
  },
  {
   "cell_type": "markdown",
   "metadata": {},
   "source": [
    "#### Years in Current Job"
   ]
  },
  {
   "cell_type": "code",
   "execution_count": 30,
   "metadata": {},
   "outputs": [
    {
     "data": {
      "application/javascript": [
       "\n",
       "            setTimeout(function() {\n",
       "                var nbb_cell_id = 30;\n",
       "                var nbb_unformatted_code = \"data_dropna[\\\"Years in current job\\\"] = data_dropna[\\\"Years in current job\\\"].str.extract(\\n    r\\\"(\\\\d+)\\\"\\n)\\ndata_dropna[\\\"Years in current job\\\"] = data_dropna[\\\"Years in current job\\\"].astype(float)\";\n",
       "                var nbb_formatted_code = \"data_dropna[\\\"Years in current job\\\"] = data_dropna[\\\"Years in current job\\\"].str.extract(\\n    r\\\"(\\\\d+)\\\"\\n)\\ndata_dropna[\\\"Years in current job\\\"] = data_dropna[\\\"Years in current job\\\"].astype(float)\";\n",
       "                var nbb_cells = Jupyter.notebook.get_cells();\n",
       "                for (var i = 0; i < nbb_cells.length; ++i) {\n",
       "                    if (nbb_cells[i].input_prompt_number == nbb_cell_id) {\n",
       "                        if (nbb_cells[i].get_text() == nbb_unformatted_code) {\n",
       "                             nbb_cells[i].set_text(nbb_formatted_code);\n",
       "                        }\n",
       "                        break;\n",
       "                    }\n",
       "                }\n",
       "            }, 500);\n",
       "            "
      ],
      "text/plain": [
       "<IPython.core.display.Javascript object>"
      ]
     },
     "metadata": {},
     "output_type": "display_data"
    }
   ],
   "source": [
    "data_dropna[\"Years in current job\"] = data_dropna[\"Years in current job\"].str.extract(\n",
    "    r\"(\\d+)\"\n",
    ")\n",
    "data_dropna[\"Years in current job\"] = data_dropna[\"Years in current job\"].astype(float)"
   ]
  },
  {
   "cell_type": "code",
   "execution_count": 31,
   "metadata": {},
   "outputs": [
    {
     "data": {
      "image/png": "[encoded data removed]",
      "text/plain": [
       "<Figure size 432x288 with 1 Axes>"
      ]
     },
     "metadata": {
      "needs_background": "light"
     },
     "output_type": "display_data"
    },
    {
     "data": {
      "application/javascript": [
       "\n",
       "            setTimeout(function() {\n",
       "                var nbb_cell_id = 31;\n",
       "                var nbb_unformatted_code = \"plt.hist(data_dropna[\\\"Years in current job\\\"], bins=5)\\nplt.show()\";\n",
       "                var nbb_formatted_code = \"plt.hist(data_dropna[\\\"Years in current job\\\"], bins=5)\\nplt.show()\";\n",
       "                var nbb_cells = Jupyter.notebook.get_cells();\n",
       "                for (var i = 0; i < nbb_cells.length; ++i) {\n",
       "                    if (nbb_cells[i].input_prompt_number == nbb_cell_id) {\n",
       "                        if (nbb_cells[i].get_text() == nbb_unformatted_code) {\n",
       "                             nbb_cells[i].set_text(nbb_formatted_code);\n",
       "                        }\n",
       "                        break;\n",
       "                    }\n",
       "                }\n",
       "            }, 500);\n",
       "            "
      ],
      "text/plain": [
       "<IPython.core.display.Javascript object>"
      ]
     },
     "metadata": {},
     "output_type": "display_data"
    }
   ],
   "source": [
    "plt.hist(data_dropna[\"Years in current job\"], bins=5)\n",
    "plt.show()"
   ]
  },
  {
   "cell_type": "code",
   "execution_count": 32,
   "metadata": {},
   "outputs": [
    {
     "data": {
      "application/javascript": [
       "\n",
       "            setTimeout(function() {\n",
       "                var nbb_cell_id = 32;\n",
       "                var nbb_unformatted_code = \"data_dropna[\\\"Employment History\\\"] = data_dropna[\\\"Years in current job\\\"].apply(\\n    lambda x: \\\"Job 1: <=1years\\\"\\n    if x <= 1\\n    else (\\\"Job 2: 1-8 years\\\" if x > 1 and x < 8 else \\\"Job 3: >=8 years\\\")\\n)\";\n",
       "                var nbb_formatted_code = \"data_dropna[\\\"Employment History\\\"] = data_dropna[\\\"Years in current job\\\"].apply(\\n    lambda x: \\\"Job 1: <=1years\\\"\\n    if x <= 1\\n    else (\\\"Job 2: 1-8 years\\\" if x > 1 and x < 8 else \\\"Job 3: >=8 years\\\")\\n)\";\n",
       "                var nbb_cells = Jupyter.notebook.get_cells();\n",
       "                for (var i = 0; i < nbb_cells.length; ++i) {\n",
       "                    if (nbb_cells[i].input_prompt_number == nbb_cell_id) {\n",
       "                        if (nbb_cells[i].get_text() == nbb_unformatted_code) {\n",
       "                             nbb_cells[i].set_text(nbb_formatted_code);\n",
       "                        }\n",
       "                        break;\n",
       "                    }\n",
       "                }\n",
       "            }, 500);\n",
       "            "
      ],
      "text/plain": [
       "<IPython.core.display.Javascript object>"
      ]
     },
     "metadata": {},
     "output_type": "display_data"
    }
   ],
   "source": [
    "data_dropna[\"Employment History\"] = data_dropna[\"Years in current job\"].apply(\n",
    "    lambda x: \"Job 1: <=1years\"\n",
    "    if x <= 1\n",
    "    else (\"Job 2: 1-8 years\" if x > 1 and x < 8 else \"Job 3: >=8 years\")\n",
    ")"
   ]
  },
  {
   "cell_type": "code",
   "execution_count": 33,
   "metadata": {},
   "outputs": [
    {
     "data": {
      "text/html": [
       "<div>\n",
       "<style scoped>\n",
       "    .dataframe tbody tr th:only-of-type {\n",
       "        vertical-align: middle;\n",
       "    }\n",
       "\n",
       "    .dataframe tbody tr th {\n",
       "        vertical-align: top;\n",
       "    }\n",
       "\n",
       "    .dataframe thead th {\n",
       "        text-align: right;\n",
       "    }\n",
       "</style>\n",
       "<table border=\"1\" class=\"dataframe\">\n",
       "  <thead>\n",
       "    <tr style=\"text-align: right;\">\n",
       "      <th>default</th>\n",
       "      <th>0</th>\n",
       "      <th>1</th>\n",
       "    </tr>\n",
       "    <tr>\n",
       "      <th>Employment History</th>\n",
       "      <th></th>\n",
       "      <th></th>\n",
       "    </tr>\n",
       "  </thead>\n",
       "  <tbody>\n",
       "    <tr>\n",
       "      <th>Job 1: &lt;=1years</th>\n",
       "      <td>3174</td>\n",
       "      <td>1127</td>\n",
       "    </tr>\n",
       "    <tr>\n",
       "      <th>Job 2: 1-8 years</th>\n",
       "      <td>10000</td>\n",
       "      <td>3114</td>\n",
       "    </tr>\n",
       "    <tr>\n",
       "      <th>Job 3: &gt;=8 years</th>\n",
       "      <td>10866</td>\n",
       "      <td>3207</td>\n",
       "    </tr>\n",
       "  </tbody>\n",
       "</table>\n",
       "</div>"
      ],
      "text/plain": [
       "default                 0     1\n",
       "Employment History             \n",
       "Job 1: <=1years      3174  1127\n",
       "Job 2: 1-8 years    10000  3114\n",
       "Job 3: >=8 years    10866  3207"
      ]
     },
     "execution_count": 33,
     "metadata": {},
     "output_type": "execute_result"
    },
    {
     "data": {
      "application/javascript": [
       "\n",
       "            setTimeout(function() {\n",
       "                var nbb_cell_id = 33;\n",
       "                var nbb_unformatted_code = \"pd.crosstab(data_dropna[\\\"Employment History\\\"], data_dropna[\\\"default\\\"])\";\n",
       "                var nbb_formatted_code = \"pd.crosstab(data_dropna[\\\"Employment History\\\"], data_dropna[\\\"default\\\"])\";\n",
       "                var nbb_cells = Jupyter.notebook.get_cells();\n",
       "                for (var i = 0; i < nbb_cells.length; ++i) {\n",
       "                    if (nbb_cells[i].input_prompt_number == nbb_cell_id) {\n",
       "                        if (nbb_cells[i].get_text() == nbb_unformatted_code) {\n",
       "                             nbb_cells[i].set_text(nbb_formatted_code);\n",
       "                        }\n",
       "                        break;\n",
       "                    }\n",
       "                }\n",
       "            }, 500);\n",
       "            "
      ],
      "text/plain": [
       "<IPython.core.display.Javascript object>"
      ]
     },
     "metadata": {},
     "output_type": "display_data"
    }
   ],
   "source": [
    "pd.crosstab(data_dropna[\"Employment History\"], data_dropna[\"default\"])"
   ]
  },
  {
   "cell_type": "code",
   "execution_count": 34,
   "metadata": {},
   "outputs": [
    {
     "data": {
      "text/html": [
       "<div>\n",
       "<style scoped>\n",
       "    .dataframe tbody tr th:only-of-type {\n",
       "        vertical-align: middle;\n",
       "    }\n",
       "\n",
       "    .dataframe tbody tr th {\n",
       "        vertical-align: top;\n",
       "    }\n",
       "\n",
       "    .dataframe thead th {\n",
       "        text-align: right;\n",
       "    }\n",
       "</style>\n",
       "<table border=\"1\" class=\"dataframe\">\n",
       "  <thead>\n",
       "    <tr style=\"text-align: right;\">\n",
       "      <th>default</th>\n",
       "      <th>0</th>\n",
       "      <th>1</th>\n",
       "    </tr>\n",
       "    <tr>\n",
       "      <th>Employment History</th>\n",
       "      <th></th>\n",
       "      <th></th>\n",
       "    </tr>\n",
       "  </thead>\n",
       "  <tbody>\n",
       "    <tr>\n",
       "      <th>Job 1: &lt;=1years</th>\n",
       "      <td>0.737968</td>\n",
       "      <td>0.262032</td>\n",
       "    </tr>\n",
       "    <tr>\n",
       "      <th>Job 2: 1-8 years</th>\n",
       "      <td>0.762544</td>\n",
       "      <td>0.237456</td>\n",
       "    </tr>\n",
       "    <tr>\n",
       "      <th>Job 3: &gt;=8 years</th>\n",
       "      <td>0.772117</td>\n",
       "      <td>0.227883</td>\n",
       "    </tr>\n",
       "  </tbody>\n",
       "</table>\n",
       "</div>"
      ],
      "text/plain": [
       "default                    0         1\n",
       "Employment History                    \n",
       "Job 1: <=1years     0.737968  0.262032\n",
       "Job 2: 1-8 years    0.762544  0.237456\n",
       "Job 3: >=8 years    0.772117  0.227883"
      ]
     },
     "execution_count": 34,
     "metadata": {},
     "output_type": "execute_result"
    },
    {
     "data": {
      "application/javascript": [
       "\n",
       "            setTimeout(function() {\n",
       "                var nbb_cell_id = 34;\n",
       "                var nbb_unformatted_code = \"pd.crosstab(data_dropna[\\\"Employment History\\\"], data_dropna[\\\"default\\\"]).apply(\\n    lambda r: r / r.sum(), axis=1\\n)\";\n",
       "                var nbb_formatted_code = \"pd.crosstab(data_dropna[\\\"Employment History\\\"], data_dropna[\\\"default\\\"]).apply(\\n    lambda r: r / r.sum(), axis=1\\n)\";\n",
       "                var nbb_cells = Jupyter.notebook.get_cells();\n",
       "                for (var i = 0; i < nbb_cells.length; ++i) {\n",
       "                    if (nbb_cells[i].input_prompt_number == nbb_cell_id) {\n",
       "                        if (nbb_cells[i].get_text() == nbb_unformatted_code) {\n",
       "                             nbb_cells[i].set_text(nbb_formatted_code);\n",
       "                        }\n",
       "                        break;\n",
       "                    }\n",
       "                }\n",
       "            }, 500);\n",
       "            "
      ],
      "text/plain": [
       "<IPython.core.display.Javascript object>"
      ]
     },
     "metadata": {},
     "output_type": "display_data"
    }
   ],
   "source": [
    "pd.crosstab(data_dropna[\"Employment History\"], data_dropna[\"default\"]).apply(\n",
    "    lambda r: r / r.sum(), axis=1\n",
    ")"
   ]
  },
  {
   "cell_type": "markdown",
   "metadata": {},
   "source": [
    "#### Years of credit history"
   ]
  },
  {
   "cell_type": "code",
   "execution_count": 35,
   "metadata": {},
   "outputs": [
    {
     "data": {
      "image/png": "[encoded data removed]",
      "text/plain": [
       "<Figure size 432x288 with 1 Axes>"
      ]
     },
     "metadata": {
      "needs_background": "light"
     },
     "output_type": "display_data"
    },
    {
     "data": {
      "application/javascript": [
       "\n",
       "            setTimeout(function() {\n",
       "                var nbb_cell_id = 35;\n",
       "                var nbb_unformatted_code = \"plt.hist(data_dropna[\\\"Years of Credit History\\\"], bins=5)\\nplt.show()\";\n",
       "                var nbb_formatted_code = \"plt.hist(data_dropna[\\\"Years of Credit History\\\"], bins=5)\\nplt.show()\";\n",
       "                var nbb_cells = Jupyter.notebook.get_cells();\n",
       "                for (var i = 0; i < nbb_cells.length; ++i) {\n",
       "                    if (nbb_cells[i].input_prompt_number == nbb_cell_id) {\n",
       "                        if (nbb_cells[i].get_text() == nbb_unformatted_code) {\n",
       "                             nbb_cells[i].set_text(nbb_formatted_code);\n",
       "                        }\n",
       "                        break;\n",
       "                    }\n",
       "                }\n",
       "            }, 500);\n",
       "            "
      ],
      "text/plain": [
       "<IPython.core.display.Javascript object>"
      ]
     },
     "metadata": {},
     "output_type": "display_data"
    }
   ],
   "source": [
    "plt.hist(data_dropna[\"Years of Credit History\"], bins=5)\n",
    "plt.show()"
   ]
  },
  {
   "cell_type": "code",
   "execution_count": 36,
   "metadata": {},
   "outputs": [
    {
     "data": {
      "application/javascript": [
       "\n",
       "            setTimeout(function() {\n",
       "                var nbb_cell_id = 36;\n",
       "                var nbb_unformatted_code = \"data_dropna[\\\"Years of Credit History2\\\"] = data_dropna[\\\"Years of Credit History\\\"].apply(\\n    lambda x: \\\"CrHistory 1: <10\\\"\\n    if x <= 10\\n    else (\\\"CrHistory 2: 10-20\\\" if x > 10 and x < 20 else \\\"CrHistory 3: >=20\\\")\\n)\";\n",
       "                var nbb_formatted_code = \"data_dropna[\\\"Years of Credit History2\\\"] = data_dropna[\\\"Years of Credit History\\\"].apply(\\n    lambda x: \\\"CrHistory 1: <10\\\"\\n    if x <= 10\\n    else (\\\"CrHistory 2: 10-20\\\" if x > 10 and x < 20 else \\\"CrHistory 3: >=20\\\")\\n)\";\n",
       "                var nbb_cells = Jupyter.notebook.get_cells();\n",
       "                for (var i = 0; i < nbb_cells.length; ++i) {\n",
       "                    if (nbb_cells[i].input_prompt_number == nbb_cell_id) {\n",
       "                        if (nbb_cells[i].get_text() == nbb_unformatted_code) {\n",
       "                             nbb_cells[i].set_text(nbb_formatted_code);\n",
       "                        }\n",
       "                        break;\n",
       "                    }\n",
       "                }\n",
       "            }, 500);\n",
       "            "
      ],
      "text/plain": [
       "<IPython.core.display.Javascript object>"
      ]
     },
     "metadata": {},
     "output_type": "display_data"
    }
   ],
   "source": [
    "data_dropna[\"Years of Credit History2\"] = data_dropna[\"Years of Credit History\"].apply(\n",
    "    lambda x: \"CrHistory 1: <10\"\n",
    "    if x <= 10\n",
    "    else (\"CrHistory 2: 10-20\" if x > 10 and x < 20 else \"CrHistory 3: >=20\")\n",
    ")"
   ]
  },
  {
   "cell_type": "code",
   "execution_count": 37,
   "metadata": {},
   "outputs": [
    {
     "data": {
      "text/html": [
       "<div>\n",
       "<style scoped>\n",
       "    .dataframe tbody tr th:only-of-type {\n",
       "        vertical-align: middle;\n",
       "    }\n",
       "\n",
       "    .dataframe tbody tr th {\n",
       "        vertical-align: top;\n",
       "    }\n",
       "\n",
       "    .dataframe thead th {\n",
       "        text-align: right;\n",
       "    }\n",
       "</style>\n",
       "<table border=\"1\" class=\"dataframe\">\n",
       "  <thead>\n",
       "    <tr style=\"text-align: right;\">\n",
       "      <th>default</th>\n",
       "      <th>0</th>\n",
       "      <th>1</th>\n",
       "    </tr>\n",
       "    <tr>\n",
       "      <th>Years of Credit History2</th>\n",
       "      <th></th>\n",
       "      <th></th>\n",
       "    </tr>\n",
       "  </thead>\n",
       "  <tbody>\n",
       "    <tr>\n",
       "      <th>CrHistory 1: &lt;10</th>\n",
       "      <td>983</td>\n",
       "      <td>415</td>\n",
       "    </tr>\n",
       "    <tr>\n",
       "      <th>CrHistory 2: 10-20</th>\n",
       "      <td>14075</td>\n",
       "      <td>4465</td>\n",
       "    </tr>\n",
       "    <tr>\n",
       "      <th>CrHistory 3: &gt;=20</th>\n",
       "      <td>8982</td>\n",
       "      <td>2568</td>\n",
       "    </tr>\n",
       "  </tbody>\n",
       "</table>\n",
       "</div>"
      ],
      "text/plain": [
       "default                       0     1\n",
       "Years of Credit History2             \n",
       "CrHistory 1: <10            983   415\n",
       "CrHistory 2: 10-20        14075  4465\n",
       "CrHistory 3: >=20          8982  2568"
      ]
     },
     "execution_count": 37,
     "metadata": {},
     "output_type": "execute_result"
    },
    {
     "data": {
      "application/javascript": [
       "\n",
       "            setTimeout(function() {\n",
       "                var nbb_cell_id = 37;\n",
       "                var nbb_unformatted_code = \"pd.crosstab(data_dropna[\\\"Years of Credit History2\\\"], data_dropna[\\\"default\\\"])\";\n",
       "                var nbb_formatted_code = \"pd.crosstab(data_dropna[\\\"Years of Credit History2\\\"], data_dropna[\\\"default\\\"])\";\n",
       "                var nbb_cells = Jupyter.notebook.get_cells();\n",
       "                for (var i = 0; i < nbb_cells.length; ++i) {\n",
       "                    if (nbb_cells[i].input_prompt_number == nbb_cell_id) {\n",
       "                        if (nbb_cells[i].get_text() == nbb_unformatted_code) {\n",
       "                             nbb_cells[i].set_text(nbb_formatted_code);\n",
       "                        }\n",
       "                        break;\n",
       "                    }\n",
       "                }\n",
       "            }, 500);\n",
       "            "
      ],
      "text/plain": [
       "<IPython.core.display.Javascript object>"
      ]
     },
     "metadata": {},
     "output_type": "display_data"
    }
   ],
   "source": [
    "pd.crosstab(data_dropna[\"Years of Credit History2\"], data_dropna[\"default\"])"
   ]
  },
  {
   "cell_type": "code",
   "execution_count": 38,
   "metadata": {},
   "outputs": [
    {
     "data": {
      "text/html": [
       "<div>\n",
       "<style scoped>\n",
       "    .dataframe tbody tr th:only-of-type {\n",
       "        vertical-align: middle;\n",
       "    }\n",
       "\n",
       "    .dataframe tbody tr th {\n",
       "        vertical-align: top;\n",
       "    }\n",
       "\n",
       "    .dataframe thead th {\n",
       "        text-align: right;\n",
       "    }\n",
       "</style>\n",
       "<table border=\"1\" class=\"dataframe\">\n",
       "  <thead>\n",
       "    <tr style=\"text-align: right;\">\n",
       "      <th>default</th>\n",
       "      <th>0</th>\n",
       "      <th>1</th>\n",
       "    </tr>\n",
       "    <tr>\n",
       "      <th>Years of Credit History2</th>\n",
       "      <th></th>\n",
       "      <th></th>\n",
       "    </tr>\n",
       "  </thead>\n",
       "  <tbody>\n",
       "    <tr>\n",
       "      <th>CrHistory 1: &lt;10</th>\n",
       "      <td>0.703147</td>\n",
       "      <td>0.296853</td>\n",
       "    </tr>\n",
       "    <tr>\n",
       "      <th>CrHistory 2: 10-20</th>\n",
       "      <td>0.759169</td>\n",
       "      <td>0.240831</td>\n",
       "    </tr>\n",
       "    <tr>\n",
       "      <th>CrHistory 3: &gt;=20</th>\n",
       "      <td>0.777662</td>\n",
       "      <td>0.222338</td>\n",
       "    </tr>\n",
       "  </tbody>\n",
       "</table>\n",
       "</div>"
      ],
      "text/plain": [
       "default                          0         1\n",
       "Years of Credit History2                    \n",
       "CrHistory 1: <10          0.703147  0.296853\n",
       "CrHistory 2: 10-20        0.759169  0.240831\n",
       "CrHistory 3: >=20         0.777662  0.222338"
      ]
     },
     "execution_count": 38,
     "metadata": {},
     "output_type": "execute_result"
    },
    {
     "data": {
      "application/javascript": [
       "\n",
       "            setTimeout(function() {\n",
       "                var nbb_cell_id = 38;\n",
       "                var nbb_unformatted_code = \"pd.crosstab(data_dropna[\\\"Years of Credit History2\\\"], data_dropna[\\\"default\\\"]).apply(\\n    lambda r: r / r.sum(), axis=1\\n)\";\n",
       "                var nbb_formatted_code = \"pd.crosstab(data_dropna[\\\"Years of Credit History2\\\"], data_dropna[\\\"default\\\"]).apply(\\n    lambda r: r / r.sum(), axis=1\\n)\";\n",
       "                var nbb_cells = Jupyter.notebook.get_cells();\n",
       "                for (var i = 0; i < nbb_cells.length; ++i) {\n",
       "                    if (nbb_cells[i].input_prompt_number == nbb_cell_id) {\n",
       "                        if (nbb_cells[i].get_text() == nbb_unformatted_code) {\n",
       "                             nbb_cells[i].set_text(nbb_formatted_code);\n",
       "                        }\n",
       "                        break;\n",
       "                    }\n",
       "                }\n",
       "            }, 500);\n",
       "            "
      ],
      "text/plain": [
       "<IPython.core.display.Javascript object>"
      ]
     },
     "metadata": {},
     "output_type": "display_data"
    }
   ],
   "source": [
    "pd.crosstab(data_dropna[\"Years of Credit History2\"], data_dropna[\"default\"]).apply(\n",
    "    lambda r: r / r.sum(), axis=1\n",
    ")"
   ]
  },
  {
   "cell_type": "markdown",
   "metadata": {},
   "source": [
    "#### Months since last delinquency"
   ]
  },
  {
   "cell_type": "code",
   "execution_count": 39,
   "metadata": {},
   "outputs": [
    {
     "data": {
      "image/png": "[encoded data removed]",
      "text/plain": [
       "<Figure size 432x288 with 1 Axes>"
      ]
     },
     "metadata": {
      "needs_background": "light"
     },
     "output_type": "display_data"
    },
    {
     "data": {
      "application/javascript": [
       "\n",
       "            setTimeout(function() {\n",
       "                var nbb_cell_id = 39;\n",
       "                var nbb_unformatted_code = \"plt.hist(data_dropna[\\\"Months since last delinquent\\\"], bins=5)\\nplt.show()\";\n",
       "                var nbb_formatted_code = \"plt.hist(data_dropna[\\\"Months since last delinquent\\\"], bins=5)\\nplt.show()\";\n",
       "                var nbb_cells = Jupyter.notebook.get_cells();\n",
       "                for (var i = 0; i < nbb_cells.length; ++i) {\n",
       "                    if (nbb_cells[i].input_prompt_number == nbb_cell_id) {\n",
       "                        if (nbb_cells[i].get_text() == nbb_unformatted_code) {\n",
       "                             nbb_cells[i].set_text(nbb_formatted_code);\n",
       "                        }\n",
       "                        break;\n",
       "                    }\n",
       "                }\n",
       "            }, 500);\n",
       "            "
      ],
      "text/plain": [
       "<IPython.core.display.Javascript object>"
      ]
     },
     "metadata": {},
     "output_type": "display_data"
    }
   ],
   "source": [
    "plt.hist(data_dropna[\"Months since last delinquent\"], bins=5)\n",
    "plt.show()"
   ]
  },
  {
   "cell_type": "code",
   "execution_count": 40,
   "metadata": {},
   "outputs": [
    {
     "data": {
      "application/javascript": [
       "\n",
       "            setTimeout(function() {\n",
       "                var nbb_cell_id = 40;\n",
       "                var nbb_unformatted_code = \"data_dropna[\\\"Months since last delinquent2\\\"] = data_dropna[\\n    \\\"Months since last delinquent\\\"\\n].apply(lambda x: \\\"DLQ 1: <=12\\\" if x <= 12 else \\\"DLQ 2: >12\\\")\";\n",
       "                var nbb_formatted_code = \"data_dropna[\\\"Months since last delinquent2\\\"] = data_dropna[\\n    \\\"Months since last delinquent\\\"\\n].apply(lambda x: \\\"DLQ 1: <=12\\\" if x <= 12 else \\\"DLQ 2: >12\\\")\";\n",
       "                var nbb_cells = Jupyter.notebook.get_cells();\n",
       "                for (var i = 0; i < nbb_cells.length; ++i) {\n",
       "                    if (nbb_cells[i].input_prompt_number == nbb_cell_id) {\n",
       "                        if (nbb_cells[i].get_text() == nbb_unformatted_code) {\n",
       "                             nbb_cells[i].set_text(nbb_formatted_code);\n",
       "                        }\n",
       "                        break;\n",
       "                    }\n",
       "                }\n",
       "            }, 500);\n",
       "            "
      ],
      "text/plain": [
       "<IPython.core.display.Javascript object>"
      ]
     },
     "metadata": {},
     "output_type": "display_data"
    }
   ],
   "source": [
    "data_dropna[\"Months since last delinquent2\"] = data_dropna[\n",
    "    \"Months since last delinquent\"\n",
    "].apply(lambda x: \"DLQ 1: <=12\" if x <= 12 else \"DLQ 2: >12\")"
   ]
  },
  {
   "cell_type": "code",
   "execution_count": 41,
   "metadata": {},
   "outputs": [
    {
     "data": {
      "text/html": [
       "<div>\n",
       "<style scoped>\n",
       "    .dataframe tbody tr th:only-of-type {\n",
       "        vertical-align: middle;\n",
       "    }\n",
       "\n",
       "    .dataframe tbody tr th {\n",
       "        vertical-align: top;\n",
       "    }\n",
       "\n",
       "    .dataframe thead th {\n",
       "        text-align: right;\n",
       "    }\n",
       "</style>\n",
       "<table border=\"1\" class=\"dataframe\">\n",
       "  <thead>\n",
       "    <tr style=\"text-align: right;\">\n",
       "      <th>default</th>\n",
       "      <th>0</th>\n",
       "      <th>1</th>\n",
       "    </tr>\n",
       "    <tr>\n",
       "      <th>Months since last delinquent2</th>\n",
       "      <th></th>\n",
       "      <th></th>\n",
       "    </tr>\n",
       "  </thead>\n",
       "  <tbody>\n",
       "    <tr>\n",
       "      <th>DLQ 1: &lt;=12</th>\n",
       "      <td>4238</td>\n",
       "      <td>1464</td>\n",
       "    </tr>\n",
       "    <tr>\n",
       "      <th>DLQ 2: &gt;12</th>\n",
       "      <td>19802</td>\n",
       "      <td>5984</td>\n",
       "    </tr>\n",
       "  </tbody>\n",
       "</table>\n",
       "</div>"
      ],
      "text/plain": [
       "default                            0     1\n",
       "Months since last delinquent2             \n",
       "DLQ 1: <=12                     4238  1464\n",
       "DLQ 2: >12                     19802  5984"
      ]
     },
     "execution_count": 41,
     "metadata": {},
     "output_type": "execute_result"
    },
    {
     "data": {
      "application/javascript": [
       "\n",
       "            setTimeout(function() {\n",
       "                var nbb_cell_id = 41;\n",
       "                var nbb_unformatted_code = \"pd.crosstab(data_dropna[\\\"Months since last delinquent2\\\"], data_dropna[\\\"default\\\"])\";\n",
       "                var nbb_formatted_code = \"pd.crosstab(data_dropna[\\\"Months since last delinquent2\\\"], data_dropna[\\\"default\\\"])\";\n",
       "                var nbb_cells = Jupyter.notebook.get_cells();\n",
       "                for (var i = 0; i < nbb_cells.length; ++i) {\n",
       "                    if (nbb_cells[i].input_prompt_number == nbb_cell_id) {\n",
       "                        if (nbb_cells[i].get_text() == nbb_unformatted_code) {\n",
       "                             nbb_cells[i].set_text(nbb_formatted_code);\n",
       "                        }\n",
       "                        break;\n",
       "                    }\n",
       "                }\n",
       "            }, 500);\n",
       "            "
      ],
      "text/plain": [
       "<IPython.core.display.Javascript object>"
      ]
     },
     "metadata": {},
     "output_type": "display_data"
    }
   ],
   "source": [
    "pd.crosstab(data_dropna[\"Months since last delinquent2\"], data_dropna[\"default\"])"
   ]
  },
  {
   "cell_type": "code",
   "execution_count": 42,
   "metadata": {},
   "outputs": [
    {
     "data": {
      "text/html": [
       "<div>\n",
       "<style scoped>\n",
       "    .dataframe tbody tr th:only-of-type {\n",
       "        vertical-align: middle;\n",
       "    }\n",
       "\n",
       "    .dataframe tbody tr th {\n",
       "        vertical-align: top;\n",
       "    }\n",
       "\n",
       "    .dataframe thead th {\n",
       "        text-align: right;\n",
       "    }\n",
       "</style>\n",
       "<table border=\"1\" class=\"dataframe\">\n",
       "  <thead>\n",
       "    <tr style=\"text-align: right;\">\n",
       "      <th>default</th>\n",
       "      <th>0</th>\n",
       "      <th>1</th>\n",
       "    </tr>\n",
       "    <tr>\n",
       "      <th>Months since last delinquent2</th>\n",
       "      <th></th>\n",
       "      <th></th>\n",
       "    </tr>\n",
       "  </thead>\n",
       "  <tbody>\n",
       "    <tr>\n",
       "      <th>DLQ 1: &lt;=12</th>\n",
       "      <td>0.743248</td>\n",
       "      <td>0.256752</td>\n",
       "    </tr>\n",
       "    <tr>\n",
       "      <th>DLQ 2: &gt;12</th>\n",
       "      <td>0.767936</td>\n",
       "      <td>0.232064</td>\n",
       "    </tr>\n",
       "  </tbody>\n",
       "</table>\n",
       "</div>"
      ],
      "text/plain": [
       "default                               0         1\n",
       "Months since last delinquent2                    \n",
       "DLQ 1: <=12                    0.743248  0.256752\n",
       "DLQ 2: >12                     0.767936  0.232064"
      ]
     },
     "execution_count": 42,
     "metadata": {},
     "output_type": "execute_result"
    },
    {
     "data": {
      "application/javascript": [
       "\n",
       "            setTimeout(function() {\n",
       "                var nbb_cell_id = 42;\n",
       "                var nbb_unformatted_code = \"pd.crosstab(data_dropna[\\\"Months since last delinquent2\\\"], data_dropna[\\\"default\\\"]).apply(\\n    lambda r: r / r.sum(), axis=1\\n)\";\n",
       "                var nbb_formatted_code = \"pd.crosstab(data_dropna[\\\"Months since last delinquent2\\\"], data_dropna[\\\"default\\\"]).apply(\\n    lambda r: r / r.sum(), axis=1\\n)\";\n",
       "                var nbb_cells = Jupyter.notebook.get_cells();\n",
       "                for (var i = 0; i < nbb_cells.length; ++i) {\n",
       "                    if (nbb_cells[i].input_prompt_number == nbb_cell_id) {\n",
       "                        if (nbb_cells[i].get_text() == nbb_unformatted_code) {\n",
       "                             nbb_cells[i].set_text(nbb_formatted_code);\n",
       "                        }\n",
       "                        break;\n",
       "                    }\n",
       "                }\n",
       "            }, 500);\n",
       "            "
      ],
      "text/plain": [
       "<IPython.core.display.Javascript object>"
      ]
     },
     "metadata": {},
     "output_type": "display_data"
    }
   ],
   "source": [
    "pd.crosstab(data_dropna[\"Months since last delinquent2\"], data_dropna[\"default\"]).apply(\n",
    "    lambda r: r / r.sum(), axis=1\n",
    ")"
   ]
  },
  {
   "cell_type": "markdown",
   "metadata": {},
   "source": [
    "#### Number of credit problems"
   ]
  },
  {
   "cell_type": "code",
   "execution_count": 43,
   "metadata": {},
   "outputs": [
    {
     "data": {
      "image/png": "[encoded data removed]",
      "text/plain": [
       "<Figure size 432x288 with 1 Axes>"
      ]
     },
     "metadata": {
      "needs_background": "light"
     },
     "output_type": "display_data"
    },
    {
     "data": {
      "application/javascript": [
       "\n",
       "            setTimeout(function() {\n",
       "                var nbb_cell_id = 43;\n",
       "                var nbb_unformatted_code = \"plt.hist(data_dropna[\\\"Number of Credit Problems\\\"], bins=5)\\nplt.show()\";\n",
       "                var nbb_formatted_code = \"plt.hist(data_dropna[\\\"Number of Credit Problems\\\"], bins=5)\\nplt.show()\";\n",
       "                var nbb_cells = Jupyter.notebook.get_cells();\n",
       "                for (var i = 0; i < nbb_cells.length; ++i) {\n",
       "                    if (nbb_cells[i].input_prompt_number == nbb_cell_id) {\n",
       "                        if (nbb_cells[i].get_text() == nbb_unformatted_code) {\n",
       "                             nbb_cells[i].set_text(nbb_formatted_code);\n",
       "                        }\n",
       "                        break;\n",
       "                    }\n",
       "                }\n",
       "            }, 500);\n",
       "            "
      ],
      "text/plain": [
       "<IPython.core.display.Javascript object>"
      ]
     },
     "metadata": {},
     "output_type": "display_data"
    }
   ],
   "source": [
    "plt.hist(data_dropna[\"Number of Credit Problems\"], bins=5)\n",
    "plt.show()"
   ]
  },
  {
   "cell_type": "code",
   "execution_count": 44,
   "metadata": {},
   "outputs": [
    {
     "data": {
      "application/javascript": [
       "\n",
       "            setTimeout(function() {\n",
       "                var nbb_cell_id = 44;\n",
       "                var nbb_unformatted_code = \"data_dropna[\\\"Number of Credit Problems2\\\"] = data_dropna[\\n    \\\"Number of Credit Problems\\\"\\n].apply(\\n    lambda x: \\\"CrProblems 1: <=3\\\" if x <= 3 else (\\\"3\\\" if x == 3 else \\\"CrProblems 2: >3\\\")\\n)\";\n",
       "                var nbb_formatted_code = \"data_dropna[\\\"Number of Credit Problems2\\\"] = data_dropna[\\n    \\\"Number of Credit Problems\\\"\\n].apply(\\n    lambda x: \\\"CrProblems 1: <=3\\\" if x <= 3 else (\\\"3\\\" if x == 3 else \\\"CrProblems 2: >3\\\")\\n)\";\n",
       "                var nbb_cells = Jupyter.notebook.get_cells();\n",
       "                for (var i = 0; i < nbb_cells.length; ++i) {\n",
       "                    if (nbb_cells[i].input_prompt_number == nbb_cell_id) {\n",
       "                        if (nbb_cells[i].get_text() == nbb_unformatted_code) {\n",
       "                             nbb_cells[i].set_text(nbb_formatted_code);\n",
       "                        }\n",
       "                        break;\n",
       "                    }\n",
       "                }\n",
       "            }, 500);\n",
       "            "
      ],
      "text/plain": [
       "<IPython.core.display.Javascript object>"
      ]
     },
     "metadata": {},
     "output_type": "display_data"
    }
   ],
   "source": [
    "data_dropna[\"Number of Credit Problems2\"] = data_dropna[\n",
    "    \"Number of Credit Problems\"\n",
    "].apply(\n",
    "    lambda x: \"CrProblems 1: <=3\" if x <= 3 else (\"3\" if x == 3 else \"CrProblems 2: >3\")\n",
    ")"
   ]
  },
  {
   "cell_type": "code",
   "execution_count": 45,
   "metadata": {},
   "outputs": [
    {
     "data": {
      "text/html": [
       "<div>\n",
       "<style scoped>\n",
       "    .dataframe tbody tr th:only-of-type {\n",
       "        vertical-align: middle;\n",
       "    }\n",
       "\n",
       "    .dataframe tbody tr th {\n",
       "        vertical-align: top;\n",
       "    }\n",
       "\n",
       "    .dataframe thead th {\n",
       "        text-align: right;\n",
       "    }\n",
       "</style>\n",
       "<table border=\"1\" class=\"dataframe\">\n",
       "  <thead>\n",
       "    <tr style=\"text-align: right;\">\n",
       "      <th>default</th>\n",
       "      <th>0</th>\n",
       "      <th>1</th>\n",
       "    </tr>\n",
       "    <tr>\n",
       "      <th>Number of Credit Problems2</th>\n",
       "      <th></th>\n",
       "      <th></th>\n",
       "    </tr>\n",
       "  </thead>\n",
       "  <tbody>\n",
       "    <tr>\n",
       "      <th>CrProblems 1: &lt;=3</th>\n",
       "      <td>23972</td>\n",
       "      <td>7419</td>\n",
       "    </tr>\n",
       "    <tr>\n",
       "      <th>CrProblems 2: &gt;3</th>\n",
       "      <td>68</td>\n",
       "      <td>29</td>\n",
       "    </tr>\n",
       "  </tbody>\n",
       "</table>\n",
       "</div>"
      ],
      "text/plain": [
       "default                         0     1\n",
       "Number of Credit Problems2             \n",
       "CrProblems 1: <=3           23972  7419\n",
       "CrProblems 2: >3               68    29"
      ]
     },
     "execution_count": 45,
     "metadata": {},
     "output_type": "execute_result"
    },
    {
     "data": {
      "application/javascript": [
       "\n",
       "            setTimeout(function() {\n",
       "                var nbb_cell_id = 45;\n",
       "                var nbb_unformatted_code = \"pd.crosstab(data_dropna[\\\"Number of Credit Problems2\\\"], data_dropna[\\\"default\\\"])\";\n",
       "                var nbb_formatted_code = \"pd.crosstab(data_dropna[\\\"Number of Credit Problems2\\\"], data_dropna[\\\"default\\\"])\";\n",
       "                var nbb_cells = Jupyter.notebook.get_cells();\n",
       "                for (var i = 0; i < nbb_cells.length; ++i) {\n",
       "                    if (nbb_cells[i].input_prompt_number == nbb_cell_id) {\n",
       "                        if (nbb_cells[i].get_text() == nbb_unformatted_code) {\n",
       "                             nbb_cells[i].set_text(nbb_formatted_code);\n",
       "                        }\n",
       "                        break;\n",
       "                    }\n",
       "                }\n",
       "            }, 500);\n",
       "            "
      ],
      "text/plain": [
       "<IPython.core.display.Javascript object>"
      ]
     },
     "metadata": {},
     "output_type": "display_data"
    }
   ],
   "source": [
    "pd.crosstab(data_dropna[\"Number of Credit Problems2\"], data_dropna[\"default\"])"
   ]
  },
  {
   "cell_type": "code",
   "execution_count": 46,
   "metadata": {},
   "outputs": [
    {
     "data": {
      "text/html": [
       "<div>\n",
       "<style scoped>\n",
       "    .dataframe tbody tr th:only-of-type {\n",
       "        vertical-align: middle;\n",
       "    }\n",
       "\n",
       "    .dataframe tbody tr th {\n",
       "        vertical-align: top;\n",
       "    }\n",
       "\n",
       "    .dataframe thead th {\n",
       "        text-align: right;\n",
       "    }\n",
       "</style>\n",
       "<table border=\"1\" class=\"dataframe\">\n",
       "  <thead>\n",
       "    <tr style=\"text-align: right;\">\n",
       "      <th>default</th>\n",
       "      <th>0</th>\n",
       "      <th>1</th>\n",
       "    </tr>\n",
       "    <tr>\n",
       "      <th>Number of Credit Problems2</th>\n",
       "      <th></th>\n",
       "      <th></th>\n",
       "    </tr>\n",
       "  </thead>\n",
       "  <tbody>\n",
       "    <tr>\n",
       "      <th>CrProblems 1: &lt;=3</th>\n",
       "      <td>0.763658</td>\n",
       "      <td>0.236342</td>\n",
       "    </tr>\n",
       "    <tr>\n",
       "      <th>CrProblems 2: &gt;3</th>\n",
       "      <td>0.701031</td>\n",
       "      <td>0.298969</td>\n",
       "    </tr>\n",
       "  </tbody>\n",
       "</table>\n",
       "</div>"
      ],
      "text/plain": [
       "default                            0         1\n",
       "Number of Credit Problems2                    \n",
       "CrProblems 1: <=3           0.763658  0.236342\n",
       "CrProblems 2: >3            0.701031  0.298969"
      ]
     },
     "execution_count": 46,
     "metadata": {},
     "output_type": "execute_result"
    },
    {
     "data": {
      "application/javascript": [
       "\n",
       "            setTimeout(function() {\n",
       "                var nbb_cell_id = 46;\n",
       "                var nbb_unformatted_code = \"pd.crosstab(data_dropna[\\\"Number of Credit Problems2\\\"], data_dropna[\\\"default\\\"]).apply(\\n    lambda r: r / r.sum(), axis=1\\n)\";\n",
       "                var nbb_formatted_code = \"pd.crosstab(data_dropna[\\\"Number of Credit Problems2\\\"], data_dropna[\\\"default\\\"]).apply(\\n    lambda r: r / r.sum(), axis=1\\n)\";\n",
       "                var nbb_cells = Jupyter.notebook.get_cells();\n",
       "                for (var i = 0; i < nbb_cells.length; ++i) {\n",
       "                    if (nbb_cells[i].input_prompt_number == nbb_cell_id) {\n",
       "                        if (nbb_cells[i].get_text() == nbb_unformatted_code) {\n",
       "                             nbb_cells[i].set_text(nbb_formatted_code);\n",
       "                        }\n",
       "                        break;\n",
       "                    }\n",
       "                }\n",
       "            }, 500);\n",
       "            "
      ],
      "text/plain": [
       "<IPython.core.display.Javascript object>"
      ]
     },
     "metadata": {},
     "output_type": "display_data"
    }
   ],
   "source": [
    "pd.crosstab(data_dropna[\"Number of Credit Problems2\"], data_dropna[\"default\"]).apply(\n",
    "    lambda r: r / r.sum(), axis=1\n",
    ")"
   ]
  },
  {
   "cell_type": "code",
   "execution_count": 47,
   "metadata": {},
   "outputs": [
    {
     "data": {
      "text/plain": [
       "Text(0, 0.5, 'Frequency of Default')"
      ]
     },
     "execution_count": 47,
     "metadata": {},
     "output_type": "execute_result"
    },
    {
     "data": {
      "image/png": "[encoded data removed]",
      "text/plain": [
       "<Figure size 432x288 with 1 Axes>"
      ]
     },
     "metadata": {
      "needs_background": "light"
     },
     "output_type": "display_data"
    },
    {
     "data": {
      "application/javascript": [
       "\n",
       "            setTimeout(function() {\n",
       "                var nbb_cell_id = 47;\n",
       "                var nbb_unformatted_code = \"%matplotlib inline\\npd.crosstab(data_dropna[\\\"Number of Credit Problems2\\\"], data_dropna[\\\"default\\\"]).plot(\\n    kind=\\\"bar\\\"\\n)\\nplt.title(\\\"Number of Credit Problems\\\")\\nplt.xlabel(\\\"Number of Credit Problems\\\")\\nplt.ylabel(\\\"Frequency of Default\\\")\";\n",
       "                var nbb_formatted_code = \"%matplotlib inline\\npd.crosstab(data_dropna[\\\"Number of Credit Problems2\\\"], data_dropna[\\\"default\\\"]).plot(\\n    kind=\\\"bar\\\"\\n)\\nplt.title(\\\"Number of Credit Problems\\\")\\nplt.xlabel(\\\"Number of Credit Problems\\\")\\nplt.ylabel(\\\"Frequency of Default\\\")\";\n",
       "                var nbb_cells = Jupyter.notebook.get_cells();\n",
       "                for (var i = 0; i < nbb_cells.length; ++i) {\n",
       "                    if (nbb_cells[i].input_prompt_number == nbb_cell_id) {\n",
       "                        if (nbb_cells[i].get_text() == nbb_unformatted_code) {\n",
       "                             nbb_cells[i].set_text(nbb_formatted_code);\n",
       "                        }\n",
       "                        break;\n",
       "                    }\n",
       "                }\n",
       "            }, 500);\n",
       "            "
      ],
      "text/plain": [
       "<IPython.core.display.Javascript object>"
      ]
     },
     "metadata": {},
     "output_type": "display_data"
    }
   ],
   "source": [
    "%matplotlib inline\n",
    "pd.crosstab(data_dropna[\"Number of Credit Problems2\"], data_dropna[\"default\"]).plot(\n",
    "    kind=\"bar\"\n",
    ")\n",
    "plt.title(\"Number of Credit Problems\")\n",
    "plt.xlabel(\"Number of Credit Problems\")\n",
    "plt.ylabel(\"Frequency of Default\")"
   ]
  },
  {
   "cell_type": "markdown",
   "metadata": {},
   "source": [
    "#### Number of open accounts"
   ]
  },
  {
   "cell_type": "code",
   "execution_count": 48,
   "metadata": {},
   "outputs": [
    {
     "data": {
      "image/png": "[encoded data removed]",
      "text/plain": [
       "<Figure size 432x288 with 1 Axes>"
      ]
     },
     "metadata": {
      "needs_background": "light"
     },
     "output_type": "display_data"
    },
    {
     "data": {
      "application/javascript": [
       "\n",
       "            setTimeout(function() {\n",
       "                var nbb_cell_id = 48;\n",
       "                var nbb_unformatted_code = \"plt.hist(data_dropna[\\\"Number of Open Accounts\\\"], bins=5)\\nplt.show()\";\n",
       "                var nbb_formatted_code = \"plt.hist(data_dropna[\\\"Number of Open Accounts\\\"], bins=5)\\nplt.show()\";\n",
       "                var nbb_cells = Jupyter.notebook.get_cells();\n",
       "                for (var i = 0; i < nbb_cells.length; ++i) {\n",
       "                    if (nbb_cells[i].input_prompt_number == nbb_cell_id) {\n",
       "                        if (nbb_cells[i].get_text() == nbb_unformatted_code) {\n",
       "                             nbb_cells[i].set_text(nbb_formatted_code);\n",
       "                        }\n",
       "                        break;\n",
       "                    }\n",
       "                }\n",
       "            }, 500);\n",
       "            "
      ],
      "text/plain": [
       "<IPython.core.display.Javascript object>"
      ]
     },
     "metadata": {},
     "output_type": "display_data"
    }
   ],
   "source": [
    "plt.hist(data_dropna[\"Number of Open Accounts\"], bins=5)\n",
    "plt.show()"
   ]
  },
  {
   "cell_type": "code",
   "execution_count": 49,
   "metadata": {},
   "outputs": [
    {
     "data": {
      "application/javascript": [
       "\n",
       "            setTimeout(function() {\n",
       "                var nbb_cell_id = 49;\n",
       "                var nbb_unformatted_code = \"data_dropna[\\\"Number of Open Accounts2\\\"] = data_dropna[\\\"Number of Open Accounts\\\"].apply(\\n    lambda x: \\\"OpenAcc 1: <10\\\"\\n    if x <= 10\\n    else (\\\"OpenAcc 2: 10-20\\\" if x > 10 and x < 20 else \\\"OpenAcc 3: >=20\\\")\\n)\";\n",
       "                var nbb_formatted_code = \"data_dropna[\\\"Number of Open Accounts2\\\"] = data_dropna[\\\"Number of Open Accounts\\\"].apply(\\n    lambda x: \\\"OpenAcc 1: <10\\\"\\n    if x <= 10\\n    else (\\\"OpenAcc 2: 10-20\\\" if x > 10 and x < 20 else \\\"OpenAcc 3: >=20\\\")\\n)\";\n",
       "                var nbb_cells = Jupyter.notebook.get_cells();\n",
       "                for (var i = 0; i < nbb_cells.length; ++i) {\n",
       "                    if (nbb_cells[i].input_prompt_number == nbb_cell_id) {\n",
       "                        if (nbb_cells[i].get_text() == nbb_unformatted_code) {\n",
       "                             nbb_cells[i].set_text(nbb_formatted_code);\n",
       "                        }\n",
       "                        break;\n",
       "                    }\n",
       "                }\n",
       "            }, 500);\n",
       "            "
      ],
      "text/plain": [
       "<IPython.core.display.Javascript object>"
      ]
     },
     "metadata": {},
     "output_type": "display_data"
    }
   ],
   "source": [
    "data_dropna[\"Number of Open Accounts2\"] = data_dropna[\"Number of Open Accounts\"].apply(\n",
    "    lambda x: \"OpenAcc 1: <10\"\n",
    "    if x <= 10\n",
    "    else (\"OpenAcc 2: 10-20\" if x > 10 and x < 20 else \"OpenAcc 3: >=20\")\n",
    ")"
   ]
  },
  {
   "cell_type": "code",
   "execution_count": 50,
   "metadata": {},
   "outputs": [
    {
     "data": {
      "text/html": [
       "<div>\n",
       "<style scoped>\n",
       "    .dataframe tbody tr th:only-of-type {\n",
       "        vertical-align: middle;\n",
       "    }\n",
       "\n",
       "    .dataframe tbody tr th {\n",
       "        vertical-align: top;\n",
       "    }\n",
       "\n",
       "    .dataframe thead th {\n",
       "        text-align: right;\n",
       "    }\n",
       "</style>\n",
       "<table border=\"1\" class=\"dataframe\">\n",
       "  <thead>\n",
       "    <tr style=\"text-align: right;\">\n",
       "      <th>default</th>\n",
       "      <th>0</th>\n",
       "      <th>1</th>\n",
       "    </tr>\n",
       "    <tr>\n",
       "      <th>Number of Open Accounts2</th>\n",
       "      <th></th>\n",
       "      <th></th>\n",
       "    </tr>\n",
       "  </thead>\n",
       "  <tbody>\n",
       "    <tr>\n",
       "      <th>OpenAcc 1: &lt;10</th>\n",
       "      <td>11664</td>\n",
       "      <td>3443</td>\n",
       "    </tr>\n",
       "    <tr>\n",
       "      <th>OpenAcc 2: 10-20</th>\n",
       "      <td>10773</td>\n",
       "      <td>3416</td>\n",
       "    </tr>\n",
       "    <tr>\n",
       "      <th>OpenAcc 3: &gt;=20</th>\n",
       "      <td>1603</td>\n",
       "      <td>589</td>\n",
       "    </tr>\n",
       "  </tbody>\n",
       "</table>\n",
       "</div>"
      ],
      "text/plain": [
       "default                       0     1\n",
       "Number of Open Accounts2             \n",
       "OpenAcc 1: <10            11664  3443\n",
       "OpenAcc 2: 10-20          10773  3416\n",
       "OpenAcc 3: >=20            1603   589"
      ]
     },
     "execution_count": 50,
     "metadata": {},
     "output_type": "execute_result"
    },
    {
     "data": {
      "application/javascript": [
       "\n",
       "            setTimeout(function() {\n",
       "                var nbb_cell_id = 50;\n",
       "                var nbb_unformatted_code = \"pd.crosstab(data_dropna[\\\"Number of Open Accounts2\\\"], data_dropna[\\\"default\\\"])\";\n",
       "                var nbb_formatted_code = \"pd.crosstab(data_dropna[\\\"Number of Open Accounts2\\\"], data_dropna[\\\"default\\\"])\";\n",
       "                var nbb_cells = Jupyter.notebook.get_cells();\n",
       "                for (var i = 0; i < nbb_cells.length; ++i) {\n",
       "                    if (nbb_cells[i].input_prompt_number == nbb_cell_id) {\n",
       "                        if (nbb_cells[i].get_text() == nbb_unformatted_code) {\n",
       "                             nbb_cells[i].set_text(nbb_formatted_code);\n",
       "                        }\n",
       "                        break;\n",
       "                    }\n",
       "                }\n",
       "            }, 500);\n",
       "            "
      ],
      "text/plain": [
       "<IPython.core.display.Javascript object>"
      ]
     },
     "metadata": {},
     "output_type": "display_data"
    }
   ],
   "source": [
    "pd.crosstab(data_dropna[\"Number of Open Accounts2\"], data_dropna[\"default\"])"
   ]
  },
  {
   "cell_type": "code",
   "execution_count": 51,
   "metadata": {},
   "outputs": [
    {
     "data": {
      "text/html": [
       "<div>\n",
       "<style scoped>\n",
       "    .dataframe tbody tr th:only-of-type {\n",
       "        vertical-align: middle;\n",
       "    }\n",
       "\n",
       "    .dataframe tbody tr th {\n",
       "        vertical-align: top;\n",
       "    }\n",
       "\n",
       "    .dataframe thead th {\n",
       "        text-align: right;\n",
       "    }\n",
       "</style>\n",
       "<table border=\"1\" class=\"dataframe\">\n",
       "  <thead>\n",
       "    <tr style=\"text-align: right;\">\n",
       "      <th>default</th>\n",
       "      <th>0</th>\n",
       "      <th>1</th>\n",
       "    </tr>\n",
       "    <tr>\n",
       "      <th>Number of Open Accounts2</th>\n",
       "      <th></th>\n",
       "      <th></th>\n",
       "    </tr>\n",
       "  </thead>\n",
       "  <tbody>\n",
       "    <tr>\n",
       "      <th>OpenAcc 1: &lt;10</th>\n",
       "      <td>0.772092</td>\n",
       "      <td>0.227908</td>\n",
       "    </tr>\n",
       "    <tr>\n",
       "      <th>OpenAcc 2: 10-20</th>\n",
       "      <td>0.759250</td>\n",
       "      <td>0.240750</td>\n",
       "    </tr>\n",
       "    <tr>\n",
       "      <th>OpenAcc 3: &gt;=20</th>\n",
       "      <td>0.731296</td>\n",
       "      <td>0.268704</td>\n",
       "    </tr>\n",
       "  </tbody>\n",
       "</table>\n",
       "</div>"
      ],
      "text/plain": [
       "default                          0         1\n",
       "Number of Open Accounts2                    \n",
       "OpenAcc 1: <10            0.772092  0.227908\n",
       "OpenAcc 2: 10-20          0.759250  0.240750\n",
       "OpenAcc 3: >=20           0.731296  0.268704"
      ]
     },
     "execution_count": 51,
     "metadata": {},
     "output_type": "execute_result"
    },
    {
     "data": {
      "application/javascript": [
       "\n",
       "            setTimeout(function() {\n",
       "                var nbb_cell_id = 51;\n",
       "                var nbb_unformatted_code = \"pd.crosstab(data_dropna[\\\"Number of Open Accounts2\\\"], data_dropna[\\\"default\\\"]).apply(\\n    lambda r: r / r.sum(), axis=1\\n)\";\n",
       "                var nbb_formatted_code = \"pd.crosstab(data_dropna[\\\"Number of Open Accounts2\\\"], data_dropna[\\\"default\\\"]).apply(\\n    lambda r: r / r.sum(), axis=1\\n)\";\n",
       "                var nbb_cells = Jupyter.notebook.get_cells();\n",
       "                for (var i = 0; i < nbb_cells.length; ++i) {\n",
       "                    if (nbb_cells[i].input_prompt_number == nbb_cell_id) {\n",
       "                        if (nbb_cells[i].get_text() == nbb_unformatted_code) {\n",
       "                             nbb_cells[i].set_text(nbb_formatted_code);\n",
       "                        }\n",
       "                        break;\n",
       "                    }\n",
       "                }\n",
       "            }, 500);\n",
       "            "
      ],
      "text/plain": [
       "<IPython.core.display.Javascript object>"
      ]
     },
     "metadata": {},
     "output_type": "display_data"
    }
   ],
   "source": [
    "pd.crosstab(data_dropna[\"Number of Open Accounts2\"], data_dropna[\"default\"]).apply(\n",
    "    lambda r: r / r.sum(), axis=1\n",
    ")"
   ]
  },
  {
   "cell_type": "markdown",
   "metadata": {},
   "source": [
    "#### Bankruptcies"
   ]
  },
  {
   "cell_type": "code",
   "execution_count": 52,
   "metadata": {},
   "outputs": [
    {
     "data": {
      "image/png": "[encoded data removed]",
      "text/plain": [
       "<Figure size 432x288 with 1 Axes>"
      ]
     },
     "metadata": {
      "needs_background": "light"
     },
     "output_type": "display_data"
    },
    {
     "data": {
      "application/javascript": [
       "\n",
       "            setTimeout(function() {\n",
       "                var nbb_cell_id = 52;\n",
       "                var nbb_unformatted_code = \"plt.hist(data_dropna[\\\"Bankruptcies\\\"], bins=5)\\nplt.show()\";\n",
       "                var nbb_formatted_code = \"plt.hist(data_dropna[\\\"Bankruptcies\\\"], bins=5)\\nplt.show()\";\n",
       "                var nbb_cells = Jupyter.notebook.get_cells();\n",
       "                for (var i = 0; i < nbb_cells.length; ++i) {\n",
       "                    if (nbb_cells[i].input_prompt_number == nbb_cell_id) {\n",
       "                        if (nbb_cells[i].get_text() == nbb_unformatted_code) {\n",
       "                             nbb_cells[i].set_text(nbb_formatted_code);\n",
       "                        }\n",
       "                        break;\n",
       "                    }\n",
       "                }\n",
       "            }, 500);\n",
       "            "
      ],
      "text/plain": [
       "<IPython.core.display.Javascript object>"
      ]
     },
     "metadata": {},
     "output_type": "display_data"
    }
   ],
   "source": [
    "plt.hist(data_dropna[\"Bankruptcies\"], bins=5)\n",
    "plt.show()"
   ]
  },
  {
   "cell_type": "code",
   "execution_count": 53,
   "metadata": {},
   "outputs": [
    {
     "data": {
      "application/javascript": [
       "\n",
       "            setTimeout(function() {\n",
       "                var nbb_cell_id = 53;\n",
       "                var nbb_unformatted_code = \"data_dropna[\\\"Bankruptcies2\\\"] = data_dropna[\\\"Bankruptcies\\\"].apply(\\n    lambda x: \\\"Bankruptcies 1: 0\\\" if x == 0 else (\\\"Bankruptcies 2: >0\\\")\\n)\";\n",
       "                var nbb_formatted_code = \"data_dropna[\\\"Bankruptcies2\\\"] = data_dropna[\\\"Bankruptcies\\\"].apply(\\n    lambda x: \\\"Bankruptcies 1: 0\\\" if x == 0 else (\\\"Bankruptcies 2: >0\\\")\\n)\";\n",
       "                var nbb_cells = Jupyter.notebook.get_cells();\n",
       "                for (var i = 0; i < nbb_cells.length; ++i) {\n",
       "                    if (nbb_cells[i].input_prompt_number == nbb_cell_id) {\n",
       "                        if (nbb_cells[i].get_text() == nbb_unformatted_code) {\n",
       "                             nbb_cells[i].set_text(nbb_formatted_code);\n",
       "                        }\n",
       "                        break;\n",
       "                    }\n",
       "                }\n",
       "            }, 500);\n",
       "            "
      ],
      "text/plain": [
       "<IPython.core.display.Javascript object>"
      ]
     },
     "metadata": {},
     "output_type": "display_data"
    }
   ],
   "source": [
    "data_dropna[\"Bankruptcies2\"] = data_dropna[\"Bankruptcies\"].apply(\n",
    "    lambda x: \"Bankruptcies 1: 0\" if x == 0 else (\"Bankruptcies 2: >0\")\n",
    ")"
   ]
  },
  {
   "cell_type": "code",
   "execution_count": 54,
   "metadata": {},
   "outputs": [
    {
     "data": {
      "text/html": [
       "<div>\n",
       "<style scoped>\n",
       "    .dataframe tbody tr th:only-of-type {\n",
       "        vertical-align: middle;\n",
       "    }\n",
       "\n",
       "    .dataframe tbody tr th {\n",
       "        vertical-align: top;\n",
       "    }\n",
       "\n",
       "    .dataframe thead th {\n",
       "        text-align: right;\n",
       "    }\n",
       "</style>\n",
       "<table border=\"1\" class=\"dataframe\">\n",
       "  <thead>\n",
       "    <tr style=\"text-align: right;\">\n",
       "      <th>default</th>\n",
       "      <th>0</th>\n",
       "      <th>1</th>\n",
       "    </tr>\n",
       "    <tr>\n",
       "      <th>Bankruptcies2</th>\n",
       "      <th></th>\n",
       "      <th></th>\n",
       "    </tr>\n",
       "  </thead>\n",
       "  <tbody>\n",
       "    <tr>\n",
       "      <th>Bankruptcies 1: 0</th>\n",
       "      <td>21498</td>\n",
       "      <td>6671</td>\n",
       "    </tr>\n",
       "    <tr>\n",
       "      <th>Bankruptcies 2: &gt;0</th>\n",
       "      <td>2542</td>\n",
       "      <td>777</td>\n",
       "    </tr>\n",
       "  </tbody>\n",
       "</table>\n",
       "</div>"
      ],
      "text/plain": [
       "default                 0     1\n",
       "Bankruptcies2                  \n",
       "Bankruptcies 1: 0   21498  6671\n",
       "Bankruptcies 2: >0   2542   777"
      ]
     },
     "execution_count": 54,
     "metadata": {},
     "output_type": "execute_result"
    },
    {
     "data": {
      "application/javascript": [
       "\n",
       "            setTimeout(function() {\n",
       "                var nbb_cell_id = 54;\n",
       "                var nbb_unformatted_code = \"pd.crosstab(data_dropna[\\\"Bankruptcies2\\\"], data_dropna[\\\"default\\\"])\";\n",
       "                var nbb_formatted_code = \"pd.crosstab(data_dropna[\\\"Bankruptcies2\\\"], data_dropna[\\\"default\\\"])\";\n",
       "                var nbb_cells = Jupyter.notebook.get_cells();\n",
       "                for (var i = 0; i < nbb_cells.length; ++i) {\n",
       "                    if (nbb_cells[i].input_prompt_number == nbb_cell_id) {\n",
       "                        if (nbb_cells[i].get_text() == nbb_unformatted_code) {\n",
       "                             nbb_cells[i].set_text(nbb_formatted_code);\n",
       "                        }\n",
       "                        break;\n",
       "                    }\n",
       "                }\n",
       "            }, 500);\n",
       "            "
      ],
      "text/plain": [
       "<IPython.core.display.Javascript object>"
      ]
     },
     "metadata": {},
     "output_type": "display_data"
    }
   ],
   "source": [
    "pd.crosstab(data_dropna[\"Bankruptcies2\"], data_dropna[\"default\"])"
   ]
  },
  {
   "cell_type": "code",
   "execution_count": 55,
   "metadata": {},
   "outputs": [
    {
     "data": {
      "text/html": [
       "<div>\n",
       "<style scoped>\n",
       "    .dataframe tbody tr th:only-of-type {\n",
       "        vertical-align: middle;\n",
       "    }\n",
       "\n",
       "    .dataframe tbody tr th {\n",
       "        vertical-align: top;\n",
       "    }\n",
       "\n",
       "    .dataframe thead th {\n",
       "        text-align: right;\n",
       "    }\n",
       "</style>\n",
       "<table border=\"1\" class=\"dataframe\">\n",
       "  <thead>\n",
       "    <tr style=\"text-align: right;\">\n",
       "      <th>default</th>\n",
       "      <th>0</th>\n",
       "      <th>1</th>\n",
       "    </tr>\n",
       "    <tr>\n",
       "      <th>Bankruptcies2</th>\n",
       "      <th></th>\n",
       "      <th></th>\n",
       "    </tr>\n",
       "  </thead>\n",
       "  <tbody>\n",
       "    <tr>\n",
       "      <th>Bankruptcies 1: 0</th>\n",
       "      <td>0.763179</td>\n",
       "      <td>0.236821</td>\n",
       "    </tr>\n",
       "    <tr>\n",
       "      <th>Bankruptcies 2: &gt;0</th>\n",
       "      <td>0.765893</td>\n",
       "      <td>0.234107</td>\n",
       "    </tr>\n",
       "  </tbody>\n",
       "</table>\n",
       "</div>"
      ],
      "text/plain": [
       "default                    0         1\n",
       "Bankruptcies2                         \n",
       "Bankruptcies 1: 0   0.763179  0.236821\n",
       "Bankruptcies 2: >0  0.765893  0.234107"
      ]
     },
     "execution_count": 55,
     "metadata": {},
     "output_type": "execute_result"
    },
    {
     "data": {
      "application/javascript": [
       "\n",
       "            setTimeout(function() {\n",
       "                var nbb_cell_id = 55;\n",
       "                var nbb_unformatted_code = \"pd.crosstab(data_dropna[\\\"Bankruptcies2\\\"], data_dropna[\\\"default\\\"]).apply(\\n    lambda r: r / r.sum(), axis=1\\n)\";\n",
       "                var nbb_formatted_code = \"pd.crosstab(data_dropna[\\\"Bankruptcies2\\\"], data_dropna[\\\"default\\\"]).apply(\\n    lambda r: r / r.sum(), axis=1\\n)\";\n",
       "                var nbb_cells = Jupyter.notebook.get_cells();\n",
       "                for (var i = 0; i < nbb_cells.length; ++i) {\n",
       "                    if (nbb_cells[i].input_prompt_number == nbb_cell_id) {\n",
       "                        if (nbb_cells[i].get_text() == nbb_unformatted_code) {\n",
       "                             nbb_cells[i].set_text(nbb_formatted_code);\n",
       "                        }\n",
       "                        break;\n",
       "                    }\n",
       "                }\n",
       "            }, 500);\n",
       "            "
      ],
      "text/plain": [
       "<IPython.core.display.Javascript object>"
      ]
     },
     "metadata": {},
     "output_type": "display_data"
    }
   ],
   "source": [
    "pd.crosstab(data_dropna[\"Bankruptcies2\"], data_dropna[\"default\"]).apply(\n",
    "    lambda r: r / r.sum(), axis=1\n",
    ")"
   ]
  },
  {
   "cell_type": "markdown",
   "metadata": {},
   "source": [
    "With this data the Bankruptcies feature doesn't show any discriminatory power."
   ]
  },
  {
   "cell_type": "markdown",
   "metadata": {},
   "source": [
    "#### Home Ownership"
   ]
  },
  {
   "cell_type": "code",
   "execution_count": 56,
   "metadata": {},
   "outputs": [
    {
     "data": {
      "image/png": "[encoded data removed]",
      "text/plain": [
       "<Figure size 432x288 with 1 Axes>"
      ]
     },
     "metadata": {
      "needs_background": "light"
     },
     "output_type": "display_data"
    },
    {
     "data": {
      "application/javascript": [
       "\n",
       "            setTimeout(function() {\n",
       "                var nbb_cell_id = 56;\n",
       "                var nbb_unformatted_code = \"plt.hist(data_dropna[\\\"Home Ownership\\\"], bins=5)\\nplt.show()\";\n",
       "                var nbb_formatted_code = \"plt.hist(data_dropna[\\\"Home Ownership\\\"], bins=5)\\nplt.show()\";\n",
       "                var nbb_cells = Jupyter.notebook.get_cells();\n",
       "                for (var i = 0; i < nbb_cells.length; ++i) {\n",
       "                    if (nbb_cells[i].input_prompt_number == nbb_cell_id) {\n",
       "                        if (nbb_cells[i].get_text() == nbb_unformatted_code) {\n",
       "                             nbb_cells[i].set_text(nbb_formatted_code);\n",
       "                        }\n",
       "                        break;\n",
       "                    }\n",
       "                }\n",
       "            }, 500);\n",
       "            "
      ],
      "text/plain": [
       "<IPython.core.display.Javascript object>"
      ]
     },
     "metadata": {},
     "output_type": "display_data"
    }
   ],
   "source": [
    "plt.hist(data_dropna[\"Home Ownership\"], bins=5)\n",
    "plt.show()"
   ]
  },
  {
   "cell_type": "code",
   "execution_count": 57,
   "metadata": {},
   "outputs": [
    {
     "data": {
      "application/javascript": [
       "\n",
       "            setTimeout(function() {\n",
       "                var nbb_cell_id = 57;\n",
       "                var nbb_unformatted_code = \"data_dropna[\\\"Home Ownership2\\\"] = data_dropna[\\\"Home Ownership\\\"].apply(\\n    lambda x: \\\"HO 1: Own Home\\\"\\n    if x == \\\"Own Home\\\"\\n    else (\\\"HO 2: Rent\\\" if x == \\\"Rent\\\" else \\\"HO 3: Mortgage\\\")\\n)\";\n",
       "                var nbb_formatted_code = \"data_dropna[\\\"Home Ownership2\\\"] = data_dropna[\\\"Home Ownership\\\"].apply(\\n    lambda x: \\\"HO 1: Own Home\\\"\\n    if x == \\\"Own Home\\\"\\n    else (\\\"HO 2: Rent\\\" if x == \\\"Rent\\\" else \\\"HO 3: Mortgage\\\")\\n)\";\n",
       "                var nbb_cells = Jupyter.notebook.get_cells();\n",
       "                for (var i = 0; i < nbb_cells.length; ++i) {\n",
       "                    if (nbb_cells[i].input_prompt_number == nbb_cell_id) {\n",
       "                        if (nbb_cells[i].get_text() == nbb_unformatted_code) {\n",
       "                             nbb_cells[i].set_text(nbb_formatted_code);\n",
       "                        }\n",
       "                        break;\n",
       "                    }\n",
       "                }\n",
       "            }, 500);\n",
       "            "
      ],
      "text/plain": [
       "<IPython.core.display.Javascript object>"
      ]
     },
     "metadata": {},
     "output_type": "display_data"
    }
   ],
   "source": [
    "data_dropna[\"Home Ownership2\"] = data_dropna[\"Home Ownership\"].apply(\n",
    "    lambda x: \"HO 1: Own Home\"\n",
    "    if x == \"Own Home\"\n",
    "    else (\"HO 2: Rent\" if x == \"Rent\" else \"HO 3: Mortgage\")\n",
    ")"
   ]
  },
  {
   "cell_type": "code",
   "execution_count": 58,
   "metadata": {},
   "outputs": [
    {
     "data": {
      "text/html": [
       "<div>\n",
       "<style scoped>\n",
       "    .dataframe tbody tr th:only-of-type {\n",
       "        vertical-align: middle;\n",
       "    }\n",
       "\n",
       "    .dataframe tbody tr th {\n",
       "        vertical-align: top;\n",
       "    }\n",
       "\n",
       "    .dataframe thead th {\n",
       "        text-align: right;\n",
       "    }\n",
       "</style>\n",
       "<table border=\"1\" class=\"dataframe\">\n",
       "  <thead>\n",
       "    <tr style=\"text-align: right;\">\n",
       "      <th>default</th>\n",
       "      <th>0</th>\n",
       "      <th>1</th>\n",
       "    </tr>\n",
       "    <tr>\n",
       "      <th>Home Ownership2</th>\n",
       "      <th></th>\n",
       "      <th></th>\n",
       "    </tr>\n",
       "  </thead>\n",
       "  <tbody>\n",
       "    <tr>\n",
       "      <th>HO 1: Own Home</th>\n",
       "      <td>2086</td>\n",
       "      <td>698</td>\n",
       "    </tr>\n",
       "    <tr>\n",
       "      <th>HO 2: Rent</th>\n",
       "      <td>9154</td>\n",
       "      <td>3266</td>\n",
       "    </tr>\n",
       "    <tr>\n",
       "      <th>HO 3: Mortgage</th>\n",
       "      <td>12800</td>\n",
       "      <td>3484</td>\n",
       "    </tr>\n",
       "  </tbody>\n",
       "</table>\n",
       "</div>"
      ],
      "text/plain": [
       "default              0     1\n",
       "Home Ownership2             \n",
       "HO 1: Own Home    2086   698\n",
       "HO 2: Rent        9154  3266\n",
       "HO 3: Mortgage   12800  3484"
      ]
     },
     "execution_count": 58,
     "metadata": {},
     "output_type": "execute_result"
    },
    {
     "data": {
      "application/javascript": [
       "\n",
       "            setTimeout(function() {\n",
       "                var nbb_cell_id = 58;\n",
       "                var nbb_unformatted_code = \"pd.crosstab(data_dropna[\\\"Home Ownership2\\\"], data_dropna[\\\"default\\\"])\";\n",
       "                var nbb_formatted_code = \"pd.crosstab(data_dropna[\\\"Home Ownership2\\\"], data_dropna[\\\"default\\\"])\";\n",
       "                var nbb_cells = Jupyter.notebook.get_cells();\n",
       "                for (var i = 0; i < nbb_cells.length; ++i) {\n",
       "                    if (nbb_cells[i].input_prompt_number == nbb_cell_id) {\n",
       "                        if (nbb_cells[i].get_text() == nbb_unformatted_code) {\n",
       "                             nbb_cells[i].set_text(nbb_formatted_code);\n",
       "                        }\n",
       "                        break;\n",
       "                    }\n",
       "                }\n",
       "            }, 500);\n",
       "            "
      ],
      "text/plain": [
       "<IPython.core.display.Javascript object>"
      ]
     },
     "metadata": {},
     "output_type": "display_data"
    }
   ],
   "source": [
    "pd.crosstab(data_dropna[\"Home Ownership2\"], data_dropna[\"default\"])"
   ]
  },
  {
   "cell_type": "code",
   "execution_count": 59,
   "metadata": {},
   "outputs": [
    {
     "data": {
      "text/html": [
       "<div>\n",
       "<style scoped>\n",
       "    .dataframe tbody tr th:only-of-type {\n",
       "        vertical-align: middle;\n",
       "    }\n",
       "\n",
       "    .dataframe tbody tr th {\n",
       "        vertical-align: top;\n",
       "    }\n",
       "\n",
       "    .dataframe thead th {\n",
       "        text-align: right;\n",
       "    }\n",
       "</style>\n",
       "<table border=\"1\" class=\"dataframe\">\n",
       "  <thead>\n",
       "    <tr style=\"text-align: right;\">\n",
       "      <th>default</th>\n",
       "      <th>0</th>\n",
       "      <th>1</th>\n",
       "    </tr>\n",
       "    <tr>\n",
       "      <th>Home Ownership2</th>\n",
       "      <th></th>\n",
       "      <th></th>\n",
       "    </tr>\n",
       "  </thead>\n",
       "  <tbody>\n",
       "    <tr>\n",
       "      <th>HO 1: Own Home</th>\n",
       "      <td>0.749282</td>\n",
       "      <td>0.250718</td>\n",
       "    </tr>\n",
       "    <tr>\n",
       "      <th>HO 2: Rent</th>\n",
       "      <td>0.737037</td>\n",
       "      <td>0.262963</td>\n",
       "    </tr>\n",
       "    <tr>\n",
       "      <th>HO 3: Mortgage</th>\n",
       "      <td>0.786048</td>\n",
       "      <td>0.213952</td>\n",
       "    </tr>\n",
       "  </tbody>\n",
       "</table>\n",
       "</div>"
      ],
      "text/plain": [
       "default                 0         1\n",
       "Home Ownership2                    \n",
       "HO 1: Own Home   0.749282  0.250718\n",
       "HO 2: Rent       0.737037  0.262963\n",
       "HO 3: Mortgage   0.786048  0.213952"
      ]
     },
     "execution_count": 59,
     "metadata": {},
     "output_type": "execute_result"
    },
    {
     "data": {
      "application/javascript": [
       "\n",
       "            setTimeout(function() {\n",
       "                var nbb_cell_id = 59;\n",
       "                var nbb_unformatted_code = \"pd.crosstab(data_dropna[\\\"Home Ownership2\\\"], data_dropna[\\\"default\\\"]).apply(\\n    lambda r: r / r.sum(), axis=1\\n)\";\n",
       "                var nbb_formatted_code = \"pd.crosstab(data_dropna[\\\"Home Ownership2\\\"], data_dropna[\\\"default\\\"]).apply(\\n    lambda r: r / r.sum(), axis=1\\n)\";\n",
       "                var nbb_cells = Jupyter.notebook.get_cells();\n",
       "                for (var i = 0; i < nbb_cells.length; ++i) {\n",
       "                    if (nbb_cells[i].input_prompt_number == nbb_cell_id) {\n",
       "                        if (nbb_cells[i].get_text() == nbb_unformatted_code) {\n",
       "                             nbb_cells[i].set_text(nbb_formatted_code);\n",
       "                        }\n",
       "                        break;\n",
       "                    }\n",
       "                }\n",
       "            }, 500);\n",
       "            "
      ],
      "text/plain": [
       "<IPython.core.display.Javascript object>"
      ]
     },
     "metadata": {},
     "output_type": "display_data"
    }
   ],
   "source": [
    "pd.crosstab(data_dropna[\"Home Ownership2\"], data_dropna[\"default\"]).apply(\n",
    "    lambda r: r / r.sum(), axis=1\n",
    ")"
   ]
  },
  {
   "cell_type": "markdown",
   "metadata": {},
   "source": [
    "#### Purpose"
   ]
  },
  {
   "cell_type": "code",
   "execution_count": 60,
   "metadata": {},
   "outputs": [
    {
     "data": {
      "image/png": "[encoded data removed]",
      "text/plain": [
       "<Figure size 432x288 with 1 Axes>"
      ]
     },
     "metadata": {
      "needs_background": "light"
     },
     "output_type": "display_data"
    },
    {
     "data": {
      "application/javascript": [
       "\n",
       "            setTimeout(function() {\n",
       "                var nbb_cell_id = 60;\n",
       "                var nbb_unformatted_code = \"plt.hist(data_dropna[\\\"Purpose\\\"], bins=5)\\nplt.show()\";\n",
       "                var nbb_formatted_code = \"plt.hist(data_dropna[\\\"Purpose\\\"], bins=5)\\nplt.show()\";\n",
       "                var nbb_cells = Jupyter.notebook.get_cells();\n",
       "                for (var i = 0; i < nbb_cells.length; ++i) {\n",
       "                    if (nbb_cells[i].input_prompt_number == nbb_cell_id) {\n",
       "                        if (nbb_cells[i].get_text() == nbb_unformatted_code) {\n",
       "                             nbb_cells[i].set_text(nbb_formatted_code);\n",
       "                        }\n",
       "                        break;\n",
       "                    }\n",
       "                }\n",
       "            }, 500);\n",
       "            "
      ],
      "text/plain": [
       "<IPython.core.display.Javascript object>"
      ]
     },
     "metadata": {},
     "output_type": "display_data"
    }
   ],
   "source": [
    "plt.hist(data_dropna[\"Purpose\"], bins=5)\n",
    "plt.show()"
   ]
  },
  {
   "cell_type": "code",
   "execution_count": 61,
   "metadata": {},
   "outputs": [
    {
     "data": {
      "text/html": [
       "<div>\n",
       "<style scoped>\n",
       "    .dataframe tbody tr th:only-of-type {\n",
       "        vertical-align: middle;\n",
       "    }\n",
       "\n",
       "    .dataframe tbody tr th {\n",
       "        vertical-align: top;\n",
       "    }\n",
       "\n",
       "    .dataframe thead th {\n",
       "        text-align: right;\n",
       "    }\n",
       "</style>\n",
       "<table border=\"1\" class=\"dataframe\">\n",
       "  <thead>\n",
       "    <tr style=\"text-align: right;\">\n",
       "      <th>default</th>\n",
       "      <th>0</th>\n",
       "      <th>1</th>\n",
       "    </tr>\n",
       "    <tr>\n",
       "      <th>Purpose</th>\n",
       "      <th></th>\n",
       "      <th></th>\n",
       "    </tr>\n",
       "  </thead>\n",
       "  <tbody>\n",
       "    <tr>\n",
       "      <th>Business Loan</th>\n",
       "      <td>385</td>\n",
       "      <td>166</td>\n",
       "    </tr>\n",
       "    <tr>\n",
       "      <th>Buy House</th>\n",
       "      <td>178</td>\n",
       "      <td>52</td>\n",
       "    </tr>\n",
       "    <tr>\n",
       "      <th>Buy a Car</th>\n",
       "      <td>308</td>\n",
       "      <td>57</td>\n",
       "    </tr>\n",
       "    <tr>\n",
       "      <th>Debt Consolidation</th>\n",
       "      <td>18505</td>\n",
       "      <td>5845</td>\n",
       "    </tr>\n",
       "    <tr>\n",
       "      <th>Educational Expenses</th>\n",
       "      <td>23</td>\n",
       "      <td>2</td>\n",
       "    </tr>\n",
       "    <tr>\n",
       "      <th>Home Improvements</th>\n",
       "      <td>1617</td>\n",
       "      <td>439</td>\n",
       "    </tr>\n",
       "    <tr>\n",
       "      <th>Medical Bills</th>\n",
       "      <td>296</td>\n",
       "      <td>97</td>\n",
       "    </tr>\n",
       "    <tr>\n",
       "      <th>Other</th>\n",
       "      <td>797</td>\n",
       "      <td>187</td>\n",
       "    </tr>\n",
       "    <tr>\n",
       "      <th>Take a Trip</th>\n",
       "      <td>150</td>\n",
       "      <td>36</td>\n",
       "    </tr>\n",
       "    <tr>\n",
       "      <th>major_purchase</th>\n",
       "      <td>73</td>\n",
       "      <td>24</td>\n",
       "    </tr>\n",
       "    <tr>\n",
       "      <th>moving</th>\n",
       "      <td>26</td>\n",
       "      <td>18</td>\n",
       "    </tr>\n",
       "    <tr>\n",
       "      <th>other</th>\n",
       "      <td>1569</td>\n",
       "      <td>464</td>\n",
       "    </tr>\n",
       "    <tr>\n",
       "      <th>renewable_energy</th>\n",
       "      <td>4</td>\n",
       "      <td>0</td>\n",
       "    </tr>\n",
       "    <tr>\n",
       "      <th>small_business</th>\n",
       "      <td>57</td>\n",
       "      <td>44</td>\n",
       "    </tr>\n",
       "    <tr>\n",
       "      <th>vacation</th>\n",
       "      <td>27</td>\n",
       "      <td>10</td>\n",
       "    </tr>\n",
       "    <tr>\n",
       "      <th>wedding</th>\n",
       "      <td>25</td>\n",
       "      <td>7</td>\n",
       "    </tr>\n",
       "  </tbody>\n",
       "</table>\n",
       "</div>"
      ],
      "text/plain": [
       "default                   0     1\n",
       "Purpose                          \n",
       "Business Loan           385   166\n",
       "Buy House               178    52\n",
       "Buy a Car               308    57\n",
       "Debt Consolidation    18505  5845\n",
       "Educational Expenses     23     2\n",
       "Home Improvements      1617   439\n",
       "Medical Bills           296    97\n",
       "Other                   797   187\n",
       "Take a Trip             150    36\n",
       "major_purchase           73    24\n",
       "moving                   26    18\n",
       "other                  1569   464\n",
       "renewable_energy          4     0\n",
       "small_business           57    44\n",
       "vacation                 27    10\n",
       "wedding                  25     7"
      ]
     },
     "execution_count": 61,
     "metadata": {},
     "output_type": "execute_result"
    },
    {
     "data": {
      "application/javascript": [
       "\n",
       "            setTimeout(function() {\n",
       "                var nbb_cell_id = 61;\n",
       "                var nbb_unformatted_code = \"pd.crosstab(data_dropna[\\\"Purpose\\\"], data_dropna[\\\"default\\\"])\";\n",
       "                var nbb_formatted_code = \"pd.crosstab(data_dropna[\\\"Purpose\\\"], data_dropna[\\\"default\\\"])\";\n",
       "                var nbb_cells = Jupyter.notebook.get_cells();\n",
       "                for (var i = 0; i < nbb_cells.length; ++i) {\n",
       "                    if (nbb_cells[i].input_prompt_number == nbb_cell_id) {\n",
       "                        if (nbb_cells[i].get_text() == nbb_unformatted_code) {\n",
       "                             nbb_cells[i].set_text(nbb_formatted_code);\n",
       "                        }\n",
       "                        break;\n",
       "                    }\n",
       "                }\n",
       "            }, 500);\n",
       "            "
      ],
      "text/plain": [
       "<IPython.core.display.Javascript object>"
      ]
     },
     "metadata": {},
     "output_type": "display_data"
    }
   ],
   "source": [
    "pd.crosstab(data_dropna[\"Purpose\"], data_dropna[\"default\"])"
   ]
  },
  {
   "cell_type": "code",
   "execution_count": 62,
   "metadata": {},
   "outputs": [
    {
     "data": {
      "text/html": [
       "<div>\n",
       "<style scoped>\n",
       "    .dataframe tbody tr th:only-of-type {\n",
       "        vertical-align: middle;\n",
       "    }\n",
       "\n",
       "    .dataframe tbody tr th {\n",
       "        vertical-align: top;\n",
       "    }\n",
       "\n",
       "    .dataframe thead th {\n",
       "        text-align: right;\n",
       "    }\n",
       "</style>\n",
       "<table border=\"1\" class=\"dataframe\">\n",
       "  <thead>\n",
       "    <tr style=\"text-align: right;\">\n",
       "      <th>default</th>\n",
       "      <th>0</th>\n",
       "      <th>1</th>\n",
       "    </tr>\n",
       "    <tr>\n",
       "      <th>Purpose</th>\n",
       "      <th></th>\n",
       "      <th></th>\n",
       "    </tr>\n",
       "  </thead>\n",
       "  <tbody>\n",
       "    <tr>\n",
       "      <th>Business Loan</th>\n",
       "      <td>0.698730</td>\n",
       "      <td>0.301270</td>\n",
       "    </tr>\n",
       "    <tr>\n",
       "      <th>Buy House</th>\n",
       "      <td>0.773913</td>\n",
       "      <td>0.226087</td>\n",
       "    </tr>\n",
       "    <tr>\n",
       "      <th>Buy a Car</th>\n",
       "      <td>0.843836</td>\n",
       "      <td>0.156164</td>\n",
       "    </tr>\n",
       "    <tr>\n",
       "      <th>Debt Consolidation</th>\n",
       "      <td>0.759959</td>\n",
       "      <td>0.240041</td>\n",
       "    </tr>\n",
       "    <tr>\n",
       "      <th>Educational Expenses</th>\n",
       "      <td>0.920000</td>\n",
       "      <td>0.080000</td>\n",
       "    </tr>\n",
       "    <tr>\n",
       "      <th>Home Improvements</th>\n",
       "      <td>0.786479</td>\n",
       "      <td>0.213521</td>\n",
       "    </tr>\n",
       "    <tr>\n",
       "      <th>Medical Bills</th>\n",
       "      <td>0.753181</td>\n",
       "      <td>0.246819</td>\n",
       "    </tr>\n",
       "    <tr>\n",
       "      <th>Other</th>\n",
       "      <td>0.809959</td>\n",
       "      <td>0.190041</td>\n",
       "    </tr>\n",
       "    <tr>\n",
       "      <th>Take a Trip</th>\n",
       "      <td>0.806452</td>\n",
       "      <td>0.193548</td>\n",
       "    </tr>\n",
       "    <tr>\n",
       "      <th>major_purchase</th>\n",
       "      <td>0.752577</td>\n",
       "      <td>0.247423</td>\n",
       "    </tr>\n",
       "    <tr>\n",
       "      <th>moving</th>\n",
       "      <td>0.590909</td>\n",
       "      <td>0.409091</td>\n",
       "    </tr>\n",
       "    <tr>\n",
       "      <th>other</th>\n",
       "      <td>0.771766</td>\n",
       "      <td>0.228234</td>\n",
       "    </tr>\n",
       "    <tr>\n",
       "      <th>renewable_energy</th>\n",
       "      <td>1.000000</td>\n",
       "      <td>0.000000</td>\n",
       "    </tr>\n",
       "    <tr>\n",
       "      <th>small_business</th>\n",
       "      <td>0.564356</td>\n",
       "      <td>0.435644</td>\n",
       "    </tr>\n",
       "    <tr>\n",
       "      <th>vacation</th>\n",
       "      <td>0.729730</td>\n",
       "      <td>0.270270</td>\n",
       "    </tr>\n",
       "    <tr>\n",
       "      <th>wedding</th>\n",
       "      <td>0.781250</td>\n",
       "      <td>0.218750</td>\n",
       "    </tr>\n",
       "  </tbody>\n",
       "</table>\n",
       "</div>"
      ],
      "text/plain": [
       "default                      0         1\n",
       "Purpose                                 \n",
       "Business Loan         0.698730  0.301270\n",
       "Buy House             0.773913  0.226087\n",
       "Buy a Car             0.843836  0.156164\n",
       "Debt Consolidation    0.759959  0.240041\n",
       "Educational Expenses  0.920000  0.080000\n",
       "Home Improvements     0.786479  0.213521\n",
       "Medical Bills         0.753181  0.246819\n",
       "Other                 0.809959  0.190041\n",
       "Take a Trip           0.806452  0.193548\n",
       "major_purchase        0.752577  0.247423\n",
       "moving                0.590909  0.409091\n",
       "other                 0.771766  0.228234\n",
       "renewable_energy      1.000000  0.000000\n",
       "small_business        0.564356  0.435644\n",
       "vacation              0.729730  0.270270\n",
       "wedding               0.781250  0.218750"
      ]
     },
     "execution_count": 62,
     "metadata": {},
     "output_type": "execute_result"
    },
    {
     "data": {
      "application/javascript": [
       "\n",
       "            setTimeout(function() {\n",
       "                var nbb_cell_id = 62;\n",
       "                var nbb_unformatted_code = \"pd.crosstab(data_dropna[\\\"Purpose\\\"], data_dropna[\\\"default\\\"]).apply(\\n    lambda r: r / r.sum(), axis=1\\n)\";\n",
       "                var nbb_formatted_code = \"pd.crosstab(data_dropna[\\\"Purpose\\\"], data_dropna[\\\"default\\\"]).apply(\\n    lambda r: r / r.sum(), axis=1\\n)\";\n",
       "                var nbb_cells = Jupyter.notebook.get_cells();\n",
       "                for (var i = 0; i < nbb_cells.length; ++i) {\n",
       "                    if (nbb_cells[i].input_prompt_number == nbb_cell_id) {\n",
       "                        if (nbb_cells[i].get_text() == nbb_unformatted_code) {\n",
       "                             nbb_cells[i].set_text(nbb_formatted_code);\n",
       "                        }\n",
       "                        break;\n",
       "                    }\n",
       "                }\n",
       "            }, 500);\n",
       "            "
      ],
      "text/plain": [
       "<IPython.core.display.Javascript object>"
      ]
     },
     "metadata": {},
     "output_type": "display_data"
    }
   ],
   "source": [
    "pd.crosstab(data_dropna[\"Purpose\"], data_dropna[\"default\"]).apply(\n",
    "    lambda r: r / r.sum(), axis=1\n",
    ")"
   ]
  },
  {
   "cell_type": "code",
   "execution_count": 63,
   "metadata": {},
   "outputs": [
    {
     "data": {
      "application/javascript": [
       "\n",
       "            setTimeout(function() {\n",
       "                var nbb_cell_id = 63;\n",
       "                var nbb_unformatted_code = \"data_dropna[\\\"Purpose2\\\"] = data_dropna[\\\"Purpose\\\"].apply(\\n    lambda x: \\\"Purpose 1: Vacation\\\"\\n    if (x == \\\"vacation\\\" or x == \\\"Take a Trip\\\")\\n    else (\\n        \\\"Purpose 2: Business\\\"\\n        if (x == \\\"small_business\\\" or x == \\\"Business Loan\\\")\\n        else (\\n            \\\"Purpose 3: Debt Consolidation\\\"\\n            if x == \\\"Debt Consolidation\\\"\\n            else (\\n                \\\"Purpose 4: Home\\\"\\n                if (x == \\\"Buy House\\\" or x == \\\"Home Improvements\\\")\\n                else (\\\"Purpose 5: Car\\\" if (x == \\\"Buy a Car\\\") else \\\"Purpose 6: Other\\\")\\n            )\\n        )\\n    )\\n)\";\n",
       "                var nbb_formatted_code = \"data_dropna[\\\"Purpose2\\\"] = data_dropna[\\\"Purpose\\\"].apply(\\n    lambda x: \\\"Purpose 1: Vacation\\\"\\n    if (x == \\\"vacation\\\" or x == \\\"Take a Trip\\\")\\n    else (\\n        \\\"Purpose 2: Business\\\"\\n        if (x == \\\"small_business\\\" or x == \\\"Business Loan\\\")\\n        else (\\n            \\\"Purpose 3: Debt Consolidation\\\"\\n            if x == \\\"Debt Consolidation\\\"\\n            else (\\n                \\\"Purpose 4: Home\\\"\\n                if (x == \\\"Buy House\\\" or x == \\\"Home Improvements\\\")\\n                else (\\\"Purpose 5: Car\\\" if (x == \\\"Buy a Car\\\") else \\\"Purpose 6: Other\\\")\\n            )\\n        )\\n    )\\n)\";\n",
       "                var nbb_cells = Jupyter.notebook.get_cells();\n",
       "                for (var i = 0; i < nbb_cells.length; ++i) {\n",
       "                    if (nbb_cells[i].input_prompt_number == nbb_cell_id) {\n",
       "                        if (nbb_cells[i].get_text() == nbb_unformatted_code) {\n",
       "                             nbb_cells[i].set_text(nbb_formatted_code);\n",
       "                        }\n",
       "                        break;\n",
       "                    }\n",
       "                }\n",
       "            }, 500);\n",
       "            "
      ],
      "text/plain": [
       "<IPython.core.display.Javascript object>"
      ]
     },
     "metadata": {},
     "output_type": "display_data"
    }
   ],
   "source": [
    "data_dropna[\"Purpose2\"] = data_dropna[\"Purpose\"].apply(\n",
    "    lambda x: \"Purpose 1: Vacation\"\n",
    "    if (x == \"vacation\" or x == \"Take a Trip\")\n",
    "    else (\n",
    "        \"Purpose 2: Business\"\n",
    "        if (x == \"small_business\" or x == \"Business Loan\")\n",
    "        else (\n",
    "            \"Purpose 3: Debt Consolidation\"\n",
    "            if x == \"Debt Consolidation\"\n",
    "            else (\n",
    "                \"Purpose 4: Home\"\n",
    "                if (x == \"Buy House\" or x == \"Home Improvements\")\n",
    "                else (\"Purpose 5: Car\" if (x == \"Buy a Car\") else \"Purpose 6: Other\")\n",
    "            )\n",
    "        )\n",
    "    )\n",
    ")"
   ]
  },
  {
   "cell_type": "code",
   "execution_count": 64,
   "metadata": {},
   "outputs": [
    {
     "data": {
      "text/html": [
       "<div>\n",
       "<style scoped>\n",
       "    .dataframe tbody tr th:only-of-type {\n",
       "        vertical-align: middle;\n",
       "    }\n",
       "\n",
       "    .dataframe tbody tr th {\n",
       "        vertical-align: top;\n",
       "    }\n",
       "\n",
       "    .dataframe thead th {\n",
       "        text-align: right;\n",
       "    }\n",
       "</style>\n",
       "<table border=\"1\" class=\"dataframe\">\n",
       "  <thead>\n",
       "    <tr style=\"text-align: right;\">\n",
       "      <th>default</th>\n",
       "      <th>0</th>\n",
       "      <th>1</th>\n",
       "    </tr>\n",
       "    <tr>\n",
       "      <th>Purpose2</th>\n",
       "      <th></th>\n",
       "      <th></th>\n",
       "    </tr>\n",
       "  </thead>\n",
       "  <tbody>\n",
       "    <tr>\n",
       "      <th>Purpose 1: Vacation</th>\n",
       "      <td>0.793722</td>\n",
       "      <td>0.206278</td>\n",
       "    </tr>\n",
       "    <tr>\n",
       "      <th>Purpose 2: Business</th>\n",
       "      <td>0.677914</td>\n",
       "      <td>0.322086</td>\n",
       "    </tr>\n",
       "    <tr>\n",
       "      <th>Purpose 3: Debt Consolidation</th>\n",
       "      <td>0.759959</td>\n",
       "      <td>0.240041</td>\n",
       "    </tr>\n",
       "    <tr>\n",
       "      <th>Purpose 4: Home</th>\n",
       "      <td>0.785214</td>\n",
       "      <td>0.214786</td>\n",
       "    </tr>\n",
       "    <tr>\n",
       "      <th>Purpose 5: Car</th>\n",
       "      <td>0.843836</td>\n",
       "      <td>0.156164</td>\n",
       "    </tr>\n",
       "    <tr>\n",
       "      <th>Purpose 6: Other</th>\n",
       "      <td>0.778793</td>\n",
       "      <td>0.221207</td>\n",
       "    </tr>\n",
       "  </tbody>\n",
       "</table>\n",
       "</div>"
      ],
      "text/plain": [
       "default                               0         1\n",
       "Purpose2                                         \n",
       "Purpose 1: Vacation            0.793722  0.206278\n",
       "Purpose 2: Business            0.677914  0.322086\n",
       "Purpose 3: Debt Consolidation  0.759959  0.240041\n",
       "Purpose 4: Home                0.785214  0.214786\n",
       "Purpose 5: Car                 0.843836  0.156164\n",
       "Purpose 6: Other               0.778793  0.221207"
      ]
     },
     "execution_count": 64,
     "metadata": {},
     "output_type": "execute_result"
    },
    {
     "data": {
      "application/javascript": [
       "\n",
       "            setTimeout(function() {\n",
       "                var nbb_cell_id = 64;\n",
       "                var nbb_unformatted_code = \"pd.crosstab(data_dropna[\\\"Purpose2\\\"], data_dropna[\\\"default\\\"]).apply(\\n    lambda r: r / r.sum(), axis=1\\n)\";\n",
       "                var nbb_formatted_code = \"pd.crosstab(data_dropna[\\\"Purpose2\\\"], data_dropna[\\\"default\\\"]).apply(\\n    lambda r: r / r.sum(), axis=1\\n)\";\n",
       "                var nbb_cells = Jupyter.notebook.get_cells();\n",
       "                for (var i = 0; i < nbb_cells.length; ++i) {\n",
       "                    if (nbb_cells[i].input_prompt_number == nbb_cell_id) {\n",
       "                        if (nbb_cells[i].get_text() == nbb_unformatted_code) {\n",
       "                             nbb_cells[i].set_text(nbb_formatted_code);\n",
       "                        }\n",
       "                        break;\n",
       "                    }\n",
       "                }\n",
       "            }, 500);\n",
       "            "
      ],
      "text/plain": [
       "<IPython.core.display.Javascript object>"
      ]
     },
     "metadata": {},
     "output_type": "display_data"
    }
   ],
   "source": [
    "pd.crosstab(data_dropna[\"Purpose2\"], data_dropna[\"default\"]).apply(\n",
    "    lambda r: r / r.sum(), axis=1\n",
    ")"
   ]
  },
  {
   "cell_type": "markdown",
   "metadata": {},
   "source": [
    "#### Term"
   ]
  },
  {
   "cell_type": "code",
   "execution_count": 65,
   "metadata": {},
   "outputs": [
    {
     "data": {
      "image/png": "[encoded data removed]",
      "text/plain": [
       "<Figure size 432x288 with 1 Axes>"
      ]
     },
     "metadata": {
      "needs_background": "light"
     },
     "output_type": "display_data"
    },
    {
     "data": {
      "application/javascript": [
       "\n",
       "            setTimeout(function() {\n",
       "                var nbb_cell_id = 65;\n",
       "                var nbb_unformatted_code = \"plt.hist(data_dropna[\\\"Term\\\"], bins=5)\\nplt.show()\";\n",
       "                var nbb_formatted_code = \"plt.hist(data_dropna[\\\"Term\\\"], bins=5)\\nplt.show()\";\n",
       "                var nbb_cells = Jupyter.notebook.get_cells();\n",
       "                for (var i = 0; i < nbb_cells.length; ++i) {\n",
       "                    if (nbb_cells[i].input_prompt_number == nbb_cell_id) {\n",
       "                        if (nbb_cells[i].get_text() == nbb_unformatted_code) {\n",
       "                             nbb_cells[i].set_text(nbb_formatted_code);\n",
       "                        }\n",
       "                        break;\n",
       "                    }\n",
       "                }\n",
       "            }, 500);\n",
       "            "
      ],
      "text/plain": [
       "<IPython.core.display.Javascript object>"
      ]
     },
     "metadata": {},
     "output_type": "display_data"
    }
   ],
   "source": [
    "plt.hist(data_dropna[\"Term\"], bins=5)\n",
    "plt.show()"
   ]
  },
  {
   "cell_type": "code",
   "execution_count": 66,
   "metadata": {},
   "outputs": [
    {
     "data": {
      "text/html": [
       "<div>\n",
       "<style scoped>\n",
       "    .dataframe tbody tr th:only-of-type {\n",
       "        vertical-align: middle;\n",
       "    }\n",
       "\n",
       "    .dataframe tbody tr th {\n",
       "        vertical-align: top;\n",
       "    }\n",
       "\n",
       "    .dataframe thead th {\n",
       "        text-align: right;\n",
       "    }\n",
       "</style>\n",
       "<table border=\"1\" class=\"dataframe\">\n",
       "  <thead>\n",
       "    <tr style=\"text-align: right;\">\n",
       "      <th>default</th>\n",
       "      <th>0</th>\n",
       "      <th>1</th>\n",
       "    </tr>\n",
       "    <tr>\n",
       "      <th>Term</th>\n",
       "      <th></th>\n",
       "      <th></th>\n",
       "    </tr>\n",
       "  </thead>\n",
       "  <tbody>\n",
       "    <tr>\n",
       "      <th>Long Term</th>\n",
       "      <td>6716</td>\n",
       "      <td>2863</td>\n",
       "    </tr>\n",
       "    <tr>\n",
       "      <th>Short Term</th>\n",
       "      <td>17324</td>\n",
       "      <td>4585</td>\n",
       "    </tr>\n",
       "  </tbody>\n",
       "</table>\n",
       "</div>"
      ],
      "text/plain": [
       "default         0     1\n",
       "Term                   \n",
       "Long Term    6716  2863\n",
       "Short Term  17324  4585"
      ]
     },
     "execution_count": 66,
     "metadata": {},
     "output_type": "execute_result"
    },
    {
     "data": {
      "application/javascript": [
       "\n",
       "            setTimeout(function() {\n",
       "                var nbb_cell_id = 66;\n",
       "                var nbb_unformatted_code = \"pd.crosstab(data_dropna[\\\"Term\\\"], data_dropna[\\\"default\\\"])\";\n",
       "                var nbb_formatted_code = \"pd.crosstab(data_dropna[\\\"Term\\\"], data_dropna[\\\"default\\\"])\";\n",
       "                var nbb_cells = Jupyter.notebook.get_cells();\n",
       "                for (var i = 0; i < nbb_cells.length; ++i) {\n",
       "                    if (nbb_cells[i].input_prompt_number == nbb_cell_id) {\n",
       "                        if (nbb_cells[i].get_text() == nbb_unformatted_code) {\n",
       "                             nbb_cells[i].set_text(nbb_formatted_code);\n",
       "                        }\n",
       "                        break;\n",
       "                    }\n",
       "                }\n",
       "            }, 500);\n",
       "            "
      ],
      "text/plain": [
       "<IPython.core.display.Javascript object>"
      ]
     },
     "metadata": {},
     "output_type": "display_data"
    }
   ],
   "source": [
    "pd.crosstab(data_dropna[\"Term\"], data_dropna[\"default\"])"
   ]
  },
  {
   "cell_type": "code",
   "execution_count": 67,
   "metadata": {},
   "outputs": [
    {
     "data": {
      "text/html": [
       "<div>\n",
       "<style scoped>\n",
       "    .dataframe tbody tr th:only-of-type {\n",
       "        vertical-align: middle;\n",
       "    }\n",
       "\n",
       "    .dataframe tbody tr th {\n",
       "        vertical-align: top;\n",
       "    }\n",
       "\n",
       "    .dataframe thead th {\n",
       "        text-align: right;\n",
       "    }\n",
       "</style>\n",
       "<table border=\"1\" class=\"dataframe\">\n",
       "  <thead>\n",
       "    <tr style=\"text-align: right;\">\n",
       "      <th>default</th>\n",
       "      <th>0</th>\n",
       "      <th>1</th>\n",
       "    </tr>\n",
       "    <tr>\n",
       "      <th>Term</th>\n",
       "      <th></th>\n",
       "      <th></th>\n",
       "    </tr>\n",
       "  </thead>\n",
       "  <tbody>\n",
       "    <tr>\n",
       "      <th>Long Term</th>\n",
       "      <td>0.701117</td>\n",
       "      <td>0.298883</td>\n",
       "    </tr>\n",
       "    <tr>\n",
       "      <th>Short Term</th>\n",
       "      <td>0.790725</td>\n",
       "      <td>0.209275</td>\n",
       "    </tr>\n",
       "  </tbody>\n",
       "</table>\n",
       "</div>"
      ],
      "text/plain": [
       "default            0         1\n",
       "Term                          \n",
       "Long Term   0.701117  0.298883\n",
       "Short Term  0.790725  0.209275"
      ]
     },
     "execution_count": 67,
     "metadata": {},
     "output_type": "execute_result"
    },
    {
     "data": {
      "application/javascript": [
       "\n",
       "            setTimeout(function() {\n",
       "                var nbb_cell_id = 67;\n",
       "                var nbb_unformatted_code = \"pd.crosstab(data_dropna[\\\"Term\\\"], data_dropna[\\\"default\\\"]).apply(\\n    lambda r: r / r.sum(), axis=1\\n)\";\n",
       "                var nbb_formatted_code = \"pd.crosstab(data_dropna[\\\"Term\\\"], data_dropna[\\\"default\\\"]).apply(\\n    lambda r: r / r.sum(), axis=1\\n)\";\n",
       "                var nbb_cells = Jupyter.notebook.get_cells();\n",
       "                for (var i = 0; i < nbb_cells.length; ++i) {\n",
       "                    if (nbb_cells[i].input_prompt_number == nbb_cell_id) {\n",
       "                        if (nbb_cells[i].get_text() == nbb_unformatted_code) {\n",
       "                             nbb_cells[i].set_text(nbb_formatted_code);\n",
       "                        }\n",
       "                        break;\n",
       "                    }\n",
       "                }\n",
       "            }, 500);\n",
       "            "
      ],
      "text/plain": [
       "<IPython.core.display.Javascript object>"
      ]
     },
     "metadata": {},
     "output_type": "display_data"
    }
   ],
   "source": [
    "pd.crosstab(data_dropna[\"Term\"], data_dropna[\"default\"]).apply(\n",
    "    lambda r: r / r.sum(), axis=1\n",
    ")"
   ]
  },
  {
   "cell_type": "markdown",
   "metadata": {},
   "source": [
    "#### Tax Liens"
   ]
  },
  {
   "cell_type": "code",
   "execution_count": 68,
   "metadata": {},
   "outputs": [
    {
     "data": {
      "image/png": "[encoded data removed]",
      "text/plain": [
       "<Figure size 432x288 with 1 Axes>"
      ]
     },
     "metadata": {
      "needs_background": "light"
     },
     "output_type": "display_data"
    },
    {
     "data": {
      "application/javascript": [
       "\n",
       "            setTimeout(function() {\n",
       "                var nbb_cell_id = 68;\n",
       "                var nbb_unformatted_code = \"plt.hist(data_dropna[\\\"Tax Liens\\\"], bins=5)\\nplt.show()\";\n",
       "                var nbb_formatted_code = \"plt.hist(data_dropna[\\\"Tax Liens\\\"], bins=5)\\nplt.show()\";\n",
       "                var nbb_cells = Jupyter.notebook.get_cells();\n",
       "                for (var i = 0; i < nbb_cells.length; ++i) {\n",
       "                    if (nbb_cells[i].input_prompt_number == nbb_cell_id) {\n",
       "                        if (nbb_cells[i].get_text() == nbb_unformatted_code) {\n",
       "                             nbb_cells[i].set_text(nbb_formatted_code);\n",
       "                        }\n",
       "                        break;\n",
       "                    }\n",
       "                }\n",
       "            }, 500);\n",
       "            "
      ],
      "text/plain": [
       "<IPython.core.display.Javascript object>"
      ]
     },
     "metadata": {},
     "output_type": "display_data"
    }
   ],
   "source": [
    "plt.hist(data_dropna[\"Tax Liens\"], bins=5)\n",
    "plt.show()"
   ]
  },
  {
   "cell_type": "code",
   "execution_count": 69,
   "metadata": {},
   "outputs": [
    {
     "data": {
      "text/html": [
       "<div>\n",
       "<style scoped>\n",
       "    .dataframe tbody tr th:only-of-type {\n",
       "        vertical-align: middle;\n",
       "    }\n",
       "\n",
       "    .dataframe tbody tr th {\n",
       "        vertical-align: top;\n",
       "    }\n",
       "\n",
       "    .dataframe thead th {\n",
       "        text-align: right;\n",
       "    }\n",
       "</style>\n",
       "<table border=\"1\" class=\"dataframe\">\n",
       "  <thead>\n",
       "    <tr style=\"text-align: right;\">\n",
       "      <th>default</th>\n",
       "      <th>0</th>\n",
       "      <th>1</th>\n",
       "    </tr>\n",
       "    <tr>\n",
       "      <th>Tax Liens</th>\n",
       "      <th></th>\n",
       "      <th></th>\n",
       "    </tr>\n",
       "  </thead>\n",
       "  <tbody>\n",
       "    <tr>\n",
       "      <th>0.0</th>\n",
       "      <td>23451</td>\n",
       "      <td>7238</td>\n",
       "    </tr>\n",
       "    <tr>\n",
       "      <th>1.0</th>\n",
       "      <td>418</td>\n",
       "      <td>138</td>\n",
       "    </tr>\n",
       "    <tr>\n",
       "      <th>2.0</th>\n",
       "      <td>111</td>\n",
       "      <td>41</td>\n",
       "    </tr>\n",
       "    <tr>\n",
       "      <th>3.0</th>\n",
       "      <td>29</td>\n",
       "      <td>13</td>\n",
       "    </tr>\n",
       "    <tr>\n",
       "      <th>4.0</th>\n",
       "      <td>18</td>\n",
       "      <td>11</td>\n",
       "    </tr>\n",
       "    <tr>\n",
       "      <th>5.0</th>\n",
       "      <td>4</td>\n",
       "      <td>5</td>\n",
       "    </tr>\n",
       "    <tr>\n",
       "      <th>6.0</th>\n",
       "      <td>5</td>\n",
       "      <td>0</td>\n",
       "    </tr>\n",
       "    <tr>\n",
       "      <th>7.0</th>\n",
       "      <td>3</td>\n",
       "      <td>1</td>\n",
       "    </tr>\n",
       "    <tr>\n",
       "      <th>9.0</th>\n",
       "      <td>0</td>\n",
       "      <td>1</td>\n",
       "    </tr>\n",
       "    <tr>\n",
       "      <th>15.0</th>\n",
       "      <td>1</td>\n",
       "      <td>0</td>\n",
       "    </tr>\n",
       "  </tbody>\n",
       "</table>\n",
       "</div>"
      ],
      "text/plain": [
       "default        0     1\n",
       "Tax Liens             \n",
       "0.0        23451  7238\n",
       "1.0          418   138\n",
       "2.0          111    41\n",
       "3.0           29    13\n",
       "4.0           18    11\n",
       "5.0            4     5\n",
       "6.0            5     0\n",
       "7.0            3     1\n",
       "9.0            0     1\n",
       "15.0           1     0"
      ]
     },
     "execution_count": 69,
     "metadata": {},
     "output_type": "execute_result"
    },
    {
     "data": {
      "application/javascript": [
       "\n",
       "            setTimeout(function() {\n",
       "                var nbb_cell_id = 69;\n",
       "                var nbb_unformatted_code = \"pd.crosstab(data_dropna[\\\"Tax Liens\\\"], data_dropna[\\\"default\\\"])\";\n",
       "                var nbb_formatted_code = \"pd.crosstab(data_dropna[\\\"Tax Liens\\\"], data_dropna[\\\"default\\\"])\";\n",
       "                var nbb_cells = Jupyter.notebook.get_cells();\n",
       "                for (var i = 0; i < nbb_cells.length; ++i) {\n",
       "                    if (nbb_cells[i].input_prompt_number == nbb_cell_id) {\n",
       "                        if (nbb_cells[i].get_text() == nbb_unformatted_code) {\n",
       "                             nbb_cells[i].set_text(nbb_formatted_code);\n",
       "                        }\n",
       "                        break;\n",
       "                    }\n",
       "                }\n",
       "            }, 500);\n",
       "            "
      ],
      "text/plain": [
       "<IPython.core.display.Javascript object>"
      ]
     },
     "metadata": {},
     "output_type": "display_data"
    }
   ],
   "source": [
    "pd.crosstab(data_dropna[\"Tax Liens\"], data_dropna[\"default\"])"
   ]
  },
  {
   "cell_type": "code",
   "execution_count": 70,
   "metadata": {},
   "outputs": [
    {
     "data": {
      "application/javascript": [
       "\n",
       "            setTimeout(function() {\n",
       "                var nbb_cell_id = 70;\n",
       "                var nbb_unformatted_code = \"data_dropna[\\\"Tax Liens2\\\"] = data_dropna[\\\"Tax Liens\\\"].apply(\\n    lambda x: \\\"Tax Liens 1: 0\\\" if x == 0 else \\\"Tax Liens 2: >0\\\"\\n)\";\n",
       "                var nbb_formatted_code = \"data_dropna[\\\"Tax Liens2\\\"] = data_dropna[\\\"Tax Liens\\\"].apply(\\n    lambda x: \\\"Tax Liens 1: 0\\\" if x == 0 else \\\"Tax Liens 2: >0\\\"\\n)\";\n",
       "                var nbb_cells = Jupyter.notebook.get_cells();\n",
       "                for (var i = 0; i < nbb_cells.length; ++i) {\n",
       "                    if (nbb_cells[i].input_prompt_number == nbb_cell_id) {\n",
       "                        if (nbb_cells[i].get_text() == nbb_unformatted_code) {\n",
       "                             nbb_cells[i].set_text(nbb_formatted_code);\n",
       "                        }\n",
       "                        break;\n",
       "                    }\n",
       "                }\n",
       "            }, 500);\n",
       "            "
      ],
      "text/plain": [
       "<IPython.core.display.Javascript object>"
      ]
     },
     "metadata": {},
     "output_type": "display_data"
    }
   ],
   "source": [
    "data_dropna[\"Tax Liens2\"] = data_dropna[\"Tax Liens\"].apply(\n",
    "    lambda x: \"Tax Liens 1: 0\" if x == 0 else \"Tax Liens 2: >0\"\n",
    ")"
   ]
  },
  {
   "cell_type": "code",
   "execution_count": 71,
   "metadata": {},
   "outputs": [
    {
     "data": {
      "text/html": [
       "<div>\n",
       "<style scoped>\n",
       "    .dataframe tbody tr th:only-of-type {\n",
       "        vertical-align: middle;\n",
       "    }\n",
       "\n",
       "    .dataframe tbody tr th {\n",
       "        vertical-align: top;\n",
       "    }\n",
       "\n",
       "    .dataframe thead th {\n",
       "        text-align: right;\n",
       "    }\n",
       "</style>\n",
       "<table border=\"1\" class=\"dataframe\">\n",
       "  <thead>\n",
       "    <tr style=\"text-align: right;\">\n",
       "      <th>default</th>\n",
       "      <th>0</th>\n",
       "      <th>1</th>\n",
       "    </tr>\n",
       "    <tr>\n",
       "      <th>Tax Liens2</th>\n",
       "      <th></th>\n",
       "      <th></th>\n",
       "    </tr>\n",
       "  </thead>\n",
       "  <tbody>\n",
       "    <tr>\n",
       "      <th>Tax Liens 1: 0</th>\n",
       "      <td>23451</td>\n",
       "      <td>7238</td>\n",
       "    </tr>\n",
       "    <tr>\n",
       "      <th>Tax Liens 2: &gt;0</th>\n",
       "      <td>589</td>\n",
       "      <td>210</td>\n",
       "    </tr>\n",
       "  </tbody>\n",
       "</table>\n",
       "</div>"
      ],
      "text/plain": [
       "default              0     1\n",
       "Tax Liens2                  \n",
       "Tax Liens 1: 0   23451  7238\n",
       "Tax Liens 2: >0    589   210"
      ]
     },
     "execution_count": 71,
     "metadata": {},
     "output_type": "execute_result"
    },
    {
     "data": {
      "application/javascript": [
       "\n",
       "            setTimeout(function() {\n",
       "                var nbb_cell_id = 71;\n",
       "                var nbb_unformatted_code = \"pd.crosstab(data_dropna[\\\"Tax Liens2\\\"], data_dropna[\\\"default\\\"])\";\n",
       "                var nbb_formatted_code = \"pd.crosstab(data_dropna[\\\"Tax Liens2\\\"], data_dropna[\\\"default\\\"])\";\n",
       "                var nbb_cells = Jupyter.notebook.get_cells();\n",
       "                for (var i = 0; i < nbb_cells.length; ++i) {\n",
       "                    if (nbb_cells[i].input_prompt_number == nbb_cell_id) {\n",
       "                        if (nbb_cells[i].get_text() == nbb_unformatted_code) {\n",
       "                             nbb_cells[i].set_text(nbb_formatted_code);\n",
       "                        }\n",
       "                        break;\n",
       "                    }\n",
       "                }\n",
       "            }, 500);\n",
       "            "
      ],
      "text/plain": [
       "<IPython.core.display.Javascript object>"
      ]
     },
     "metadata": {},
     "output_type": "display_data"
    }
   ],
   "source": [
    "pd.crosstab(data_dropna[\"Tax Liens2\"], data_dropna[\"default\"])"
   ]
  },
  {
   "cell_type": "code",
   "execution_count": 72,
   "metadata": {},
   "outputs": [
    {
     "data": {
      "text/html": [
       "<div>\n",
       "<style scoped>\n",
       "    .dataframe tbody tr th:only-of-type {\n",
       "        vertical-align: middle;\n",
       "    }\n",
       "\n",
       "    .dataframe tbody tr th {\n",
       "        vertical-align: top;\n",
       "    }\n",
       "\n",
       "    .dataframe thead th {\n",
       "        text-align: right;\n",
       "    }\n",
       "</style>\n",
       "<table border=\"1\" class=\"dataframe\">\n",
       "  <thead>\n",
       "    <tr style=\"text-align: right;\">\n",
       "      <th>default</th>\n",
       "      <th>0</th>\n",
       "      <th>1</th>\n",
       "    </tr>\n",
       "    <tr>\n",
       "      <th>Tax Liens2</th>\n",
       "      <th></th>\n",
       "      <th></th>\n",
       "    </tr>\n",
       "  </thead>\n",
       "  <tbody>\n",
       "    <tr>\n",
       "      <th>Tax Liens 1: 0</th>\n",
       "      <td>0.764150</td>\n",
       "      <td>0.235850</td>\n",
       "    </tr>\n",
       "    <tr>\n",
       "      <th>Tax Liens 2: &gt;0</th>\n",
       "      <td>0.737171</td>\n",
       "      <td>0.262829</td>\n",
       "    </tr>\n",
       "  </tbody>\n",
       "</table>\n",
       "</div>"
      ],
      "text/plain": [
       "default                 0         1\n",
       "Tax Liens2                         \n",
       "Tax Liens 1: 0   0.764150  0.235850\n",
       "Tax Liens 2: >0  0.737171  0.262829"
      ]
     },
     "execution_count": 72,
     "metadata": {},
     "output_type": "execute_result"
    },
    {
     "data": {
      "application/javascript": [
       "\n",
       "            setTimeout(function() {\n",
       "                var nbb_cell_id = 72;\n",
       "                var nbb_unformatted_code = \"pd.crosstab(data_dropna[\\\"Tax Liens2\\\"], data_dropna[\\\"default\\\"]).apply(\\n    lambda r: r / r.sum(), axis=1\\n)\";\n",
       "                var nbb_formatted_code = \"pd.crosstab(data_dropna[\\\"Tax Liens2\\\"], data_dropna[\\\"default\\\"]).apply(\\n    lambda r: r / r.sum(), axis=1\\n)\";\n",
       "                var nbb_cells = Jupyter.notebook.get_cells();\n",
       "                for (var i = 0; i < nbb_cells.length; ++i) {\n",
       "                    if (nbb_cells[i].input_prompt_number == nbb_cell_id) {\n",
       "                        if (nbb_cells[i].get_text() == nbb_unformatted_code) {\n",
       "                             nbb_cells[i].set_text(nbb_formatted_code);\n",
       "                        }\n",
       "                        break;\n",
       "                    }\n",
       "                }\n",
       "            }, 500);\n",
       "            "
      ],
      "text/plain": [
       "<IPython.core.display.Javascript object>"
      ]
     },
     "metadata": {},
     "output_type": "display_data"
    }
   ],
   "source": [
    "pd.crosstab(data_dropna[\"Tax Liens2\"], data_dropna[\"default\"]).apply(\n",
    "    lambda r: r / r.sum(), axis=1\n",
    ")"
   ]
  },
  {
   "cell_type": "markdown",
   "metadata": {},
   "source": [
    "## Create buckets"
   ]
  },
  {
   "cell_type": "markdown",
   "metadata": {},
   "source": [
    "#### Credit Score"
   ]
  },
  {
   "cell_type": "code",
   "execution_count": 73,
   "metadata": {},
   "outputs": [
    {
     "data": {
      "application/javascript": [
       "\n",
       "            setTimeout(function() {\n",
       "                var nbb_cell_id = 73;\n",
       "                var nbb_unformatted_code = \"data_dropna = data_dropna.join(\\n    pd.get_dummies(data_dropna[\\\"Credit Score\\\"], drop_first=True)\\n)\";\n",
       "                var nbb_formatted_code = \"data_dropna = data_dropna.join(\\n    pd.get_dummies(data_dropna[\\\"Credit Score\\\"], drop_first=True)\\n)\";\n",
       "                var nbb_cells = Jupyter.notebook.get_cells();\n",
       "                for (var i = 0; i < nbb_cells.length; ++i) {\n",
       "                    if (nbb_cells[i].input_prompt_number == nbb_cell_id) {\n",
       "                        if (nbb_cells[i].get_text() == nbb_unformatted_code) {\n",
       "                             nbb_cells[i].set_text(nbb_formatted_code);\n",
       "                        }\n",
       "                        break;\n",
       "                    }\n",
       "                }\n",
       "            }, 500);\n",
       "            "
      ],
      "text/plain": [
       "<IPython.core.display.Javascript object>"
      ]
     },
     "metadata": {},
     "output_type": "display_data"
    }
   ],
   "source": [
    "data_dropna = data_dropna.join(\n",
    "    pd.get_dummies(data_dropna[\"Credit Score\"], drop_first=True)\n",
    ")"
   ]
  },
  {
   "cell_type": "code",
   "execution_count": 74,
   "metadata": {},
   "outputs": [
    {
     "data": {
      "application/javascript": [
       "\n",
       "            setTimeout(function() {\n",
       "                var nbb_cell_id = 74;\n",
       "                var nbb_unformatted_code = \"data_dropna = data_dropna.rename(\\n    index=str,\\n    columns={\\n        \\\"Average \\\": \\\"Credit Average\\\",\\n        \\\"Good\\\": \\\"Credit Good\\\",\\n        \\\"Very Good\\\": \\\"Credit Very Good\\\",\\n    },\\n)\";\n",
       "                var nbb_formatted_code = \"data_dropna = data_dropna.rename(\\n    index=str,\\n    columns={\\n        \\\"Average \\\": \\\"Credit Average\\\",\\n        \\\"Good\\\": \\\"Credit Good\\\",\\n        \\\"Very Good\\\": \\\"Credit Very Good\\\",\\n    },\\n)\";\n",
       "                var nbb_cells = Jupyter.notebook.get_cells();\n",
       "                for (var i = 0; i < nbb_cells.length; ++i) {\n",
       "                    if (nbb_cells[i].input_prompt_number == nbb_cell_id) {\n",
       "                        if (nbb_cells[i].get_text() == nbb_unformatted_code) {\n",
       "                             nbb_cells[i].set_text(nbb_formatted_code);\n",
       "                        }\n",
       "                        break;\n",
       "                    }\n",
       "                }\n",
       "            }, 500);\n",
       "            "
      ],
      "text/plain": [
       "<IPython.core.display.Javascript object>"
      ]
     },
     "metadata": {},
     "output_type": "display_data"
    }
   ],
   "source": [
    "data_dropna = data_dropna.rename(\n",
    "    index=str,\n",
    "    columns={\n",
    "        \"Average \": \"Credit Average\",\n",
    "        \"Good\": \"Credit Good\",\n",
    "        \"Very Good\": \"Credit Very Good\",\n",
    "    },\n",
    ")"
   ]
  },
  {
   "cell_type": "code",
   "execution_count": 75,
   "metadata": {},
   "outputs": [
    {
     "data": {
      "application/javascript": [
       "\n",
       "            setTimeout(function() {\n",
       "                var nbb_cell_id = 75;\n",
       "                var nbb_unformatted_code = \"data_dropna = data_dropna.drop([\\\"Credit Score\\\"], axis=1)\";\n",
       "                var nbb_formatted_code = \"data_dropna = data_dropna.drop([\\\"Credit Score\\\"], axis=1)\";\n",
       "                var nbb_cells = Jupyter.notebook.get_cells();\n",
       "                for (var i = 0; i < nbb_cells.length; ++i) {\n",
       "                    if (nbb_cells[i].input_prompt_number == nbb_cell_id) {\n",
       "                        if (nbb_cells[i].get_text() == nbb_unformatted_code) {\n",
       "                             nbb_cells[i].set_text(nbb_formatted_code);\n",
       "                        }\n",
       "                        break;\n",
       "                    }\n",
       "                }\n",
       "            }, 500);\n",
       "            "
      ],
      "text/plain": [
       "<IPython.core.display.Javascript object>"
      ]
     },
     "metadata": {},
     "output_type": "display_data"
    }
   ],
   "source": [
    "data_dropna = data_dropna.drop([\"Credit Score\"], axis=1)"
   ]
  },
  {
   "cell_type": "markdown",
   "metadata": {},
   "source": [
    "## Create Dummies"
   ]
  },
  {
   "cell_type": "code",
   "execution_count": 88,
   "metadata": {},
   "outputs": [
    {
     "data": {
      "application/javascript": [
       "\n",
       "            setTimeout(function() {\n",
       "                var nbb_cell_id = 88;\n",
       "                var nbb_unformatted_code = \"data_modelling = data_dropna[\\n    [\\n        \\\"default\\\",\\n        \\\"Current Loan Amount\\\",\\n        \\\"Debt to Income v2\\\",\\n        \\\"Employment History\\\",\\n        \\\"Years of Credit History2\\\",\\n        \\\"Months since last delinquent2\\\",\\n        \\\"Number of Credit Problems2\\\",\\n        \\\"Number of Open Accounts2\\\",\\n        \\\"Home Ownership2\\\",\\n        \\\"Purpose2\\\",\\n        \\\"Term\\\",\\n        \\\"Tax Liens2\\\"\\n    ]\\n]\";\n",
       "                var nbb_formatted_code = \"data_modelling = data_dropna[\\n    [\\n        \\\"default\\\",\\n        \\\"Current Loan Amount\\\",\\n        \\\"Debt to Income v2\\\",\\n        \\\"Employment History\\\",\\n        \\\"Years of Credit History2\\\",\\n        \\\"Months since last delinquent2\\\",\\n        \\\"Number of Credit Problems2\\\",\\n        \\\"Number of Open Accounts2\\\",\\n        \\\"Home Ownership2\\\",\\n        \\\"Purpose2\\\",\\n        \\\"Term\\\",\\n        \\\"Tax Liens2\\\",\\n    ]\\n]\";\n",
       "                var nbb_cells = Jupyter.notebook.get_cells();\n",
       "                for (var i = 0; i < nbb_cells.length; ++i) {\n",
       "                    if (nbb_cells[i].input_prompt_number == nbb_cell_id) {\n",
       "                        if (nbb_cells[i].get_text() == nbb_unformatted_code) {\n",
       "                             nbb_cells[i].set_text(nbb_formatted_code);\n",
       "                        }\n",
       "                        break;\n",
       "                    }\n",
       "                }\n",
       "            }, 500);\n",
       "            "
      ],
      "text/plain": [
       "<IPython.core.display.Javascript object>"
      ]
     },
     "metadata": {},
     "output_type": "display_data"
    }
   ],
   "source": [
    "data_modelling = data_dropna[\n",
    "    [\n",
    "        \"default\",\n",
    "        \"Current Loan Amount\",\n",
    "        \"Debt to Income v2\",\n",
    "        \"Employment History\",\n",
    "        \"Years of Credit History2\",\n",
    "        \"Months since last delinquent2\",\n",
    "        \"Number of Credit Problems2\",\n",
    "        \"Number of Open Accounts2\",\n",
    "        \"Home Ownership2\",\n",
    "        \"Purpose2\",\n",
    "        \"Term\",\n",
    "        \"Tax Liens2\",\n",
    "    ]\n",
    "]"
   ]
  },
  {
   "cell_type": "code",
   "execution_count": 89,
   "metadata": {},
   "outputs": [
    {
     "data": {
      "application/javascript": [
       "\n",
       "            setTimeout(function() {\n",
       "                var nbb_cell_id = 89;\n",
       "                var nbb_unformatted_code = \"data_modelling = data_modelling.join(\\n    pd.get_dummies(data_modelling[\\\"Current Loan Amount\\\"], drop_first=True)\\n)\\ndata_modelling = data_modelling.drop([\\\"Current Loan Amount\\\"], axis=1)\";\n",
       "                var nbb_formatted_code = \"data_modelling = data_modelling.join(\\n    pd.get_dummies(data_modelling[\\\"Current Loan Amount\\\"], drop_first=True)\\n)\\ndata_modelling = data_modelling.drop([\\\"Current Loan Amount\\\"], axis=1)\";\n",
       "                var nbb_cells = Jupyter.notebook.get_cells();\n",
       "                for (var i = 0; i < nbb_cells.length; ++i) {\n",
       "                    if (nbb_cells[i].input_prompt_number == nbb_cell_id) {\n",
       "                        if (nbb_cells[i].get_text() == nbb_unformatted_code) {\n",
       "                             nbb_cells[i].set_text(nbb_formatted_code);\n",
       "                        }\n",
       "                        break;\n",
       "                    }\n",
       "                }\n",
       "            }, 500);\n",
       "            "
      ],
      "text/plain": [
       "<IPython.core.display.Javascript object>"
      ]
     },
     "metadata": {},
     "output_type": "display_data"
    }
   ],
   "source": [
    "data_modelling = data_modelling.join(\n",
    "    pd.get_dummies(data_modelling[\"Current Loan Amount\"], drop_first=True)\n",
    ")\n",
    "data_modelling = data_modelling.drop([\"Current Loan Amount\"], axis=1)"
   ]
  },
  {
   "cell_type": "code",
   "execution_count": 90,
   "metadata": {},
   "outputs": [
    {
     "data": {
      "application/javascript": [
       "\n",
       "            setTimeout(function() {\n",
       "                var nbb_cell_id = 90;\n",
       "                var nbb_unformatted_code = \"data_modelling = data_modelling.join(\\n    pd.get_dummies(data_modelling[\\\"Debt to Income v2\\\"])\\n)\\ndata_modelling = data_modelling.drop([\\\"Debt to Income v2\\\"], axis=1)\";\n",
       "                var nbb_formatted_code = \"data_modelling = data_modelling.join(\\n    pd.get_dummies(data_modelling[\\\"Debt to Income v2\\\"])\\n)\\ndata_modelling = data_modelling.drop([\\\"Debt to Income v2\\\"], axis=1)\";\n",
       "                var nbb_cells = Jupyter.notebook.get_cells();\n",
       "                for (var i = 0; i < nbb_cells.length; ++i) {\n",
       "                    if (nbb_cells[i].input_prompt_number == nbb_cell_id) {\n",
       "                        if (nbb_cells[i].get_text() == nbb_unformatted_code) {\n",
       "                             nbb_cells[i].set_text(nbb_formatted_code);\n",
       "                        }\n",
       "                        break;\n",
       "                    }\n",
       "                }\n",
       "            }, 500);\n",
       "            "
      ],
      "text/plain": [
       "<IPython.core.display.Javascript object>"
      ]
     },
     "metadata": {},
     "output_type": "display_data"
    }
   ],
   "source": [
    "data_modelling = data_modelling.join(\n",
    "    pd.get_dummies(data_modelling[\"Debt to Income v2\"])\n",
    ")\n",
    "data_modelling = data_modelling.drop([\"Debt to Income v2\"], axis=1)"
   ]
  },
  {
   "cell_type": "code",
   "execution_count": 91,
   "metadata": {},
   "outputs": [
    {
     "data": {
      "application/javascript": [
       "\n",
       "            setTimeout(function() {\n",
       "                var nbb_cell_id = 91;\n",
       "                var nbb_unformatted_code = \"data_modelling = data_modelling.join(\\n    pd.get_dummies(data_modelling[\\\"Employment History\\\"])\\n)\\ndata_modelling = data_modelling.drop([\\\"Employment History\\\"], axis=1)\";\n",
       "                var nbb_formatted_code = \"data_modelling = data_modelling.join(\\n    pd.get_dummies(data_modelling[\\\"Employment History\\\"])\\n)\\ndata_modelling = data_modelling.drop([\\\"Employment History\\\"], axis=1)\";\n",
       "                var nbb_cells = Jupyter.notebook.get_cells();\n",
       "                for (var i = 0; i < nbb_cells.length; ++i) {\n",
       "                    if (nbb_cells[i].input_prompt_number == nbb_cell_id) {\n",
       "                        if (nbb_cells[i].get_text() == nbb_unformatted_code) {\n",
       "                             nbb_cells[i].set_text(nbb_formatted_code);\n",
       "                        }\n",
       "                        break;\n",
       "                    }\n",
       "                }\n",
       "            }, 500);\n",
       "            "
      ],
      "text/plain": [
       "<IPython.core.display.Javascript object>"
      ]
     },
     "metadata": {},
     "output_type": "display_data"
    }
   ],
   "source": [
    "data_modelling = data_modelling.join(\n",
    "    pd.get_dummies(data_modelling[\"Employment History\"])\n",
    ")\n",
    "data_modelling = data_modelling.drop([\"Employment History\"], axis=1)"
   ]
  },
  {
   "cell_type": "code",
   "execution_count": 92,
   "metadata": {},
   "outputs": [
    {
     "data": {
      "application/javascript": [
       "\n",
       "            setTimeout(function() {\n",
       "                var nbb_cell_id = 92;\n",
       "                var nbb_unformatted_code = \"data_modelling = data_modelling.join(\\n    pd.get_dummies(data_modelling[\\\"Years of Credit History2\\\"])\\n)\\ndata_modelling = data_modelling.drop([\\\"Years of Credit History2\\\"], axis=1)\";\n",
       "                var nbb_formatted_code = \"data_modelling = data_modelling.join(\\n    pd.get_dummies(data_modelling[\\\"Years of Credit History2\\\"])\\n)\\ndata_modelling = data_modelling.drop([\\\"Years of Credit History2\\\"], axis=1)\";\n",
       "                var nbb_cells = Jupyter.notebook.get_cells();\n",
       "                for (var i = 0; i < nbb_cells.length; ++i) {\n",
       "                    if (nbb_cells[i].input_prompt_number == nbb_cell_id) {\n",
       "                        if (nbb_cells[i].get_text() == nbb_unformatted_code) {\n",
       "                             nbb_cells[i].set_text(nbb_formatted_code);\n",
       "                        }\n",
       "                        break;\n",
       "                    }\n",
       "                }\n",
       "            }, 500);\n",
       "            "
      ],
      "text/plain": [
       "<IPython.core.display.Javascript object>"
      ]
     },
     "metadata": {},
     "output_type": "display_data"
    }
   ],
   "source": [
    "data_modelling = data_modelling.join(\n",
    "    pd.get_dummies(data_modelling[\"Years of Credit History2\"])\n",
    ")\n",
    "data_modelling = data_modelling.drop([\"Years of Credit History2\"], axis=1)"
   ]
  },
  {
   "cell_type": "code",
   "execution_count": 93,
   "metadata": {},
   "outputs": [
    {
     "data": {
      "application/javascript": [
       "\n",
       "            setTimeout(function() {\n",
       "                var nbb_cell_id = 93;\n",
       "                var nbb_unformatted_code = \"data_modelling = data_modelling.join(\\n    pd.get_dummies(data_modelling[\\\"Months since last delinquent2\\\"])\\n)\\ndata_modelling = data_modelling.drop([\\\"Months since last delinquent2\\\"], axis=1)\";\n",
       "                var nbb_formatted_code = \"data_modelling = data_modelling.join(\\n    pd.get_dummies(data_modelling[\\\"Months since last delinquent2\\\"])\\n)\\ndata_modelling = data_modelling.drop([\\\"Months since last delinquent2\\\"], axis=1)\";\n",
       "                var nbb_cells = Jupyter.notebook.get_cells();\n",
       "                for (var i = 0; i < nbb_cells.length; ++i) {\n",
       "                    if (nbb_cells[i].input_prompt_number == nbb_cell_id) {\n",
       "                        if (nbb_cells[i].get_text() == nbb_unformatted_code) {\n",
       "                             nbb_cells[i].set_text(nbb_formatted_code);\n",
       "                        }\n",
       "                        break;\n",
       "                    }\n",
       "                }\n",
       "            }, 500);\n",
       "            "
      ],
      "text/plain": [
       "<IPython.core.display.Javascript object>"
      ]
     },
     "metadata": {},
     "output_type": "display_data"
    }
   ],
   "source": [
    "data_modelling = data_modelling.join(\n",
    "    pd.get_dummies(data_modelling[\"Months since last delinquent2\"])\n",
    ")\n",
    "data_modelling = data_modelling.drop([\"Months since last delinquent2\"], axis=1)"
   ]
  },
  {
   "cell_type": "code",
   "execution_count": 94,
   "metadata": {},
   "outputs": [
    {
     "data": {
      "application/javascript": [
       "\n",
       "            setTimeout(function() {\n",
       "                var nbb_cell_id = 94;\n",
       "                var nbb_unformatted_code = \"data_modelling = data_modelling.join(\\n    pd.get_dummies(data_modelling[\\\"Number of Credit Problems2\\\"])\\n)\\ndata_modelling = data_modelling.drop([\\\"Number of Credit Problems2\\\"], axis=1)\";\n",
       "                var nbb_formatted_code = \"data_modelling = data_modelling.join(\\n    pd.get_dummies(data_modelling[\\\"Number of Credit Problems2\\\"])\\n)\\ndata_modelling = data_modelling.drop([\\\"Number of Credit Problems2\\\"], axis=1)\";\n",
       "                var nbb_cells = Jupyter.notebook.get_cells();\n",
       "                for (var i = 0; i < nbb_cells.length; ++i) {\n",
       "                    if (nbb_cells[i].input_prompt_number == nbb_cell_id) {\n",
       "                        if (nbb_cells[i].get_text() == nbb_unformatted_code) {\n",
       "                             nbb_cells[i].set_text(nbb_formatted_code);\n",
       "                        }\n",
       "                        break;\n",
       "                    }\n",
       "                }\n",
       "            }, 500);\n",
       "            "
      ],
      "text/plain": [
       "<IPython.core.display.Javascript object>"
      ]
     },
     "metadata": {},
     "output_type": "display_data"
    }
   ],
   "source": [
    "data_modelling = data_modelling.join(\n",
    "    pd.get_dummies(data_modelling[\"Number of Credit Problems2\"])\n",
    ")\n",
    "data_modelling = data_modelling.drop([\"Number of Credit Problems2\"], axis=1)"
   ]
  },
  {
   "cell_type": "code",
   "execution_count": 95,
   "metadata": {},
   "outputs": [
    {
     "data": {
      "application/javascript": [
       "\n",
       "            setTimeout(function() {\n",
       "                var nbb_cell_id = 95;\n",
       "                var nbb_unformatted_code = \"data_modelling = data_modelling.join(pd.get_dummies(data_modelling[\\\"Home Ownership2\\\"]))\\ndata_modelling = data_modelling.drop([\\\"Home Ownership2\\\"], axis=1)\";\n",
       "                var nbb_formatted_code = \"data_modelling = data_modelling.join(pd.get_dummies(data_modelling[\\\"Home Ownership2\\\"]))\\ndata_modelling = data_modelling.drop([\\\"Home Ownership2\\\"], axis=1)\";\n",
       "                var nbb_cells = Jupyter.notebook.get_cells();\n",
       "                for (var i = 0; i < nbb_cells.length; ++i) {\n",
       "                    if (nbb_cells[i].input_prompt_number == nbb_cell_id) {\n",
       "                        if (nbb_cells[i].get_text() == nbb_unformatted_code) {\n",
       "                             nbb_cells[i].set_text(nbb_formatted_code);\n",
       "                        }\n",
       "                        break;\n",
       "                    }\n",
       "                }\n",
       "            }, 500);\n",
       "            "
      ],
      "text/plain": [
       "<IPython.core.display.Javascript object>"
      ]
     },
     "metadata": {},
     "output_type": "display_data"
    }
   ],
   "source": [
    "data_modelling = data_modelling.join(pd.get_dummies(data_modelling[\"Home Ownership2\"]))\n",
    "data_modelling = data_modelling.drop([\"Home Ownership2\"], axis=1)"
   ]
  },
  {
   "cell_type": "code",
   "execution_count": 96,
   "metadata": {},
   "outputs": [
    {
     "data": {
      "application/javascript": [
       "\n",
       "            setTimeout(function() {\n",
       "                var nbb_cell_id = 96;\n",
       "                var nbb_unformatted_code = \"data_modelling = data_modelling.join(pd.get_dummies(data_modelling[\\\"Purpose2\\\"]))\\ndata_modelling = data_modelling.drop([\\\"Purpose2\\\"], axis=1)\";\n",
       "                var nbb_formatted_code = \"data_modelling = data_modelling.join(pd.get_dummies(data_modelling[\\\"Purpose2\\\"]))\\ndata_modelling = data_modelling.drop([\\\"Purpose2\\\"], axis=1)\";\n",
       "                var nbb_cells = Jupyter.notebook.get_cells();\n",
       "                for (var i = 0; i < nbb_cells.length; ++i) {\n",
       "                    if (nbb_cells[i].input_prompt_number == nbb_cell_id) {\n",
       "                        if (nbb_cells[i].get_text() == nbb_unformatted_code) {\n",
       "                             nbb_cells[i].set_text(nbb_formatted_code);\n",
       "                        }\n",
       "                        break;\n",
       "                    }\n",
       "                }\n",
       "            }, 500);\n",
       "            "
      ],
      "text/plain": [
       "<IPython.core.display.Javascript object>"
      ]
     },
     "metadata": {},
     "output_type": "display_data"
    }
   ],
   "source": [
    "data_modelling = data_modelling.join(pd.get_dummies(data_modelling[\"Purpose2\"]))\n",
    "data_modelling = data_modelling.drop([\"Purpose2\"], axis=1)"
   ]
  },
  {
   "cell_type": "code",
   "execution_count": 97,
   "metadata": {},
   "outputs": [
    {
     "data": {
      "application/javascript": [
       "\n",
       "            setTimeout(function() {\n",
       "                var nbb_cell_id = 97;\n",
       "                var nbb_unformatted_code = \"data_modelling = data_modelling.join(\\n    pd.get_dummies(data_modelling[\\\"Number of Open Accounts2\\\"])\\n)\\ndata_modelling = data_modelling.drop([\\\"Number of Open Accounts2\\\"], axis=1)\";\n",
       "                var nbb_formatted_code = \"data_modelling = data_modelling.join(\\n    pd.get_dummies(data_modelling[\\\"Number of Open Accounts2\\\"])\\n)\\ndata_modelling = data_modelling.drop([\\\"Number of Open Accounts2\\\"], axis=1)\";\n",
       "                var nbb_cells = Jupyter.notebook.get_cells();\n",
       "                for (var i = 0; i < nbb_cells.length; ++i) {\n",
       "                    if (nbb_cells[i].input_prompt_number == nbb_cell_id) {\n",
       "                        if (nbb_cells[i].get_text() == nbb_unformatted_code) {\n",
       "                             nbb_cells[i].set_text(nbb_formatted_code);\n",
       "                        }\n",
       "                        break;\n",
       "                    }\n",
       "                }\n",
       "            }, 500);\n",
       "            "
      ],
      "text/plain": [
       "<IPython.core.display.Javascript object>"
      ]
     },
     "metadata": {},
     "output_type": "display_data"
    }
   ],
   "source": [
    "data_modelling = data_modelling.join(\n",
    "    pd.get_dummies(data_modelling[\"Number of Open Accounts2\"])\n",
    ")\n",
    "data_modelling = data_modelling.drop([\"Number of Open Accounts2\"], axis=1)"
   ]
  },
  {
   "cell_type": "code",
   "execution_count": 98,
   "metadata": {},
   "outputs": [
    {
     "data": {
      "application/javascript": [
       "\n",
       "            setTimeout(function() {\n",
       "                var nbb_cell_id = 98;\n",
       "                var nbb_unformatted_code = \"data_modelling = data_modelling.join(pd.get_dummies(data_modelling[\\\"Term\\\"]))\\ndata_modelling = data_modelling.drop([\\\"Term\\\"], axis=1)\";\n",
       "                var nbb_formatted_code = \"data_modelling = data_modelling.join(pd.get_dummies(data_modelling[\\\"Term\\\"]))\\ndata_modelling = data_modelling.drop([\\\"Term\\\"], axis=1)\";\n",
       "                var nbb_cells = Jupyter.notebook.get_cells();\n",
       "                for (var i = 0; i < nbb_cells.length; ++i) {\n",
       "                    if (nbb_cells[i].input_prompt_number == nbb_cell_id) {\n",
       "                        if (nbb_cells[i].get_text() == nbb_unformatted_code) {\n",
       "                             nbb_cells[i].set_text(nbb_formatted_code);\n",
       "                        }\n",
       "                        break;\n",
       "                    }\n",
       "                }\n",
       "            }, 500);\n",
       "            "
      ],
      "text/plain": [
       "<IPython.core.display.Javascript object>"
      ]
     },
     "metadata": {},
     "output_type": "display_data"
    }
   ],
   "source": [
    "data_modelling = data_modelling.join(pd.get_dummies(data_modelling[\"Term\"]))\n",
    "data_modelling = data_modelling.drop([\"Term\"], axis=1)"
   ]
  },
  {
   "cell_type": "code",
   "execution_count": 99,
   "metadata": {},
   "outputs": [
    {
     "data": {
      "application/javascript": [
       "\n",
       "            setTimeout(function() {\n",
       "                var nbb_cell_id = 99;\n",
       "                var nbb_unformatted_code = \"data_modelling = data_modelling.join(pd.get_dummies(data_modelling[\\\"Tax Liens2\\\"]))\\ndata_modelling = data_modelling.drop([\\\"Tax Liens2\\\"], axis=1)\";\n",
       "                var nbb_formatted_code = \"data_modelling = data_modelling.join(pd.get_dummies(data_modelling[\\\"Tax Liens2\\\"]))\\ndata_modelling = data_modelling.drop([\\\"Tax Liens2\\\"], axis=1)\";\n",
       "                var nbb_cells = Jupyter.notebook.get_cells();\n",
       "                for (var i = 0; i < nbb_cells.length; ++i) {\n",
       "                    if (nbb_cells[i].input_prompt_number == nbb_cell_id) {\n",
       "                        if (nbb_cells[i].get_text() == nbb_unformatted_code) {\n",
       "                             nbb_cells[i].set_text(nbb_formatted_code);\n",
       "                        }\n",
       "                        break;\n",
       "                    }\n",
       "                }\n",
       "            }, 500);\n",
       "            "
      ],
      "text/plain": [
       "<IPython.core.display.Javascript object>"
      ]
     },
     "metadata": {},
     "output_type": "display_data"
    }
   ],
   "source": [
    "data_modelling = data_modelling.join(pd.get_dummies(data_modelling[\"Tax Liens2\"]))\n",
    "data_modelling = data_modelling.drop([\"Tax Liens2\"], axis=1)"
   ]
  },
  {
   "cell_type": "code",
   "execution_count": 100,
   "metadata": {},
   "outputs": [
    {
     "data": {
      "text/plain": [
       "Index(['default', 'LoanAmount 2: >100 000 and <=200 000 ',\n",
       "       'LoanAmount 3: >200 000 and <=300 000 ',\n",
       "       'LoanAmount 3: >300 000 and <=400 000 ',\n",
       "       'LoanAmount 4: >400 000 and <=500 000 ', 'LoanAmount 5: >500 000 ',\n",
       "       'DTI 1: <=10%', 'DTI 2: between 10 and 20%',\n",
       "       'DTI 3: between 20 and 30%', 'DTI 4: >30%', 'Job 1: <=1years',\n",
       "       'Job 2: 1-8 years', 'Job 3: >=8 years', 'CrHistory 1: <10',\n",
       "       'CrHistory 2: 10-20', 'CrHistory 3: >=20', 'DLQ 1: <=12', 'DLQ 2: >12',\n",
       "       'CrProblems 1: <=3', 'CrProblems 2: >3', 'HO 1: Own Home', 'HO 2: Rent',\n",
       "       'HO 3: Mortgage', 'Purpose 1: Vacation', 'Purpose 2: Business',\n",
       "       'Purpose 3: Debt Consolidation', 'Purpose 4: Home', 'Purpose 5: Car',\n",
       "       'Purpose 6: Other', 'OpenAcc 1: <10', 'OpenAcc 2: 10-20',\n",
       "       'OpenAcc 3: >=20', 'Long Term', 'Short Term', 'Tax Liens 1: 0',\n",
       "       'Tax Liens 2: >0'],\n",
       "      dtype='object')"
      ]
     },
     "execution_count": 100,
     "metadata": {},
     "output_type": "execute_result"
    },
    {
     "data": {
      "application/javascript": [
       "\n",
       "            setTimeout(function() {\n",
       "                var nbb_cell_id = 100;\n",
       "                var nbb_unformatted_code = \"data_modelling.columns\";\n",
       "                var nbb_formatted_code = \"data_modelling.columns\";\n",
       "                var nbb_cells = Jupyter.notebook.get_cells();\n",
       "                for (var i = 0; i < nbb_cells.length; ++i) {\n",
       "                    if (nbb_cells[i].input_prompt_number == nbb_cell_id) {\n",
       "                        if (nbb_cells[i].get_text() == nbb_unformatted_code) {\n",
       "                             nbb_cells[i].set_text(nbb_formatted_code);\n",
       "                        }\n",
       "                        break;\n",
       "                    }\n",
       "                }\n",
       "            }, 500);\n",
       "            "
      ],
      "text/plain": [
       "<IPython.core.display.Javascript object>"
      ]
     },
     "metadata": {},
     "output_type": "display_data"
    }
   ],
   "source": [
    "data_modelling.columns"
   ]
  },
  {
   "cell_type": "markdown",
   "metadata": {},
   "source": [
    "## Logistic Regression"
   ]
  },
  {
   "cell_type": "code",
   "execution_count": 101,
   "metadata": {},
   "outputs": [
    {
     "data": {
      "application/javascript": [
       "\n",
       "            setTimeout(function() {\n",
       "                var nbb_cell_id = 101;\n",
       "                var nbb_unformatted_code = \"X = data_modelling.loc[:, data_modelling.columns != \\\"default\\\"]\\ny = data_modelling.loc[:, data_modelling.columns == \\\"default\\\"]\";\n",
       "                var nbb_formatted_code = \"X = data_modelling.loc[:, data_modelling.columns != \\\"default\\\"]\\ny = data_modelling.loc[:, data_modelling.columns == \\\"default\\\"]\";\n",
       "                var nbb_cells = Jupyter.notebook.get_cells();\n",
       "                for (var i = 0; i < nbb_cells.length; ++i) {\n",
       "                    if (nbb_cells[i].input_prompt_number == nbb_cell_id) {\n",
       "                        if (nbb_cells[i].get_text() == nbb_unformatted_code) {\n",
       "                             nbb_cells[i].set_text(nbb_formatted_code);\n",
       "                        }\n",
       "                        break;\n",
       "                    }\n",
       "                }\n",
       "            }, 500);\n",
       "            "
      ],
      "text/plain": [
       "<IPython.core.display.Javascript object>"
      ]
     },
     "metadata": {},
     "output_type": "display_data"
    }
   ],
   "source": [
    "X = data_modelling.loc[:, data_modelling.columns != \"default\"]\n",
    "y = data_modelling.loc[:, data_modelling.columns == \"default\"]"
   ]
  },
  {
   "cell_type": "code",
   "execution_count": 115,
   "metadata": {},
   "outputs": [
    {
     "data": {
      "application/javascript": [
       "\n",
       "            setTimeout(function() {\n",
       "                var nbb_cell_id = 115;\n",
       "                var nbb_unformatted_code = \"X_train, X_test, y_train, y_test = train_test_split(\\n    X, y, test_size=0.30, random_state=0\\n)\";\n",
       "                var nbb_formatted_code = \"X_train, X_test, y_train, y_test = train_test_split(\\n    X, y, test_size=0.30, random_state=0\\n)\";\n",
       "                var nbb_cells = Jupyter.notebook.get_cells();\n",
       "                for (var i = 0; i < nbb_cells.length; ++i) {\n",
       "                    if (nbb_cells[i].input_prompt_number == nbb_cell_id) {\n",
       "                        if (nbb_cells[i].get_text() == nbb_unformatted_code) {\n",
       "                             nbb_cells[i].set_text(nbb_formatted_code);\n",
       "                        }\n",
       "                        break;\n",
       "                    }\n",
       "                }\n",
       "            }, 500);\n",
       "            "
      ],
      "text/plain": [
       "<IPython.core.display.Javascript object>"
      ]
     },
     "metadata": {},
     "output_type": "display_data"
    }
   ],
   "source": [
    "X_train, X_test, y_train, y_test = train_test_split(\n",
    "    X, y, test_size=0.30, random_state=0\n",
    ")"
   ]
  },
  {
   "cell_type": "code",
   "execution_count": 116,
   "metadata": {},
   "outputs": [
    {
     "name": "stderr",
     "output_type": "stream",
     "text": [
      "C:\\Users\\Asus\\.conda\\envs\\py37\\lib\\site-packages\\sklearn\\linear_model\\logistic.py:432: FutureWarning: Default solver will be changed to 'lbfgs' in 0.22. Specify a solver to silence this warning.\n",
      "  FutureWarning)\n",
      "C:\\Users\\Asus\\.conda\\envs\\py37\\lib\\site-packages\\sklearn\\utils\\validation.py:724: DataConversionWarning: A column-vector y was passed when a 1d array was expected. Please change the shape of y to (n_samples, ), for example using ravel().\n",
      "  y = column_or_1d(y, warn=True)\n"
     ]
    },
    {
     "data": {
      "text/plain": [
       "LogisticRegression(C=1.0, class_weight=None, dual=False, fit_intercept=True,\n",
       "                   intercept_scaling=1, l1_ratio=None, max_iter=100,\n",
       "                   multi_class='warn', n_jobs=None, penalty='l2',\n",
       "                   random_state=None, solver='warn', tol=0.0001, verbose=0,\n",
       "                   warm_start=False)"
      ]
     },
     "execution_count": 116,
     "metadata": {},
     "output_type": "execute_result"
    },
    {
     "data": {
      "application/javascript": [
       "\n",
       "            setTimeout(function() {\n",
       "                var nbb_cell_id = 116;\n",
       "                var nbb_unformatted_code = \"logreg = LogisticRegression()\\nlogreg.fit(X_train, y_train)\";\n",
       "                var nbb_formatted_code = \"logreg = LogisticRegression()\\nlogreg.fit(X_train, y_train)\";\n",
       "                var nbb_cells = Jupyter.notebook.get_cells();\n",
       "                for (var i = 0; i < nbb_cells.length; ++i) {\n",
       "                    if (nbb_cells[i].input_prompt_number == nbb_cell_id) {\n",
       "                        if (nbb_cells[i].get_text() == nbb_unformatted_code) {\n",
       "                             nbb_cells[i].set_text(nbb_formatted_code);\n",
       "                        }\n",
       "                        break;\n",
       "                    }\n",
       "                }\n",
       "            }, 500);\n",
       "            "
      ],
      "text/plain": [
       "<IPython.core.display.Javascript object>"
      ]
     },
     "metadata": {},
     "output_type": "display_data"
    }
   ],
   "source": [
    "logreg = LogisticRegression()\n",
    "logreg.fit(X_train, y_train)"
   ]
  },
  {
   "cell_type": "code",
   "execution_count": 117,
   "metadata": {},
   "outputs": [
    {
     "name": "stdout",
     "output_type": "stream",
     "text": [
      "Accuracy of logistic regression classifier on test set: 0.76003\n"
     ]
    },
    {
     "data": {
      "application/javascript": [
       "\n",
       "            setTimeout(function() {\n",
       "                var nbb_cell_id = 117;\n",
       "                var nbb_unformatted_code = \"y_pred = logreg.predict(X_test)\\nprint(\\n    \\\"Accuracy of logistic regression classifier on test set: {:.5f}\\\".format(\\n        logreg.score(X_test, y_test)\\n    )\\n)\";\n",
       "                var nbb_formatted_code = \"y_pred = logreg.predict(X_test)\\nprint(\\n    \\\"Accuracy of logistic regression classifier on test set: {:.5f}\\\".format(\\n        logreg.score(X_test, y_test)\\n    )\\n)\";\n",
       "                var nbb_cells = Jupyter.notebook.get_cells();\n",
       "                for (var i = 0; i < nbb_cells.length; ++i) {\n",
       "                    if (nbb_cells[i].input_prompt_number == nbb_cell_id) {\n",
       "                        if (nbb_cells[i].get_text() == nbb_unformatted_code) {\n",
       "                             nbb_cells[i].set_text(nbb_formatted_code);\n",
       "                        }\n",
       "                        break;\n",
       "                    }\n",
       "                }\n",
       "            }, 500);\n",
       "            "
      ],
      "text/plain": [
       "<IPython.core.display.Javascript object>"
      ]
     },
     "metadata": {},
     "output_type": "display_data"
    }
   ],
   "source": [
    "y_pred = logreg.predict(X_test)\n",
    "print(\n",
    "    \"Accuracy of logistic regression classifier on test set: {:.5f}\".format(\n",
    "        logreg.score(X_test, y_test)\n",
    "    )\n",
    ")"
   ]
  },
  {
   "cell_type": "code",
   "execution_count": 118,
   "metadata": {},
   "outputs": [
    {
     "data": {
      "image/png": "[encoded data removed]",
      "text/plain": [
       "<Figure size 432x288 with 1 Axes>"
      ]
     },
     "metadata": {
      "needs_background": "light"
     },
     "output_type": "display_data"
    },
    {
     "data": {
      "application/javascript": [
       "\n",
       "            setTimeout(function() {\n",
       "                var nbb_cell_id = 118;\n",
       "                var nbb_unformatted_code = \"logit_roc_auc = roc_auc_score(y_test, logreg.predict(X_test))\\nfpr, tpr, thresholds = roc_curve(y_test, logreg.predict_proba(X_test)[:, 1])\\nplt.figure()\\nplt.plot(fpr, tpr, label=\\\"Logistic Regression (area = %0.2f)\\\" % logit_roc_auc)\\nplt.plot([0, 1], [0, 1], \\\"r--\\\")\\nplt.xlim([0.0, 1.0])\\nplt.ylim([0.0, 1.05])\\nplt.xlabel(\\\"False Positive Rate\\\")\\nplt.ylabel(\\\"True Positive Rate\\\")\\nplt.title(\\\"Receiver operating characteristic\\\")\\nplt.legend(loc=\\\"lower right\\\")\\nplt.savefig(\\\"Log_ROC\\\")\\nplt.show()\";\n",
       "                var nbb_formatted_code = \"logit_roc_auc = roc_auc_score(y_test, logreg.predict(X_test))\\nfpr, tpr, thresholds = roc_curve(y_test, logreg.predict_proba(X_test)[:, 1])\\nplt.figure()\\nplt.plot(fpr, tpr, label=\\\"Logistic Regression (area = %0.2f)\\\" % logit_roc_auc)\\nplt.plot([0, 1], [0, 1], \\\"r--\\\")\\nplt.xlim([0.0, 1.0])\\nplt.ylim([0.0, 1.05])\\nplt.xlabel(\\\"False Positive Rate\\\")\\nplt.ylabel(\\\"True Positive Rate\\\")\\nplt.title(\\\"Receiver operating characteristic\\\")\\nplt.legend(loc=\\\"lower right\\\")\\nplt.savefig(\\\"Log_ROC\\\")\\nplt.show()\";\n",
       "                var nbb_cells = Jupyter.notebook.get_cells();\n",
       "                for (var i = 0; i < nbb_cells.length; ++i) {\n",
       "                    if (nbb_cells[i].input_prompt_number == nbb_cell_id) {\n",
       "                        if (nbb_cells[i].get_text() == nbb_unformatted_code) {\n",
       "                             nbb_cells[i].set_text(nbb_formatted_code);\n",
       "                        }\n",
       "                        break;\n",
       "                    }\n",
       "                }\n",
       "            }, 500);\n",
       "            "
      ],
      "text/plain": [
       "<IPython.core.display.Javascript object>"
      ]
     },
     "metadata": {},
     "output_type": "display_data"
    }
   ],
   "source": [
    "logit_roc_auc = roc_auc_score(y_test, logreg.predict(X_test))\n",
    "fpr, tpr, thresholds = roc_curve(y_test, logreg.predict_proba(X_test)[:, 1])\n",
    "plt.figure()\n",
    "plt.plot(fpr, tpr, label=\"Logistic Regression (area = %0.2f)\" % logit_roc_auc)\n",
    "plt.plot([0, 1], [0, 1], \"r--\")\n",
    "plt.xlim([0.0, 1.0])\n",
    "plt.ylim([0.0, 1.05])\n",
    "plt.xlabel(\"False Positive Rate\")\n",
    "plt.ylabel(\"True Positive Rate\")\n",
    "plt.title(\"Receiver operating characteristic\")\n",
    "plt.legend(loc=\"lower right\")\n",
    "plt.savefig(\"Log_ROC\")\n",
    "plt.show()"
   ]
  },
  {
   "cell_type": "markdown",
   "metadata": {},
   "source": [
    "## KNN"
   ]
  },
  {
   "cell_type": "code",
   "execution_count": 123,
   "metadata": {},
   "outputs": [
    {
     "name": "stderr",
     "output_type": "stream",
     "text": [
      "C:\\Users\\Asus\\.conda\\envs\\py37\\lib\\site-packages\\ipykernel_launcher.py:2: DataConversionWarning: A column-vector y was passed when a 1d array was expected. Please change the shape of y to (n_samples, ), for example using ravel().\n",
      "  \n"
     ]
    },
    {
     "name": "stdout",
     "output_type": "stream",
     "text": [
      "Accuracy Score:  0.7546310998200487\n"
     ]
    },
    {
     "data": {
      "application/javascript": [
       "\n",
       "            setTimeout(function() {\n",
       "                var nbb_cell_id = 123;\n",
       "                var nbb_unformatted_code = \"knnclassifier = KNeighborsClassifier(n_neighbors=int(X.shape[1] / 2))\\nknnclassifier.fit(X_train, y_train)\\nprediction = knnclassifier.predict(X_test)\\nprint(\\\"Accuracy Score: \\\", accuracy_score(y_test, prediction))\\n# y_true = y_test\";\n",
       "                var nbb_formatted_code = \"knnclassifier = KNeighborsClassifier(n_neighbors=int(X.shape[1] / 2))\\nknnclassifier.fit(X_train, y_train)\\nprediction = knnclassifier.predict(X_test)\\nprint(\\\"Accuracy Score: \\\", accuracy_score(y_test, prediction))\\n# y_true = y_test\";\n",
       "                var nbb_cells = Jupyter.notebook.get_cells();\n",
       "                for (var i = 0; i < nbb_cells.length; ++i) {\n",
       "                    if (nbb_cells[i].input_prompt_number == nbb_cell_id) {\n",
       "                        if (nbb_cells[i].get_text() == nbb_unformatted_code) {\n",
       "                             nbb_cells[i].set_text(nbb_formatted_code);\n",
       "                        }\n",
       "                        break;\n",
       "                    }\n",
       "                }\n",
       "            }, 500);\n",
       "            "
      ],
      "text/plain": [
       "<IPython.core.display.Javascript object>"
      ]
     },
     "metadata": {},
     "output_type": "display_data"
    }
   ],
   "source": [
    "knnclassifier = KNeighborsClassifier(n_neighbors=int(X.shape[1] / 2))\n",
    "knnclassifier.fit(X_train, y_train)\n",
    "prediction = knnclassifier.predict(X_test)\n",
    "print(\"Accuracy Score: \", accuracy_score(y_test, prediction))"
   ]
  },
  {
   "cell_type": "markdown",
   "metadata": {},
   "source": [
    "## SVC"
   ]
  },
  {
   "cell_type": "code",
   "execution_count": 124,
   "metadata": {},
   "outputs": [
    {
     "name": "stderr",
     "output_type": "stream",
     "text": [
      "C:\\Users\\Asus\\.conda\\envs\\py37\\lib\\site-packages\\sklearn\\utils\\validation.py:724: DataConversionWarning: A column-vector y was passed when a 1d array was expected. Please change the shape of y to (n_samples, ), for example using ravel().\n",
      "  y = column_or_1d(y, warn=True)\n"
     ]
    },
    {
     "name": "stdout",
     "output_type": "stream",
     "text": [
      "Accuracy Score:  0.7600296390388483\n"
     ]
    },
    {
     "data": {
      "application/javascript": [
       "\n",
       "            setTimeout(function() {\n",
       "                var nbb_cell_id = 124;\n",
       "                var nbb_unformatted_code = \"from sklearn.svm import SVC\\nclf = SVC(gamma='auto', kernel ='linear')\\nclf.fit(X_train, y_train)\\npred = clf.predict(X_test)\\nprint(\\\"Accuracy Score: \\\", accuracy_score(y_test, pred))\";\n",
       "                var nbb_formatted_code = \"from sklearn.svm import SVC\\n\\nclf = SVC(gamma=\\\"auto\\\", kernel=\\\"linear\\\")\\nclf.fit(X_train, y_train)\\npred = clf.predict(X_test)\\nprint(\\\"Accuracy Score: \\\", accuracy_score(y_test, pred))\";\n",
       "                var nbb_cells = Jupyter.notebook.get_cells();\n",
       "                for (var i = 0; i < nbb_cells.length; ++i) {\n",
       "                    if (nbb_cells[i].input_prompt_number == nbb_cell_id) {\n",
       "                        if (nbb_cells[i].get_text() == nbb_unformatted_code) {\n",
       "                             nbb_cells[i].set_text(nbb_formatted_code);\n",
       "                        }\n",
       "                        break;\n",
       "                    }\n",
       "                }\n",
       "            }, 500);\n",
       "            "
      ],
      "text/plain": [
       "<IPython.core.display.Javascript object>"
      ]
     },
     "metadata": {},
     "output_type": "display_data"
    }
   ],
   "source": [
    "from sklearn.svm import SVC\n",
    "\n",
    "clf = SVC(gamma=\"auto\", kernel=\"linear\")\n",
    "clf.fit(X_train, y_train)\n",
    "pred = clf.predict(X_test)\n",
    "print(\"Accuracy Score: \", accuracy_score(y_test, pred))"
   ]
  },
  {
   "cell_type": "markdown",
   "metadata": {},
   "source": [
    "## Decision Tree Classifier"
   ]
  },
  {
   "cell_type": "code",
   "execution_count": 130,
   "metadata": {},
   "outputs": [
    {
     "data": {
      "application/javascript": [
       "\n",
       "            setTimeout(function() {\n",
       "                var nbb_cell_id = 130;\n",
       "                var nbb_unformatted_code = \"from sklearn.tree import DecisionTreeClassifier \";\n",
       "                var nbb_formatted_code = \"from sklearn.tree import DecisionTreeClassifier\";\n",
       "                var nbb_cells = Jupyter.notebook.get_cells();\n",
       "                for (var i = 0; i < nbb_cells.length; ++i) {\n",
       "                    if (nbb_cells[i].input_prompt_number == nbb_cell_id) {\n",
       "                        if (nbb_cells[i].get_text() == nbb_unformatted_code) {\n",
       "                             nbb_cells[i].set_text(nbb_formatted_code);\n",
       "                        }\n",
       "                        break;\n",
       "                    }\n",
       "                }\n",
       "            }, 500);\n",
       "            "
      ],
      "text/plain": [
       "<IPython.core.display.Javascript object>"
      ]
     },
     "metadata": {},
     "output_type": "display_data"
    }
   ],
   "source": [
    "from sklearn.tree import DecisionTreeClassifier"
   ]
  },
  {
   "cell_type": "code",
   "execution_count": 135,
   "metadata": {},
   "outputs": [
    {
     "name": "stdout",
     "output_type": "stream",
     "text": [
      "Accuracy Score:  0.7352598708584736\n"
     ]
    },
    {
     "data": {
      "application/javascript": [
       "\n",
       "            setTimeout(function() {\n",
       "                var nbb_cell_id = 135;\n",
       "                var nbb_unformatted_code = \"tree = DecisionTreeClassifier()\\ntree.fit(X_train, y_train)\\npred = tree.predict(X_test)\\nprint(\\\"Accuracy Score: \\\", accuracy_score(y_test, pred))\";\n",
       "                var nbb_formatted_code = \"tree = DecisionTreeClassifier()\\ntree.fit(X_train, y_train)\\npred = tree.predict(X_test)\\nprint(\\\"Accuracy Score: \\\", accuracy_score(y_test, pred))\";\n",
       "                var nbb_cells = Jupyter.notebook.get_cells();\n",
       "                for (var i = 0; i < nbb_cells.length; ++i) {\n",
       "                    if (nbb_cells[i].input_prompt_number == nbb_cell_id) {\n",
       "                        if (nbb_cells[i].get_text() == nbb_unformatted_code) {\n",
       "                             nbb_cells[i].set_text(nbb_formatted_code);\n",
       "                        }\n",
       "                        break;\n",
       "                    }\n",
       "                }\n",
       "            }, 500);\n",
       "            "
      ],
      "text/plain": [
       "<IPython.core.display.Javascript object>"
      ]
     },
     "metadata": {},
     "output_type": "display_data"
    }
   ],
   "source": [
    "tree = DecisionTreeClassifier()\n",
    "tree.fit(X_train, y_train)\n",
    "pred = tree.predict(X_test)\n",
    "print(\"Accuracy Score: \", accuracy_score(y_test, pred))"
   ]
  },
  {
   "cell_type": "code",
   "execution_count": 136,
   "metadata": {},
   "outputs": [
    {
     "data": {
      "text/plain": [
       "array([1, 0, 0, ..., 1, 0, 0], dtype=int64)"
      ]
     },
     "execution_count": 136,
     "metadata": {},
     "output_type": "execute_result"
    },
    {
     "data": {
      "application/javascript": [
       "\n",
       "            setTimeout(function() {\n",
       "                var nbb_cell_id = 136;\n",
       "                var nbb_unformatted_code = \"pred\";\n",
       "                var nbb_formatted_code = \"pred\";\n",
       "                var nbb_cells = Jupyter.notebook.get_cells();\n",
       "                for (var i = 0; i < nbb_cells.length; ++i) {\n",
       "                    if (nbb_cells[i].input_prompt_number == nbb_cell_id) {\n",
       "                        if (nbb_cells[i].get_text() == nbb_unformatted_code) {\n",
       "                             nbb_cells[i].set_text(nbb_formatted_code);\n",
       "                        }\n",
       "                        break;\n",
       "                    }\n",
       "                }\n",
       "            }, 500);\n",
       "            "
      ],
      "text/plain": [
       "<IPython.core.display.Javascript object>"
      ]
     },
     "metadata": {},
     "output_type": "display_data"
    }
   ],
   "source": [
    "pred"
   ]
  },
  {
   "cell_type": "markdown",
   "metadata": {},
   "source": [
    "## Random Forest Classifier"
   ]
  },
  {
   "cell_type": "code",
   "execution_count": 141,
   "metadata": {},
   "outputs": [
    {
     "data": {
      "application/javascript": [
       "\n",
       "            setTimeout(function() {\n",
       "                var nbb_cell_id = 141;\n",
       "                var nbb_unformatted_code = \"from sklearn.ensemble import RandomForestClassifier\";\n",
       "                var nbb_formatted_code = \"from sklearn.ensemble import RandomForestClassifier\";\n",
       "                var nbb_cells = Jupyter.notebook.get_cells();\n",
       "                for (var i = 0; i < nbb_cells.length; ++i) {\n",
       "                    if (nbb_cells[i].input_prompt_number == nbb_cell_id) {\n",
       "                        if (nbb_cells[i].get_text() == nbb_unformatted_code) {\n",
       "                             nbb_cells[i].set_text(nbb_formatted_code);\n",
       "                        }\n",
       "                        break;\n",
       "                    }\n",
       "                }\n",
       "            }, 500);\n",
       "            "
      ],
      "text/plain": [
       "<IPython.core.display.Javascript object>"
      ]
     },
     "metadata": {},
     "output_type": "display_data"
    }
   ],
   "source": [
    "from sklearn.ensemble import RandomForestClassifier"
   ]
  },
  {
   "cell_type": "code",
   "execution_count": 144,
   "metadata": {},
   "outputs": [
    {
     "name": "stdout",
     "output_type": "stream",
     "text": [
      "Accuracy Score:  0.7375886524822695\n"
     ]
    },
    {
     "data": {
      "application/javascript": [
       "\n",
       "            setTimeout(function() {\n",
       "                var nbb_cell_id = 144;\n",
       "                var nbb_unformatted_code = \"# 1000 decision trees\\n#rf = RandomForestClassifier(n_estimators=1000, random_state=42)\\n#rf.fit(X_train, y_train)\\n#pred = rf.predict(X_test)\\nprint(\\\"Accuracy Score: \\\", accuracy_score(y_test, pred))\";\n",
       "                var nbb_formatted_code = \"# 1000 decision trees\\n# rf = RandomForestClassifier(n_estimators=1000, random_state=42)\\n# rf.fit(X_train, y_train)\\n# pred = rf.predict(X_test)\\nprint(\\\"Accuracy Score: \\\", accuracy_score(y_test, pred))\";\n",
       "                var nbb_cells = Jupyter.notebook.get_cells();\n",
       "                for (var i = 0; i < nbb_cells.length; ++i) {\n",
       "                    if (nbb_cells[i].input_prompt_number == nbb_cell_id) {\n",
       "                        if (nbb_cells[i].get_text() == nbb_unformatted_code) {\n",
       "                             nbb_cells[i].set_text(nbb_formatted_code);\n",
       "                        }\n",
       "                        break;\n",
       "                    }\n",
       "                }\n",
       "            }, 500);\n",
       "            "
      ],
      "text/plain": [
       "<IPython.core.display.Javascript object>"
      ]
     },
     "metadata": {},
     "output_type": "display_data"
    }
   ],
   "source": [
    "# 1000 decision trees\n",
    "rf = RandomForestClassifier(n_estimators=1000, random_state=42)\n",
    "rf.fit(X_train, y_train)\n",
    "pred = rf.predict(X_test)\n",
    "print(\"Accuracy Score: \", accuracy_score(y_test, pred))"
   ]
  },
  {
   "cell_type": "code",
   "execution_count": null,
   "metadata": {},
   "outputs": [],
   "source": []
  }
 ],
 "metadata": {
  "kernelspec": {
   "display_name": "Python 3",
   "language": "python",
   "name": "python3"
  },
  "language_info": {
   "codemirror_mode": {
    "name": "ipython",
    "version": 3
   },
   "file_extension": ".py",
   "mimetype": "text/x-python",
   "name": "python",
   "nbconvert_exporter": "python",
   "pygments_lexer": "ipython3",
   "version": "3.7.4"
  }
 },
 "nbformat": 4,
 "nbformat_minor": 2
}
