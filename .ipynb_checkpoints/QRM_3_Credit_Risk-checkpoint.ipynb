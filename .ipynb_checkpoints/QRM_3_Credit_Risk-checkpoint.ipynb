{
 "cells": [
  {
   "cell_type": "markdown",
   "metadata": {},
   "source": [
    "# Assignment 3 - Credit Risk Scoring"
   ]
  },
  {
   "cell_type": "code",
   "execution_count": 1,
   "metadata": {},
   "outputs": [
    {
     "data": {
      "application/javascript": [
       "\n",
       "            setTimeout(function() {\n",
       "                var nbb_cell_id = 1;\n",
       "                var nbb_unformatted_code = \"%load_ext nb_black\";\n",
       "                var nbb_formatted_code = \"%load_ext nb_black\";\n",
       "                var nbb_cells = Jupyter.notebook.get_cells();\n",
       "                for (var i = 0; i < nbb_cells.length; ++i) {\n",
       "                    if (nbb_cells[i].input_prompt_number == nbb_cell_id) {\n",
       "                        if (nbb_cells[i].get_text() == nbb_unformatted_code) {\n",
       "                             nbb_cells[i].set_text(nbb_formatted_code);\n",
       "                        }\n",
       "                        break;\n",
       "                    }\n",
       "                }\n",
       "            }, 500);\n",
       "            "
      ],
      "text/plain": [
       "<IPython.core.display.Javascript object>"
      ]
     },
     "metadata": {},
     "output_type": "display_data"
    }
   ],
   "source": [
    "%load_ext nb_black"
   ]
  },
  {
   "cell_type": "code",
   "execution_count": 2,
   "metadata": {},
   "outputs": [
    {
     "data": {
      "application/javascript": [
       "\n",
       "            setTimeout(function() {\n",
       "                var nbb_cell_id = 2;\n",
       "                var nbb_unformatted_code = \"# Basic packages\\nimport pandas as pd\\nimport numpy as np\\nimport matplotlib.pyplot as plt\\n\\n# Preporcessing\\nfrom sklearn import preprocessing\\nfrom sklearn.model_selection import train_test_split\\n\\n#Balancing\\nfrom imblearn.over_sampling import SMOTE\\n\\n# Models\\nimport statsmodels.api as sm\\nfrom sklearn.linear_model import LogisticRegression\\nfrom sklearn.neighbors import KNeighborsClassifier\\nfrom sklearn.svm import SVC\\nfrom sklearn.tree import DecisionTreeClassifier\\nfrom sklearn.ensemble import RandomForestClassifier\\n\\n# Metrics\\nfrom sklearn.metrics import roc_auc_score\\nfrom sklearn.metrics import roc_curve\\nfrom sklearn.metrics import accuracy_score\";\n",
       "                var nbb_formatted_code = \"# Basic packages\\nimport pandas as pd\\nimport numpy as np\\nimport matplotlib.pyplot as plt\\n\\n# Preporcessing\\nfrom sklearn import preprocessing\\nfrom sklearn.model_selection import train_test_split\\n\\n# Balancing\\nfrom imblearn.over_sampling import SMOTE\\n\\n# Models\\nimport statsmodels.api as sm\\nfrom sklearn.linear_model import LogisticRegression\\nfrom sklearn.neighbors import KNeighborsClassifier\\nfrom sklearn.svm import SVC\\nfrom sklearn.tree import DecisionTreeClassifier\\nfrom sklearn.ensemble import RandomForestClassifier\\n\\n# Metrics\\nfrom sklearn.metrics import roc_auc_score\\nfrom sklearn.metrics import roc_curve\\nfrom sklearn.metrics import accuracy_score\";\n",
       "                var nbb_cells = Jupyter.notebook.get_cells();\n",
       "                for (var i = 0; i < nbb_cells.length; ++i) {\n",
       "                    if (nbb_cells[i].input_prompt_number == nbb_cell_id) {\n",
       "                        if (nbb_cells[i].get_text() == nbb_unformatted_code) {\n",
       "                             nbb_cells[i].set_text(nbb_formatted_code);\n",
       "                        }\n",
       "                        break;\n",
       "                    }\n",
       "                }\n",
       "            }, 500);\n",
       "            "
      ],
      "text/plain": [
       "<IPython.core.display.Javascript object>"
      ]
     },
     "metadata": {},
     "output_type": "display_data"
    }
   ],
   "source": [
    "# Basic packages\n",
    "import pandas as pd\n",
    "import numpy as np\n",
    "import matplotlib.pyplot as plt\n",
    "\n",
    "# Preporcessing\n",
    "from sklearn import preprocessing\n",
    "from sklearn.model_selection import train_test_split\n",
    "\n",
    "# Balancing\n",
    "from imblearn.over_sampling import SMOTE\n",
    "\n",
    "# Models\n",
    "import statsmodels.api as sm\n",
    "from sklearn.linear_model import LogisticRegression\n",
    "from sklearn.neighbors import KNeighborsClassifier\n",
    "from sklearn.svm import SVC\n",
    "from sklearn.tree import DecisionTreeClassifier\n",
    "from sklearn.ensemble import RandomForestClassifier\n",
    "\n",
    "# Metrics\n",
    "from sklearn.metrics import roc_auc_score\n",
    "from sklearn.metrics import roc_curve\n",
    "from sklearn.metrics import accuracy_score"
   ]
  },
  {
   "cell_type": "code",
   "execution_count": 3,
   "metadata": {},
   "outputs": [
    {
     "data": {
      "text/html": [
       "<div>\n",
       "<style scoped>\n",
       "    .dataframe tbody tr th:only-of-type {\n",
       "        vertical-align: middle;\n",
       "    }\n",
       "\n",
       "    .dataframe tbody tr th {\n",
       "        vertical-align: top;\n",
       "    }\n",
       "\n",
       "    .dataframe thead th {\n",
       "        text-align: right;\n",
       "    }\n",
       "</style>\n",
       "<table border=\"1\" class=\"dataframe\">\n",
       "  <thead>\n",
       "    <tr style=\"text-align: right;\">\n",
       "      <th></th>\n",
       "      <th>Loan ID</th>\n",
       "      <th>Customer ID</th>\n",
       "      <th>Loan Status</th>\n",
       "      <th>Current Loan Amount</th>\n",
       "      <th>Term</th>\n",
       "      <th>Credit Score</th>\n",
       "      <th>Annual Income</th>\n",
       "      <th>Years in current job</th>\n",
       "      <th>Home Ownership</th>\n",
       "      <th>Purpose</th>\n",
       "      <th>Monthly Debt</th>\n",
       "      <th>Years of Credit History</th>\n",
       "      <th>Months since last delinquent</th>\n",
       "      <th>Number of Open Accounts</th>\n",
       "      <th>Number of Credit Problems</th>\n",
       "      <th>Current Credit Balance</th>\n",
       "      <th>Maximum Open Credit</th>\n",
       "      <th>Bankruptcies</th>\n",
       "      <th>Tax Liens</th>\n",
       "    </tr>\n",
       "  </thead>\n",
       "  <tbody>\n",
       "    <tr>\n",
       "      <th>0</th>\n",
       "      <td>14dd8831-6af5-400b-83ec-68e61888a048</td>\n",
       "      <td>981165ec-3274-42f5-a3b4-d104041a9ca9</td>\n",
       "      <td>Fully Paid</td>\n",
       "      <td>445412.0</td>\n",
       "      <td>Short Term</td>\n",
       "      <td>709.0</td>\n",
       "      <td>1167493.0</td>\n",
       "      <td>8 years</td>\n",
       "      <td>Home Mortgage</td>\n",
       "      <td>Home Improvements</td>\n",
       "      <td>5214.74</td>\n",
       "      <td>17.2</td>\n",
       "      <td>NaN</td>\n",
       "      <td>6.0</td>\n",
       "      <td>1.0</td>\n",
       "      <td>228190.0</td>\n",
       "      <td>416746.0</td>\n",
       "      <td>1.0</td>\n",
       "      <td>0.0</td>\n",
       "    </tr>\n",
       "    <tr>\n",
       "      <th>1</th>\n",
       "      <td>4771cc26-131a-45db-b5aa-537ea4ba5342</td>\n",
       "      <td>2de017a3-2e01-49cb-a581-08169e83be29</td>\n",
       "      <td>Fully Paid</td>\n",
       "      <td>262328.0</td>\n",
       "      <td>Short Term</td>\n",
       "      <td>NaN</td>\n",
       "      <td>NaN</td>\n",
       "      <td>10+ years</td>\n",
       "      <td>Home Mortgage</td>\n",
       "      <td>Debt Consolidation</td>\n",
       "      <td>33295.98</td>\n",
       "      <td>21.1</td>\n",
       "      <td>8.0</td>\n",
       "      <td>35.0</td>\n",
       "      <td>0.0</td>\n",
       "      <td>229976.0</td>\n",
       "      <td>850784.0</td>\n",
       "      <td>0.0</td>\n",
       "      <td>0.0</td>\n",
       "    </tr>\n",
       "    <tr>\n",
       "      <th>2</th>\n",
       "      <td>4eed4e6a-aa2f-4c91-8651-ce984ee8fb26</td>\n",
       "      <td>5efb2b2b-bf11-4dfd-a572-3761a2694725</td>\n",
       "      <td>Fully Paid</td>\n",
       "      <td>99999999.0</td>\n",
       "      <td>Short Term</td>\n",
       "      <td>741.0</td>\n",
       "      <td>2231892.0</td>\n",
       "      <td>8 years</td>\n",
       "      <td>Own Home</td>\n",
       "      <td>Debt Consolidation</td>\n",
       "      <td>29200.53</td>\n",
       "      <td>14.9</td>\n",
       "      <td>29.0</td>\n",
       "      <td>18.0</td>\n",
       "      <td>1.0</td>\n",
       "      <td>297996.0</td>\n",
       "      <td>750090.0</td>\n",
       "      <td>0.0</td>\n",
       "      <td>0.0</td>\n",
       "    </tr>\n",
       "    <tr>\n",
       "      <th>3</th>\n",
       "      <td>77598f7b-32e7-4e3b-a6e5-06ba0d98fe8a</td>\n",
       "      <td>e777faab-98ae-45af-9a86-7ce5b33b1011</td>\n",
       "      <td>Fully Paid</td>\n",
       "      <td>347666.0</td>\n",
       "      <td>Long Term</td>\n",
       "      <td>721.0</td>\n",
       "      <td>806949.0</td>\n",
       "      <td>3 years</td>\n",
       "      <td>Own Home</td>\n",
       "      <td>Debt Consolidation</td>\n",
       "      <td>8741.90</td>\n",
       "      <td>12.0</td>\n",
       "      <td>NaN</td>\n",
       "      <td>9.0</td>\n",
       "      <td>0.0</td>\n",
       "      <td>256329.0</td>\n",
       "      <td>386958.0</td>\n",
       "      <td>0.0</td>\n",
       "      <td>0.0</td>\n",
       "    </tr>\n",
       "    <tr>\n",
       "      <th>4</th>\n",
       "      <td>d4062e70-befa-4995-8643-a0de73938182</td>\n",
       "      <td>81536ad9-5ccf-4eb8-befb-47a4d608658e</td>\n",
       "      <td>Fully Paid</td>\n",
       "      <td>176220.0</td>\n",
       "      <td>Short Term</td>\n",
       "      <td>NaN</td>\n",
       "      <td>NaN</td>\n",
       "      <td>5 years</td>\n",
       "      <td>Rent</td>\n",
       "      <td>Debt Consolidation</td>\n",
       "      <td>20639.70</td>\n",
       "      <td>6.1</td>\n",
       "      <td>NaN</td>\n",
       "      <td>15.0</td>\n",
       "      <td>0.0</td>\n",
       "      <td>253460.0</td>\n",
       "      <td>427174.0</td>\n",
       "      <td>0.0</td>\n",
       "      <td>0.0</td>\n",
       "    </tr>\n",
       "  </tbody>\n",
       "</table>\n",
       "</div>"
      ],
      "text/plain": [
       "                                Loan ID                           Customer ID  \\\n",
       "0  14dd8831-6af5-400b-83ec-68e61888a048  981165ec-3274-42f5-a3b4-d104041a9ca9   \n",
       "1  4771cc26-131a-45db-b5aa-537ea4ba5342  2de017a3-2e01-49cb-a581-08169e83be29   \n",
       "2  4eed4e6a-aa2f-4c91-8651-ce984ee8fb26  5efb2b2b-bf11-4dfd-a572-3761a2694725   \n",
       "3  77598f7b-32e7-4e3b-a6e5-06ba0d98fe8a  e777faab-98ae-45af-9a86-7ce5b33b1011   \n",
       "4  d4062e70-befa-4995-8643-a0de73938182  81536ad9-5ccf-4eb8-befb-47a4d608658e   \n",
       "\n",
       "  Loan Status  Current Loan Amount        Term  Credit Score  Annual Income  \\\n",
       "0  Fully Paid             445412.0  Short Term         709.0      1167493.0   \n",
       "1  Fully Paid             262328.0  Short Term           NaN            NaN   \n",
       "2  Fully Paid           99999999.0  Short Term         741.0      2231892.0   \n",
       "3  Fully Paid             347666.0   Long Term         721.0       806949.0   \n",
       "4  Fully Paid             176220.0  Short Term           NaN            NaN   \n",
       "\n",
       "  Years in current job Home Ownership             Purpose  Monthly Debt  \\\n",
       "0              8 years  Home Mortgage   Home Improvements       5214.74   \n",
       "1            10+ years  Home Mortgage  Debt Consolidation      33295.98   \n",
       "2              8 years       Own Home  Debt Consolidation      29200.53   \n",
       "3              3 years       Own Home  Debt Consolidation       8741.90   \n",
       "4              5 years           Rent  Debt Consolidation      20639.70   \n",
       "\n",
       "   Years of Credit History  Months since last delinquent  \\\n",
       "0                     17.2                           NaN   \n",
       "1                     21.1                           8.0   \n",
       "2                     14.9                          29.0   \n",
       "3                     12.0                           NaN   \n",
       "4                      6.1                           NaN   \n",
       "\n",
       "   Number of Open Accounts  Number of Credit Problems  Current Credit Balance  \\\n",
       "0                      6.0                        1.0                228190.0   \n",
       "1                     35.0                        0.0                229976.0   \n",
       "2                     18.0                        1.0                297996.0   \n",
       "3                      9.0                        0.0                256329.0   \n",
       "4                     15.0                        0.0                253460.0   \n",
       "\n",
       "   Maximum Open Credit  Bankruptcies  Tax Liens  \n",
       "0             416746.0           1.0        0.0  \n",
       "1             850784.0           0.0        0.0  \n",
       "2             750090.0           0.0        0.0  \n",
       "3             386958.0           0.0        0.0  \n",
       "4             427174.0           0.0        0.0  "
      ]
     },
     "execution_count": 3,
     "metadata": {},
     "output_type": "execute_result"
    },
    {
     "data": {
      "application/javascript": [
       "\n",
       "            setTimeout(function() {\n",
       "                var nbb_cell_id = 3;\n",
       "                var nbb_unformatted_code = \"data = pd.read_csv(\\\"01_Data/credit_train.csv\\\")\\ndata.head()\";\n",
       "                var nbb_formatted_code = \"data = pd.read_csv(\\\"01_Data/credit_train.csv\\\")\\ndata.head()\";\n",
       "                var nbb_cells = Jupyter.notebook.get_cells();\n",
       "                for (var i = 0; i < nbb_cells.length; ++i) {\n",
       "                    if (nbb_cells[i].input_prompt_number == nbb_cell_id) {\n",
       "                        if (nbb_cells[i].get_text() == nbb_unformatted_code) {\n",
       "                             nbb_cells[i].set_text(nbb_formatted_code);\n",
       "                        }\n",
       "                        break;\n",
       "                    }\n",
       "                }\n",
       "            }, 500);\n",
       "            "
      ],
      "text/plain": [
       "<IPython.core.display.Javascript object>"
      ]
     },
     "metadata": {},
     "output_type": "display_data"
    }
   ],
   "source": [
    "data = pd.read_csv(\"01_Data/credit_train.csv\")\n",
    "data.head()"
   ]
  },
  {
   "cell_type": "code",
   "execution_count": 4,
   "metadata": {},
   "outputs": [
    {
     "data": {
      "text/html": [
       "<div>\n",
       "<style scoped>\n",
       "    .dataframe tbody tr th:only-of-type {\n",
       "        vertical-align: middle;\n",
       "    }\n",
       "\n",
       "    .dataframe tbody tr th {\n",
       "        vertical-align: top;\n",
       "    }\n",
       "\n",
       "    .dataframe thead th {\n",
       "        text-align: right;\n",
       "    }\n",
       "</style>\n",
       "<table border=\"1\" class=\"dataframe\">\n",
       "  <thead>\n",
       "    <tr style=\"text-align: right;\">\n",
       "      <th></th>\n",
       "      <th>Current Loan Amount</th>\n",
       "      <th>Credit Score</th>\n",
       "      <th>Annual Income</th>\n",
       "      <th>Monthly Debt</th>\n",
       "      <th>Years of Credit History</th>\n",
       "      <th>Months since last delinquent</th>\n",
       "      <th>Number of Open Accounts</th>\n",
       "      <th>Number of Credit Problems</th>\n",
       "      <th>Current Credit Balance</th>\n",
       "      <th>Maximum Open Credit</th>\n",
       "      <th>Bankruptcies</th>\n",
       "      <th>Tax Liens</th>\n",
       "    </tr>\n",
       "  </thead>\n",
       "  <tbody>\n",
       "    <tr>\n",
       "      <th>count</th>\n",
       "      <td>1.000000e+05</td>\n",
       "      <td>80846.000000</td>\n",
       "      <td>8.084600e+04</td>\n",
       "      <td>100000.000000</td>\n",
       "      <td>100000.000000</td>\n",
       "      <td>46859.000000</td>\n",
       "      <td>100000.00000</td>\n",
       "      <td>100000.000000</td>\n",
       "      <td>1.000000e+05</td>\n",
       "      <td>9.999800e+04</td>\n",
       "      <td>99796.000000</td>\n",
       "      <td>99990.000000</td>\n",
       "    </tr>\n",
       "    <tr>\n",
       "      <th>mean</th>\n",
       "      <td>1.176045e+07</td>\n",
       "      <td>1076.456089</td>\n",
       "      <td>1.378277e+06</td>\n",
       "      <td>18472.412336</td>\n",
       "      <td>18.199141</td>\n",
       "      <td>34.901321</td>\n",
       "      <td>11.12853</td>\n",
       "      <td>0.168310</td>\n",
       "      <td>2.946374e+05</td>\n",
       "      <td>7.607984e+05</td>\n",
       "      <td>0.117740</td>\n",
       "      <td>0.029313</td>\n",
       "    </tr>\n",
       "    <tr>\n",
       "      <th>std</th>\n",
       "      <td>3.178394e+07</td>\n",
       "      <td>1475.403791</td>\n",
       "      <td>1.081360e+06</td>\n",
       "      <td>12174.992609</td>\n",
       "      <td>7.015324</td>\n",
       "      <td>21.997829</td>\n",
       "      <td>5.00987</td>\n",
       "      <td>0.482705</td>\n",
       "      <td>3.761709e+05</td>\n",
       "      <td>8.384503e+06</td>\n",
       "      <td>0.351424</td>\n",
       "      <td>0.258182</td>\n",
       "    </tr>\n",
       "    <tr>\n",
       "      <th>min</th>\n",
       "      <td>1.080200e+04</td>\n",
       "      <td>585.000000</td>\n",
       "      <td>7.662700e+04</td>\n",
       "      <td>0.000000</td>\n",
       "      <td>3.600000</td>\n",
       "      <td>0.000000</td>\n",
       "      <td>0.00000</td>\n",
       "      <td>0.000000</td>\n",
       "      <td>0.000000e+00</td>\n",
       "      <td>0.000000e+00</td>\n",
       "      <td>0.000000</td>\n",
       "      <td>0.000000</td>\n",
       "    </tr>\n",
       "    <tr>\n",
       "      <th>25%</th>\n",
       "      <td>1.796520e+05</td>\n",
       "      <td>705.000000</td>\n",
       "      <td>8.488440e+05</td>\n",
       "      <td>10214.162500</td>\n",
       "      <td>13.500000</td>\n",
       "      <td>16.000000</td>\n",
       "      <td>8.00000</td>\n",
       "      <td>0.000000</td>\n",
       "      <td>1.126700e+05</td>\n",
       "      <td>2.734380e+05</td>\n",
       "      <td>0.000000</td>\n",
       "      <td>0.000000</td>\n",
       "    </tr>\n",
       "    <tr>\n",
       "      <th>50%</th>\n",
       "      <td>3.122460e+05</td>\n",
       "      <td>724.000000</td>\n",
       "      <td>1.174162e+06</td>\n",
       "      <td>16220.300000</td>\n",
       "      <td>16.900000</td>\n",
       "      <td>32.000000</td>\n",
       "      <td>10.00000</td>\n",
       "      <td>0.000000</td>\n",
       "      <td>2.098170e+05</td>\n",
       "      <td>4.678740e+05</td>\n",
       "      <td>0.000000</td>\n",
       "      <td>0.000000</td>\n",
       "    </tr>\n",
       "    <tr>\n",
       "      <th>75%</th>\n",
       "      <td>5.249420e+05</td>\n",
       "      <td>741.000000</td>\n",
       "      <td>1.650663e+06</td>\n",
       "      <td>24012.057500</td>\n",
       "      <td>21.700000</td>\n",
       "      <td>51.000000</td>\n",
       "      <td>14.00000</td>\n",
       "      <td>0.000000</td>\n",
       "      <td>3.679588e+05</td>\n",
       "      <td>7.829580e+05</td>\n",
       "      <td>0.000000</td>\n",
       "      <td>0.000000</td>\n",
       "    </tr>\n",
       "    <tr>\n",
       "      <th>max</th>\n",
       "      <td>1.000000e+08</td>\n",
       "      <td>7510.000000</td>\n",
       "      <td>1.655574e+08</td>\n",
       "      <td>435843.280000</td>\n",
       "      <td>70.500000</td>\n",
       "      <td>176.000000</td>\n",
       "      <td>76.00000</td>\n",
       "      <td>15.000000</td>\n",
       "      <td>3.287897e+07</td>\n",
       "      <td>1.539738e+09</td>\n",
       "      <td>7.000000</td>\n",
       "      <td>15.000000</td>\n",
       "    </tr>\n",
       "  </tbody>\n",
       "</table>\n",
       "</div>"
      ],
      "text/plain": [
       "       Current Loan Amount  Credit Score  Annual Income   Monthly Debt  \\\n",
       "count         1.000000e+05  80846.000000   8.084600e+04  100000.000000   \n",
       "mean          1.176045e+07   1076.456089   1.378277e+06   18472.412336   \n",
       "std           3.178394e+07   1475.403791   1.081360e+06   12174.992609   \n",
       "min           1.080200e+04    585.000000   7.662700e+04       0.000000   \n",
       "25%           1.796520e+05    705.000000   8.488440e+05   10214.162500   \n",
       "50%           3.122460e+05    724.000000   1.174162e+06   16220.300000   \n",
       "75%           5.249420e+05    741.000000   1.650663e+06   24012.057500   \n",
       "max           1.000000e+08   7510.000000   1.655574e+08  435843.280000   \n",
       "\n",
       "       Years of Credit History  Months since last delinquent  \\\n",
       "count            100000.000000                  46859.000000   \n",
       "mean                 18.199141                     34.901321   \n",
       "std                   7.015324                     21.997829   \n",
       "min                   3.600000                      0.000000   \n",
       "25%                  13.500000                     16.000000   \n",
       "50%                  16.900000                     32.000000   \n",
       "75%                  21.700000                     51.000000   \n",
       "max                  70.500000                    176.000000   \n",
       "\n",
       "       Number of Open Accounts  Number of Credit Problems  \\\n",
       "count             100000.00000              100000.000000   \n",
       "mean                  11.12853                   0.168310   \n",
       "std                    5.00987                   0.482705   \n",
       "min                    0.00000                   0.000000   \n",
       "25%                    8.00000                   0.000000   \n",
       "50%                   10.00000                   0.000000   \n",
       "75%                   14.00000                   0.000000   \n",
       "max                   76.00000                  15.000000   \n",
       "\n",
       "       Current Credit Balance  Maximum Open Credit  Bankruptcies     Tax Liens  \n",
       "count            1.000000e+05         9.999800e+04  99796.000000  99990.000000  \n",
       "mean             2.946374e+05         7.607984e+05      0.117740      0.029313  \n",
       "std              3.761709e+05         8.384503e+06      0.351424      0.258182  \n",
       "min              0.000000e+00         0.000000e+00      0.000000      0.000000  \n",
       "25%              1.126700e+05         2.734380e+05      0.000000      0.000000  \n",
       "50%              2.098170e+05         4.678740e+05      0.000000      0.000000  \n",
       "75%              3.679588e+05         7.829580e+05      0.000000      0.000000  \n",
       "max              3.287897e+07         1.539738e+09      7.000000     15.000000  "
      ]
     },
     "execution_count": 4,
     "metadata": {},
     "output_type": "execute_result"
    },
    {
     "data": {
      "application/javascript": [
       "\n",
       "            setTimeout(function() {\n",
       "                var nbb_cell_id = 4;\n",
       "                var nbb_unformatted_code = \"data.describe()\";\n",
       "                var nbb_formatted_code = \"data.describe()\";\n",
       "                var nbb_cells = Jupyter.notebook.get_cells();\n",
       "                for (var i = 0; i < nbb_cells.length; ++i) {\n",
       "                    if (nbb_cells[i].input_prompt_number == nbb_cell_id) {\n",
       "                        if (nbb_cells[i].get_text() == nbb_unformatted_code) {\n",
       "                             nbb_cells[i].set_text(nbb_formatted_code);\n",
       "                        }\n",
       "                        break;\n",
       "                    }\n",
       "                }\n",
       "            }, 500);\n",
       "            "
      ],
      "text/plain": [
       "<IPython.core.display.Javascript object>"
      ]
     },
     "metadata": {},
     "output_type": "display_data"
    }
   ],
   "source": [
    "data.describe()"
   ]
  },
  {
   "cell_type": "markdown",
   "metadata": {},
   "source": [
    "# Data Preprocessing"
   ]
  },
  {
   "cell_type": "markdown",
   "metadata": {},
   "source": [
    "## Missing Values"
   ]
  },
  {
   "cell_type": "code",
   "execution_count": 5,
   "metadata": {},
   "outputs": [
    {
     "data": {
      "text/plain": [
       "Index(['Loan ID', 'Customer ID', 'Loan Status', 'Current Loan Amount', 'Term',\n",
       "       'Credit Score', 'Annual Income', 'Years in current job',\n",
       "       'Home Ownership', 'Purpose', 'Monthly Debt', 'Years of Credit History',\n",
       "       'Months since last delinquent', 'Number of Open Accounts',\n",
       "       'Number of Credit Problems', 'Current Credit Balance',\n",
       "       'Maximum Open Credit', 'Bankruptcies', 'Tax Liens'],\n",
       "      dtype='object')"
      ]
     },
     "execution_count": 5,
     "metadata": {},
     "output_type": "execute_result"
    },
    {
     "data": {
      "application/javascript": [
       "\n",
       "            setTimeout(function() {\n",
       "                var nbb_cell_id = 5;\n",
       "                var nbb_unformatted_code = \"data.columns\";\n",
       "                var nbb_formatted_code = \"data.columns\";\n",
       "                var nbb_cells = Jupyter.notebook.get_cells();\n",
       "                for (var i = 0; i < nbb_cells.length; ++i) {\n",
       "                    if (nbb_cells[i].input_prompt_number == nbb_cell_id) {\n",
       "                        if (nbb_cells[i].get_text() == nbb_unformatted_code) {\n",
       "                             nbb_cells[i].set_text(nbb_formatted_code);\n",
       "                        }\n",
       "                        break;\n",
       "                    }\n",
       "                }\n",
       "            }, 500);\n",
       "            "
      ],
      "text/plain": [
       "<IPython.core.display.Javascript object>"
      ]
     },
     "metadata": {},
     "output_type": "display_data"
    }
   ],
   "source": [
    "data.columns"
   ]
  },
  {
   "cell_type": "code",
   "execution_count": 6,
   "metadata": {},
   "outputs": [
    {
     "name": "stdout",
     "output_type": "stream",
     "text": [
      "There are  514 null values for Loan ID\n",
      "There are  514 null values for Customer ID\n",
      "There are  514 null values for Loan Status\n",
      "There are  514 null values for Current Loan Amount\n",
      "There are  514 null values for Term\n",
      "There are  19668 null values for Credit Score\n",
      "There are  19668 null values for Annual Income\n",
      "There are  4736 null values for Years in current job\n",
      "There are  514 null values for Home Ownership\n",
      "There are  514 null values for Purpose\n",
      "There are  514 null values for Monthly Debt\n",
      "There are  514 null values for Years of Credit History\n",
      "There are  53655 null values for Months since last delinquent\n",
      "There are  514 null values for Number of Open Accounts\n",
      "There are  514 null values for Number of Credit Problems\n",
      "There are  514 null values for Current Credit Balance\n",
      "There are  516 null values for Maximum Open Credit\n",
      "There are  718 null values for Bankruptcies\n",
      "There are  524 null values for Tax Liens\n"
     ]
    },
    {
     "data": {
      "application/javascript": [
       "\n",
       "            setTimeout(function() {\n",
       "                var nbb_cell_id = 6;\n",
       "                var nbb_unformatted_code = \"# Check number of missings for all variables\\nvariables = [\\n    \\\"Loan ID\\\",\\n    \\\"Customer ID\\\",\\n    \\\"Loan Status\\\",\\n    \\\"Current Loan Amount\\\",\\n    \\\"Term\\\",\\n    \\\"Credit Score\\\",\\n    \\\"Annual Income\\\",\\n    \\\"Years in current job\\\",\\n    \\\"Home Ownership\\\",\\n    \\\"Purpose\\\",\\n    \\\"Monthly Debt\\\",\\n    \\\"Years of Credit History\\\",\\n    \\\"Months since last delinquent\\\",\\n    \\\"Number of Open Accounts\\\",\\n    \\\"Number of Credit Problems\\\",\\n    \\\"Current Credit Balance\\\",\\n    \\\"Maximum Open Credit\\\",\\n    \\\"Bankruptcies\\\",\\n    \\\"Tax Liens\\\",\\n]\\nfor i in variables:\\n    print(\\\"There are \\\", data[i].isna().sum(), \\\"null values for \\\" + i)\";\n",
       "                var nbb_formatted_code = \"# Check number of missings for all variables\\nvariables = [\\n    \\\"Loan ID\\\",\\n    \\\"Customer ID\\\",\\n    \\\"Loan Status\\\",\\n    \\\"Current Loan Amount\\\",\\n    \\\"Term\\\",\\n    \\\"Credit Score\\\",\\n    \\\"Annual Income\\\",\\n    \\\"Years in current job\\\",\\n    \\\"Home Ownership\\\",\\n    \\\"Purpose\\\",\\n    \\\"Monthly Debt\\\",\\n    \\\"Years of Credit History\\\",\\n    \\\"Months since last delinquent\\\",\\n    \\\"Number of Open Accounts\\\",\\n    \\\"Number of Credit Problems\\\",\\n    \\\"Current Credit Balance\\\",\\n    \\\"Maximum Open Credit\\\",\\n    \\\"Bankruptcies\\\",\\n    \\\"Tax Liens\\\",\\n]\\nfor i in variables:\\n    print(\\\"There are \\\", data[i].isna().sum(), \\\"null values for \\\" + i)\";\n",
       "                var nbb_cells = Jupyter.notebook.get_cells();\n",
       "                for (var i = 0; i < nbb_cells.length; ++i) {\n",
       "                    if (nbb_cells[i].input_prompt_number == nbb_cell_id) {\n",
       "                        if (nbb_cells[i].get_text() == nbb_unformatted_code) {\n",
       "                             nbb_cells[i].set_text(nbb_formatted_code);\n",
       "                        }\n",
       "                        break;\n",
       "                    }\n",
       "                }\n",
       "            }, 500);\n",
       "            "
      ],
      "text/plain": [
       "<IPython.core.display.Javascript object>"
      ]
     },
     "metadata": {},
     "output_type": "display_data"
    }
   ],
   "source": [
    "# Check number of missings for all variables\n",
    "variables = [\n",
    "    \"Loan ID\",\n",
    "    \"Customer ID\",\n",
    "    \"Loan Status\",\n",
    "    \"Current Loan Amount\",\n",
    "    \"Term\",\n",
    "    \"Credit Score\",\n",
    "    \"Annual Income\",\n",
    "    \"Years in current job\",\n",
    "    \"Home Ownership\",\n",
    "    \"Purpose\",\n",
    "    \"Monthly Debt\",\n",
    "    \"Years of Credit History\",\n",
    "    \"Months since last delinquent\",\n",
    "    \"Number of Open Accounts\",\n",
    "    \"Number of Credit Problems\",\n",
    "    \"Current Credit Balance\",\n",
    "    \"Maximum Open Credit\",\n",
    "    \"Bankruptcies\",\n",
    "    \"Tax Liens\",\n",
    "]\n",
    "for i in variables:\n",
    "    print(\"There are \", data[i].isna().sum(), \"null values for \" + i)"
   ]
  },
  {
   "cell_type": "markdown",
   "metadata": {},
   "source": [
    "There are many missing values for Credit Score, Annual Income and Months since last delinquency. The following missing tratments are applied: <br>\n",
    "- impute the missing annual income with the mean <br> \n",
    "- impute the missing values for credit score with 2 different means based on short and long-term debt <br> \n",
    "- drop Months since last delinquency as it is used for calculating other key variables\n",
    "- drop missing observations for the other variables"
   ]
  },
  {
   "cell_type": "code",
   "execution_count": 7,
   "metadata": {},
   "outputs": [
    {
     "data": {
      "application/javascript": [
       "\n",
       "            setTimeout(function() {\n",
       "                var nbb_cell_id = 7;\n",
       "                var nbb_unformatted_code = \"# Remove missing values for target variable\\ndata.dropna(subset=[\\\"Loan Status\\\"], inplace=True)\";\n",
       "                var nbb_formatted_code = \"# Remove missing values for target variable\\ndata.dropna(subset=[\\\"Loan Status\\\"], inplace=True)\";\n",
       "                var nbb_cells = Jupyter.notebook.get_cells();\n",
       "                for (var i = 0; i < nbb_cells.length; ++i) {\n",
       "                    if (nbb_cells[i].input_prompt_number == nbb_cell_id) {\n",
       "                        if (nbb_cells[i].get_text() == nbb_unformatted_code) {\n",
       "                             nbb_cells[i].set_text(nbb_formatted_code);\n",
       "                        }\n",
       "                        break;\n",
       "                    }\n",
       "                }\n",
       "            }, 500);\n",
       "            "
      ],
      "text/plain": [
       "<IPython.core.display.Javascript object>"
      ]
     },
     "metadata": {},
     "output_type": "display_data"
    }
   ],
   "source": [
    "# Remove missing values for target variable\n",
    "data.dropna(subset=[\"Loan Status\"], inplace=True)"
   ]
  },
  {
   "cell_type": "code",
   "execution_count": 8,
   "metadata": {},
   "outputs": [
    {
     "data": {
      "application/javascript": [
       "\n",
       "            setTimeout(function() {\n",
       "                var nbb_cell_id = 8;\n",
       "                var nbb_unformatted_code = \"# Impute missing values for annual income with the mean\\ndata[\\\"Annual Income\\\"].fillna(data[\\\"Annual Income\\\"].mean(), inplace=True)\";\n",
       "                var nbb_formatted_code = \"# Impute missing values for annual income with the mean\\ndata[\\\"Annual Income\\\"].fillna(data[\\\"Annual Income\\\"].mean(), inplace=True)\";\n",
       "                var nbb_cells = Jupyter.notebook.get_cells();\n",
       "                for (var i = 0; i < nbb_cells.length; ++i) {\n",
       "                    if (nbb_cells[i].input_prompt_number == nbb_cell_id) {\n",
       "                        if (nbb_cells[i].get_text() == nbb_unformatted_code) {\n",
       "                             nbb_cells[i].set_text(nbb_formatted_code);\n",
       "                        }\n",
       "                        break;\n",
       "                    }\n",
       "                }\n",
       "            }, 500);\n",
       "            "
      ],
      "text/plain": [
       "<IPython.core.display.Javascript object>"
      ]
     },
     "metadata": {},
     "output_type": "display_data"
    }
   ],
   "source": [
    "# Impute missing values for annual income with the mean\n",
    "data[\"Annual Income\"].fillna(data[\"Annual Income\"].mean(), inplace=True)"
   ]
  },
  {
   "cell_type": "code",
   "execution_count": 9,
   "metadata": {},
   "outputs": [
    {
     "data": {
      "application/javascript": [
       "\n",
       "            setTimeout(function() {\n",
       "                var nbb_cell_id = 9;\n",
       "                var nbb_unformatted_code = \"# Rescale credit scores above 850\\ndata[\\\"Credit Score\\\"] = data[\\\"Credit Score\\\"].apply(\\n    lambda val: (val / 10) if val > 850 else val\\n)\";\n",
       "                var nbb_formatted_code = \"# Rescale credit scores above 850\\ndata[\\\"Credit Score\\\"] = data[\\\"Credit Score\\\"].apply(\\n    lambda val: (val / 10) if val > 850 else val\\n)\";\n",
       "                var nbb_cells = Jupyter.notebook.get_cells();\n",
       "                for (var i = 0; i < nbb_cells.length; ++i) {\n",
       "                    if (nbb_cells[i].input_prompt_number == nbb_cell_id) {\n",
       "                        if (nbb_cells[i].get_text() == nbb_unformatted_code) {\n",
       "                             nbb_cells[i].set_text(nbb_formatted_code);\n",
       "                        }\n",
       "                        break;\n",
       "                    }\n",
       "                }\n",
       "            }, 500);\n",
       "            "
      ],
      "text/plain": [
       "<IPython.core.display.Javascript object>"
      ]
     },
     "metadata": {},
     "output_type": "display_data"
    }
   ],
   "source": [
    "# Rescale credit scores above 850\n",
    "data[\"Credit Score\"] = data[\"Credit Score\"].apply(\n",
    "    lambda val: (val / 10) if val > 850 else val\n",
    ")"
   ]
  },
  {
   "cell_type": "code",
   "execution_count": 10,
   "metadata": {},
   "outputs": [
    {
     "name": "stdout",
     "output_type": "stream",
     "text": [
      "724.6209386906824\n",
      "695.483727170432\n"
     ]
    },
    {
     "data": {
      "application/javascript": [
       "\n",
       "            setTimeout(function() {\n",
       "                var nbb_cell_id = 10;\n",
       "                var nbb_unformatted_code = \"# Impute missing values for credit score and annual income with 2 different means based on short and long-term debt\\ncscoredf = data[data[\\\"Term\\\"] == \\\"Short Term\\\"]\\nstermAVG = cscoredf[\\\"Credit Score\\\"].mean()\\nprint(stermAVG)\\nlscoredf = data[data[\\\"Term\\\"] == \\\"Long Term\\\"]\\nltermAVG = lscoredf[\\\"Credit Score\\\"].mean()\\nprint(ltermAVG)\\ndata.loc[(data.Term == 0) & (data[\\\"Credit Score\\\"].isnull()), \\\"Credit Score\\\"] = stermAVG\\ndata.loc[(data.Term == 1) & (data[\\\"Credit Score\\\"].isnull()), \\\"Credit Score\\\"] = ltermAVG\";\n",
       "                var nbb_formatted_code = \"# Impute missing values for credit score and annual income with 2 different means based on short and long-term debt\\ncscoredf = data[data[\\\"Term\\\"] == \\\"Short Term\\\"]\\nstermAVG = cscoredf[\\\"Credit Score\\\"].mean()\\nprint(stermAVG)\\nlscoredf = data[data[\\\"Term\\\"] == \\\"Long Term\\\"]\\nltermAVG = lscoredf[\\\"Credit Score\\\"].mean()\\nprint(ltermAVG)\\ndata.loc[(data.Term == 0) & (data[\\\"Credit Score\\\"].isnull()), \\\"Credit Score\\\"] = stermAVG\\ndata.loc[(data.Term == 1) & (data[\\\"Credit Score\\\"].isnull()), \\\"Credit Score\\\"] = ltermAVG\";\n",
       "                var nbb_cells = Jupyter.notebook.get_cells();\n",
       "                for (var i = 0; i < nbb_cells.length; ++i) {\n",
       "                    if (nbb_cells[i].input_prompt_number == nbb_cell_id) {\n",
       "                        if (nbb_cells[i].get_text() == nbb_unformatted_code) {\n",
       "                             nbb_cells[i].set_text(nbb_formatted_code);\n",
       "                        }\n",
       "                        break;\n",
       "                    }\n",
       "                }\n",
       "            }, 500);\n",
       "            "
      ],
      "text/plain": [
       "<IPython.core.display.Javascript object>"
      ]
     },
     "metadata": {},
     "output_type": "display_data"
    }
   ],
   "source": [
    "# Impute missing values for credit score and annual income with 2 different means based on short and long-term debt\n",
    "cscoredf = data[data[\"Term\"] == \"Short Term\"]\n",
    "stermAVG = cscoredf[\"Credit Score\"].mean()\n",
    "print(stermAVG)\n",
    "lscoredf = data[data[\"Term\"] == \"Long Term\"]\n",
    "ltermAVG = lscoredf[\"Credit Score\"].mean()\n",
    "print(ltermAVG)\n",
    "data.loc[(data.Term == 0) & (data[\"Credit Score\"].isnull()), \"Credit Score\"] = stermAVG\n",
    "data.loc[(data.Term == 1) & (data[\"Credit Score\"].isnull()), \"Credit Score\"] = ltermAVG"
   ]
  },
  {
   "cell_type": "code",
   "execution_count": 11,
   "metadata": {},
   "outputs": [
    {
     "data": {
      "application/javascript": [
       "\n",
       "            setTimeout(function() {\n",
       "                var nbb_cell_id = 11;\n",
       "                var nbb_unformatted_code = \"# Create default flag\\ndata[\\\"default\\\"] = data[\\\"Loan Status\\\"].apply(lambda x: 0 if x == \\\"Fully Paid\\\" else 1)\";\n",
       "                var nbb_formatted_code = \"# Create default flag\\ndata[\\\"default\\\"] = data[\\\"Loan Status\\\"].apply(lambda x: 0 if x == \\\"Fully Paid\\\" else 1)\";\n",
       "                var nbb_cells = Jupyter.notebook.get_cells();\n",
       "                for (var i = 0; i < nbb_cells.length; ++i) {\n",
       "                    if (nbb_cells[i].input_prompt_number == nbb_cell_id) {\n",
       "                        if (nbb_cells[i].get_text() == nbb_unformatted_code) {\n",
       "                             nbb_cells[i].set_text(nbb_formatted_code);\n",
       "                        }\n",
       "                        break;\n",
       "                    }\n",
       "                }\n",
       "            }, 500);\n",
       "            "
      ],
      "text/plain": [
       "<IPython.core.display.Javascript object>"
      ]
     },
     "metadata": {},
     "output_type": "display_data"
    }
   ],
   "source": [
    "# Create default flag\n",
    "data[\"default\"] = data[\"Loan Status\"].apply(lambda x: 0 if x == \"Fully Paid\" else 1)"
   ]
  },
  {
   "cell_type": "code",
   "execution_count": 12,
   "metadata": {},
   "outputs": [
    {
     "data": {
      "application/javascript": [
       "\n",
       "            setTimeout(function() {\n",
       "                var nbb_cell_id = 12;\n",
       "                var nbb_unformatted_code = \"# Remove fields that are not needed\\ndata.drop(\\n    labels=[\\\"Loan ID\\\", \\\"Customer ID\\\", \\\"Loan Status\\\", \\\"Months since last delinquent\\\"],\\n    axis=1,\\n    inplace=True,\\n)\";\n",
       "                var nbb_formatted_code = \"# Remove fields that are not needed\\ndata.drop(\\n    labels=[\\\"Loan ID\\\", \\\"Customer ID\\\", \\\"Loan Status\\\", \\\"Months since last delinquent\\\"],\\n    axis=1,\\n    inplace=True,\\n)\";\n",
       "                var nbb_cells = Jupyter.notebook.get_cells();\n",
       "                for (var i = 0; i < nbb_cells.length; ++i) {\n",
       "                    if (nbb_cells[i].input_prompt_number == nbb_cell_id) {\n",
       "                        if (nbb_cells[i].get_text() == nbb_unformatted_code) {\n",
       "                             nbb_cells[i].set_text(nbb_formatted_code);\n",
       "                        }\n",
       "                        break;\n",
       "                    }\n",
       "                }\n",
       "            }, 500);\n",
       "            "
      ],
      "text/plain": [
       "<IPython.core.display.Javascript object>"
      ]
     },
     "metadata": {},
     "output_type": "display_data"
    }
   ],
   "source": [
    "# Remove fields that are not needed\n",
    "data.drop(\n",
    "    labels=[\"Loan ID\", \"Customer ID\", \"Loan Status\", \"Months since last delinquent\"],\n",
    "    axis=1,\n",
    "    inplace=True,\n",
    ")"
   ]
  },
  {
   "cell_type": "code",
   "execution_count": 13,
   "metadata": {},
   "outputs": [
    {
     "data": {
      "text/plain": [
       "Index(['Current Loan Amount', 'Term', 'Credit Score', 'Annual Income',\n",
       "       'Years in current job', 'Home Ownership', 'Purpose', 'Monthly Debt',\n",
       "       'Years of Credit History', 'Number of Open Accounts',\n",
       "       'Number of Credit Problems', 'Current Credit Balance',\n",
       "       'Maximum Open Credit', 'Bankruptcies', 'Tax Liens', 'default'],\n",
       "      dtype='object')"
      ]
     },
     "execution_count": 13,
     "metadata": {},
     "output_type": "execute_result"
    },
    {
     "data": {
      "application/javascript": [
       "\n",
       "            setTimeout(function() {\n",
       "                var nbb_cell_id = 13;\n",
       "                var nbb_unformatted_code = \"data.columns\";\n",
       "                var nbb_formatted_code = \"data.columns\";\n",
       "                var nbb_cells = Jupyter.notebook.get_cells();\n",
       "                for (var i = 0; i < nbb_cells.length; ++i) {\n",
       "                    if (nbb_cells[i].input_prompt_number == nbb_cell_id) {\n",
       "                        if (nbb_cells[i].get_text() == nbb_unformatted_code) {\n",
       "                             nbb_cells[i].set_text(nbb_formatted_code);\n",
       "                        }\n",
       "                        break;\n",
       "                    }\n",
       "                }\n",
       "            }, 500);\n",
       "            "
      ],
      "text/plain": [
       "<IPython.core.display.Javascript object>"
      ]
     },
     "metadata": {},
     "output_type": "display_data"
    }
   ],
   "source": [
    "data.columns"
   ]
  },
  {
   "cell_type": "code",
   "execution_count": 14,
   "metadata": {},
   "outputs": [
    {
     "name": "stdout",
     "output_type": "stream",
     "text": [
      "There are 100000 observations before applying treatment for missing values.\n",
      "There are 77271 observations after applying treatment for missing values.\n"
     ]
    },
    {
     "data": {
      "application/javascript": [
       "\n",
       "            setTimeout(function() {\n",
       "                var nbb_cell_id = 14;\n",
       "                var nbb_unformatted_code = \"print(\\n    \\\"There are\\\",\\n    len(data),\\n    \\\"observations before applying treatment for missing values.\\\",\\n)\\n\\ndata_dropna = data.dropna()\\nprint(\\n    \\\"There are\\\",\\n    len(data_dropna),\\n    \\\"observations after applying treatment for missing values.\\\",\\n)\";\n",
       "                var nbb_formatted_code = \"print(\\n    \\\"There are\\\",\\n    len(data),\\n    \\\"observations before applying treatment for missing values.\\\",\\n)\\n\\ndata_dropna = data.dropna()\\nprint(\\n    \\\"There are\\\",\\n    len(data_dropna),\\n    \\\"observations after applying treatment for missing values.\\\",\\n)\";\n",
       "                var nbb_cells = Jupyter.notebook.get_cells();\n",
       "                for (var i = 0; i < nbb_cells.length; ++i) {\n",
       "                    if (nbb_cells[i].input_prompt_number == nbb_cell_id) {\n",
       "                        if (nbb_cells[i].get_text() == nbb_unformatted_code) {\n",
       "                             nbb_cells[i].set_text(nbb_formatted_code);\n",
       "                        }\n",
       "                        break;\n",
       "                    }\n",
       "                }\n",
       "            }, 500);\n",
       "            "
      ],
      "text/plain": [
       "<IPython.core.display.Javascript object>"
      ]
     },
     "metadata": {},
     "output_type": "display_data"
    }
   ],
   "source": [
    "print(\n",
    "    \"There are\",\n",
    "    len(data),\n",
    "    \"observations before applying treatment for missing values.\",\n",
    ")\n",
    "\n",
    "data_dropna = data.dropna()\n",
    "print(\n",
    "    \"There are\",\n",
    "    len(data_dropna),\n",
    "    \"observations after applying treatment for missing values.\",\n",
    ")"
   ]
  },
  {
   "cell_type": "markdown",
   "metadata": {},
   "source": [
    "## Target Variable - Default flag"
   ]
  },
  {
   "cell_type": "code",
   "execution_count": 15,
   "metadata": {},
   "outputs": [
    {
     "data": {
      "text/plain": [
       "<matplotlib.axes._subplots.AxesSubplot at 0x19d84cfc4c8>"
      ]
     },
     "execution_count": 15,
     "metadata": {},
     "output_type": "execute_result"
    },
    {
     "data": {
      "image/png": "[encoded data removed]",
      "text/plain": [
       "<Figure size 432x288 with 1 Axes>"
      ]
     },
     "metadata": {
      "needs_background": "light"
     },
     "output_type": "display_data"
    },
    {
     "data": {
      "application/javascript": [
       "\n",
       "            setTimeout(function() {\n",
       "                var nbb_cell_id = 15;\n",
       "                var nbb_unformatted_code = \"coffvalue = data_dropna[data_dropna[\\\"default\\\"] == 0][\\\"default\\\"].count()\\nfpaidvalue = data_dropna[data_dropna[\\\"default\\\"] == 1][\\\"default\\\"].count()\\ndata_plot = {\\\"Counts\\\": [coffvalue, fpaidvalue]}\\nstatusDF = pd.DataFrame(data_plot, index=[1, 0])\\n# statusDF.head()\\nstatusDF.plot(kind=\\\"bar\\\", title=\\\"Status of the Loan\\\")\";\n",
       "                var nbb_formatted_code = \"coffvalue = data_dropna[data_dropna[\\\"default\\\"] == 0][\\\"default\\\"].count()\\nfpaidvalue = data_dropna[data_dropna[\\\"default\\\"] == 1][\\\"default\\\"].count()\\ndata_plot = {\\\"Counts\\\": [coffvalue, fpaidvalue]}\\nstatusDF = pd.DataFrame(data_plot, index=[1, 0])\\n# statusDF.head()\\nstatusDF.plot(kind=\\\"bar\\\", title=\\\"Status of the Loan\\\")\";\n",
       "                var nbb_cells = Jupyter.notebook.get_cells();\n",
       "                for (var i = 0; i < nbb_cells.length; ++i) {\n",
       "                    if (nbb_cells[i].input_prompt_number == nbb_cell_id) {\n",
       "                        if (nbb_cells[i].get_text() == nbb_unformatted_code) {\n",
       "                             nbb_cells[i].set_text(nbb_formatted_code);\n",
       "                        }\n",
       "                        break;\n",
       "                    }\n",
       "                }\n",
       "            }, 500);\n",
       "            "
      ],
      "text/plain": [
       "<IPython.core.display.Javascript object>"
      ]
     },
     "metadata": {},
     "output_type": "display_data"
    }
   ],
   "source": [
    "coffvalue = data_dropna[data_dropna[\"default\"] == 0][\"default\"].count()\n",
    "fpaidvalue = data_dropna[data_dropna[\"default\"] == 1][\"default\"].count()\n",
    "data_plot = {\"Counts\": [coffvalue, fpaidvalue]}\n",
    "statusDF = pd.DataFrame(data_plot, index=[1, 0])\n",
    "# statusDF.head()\n",
    "statusDF.plot(kind=\"bar\", title=\"Status of the Loan\")"
   ]
  },
  {
   "cell_type": "code",
   "execution_count": 16,
   "metadata": {},
   "outputs": [
    {
     "data": {
      "text/html": [
       "<div>\n",
       "<style scoped>\n",
       "    .dataframe tbody tr th:only-of-type {\n",
       "        vertical-align: middle;\n",
       "    }\n",
       "\n",
       "    .dataframe tbody tr th {\n",
       "        vertical-align: top;\n",
       "    }\n",
       "\n",
       "    .dataframe thead th {\n",
       "        text-align: right;\n",
       "    }\n",
       "</style>\n",
       "<table border=\"1\" class=\"dataframe\">\n",
       "  <thead>\n",
       "    <tr style=\"text-align: right;\">\n",
       "      <th></th>\n",
       "      <th>Count default</th>\n",
       "    </tr>\n",
       "  </thead>\n",
       "  <tbody>\n",
       "    <tr>\n",
       "      <th>Performing</th>\n",
       "      <td>61057</td>\n",
       "    </tr>\n",
       "    <tr>\n",
       "      <th>Default</th>\n",
       "      <td>16214</td>\n",
       "    </tr>\n",
       "  </tbody>\n",
       "</table>\n",
       "</div>"
      ],
      "text/plain": [
       "            Count default\n",
       "Performing          61057\n",
       "Default             16214"
      ]
     },
     "execution_count": 16,
     "metadata": {},
     "output_type": "execute_result"
    },
    {
     "data": {
      "application/javascript": [
       "\n",
       "            setTimeout(function() {\n",
       "                var nbb_cell_id = 16;\n",
       "                var nbb_unformatted_code = \"performing = data_dropna[data_dropna[\\\"default\\\"] == 0][\\\"default\\\"].count()\\ndefaults = data_dropna[data_dropna[\\\"default\\\"] == 1][\\\"default\\\"].count()\\n\\ncount_defaults = {\\\"Count default\\\": [performing, defaults]}\\ncount_defaults_df = pd.DataFrame(count_defaults, index=[\\\"Performing\\\", \\\"Default\\\"])\\ncount_defaults_df.head()\";\n",
       "                var nbb_formatted_code = \"performing = data_dropna[data_dropna[\\\"default\\\"] == 0][\\\"default\\\"].count()\\ndefaults = data_dropna[data_dropna[\\\"default\\\"] == 1][\\\"default\\\"].count()\\n\\ncount_defaults = {\\\"Count default\\\": [performing, defaults]}\\ncount_defaults_df = pd.DataFrame(count_defaults, index=[\\\"Performing\\\", \\\"Default\\\"])\\ncount_defaults_df.head()\";\n",
       "                var nbb_cells = Jupyter.notebook.get_cells();\n",
       "                for (var i = 0; i < nbb_cells.length; ++i) {\n",
       "                    if (nbb_cells[i].input_prompt_number == nbb_cell_id) {\n",
       "                        if (nbb_cells[i].get_text() == nbb_unformatted_code) {\n",
       "                             nbb_cells[i].set_text(nbb_formatted_code);\n",
       "                        }\n",
       "                        break;\n",
       "                    }\n",
       "                }\n",
       "            }, 500);\n",
       "            "
      ],
      "text/plain": [
       "<IPython.core.display.Javascript object>"
      ]
     },
     "metadata": {},
     "output_type": "display_data"
    }
   ],
   "source": [
    "performing = data_dropna[data_dropna[\"default\"] == 0][\"default\"].count()\n",
    "defaults = data_dropna[data_dropna[\"default\"] == 1][\"default\"].count()\n",
    "\n",
    "count_defaults = {\"Count default\": [performing, defaults]}\n",
    "count_defaults_df = pd.DataFrame(count_defaults, index=[\"Performing\", \"Default\"])\n",
    "count_defaults_df.head()"
   ]
  },
  {
   "cell_type": "markdown",
   "metadata": {},
   "source": [
    "## Univariate Analysis"
   ]
  },
  {
   "cell_type": "markdown",
   "metadata": {},
   "source": [
    "1. Fine and coarse classing <br>\n",
    "2. Check if the explanatory variables have reasonable trends <br>"
   ]
  },
  {
   "cell_type": "markdown",
   "metadata": {},
   "source": [
    "#### Credit Score"
   ]
  },
  {
   "cell_type": "code",
   "execution_count": 17,
   "metadata": {},
   "outputs": [
    {
     "name": "stderr",
     "output_type": "stream",
     "text": [
      "C:\\Users\\Asus\\.conda\\envs\\py37\\lib\\site-packages\\ipykernel_launcher.py:2: SettingWithCopyWarning: \n",
      "A value is trying to be set on a copy of a slice from a DataFrame.\n",
      "Try using .loc[row_indexer,col_indexer] = value instead\n",
      "\n",
      "See the caveats in the documentation: http://pandas.pydata.org/pandas-docs/stable/indexing.html#indexing-view-versus-copy\n",
      "  \n",
      "C:\\Users\\Asus\\.conda\\envs\\py37\\lib\\site-packages\\ipykernel_launcher.py:5: SettingWithCopyWarning: \n",
      "A value is trying to be set on a copy of a slice from a DataFrame.\n",
      "Try using .loc[row_indexer,col_indexer] = value instead\n",
      "\n",
      "See the caveats in the documentation: http://pandas.pydata.org/pandas-docs/stable/indexing.html#indexing-view-versus-copy\n",
      "  \"\"\"\n",
      "C:\\Users\\Asus\\.conda\\envs\\py37\\lib\\site-packages\\ipykernel_launcher.py:8: SettingWithCopyWarning: \n",
      "A value is trying to be set on a copy of a slice from a DataFrame.\n",
      "Try using .loc[row_indexer,col_indexer] = value instead\n",
      "\n",
      "See the caveats in the documentation: http://pandas.pydata.org/pandas-docs/stable/indexing.html#indexing-view-versus-copy\n",
      "  \n",
      "C:\\Users\\Asus\\.conda\\envs\\py37\\lib\\site-packages\\ipykernel_launcher.py:11: SettingWithCopyWarning: \n",
      "A value is trying to be set on a copy of a slice from a DataFrame.\n",
      "Try using .loc[row_indexer,col_indexer] = value instead\n",
      "\n",
      "See the caveats in the documentation: http://pandas.pydata.org/pandas-docs/stable/indexing.html#indexing-view-versus-copy\n",
      "  # This is added back by InteractiveShellApp.init_path()\n",
      "C:\\Users\\Asus\\.conda\\envs\\py37\\lib\\site-packages\\ipykernel_launcher.py:14: SettingWithCopyWarning: \n",
      "A value is trying to be set on a copy of a slice from a DataFrame.\n",
      "Try using .loc[row_indexer,col_indexer] = value instead\n",
      "\n",
      "See the caveats in the documentation: http://pandas.pydata.org/pandas-docs/stable/indexing.html#indexing-view-versus-copy\n",
      "  \n"
     ]
    },
    {
     "data": {
      "application/javascript": [
       "\n",
       "            setTimeout(function() {\n",
       "                var nbb_cell_id = 17;\n",
       "                var nbb_unformatted_code = \"data_dropna[\\\"Credit Score\\\"] = data_dropna[\\\"Credit Score\\\"].apply(\\n    lambda val: \\\"Poor\\\" if np.isreal(val) and val < 580 else val\\n)\\ndata_dropna[\\\"Credit Score\\\"] = data_dropna[\\\"Credit Score\\\"].apply(\\n    lambda val: \\\"Average\\\" if np.isreal(val) and (val >= 580 and val < 670) else val\\n)\\ndata_dropna[\\\"Credit Score\\\"] = data_dropna[\\\"Credit Score\\\"].apply(\\n    lambda val: \\\"Good\\\" if np.isreal(val) and (val >= 670 and val < 740) else val\\n)\\ndata_dropna[\\\"Credit Score\\\"] = data_dropna[\\\"Credit Score\\\"].apply(\\n    lambda val: \\\"Very Good\\\" if np.isreal(val) and (val >= 740 and val < 800) else val\\n)\\ndata_dropna[\\\"Credit Score\\\"] = data_dropna[\\\"Credit Score\\\"].apply(\\n    lambda val: \\\"Exceptional\\\" if np.isreal(val) and (val >= 800 and val <= 850) else val\\n)\";\n",
       "                var nbb_formatted_code = \"data_dropna[\\\"Credit Score\\\"] = data_dropna[\\\"Credit Score\\\"].apply(\\n    lambda val: \\\"Poor\\\" if np.isreal(val) and val < 580 else val\\n)\\ndata_dropna[\\\"Credit Score\\\"] = data_dropna[\\\"Credit Score\\\"].apply(\\n    lambda val: \\\"Average\\\" if np.isreal(val) and (val >= 580 and val < 670) else val\\n)\\ndata_dropna[\\\"Credit Score\\\"] = data_dropna[\\\"Credit Score\\\"].apply(\\n    lambda val: \\\"Good\\\" if np.isreal(val) and (val >= 670 and val < 740) else val\\n)\\ndata_dropna[\\\"Credit Score\\\"] = data_dropna[\\\"Credit Score\\\"].apply(\\n    lambda val: \\\"Very Good\\\" if np.isreal(val) and (val >= 740 and val < 800) else val\\n)\\ndata_dropna[\\\"Credit Score\\\"] = data_dropna[\\\"Credit Score\\\"].apply(\\n    lambda val: \\\"Exceptional\\\" if np.isreal(val) and (val >= 800 and val <= 850) else val\\n)\";\n",
       "                var nbb_cells = Jupyter.notebook.get_cells();\n",
       "                for (var i = 0; i < nbb_cells.length; ++i) {\n",
       "                    if (nbb_cells[i].input_prompt_number == nbb_cell_id) {\n",
       "                        if (nbb_cells[i].get_text() == nbb_unformatted_code) {\n",
       "                             nbb_cells[i].set_text(nbb_formatted_code);\n",
       "                        }\n",
       "                        break;\n",
       "                    }\n",
       "                }\n",
       "            }, 500);\n",
       "            "
      ],
      "text/plain": [
       "<IPython.core.display.Javascript object>"
      ]
     },
     "metadata": {},
     "output_type": "display_data"
    }
   ],
   "source": [
    "data_dropna[\"Credit Score\"] = data_dropna[\"Credit Score\"].apply(\n",
    "    lambda val: \"Poor\" if np.isreal(val) and val < 580 else val\n",
    ")\n",
    "data_dropna[\"Credit Score\"] = data_dropna[\"Credit Score\"].apply(\n",
    "    lambda val: \"Average\" if np.isreal(val) and (val >= 580 and val < 670) else val\n",
    ")\n",
    "data_dropna[\"Credit Score\"] = data_dropna[\"Credit Score\"].apply(\n",
    "    lambda val: \"Good\" if np.isreal(val) and (val >= 670 and val < 740) else val\n",
    ")\n",
    "data_dropna[\"Credit Score\"] = data_dropna[\"Credit Score\"].apply(\n",
    "    lambda val: \"Very Good\" if np.isreal(val) and (val >= 740 and val < 800) else val\n",
    ")\n",
    "data_dropna[\"Credit Score\"] = data_dropna[\"Credit Score\"].apply(\n",
    "    lambda val: \"Exceptional\" if np.isreal(val) and (val >= 800 and val <= 850) else val\n",
    ")"
   ]
  },
  {
   "cell_type": "code",
   "execution_count": 18,
   "metadata": {},
   "outputs": [
    {
     "data": {
      "text/html": [
       "<div>\n",
       "<style scoped>\n",
       "    .dataframe tbody tr th:only-of-type {\n",
       "        vertical-align: middle;\n",
       "    }\n",
       "\n",
       "    .dataframe tbody tr th {\n",
       "        vertical-align: top;\n",
       "    }\n",
       "\n",
       "    .dataframe thead th {\n",
       "        text-align: right;\n",
       "    }\n",
       "</style>\n",
       "<table border=\"1\" class=\"dataframe\">\n",
       "  <thead>\n",
       "    <tr style=\"text-align: right;\">\n",
       "      <th>default</th>\n",
       "      <th>0</th>\n",
       "      <th>1</th>\n",
       "    </tr>\n",
       "    <tr>\n",
       "      <th>Credit Score</th>\n",
       "      <th></th>\n",
       "      <th></th>\n",
       "    </tr>\n",
       "  </thead>\n",
       "  <tbody>\n",
       "    <tr>\n",
       "      <th>Average</th>\n",
       "      <td>3861</td>\n",
       "      <td>1907</td>\n",
       "    </tr>\n",
       "    <tr>\n",
       "      <th>Good</th>\n",
       "      <td>41930</td>\n",
       "      <td>11908</td>\n",
       "    </tr>\n",
       "    <tr>\n",
       "      <th>Very Good</th>\n",
       "      <td>15266</td>\n",
       "      <td>2399</td>\n",
       "    </tr>\n",
       "  </tbody>\n",
       "</table>\n",
       "</div>"
      ],
      "text/plain": [
       "default           0      1\n",
       "Credit Score              \n",
       "Average        3861   1907\n",
       "Good          41930  11908\n",
       "Very Good     15266   2399"
      ]
     },
     "execution_count": 18,
     "metadata": {},
     "output_type": "execute_result"
    },
    {
     "data": {
      "application/javascript": [
       "\n",
       "            setTimeout(function() {\n",
       "                var nbb_cell_id = 18;\n",
       "                var nbb_unformatted_code = \"pd.crosstab(data_dropna[\\\"Credit Score\\\"], data_dropna[\\\"default\\\"])\";\n",
       "                var nbb_formatted_code = \"pd.crosstab(data_dropna[\\\"Credit Score\\\"], data_dropna[\\\"default\\\"])\";\n",
       "                var nbb_cells = Jupyter.notebook.get_cells();\n",
       "                for (var i = 0; i < nbb_cells.length; ++i) {\n",
       "                    if (nbb_cells[i].input_prompt_number == nbb_cell_id) {\n",
       "                        if (nbb_cells[i].get_text() == nbb_unformatted_code) {\n",
       "                             nbb_cells[i].set_text(nbb_formatted_code);\n",
       "                        }\n",
       "                        break;\n",
       "                    }\n",
       "                }\n",
       "            }, 500);\n",
       "            "
      ],
      "text/plain": [
       "<IPython.core.display.Javascript object>"
      ]
     },
     "metadata": {},
     "output_type": "display_data"
    }
   ],
   "source": [
    "pd.crosstab(data_dropna[\"Credit Score\"], data_dropna[\"default\"])"
   ]
  },
  {
   "cell_type": "code",
   "execution_count": 19,
   "metadata": {},
   "outputs": [
    {
     "data": {
      "text/html": [
       "<div>\n",
       "<style scoped>\n",
       "    .dataframe tbody tr th:only-of-type {\n",
       "        vertical-align: middle;\n",
       "    }\n",
       "\n",
       "    .dataframe tbody tr th {\n",
       "        vertical-align: top;\n",
       "    }\n",
       "\n",
       "    .dataframe thead th {\n",
       "        text-align: right;\n",
       "    }\n",
       "</style>\n",
       "<table border=\"1\" class=\"dataframe\">\n",
       "  <thead>\n",
       "    <tr style=\"text-align: right;\">\n",
       "      <th>default</th>\n",
       "      <th>0</th>\n",
       "      <th>1</th>\n",
       "    </tr>\n",
       "    <tr>\n",
       "      <th>Credit Score</th>\n",
       "      <th></th>\n",
       "      <th></th>\n",
       "    </tr>\n",
       "  </thead>\n",
       "  <tbody>\n",
       "    <tr>\n",
       "      <th>Average</th>\n",
       "      <td>0.669383</td>\n",
       "      <td>0.330617</td>\n",
       "    </tr>\n",
       "    <tr>\n",
       "      <th>Good</th>\n",
       "      <td>0.778818</td>\n",
       "      <td>0.221182</td>\n",
       "    </tr>\n",
       "    <tr>\n",
       "      <th>Very Good</th>\n",
       "      <td>0.864195</td>\n",
       "      <td>0.135805</td>\n",
       "    </tr>\n",
       "  </tbody>\n",
       "</table>\n",
       "</div>"
      ],
      "text/plain": [
       "default              0         1\n",
       "Credit Score                    \n",
       "Average       0.669383  0.330617\n",
       "Good          0.778818  0.221182\n",
       "Very Good     0.864195  0.135805"
      ]
     },
     "execution_count": 19,
     "metadata": {},
     "output_type": "execute_result"
    },
    {
     "data": {
      "application/javascript": [
       "\n",
       "            setTimeout(function() {\n",
       "                var nbb_cell_id = 19;\n",
       "                var nbb_unformatted_code = \"pd.crosstab(data_dropna[\\\"Credit Score\\\"], data_dropna[\\\"default\\\"]).apply(\\n    lambda r: r / r.sum(), axis=1\\n)\";\n",
       "                var nbb_formatted_code = \"pd.crosstab(data_dropna[\\\"Credit Score\\\"], data_dropna[\\\"default\\\"]).apply(\\n    lambda r: r / r.sum(), axis=1\\n)\";\n",
       "                var nbb_cells = Jupyter.notebook.get_cells();\n",
       "                for (var i = 0; i < nbb_cells.length; ++i) {\n",
       "                    if (nbb_cells[i].input_prompt_number == nbb_cell_id) {\n",
       "                        if (nbb_cells[i].get_text() == nbb_unformatted_code) {\n",
       "                             nbb_cells[i].set_text(nbb_formatted_code);\n",
       "                        }\n",
       "                        break;\n",
       "                    }\n",
       "                }\n",
       "            }, 500);\n",
       "            "
      ],
      "text/plain": [
       "<IPython.core.display.Javascript object>"
      ]
     },
     "metadata": {},
     "output_type": "display_data"
    }
   ],
   "source": [
    "pd.crosstab(data_dropna[\"Credit Score\"], data_dropna[\"default\"]).apply(\n",
    "    lambda r: r / r.sum(), axis=1\n",
    ")"
   ]
  },
  {
   "cell_type": "code",
   "execution_count": 20,
   "metadata": {},
   "outputs": [
    {
     "data": {
      "text/plain": [
       "Text(0, 0.5, 'Proportion of Defaults')"
      ]
     },
     "execution_count": 20,
     "metadata": {},
     "output_type": "execute_result"
    },
    {
     "data": {
      "image/png": "[encoded data removed]",
      "text/plain": [
       "<Figure size 432x288 with 1 Axes>"
      ]
     },
     "metadata": {
      "needs_background": "light"
     },
     "output_type": "display_data"
    },
    {
     "data": {
      "application/javascript": [
       "\n",
       "            setTimeout(function() {\n",
       "                var nbb_cell_id = 20;\n",
       "                var nbb_unformatted_code = \"table = pd.crosstab(data_dropna[\\\"Credit Score\\\"], data_dropna[\\\"default\\\"])\\ntable.div(table.sum(1).astype(float), axis=0).plot(kind=\\\"bar\\\", stacked=True)\\nplt.title(\\\"Stacked Bar Chart of Credit Score vs Default\\\")\\nplt.xlabel(\\\"Credit Score\\\")\\nplt.ylabel(\\\"Proportion of Defaults\\\")\";\n",
       "                var nbb_formatted_code = \"table = pd.crosstab(data_dropna[\\\"Credit Score\\\"], data_dropna[\\\"default\\\"])\\ntable.div(table.sum(1).astype(float), axis=0).plot(kind=\\\"bar\\\", stacked=True)\\nplt.title(\\\"Stacked Bar Chart of Credit Score vs Default\\\")\\nplt.xlabel(\\\"Credit Score\\\")\\nplt.ylabel(\\\"Proportion of Defaults\\\")\";\n",
       "                var nbb_cells = Jupyter.notebook.get_cells();\n",
       "                for (var i = 0; i < nbb_cells.length; ++i) {\n",
       "                    if (nbb_cells[i].input_prompt_number == nbb_cell_id) {\n",
       "                        if (nbb_cells[i].get_text() == nbb_unformatted_code) {\n",
       "                             nbb_cells[i].set_text(nbb_formatted_code);\n",
       "                        }\n",
       "                        break;\n",
       "                    }\n",
       "                }\n",
       "            }, 500);\n",
       "            "
      ],
      "text/plain": [
       "<IPython.core.display.Javascript object>"
      ]
     },
     "metadata": {},
     "output_type": "display_data"
    }
   ],
   "source": [
    "table = pd.crosstab(data_dropna[\"Credit Score\"], data_dropna[\"default\"])\n",
    "table.div(table.sum(1).astype(float), axis=0).plot(kind=\"bar\", stacked=True)\n",
    "plt.title(\"Stacked Bar Chart of Credit Score vs Default\")\n",
    "plt.xlabel(\"Credit Score\")\n",
    "plt.ylabel(\"Proportion of Defaults\")"
   ]
  },
  {
   "cell_type": "markdown",
   "metadata": {},
   "source": [
    "#### Current Loan Amount"
   ]
  },
  {
   "cell_type": "code",
   "execution_count": 21,
   "metadata": {},
   "outputs": [
    {
     "data": {
      "application/javascript": [
       "\n",
       "            setTimeout(function() {\n",
       "                var nbb_cell_id = 21;\n",
       "                var nbb_unformatted_code = \"# Drop values with current loan amount = 99999999.00\\n# Remove debt=0\";\n",
       "                var nbb_formatted_code = \"# Drop values with current loan amount = 99999999.00\\n# Remove debt=0\";\n",
       "                var nbb_cells = Jupyter.notebook.get_cells();\n",
       "                for (var i = 0; i < nbb_cells.length; ++i) {\n",
       "                    if (nbb_cells[i].input_prompt_number == nbb_cell_id) {\n",
       "                        if (nbb_cells[i].get_text() == nbb_unformatted_code) {\n",
       "                             nbb_cells[i].set_text(nbb_formatted_code);\n",
       "                        }\n",
       "                        break;\n",
       "                    }\n",
       "                }\n",
       "            }, 500);\n",
       "            "
      ],
      "text/plain": [
       "<IPython.core.display.Javascript object>"
      ]
     },
     "metadata": {},
     "output_type": "display_data"
    }
   ],
   "source": [
    "# Drop values with current loan amount = 99999999.00\n",
    "# Remove debt=0"
   ]
  },
  {
   "cell_type": "code",
   "execution_count": 22,
   "metadata": {},
   "outputs": [
    {
     "name": "stdout",
     "output_type": "stream",
     "text": [
      "66199\n"
     ]
    },
    {
     "data": {
      "application/javascript": [
       "\n",
       "            setTimeout(function() {\n",
       "                var nbb_cell_id = 22;\n",
       "                var nbb_unformatted_code = \"data_dropna = data_dropna[data_dropna[\\\"Current Loan Amount\\\"] != 99999999]\\ndata_dropna = data_dropna[data_dropna[\\\"Monthly Debt\\\"] != 0]\\nprint(len(data_dropna))\";\n",
       "                var nbb_formatted_code = \"data_dropna = data_dropna[data_dropna[\\\"Current Loan Amount\\\"] != 99999999]\\ndata_dropna = data_dropna[data_dropna[\\\"Monthly Debt\\\"] != 0]\\nprint(len(data_dropna))\";\n",
       "                var nbb_cells = Jupyter.notebook.get_cells();\n",
       "                for (var i = 0; i < nbb_cells.length; ++i) {\n",
       "                    if (nbb_cells[i].input_prompt_number == nbb_cell_id) {\n",
       "                        if (nbb_cells[i].get_text() == nbb_unformatted_code) {\n",
       "                             nbb_cells[i].set_text(nbb_formatted_code);\n",
       "                        }\n",
       "                        break;\n",
       "                    }\n",
       "                }\n",
       "            }, 500);\n",
       "            "
      ],
      "text/plain": [
       "<IPython.core.display.Javascript object>"
      ]
     },
     "metadata": {},
     "output_type": "display_data"
    }
   ],
   "source": [
    "data_dropna = data_dropna[data_dropna[\"Current Loan Amount\"] != 99999999]\n",
    "data_dropna = data_dropna[data_dropna[\"Monthly Debt\"] != 0]\n",
    "print(len(data_dropna))"
   ]
  },
  {
   "cell_type": "code",
   "execution_count": 23,
   "metadata": {},
   "outputs": [
    {
     "data": {
      "image/png": "[encoded data removed]",
      "text/plain": [
       "<Figure size 432x288 with 1 Axes>"
      ]
     },
     "metadata": {
      "needs_background": "light"
     },
     "output_type": "display_data"
    },
    {
     "data": {
      "application/javascript": [
       "\n",
       "            setTimeout(function() {\n",
       "                var nbb_cell_id = 23;\n",
       "                var nbb_unformatted_code = \"plt.hist(data_dropna[\\\"Current Loan Amount\\\"], bins=5)\\nplt.show()\";\n",
       "                var nbb_formatted_code = \"plt.hist(data_dropna[\\\"Current Loan Amount\\\"], bins=5)\\nplt.show()\";\n",
       "                var nbb_cells = Jupyter.notebook.get_cells();\n",
       "                for (var i = 0; i < nbb_cells.length; ++i) {\n",
       "                    if (nbb_cells[i].input_prompt_number == nbb_cell_id) {\n",
       "                        if (nbb_cells[i].get_text() == nbb_unformatted_code) {\n",
       "                             nbb_cells[i].set_text(nbb_formatted_code);\n",
       "                        }\n",
       "                        break;\n",
       "                    }\n",
       "                }\n",
       "            }, 500);\n",
       "            "
      ],
      "text/plain": [
       "<IPython.core.display.Javascript object>"
      ]
     },
     "metadata": {},
     "output_type": "display_data"
    }
   ],
   "source": [
    "plt.hist(data_dropna[\"Current Loan Amount\"], bins=5)\n",
    "plt.show()"
   ]
  },
  {
   "cell_type": "code",
   "execution_count": 24,
   "metadata": {},
   "outputs": [
    {
     "data": {
      "application/javascript": [
       "\n",
       "            setTimeout(function() {\n",
       "                var nbb_cell_id = 24;\n",
       "                var nbb_unformatted_code = \"data_dropna[\\\"Current Loan Amount\\\"] = data_dropna[\\\"Current Loan Amount\\\"].apply(\\n    lambda val: \\\"LoanAmount 1: <=100 000\\\" if np.isreal(val) and val <= 100000 else val\\n)\\ndata_dropna[\\\"Current Loan Amount\\\"] = data_dropna[\\\"Current Loan Amount\\\"].apply(\\n    lambda val: \\\"LoanAmount 2: >100 000 and <=200 000 \\\"\\n    if np.isreal(val) and val > 100000 and val <= 200000\\n    else val\\n)\\ndata_dropna[\\\"Current Loan Amount\\\"] = data_dropna[\\\"Current Loan Amount\\\"].apply(\\n    lambda val: \\\"LoanAmount 3: >200 000 and <=300 000 \\\"\\n    if np.isreal(val) and val > 200000 and val <= 300000\\n    else val\\n)\\ndata_dropna[\\\"Current Loan Amount\\\"] = data_dropna[\\\"Current Loan Amount\\\"].apply(\\n    lambda val: \\\"LoanAmount 3: >300 000 and <=400 000 \\\"\\n    if np.isreal(val) and val > 300000 and val <= 400000\\n    else val\\n)\\ndata_dropna[\\\"Current Loan Amount\\\"] = data_dropna[\\\"Current Loan Amount\\\"].apply(\\n    lambda val: \\\"LoanAmount 4: >400 000 and <=500 000 \\\"\\n    if np.isreal(val) and val > 400000 and val <= 500000\\n    else val\\n)\\ndata_dropna[\\\"Current Loan Amount\\\"] = data_dropna[\\\"Current Loan Amount\\\"].apply(\\n    lambda val: \\\"LoanAmount 5: >500 000 \\\" if np.isreal(val) and val > 500000 else val\\n)\";\n",
       "                var nbb_formatted_code = \"data_dropna[\\\"Current Loan Amount\\\"] = data_dropna[\\\"Current Loan Amount\\\"].apply(\\n    lambda val: \\\"LoanAmount 1: <=100 000\\\" if np.isreal(val) and val <= 100000 else val\\n)\\ndata_dropna[\\\"Current Loan Amount\\\"] = data_dropna[\\\"Current Loan Amount\\\"].apply(\\n    lambda val: \\\"LoanAmount 2: >100 000 and <=200 000 \\\"\\n    if np.isreal(val) and val > 100000 and val <= 200000\\n    else val\\n)\\ndata_dropna[\\\"Current Loan Amount\\\"] = data_dropna[\\\"Current Loan Amount\\\"].apply(\\n    lambda val: \\\"LoanAmount 3: >200 000 and <=300 000 \\\"\\n    if np.isreal(val) and val > 200000 and val <= 300000\\n    else val\\n)\\ndata_dropna[\\\"Current Loan Amount\\\"] = data_dropna[\\\"Current Loan Amount\\\"].apply(\\n    lambda val: \\\"LoanAmount 3: >300 000 and <=400 000 \\\"\\n    if np.isreal(val) and val > 300000 and val <= 400000\\n    else val\\n)\\ndata_dropna[\\\"Current Loan Amount\\\"] = data_dropna[\\\"Current Loan Amount\\\"].apply(\\n    lambda val: \\\"LoanAmount 4: >400 000 and <=500 000 \\\"\\n    if np.isreal(val) and val > 400000 and val <= 500000\\n    else val\\n)\\ndata_dropna[\\\"Current Loan Amount\\\"] = data_dropna[\\\"Current Loan Amount\\\"].apply(\\n    lambda val: \\\"LoanAmount 5: >500 000 \\\" if np.isreal(val) and val > 500000 else val\\n)\";\n",
       "                var nbb_cells = Jupyter.notebook.get_cells();\n",
       "                for (var i = 0; i < nbb_cells.length; ++i) {\n",
       "                    if (nbb_cells[i].input_prompt_number == nbb_cell_id) {\n",
       "                        if (nbb_cells[i].get_text() == nbb_unformatted_code) {\n",
       "                             nbb_cells[i].set_text(nbb_formatted_code);\n",
       "                        }\n",
       "                        break;\n",
       "                    }\n",
       "                }\n",
       "            }, 500);\n",
       "            "
      ],
      "text/plain": [
       "<IPython.core.display.Javascript object>"
      ]
     },
     "metadata": {},
     "output_type": "display_data"
    }
   ],
   "source": [
    "data_dropna[\"Current Loan Amount\"] = data_dropna[\"Current Loan Amount\"].apply(\n",
    "    lambda val: \"LoanAmount 1: <=100 000\" if np.isreal(val) and val <= 100000 else val\n",
    ")\n",
    "data_dropna[\"Current Loan Amount\"] = data_dropna[\"Current Loan Amount\"].apply(\n",
    "    lambda val: \"LoanAmount 2: >100 000 and <=200 000 \"\n",
    "    if np.isreal(val) and val > 100000 and val <= 200000\n",
    "    else val\n",
    ")\n",
    "data_dropna[\"Current Loan Amount\"] = data_dropna[\"Current Loan Amount\"].apply(\n",
    "    lambda val: \"LoanAmount 3: >200 000 and <=300 000 \"\n",
    "    if np.isreal(val) and val > 200000 and val <= 300000\n",
    "    else val\n",
    ")\n",
    "data_dropna[\"Current Loan Amount\"] = data_dropna[\"Current Loan Amount\"].apply(\n",
    "    lambda val: \"LoanAmount 3: >300 000 and <=400 000 \"\n",
    "    if np.isreal(val) and val > 300000 and val <= 400000\n",
    "    else val\n",
    ")\n",
    "data_dropna[\"Current Loan Amount\"] = data_dropna[\"Current Loan Amount\"].apply(\n",
    "    lambda val: \"LoanAmount 4: >400 000 and <=500 000 \"\n",
    "    if np.isreal(val) and val > 400000 and val <= 500000\n",
    "    else val\n",
    ")\n",
    "data_dropna[\"Current Loan Amount\"] = data_dropna[\"Current Loan Amount\"].apply(\n",
    "    lambda val: \"LoanAmount 5: >500 000 \" if np.isreal(val) and val > 500000 else val\n",
    ")"
   ]
  },
  {
   "cell_type": "markdown",
   "metadata": {},
   "source": [
    "#### Annual Income --> Debt to Income"
   ]
  },
  {
   "cell_type": "code",
   "execution_count": 25,
   "metadata": {},
   "outputs": [
    {
     "data": {
      "application/javascript": [
       "\n",
       "            setTimeout(function() {\n",
       "                var nbb_cell_id = 25;\n",
       "                var nbb_unformatted_code = \"data_dropna[\\\"Monthly Income\\\"] = data_dropna[\\\"Annual Income\\\"] / 12\\ndata_dropna[\\\"Debt to Income\\\"] = (\\n    data_dropna[\\\"Monthly Debt\\\"] / data_dropna[\\\"Monthly Income\\\"]\\n)\";\n",
       "                var nbb_formatted_code = \"data_dropna[\\\"Monthly Income\\\"] = data_dropna[\\\"Annual Income\\\"] / 12\\ndata_dropna[\\\"Debt to Income\\\"] = (\\n    data_dropna[\\\"Monthly Debt\\\"] / data_dropna[\\\"Monthly Income\\\"]\\n)\";\n",
       "                var nbb_cells = Jupyter.notebook.get_cells();\n",
       "                for (var i = 0; i < nbb_cells.length; ++i) {\n",
       "                    if (nbb_cells[i].input_prompt_number == nbb_cell_id) {\n",
       "                        if (nbb_cells[i].get_text() == nbb_unformatted_code) {\n",
       "                             nbb_cells[i].set_text(nbb_formatted_code);\n",
       "                        }\n",
       "                        break;\n",
       "                    }\n",
       "                }\n",
       "            }, 500);\n",
       "            "
      ],
      "text/plain": [
       "<IPython.core.display.Javascript object>"
      ]
     },
     "metadata": {},
     "output_type": "display_data"
    }
   ],
   "source": [
    "data_dropna[\"Monthly Income\"] = data_dropna[\"Annual Income\"] / 12\n",
    "data_dropna[\"Debt to Income\"] = (\n",
    "    data_dropna[\"Monthly Debt\"] / data_dropna[\"Monthly Income\"]\n",
    ")"
   ]
  },
  {
   "cell_type": "code",
   "execution_count": 26,
   "metadata": {},
   "outputs": [
    {
     "data": {
      "image/png": "[encoded data removed]",
      "text/plain": [
       "<Figure size 432x288 with 1 Axes>"
      ]
     },
     "metadata": {
      "needs_background": "light"
     },
     "output_type": "display_data"
    },
    {
     "data": {
      "application/javascript": [
       "\n",
       "            setTimeout(function() {\n",
       "                var nbb_cell_id = 26;\n",
       "                var nbb_unformatted_code = \"plt.hist(data_dropna[\\\"Debt to Income\\\"], bins=10)\\nplt.show()\";\n",
       "                var nbb_formatted_code = \"plt.hist(data_dropna[\\\"Debt to Income\\\"], bins=10)\\nplt.show()\";\n",
       "                var nbb_cells = Jupyter.notebook.get_cells();\n",
       "                for (var i = 0; i < nbb_cells.length; ++i) {\n",
       "                    if (nbb_cells[i].input_prompt_number == nbb_cell_id) {\n",
       "                        if (nbb_cells[i].get_text() == nbb_unformatted_code) {\n",
       "                             nbb_cells[i].set_text(nbb_formatted_code);\n",
       "                        }\n",
       "                        break;\n",
       "                    }\n",
       "                }\n",
       "            }, 500);\n",
       "            "
      ],
      "text/plain": [
       "<IPython.core.display.Javascript object>"
      ]
     },
     "metadata": {},
     "output_type": "display_data"
    }
   ],
   "source": [
    "plt.hist(data_dropna[\"Debt to Income\"], bins=10)\n",
    "plt.show()"
   ]
  },
  {
   "cell_type": "code",
   "execution_count": 27,
   "metadata": {},
   "outputs": [
    {
     "data": {
      "application/javascript": [
       "\n",
       "            setTimeout(function() {\n",
       "                var nbb_cell_id = 27;\n",
       "                var nbb_unformatted_code = \"data_dropna[\\\"Debt to Income v2\\\"] = data_dropna[\\\"Debt to Income\\\"].apply(\\n    lambda x: \\\"DTI 1: <=10%\\\"\\n    if x <= 0.1\\n    else (\\n        \\\"DTI 2: between 10 and 20%\\\"\\n        if x > 0.10 and x <= 0.20\\n        else (\\\"DTI 3: between 20 and 30%\\\")\\n        if x > 0.20 and x <= 0.30\\n        else \\\"DTI 4: >30%\\\"\\n    )\\n)\";\n",
       "                var nbb_formatted_code = \"data_dropna[\\\"Debt to Income v2\\\"] = data_dropna[\\\"Debt to Income\\\"].apply(\\n    lambda x: \\\"DTI 1: <=10%\\\"\\n    if x <= 0.1\\n    else (\\n        \\\"DTI 2: between 10 and 20%\\\"\\n        if x > 0.10 and x <= 0.20\\n        else (\\\"DTI 3: between 20 and 30%\\\")\\n        if x > 0.20 and x <= 0.30\\n        else \\\"DTI 4: >30%\\\"\\n    )\\n)\";\n",
       "                var nbb_cells = Jupyter.notebook.get_cells();\n",
       "                for (var i = 0; i < nbb_cells.length; ++i) {\n",
       "                    if (nbb_cells[i].input_prompt_number == nbb_cell_id) {\n",
       "                        if (nbb_cells[i].get_text() == nbb_unformatted_code) {\n",
       "                             nbb_cells[i].set_text(nbb_formatted_code);\n",
       "                        }\n",
       "                        break;\n",
       "                    }\n",
       "                }\n",
       "            }, 500);\n",
       "            "
      ],
      "text/plain": [
       "<IPython.core.display.Javascript object>"
      ]
     },
     "metadata": {},
     "output_type": "display_data"
    }
   ],
   "source": [
    "data_dropna[\"Debt to Income v2\"] = data_dropna[\"Debt to Income\"].apply(\n",
    "    lambda x: \"DTI 1: <=10%\"\n",
    "    if x <= 0.1\n",
    "    else (\n",
    "        \"DTI 2: between 10 and 20%\"\n",
    "        if x > 0.10 and x <= 0.20\n",
    "        else (\"DTI 3: between 20 and 30%\")\n",
    "        if x > 0.20 and x <= 0.30\n",
    "        else \"DTI 4: >30%\"\n",
    "    )\n",
    ")"
   ]
  },
  {
   "cell_type": "code",
   "execution_count": 28,
   "metadata": {},
   "outputs": [
    {
     "data": {
      "text/html": [
       "<div>\n",
       "<style scoped>\n",
       "    .dataframe tbody tr th:only-of-type {\n",
       "        vertical-align: middle;\n",
       "    }\n",
       "\n",
       "    .dataframe tbody tr th {\n",
       "        vertical-align: top;\n",
       "    }\n",
       "\n",
       "    .dataframe thead th {\n",
       "        text-align: right;\n",
       "    }\n",
       "</style>\n",
       "<table border=\"1\" class=\"dataframe\">\n",
       "  <thead>\n",
       "    <tr style=\"text-align: right;\">\n",
       "      <th>default</th>\n",
       "      <th>0</th>\n",
       "      <th>1</th>\n",
       "    </tr>\n",
       "    <tr>\n",
       "      <th>Debt to Income v2</th>\n",
       "      <th></th>\n",
       "      <th></th>\n",
       "    </tr>\n",
       "  </thead>\n",
       "  <tbody>\n",
       "    <tr>\n",
       "      <th>DTI 1: &lt;=10%</th>\n",
       "      <td>10624</td>\n",
       "      <td>2435</td>\n",
       "    </tr>\n",
       "    <tr>\n",
       "      <th>DTI 2: between 10 and 20%</th>\n",
       "      <td>22220</td>\n",
       "      <td>6757</td>\n",
       "    </tr>\n",
       "    <tr>\n",
       "      <th>DTI 3: between 20 and 30%</th>\n",
       "      <td>14119</td>\n",
       "      <td>5566</td>\n",
       "    </tr>\n",
       "    <tr>\n",
       "      <th>DTI 4: &gt;30%</th>\n",
       "      <td>3034</td>\n",
       "      <td>1444</td>\n",
       "    </tr>\n",
       "  </tbody>\n",
       "</table>\n",
       "</div>"
      ],
      "text/plain": [
       "default                        0     1\n",
       "Debt to Income v2                     \n",
       "DTI 1: <=10%               10624  2435\n",
       "DTI 2: between 10 and 20%  22220  6757\n",
       "DTI 3: between 20 and 30%  14119  5566\n",
       "DTI 4: >30%                 3034  1444"
      ]
     },
     "execution_count": 28,
     "metadata": {},
     "output_type": "execute_result"
    },
    {
     "data": {
      "application/javascript": [
       "\n",
       "            setTimeout(function() {\n",
       "                var nbb_cell_id = 28;\n",
       "                var nbb_unformatted_code = \"pd.crosstab(data_dropna[\\\"Debt to Income v2\\\"], data_dropna[\\\"default\\\"])\";\n",
       "                var nbb_formatted_code = \"pd.crosstab(data_dropna[\\\"Debt to Income v2\\\"], data_dropna[\\\"default\\\"])\";\n",
       "                var nbb_cells = Jupyter.notebook.get_cells();\n",
       "                for (var i = 0; i < nbb_cells.length; ++i) {\n",
       "                    if (nbb_cells[i].input_prompt_number == nbb_cell_id) {\n",
       "                        if (nbb_cells[i].get_text() == nbb_unformatted_code) {\n",
       "                             nbb_cells[i].set_text(nbb_formatted_code);\n",
       "                        }\n",
       "                        break;\n",
       "                    }\n",
       "                }\n",
       "            }, 500);\n",
       "            "
      ],
      "text/plain": [
       "<IPython.core.display.Javascript object>"
      ]
     },
     "metadata": {},
     "output_type": "display_data"
    }
   ],
   "source": [
    "pd.crosstab(data_dropna[\"Debt to Income v2\"], data_dropna[\"default\"])"
   ]
  },
  {
   "cell_type": "code",
   "execution_count": 29,
   "metadata": {},
   "outputs": [
    {
     "data": {
      "text/html": [
       "<div>\n",
       "<style scoped>\n",
       "    .dataframe tbody tr th:only-of-type {\n",
       "        vertical-align: middle;\n",
       "    }\n",
       "\n",
       "    .dataframe tbody tr th {\n",
       "        vertical-align: top;\n",
       "    }\n",
       "\n",
       "    .dataframe thead th {\n",
       "        text-align: right;\n",
       "    }\n",
       "</style>\n",
       "<table border=\"1\" class=\"dataframe\">\n",
       "  <thead>\n",
       "    <tr style=\"text-align: right;\">\n",
       "      <th>default</th>\n",
       "      <th>0</th>\n",
       "      <th>1</th>\n",
       "    </tr>\n",
       "    <tr>\n",
       "      <th>Debt to Income v2</th>\n",
       "      <th></th>\n",
       "      <th></th>\n",
       "    </tr>\n",
       "  </thead>\n",
       "  <tbody>\n",
       "    <tr>\n",
       "      <th>DTI 1: &lt;=10%</th>\n",
       "      <td>0.813539</td>\n",
       "      <td>0.186461</td>\n",
       "    </tr>\n",
       "    <tr>\n",
       "      <th>DTI 2: between 10 and 20%</th>\n",
       "      <td>0.766815</td>\n",
       "      <td>0.233185</td>\n",
       "    </tr>\n",
       "    <tr>\n",
       "      <th>DTI 3: between 20 and 30%</th>\n",
       "      <td>0.717247</td>\n",
       "      <td>0.282753</td>\n",
       "    </tr>\n",
       "    <tr>\n",
       "      <th>DTI 4: &gt;30%</th>\n",
       "      <td>0.677535</td>\n",
       "      <td>0.322465</td>\n",
       "    </tr>\n",
       "  </tbody>\n",
       "</table>\n",
       "</div>"
      ],
      "text/plain": [
       "default                           0         1\n",
       "Debt to Income v2                            \n",
       "DTI 1: <=10%               0.813539  0.186461\n",
       "DTI 2: between 10 and 20%  0.766815  0.233185\n",
       "DTI 3: between 20 and 30%  0.717247  0.282753\n",
       "DTI 4: >30%                0.677535  0.322465"
      ]
     },
     "execution_count": 29,
     "metadata": {},
     "output_type": "execute_result"
    },
    {
     "data": {
      "application/javascript": [
       "\n",
       "            setTimeout(function() {\n",
       "                var nbb_cell_id = 29;\n",
       "                var nbb_unformatted_code = \"pd.crosstab(data_dropna[\\\"Debt to Income v2\\\"], data_dropna[\\\"default\\\"]).apply(\\n    lambda r: r / r.sum(), axis=1\\n)\";\n",
       "                var nbb_formatted_code = \"pd.crosstab(data_dropna[\\\"Debt to Income v2\\\"], data_dropna[\\\"default\\\"]).apply(\\n    lambda r: r / r.sum(), axis=1\\n)\";\n",
       "                var nbb_cells = Jupyter.notebook.get_cells();\n",
       "                for (var i = 0; i < nbb_cells.length; ++i) {\n",
       "                    if (nbb_cells[i].input_prompt_number == nbb_cell_id) {\n",
       "                        if (nbb_cells[i].get_text() == nbb_unformatted_code) {\n",
       "                             nbb_cells[i].set_text(nbb_formatted_code);\n",
       "                        }\n",
       "                        break;\n",
       "                    }\n",
       "                }\n",
       "            }, 500);\n",
       "            "
      ],
      "text/plain": [
       "<IPython.core.display.Javascript object>"
      ]
     },
     "metadata": {},
     "output_type": "display_data"
    }
   ],
   "source": [
    "pd.crosstab(data_dropna[\"Debt to Income v2\"], data_dropna[\"default\"]).apply(\n",
    "    lambda r: r / r.sum(), axis=1\n",
    ")"
   ]
  },
  {
   "cell_type": "code",
   "execution_count": 30,
   "metadata": {},
   "outputs": [
    {
     "data": {
      "text/plain": [
       "Text(0, 0.5, 'Proportion of Defaults')"
      ]
     },
     "execution_count": 30,
     "metadata": {},
     "output_type": "execute_result"
    },
    {
     "data": {
      "image/png": "[encoded data removed]",
      "text/plain": [
       "<Figure size 432x288 with 1 Axes>"
      ]
     },
     "metadata": {
      "needs_background": "light"
     },
     "output_type": "display_data"
    },
    {
     "data": {
      "application/javascript": [
       "\n",
       "            setTimeout(function() {\n",
       "                var nbb_cell_id = 30;\n",
       "                var nbb_unformatted_code = \"%matplotlib inline\\ntable = pd.crosstab(data_dropna[\\\"Debt to Income v2\\\"], data_dropna[\\\"default\\\"])\\ntable.div(table.sum(1).astype(float), axis=0).plot(kind=\\\"bar\\\", stacked=True)\\nplt.title(\\\"Stacked Bar Chart of Debt to Income vs Default\\\")\\nplt.xlabel(\\\"Debt to Income\\\")\\nplt.ylabel(\\\"Proportion of Defaults\\\")\";\n",
       "                var nbb_formatted_code = \"%matplotlib inline\\ntable = pd.crosstab(data_dropna[\\\"Debt to Income v2\\\"], data_dropna[\\\"default\\\"])\\ntable.div(table.sum(1).astype(float), axis=0).plot(kind=\\\"bar\\\", stacked=True)\\nplt.title(\\\"Stacked Bar Chart of Debt to Income vs Default\\\")\\nplt.xlabel(\\\"Debt to Income\\\")\\nplt.ylabel(\\\"Proportion of Defaults\\\")\";\n",
       "                var nbb_cells = Jupyter.notebook.get_cells();\n",
       "                for (var i = 0; i < nbb_cells.length; ++i) {\n",
       "                    if (nbb_cells[i].input_prompt_number == nbb_cell_id) {\n",
       "                        if (nbb_cells[i].get_text() == nbb_unformatted_code) {\n",
       "                             nbb_cells[i].set_text(nbb_formatted_code);\n",
       "                        }\n",
       "                        break;\n",
       "                    }\n",
       "                }\n",
       "            }, 500);\n",
       "            "
      ],
      "text/plain": [
       "<IPython.core.display.Javascript object>"
      ]
     },
     "metadata": {},
     "output_type": "display_data"
    }
   ],
   "source": [
    "%matplotlib inline\n",
    "table = pd.crosstab(data_dropna[\"Debt to Income v2\"], data_dropna[\"default\"])\n",
    "table.div(table.sum(1).astype(float), axis=0).plot(kind=\"bar\", stacked=True)\n",
    "plt.title(\"Stacked Bar Chart of Debt to Income vs Default\")\n",
    "plt.xlabel(\"Debt to Income\")\n",
    "plt.ylabel(\"Proportion of Defaults\")"
   ]
  },
  {
   "cell_type": "markdown",
   "metadata": {},
   "source": [
    "#### Years in Current Job - Tried different versions of bucketing, but it does not show good discriminatory power"
   ]
  },
  {
   "cell_type": "code",
   "execution_count": 31,
   "metadata": {},
   "outputs": [
    {
     "data": {
      "application/javascript": [
       "\n",
       "            setTimeout(function() {\n",
       "                var nbb_cell_id = 31;\n",
       "                var nbb_unformatted_code = \"data_dropna[\\\"Years in current job\\\"] = data_dropna[\\\"Years in current job\\\"].str.extract(\\n    r\\\"(\\\\d+)\\\"\\n)\\ndata_dropna[\\\"Years in current job\\\"] = data_dropna[\\\"Years in current job\\\"].astype(float)\";\n",
       "                var nbb_formatted_code = \"data_dropna[\\\"Years in current job\\\"] = data_dropna[\\\"Years in current job\\\"].str.extract(\\n    r\\\"(\\\\d+)\\\"\\n)\\ndata_dropna[\\\"Years in current job\\\"] = data_dropna[\\\"Years in current job\\\"].astype(float)\";\n",
       "                var nbb_cells = Jupyter.notebook.get_cells();\n",
       "                for (var i = 0; i < nbb_cells.length; ++i) {\n",
       "                    if (nbb_cells[i].input_prompt_number == nbb_cell_id) {\n",
       "                        if (nbb_cells[i].get_text() == nbb_unformatted_code) {\n",
       "                             nbb_cells[i].set_text(nbb_formatted_code);\n",
       "                        }\n",
       "                        break;\n",
       "                    }\n",
       "                }\n",
       "            }, 500);\n",
       "            "
      ],
      "text/plain": [
       "<IPython.core.display.Javascript object>"
      ]
     },
     "metadata": {},
     "output_type": "display_data"
    }
   ],
   "source": [
    "data_dropna[\"Years in current job\"] = data_dropna[\"Years in current job\"].str.extract(\n",
    "    r\"(\\d+)\"\n",
    ")\n",
    "data_dropna[\"Years in current job\"] = data_dropna[\"Years in current job\"].astype(float)"
   ]
  },
  {
   "cell_type": "code",
   "execution_count": 32,
   "metadata": {},
   "outputs": [
    {
     "data": {
      "image/png": "[encoded data removed]",
      "text/plain": [
       "<Figure size 432x288 with 1 Axes>"
      ]
     },
     "metadata": {
      "needs_background": "light"
     },
     "output_type": "display_data"
    },
    {
     "data": {
      "application/javascript": [
       "\n",
       "            setTimeout(function() {\n",
       "                var nbb_cell_id = 32;\n",
       "                var nbb_unformatted_code = \"plt.hist(data_dropna[\\\"Years in current job\\\"], bins=5)\\nplt.show()\";\n",
       "                var nbb_formatted_code = \"plt.hist(data_dropna[\\\"Years in current job\\\"], bins=5)\\nplt.show()\";\n",
       "                var nbb_cells = Jupyter.notebook.get_cells();\n",
       "                for (var i = 0; i < nbb_cells.length; ++i) {\n",
       "                    if (nbb_cells[i].input_prompt_number == nbb_cell_id) {\n",
       "                        if (nbb_cells[i].get_text() == nbb_unformatted_code) {\n",
       "                             nbb_cells[i].set_text(nbb_formatted_code);\n",
       "                        }\n",
       "                        break;\n",
       "                    }\n",
       "                }\n",
       "            }, 500);\n",
       "            "
      ],
      "text/plain": [
       "<IPython.core.display.Javascript object>"
      ]
     },
     "metadata": {},
     "output_type": "display_data"
    }
   ],
   "source": [
    "plt.hist(data_dropna[\"Years in current job\"], bins=5)\n",
    "plt.show()"
   ]
  },
  {
   "cell_type": "code",
   "execution_count": 33,
   "metadata": {},
   "outputs": [
    {
     "data": {
      "application/javascript": [
       "\n",
       "            setTimeout(function() {\n",
       "                var nbb_cell_id = 33;\n",
       "                var nbb_unformatted_code = \"data_dropna[\\\"Employment History\\\"] = data_dropna[\\\"Years in current job\\\"].apply(\\n    lambda x: \\\"Job 1: <=1years\\\" if x <= 1 else (\\\"Job 2: >1 years\\\")\\n)\";\n",
       "                var nbb_formatted_code = \"data_dropna[\\\"Employment History\\\"] = data_dropna[\\\"Years in current job\\\"].apply(\\n    lambda x: \\\"Job 1: <=1years\\\" if x <= 1 else (\\\"Job 2: >1 years\\\")\\n)\";\n",
       "                var nbb_cells = Jupyter.notebook.get_cells();\n",
       "                for (var i = 0; i < nbb_cells.length; ++i) {\n",
       "                    if (nbb_cells[i].input_prompt_number == nbb_cell_id) {\n",
       "                        if (nbb_cells[i].get_text() == nbb_unformatted_code) {\n",
       "                             nbb_cells[i].set_text(nbb_formatted_code);\n",
       "                        }\n",
       "                        break;\n",
       "                    }\n",
       "                }\n",
       "            }, 500);\n",
       "            "
      ],
      "text/plain": [
       "<IPython.core.display.Javascript object>"
      ]
     },
     "metadata": {},
     "output_type": "display_data"
    }
   ],
   "source": [
    "data_dropna[\"Employment History\"] = data_dropna[\"Years in current job\"].apply(\n",
    "    lambda x: \"Job 1: <=1years\" if x <= 1 else (\"Job 2: >1 years\")\n",
    ")"
   ]
  },
  {
   "cell_type": "code",
   "execution_count": 34,
   "metadata": {},
   "outputs": [
    {
     "data": {
      "text/html": [
       "<div>\n",
       "<style scoped>\n",
       "    .dataframe tbody tr th:only-of-type {\n",
       "        vertical-align: middle;\n",
       "    }\n",
       "\n",
       "    .dataframe tbody tr th {\n",
       "        vertical-align: top;\n",
       "    }\n",
       "\n",
       "    .dataframe thead th {\n",
       "        text-align: right;\n",
       "    }\n",
       "</style>\n",
       "<table border=\"1\" class=\"dataframe\">\n",
       "  <thead>\n",
       "    <tr style=\"text-align: right;\">\n",
       "      <th>default</th>\n",
       "      <th>0</th>\n",
       "      <th>1</th>\n",
       "    </tr>\n",
       "    <tr>\n",
       "      <th>Employment History</th>\n",
       "      <th></th>\n",
       "      <th></th>\n",
       "    </tr>\n",
       "  </thead>\n",
       "  <tbody>\n",
       "    <tr>\n",
       "      <th>Job 1: &lt;=1years</th>\n",
       "      <td>7468</td>\n",
       "      <td>2547</td>\n",
       "    </tr>\n",
       "    <tr>\n",
       "      <th>Job 2: &gt;1 years</th>\n",
       "      <td>42529</td>\n",
       "      <td>13655</td>\n",
       "    </tr>\n",
       "  </tbody>\n",
       "</table>\n",
       "</div>"
      ],
      "text/plain": [
       "default                 0      1\n",
       "Employment History              \n",
       "Job 1: <=1years      7468   2547\n",
       "Job 2: >1 years     42529  13655"
      ]
     },
     "execution_count": 34,
     "metadata": {},
     "output_type": "execute_result"
    },
    {
     "data": {
      "application/javascript": [
       "\n",
       "            setTimeout(function() {\n",
       "                var nbb_cell_id = 34;\n",
       "                var nbb_unformatted_code = \"pd.crosstab(data_dropna[\\\"Employment History\\\"], data_dropna[\\\"default\\\"])\";\n",
       "                var nbb_formatted_code = \"pd.crosstab(data_dropna[\\\"Employment History\\\"], data_dropna[\\\"default\\\"])\";\n",
       "                var nbb_cells = Jupyter.notebook.get_cells();\n",
       "                for (var i = 0; i < nbb_cells.length; ++i) {\n",
       "                    if (nbb_cells[i].input_prompt_number == nbb_cell_id) {\n",
       "                        if (nbb_cells[i].get_text() == nbb_unformatted_code) {\n",
       "                             nbb_cells[i].set_text(nbb_formatted_code);\n",
       "                        }\n",
       "                        break;\n",
       "                    }\n",
       "                }\n",
       "            }, 500);\n",
       "            "
      ],
      "text/plain": [
       "<IPython.core.display.Javascript object>"
      ]
     },
     "metadata": {},
     "output_type": "display_data"
    }
   ],
   "source": [
    "pd.crosstab(data_dropna[\"Employment History\"], data_dropna[\"default\"])"
   ]
  },
  {
   "cell_type": "code",
   "execution_count": 35,
   "metadata": {},
   "outputs": [
    {
     "data": {
      "text/html": [
       "<div>\n",
       "<style scoped>\n",
       "    .dataframe tbody tr th:only-of-type {\n",
       "        vertical-align: middle;\n",
       "    }\n",
       "\n",
       "    .dataframe tbody tr th {\n",
       "        vertical-align: top;\n",
       "    }\n",
       "\n",
       "    .dataframe thead th {\n",
       "        text-align: right;\n",
       "    }\n",
       "</style>\n",
       "<table border=\"1\" class=\"dataframe\">\n",
       "  <thead>\n",
       "    <tr style=\"text-align: right;\">\n",
       "      <th>default</th>\n",
       "      <th>0</th>\n",
       "      <th>1</th>\n",
       "    </tr>\n",
       "    <tr>\n",
       "      <th>Employment History</th>\n",
       "      <th></th>\n",
       "      <th></th>\n",
       "    </tr>\n",
       "  </thead>\n",
       "  <tbody>\n",
       "    <tr>\n",
       "      <th>Job 1: &lt;=1years</th>\n",
       "      <td>0.745681</td>\n",
       "      <td>0.254319</td>\n",
       "    </tr>\n",
       "    <tr>\n",
       "      <th>Job 2: &gt;1 years</th>\n",
       "      <td>0.756959</td>\n",
       "      <td>0.243041</td>\n",
       "    </tr>\n",
       "  </tbody>\n",
       "</table>\n",
       "</div>"
      ],
      "text/plain": [
       "default                    0         1\n",
       "Employment History                    \n",
       "Job 1: <=1years     0.745681  0.254319\n",
       "Job 2: >1 years     0.756959  0.243041"
      ]
     },
     "execution_count": 35,
     "metadata": {},
     "output_type": "execute_result"
    },
    {
     "data": {
      "application/javascript": [
       "\n",
       "            setTimeout(function() {\n",
       "                var nbb_cell_id = 35;\n",
       "                var nbb_unformatted_code = \"pd.crosstab(data_dropna[\\\"Employment History\\\"], data_dropna[\\\"default\\\"]).apply(\\n    lambda r: r / r.sum(), axis=1\\n)\";\n",
       "                var nbb_formatted_code = \"pd.crosstab(data_dropna[\\\"Employment History\\\"], data_dropna[\\\"default\\\"]).apply(\\n    lambda r: r / r.sum(), axis=1\\n)\";\n",
       "                var nbb_cells = Jupyter.notebook.get_cells();\n",
       "                for (var i = 0; i < nbb_cells.length; ++i) {\n",
       "                    if (nbb_cells[i].input_prompt_number == nbb_cell_id) {\n",
       "                        if (nbb_cells[i].get_text() == nbb_unformatted_code) {\n",
       "                             nbb_cells[i].set_text(nbb_formatted_code);\n",
       "                        }\n",
       "                        break;\n",
       "                    }\n",
       "                }\n",
       "            }, 500);\n",
       "            "
      ],
      "text/plain": [
       "<IPython.core.display.Javascript object>"
      ]
     },
     "metadata": {},
     "output_type": "display_data"
    }
   ],
   "source": [
    "pd.crosstab(data_dropna[\"Employment History\"], data_dropna[\"default\"]).apply(\n",
    "    lambda r: r / r.sum(), axis=1\n",
    ")"
   ]
  },
  {
   "cell_type": "code",
   "execution_count": 36,
   "metadata": {},
   "outputs": [
    {
     "data": {
      "text/plain": [
       "Text(0, 0.5, 'Proportion of Defaults')"
      ]
     },
     "execution_count": 36,
     "metadata": {},
     "output_type": "execute_result"
    },
    {
     "data": {
      "image/png": "[encoded data removed]",
      "text/plain": [
       "<Figure size 432x288 with 1 Axes>"
      ]
     },
     "metadata": {
      "needs_background": "light"
     },
     "output_type": "display_data"
    },
    {
     "data": {
      "application/javascript": [
       "\n",
       "            setTimeout(function() {\n",
       "                var nbb_cell_id = 36;\n",
       "                var nbb_unformatted_code = \"%matplotlib inline\\ntable = pd.crosstab(data_dropna[\\\"Employment History\\\"], data_dropna[\\\"default\\\"])\\ntable.div(table.sum(1).astype(float), axis=0).plot(kind=\\\"bar\\\", stacked=True)\\nplt.title(\\\"Stacked Bar Chart of Employment History vs Default\\\")\\nplt.xlabel(\\\"Employment History\\\")\\nplt.ylabel(\\\"Proportion of Defaults\\\")\";\n",
       "                var nbb_formatted_code = \"%matplotlib inline\\ntable = pd.crosstab(data_dropna[\\\"Employment History\\\"], data_dropna[\\\"default\\\"])\\ntable.div(table.sum(1).astype(float), axis=0).plot(kind=\\\"bar\\\", stacked=True)\\nplt.title(\\\"Stacked Bar Chart of Employment History vs Default\\\")\\nplt.xlabel(\\\"Employment History\\\")\\nplt.ylabel(\\\"Proportion of Defaults\\\")\";\n",
       "                var nbb_cells = Jupyter.notebook.get_cells();\n",
       "                for (var i = 0; i < nbb_cells.length; ++i) {\n",
       "                    if (nbb_cells[i].input_prompt_number == nbb_cell_id) {\n",
       "                        if (nbb_cells[i].get_text() == nbb_unformatted_code) {\n",
       "                             nbb_cells[i].set_text(nbb_formatted_code);\n",
       "                        }\n",
       "                        break;\n",
       "                    }\n",
       "                }\n",
       "            }, 500);\n",
       "            "
      ],
      "text/plain": [
       "<IPython.core.display.Javascript object>"
      ]
     },
     "metadata": {},
     "output_type": "display_data"
    }
   ],
   "source": [
    "%matplotlib inline\n",
    "table = pd.crosstab(data_dropna[\"Employment History\"], data_dropna[\"default\"])\n",
    "table.div(table.sum(1).astype(float), axis=0).plot(kind=\"bar\", stacked=True)\n",
    "plt.title(\"Stacked Bar Chart of Employment History vs Default\")\n",
    "plt.xlabel(\"Employment History\")\n",
    "plt.ylabel(\"Proportion of Defaults\")"
   ]
  },
  {
   "cell_type": "markdown",
   "metadata": {},
   "source": [
    "#### Years of credit history"
   ]
  },
  {
   "cell_type": "code",
   "execution_count": 37,
   "metadata": {},
   "outputs": [
    {
     "data": {
      "image/png": "[encoded data removed]",
      "text/plain": [
       "<Figure size 432x288 with 1 Axes>"
      ]
     },
     "metadata": {
      "needs_background": "light"
     },
     "output_type": "display_data"
    },
    {
     "data": {
      "application/javascript": [
       "\n",
       "            setTimeout(function() {\n",
       "                var nbb_cell_id = 37;\n",
       "                var nbb_unformatted_code = \"plt.hist(data_dropna[\\\"Years of Credit History\\\"], bins=5)\\nplt.show()\";\n",
       "                var nbb_formatted_code = \"plt.hist(data_dropna[\\\"Years of Credit History\\\"], bins=5)\\nplt.show()\";\n",
       "                var nbb_cells = Jupyter.notebook.get_cells();\n",
       "                for (var i = 0; i < nbb_cells.length; ++i) {\n",
       "                    if (nbb_cells[i].input_prompt_number == nbb_cell_id) {\n",
       "                        if (nbb_cells[i].get_text() == nbb_unformatted_code) {\n",
       "                             nbb_cells[i].set_text(nbb_formatted_code);\n",
       "                        }\n",
       "                        break;\n",
       "                    }\n",
       "                }\n",
       "            }, 500);\n",
       "            "
      ],
      "text/plain": [
       "<IPython.core.display.Javascript object>"
      ]
     },
     "metadata": {},
     "output_type": "display_data"
    }
   ],
   "source": [
    "plt.hist(data_dropna[\"Years of Credit History\"], bins=5)\n",
    "plt.show()"
   ]
  },
  {
   "cell_type": "code",
   "execution_count": 38,
   "metadata": {},
   "outputs": [
    {
     "data": {
      "application/javascript": [
       "\n",
       "            setTimeout(function() {\n",
       "                var nbb_cell_id = 38;\n",
       "                var nbb_unformatted_code = \"data_dropna[\\\"Years of Credit History2\\\"] = data_dropna[\\\"Years of Credit History\\\"].apply(\\n    lambda x: \\\"CrHistory 1: <10\\\"\\n    if x <= 10\\n    else (\\\"CrHistory 2: 10-20\\\" if x > 10 and x < 20 else \\\"CrHistory 3: >=20\\\")\\n)\";\n",
       "                var nbb_formatted_code = \"data_dropna[\\\"Years of Credit History2\\\"] = data_dropna[\\\"Years of Credit History\\\"].apply(\\n    lambda x: \\\"CrHistory 1: <10\\\"\\n    if x <= 10\\n    else (\\\"CrHistory 2: 10-20\\\" if x > 10 and x < 20 else \\\"CrHistory 3: >=20\\\")\\n)\";\n",
       "                var nbb_cells = Jupyter.notebook.get_cells();\n",
       "                for (var i = 0; i < nbb_cells.length; ++i) {\n",
       "                    if (nbb_cells[i].input_prompt_number == nbb_cell_id) {\n",
       "                        if (nbb_cells[i].get_text() == nbb_unformatted_code) {\n",
       "                             nbb_cells[i].set_text(nbb_formatted_code);\n",
       "                        }\n",
       "                        break;\n",
       "                    }\n",
       "                }\n",
       "            }, 500);\n",
       "            "
      ],
      "text/plain": [
       "<IPython.core.display.Javascript object>"
      ]
     },
     "metadata": {},
     "output_type": "display_data"
    }
   ],
   "source": [
    "data_dropna[\"Years of Credit History2\"] = data_dropna[\"Years of Credit History\"].apply(\n",
    "    lambda x: \"CrHistory 1: <10\"\n",
    "    if x <= 10\n",
    "    else (\"CrHistory 2: 10-20\" if x > 10 and x < 20 else \"CrHistory 3: >=20\")\n",
    ")"
   ]
  },
  {
   "cell_type": "code",
   "execution_count": 39,
   "metadata": {},
   "outputs": [
    {
     "data": {
      "text/html": [
       "<div>\n",
       "<style scoped>\n",
       "    .dataframe tbody tr th:only-of-type {\n",
       "        vertical-align: middle;\n",
       "    }\n",
       "\n",
       "    .dataframe tbody tr th {\n",
       "        vertical-align: top;\n",
       "    }\n",
       "\n",
       "    .dataframe thead th {\n",
       "        text-align: right;\n",
       "    }\n",
       "</style>\n",
       "<table border=\"1\" class=\"dataframe\">\n",
       "  <thead>\n",
       "    <tr style=\"text-align: right;\">\n",
       "      <th>default</th>\n",
       "      <th>0</th>\n",
       "      <th>1</th>\n",
       "    </tr>\n",
       "    <tr>\n",
       "      <th>Years of Credit History2</th>\n",
       "      <th></th>\n",
       "      <th></th>\n",
       "    </tr>\n",
       "  </thead>\n",
       "  <tbody>\n",
       "    <tr>\n",
       "      <th>CrHistory 1: &lt;10</th>\n",
       "      <td>4563</td>\n",
       "      <td>1726</td>\n",
       "    </tr>\n",
       "    <tr>\n",
       "      <th>CrHistory 2: 10-20</th>\n",
       "      <td>29337</td>\n",
       "      <td>9682</td>\n",
       "    </tr>\n",
       "    <tr>\n",
       "      <th>CrHistory 3: &gt;=20</th>\n",
       "      <td>16097</td>\n",
       "      <td>4794</td>\n",
       "    </tr>\n",
       "  </tbody>\n",
       "</table>\n",
       "</div>"
      ],
      "text/plain": [
       "default                       0     1\n",
       "Years of Credit History2             \n",
       "CrHistory 1: <10           4563  1726\n",
       "CrHistory 2: 10-20        29337  9682\n",
       "CrHistory 3: >=20         16097  4794"
      ]
     },
     "execution_count": 39,
     "metadata": {},
     "output_type": "execute_result"
    },
    {
     "data": {
      "application/javascript": [
       "\n",
       "            setTimeout(function() {\n",
       "                var nbb_cell_id = 39;\n",
       "                var nbb_unformatted_code = \"pd.crosstab(data_dropna[\\\"Years of Credit History2\\\"], data_dropna[\\\"default\\\"])\";\n",
       "                var nbb_formatted_code = \"pd.crosstab(data_dropna[\\\"Years of Credit History2\\\"], data_dropna[\\\"default\\\"])\";\n",
       "                var nbb_cells = Jupyter.notebook.get_cells();\n",
       "                for (var i = 0; i < nbb_cells.length; ++i) {\n",
       "                    if (nbb_cells[i].input_prompt_number == nbb_cell_id) {\n",
       "                        if (nbb_cells[i].get_text() == nbb_unformatted_code) {\n",
       "                             nbb_cells[i].set_text(nbb_formatted_code);\n",
       "                        }\n",
       "                        break;\n",
       "                    }\n",
       "                }\n",
       "            }, 500);\n",
       "            "
      ],
      "text/plain": [
       "<IPython.core.display.Javascript object>"
      ]
     },
     "metadata": {},
     "output_type": "display_data"
    }
   ],
   "source": [
    "pd.crosstab(data_dropna[\"Years of Credit History2\"], data_dropna[\"default\"])"
   ]
  },
  {
   "cell_type": "code",
   "execution_count": 40,
   "metadata": {},
   "outputs": [
    {
     "data": {
      "text/html": [
       "<div>\n",
       "<style scoped>\n",
       "    .dataframe tbody tr th:only-of-type {\n",
       "        vertical-align: middle;\n",
       "    }\n",
       "\n",
       "    .dataframe tbody tr th {\n",
       "        vertical-align: top;\n",
       "    }\n",
       "\n",
       "    .dataframe thead th {\n",
       "        text-align: right;\n",
       "    }\n",
       "</style>\n",
       "<table border=\"1\" class=\"dataframe\">\n",
       "  <thead>\n",
       "    <tr style=\"text-align: right;\">\n",
       "      <th>default</th>\n",
       "      <th>0</th>\n",
       "      <th>1</th>\n",
       "    </tr>\n",
       "    <tr>\n",
       "      <th>Years of Credit History2</th>\n",
       "      <th></th>\n",
       "      <th></th>\n",
       "    </tr>\n",
       "  </thead>\n",
       "  <tbody>\n",
       "    <tr>\n",
       "      <th>CrHistory 1: &lt;10</th>\n",
       "      <td>0.725553</td>\n",
       "      <td>0.274447</td>\n",
       "    </tr>\n",
       "    <tr>\n",
       "      <th>CrHistory 2: 10-20</th>\n",
       "      <td>0.751864</td>\n",
       "      <td>0.248136</td>\n",
       "    </tr>\n",
       "    <tr>\n",
       "      <th>CrHistory 3: &gt;=20</th>\n",
       "      <td>0.770523</td>\n",
       "      <td>0.229477</td>\n",
       "    </tr>\n",
       "  </tbody>\n",
       "</table>\n",
       "</div>"
      ],
      "text/plain": [
       "default                          0         1\n",
       "Years of Credit History2                    \n",
       "CrHistory 1: <10          0.725553  0.274447\n",
       "CrHistory 2: 10-20        0.751864  0.248136\n",
       "CrHistory 3: >=20         0.770523  0.229477"
      ]
     },
     "execution_count": 40,
     "metadata": {},
     "output_type": "execute_result"
    },
    {
     "data": {
      "application/javascript": [
       "\n",
       "            setTimeout(function() {\n",
       "                var nbb_cell_id = 40;\n",
       "                var nbb_unformatted_code = \"pd.crosstab(data_dropna[\\\"Years of Credit History2\\\"], data_dropna[\\\"default\\\"]).apply(\\n    lambda r: r / r.sum(), axis=1\\n)\";\n",
       "                var nbb_formatted_code = \"pd.crosstab(data_dropna[\\\"Years of Credit History2\\\"], data_dropna[\\\"default\\\"]).apply(\\n    lambda r: r / r.sum(), axis=1\\n)\";\n",
       "                var nbb_cells = Jupyter.notebook.get_cells();\n",
       "                for (var i = 0; i < nbb_cells.length; ++i) {\n",
       "                    if (nbb_cells[i].input_prompt_number == nbb_cell_id) {\n",
       "                        if (nbb_cells[i].get_text() == nbb_unformatted_code) {\n",
       "                             nbb_cells[i].set_text(nbb_formatted_code);\n",
       "                        }\n",
       "                        break;\n",
       "                    }\n",
       "                }\n",
       "            }, 500);\n",
       "            "
      ],
      "text/plain": [
       "<IPython.core.display.Javascript object>"
      ]
     },
     "metadata": {},
     "output_type": "display_data"
    }
   ],
   "source": [
    "pd.crosstab(data_dropna[\"Years of Credit History2\"], data_dropna[\"default\"]).apply(\n",
    "    lambda r: r / r.sum(), axis=1\n",
    ")"
   ]
  },
  {
   "cell_type": "code",
   "execution_count": 41,
   "metadata": {},
   "outputs": [
    {
     "data": {
      "text/plain": [
       "Text(0, 0.5, 'Proportion of Defaults')"
      ]
     },
     "execution_count": 41,
     "metadata": {},
     "output_type": "execute_result"
    },
    {
     "data": {
      "image/png": "[encoded data removed]",
      "text/plain": [
       "<Figure size 432x288 with 1 Axes>"
      ]
     },
     "metadata": {
      "needs_background": "light"
     },
     "output_type": "display_data"
    },
    {
     "data": {
      "application/javascript": [
       "\n",
       "            setTimeout(function() {\n",
       "                var nbb_cell_id = 41;\n",
       "                var nbb_unformatted_code = \"%matplotlib inline\\ntable = pd.crosstab(data_dropna[\\\"Years of Credit History2\\\"], data_dropna[\\\"default\\\"])\\ntable.div(table.sum(1).astype(float), axis=0).plot(kind=\\\"bar\\\", stacked=True)\\nplt.title(\\\"Stacked Bar Chart of Years of Credit History vs Default\\\")\\nplt.xlabel(\\\"Years of Credit History2\\\")\\nplt.ylabel(\\\"Proportion of Defaults\\\")\";\n",
       "                var nbb_formatted_code = \"%matplotlib inline\\ntable = pd.crosstab(data_dropna[\\\"Years of Credit History2\\\"], data_dropna[\\\"default\\\"])\\ntable.div(table.sum(1).astype(float), axis=0).plot(kind=\\\"bar\\\", stacked=True)\\nplt.title(\\\"Stacked Bar Chart of Years of Credit History vs Default\\\")\\nplt.xlabel(\\\"Years of Credit History2\\\")\\nplt.ylabel(\\\"Proportion of Defaults\\\")\";\n",
       "                var nbb_cells = Jupyter.notebook.get_cells();\n",
       "                for (var i = 0; i < nbb_cells.length; ++i) {\n",
       "                    if (nbb_cells[i].input_prompt_number == nbb_cell_id) {\n",
       "                        if (nbb_cells[i].get_text() == nbb_unformatted_code) {\n",
       "                             nbb_cells[i].set_text(nbb_formatted_code);\n",
       "                        }\n",
       "                        break;\n",
       "                    }\n",
       "                }\n",
       "            }, 500);\n",
       "            "
      ],
      "text/plain": [
       "<IPython.core.display.Javascript object>"
      ]
     },
     "metadata": {},
     "output_type": "display_data"
    }
   ],
   "source": [
    "%matplotlib inline\n",
    "table = pd.crosstab(data_dropna[\"Years of Credit History2\"], data_dropna[\"default\"])\n",
    "table.div(table.sum(1).astype(float), axis=0).plot(kind=\"bar\", stacked=True)\n",
    "plt.title(\"Stacked Bar Chart of Years of Credit History vs Default\")\n",
    "plt.xlabel(\"Years of Credit History2\")\n",
    "plt.ylabel(\"Proportion of Defaults\")"
   ]
  },
  {
   "cell_type": "markdown",
   "metadata": {},
   "source": [
    "#### Number of credit problems - Tried different versions of bucketing, but it does not show good discriminatory power"
   ]
  },
  {
   "cell_type": "code",
   "execution_count": 42,
   "metadata": {},
   "outputs": [
    {
     "data": {
      "image/png": "[encoded data removed]",
      "text/plain": [
       "<Figure size 432x288 with 1 Axes>"
      ]
     },
     "metadata": {
      "needs_background": "light"
     },
     "output_type": "display_data"
    },
    {
     "data": {
      "application/javascript": [
       "\n",
       "            setTimeout(function() {\n",
       "                var nbb_cell_id = 42;\n",
       "                var nbb_unformatted_code = \"plt.hist(data_dropna[\\\"Number of Credit Problems\\\"], bins=5)\\nplt.show()\";\n",
       "                var nbb_formatted_code = \"plt.hist(data_dropna[\\\"Number of Credit Problems\\\"], bins=5)\\nplt.show()\";\n",
       "                var nbb_cells = Jupyter.notebook.get_cells();\n",
       "                for (var i = 0; i < nbb_cells.length; ++i) {\n",
       "                    if (nbb_cells[i].input_prompt_number == nbb_cell_id) {\n",
       "                        if (nbb_cells[i].get_text() == nbb_unformatted_code) {\n",
       "                             nbb_cells[i].set_text(nbb_formatted_code);\n",
       "                        }\n",
       "                        break;\n",
       "                    }\n",
       "                }\n",
       "            }, 500);\n",
       "            "
      ],
      "text/plain": [
       "<IPython.core.display.Javascript object>"
      ]
     },
     "metadata": {},
     "output_type": "display_data"
    }
   ],
   "source": [
    "plt.hist(data_dropna[\"Number of Credit Problems\"], bins=5)\n",
    "plt.show()"
   ]
  },
  {
   "cell_type": "code",
   "execution_count": 43,
   "metadata": {},
   "outputs": [
    {
     "data": {
      "application/javascript": [
       "\n",
       "            setTimeout(function() {\n",
       "                var nbb_cell_id = 43;\n",
       "                var nbb_unformatted_code = \"data_dropna[\\\"Number of Credit Problems2\\\"] = data_dropna[\\n    \\\"Number of Credit Problems\\\"\\n].apply(lambda x: \\\"CrProblems 1: 0\\\" if x == 0 else (\\\"CrProblems 2: >0\\\"))\";\n",
       "                var nbb_formatted_code = \"data_dropna[\\\"Number of Credit Problems2\\\"] = data_dropna[\\n    \\\"Number of Credit Problems\\\"\\n].apply(lambda x: \\\"CrProblems 1: 0\\\" if x == 0 else (\\\"CrProblems 2: >0\\\"))\";\n",
       "                var nbb_cells = Jupyter.notebook.get_cells();\n",
       "                for (var i = 0; i < nbb_cells.length; ++i) {\n",
       "                    if (nbb_cells[i].input_prompt_number == nbb_cell_id) {\n",
       "                        if (nbb_cells[i].get_text() == nbb_unformatted_code) {\n",
       "                             nbb_cells[i].set_text(nbb_formatted_code);\n",
       "                        }\n",
       "                        break;\n",
       "                    }\n",
       "                }\n",
       "            }, 500);\n",
       "            "
      ],
      "text/plain": [
       "<IPython.core.display.Javascript object>"
      ]
     },
     "metadata": {},
     "output_type": "display_data"
    }
   ],
   "source": [
    "data_dropna[\"Number of Credit Problems2\"] = data_dropna[\n",
    "    \"Number of Credit Problems\"\n",
    "].apply(lambda x: \"CrProblems 1: 0\" if x == 0 else (\"CrProblems 2: >0\"))"
   ]
  },
  {
   "cell_type": "code",
   "execution_count": 44,
   "metadata": {},
   "outputs": [
    {
     "data": {
      "text/html": [
       "<div>\n",
       "<style scoped>\n",
       "    .dataframe tbody tr th:only-of-type {\n",
       "        vertical-align: middle;\n",
       "    }\n",
       "\n",
       "    .dataframe tbody tr th {\n",
       "        vertical-align: top;\n",
       "    }\n",
       "\n",
       "    .dataframe thead th {\n",
       "        text-align: right;\n",
       "    }\n",
       "</style>\n",
       "<table border=\"1\" class=\"dataframe\">\n",
       "  <thead>\n",
       "    <tr style=\"text-align: right;\">\n",
       "      <th>default</th>\n",
       "      <th>0</th>\n",
       "      <th>1</th>\n",
       "    </tr>\n",
       "    <tr>\n",
       "      <th>Number of Credit Problems2</th>\n",
       "      <th></th>\n",
       "      <th></th>\n",
       "    </tr>\n",
       "  </thead>\n",
       "  <tbody>\n",
       "    <tr>\n",
       "      <th>CrProblems 1: 0</th>\n",
       "      <td>43068</td>\n",
       "      <td>14050</td>\n",
       "    </tr>\n",
       "    <tr>\n",
       "      <th>CrProblems 2: &gt;0</th>\n",
       "      <td>6929</td>\n",
       "      <td>2152</td>\n",
       "    </tr>\n",
       "  </tbody>\n",
       "</table>\n",
       "</div>"
      ],
      "text/plain": [
       "default                         0      1\n",
       "Number of Credit Problems2              \n",
       "CrProblems 1: 0             43068  14050\n",
       "CrProblems 2: >0             6929   2152"
      ]
     },
     "execution_count": 44,
     "metadata": {},
     "output_type": "execute_result"
    },
    {
     "data": {
      "application/javascript": [
       "\n",
       "            setTimeout(function() {\n",
       "                var nbb_cell_id = 44;\n",
       "                var nbb_unformatted_code = \"pd.crosstab(data_dropna[\\\"Number of Credit Problems2\\\"], data_dropna[\\\"default\\\"])\";\n",
       "                var nbb_formatted_code = \"pd.crosstab(data_dropna[\\\"Number of Credit Problems2\\\"], data_dropna[\\\"default\\\"])\";\n",
       "                var nbb_cells = Jupyter.notebook.get_cells();\n",
       "                for (var i = 0; i < nbb_cells.length; ++i) {\n",
       "                    if (nbb_cells[i].input_prompt_number == nbb_cell_id) {\n",
       "                        if (nbb_cells[i].get_text() == nbb_unformatted_code) {\n",
       "                             nbb_cells[i].set_text(nbb_formatted_code);\n",
       "                        }\n",
       "                        break;\n",
       "                    }\n",
       "                }\n",
       "            }, 500);\n",
       "            "
      ],
      "text/plain": [
       "<IPython.core.display.Javascript object>"
      ]
     },
     "metadata": {},
     "output_type": "display_data"
    }
   ],
   "source": [
    "pd.crosstab(data_dropna[\"Number of Credit Problems2\"], data_dropna[\"default\"])"
   ]
  },
  {
   "cell_type": "code",
   "execution_count": 45,
   "metadata": {},
   "outputs": [
    {
     "data": {
      "text/html": [
       "<div>\n",
       "<style scoped>\n",
       "    .dataframe tbody tr th:only-of-type {\n",
       "        vertical-align: middle;\n",
       "    }\n",
       "\n",
       "    .dataframe tbody tr th {\n",
       "        vertical-align: top;\n",
       "    }\n",
       "\n",
       "    .dataframe thead th {\n",
       "        text-align: right;\n",
       "    }\n",
       "</style>\n",
       "<table border=\"1\" class=\"dataframe\">\n",
       "  <thead>\n",
       "    <tr style=\"text-align: right;\">\n",
       "      <th>default</th>\n",
       "      <th>0</th>\n",
       "      <th>1</th>\n",
       "    </tr>\n",
       "    <tr>\n",
       "      <th>Number of Credit Problems2</th>\n",
       "      <th></th>\n",
       "      <th></th>\n",
       "    </tr>\n",
       "  </thead>\n",
       "  <tbody>\n",
       "    <tr>\n",
       "      <th>CrProblems 1: 0</th>\n",
       "      <td>0.754018</td>\n",
       "      <td>0.245982</td>\n",
       "    </tr>\n",
       "    <tr>\n",
       "      <th>CrProblems 2: &gt;0</th>\n",
       "      <td>0.763022</td>\n",
       "      <td>0.236978</td>\n",
       "    </tr>\n",
       "  </tbody>\n",
       "</table>\n",
       "</div>"
      ],
      "text/plain": [
       "default                            0         1\n",
       "Number of Credit Problems2                    \n",
       "CrProblems 1: 0             0.754018  0.245982\n",
       "CrProblems 2: >0            0.763022  0.236978"
      ]
     },
     "execution_count": 45,
     "metadata": {},
     "output_type": "execute_result"
    },
    {
     "data": {
      "application/javascript": [
       "\n",
       "            setTimeout(function() {\n",
       "                var nbb_cell_id = 45;\n",
       "                var nbb_unformatted_code = \"pd.crosstab(data_dropna[\\\"Number of Credit Problems2\\\"], data_dropna[\\\"default\\\"]).apply(\\n    lambda r: r / r.sum(), axis=1\\n)\";\n",
       "                var nbb_formatted_code = \"pd.crosstab(data_dropna[\\\"Number of Credit Problems2\\\"], data_dropna[\\\"default\\\"]).apply(\\n    lambda r: r / r.sum(), axis=1\\n)\";\n",
       "                var nbb_cells = Jupyter.notebook.get_cells();\n",
       "                for (var i = 0; i < nbb_cells.length; ++i) {\n",
       "                    if (nbb_cells[i].input_prompt_number == nbb_cell_id) {\n",
       "                        if (nbb_cells[i].get_text() == nbb_unformatted_code) {\n",
       "                             nbb_cells[i].set_text(nbb_formatted_code);\n",
       "                        }\n",
       "                        break;\n",
       "                    }\n",
       "                }\n",
       "            }, 500);\n",
       "            "
      ],
      "text/plain": [
       "<IPython.core.display.Javascript object>"
      ]
     },
     "metadata": {},
     "output_type": "display_data"
    }
   ],
   "source": [
    "pd.crosstab(data_dropna[\"Number of Credit Problems2\"], data_dropna[\"default\"]).apply(\n",
    "    lambda r: r / r.sum(), axis=1\n",
    ")"
   ]
  },
  {
   "cell_type": "code",
   "execution_count": 46,
   "metadata": {},
   "outputs": [
    {
     "data": {
      "text/plain": [
       "Text(0, 0.5, 'Proportion of Defaults')"
      ]
     },
     "execution_count": 46,
     "metadata": {},
     "output_type": "execute_result"
    },
    {
     "data": {
      "image/png": "[encoded data removed]",
      "text/plain": [
       "<Figure size 432x288 with 1 Axes>"
      ]
     },
     "metadata": {
      "needs_background": "light"
     },
     "output_type": "display_data"
    },
    {
     "data": {
      "application/javascript": [
       "\n",
       "            setTimeout(function() {\n",
       "                var nbb_cell_id = 46;\n",
       "                var nbb_unformatted_code = \"%matplotlib inline\\ntable = pd.crosstab(data_dropna[\\\"Number of Credit Problems2\\\"], data_dropna[\\\"default\\\"])\\ntable.div(table.sum(1).astype(float), axis=0).plot(kind=\\\"bar\\\", stacked=True)\\nplt.title(\\\"Stacked Bar Chart of Number of Credit Problems vs Default\\\")\\nplt.xlabel(\\\"Number of Credit Problems\\\")\\nplt.ylabel(\\\"Proportion of Defaults\\\")\";\n",
       "                var nbb_formatted_code = \"%matplotlib inline\\ntable = pd.crosstab(data_dropna[\\\"Number of Credit Problems2\\\"], data_dropna[\\\"default\\\"])\\ntable.div(table.sum(1).astype(float), axis=0).plot(kind=\\\"bar\\\", stacked=True)\\nplt.title(\\\"Stacked Bar Chart of Number of Credit Problems vs Default\\\")\\nplt.xlabel(\\\"Number of Credit Problems\\\")\\nplt.ylabel(\\\"Proportion of Defaults\\\")\";\n",
       "                var nbb_cells = Jupyter.notebook.get_cells();\n",
       "                for (var i = 0; i < nbb_cells.length; ++i) {\n",
       "                    if (nbb_cells[i].input_prompt_number == nbb_cell_id) {\n",
       "                        if (nbb_cells[i].get_text() == nbb_unformatted_code) {\n",
       "                             nbb_cells[i].set_text(nbb_formatted_code);\n",
       "                        }\n",
       "                        break;\n",
       "                    }\n",
       "                }\n",
       "            }, 500);\n",
       "            "
      ],
      "text/plain": [
       "<IPython.core.display.Javascript object>"
      ]
     },
     "metadata": {},
     "output_type": "display_data"
    }
   ],
   "source": [
    "%matplotlib inline\n",
    "table = pd.crosstab(data_dropna[\"Number of Credit Problems2\"], data_dropna[\"default\"])\n",
    "table.div(table.sum(1).astype(float), axis=0).plot(kind=\"bar\", stacked=True)\n",
    "plt.title(\"Stacked Bar Chart of Number of Credit Problems vs Default\")\n",
    "plt.xlabel(\"Number of Credit Problems\")\n",
    "plt.ylabel(\"Proportion of Defaults\")"
   ]
  },
  {
   "cell_type": "markdown",
   "metadata": {},
   "source": [
    "#### Number of open accounts - Tried different versions of bucketing, but it does not show good discriminatory power"
   ]
  },
  {
   "cell_type": "code",
   "execution_count": 47,
   "metadata": {},
   "outputs": [
    {
     "data": {
      "image/png": "[encoded data removed]",
      "text/plain": [
       "<Figure size 432x288 with 1 Axes>"
      ]
     },
     "metadata": {
      "needs_background": "light"
     },
     "output_type": "display_data"
    },
    {
     "data": {
      "application/javascript": [
       "\n",
       "            setTimeout(function() {\n",
       "                var nbb_cell_id = 47;\n",
       "                var nbb_unformatted_code = \"plt.hist(data_dropna[\\\"Number of Open Accounts\\\"], bins=5)\\nplt.show()\";\n",
       "                var nbb_formatted_code = \"plt.hist(data_dropna[\\\"Number of Open Accounts\\\"], bins=5)\\nplt.show()\";\n",
       "                var nbb_cells = Jupyter.notebook.get_cells();\n",
       "                for (var i = 0; i < nbb_cells.length; ++i) {\n",
       "                    if (nbb_cells[i].input_prompt_number == nbb_cell_id) {\n",
       "                        if (nbb_cells[i].get_text() == nbb_unformatted_code) {\n",
       "                             nbb_cells[i].set_text(nbb_formatted_code);\n",
       "                        }\n",
       "                        break;\n",
       "                    }\n",
       "                }\n",
       "            }, 500);\n",
       "            "
      ],
      "text/plain": [
       "<IPython.core.display.Javascript object>"
      ]
     },
     "metadata": {},
     "output_type": "display_data"
    }
   ],
   "source": [
    "plt.hist(data_dropna[\"Number of Open Accounts\"], bins=5)\n",
    "plt.show()"
   ]
  },
  {
   "cell_type": "code",
   "execution_count": 48,
   "metadata": {},
   "outputs": [
    {
     "data": {
      "application/javascript": [
       "\n",
       "            setTimeout(function() {\n",
       "                var nbb_cell_id = 48;\n",
       "                var nbb_unformatted_code = \"data_dropna[\\\"Number of Open Accounts2\\\"] = data_dropna[\\\"Number of Open Accounts\\\"].apply(\\n    lambda x: \\\"OpenAcc 1: <10\\\"\\n    if x <= 10\\n    else (\\\"OpenAcc 2: 10-20\\\" if x > 10 and x < 20 else \\\"OpenAcc 3: >=20\\\")\\n)\";\n",
       "                var nbb_formatted_code = \"data_dropna[\\\"Number of Open Accounts2\\\"] = data_dropna[\\\"Number of Open Accounts\\\"].apply(\\n    lambda x: \\\"OpenAcc 1: <10\\\"\\n    if x <= 10\\n    else (\\\"OpenAcc 2: 10-20\\\" if x > 10 and x < 20 else \\\"OpenAcc 3: >=20\\\")\\n)\";\n",
       "                var nbb_cells = Jupyter.notebook.get_cells();\n",
       "                for (var i = 0; i < nbb_cells.length; ++i) {\n",
       "                    if (nbb_cells[i].input_prompt_number == nbb_cell_id) {\n",
       "                        if (nbb_cells[i].get_text() == nbb_unformatted_code) {\n",
       "                             nbb_cells[i].set_text(nbb_formatted_code);\n",
       "                        }\n",
       "                        break;\n",
       "                    }\n",
       "                }\n",
       "            }, 500);\n",
       "            "
      ],
      "text/plain": [
       "<IPython.core.display.Javascript object>"
      ]
     },
     "metadata": {},
     "output_type": "display_data"
    }
   ],
   "source": [
    "data_dropna[\"Number of Open Accounts2\"] = data_dropna[\"Number of Open Accounts\"].apply(\n",
    "    lambda x: \"OpenAcc 1: <10\"\n",
    "    if x <= 10\n",
    "    else (\"OpenAcc 2: 10-20\" if x > 10 and x < 20 else \"OpenAcc 3: >=20\")\n",
    ")"
   ]
  },
  {
   "cell_type": "code",
   "execution_count": 49,
   "metadata": {},
   "outputs": [
    {
     "data": {
      "text/html": [
       "<div>\n",
       "<style scoped>\n",
       "    .dataframe tbody tr th:only-of-type {\n",
       "        vertical-align: middle;\n",
       "    }\n",
       "\n",
       "    .dataframe tbody tr th {\n",
       "        vertical-align: top;\n",
       "    }\n",
       "\n",
       "    .dataframe thead th {\n",
       "        text-align: right;\n",
       "    }\n",
       "</style>\n",
       "<table border=\"1\" class=\"dataframe\">\n",
       "  <thead>\n",
       "    <tr style=\"text-align: right;\">\n",
       "      <th>default</th>\n",
       "      <th>0</th>\n",
       "      <th>1</th>\n",
       "    </tr>\n",
       "    <tr>\n",
       "      <th>Number of Open Accounts2</th>\n",
       "      <th></th>\n",
       "      <th></th>\n",
       "    </tr>\n",
       "  </thead>\n",
       "  <tbody>\n",
       "    <tr>\n",
       "      <th>OpenAcc 1: &lt;10</th>\n",
       "      <td>25494</td>\n",
       "      <td>8076</td>\n",
       "    </tr>\n",
       "    <tr>\n",
       "      <th>OpenAcc 2: 10-20</th>\n",
       "      <td>21329</td>\n",
       "      <td>7004</td>\n",
       "    </tr>\n",
       "    <tr>\n",
       "      <th>OpenAcc 3: &gt;=20</th>\n",
       "      <td>3174</td>\n",
       "      <td>1122</td>\n",
       "    </tr>\n",
       "  </tbody>\n",
       "</table>\n",
       "</div>"
      ],
      "text/plain": [
       "default                       0     1\n",
       "Number of Open Accounts2             \n",
       "OpenAcc 1: <10            25494  8076\n",
       "OpenAcc 2: 10-20          21329  7004\n",
       "OpenAcc 3: >=20            3174  1122"
      ]
     },
     "execution_count": 49,
     "metadata": {},
     "output_type": "execute_result"
    },
    {
     "data": {
      "application/javascript": [
       "\n",
       "            setTimeout(function() {\n",
       "                var nbb_cell_id = 49;\n",
       "                var nbb_unformatted_code = \"pd.crosstab(data_dropna[\\\"Number of Open Accounts2\\\"], data_dropna[\\\"default\\\"])\";\n",
       "                var nbb_formatted_code = \"pd.crosstab(data_dropna[\\\"Number of Open Accounts2\\\"], data_dropna[\\\"default\\\"])\";\n",
       "                var nbb_cells = Jupyter.notebook.get_cells();\n",
       "                for (var i = 0; i < nbb_cells.length; ++i) {\n",
       "                    if (nbb_cells[i].input_prompt_number == nbb_cell_id) {\n",
       "                        if (nbb_cells[i].get_text() == nbb_unformatted_code) {\n",
       "                             nbb_cells[i].set_text(nbb_formatted_code);\n",
       "                        }\n",
       "                        break;\n",
       "                    }\n",
       "                }\n",
       "            }, 500);\n",
       "            "
      ],
      "text/plain": [
       "<IPython.core.display.Javascript object>"
      ]
     },
     "metadata": {},
     "output_type": "display_data"
    }
   ],
   "source": [
    "pd.crosstab(data_dropna[\"Number of Open Accounts2\"], data_dropna[\"default\"])"
   ]
  },
  {
   "cell_type": "code",
   "execution_count": 50,
   "metadata": {},
   "outputs": [
    {
     "data": {
      "text/html": [
       "<div>\n",
       "<style scoped>\n",
       "    .dataframe tbody tr th:only-of-type {\n",
       "        vertical-align: middle;\n",
       "    }\n",
       "\n",
       "    .dataframe tbody tr th {\n",
       "        vertical-align: top;\n",
       "    }\n",
       "\n",
       "    .dataframe thead th {\n",
       "        text-align: right;\n",
       "    }\n",
       "</style>\n",
       "<table border=\"1\" class=\"dataframe\">\n",
       "  <thead>\n",
       "    <tr style=\"text-align: right;\">\n",
       "      <th>default</th>\n",
       "      <th>0</th>\n",
       "      <th>1</th>\n",
       "    </tr>\n",
       "    <tr>\n",
       "      <th>Number of Open Accounts2</th>\n",
       "      <th></th>\n",
       "      <th></th>\n",
       "    </tr>\n",
       "  </thead>\n",
       "  <tbody>\n",
       "    <tr>\n",
       "      <th>OpenAcc 1: &lt;10</th>\n",
       "      <td>0.759428</td>\n",
       "      <td>0.240572</td>\n",
       "    </tr>\n",
       "    <tr>\n",
       "      <th>OpenAcc 2: 10-20</th>\n",
       "      <td>0.752797</td>\n",
       "      <td>0.247203</td>\n",
       "    </tr>\n",
       "    <tr>\n",
       "      <th>OpenAcc 3: &gt;=20</th>\n",
       "      <td>0.738827</td>\n",
       "      <td>0.261173</td>\n",
       "    </tr>\n",
       "  </tbody>\n",
       "</table>\n",
       "</div>"
      ],
      "text/plain": [
       "default                          0         1\n",
       "Number of Open Accounts2                    \n",
       "OpenAcc 1: <10            0.759428  0.240572\n",
       "OpenAcc 2: 10-20          0.752797  0.247203\n",
       "OpenAcc 3: >=20           0.738827  0.261173"
      ]
     },
     "execution_count": 50,
     "metadata": {},
     "output_type": "execute_result"
    },
    {
     "data": {
      "application/javascript": [
       "\n",
       "            setTimeout(function() {\n",
       "                var nbb_cell_id = 50;\n",
       "                var nbb_unformatted_code = \"pd.crosstab(data_dropna[\\\"Number of Open Accounts2\\\"], data_dropna[\\\"default\\\"]).apply(\\n    lambda r: r / r.sum(), axis=1\\n)\";\n",
       "                var nbb_formatted_code = \"pd.crosstab(data_dropna[\\\"Number of Open Accounts2\\\"], data_dropna[\\\"default\\\"]).apply(\\n    lambda r: r / r.sum(), axis=1\\n)\";\n",
       "                var nbb_cells = Jupyter.notebook.get_cells();\n",
       "                for (var i = 0; i < nbb_cells.length; ++i) {\n",
       "                    if (nbb_cells[i].input_prompt_number == nbb_cell_id) {\n",
       "                        if (nbb_cells[i].get_text() == nbb_unformatted_code) {\n",
       "                             nbb_cells[i].set_text(nbb_formatted_code);\n",
       "                        }\n",
       "                        break;\n",
       "                    }\n",
       "                }\n",
       "            }, 500);\n",
       "            "
      ],
      "text/plain": [
       "<IPython.core.display.Javascript object>"
      ]
     },
     "metadata": {},
     "output_type": "display_data"
    }
   ],
   "source": [
    "pd.crosstab(data_dropna[\"Number of Open Accounts2\"], data_dropna[\"default\"]).apply(\n",
    "    lambda r: r / r.sum(), axis=1\n",
    ")"
   ]
  },
  {
   "cell_type": "code",
   "execution_count": 51,
   "metadata": {},
   "outputs": [
    {
     "data": {
      "text/plain": [
       "Text(0, 0.5, 'Proportion of Defaults')"
      ]
     },
     "execution_count": 51,
     "metadata": {},
     "output_type": "execute_result"
    },
    {
     "data": {
      "image/png": "[encoded data removed]",
      "text/plain": [
       "<Figure size 432x288 with 1 Axes>"
      ]
     },
     "metadata": {
      "needs_background": "light"
     },
     "output_type": "display_data"
    },
    {
     "data": {
      "application/javascript": [
       "\n",
       "            setTimeout(function() {\n",
       "                var nbb_cell_id = 51;\n",
       "                var nbb_unformatted_code = \"%matplotlib inline\\ntable = pd.crosstab(data_dropna[\\\"Number of Open Accounts2\\\"], data_dropna[\\\"default\\\"])\\ntable.div(table.sum(1).astype(float), axis=0).plot(kind=\\\"bar\\\", stacked=True)\\nplt.title(\\\"Stacked Bar Chart of Number of Open Accounts vs Default\\\")\\nplt.xlabel(\\\"Number of Open Accounts\\\")\\nplt.ylabel(\\\"Proportion of Defaults\\\")\";\n",
       "                var nbb_formatted_code = \"%matplotlib inline\\ntable = pd.crosstab(data_dropna[\\\"Number of Open Accounts2\\\"], data_dropna[\\\"default\\\"])\\ntable.div(table.sum(1).astype(float), axis=0).plot(kind=\\\"bar\\\", stacked=True)\\nplt.title(\\\"Stacked Bar Chart of Number of Open Accounts vs Default\\\")\\nplt.xlabel(\\\"Number of Open Accounts\\\")\\nplt.ylabel(\\\"Proportion of Defaults\\\")\";\n",
       "                var nbb_cells = Jupyter.notebook.get_cells();\n",
       "                for (var i = 0; i < nbb_cells.length; ++i) {\n",
       "                    if (nbb_cells[i].input_prompt_number == nbb_cell_id) {\n",
       "                        if (nbb_cells[i].get_text() == nbb_unformatted_code) {\n",
       "                             nbb_cells[i].set_text(nbb_formatted_code);\n",
       "                        }\n",
       "                        break;\n",
       "                    }\n",
       "                }\n",
       "            }, 500);\n",
       "            "
      ],
      "text/plain": [
       "<IPython.core.display.Javascript object>"
      ]
     },
     "metadata": {},
     "output_type": "display_data"
    }
   ],
   "source": [
    "%matplotlib inline\n",
    "table = pd.crosstab(data_dropna[\"Number of Open Accounts2\"], data_dropna[\"default\"])\n",
    "table.div(table.sum(1).astype(float), axis=0).plot(kind=\"bar\", stacked=True)\n",
    "plt.title(\"Stacked Bar Chart of Number of Open Accounts vs Default\")\n",
    "plt.xlabel(\"Number of Open Accounts\")\n",
    "plt.ylabel(\"Proportion of Defaults\")"
   ]
  },
  {
   "cell_type": "markdown",
   "metadata": {},
   "source": [
    "#### Bankruptcies - Tried different versions of bucketing, but it does not show good discriminatory power"
   ]
  },
  {
   "cell_type": "code",
   "execution_count": 52,
   "metadata": {},
   "outputs": [
    {
     "data": {
      "image/png": "[encoded data removed]",
      "text/plain": [
       "<Figure size 432x288 with 1 Axes>"
      ]
     },
     "metadata": {
      "needs_background": "light"
     },
     "output_type": "display_data"
    },
    {
     "data": {
      "application/javascript": [
       "\n",
       "            setTimeout(function() {\n",
       "                var nbb_cell_id = 52;\n",
       "                var nbb_unformatted_code = \"plt.hist(data_dropna[\\\"Bankruptcies\\\"], bins=5)\\nplt.show()\";\n",
       "                var nbb_formatted_code = \"plt.hist(data_dropna[\\\"Bankruptcies\\\"], bins=5)\\nplt.show()\";\n",
       "                var nbb_cells = Jupyter.notebook.get_cells();\n",
       "                for (var i = 0; i < nbb_cells.length; ++i) {\n",
       "                    if (nbb_cells[i].input_prompt_number == nbb_cell_id) {\n",
       "                        if (nbb_cells[i].get_text() == nbb_unformatted_code) {\n",
       "                             nbb_cells[i].set_text(nbb_formatted_code);\n",
       "                        }\n",
       "                        break;\n",
       "                    }\n",
       "                }\n",
       "            }, 500);\n",
       "            "
      ],
      "text/plain": [
       "<IPython.core.display.Javascript object>"
      ]
     },
     "metadata": {},
     "output_type": "display_data"
    }
   ],
   "source": [
    "plt.hist(data_dropna[\"Bankruptcies\"], bins=5)\n",
    "plt.show()"
   ]
  },
  {
   "cell_type": "code",
   "execution_count": 53,
   "metadata": {},
   "outputs": [
    {
     "data": {
      "application/javascript": [
       "\n",
       "            setTimeout(function() {\n",
       "                var nbb_cell_id = 53;\n",
       "                var nbb_unformatted_code = \"data_dropna[\\\"Bankruptcies2\\\"] = data_dropna[\\\"Bankruptcies\\\"].apply(\\n    lambda x: \\\"Bankruptcies 1: 0\\\" if x == 0 else (\\\"Bankruptcies 2: >0\\\")\\n)\";\n",
       "                var nbb_formatted_code = \"data_dropna[\\\"Bankruptcies2\\\"] = data_dropna[\\\"Bankruptcies\\\"].apply(\\n    lambda x: \\\"Bankruptcies 1: 0\\\" if x == 0 else (\\\"Bankruptcies 2: >0\\\")\\n)\";\n",
       "                var nbb_cells = Jupyter.notebook.get_cells();\n",
       "                for (var i = 0; i < nbb_cells.length; ++i) {\n",
       "                    if (nbb_cells[i].input_prompt_number == nbb_cell_id) {\n",
       "                        if (nbb_cells[i].get_text() == nbb_unformatted_code) {\n",
       "                             nbb_cells[i].set_text(nbb_formatted_code);\n",
       "                        }\n",
       "                        break;\n",
       "                    }\n",
       "                }\n",
       "            }, 500);\n",
       "            "
      ],
      "text/plain": [
       "<IPython.core.display.Javascript object>"
      ]
     },
     "metadata": {},
     "output_type": "display_data"
    }
   ],
   "source": [
    "data_dropna[\"Bankruptcies2\"] = data_dropna[\"Bankruptcies\"].apply(\n",
    "    lambda x: \"Bankruptcies 1: 0\" if x == 0 else (\"Bankruptcies 2: >0\")\n",
    ")"
   ]
  },
  {
   "cell_type": "code",
   "execution_count": 54,
   "metadata": {},
   "outputs": [
    {
     "data": {
      "text/html": [
       "<div>\n",
       "<style scoped>\n",
       "    .dataframe tbody tr th:only-of-type {\n",
       "        vertical-align: middle;\n",
       "    }\n",
       "\n",
       "    .dataframe tbody tr th {\n",
       "        vertical-align: top;\n",
       "    }\n",
       "\n",
       "    .dataframe thead th {\n",
       "        text-align: right;\n",
       "    }\n",
       "</style>\n",
       "<table border=\"1\" class=\"dataframe\">\n",
       "  <thead>\n",
       "    <tr style=\"text-align: right;\">\n",
       "      <th>default</th>\n",
       "      <th>0</th>\n",
       "      <th>1</th>\n",
       "    </tr>\n",
       "    <tr>\n",
       "      <th>Bankruptcies2</th>\n",
       "      <th></th>\n",
       "      <th></th>\n",
       "    </tr>\n",
       "  </thead>\n",
       "  <tbody>\n",
       "    <tr>\n",
       "      <th>Bankruptcies 1: 0</th>\n",
       "      <td>44501</td>\n",
       "      <td>14572</td>\n",
       "    </tr>\n",
       "    <tr>\n",
       "      <th>Bankruptcies 2: &gt;0</th>\n",
       "      <td>5496</td>\n",
       "      <td>1630</td>\n",
       "    </tr>\n",
       "  </tbody>\n",
       "</table>\n",
       "</div>"
      ],
      "text/plain": [
       "default                 0      1\n",
       "Bankruptcies2                   \n",
       "Bankruptcies 1: 0   44501  14572\n",
       "Bankruptcies 2: >0   5496   1630"
      ]
     },
     "execution_count": 54,
     "metadata": {},
     "output_type": "execute_result"
    },
    {
     "data": {
      "application/javascript": [
       "\n",
       "            setTimeout(function() {\n",
       "                var nbb_cell_id = 54;\n",
       "                var nbb_unformatted_code = \"pd.crosstab(data_dropna[\\\"Bankruptcies2\\\"], data_dropna[\\\"default\\\"])\";\n",
       "                var nbb_formatted_code = \"pd.crosstab(data_dropna[\\\"Bankruptcies2\\\"], data_dropna[\\\"default\\\"])\";\n",
       "                var nbb_cells = Jupyter.notebook.get_cells();\n",
       "                for (var i = 0; i < nbb_cells.length; ++i) {\n",
       "                    if (nbb_cells[i].input_prompt_number == nbb_cell_id) {\n",
       "                        if (nbb_cells[i].get_text() == nbb_unformatted_code) {\n",
       "                             nbb_cells[i].set_text(nbb_formatted_code);\n",
       "                        }\n",
       "                        break;\n",
       "                    }\n",
       "                }\n",
       "            }, 500);\n",
       "            "
      ],
      "text/plain": [
       "<IPython.core.display.Javascript object>"
      ]
     },
     "metadata": {},
     "output_type": "display_data"
    }
   ],
   "source": [
    "pd.crosstab(data_dropna[\"Bankruptcies2\"], data_dropna[\"default\"])"
   ]
  },
  {
   "cell_type": "code",
   "execution_count": 55,
   "metadata": {},
   "outputs": [
    {
     "data": {
      "text/html": [
       "<div>\n",
       "<style scoped>\n",
       "    .dataframe tbody tr th:only-of-type {\n",
       "        vertical-align: middle;\n",
       "    }\n",
       "\n",
       "    .dataframe tbody tr th {\n",
       "        vertical-align: top;\n",
       "    }\n",
       "\n",
       "    .dataframe thead th {\n",
       "        text-align: right;\n",
       "    }\n",
       "</style>\n",
       "<table border=\"1\" class=\"dataframe\">\n",
       "  <thead>\n",
       "    <tr style=\"text-align: right;\">\n",
       "      <th>default</th>\n",
       "      <th>0</th>\n",
       "      <th>1</th>\n",
       "    </tr>\n",
       "    <tr>\n",
       "      <th>Bankruptcies2</th>\n",
       "      <th></th>\n",
       "      <th></th>\n",
       "    </tr>\n",
       "  </thead>\n",
       "  <tbody>\n",
       "    <tr>\n",
       "      <th>Bankruptcies 1: 0</th>\n",
       "      <td>0.753322</td>\n",
       "      <td>0.246678</td>\n",
       "    </tr>\n",
       "    <tr>\n",
       "      <th>Bankruptcies 2: &gt;0</th>\n",
       "      <td>0.771260</td>\n",
       "      <td>0.228740</td>\n",
       "    </tr>\n",
       "  </tbody>\n",
       "</table>\n",
       "</div>"
      ],
      "text/plain": [
       "default                    0         1\n",
       "Bankruptcies2                         \n",
       "Bankruptcies 1: 0   0.753322  0.246678\n",
       "Bankruptcies 2: >0  0.771260  0.228740"
      ]
     },
     "execution_count": 55,
     "metadata": {},
     "output_type": "execute_result"
    },
    {
     "data": {
      "application/javascript": [
       "\n",
       "            setTimeout(function() {\n",
       "                var nbb_cell_id = 55;\n",
       "                var nbb_unformatted_code = \"pd.crosstab(data_dropna[\\\"Bankruptcies2\\\"], data_dropna[\\\"default\\\"]).apply(\\n    lambda r: r / r.sum(), axis=1\\n)\";\n",
       "                var nbb_formatted_code = \"pd.crosstab(data_dropna[\\\"Bankruptcies2\\\"], data_dropna[\\\"default\\\"]).apply(\\n    lambda r: r / r.sum(), axis=1\\n)\";\n",
       "                var nbb_cells = Jupyter.notebook.get_cells();\n",
       "                for (var i = 0; i < nbb_cells.length; ++i) {\n",
       "                    if (nbb_cells[i].input_prompt_number == nbb_cell_id) {\n",
       "                        if (nbb_cells[i].get_text() == nbb_unformatted_code) {\n",
       "                             nbb_cells[i].set_text(nbb_formatted_code);\n",
       "                        }\n",
       "                        break;\n",
       "                    }\n",
       "                }\n",
       "            }, 500);\n",
       "            "
      ],
      "text/plain": [
       "<IPython.core.display.Javascript object>"
      ]
     },
     "metadata": {},
     "output_type": "display_data"
    }
   ],
   "source": [
    "pd.crosstab(data_dropna[\"Bankruptcies2\"], data_dropna[\"default\"]).apply(\n",
    "    lambda r: r / r.sum(), axis=1\n",
    ")"
   ]
  },
  {
   "cell_type": "code",
   "execution_count": 56,
   "metadata": {},
   "outputs": [
    {
     "data": {
      "text/plain": [
       "Text(0, 0.5, 'Proportion of Defaults')"
      ]
     },
     "execution_count": 56,
     "metadata": {},
     "output_type": "execute_result"
    },
    {
     "data": {
      "image/png": "[encoded data removed]",
      "text/plain": [
       "<Figure size 432x288 with 1 Axes>"
      ]
     },
     "metadata": {
      "needs_background": "light"
     },
     "output_type": "display_data"
    },
    {
     "data": {
      "application/javascript": [
       "\n",
       "            setTimeout(function() {\n",
       "                var nbb_cell_id = 56;\n",
       "                var nbb_unformatted_code = \"%matplotlib inline\\ntable = pd.crosstab(data_dropna[\\\"Bankruptcies2\\\"], data_dropna[\\\"default\\\"])\\ntable.div(table.sum(1).astype(float), axis=0).plot(kind=\\\"bar\\\", stacked=True)\\nplt.title(\\\"Stacked Bar Chart of Number of Bankruptcies vs Default\\\")\\nplt.xlabel(\\\"Number of Bankruptcies\\\")\\nplt.ylabel(\\\"Proportion of Defaults\\\")\";\n",
       "                var nbb_formatted_code = \"%matplotlib inline\\ntable = pd.crosstab(data_dropna[\\\"Bankruptcies2\\\"], data_dropna[\\\"default\\\"])\\ntable.div(table.sum(1).astype(float), axis=0).plot(kind=\\\"bar\\\", stacked=True)\\nplt.title(\\\"Stacked Bar Chart of Number of Bankruptcies vs Default\\\")\\nplt.xlabel(\\\"Number of Bankruptcies\\\")\\nplt.ylabel(\\\"Proportion of Defaults\\\")\";\n",
       "                var nbb_cells = Jupyter.notebook.get_cells();\n",
       "                for (var i = 0; i < nbb_cells.length; ++i) {\n",
       "                    if (nbb_cells[i].input_prompt_number == nbb_cell_id) {\n",
       "                        if (nbb_cells[i].get_text() == nbb_unformatted_code) {\n",
       "                             nbb_cells[i].set_text(nbb_formatted_code);\n",
       "                        }\n",
       "                        break;\n",
       "                    }\n",
       "                }\n",
       "            }, 500);\n",
       "            "
      ],
      "text/plain": [
       "<IPython.core.display.Javascript object>"
      ]
     },
     "metadata": {},
     "output_type": "display_data"
    }
   ],
   "source": [
    "%matplotlib inline\n",
    "table = pd.crosstab(data_dropna[\"Bankruptcies2\"], data_dropna[\"default\"])\n",
    "table.div(table.sum(1).astype(float), axis=0).plot(kind=\"bar\", stacked=True)\n",
    "plt.title(\"Stacked Bar Chart of Number of Bankruptcies vs Default\")\n",
    "plt.xlabel(\"Number of Bankruptcies\")\n",
    "plt.ylabel(\"Proportion of Defaults\")"
   ]
  },
  {
   "cell_type": "markdown",
   "metadata": {},
   "source": [
    "#### Home Ownership - This Variable does not show reasonable trend as we would expect people with own home to have smallest default rate"
   ]
  },
  {
   "cell_type": "code",
   "execution_count": 57,
   "metadata": {},
   "outputs": [
    {
     "data": {
      "image/png": "[encoded data removed]",
      "text/plain": [
       "<Figure size 432x288 with 1 Axes>"
      ]
     },
     "metadata": {
      "needs_background": "light"
     },
     "output_type": "display_data"
    },
    {
     "data": {
      "application/javascript": [
       "\n",
       "            setTimeout(function() {\n",
       "                var nbb_cell_id = 57;\n",
       "                var nbb_unformatted_code = \"plt.hist(data_dropna[\\\"Home Ownership\\\"], bins=5)\\nplt.show()\";\n",
       "                var nbb_formatted_code = \"plt.hist(data_dropna[\\\"Home Ownership\\\"], bins=5)\\nplt.show()\";\n",
       "                var nbb_cells = Jupyter.notebook.get_cells();\n",
       "                for (var i = 0; i < nbb_cells.length; ++i) {\n",
       "                    if (nbb_cells[i].input_prompt_number == nbb_cell_id) {\n",
       "                        if (nbb_cells[i].get_text() == nbb_unformatted_code) {\n",
       "                             nbb_cells[i].set_text(nbb_formatted_code);\n",
       "                        }\n",
       "                        break;\n",
       "                    }\n",
       "                }\n",
       "            }, 500);\n",
       "            "
      ],
      "text/plain": [
       "<IPython.core.display.Javascript object>"
      ]
     },
     "metadata": {},
     "output_type": "display_data"
    }
   ],
   "source": [
    "plt.hist(data_dropna[\"Home Ownership\"], bins=5)\n",
    "plt.show()"
   ]
  },
  {
   "cell_type": "code",
   "execution_count": 58,
   "metadata": {},
   "outputs": [
    {
     "data": {
      "application/javascript": [
       "\n",
       "            setTimeout(function() {\n",
       "                var nbb_cell_id = 58;\n",
       "                var nbb_unformatted_code = \"data_dropna[\\\"Home Ownership2\\\"] = data_dropna[\\\"Home Ownership\\\"].apply(\\n    lambda x: \\\"HO 1: Own Home\\\"\\n    if x == \\\"Own Home\\\"\\n    else (\\\"HO 2: Rent\\\" if x == \\\"Rent\\\" else \\\"HO 3: Mortgage\\\")\\n)\";\n",
       "                var nbb_formatted_code = \"data_dropna[\\\"Home Ownership2\\\"] = data_dropna[\\\"Home Ownership\\\"].apply(\\n    lambda x: \\\"HO 1: Own Home\\\"\\n    if x == \\\"Own Home\\\"\\n    else (\\\"HO 2: Rent\\\" if x == \\\"Rent\\\" else \\\"HO 3: Mortgage\\\")\\n)\";\n",
       "                var nbb_cells = Jupyter.notebook.get_cells();\n",
       "                for (var i = 0; i < nbb_cells.length; ++i) {\n",
       "                    if (nbb_cells[i].input_prompt_number == nbb_cell_id) {\n",
       "                        if (nbb_cells[i].get_text() == nbb_unformatted_code) {\n",
       "                             nbb_cells[i].set_text(nbb_formatted_code);\n",
       "                        }\n",
       "                        break;\n",
       "                    }\n",
       "                }\n",
       "            }, 500);\n",
       "            "
      ],
      "text/plain": [
       "<IPython.core.display.Javascript object>"
      ]
     },
     "metadata": {},
     "output_type": "display_data"
    }
   ],
   "source": [
    "data_dropna[\"Home Ownership2\"] = data_dropna[\"Home Ownership\"].apply(\n",
    "    lambda x: \"HO 1: Own Home\"\n",
    "    if x == \"Own Home\"\n",
    "    else (\"HO 2: Rent\" if x == \"Rent\" else \"HO 3: Mortgage\")\n",
    ")"
   ]
  },
  {
   "cell_type": "code",
   "execution_count": 59,
   "metadata": {},
   "outputs": [
    {
     "data": {
      "text/html": [
       "<div>\n",
       "<style scoped>\n",
       "    .dataframe tbody tr th:only-of-type {\n",
       "        vertical-align: middle;\n",
       "    }\n",
       "\n",
       "    .dataframe tbody tr th {\n",
       "        vertical-align: top;\n",
       "    }\n",
       "\n",
       "    .dataframe thead th {\n",
       "        text-align: right;\n",
       "    }\n",
       "</style>\n",
       "<table border=\"1\" class=\"dataframe\">\n",
       "  <thead>\n",
       "    <tr style=\"text-align: right;\">\n",
       "      <th>default</th>\n",
       "      <th>0</th>\n",
       "      <th>1</th>\n",
       "    </tr>\n",
       "    <tr>\n",
       "      <th>Home Ownership2</th>\n",
       "      <th></th>\n",
       "      <th></th>\n",
       "    </tr>\n",
       "  </thead>\n",
       "  <tbody>\n",
       "    <tr>\n",
       "      <th>HO 1: Own Home</th>\n",
       "      <td>4428</td>\n",
       "      <td>1454</td>\n",
       "    </tr>\n",
       "    <tr>\n",
       "      <th>HO 2: Rent</th>\n",
       "      <td>20611</td>\n",
       "      <td>7604</td>\n",
       "    </tr>\n",
       "    <tr>\n",
       "      <th>HO 3: Mortgage</th>\n",
       "      <td>24958</td>\n",
       "      <td>7144</td>\n",
       "    </tr>\n",
       "  </tbody>\n",
       "</table>\n",
       "</div>"
      ],
      "text/plain": [
       "default              0     1\n",
       "Home Ownership2             \n",
       "HO 1: Own Home    4428  1454\n",
       "HO 2: Rent       20611  7604\n",
       "HO 3: Mortgage   24958  7144"
      ]
     },
     "execution_count": 59,
     "metadata": {},
     "output_type": "execute_result"
    },
    {
     "data": {
      "application/javascript": [
       "\n",
       "            setTimeout(function() {\n",
       "                var nbb_cell_id = 59;\n",
       "                var nbb_unformatted_code = \"pd.crosstab(data_dropna[\\\"Home Ownership2\\\"], data_dropna[\\\"default\\\"])\";\n",
       "                var nbb_formatted_code = \"pd.crosstab(data_dropna[\\\"Home Ownership2\\\"], data_dropna[\\\"default\\\"])\";\n",
       "                var nbb_cells = Jupyter.notebook.get_cells();\n",
       "                for (var i = 0; i < nbb_cells.length; ++i) {\n",
       "                    if (nbb_cells[i].input_prompt_number == nbb_cell_id) {\n",
       "                        if (nbb_cells[i].get_text() == nbb_unformatted_code) {\n",
       "                             nbb_cells[i].set_text(nbb_formatted_code);\n",
       "                        }\n",
       "                        break;\n",
       "                    }\n",
       "                }\n",
       "            }, 500);\n",
       "            "
      ],
      "text/plain": [
       "<IPython.core.display.Javascript object>"
      ]
     },
     "metadata": {},
     "output_type": "display_data"
    }
   ],
   "source": [
    "pd.crosstab(data_dropna[\"Home Ownership2\"], data_dropna[\"default\"])"
   ]
  },
  {
   "cell_type": "code",
   "execution_count": 60,
   "metadata": {},
   "outputs": [
    {
     "data": {
      "text/html": [
       "<div>\n",
       "<style scoped>\n",
       "    .dataframe tbody tr th:only-of-type {\n",
       "        vertical-align: middle;\n",
       "    }\n",
       "\n",
       "    .dataframe tbody tr th {\n",
       "        vertical-align: top;\n",
       "    }\n",
       "\n",
       "    .dataframe thead th {\n",
       "        text-align: right;\n",
       "    }\n",
       "</style>\n",
       "<table border=\"1\" class=\"dataframe\">\n",
       "  <thead>\n",
       "    <tr style=\"text-align: right;\">\n",
       "      <th>default</th>\n",
       "      <th>0</th>\n",
       "      <th>1</th>\n",
       "    </tr>\n",
       "    <tr>\n",
       "      <th>Home Ownership2</th>\n",
       "      <th></th>\n",
       "      <th></th>\n",
       "    </tr>\n",
       "  </thead>\n",
       "  <tbody>\n",
       "    <tr>\n",
       "      <th>HO 1: Own Home</th>\n",
       "      <td>0.752805</td>\n",
       "      <td>0.247195</td>\n",
       "    </tr>\n",
       "    <tr>\n",
       "      <th>HO 2: Rent</th>\n",
       "      <td>0.730498</td>\n",
       "      <td>0.269502</td>\n",
       "    </tr>\n",
       "    <tr>\n",
       "      <th>HO 3: Mortgage</th>\n",
       "      <td>0.777459</td>\n",
       "      <td>0.222541</td>\n",
       "    </tr>\n",
       "  </tbody>\n",
       "</table>\n",
       "</div>"
      ],
      "text/plain": [
       "default                 0         1\n",
       "Home Ownership2                    \n",
       "HO 1: Own Home   0.752805  0.247195\n",
       "HO 2: Rent       0.730498  0.269502\n",
       "HO 3: Mortgage   0.777459  0.222541"
      ]
     },
     "execution_count": 60,
     "metadata": {},
     "output_type": "execute_result"
    },
    {
     "data": {
      "application/javascript": [
       "\n",
       "            setTimeout(function() {\n",
       "                var nbb_cell_id = 60;\n",
       "                var nbb_unformatted_code = \"pd.crosstab(data_dropna[\\\"Home Ownership2\\\"], data_dropna[\\\"default\\\"]).apply(\\n    lambda r: r / r.sum(), axis=1\\n)\";\n",
       "                var nbb_formatted_code = \"pd.crosstab(data_dropna[\\\"Home Ownership2\\\"], data_dropna[\\\"default\\\"]).apply(\\n    lambda r: r / r.sum(), axis=1\\n)\";\n",
       "                var nbb_cells = Jupyter.notebook.get_cells();\n",
       "                for (var i = 0; i < nbb_cells.length; ++i) {\n",
       "                    if (nbb_cells[i].input_prompt_number == nbb_cell_id) {\n",
       "                        if (nbb_cells[i].get_text() == nbb_unformatted_code) {\n",
       "                             nbb_cells[i].set_text(nbb_formatted_code);\n",
       "                        }\n",
       "                        break;\n",
       "                    }\n",
       "                }\n",
       "            }, 500);\n",
       "            "
      ],
      "text/plain": [
       "<IPython.core.display.Javascript object>"
      ]
     },
     "metadata": {},
     "output_type": "display_data"
    }
   ],
   "source": [
    "pd.crosstab(data_dropna[\"Home Ownership2\"], data_dropna[\"default\"]).apply(\n",
    "    lambda r: r / r.sum(), axis=1\n",
    ")"
   ]
  },
  {
   "cell_type": "code",
   "execution_count": 61,
   "metadata": {},
   "outputs": [
    {
     "data": {
      "text/plain": [
       "Text(0, 0.5, 'Proportion of Defaults')"
      ]
     },
     "execution_count": 61,
     "metadata": {},
     "output_type": "execute_result"
    },
    {
     "data": {
      "image/png": "[encoded data removed]",
      "text/plain": [
       "<Figure size 432x288 with 1 Axes>"
      ]
     },
     "metadata": {
      "needs_background": "light"
     },
     "output_type": "display_data"
    },
    {
     "data": {
      "application/javascript": [
       "\n",
       "            setTimeout(function() {\n",
       "                var nbb_cell_id = 61;\n",
       "                var nbb_unformatted_code = \"%matplotlib inline\\ntable = pd.crosstab(data_dropna[\\\"Home Ownership2\\\"], data_dropna[\\\"default\\\"])\\ntable.div(table.sum(1).astype(float), axis=0).plot(kind=\\\"bar\\\", stacked=True)\\nplt.title(\\\"Stacked Bar Chart of Home Ownership vs Default\\\")\\nplt.xlabel(\\\"Number of Home Ownership\\\")\\nplt.ylabel(\\\"Proportion of Defaults\\\")\";\n",
       "                var nbb_formatted_code = \"%matplotlib inline\\ntable = pd.crosstab(data_dropna[\\\"Home Ownership2\\\"], data_dropna[\\\"default\\\"])\\ntable.div(table.sum(1).astype(float), axis=0).plot(kind=\\\"bar\\\", stacked=True)\\nplt.title(\\\"Stacked Bar Chart of Home Ownership vs Default\\\")\\nplt.xlabel(\\\"Number of Home Ownership\\\")\\nplt.ylabel(\\\"Proportion of Defaults\\\")\";\n",
       "                var nbb_cells = Jupyter.notebook.get_cells();\n",
       "                for (var i = 0; i < nbb_cells.length; ++i) {\n",
       "                    if (nbb_cells[i].input_prompt_number == nbb_cell_id) {\n",
       "                        if (nbb_cells[i].get_text() == nbb_unformatted_code) {\n",
       "                             nbb_cells[i].set_text(nbb_formatted_code);\n",
       "                        }\n",
       "                        break;\n",
       "                    }\n",
       "                }\n",
       "            }, 500);\n",
       "            "
      ],
      "text/plain": [
       "<IPython.core.display.Javascript object>"
      ]
     },
     "metadata": {},
     "output_type": "display_data"
    }
   ],
   "source": [
    "%matplotlib inline\n",
    "table = pd.crosstab(data_dropna[\"Home Ownership2\"], data_dropna[\"default\"])\n",
    "table.div(table.sum(1).astype(float), axis=0).plot(kind=\"bar\", stacked=True)\n",
    "plt.title(\"Stacked Bar Chart of Home Ownership vs Default\")\n",
    "plt.xlabel(\"Number of Home Ownership\")\n",
    "plt.ylabel(\"Proportion of Defaults\")"
   ]
  },
  {
   "cell_type": "markdown",
   "metadata": {},
   "source": [
    "#### Purpose"
   ]
  },
  {
   "cell_type": "code",
   "execution_count": 62,
   "metadata": {},
   "outputs": [
    {
     "data": {
      "text/html": [
       "<div>\n",
       "<style scoped>\n",
       "    .dataframe tbody tr th:only-of-type {\n",
       "        vertical-align: middle;\n",
       "    }\n",
       "\n",
       "    .dataframe tbody tr th {\n",
       "        vertical-align: top;\n",
       "    }\n",
       "\n",
       "    .dataframe thead th {\n",
       "        text-align: right;\n",
       "    }\n",
       "</style>\n",
       "<table border=\"1\" class=\"dataframe\">\n",
       "  <thead>\n",
       "    <tr style=\"text-align: right;\">\n",
       "      <th>default</th>\n",
       "      <th>0</th>\n",
       "      <th>1</th>\n",
       "    </tr>\n",
       "    <tr>\n",
       "      <th>Purpose</th>\n",
       "      <th></th>\n",
       "      <th></th>\n",
       "    </tr>\n",
       "  </thead>\n",
       "  <tbody>\n",
       "    <tr>\n",
       "      <th>Business Loan</th>\n",
       "      <td>765</td>\n",
       "      <td>352</td>\n",
       "    </tr>\n",
       "    <tr>\n",
       "      <th>Buy House</th>\n",
       "      <td>361</td>\n",
       "      <td>107</td>\n",
       "    </tr>\n",
       "    <tr>\n",
       "      <th>Buy a Car</th>\n",
       "      <td>656</td>\n",
       "      <td>151</td>\n",
       "    </tr>\n",
       "    <tr>\n",
       "      <th>Debt Consolidation</th>\n",
       "      <td>39102</td>\n",
       "      <td>12860</td>\n",
       "    </tr>\n",
       "    <tr>\n",
       "      <th>Educational Expenses</th>\n",
       "      <td>49</td>\n",
       "      <td>9</td>\n",
       "    </tr>\n",
       "    <tr>\n",
       "      <th>Home Improvements</th>\n",
       "      <td>2941</td>\n",
       "      <td>826</td>\n",
       "    </tr>\n",
       "    <tr>\n",
       "      <th>Medical Bills</th>\n",
       "      <td>545</td>\n",
       "      <td>188</td>\n",
       "    </tr>\n",
       "    <tr>\n",
       "      <th>Other</th>\n",
       "      <td>1704</td>\n",
       "      <td>423</td>\n",
       "    </tr>\n",
       "    <tr>\n",
       "      <th>Take a Trip</th>\n",
       "      <td>316</td>\n",
       "      <td>77</td>\n",
       "    </tr>\n",
       "    <tr>\n",
       "      <th>major_purchase</th>\n",
       "      <td>170</td>\n",
       "      <td>56</td>\n",
       "    </tr>\n",
       "    <tr>\n",
       "      <th>moving</th>\n",
       "      <td>65</td>\n",
       "      <td>31</td>\n",
       "    </tr>\n",
       "    <tr>\n",
       "      <th>other</th>\n",
       "      <td>3104</td>\n",
       "      <td>1006</td>\n",
       "    </tr>\n",
       "    <tr>\n",
       "      <th>renewable_energy</th>\n",
       "      <td>6</td>\n",
       "      <td>2</td>\n",
       "    </tr>\n",
       "    <tr>\n",
       "      <th>small_business</th>\n",
       "      <td>115</td>\n",
       "      <td>85</td>\n",
       "    </tr>\n",
       "    <tr>\n",
       "      <th>vacation</th>\n",
       "      <td>46</td>\n",
       "      <td>15</td>\n",
       "    </tr>\n",
       "    <tr>\n",
       "      <th>wedding</th>\n",
       "      <td>52</td>\n",
       "      <td>14</td>\n",
       "    </tr>\n",
       "  </tbody>\n",
       "</table>\n",
       "</div>"
      ],
      "text/plain": [
       "default                   0      1\n",
       "Purpose                           \n",
       "Business Loan           765    352\n",
       "Buy House               361    107\n",
       "Buy a Car               656    151\n",
       "Debt Consolidation    39102  12860\n",
       "Educational Expenses     49      9\n",
       "Home Improvements      2941    826\n",
       "Medical Bills           545    188\n",
       "Other                  1704    423\n",
       "Take a Trip             316     77\n",
       "major_purchase          170     56\n",
       "moving                   65     31\n",
       "other                  3104   1006\n",
       "renewable_energy          6      2\n",
       "small_business          115     85\n",
       "vacation                 46     15\n",
       "wedding                  52     14"
      ]
     },
     "execution_count": 62,
     "metadata": {},
     "output_type": "execute_result"
    },
    {
     "data": {
      "application/javascript": [
       "\n",
       "            setTimeout(function() {\n",
       "                var nbb_cell_id = 62;\n",
       "                var nbb_unformatted_code = \"pd.crosstab(data_dropna[\\\"Purpose\\\"], data_dropna[\\\"default\\\"])\";\n",
       "                var nbb_formatted_code = \"pd.crosstab(data_dropna[\\\"Purpose\\\"], data_dropna[\\\"default\\\"])\";\n",
       "                var nbb_cells = Jupyter.notebook.get_cells();\n",
       "                for (var i = 0; i < nbb_cells.length; ++i) {\n",
       "                    if (nbb_cells[i].input_prompt_number == nbb_cell_id) {\n",
       "                        if (nbb_cells[i].get_text() == nbb_unformatted_code) {\n",
       "                             nbb_cells[i].set_text(nbb_formatted_code);\n",
       "                        }\n",
       "                        break;\n",
       "                    }\n",
       "                }\n",
       "            }, 500);\n",
       "            "
      ],
      "text/plain": [
       "<IPython.core.display.Javascript object>"
      ]
     },
     "metadata": {},
     "output_type": "display_data"
    }
   ],
   "source": [
    "pd.crosstab(data_dropna[\"Purpose\"], data_dropna[\"default\"])"
   ]
  },
  {
   "cell_type": "code",
   "execution_count": 63,
   "metadata": {},
   "outputs": [
    {
     "data": {
      "text/html": [
       "<div>\n",
       "<style scoped>\n",
       "    .dataframe tbody tr th:only-of-type {\n",
       "        vertical-align: middle;\n",
       "    }\n",
       "\n",
       "    .dataframe tbody tr th {\n",
       "        vertical-align: top;\n",
       "    }\n",
       "\n",
       "    .dataframe thead th {\n",
       "        text-align: right;\n",
       "    }\n",
       "</style>\n",
       "<table border=\"1\" class=\"dataframe\">\n",
       "  <thead>\n",
       "    <tr style=\"text-align: right;\">\n",
       "      <th>default</th>\n",
       "      <th>0</th>\n",
       "      <th>1</th>\n",
       "    </tr>\n",
       "    <tr>\n",
       "      <th>Purpose</th>\n",
       "      <th></th>\n",
       "      <th></th>\n",
       "    </tr>\n",
       "  </thead>\n",
       "  <tbody>\n",
       "    <tr>\n",
       "      <th>Business Loan</th>\n",
       "      <td>0.684870</td>\n",
       "      <td>0.315130</td>\n",
       "    </tr>\n",
       "    <tr>\n",
       "      <th>Buy House</th>\n",
       "      <td>0.771368</td>\n",
       "      <td>0.228632</td>\n",
       "    </tr>\n",
       "    <tr>\n",
       "      <th>Buy a Car</th>\n",
       "      <td>0.812887</td>\n",
       "      <td>0.187113</td>\n",
       "    </tr>\n",
       "    <tr>\n",
       "      <th>Debt Consolidation</th>\n",
       "      <td>0.752511</td>\n",
       "      <td>0.247489</td>\n",
       "    </tr>\n",
       "    <tr>\n",
       "      <th>Educational Expenses</th>\n",
       "      <td>0.844828</td>\n",
       "      <td>0.155172</td>\n",
       "    </tr>\n",
       "    <tr>\n",
       "      <th>Home Improvements</th>\n",
       "      <td>0.780727</td>\n",
       "      <td>0.219273</td>\n",
       "    </tr>\n",
       "    <tr>\n",
       "      <th>Medical Bills</th>\n",
       "      <td>0.743520</td>\n",
       "      <td>0.256480</td>\n",
       "    </tr>\n",
       "    <tr>\n",
       "      <th>Other</th>\n",
       "      <td>0.801128</td>\n",
       "      <td>0.198872</td>\n",
       "    </tr>\n",
       "    <tr>\n",
       "      <th>Take a Trip</th>\n",
       "      <td>0.804071</td>\n",
       "      <td>0.195929</td>\n",
       "    </tr>\n",
       "    <tr>\n",
       "      <th>major_purchase</th>\n",
       "      <td>0.752212</td>\n",
       "      <td>0.247788</td>\n",
       "    </tr>\n",
       "    <tr>\n",
       "      <th>moving</th>\n",
       "      <td>0.677083</td>\n",
       "      <td>0.322917</td>\n",
       "    </tr>\n",
       "    <tr>\n",
       "      <th>other</th>\n",
       "      <td>0.755231</td>\n",
       "      <td>0.244769</td>\n",
       "    </tr>\n",
       "    <tr>\n",
       "      <th>renewable_energy</th>\n",
       "      <td>0.750000</td>\n",
       "      <td>0.250000</td>\n",
       "    </tr>\n",
       "    <tr>\n",
       "      <th>small_business</th>\n",
       "      <td>0.575000</td>\n",
       "      <td>0.425000</td>\n",
       "    </tr>\n",
       "    <tr>\n",
       "      <th>vacation</th>\n",
       "      <td>0.754098</td>\n",
       "      <td>0.245902</td>\n",
       "    </tr>\n",
       "    <tr>\n",
       "      <th>wedding</th>\n",
       "      <td>0.787879</td>\n",
       "      <td>0.212121</td>\n",
       "    </tr>\n",
       "  </tbody>\n",
       "</table>\n",
       "</div>"
      ],
      "text/plain": [
       "default                      0         1\n",
       "Purpose                                 \n",
       "Business Loan         0.684870  0.315130\n",
       "Buy House             0.771368  0.228632\n",
       "Buy a Car             0.812887  0.187113\n",
       "Debt Consolidation    0.752511  0.247489\n",
       "Educational Expenses  0.844828  0.155172\n",
       "Home Improvements     0.780727  0.219273\n",
       "Medical Bills         0.743520  0.256480\n",
       "Other                 0.801128  0.198872\n",
       "Take a Trip           0.804071  0.195929\n",
       "major_purchase        0.752212  0.247788\n",
       "moving                0.677083  0.322917\n",
       "other                 0.755231  0.244769\n",
       "renewable_energy      0.750000  0.250000\n",
       "small_business        0.575000  0.425000\n",
       "vacation              0.754098  0.245902\n",
       "wedding               0.787879  0.212121"
      ]
     },
     "execution_count": 63,
     "metadata": {},
     "output_type": "execute_result"
    },
    {
     "data": {
      "application/javascript": [
       "\n",
       "            setTimeout(function() {\n",
       "                var nbb_cell_id = 63;\n",
       "                var nbb_unformatted_code = \"pd.crosstab(data_dropna[\\\"Purpose\\\"], data_dropna[\\\"default\\\"]).apply(\\n    lambda r: r / r.sum(), axis=1\\n)\";\n",
       "                var nbb_formatted_code = \"pd.crosstab(data_dropna[\\\"Purpose\\\"], data_dropna[\\\"default\\\"]).apply(\\n    lambda r: r / r.sum(), axis=1\\n)\";\n",
       "                var nbb_cells = Jupyter.notebook.get_cells();\n",
       "                for (var i = 0; i < nbb_cells.length; ++i) {\n",
       "                    if (nbb_cells[i].input_prompt_number == nbb_cell_id) {\n",
       "                        if (nbb_cells[i].get_text() == nbb_unformatted_code) {\n",
       "                             nbb_cells[i].set_text(nbb_formatted_code);\n",
       "                        }\n",
       "                        break;\n",
       "                    }\n",
       "                }\n",
       "            }, 500);\n",
       "            "
      ],
      "text/plain": [
       "<IPython.core.display.Javascript object>"
      ]
     },
     "metadata": {},
     "output_type": "display_data"
    }
   ],
   "source": [
    "pd.crosstab(data_dropna[\"Purpose\"], data_dropna[\"default\"]).apply(\n",
    "    lambda r: r / r.sum(), axis=1\n",
    ")"
   ]
  },
  {
   "cell_type": "code",
   "execution_count": 64,
   "metadata": {},
   "outputs": [
    {
     "data": {
      "application/javascript": [
       "\n",
       "            setTimeout(function() {\n",
       "                var nbb_cell_id = 64;\n",
       "                var nbb_unformatted_code = \"data_dropna[\\\"Purpose2\\\"] = data_dropna[\\\"Purpose\\\"].apply(\\n    lambda x: \\\"Purpose 1: Vacation\\\"\\n    if (x == \\\"vacation\\\" or x == \\\"Take a Trip\\\")\\n    else (\\n        \\\"Purpose 2: Business\\\"\\n        if (x == \\\"small_business\\\" or x == \\\"Business Loan\\\")\\n        else (\\n            \\\"Purpose 3: Debt Consolidation\\\"\\n            if x == \\\"Debt Consolidation\\\"\\n            else (\\n                \\\"Purpose 4: Home\\\"\\n                if (x == \\\"Buy House\\\" or x == \\\"Home Improvements\\\")\\n                else (\\\"Purpose 5: Car\\\" if (x == \\\"Buy a Car\\\") else \\\"Purpose 6: Other\\\")\\n            )\\n        )\\n    )\\n)\";\n",
       "                var nbb_formatted_code = \"data_dropna[\\\"Purpose2\\\"] = data_dropna[\\\"Purpose\\\"].apply(\\n    lambda x: \\\"Purpose 1: Vacation\\\"\\n    if (x == \\\"vacation\\\" or x == \\\"Take a Trip\\\")\\n    else (\\n        \\\"Purpose 2: Business\\\"\\n        if (x == \\\"small_business\\\" or x == \\\"Business Loan\\\")\\n        else (\\n            \\\"Purpose 3: Debt Consolidation\\\"\\n            if x == \\\"Debt Consolidation\\\"\\n            else (\\n                \\\"Purpose 4: Home\\\"\\n                if (x == \\\"Buy House\\\" or x == \\\"Home Improvements\\\")\\n                else (\\\"Purpose 5: Car\\\" if (x == \\\"Buy a Car\\\") else \\\"Purpose 6: Other\\\")\\n            )\\n        )\\n    )\\n)\";\n",
       "                var nbb_cells = Jupyter.notebook.get_cells();\n",
       "                for (var i = 0; i < nbb_cells.length; ++i) {\n",
       "                    if (nbb_cells[i].input_prompt_number == nbb_cell_id) {\n",
       "                        if (nbb_cells[i].get_text() == nbb_unformatted_code) {\n",
       "                             nbb_cells[i].set_text(nbb_formatted_code);\n",
       "                        }\n",
       "                        break;\n",
       "                    }\n",
       "                }\n",
       "            }, 500);\n",
       "            "
      ],
      "text/plain": [
       "<IPython.core.display.Javascript object>"
      ]
     },
     "metadata": {},
     "output_type": "display_data"
    }
   ],
   "source": [
    "data_dropna[\"Purpose2\"] = data_dropna[\"Purpose\"].apply(\n",
    "    lambda x: \"Purpose 1: Vacation\"\n",
    "    if (x == \"vacation\" or x == \"Take a Trip\")\n",
    "    else (\n",
    "        \"Purpose 2: Business\"\n",
    "        if (x == \"small_business\" or x == \"Business Loan\")\n",
    "        else (\n",
    "            \"Purpose 3: Debt Consolidation\"\n",
    "            if x == \"Debt Consolidation\"\n",
    "            else (\n",
    "                \"Purpose 4: Home\"\n",
    "                if (x == \"Buy House\" or x == \"Home Improvements\")\n",
    "                else (\"Purpose 5: Car\" if (x == \"Buy a Car\") else \"Purpose 6: Other\")\n",
    "            )\n",
    "        )\n",
    "    )\n",
    ")"
   ]
  },
  {
   "cell_type": "code",
   "execution_count": 65,
   "metadata": {},
   "outputs": [
    {
     "data": {
      "text/html": [
       "<div>\n",
       "<style scoped>\n",
       "    .dataframe tbody tr th:only-of-type {\n",
       "        vertical-align: middle;\n",
       "    }\n",
       "\n",
       "    .dataframe tbody tr th {\n",
       "        vertical-align: top;\n",
       "    }\n",
       "\n",
       "    .dataframe thead th {\n",
       "        text-align: right;\n",
       "    }\n",
       "</style>\n",
       "<table border=\"1\" class=\"dataframe\">\n",
       "  <thead>\n",
       "    <tr style=\"text-align: right;\">\n",
       "      <th>default</th>\n",
       "      <th>0</th>\n",
       "      <th>1</th>\n",
       "    </tr>\n",
       "    <tr>\n",
       "      <th>Purpose2</th>\n",
       "      <th></th>\n",
       "      <th></th>\n",
       "    </tr>\n",
       "  </thead>\n",
       "  <tbody>\n",
       "    <tr>\n",
       "      <th>Purpose 1: Vacation</th>\n",
       "      <td>0.797357</td>\n",
       "      <td>0.202643</td>\n",
       "    </tr>\n",
       "    <tr>\n",
       "      <th>Purpose 2: Business</th>\n",
       "      <td>0.668185</td>\n",
       "      <td>0.331815</td>\n",
       "    </tr>\n",
       "    <tr>\n",
       "      <th>Purpose 3: Debt Consolidation</th>\n",
       "      <td>0.752511</td>\n",
       "      <td>0.247489</td>\n",
       "    </tr>\n",
       "    <tr>\n",
       "      <th>Purpose 4: Home</th>\n",
       "      <td>0.779693</td>\n",
       "      <td>0.220307</td>\n",
       "    </tr>\n",
       "    <tr>\n",
       "      <th>Purpose 5: Car</th>\n",
       "      <td>0.812887</td>\n",
       "      <td>0.187113</td>\n",
       "    </tr>\n",
       "    <tr>\n",
       "      <th>Purpose 6: Other</th>\n",
       "      <td>0.767107</td>\n",
       "      <td>0.232893</td>\n",
       "    </tr>\n",
       "  </tbody>\n",
       "</table>\n",
       "</div>"
      ],
      "text/plain": [
       "default                               0         1\n",
       "Purpose2                                         \n",
       "Purpose 1: Vacation            0.797357  0.202643\n",
       "Purpose 2: Business            0.668185  0.331815\n",
       "Purpose 3: Debt Consolidation  0.752511  0.247489\n",
       "Purpose 4: Home                0.779693  0.220307\n",
       "Purpose 5: Car                 0.812887  0.187113\n",
       "Purpose 6: Other               0.767107  0.232893"
      ]
     },
     "execution_count": 65,
     "metadata": {},
     "output_type": "execute_result"
    },
    {
     "data": {
      "application/javascript": [
       "\n",
       "            setTimeout(function() {\n",
       "                var nbb_cell_id = 65;\n",
       "                var nbb_unformatted_code = \"pd.crosstab(data_dropna[\\\"Purpose2\\\"], data_dropna[\\\"default\\\"]).apply(\\n    lambda r: r / r.sum(), axis=1\\n)\";\n",
       "                var nbb_formatted_code = \"pd.crosstab(data_dropna[\\\"Purpose2\\\"], data_dropna[\\\"default\\\"]).apply(\\n    lambda r: r / r.sum(), axis=1\\n)\";\n",
       "                var nbb_cells = Jupyter.notebook.get_cells();\n",
       "                for (var i = 0; i < nbb_cells.length; ++i) {\n",
       "                    if (nbb_cells[i].input_prompt_number == nbb_cell_id) {\n",
       "                        if (nbb_cells[i].get_text() == nbb_unformatted_code) {\n",
       "                             nbb_cells[i].set_text(nbb_formatted_code);\n",
       "                        }\n",
       "                        break;\n",
       "                    }\n",
       "                }\n",
       "            }, 500);\n",
       "            "
      ],
      "text/plain": [
       "<IPython.core.display.Javascript object>"
      ]
     },
     "metadata": {},
     "output_type": "display_data"
    }
   ],
   "source": [
    "pd.crosstab(data_dropna[\"Purpose2\"], data_dropna[\"default\"]).apply(\n",
    "    lambda r: r / r.sum(), axis=1\n",
    ")"
   ]
  },
  {
   "cell_type": "code",
   "execution_count": 66,
   "metadata": {},
   "outputs": [
    {
     "data": {
      "text/plain": [
       "Text(0, 0.5, 'Proportion of Defaults')"
      ]
     },
     "execution_count": 66,
     "metadata": {},
     "output_type": "execute_result"
    },
    {
     "data": {
      "image/png": "[encoded data removed]",
      "text/plain": [
       "<Figure size 432x288 with 1 Axes>"
      ]
     },
     "metadata": {
      "needs_background": "light"
     },
     "output_type": "display_data"
    },
    {
     "data": {
      "application/javascript": [
       "\n",
       "            setTimeout(function() {\n",
       "                var nbb_cell_id = 66;\n",
       "                var nbb_unformatted_code = \"%matplotlib inline\\ntable = pd.crosstab(data_dropna[\\\"Purpose2\\\"], data_dropna[\\\"default\\\"])\\ntable.div(table.sum(1).astype(float), axis=0).plot(kind=\\\"bar\\\", stacked=True)\\nplt.title(\\\"Stacked Bar Chart of Purpose vs Default\\\")\\nplt.xlabel(\\\"Purpose\\\")\\nplt.ylabel(\\\"Proportion of Defaults\\\")\";\n",
       "                var nbb_formatted_code = \"%matplotlib inline\\ntable = pd.crosstab(data_dropna[\\\"Purpose2\\\"], data_dropna[\\\"default\\\"])\\ntable.div(table.sum(1).astype(float), axis=0).plot(kind=\\\"bar\\\", stacked=True)\\nplt.title(\\\"Stacked Bar Chart of Purpose vs Default\\\")\\nplt.xlabel(\\\"Purpose\\\")\\nplt.ylabel(\\\"Proportion of Defaults\\\")\";\n",
       "                var nbb_cells = Jupyter.notebook.get_cells();\n",
       "                for (var i = 0; i < nbb_cells.length; ++i) {\n",
       "                    if (nbb_cells[i].input_prompt_number == nbb_cell_id) {\n",
       "                        if (nbb_cells[i].get_text() == nbb_unformatted_code) {\n",
       "                             nbb_cells[i].set_text(nbb_formatted_code);\n",
       "                        }\n",
       "                        break;\n",
       "                    }\n",
       "                }\n",
       "            }, 500);\n",
       "            "
      ],
      "text/plain": [
       "<IPython.core.display.Javascript object>"
      ]
     },
     "metadata": {},
     "output_type": "display_data"
    }
   ],
   "source": [
    "%matplotlib inline\n",
    "table = pd.crosstab(data_dropna[\"Purpose2\"], data_dropna[\"default\"])\n",
    "table.div(table.sum(1).astype(float), axis=0).plot(kind=\"bar\", stacked=True)\n",
    "plt.title(\"Stacked Bar Chart of Purpose vs Default\")\n",
    "plt.xlabel(\"Purpose\")\n",
    "plt.ylabel(\"Proportion of Defaults\")"
   ]
  },
  {
   "cell_type": "markdown",
   "metadata": {},
   "source": [
    "#### Term"
   ]
  },
  {
   "cell_type": "code",
   "execution_count": 67,
   "metadata": {},
   "outputs": [
    {
     "data": {
      "image/png": "[encoded data removed]",
      "text/plain": [
       "<Figure size 432x288 with 1 Axes>"
      ]
     },
     "metadata": {
      "needs_background": "light"
     },
     "output_type": "display_data"
    },
    {
     "data": {
      "application/javascript": [
       "\n",
       "            setTimeout(function() {\n",
       "                var nbb_cell_id = 67;\n",
       "                var nbb_unformatted_code = \"plt.hist(data_dropna[\\\"Term\\\"], bins=5)\\nplt.show()\";\n",
       "                var nbb_formatted_code = \"plt.hist(data_dropna[\\\"Term\\\"], bins=5)\\nplt.show()\";\n",
       "                var nbb_cells = Jupyter.notebook.get_cells();\n",
       "                for (var i = 0; i < nbb_cells.length; ++i) {\n",
       "                    if (nbb_cells[i].input_prompt_number == nbb_cell_id) {\n",
       "                        if (nbb_cells[i].get_text() == nbb_unformatted_code) {\n",
       "                             nbb_cells[i].set_text(nbb_formatted_code);\n",
       "                        }\n",
       "                        break;\n",
       "                    }\n",
       "                }\n",
       "            }, 500);\n",
       "            "
      ],
      "text/plain": [
       "<IPython.core.display.Javascript object>"
      ]
     },
     "metadata": {},
     "output_type": "display_data"
    }
   ],
   "source": [
    "plt.hist(data_dropna[\"Term\"], bins=5)\n",
    "plt.show()"
   ]
  },
  {
   "cell_type": "code",
   "execution_count": 68,
   "metadata": {},
   "outputs": [
    {
     "data": {
      "text/html": [
       "<div>\n",
       "<style scoped>\n",
       "    .dataframe tbody tr th:only-of-type {\n",
       "        vertical-align: middle;\n",
       "    }\n",
       "\n",
       "    .dataframe tbody tr th {\n",
       "        vertical-align: top;\n",
       "    }\n",
       "\n",
       "    .dataframe thead th {\n",
       "        text-align: right;\n",
       "    }\n",
       "</style>\n",
       "<table border=\"1\" class=\"dataframe\">\n",
       "  <thead>\n",
       "    <tr style=\"text-align: right;\">\n",
       "      <th>default</th>\n",
       "      <th>0</th>\n",
       "      <th>1</th>\n",
       "    </tr>\n",
       "    <tr>\n",
       "      <th>Term</th>\n",
       "      <th></th>\n",
       "      <th></th>\n",
       "    </tr>\n",
       "  </thead>\n",
       "  <tbody>\n",
       "    <tr>\n",
       "      <th>Long Term</th>\n",
       "      <td>14032</td>\n",
       "      <td>6234</td>\n",
       "    </tr>\n",
       "    <tr>\n",
       "      <th>Short Term</th>\n",
       "      <td>35965</td>\n",
       "      <td>9968</td>\n",
       "    </tr>\n",
       "  </tbody>\n",
       "</table>\n",
       "</div>"
      ],
      "text/plain": [
       "default         0     1\n",
       "Term                   \n",
       "Long Term   14032  6234\n",
       "Short Term  35965  9968"
      ]
     },
     "execution_count": 68,
     "metadata": {},
     "output_type": "execute_result"
    },
    {
     "data": {
      "application/javascript": [
       "\n",
       "            setTimeout(function() {\n",
       "                var nbb_cell_id = 68;\n",
       "                var nbb_unformatted_code = \"pd.crosstab(data_dropna[\\\"Term\\\"], data_dropna[\\\"default\\\"])\";\n",
       "                var nbb_formatted_code = \"pd.crosstab(data_dropna[\\\"Term\\\"], data_dropna[\\\"default\\\"])\";\n",
       "                var nbb_cells = Jupyter.notebook.get_cells();\n",
       "                for (var i = 0; i < nbb_cells.length; ++i) {\n",
       "                    if (nbb_cells[i].input_prompt_number == nbb_cell_id) {\n",
       "                        if (nbb_cells[i].get_text() == nbb_unformatted_code) {\n",
       "                             nbb_cells[i].set_text(nbb_formatted_code);\n",
       "                        }\n",
       "                        break;\n",
       "                    }\n",
       "                }\n",
       "            }, 500);\n",
       "            "
      ],
      "text/plain": [
       "<IPython.core.display.Javascript object>"
      ]
     },
     "metadata": {},
     "output_type": "display_data"
    }
   ],
   "source": [
    "pd.crosstab(data_dropna[\"Term\"], data_dropna[\"default\"])"
   ]
  },
  {
   "cell_type": "code",
   "execution_count": 69,
   "metadata": {},
   "outputs": [
    {
     "data": {
      "text/html": [
       "<div>\n",
       "<style scoped>\n",
       "    .dataframe tbody tr th:only-of-type {\n",
       "        vertical-align: middle;\n",
       "    }\n",
       "\n",
       "    .dataframe tbody tr th {\n",
       "        vertical-align: top;\n",
       "    }\n",
       "\n",
       "    .dataframe thead th {\n",
       "        text-align: right;\n",
       "    }\n",
       "</style>\n",
       "<table border=\"1\" class=\"dataframe\">\n",
       "  <thead>\n",
       "    <tr style=\"text-align: right;\">\n",
       "      <th>default</th>\n",
       "      <th>0</th>\n",
       "      <th>1</th>\n",
       "    </tr>\n",
       "    <tr>\n",
       "      <th>Term</th>\n",
       "      <th></th>\n",
       "      <th></th>\n",
       "    </tr>\n",
       "  </thead>\n",
       "  <tbody>\n",
       "    <tr>\n",
       "      <th>Long Term</th>\n",
       "      <td>0.692391</td>\n",
       "      <td>0.307609</td>\n",
       "    </tr>\n",
       "    <tr>\n",
       "      <th>Short Term</th>\n",
       "      <td>0.782988</td>\n",
       "      <td>0.217012</td>\n",
       "    </tr>\n",
       "  </tbody>\n",
       "</table>\n",
       "</div>"
      ],
      "text/plain": [
       "default            0         1\n",
       "Term                          \n",
       "Long Term   0.692391  0.307609\n",
       "Short Term  0.782988  0.217012"
      ]
     },
     "execution_count": 69,
     "metadata": {},
     "output_type": "execute_result"
    },
    {
     "data": {
      "application/javascript": [
       "\n",
       "            setTimeout(function() {\n",
       "                var nbb_cell_id = 69;\n",
       "                var nbb_unformatted_code = \"pd.crosstab(data_dropna[\\\"Term\\\"], data_dropna[\\\"default\\\"]).apply(\\n    lambda r: r / r.sum(), axis=1\\n)\";\n",
       "                var nbb_formatted_code = \"pd.crosstab(data_dropna[\\\"Term\\\"], data_dropna[\\\"default\\\"]).apply(\\n    lambda r: r / r.sum(), axis=1\\n)\";\n",
       "                var nbb_cells = Jupyter.notebook.get_cells();\n",
       "                for (var i = 0; i < nbb_cells.length; ++i) {\n",
       "                    if (nbb_cells[i].input_prompt_number == nbb_cell_id) {\n",
       "                        if (nbb_cells[i].get_text() == nbb_unformatted_code) {\n",
       "                             nbb_cells[i].set_text(nbb_formatted_code);\n",
       "                        }\n",
       "                        break;\n",
       "                    }\n",
       "                }\n",
       "            }, 500);\n",
       "            "
      ],
      "text/plain": [
       "<IPython.core.display.Javascript object>"
      ]
     },
     "metadata": {},
     "output_type": "display_data"
    }
   ],
   "source": [
    "pd.crosstab(data_dropna[\"Term\"], data_dropna[\"default\"]).apply(\n",
    "    lambda r: r / r.sum(), axis=1\n",
    ")"
   ]
  },
  {
   "cell_type": "code",
   "execution_count": 70,
   "metadata": {},
   "outputs": [
    {
     "data": {
      "text/plain": [
       "Text(0, 0.5, 'Proportion of Defaults')"
      ]
     },
     "execution_count": 70,
     "metadata": {},
     "output_type": "execute_result"
    },
    {
     "data": {
      "image/png": "[encoded data removed]",
      "text/plain": [
       "<Figure size 432x288 with 1 Axes>"
      ]
     },
     "metadata": {
      "needs_background": "light"
     },
     "output_type": "display_data"
    },
    {
     "data": {
      "application/javascript": [
       "\n",
       "            setTimeout(function() {\n",
       "                var nbb_cell_id = 70;\n",
       "                var nbb_unformatted_code = \"%matplotlib inline\\ntable = pd.crosstab(data_dropna[\\\"Term\\\"], data_dropna[\\\"default\\\"])\\ntable.div(table.sum(1).astype(float), axis=0).plot(kind=\\\"bar\\\", stacked=True)\\nplt.title(\\\"Stacked Bar Chart of Term vs Default\\\")\\nplt.xlabel(\\\"Term\\\")\\nplt.ylabel(\\\"Proportion of Defaults\\\")\";\n",
       "                var nbb_formatted_code = \"%matplotlib inline\\ntable = pd.crosstab(data_dropna[\\\"Term\\\"], data_dropna[\\\"default\\\"])\\ntable.div(table.sum(1).astype(float), axis=0).plot(kind=\\\"bar\\\", stacked=True)\\nplt.title(\\\"Stacked Bar Chart of Term vs Default\\\")\\nplt.xlabel(\\\"Term\\\")\\nplt.ylabel(\\\"Proportion of Defaults\\\")\";\n",
       "                var nbb_cells = Jupyter.notebook.get_cells();\n",
       "                for (var i = 0; i < nbb_cells.length; ++i) {\n",
       "                    if (nbb_cells[i].input_prompt_number == nbb_cell_id) {\n",
       "                        if (nbb_cells[i].get_text() == nbb_unformatted_code) {\n",
       "                             nbb_cells[i].set_text(nbb_formatted_code);\n",
       "                        }\n",
       "                        break;\n",
       "                    }\n",
       "                }\n",
       "            }, 500);\n",
       "            "
      ],
      "text/plain": [
       "<IPython.core.display.Javascript object>"
      ]
     },
     "metadata": {},
     "output_type": "display_data"
    }
   ],
   "source": [
    "%matplotlib inline\n",
    "table = pd.crosstab(data_dropna[\"Term\"], data_dropna[\"default\"])\n",
    "table.div(table.sum(1).astype(float), axis=0).plot(kind=\"bar\", stacked=True)\n",
    "plt.title(\"Stacked Bar Chart of Term vs Default\")\n",
    "plt.xlabel(\"Term\")\n",
    "plt.ylabel(\"Proportion of Defaults\")"
   ]
  },
  {
   "cell_type": "markdown",
   "metadata": {},
   "source": [
    "#### Tax Liens"
   ]
  },
  {
   "cell_type": "code",
   "execution_count": 71,
   "metadata": {},
   "outputs": [
    {
     "data": {
      "image/png": "[encoded data removed]",
      "text/plain": [
       "<Figure size 432x288 with 1 Axes>"
      ]
     },
     "metadata": {
      "needs_background": "light"
     },
     "output_type": "display_data"
    },
    {
     "data": {
      "application/javascript": [
       "\n",
       "            setTimeout(function() {\n",
       "                var nbb_cell_id = 71;\n",
       "                var nbb_unformatted_code = \"plt.hist(data_dropna[\\\"Tax Liens\\\"], bins=5)\\nplt.show()\";\n",
       "                var nbb_formatted_code = \"plt.hist(data_dropna[\\\"Tax Liens\\\"], bins=5)\\nplt.show()\";\n",
       "                var nbb_cells = Jupyter.notebook.get_cells();\n",
       "                for (var i = 0; i < nbb_cells.length; ++i) {\n",
       "                    if (nbb_cells[i].input_prompt_number == nbb_cell_id) {\n",
       "                        if (nbb_cells[i].get_text() == nbb_unformatted_code) {\n",
       "                             nbb_cells[i].set_text(nbb_formatted_code);\n",
       "                        }\n",
       "                        break;\n",
       "                    }\n",
       "                }\n",
       "            }, 500);\n",
       "            "
      ],
      "text/plain": [
       "<IPython.core.display.Javascript object>"
      ]
     },
     "metadata": {},
     "output_type": "display_data"
    }
   ],
   "source": [
    "plt.hist(data_dropna[\"Tax Liens\"], bins=5)\n",
    "plt.show()"
   ]
  },
  {
   "cell_type": "code",
   "execution_count": 72,
   "metadata": {},
   "outputs": [
    {
     "data": {
      "text/html": [
       "<div>\n",
       "<style scoped>\n",
       "    .dataframe tbody tr th:only-of-type {\n",
       "        vertical-align: middle;\n",
       "    }\n",
       "\n",
       "    .dataframe tbody tr th {\n",
       "        vertical-align: top;\n",
       "    }\n",
       "\n",
       "    .dataframe thead th {\n",
       "        text-align: right;\n",
       "    }\n",
       "</style>\n",
       "<table border=\"1\" class=\"dataframe\">\n",
       "  <thead>\n",
       "    <tr style=\"text-align: right;\">\n",
       "      <th>default</th>\n",
       "      <th>0</th>\n",
       "      <th>1</th>\n",
       "    </tr>\n",
       "    <tr>\n",
       "      <th>Tax Liens</th>\n",
       "      <th></th>\n",
       "      <th></th>\n",
       "    </tr>\n",
       "  </thead>\n",
       "  <tbody>\n",
       "    <tr>\n",
       "      <th>0.0</th>\n",
       "      <td>49060</td>\n",
       "      <td>15866</td>\n",
       "    </tr>\n",
       "    <tr>\n",
       "      <th>1.0</th>\n",
       "      <td>660</td>\n",
       "      <td>220</td>\n",
       "    </tr>\n",
       "    <tr>\n",
       "      <th>2.0</th>\n",
       "      <td>186</td>\n",
       "      <td>67</td>\n",
       "    </tr>\n",
       "    <tr>\n",
       "      <th>3.0</th>\n",
       "      <td>45</td>\n",
       "      <td>23</td>\n",
       "    </tr>\n",
       "    <tr>\n",
       "      <th>4.0</th>\n",
       "      <td>27</td>\n",
       "      <td>14</td>\n",
       "    </tr>\n",
       "    <tr>\n",
       "      <th>5.0</th>\n",
       "      <td>4</td>\n",
       "      <td>6</td>\n",
       "    </tr>\n",
       "    <tr>\n",
       "      <th>6.0</th>\n",
       "      <td>7</td>\n",
       "      <td>2</td>\n",
       "    </tr>\n",
       "    <tr>\n",
       "      <th>7.0</th>\n",
       "      <td>3</td>\n",
       "      <td>3</td>\n",
       "    </tr>\n",
       "    <tr>\n",
       "      <th>9.0</th>\n",
       "      <td>1</td>\n",
       "      <td>1</td>\n",
       "    </tr>\n",
       "    <tr>\n",
       "      <th>10.0</th>\n",
       "      <td>1</td>\n",
       "      <td>0</td>\n",
       "    </tr>\n",
       "    <tr>\n",
       "      <th>11.0</th>\n",
       "      <td>2</td>\n",
       "      <td>0</td>\n",
       "    </tr>\n",
       "    <tr>\n",
       "      <th>15.0</th>\n",
       "      <td>1</td>\n",
       "      <td>0</td>\n",
       "    </tr>\n",
       "  </tbody>\n",
       "</table>\n",
       "</div>"
      ],
      "text/plain": [
       "default        0      1\n",
       "Tax Liens              \n",
       "0.0        49060  15866\n",
       "1.0          660    220\n",
       "2.0          186     67\n",
       "3.0           45     23\n",
       "4.0           27     14\n",
       "5.0            4      6\n",
       "6.0            7      2\n",
       "7.0            3      3\n",
       "9.0            1      1\n",
       "10.0           1      0\n",
       "11.0           2      0\n",
       "15.0           1      0"
      ]
     },
     "execution_count": 72,
     "metadata": {},
     "output_type": "execute_result"
    },
    {
     "data": {
      "application/javascript": [
       "\n",
       "            setTimeout(function() {\n",
       "                var nbb_cell_id = 72;\n",
       "                var nbb_unformatted_code = \"pd.crosstab(data_dropna[\\\"Tax Liens\\\"], data_dropna[\\\"default\\\"])\";\n",
       "                var nbb_formatted_code = \"pd.crosstab(data_dropna[\\\"Tax Liens\\\"], data_dropna[\\\"default\\\"])\";\n",
       "                var nbb_cells = Jupyter.notebook.get_cells();\n",
       "                for (var i = 0; i < nbb_cells.length; ++i) {\n",
       "                    if (nbb_cells[i].input_prompt_number == nbb_cell_id) {\n",
       "                        if (nbb_cells[i].get_text() == nbb_unformatted_code) {\n",
       "                             nbb_cells[i].set_text(nbb_formatted_code);\n",
       "                        }\n",
       "                        break;\n",
       "                    }\n",
       "                }\n",
       "            }, 500);\n",
       "            "
      ],
      "text/plain": [
       "<IPython.core.display.Javascript object>"
      ]
     },
     "metadata": {},
     "output_type": "display_data"
    }
   ],
   "source": [
    "pd.crosstab(data_dropna[\"Tax Liens\"], data_dropna[\"default\"])"
   ]
  },
  {
   "cell_type": "code",
   "execution_count": 73,
   "metadata": {},
   "outputs": [
    {
     "data": {
      "application/javascript": [
       "\n",
       "            setTimeout(function() {\n",
       "                var nbb_cell_id = 73;\n",
       "                var nbb_unformatted_code = \"data_dropna[\\\"Tax Liens2\\\"] = data_dropna[\\\"Tax Liens\\\"].apply(\\n    lambda x: \\\"Tax Liens 1: 0\\\" if x == 0 else \\\"Tax Liens 2: >0\\\"\\n)\";\n",
       "                var nbb_formatted_code = \"data_dropna[\\\"Tax Liens2\\\"] = data_dropna[\\\"Tax Liens\\\"].apply(\\n    lambda x: \\\"Tax Liens 1: 0\\\" if x == 0 else \\\"Tax Liens 2: >0\\\"\\n)\";\n",
       "                var nbb_cells = Jupyter.notebook.get_cells();\n",
       "                for (var i = 0; i < nbb_cells.length; ++i) {\n",
       "                    if (nbb_cells[i].input_prompt_number == nbb_cell_id) {\n",
       "                        if (nbb_cells[i].get_text() == nbb_unformatted_code) {\n",
       "                             nbb_cells[i].set_text(nbb_formatted_code);\n",
       "                        }\n",
       "                        break;\n",
       "                    }\n",
       "                }\n",
       "            }, 500);\n",
       "            "
      ],
      "text/plain": [
       "<IPython.core.display.Javascript object>"
      ]
     },
     "metadata": {},
     "output_type": "display_data"
    }
   ],
   "source": [
    "data_dropna[\"Tax Liens2\"] = data_dropna[\"Tax Liens\"].apply(\n",
    "    lambda x: \"Tax Liens 1: 0\" if x == 0 else \"Tax Liens 2: >0\"\n",
    ")"
   ]
  },
  {
   "cell_type": "code",
   "execution_count": 74,
   "metadata": {},
   "outputs": [
    {
     "data": {
      "text/html": [
       "<div>\n",
       "<style scoped>\n",
       "    .dataframe tbody tr th:only-of-type {\n",
       "        vertical-align: middle;\n",
       "    }\n",
       "\n",
       "    .dataframe tbody tr th {\n",
       "        vertical-align: top;\n",
       "    }\n",
       "\n",
       "    .dataframe thead th {\n",
       "        text-align: right;\n",
       "    }\n",
       "</style>\n",
       "<table border=\"1\" class=\"dataframe\">\n",
       "  <thead>\n",
       "    <tr style=\"text-align: right;\">\n",
       "      <th>default</th>\n",
       "      <th>0</th>\n",
       "      <th>1</th>\n",
       "    </tr>\n",
       "    <tr>\n",
       "      <th>Tax Liens2</th>\n",
       "      <th></th>\n",
       "      <th></th>\n",
       "    </tr>\n",
       "  </thead>\n",
       "  <tbody>\n",
       "    <tr>\n",
       "      <th>Tax Liens 1: 0</th>\n",
       "      <td>49060</td>\n",
       "      <td>15866</td>\n",
       "    </tr>\n",
       "    <tr>\n",
       "      <th>Tax Liens 2: &gt;0</th>\n",
       "      <td>937</td>\n",
       "      <td>336</td>\n",
       "    </tr>\n",
       "  </tbody>\n",
       "</table>\n",
       "</div>"
      ],
      "text/plain": [
       "default              0      1\n",
       "Tax Liens2                   \n",
       "Tax Liens 1: 0   49060  15866\n",
       "Tax Liens 2: >0    937    336"
      ]
     },
     "execution_count": 74,
     "metadata": {},
     "output_type": "execute_result"
    },
    {
     "data": {
      "application/javascript": [
       "\n",
       "            setTimeout(function() {\n",
       "                var nbb_cell_id = 74;\n",
       "                var nbb_unformatted_code = \"pd.crosstab(data_dropna[\\\"Tax Liens2\\\"], data_dropna[\\\"default\\\"])\";\n",
       "                var nbb_formatted_code = \"pd.crosstab(data_dropna[\\\"Tax Liens2\\\"], data_dropna[\\\"default\\\"])\";\n",
       "                var nbb_cells = Jupyter.notebook.get_cells();\n",
       "                for (var i = 0; i < nbb_cells.length; ++i) {\n",
       "                    if (nbb_cells[i].input_prompt_number == nbb_cell_id) {\n",
       "                        if (nbb_cells[i].get_text() == nbb_unformatted_code) {\n",
       "                             nbb_cells[i].set_text(nbb_formatted_code);\n",
       "                        }\n",
       "                        break;\n",
       "                    }\n",
       "                }\n",
       "            }, 500);\n",
       "            "
      ],
      "text/plain": [
       "<IPython.core.display.Javascript object>"
      ]
     },
     "metadata": {},
     "output_type": "display_data"
    }
   ],
   "source": [
    "pd.crosstab(data_dropna[\"Tax Liens2\"], data_dropna[\"default\"])"
   ]
  },
  {
   "cell_type": "code",
   "execution_count": 75,
   "metadata": {},
   "outputs": [
    {
     "data": {
      "text/html": [
       "<div>\n",
       "<style scoped>\n",
       "    .dataframe tbody tr th:only-of-type {\n",
       "        vertical-align: middle;\n",
       "    }\n",
       "\n",
       "    .dataframe tbody tr th {\n",
       "        vertical-align: top;\n",
       "    }\n",
       "\n",
       "    .dataframe thead th {\n",
       "        text-align: right;\n",
       "    }\n",
       "</style>\n",
       "<table border=\"1\" class=\"dataframe\">\n",
       "  <thead>\n",
       "    <tr style=\"text-align: right;\">\n",
       "      <th>default</th>\n",
       "      <th>0</th>\n",
       "      <th>1</th>\n",
       "    </tr>\n",
       "    <tr>\n",
       "      <th>Tax Liens2</th>\n",
       "      <th></th>\n",
       "      <th></th>\n",
       "    </tr>\n",
       "  </thead>\n",
       "  <tbody>\n",
       "    <tr>\n",
       "      <th>Tax Liens 1: 0</th>\n",
       "      <td>0.755629</td>\n",
       "      <td>0.244371</td>\n",
       "    </tr>\n",
       "    <tr>\n",
       "      <th>Tax Liens 2: &gt;0</th>\n",
       "      <td>0.736057</td>\n",
       "      <td>0.263943</td>\n",
       "    </tr>\n",
       "  </tbody>\n",
       "</table>\n",
       "</div>"
      ],
      "text/plain": [
       "default                 0         1\n",
       "Tax Liens2                         \n",
       "Tax Liens 1: 0   0.755629  0.244371\n",
       "Tax Liens 2: >0  0.736057  0.263943"
      ]
     },
     "execution_count": 75,
     "metadata": {},
     "output_type": "execute_result"
    },
    {
     "data": {
      "application/javascript": [
       "\n",
       "            setTimeout(function() {\n",
       "                var nbb_cell_id = 75;\n",
       "                var nbb_unformatted_code = \"pd.crosstab(data_dropna[\\\"Tax Liens2\\\"], data_dropna[\\\"default\\\"]).apply(\\n    lambda r: r / r.sum(), axis=1\\n)\";\n",
       "                var nbb_formatted_code = \"pd.crosstab(data_dropna[\\\"Tax Liens2\\\"], data_dropna[\\\"default\\\"]).apply(\\n    lambda r: r / r.sum(), axis=1\\n)\";\n",
       "                var nbb_cells = Jupyter.notebook.get_cells();\n",
       "                for (var i = 0; i < nbb_cells.length; ++i) {\n",
       "                    if (nbb_cells[i].input_prompt_number == nbb_cell_id) {\n",
       "                        if (nbb_cells[i].get_text() == nbb_unformatted_code) {\n",
       "                             nbb_cells[i].set_text(nbb_formatted_code);\n",
       "                        }\n",
       "                        break;\n",
       "                    }\n",
       "                }\n",
       "            }, 500);\n",
       "            "
      ],
      "text/plain": [
       "<IPython.core.display.Javascript object>"
      ]
     },
     "metadata": {},
     "output_type": "display_data"
    }
   ],
   "source": [
    "pd.crosstab(data_dropna[\"Tax Liens2\"], data_dropna[\"default\"]).apply(\n",
    "    lambda r: r / r.sum(), axis=1\n",
    ")"
   ]
  },
  {
   "cell_type": "code",
   "execution_count": 76,
   "metadata": {},
   "outputs": [
    {
     "data": {
      "text/plain": [
       "Text(0, 0.5, 'Proportion of Defaults')"
      ]
     },
     "execution_count": 76,
     "metadata": {},
     "output_type": "execute_result"
    },
    {
     "data": {
      "image/png": "[encoded data removed]",
      "text/plain": [
       "<Figure size 432x288 with 1 Axes>"
      ]
     },
     "metadata": {
      "needs_background": "light"
     },
     "output_type": "display_data"
    },
    {
     "data": {
      "application/javascript": [
       "\n",
       "            setTimeout(function() {\n",
       "                var nbb_cell_id = 76;\n",
       "                var nbb_unformatted_code = \"%matplotlib inline\\ntable = pd.crosstab(data_dropna[\\\"Tax Liens2\\\"], data_dropna[\\\"default\\\"])\\ntable.div(table.sum(1).astype(float), axis=0).plot(kind=\\\"bar\\\", stacked=True)\\nplt.title(\\\"Stacked Bar Tax Liens vs Default\\\")\\nplt.xlabel(\\\"Tax Liens\\\")\\nplt.ylabel(\\\"Proportion of Defaults\\\")\";\n",
       "                var nbb_formatted_code = \"%matplotlib inline\\ntable = pd.crosstab(data_dropna[\\\"Tax Liens2\\\"], data_dropna[\\\"default\\\"])\\ntable.div(table.sum(1).astype(float), axis=0).plot(kind=\\\"bar\\\", stacked=True)\\nplt.title(\\\"Stacked Bar Tax Liens vs Default\\\")\\nplt.xlabel(\\\"Tax Liens\\\")\\nplt.ylabel(\\\"Proportion of Defaults\\\")\";\n",
       "                var nbb_cells = Jupyter.notebook.get_cells();\n",
       "                for (var i = 0; i < nbb_cells.length; ++i) {\n",
       "                    if (nbb_cells[i].input_prompt_number == nbb_cell_id) {\n",
       "                        if (nbb_cells[i].get_text() == nbb_unformatted_code) {\n",
       "                             nbb_cells[i].set_text(nbb_formatted_code);\n",
       "                        }\n",
       "                        break;\n",
       "                    }\n",
       "                }\n",
       "            }, 500);\n",
       "            "
      ],
      "text/plain": [
       "<IPython.core.display.Javascript object>"
      ]
     },
     "metadata": {},
     "output_type": "display_data"
    }
   ],
   "source": [
    "%matplotlib inline\n",
    "table = pd.crosstab(data_dropna[\"Tax Liens2\"], data_dropna[\"default\"])\n",
    "table.div(table.sum(1).astype(float), axis=0).plot(kind=\"bar\", stacked=True)\n",
    "plt.title(\"Stacked Bar Tax Liens vs Default\")\n",
    "plt.xlabel(\"Tax Liens\")\n",
    "plt.ylabel(\"Proportion of Defaults\")"
   ]
  },
  {
   "cell_type": "markdown",
   "metadata": {},
   "source": [
    "## Create Dummies"
   ]
  },
  {
   "cell_type": "code",
   "execution_count": 77,
   "metadata": {},
   "outputs": [
    {
     "data": {
      "application/javascript": [
       "\n",
       "            setTimeout(function() {\n",
       "                var nbb_cell_id = 77;\n",
       "                var nbb_unformatted_code = \"data_modelling = data_dropna[\\n    [\\n        \\\"default\\\",\\n        \\\"Credit Score\\\",\\n        \\\"Debt to Income v2\\\",\\n        \\\"Years of Credit History2\\\",\\n        \\\"Purpose2\\\",\\n        \\\"Term\\\",\\n        \\\"Tax Liens2\\\",\\n    ]\\n]\";\n",
       "                var nbb_formatted_code = \"data_modelling = data_dropna[\\n    [\\n        \\\"default\\\",\\n        \\\"Credit Score\\\",\\n        \\\"Debt to Income v2\\\",\\n        \\\"Years of Credit History2\\\",\\n        \\\"Purpose2\\\",\\n        \\\"Term\\\",\\n        \\\"Tax Liens2\\\",\\n    ]\\n]\";\n",
       "                var nbb_cells = Jupyter.notebook.get_cells();\n",
       "                for (var i = 0; i < nbb_cells.length; ++i) {\n",
       "                    if (nbb_cells[i].input_prompt_number == nbb_cell_id) {\n",
       "                        if (nbb_cells[i].get_text() == nbb_unformatted_code) {\n",
       "                             nbb_cells[i].set_text(nbb_formatted_code);\n",
       "                        }\n",
       "                        break;\n",
       "                    }\n",
       "                }\n",
       "            }, 500);\n",
       "            "
      ],
      "text/plain": [
       "<IPython.core.display.Javascript object>"
      ]
     },
     "metadata": {},
     "output_type": "display_data"
    }
   ],
   "source": [
    "data_modelling = data_dropna[\n",
    "    [\n",
    "        \"default\",\n",
    "        \"Credit Score\",\n",
    "        \"Debt to Income v2\",\n",
    "        \"Years of Credit History2\",\n",
    "        \"Purpose2\",\n",
    "        \"Term\",\n",
    "        \"Tax Liens2\",\n",
    "    ]\n",
    "]"
   ]
  },
  {
   "cell_type": "code",
   "execution_count": 78,
   "metadata": {},
   "outputs": [
    {
     "data": {
      "application/javascript": [
       "\n",
       "            setTimeout(function() {\n",
       "                var nbb_cell_id = 78;\n",
       "                var nbb_unformatted_code = \"modelling_variables = [\\n    \\\"default\\\",\\n    \\\"Credit Score\\\",\\n    \\\"Debt to Income v2\\\",\\n    \\\"Years of Credit History2\\\",\\n    \\\"Purpose2\\\",\\n    \\\"Term\\\",\\n    \\\"Tax Liens2\\\",\\n]\";\n",
       "                var nbb_formatted_code = \"modelling_variables = [\\n    \\\"default\\\",\\n    \\\"Credit Score\\\",\\n    \\\"Debt to Income v2\\\",\\n    \\\"Years of Credit History2\\\",\\n    \\\"Purpose2\\\",\\n    \\\"Term\\\",\\n    \\\"Tax Liens2\\\",\\n]\";\n",
       "                var nbb_cells = Jupyter.notebook.get_cells();\n",
       "                for (var i = 0; i < nbb_cells.length; ++i) {\n",
       "                    if (nbb_cells[i].input_prompt_number == nbb_cell_id) {\n",
       "                        if (nbb_cells[i].get_text() == nbb_unformatted_code) {\n",
       "                             nbb_cells[i].set_text(nbb_formatted_code);\n",
       "                        }\n",
       "                        break;\n",
       "                    }\n",
       "                }\n",
       "            }, 500);\n",
       "            "
      ],
      "text/plain": [
       "<IPython.core.display.Javascript object>"
      ]
     },
     "metadata": {},
     "output_type": "display_data"
    }
   ],
   "source": [
    "modelling_variables = [\n",
    "    \"default\",\n",
    "    \"Credit Score\",\n",
    "    \"Debt to Income v2\",\n",
    "    \"Years of Credit History2\",\n",
    "    \"Purpose2\",\n",
    "    \"Term\",\n",
    "    \"Tax Liens2\",\n",
    "]"
   ]
  },
  {
   "cell_type": "code",
   "execution_count": 79,
   "metadata": {},
   "outputs": [
    {
     "data": {
      "application/javascript": [
       "\n",
       "            setTimeout(function() {\n",
       "                var nbb_cell_id = 79;\n",
       "                var nbb_unformatted_code = \"for i in modelling_variables:\\n    if i != \\\"default\\\":\\n        data_modelling = data_modelling.join(\\n            pd.get_dummies(data_modelling[i], drop_first=True)\\n        )\\n        data_modelling = data_modelling.drop([i], axis=1)\";\n",
       "                var nbb_formatted_code = \"for i in modelling_variables:\\n    if i != \\\"default\\\":\\n        data_modelling = data_modelling.join(\\n            pd.get_dummies(data_modelling[i], drop_first=True)\\n        )\\n        data_modelling = data_modelling.drop([i], axis=1)\";\n",
       "                var nbb_cells = Jupyter.notebook.get_cells();\n",
       "                for (var i = 0; i < nbb_cells.length; ++i) {\n",
       "                    if (nbb_cells[i].input_prompt_number == nbb_cell_id) {\n",
       "                        if (nbb_cells[i].get_text() == nbb_unformatted_code) {\n",
       "                             nbb_cells[i].set_text(nbb_formatted_code);\n",
       "                        }\n",
       "                        break;\n",
       "                    }\n",
       "                }\n",
       "            }, 500);\n",
       "            "
      ],
      "text/plain": [
       "<IPython.core.display.Javascript object>"
      ]
     },
     "metadata": {},
     "output_type": "display_data"
    }
   ],
   "source": [
    "for i in modelling_variables:\n",
    "    if i != \"default\":\n",
    "        data_modelling = data_modelling.join(\n",
    "            pd.get_dummies(data_modelling[i], drop_first=True)\n",
    "        )\n",
    "        data_modelling = data_modelling.drop([i], axis=1)"
   ]
  },
  {
   "cell_type": "code",
   "execution_count": 80,
   "metadata": {},
   "outputs": [
    {
     "data": {
      "text/plain": [
       "Index(['default', 'Good', 'Very Good', 'DTI 2: between 10 and 20%',\n",
       "       'DTI 3: between 20 and 30%', 'DTI 4: >30%', 'CrHistory 2: 10-20',\n",
       "       'CrHistory 3: >=20', 'Purpose 2: Business',\n",
       "       'Purpose 3: Debt Consolidation', 'Purpose 4: Home', 'Purpose 5: Car',\n",
       "       'Purpose 6: Other', 'Short Term', 'Tax Liens 2: >0'],\n",
       "      dtype='object')"
      ]
     },
     "execution_count": 80,
     "metadata": {},
     "output_type": "execute_result"
    },
    {
     "data": {
      "application/javascript": [
       "\n",
       "            setTimeout(function() {\n",
       "                var nbb_cell_id = 80;\n",
       "                var nbb_unformatted_code = \"data_modelling.columns\";\n",
       "                var nbb_formatted_code = \"data_modelling.columns\";\n",
       "                var nbb_cells = Jupyter.notebook.get_cells();\n",
       "                for (var i = 0; i < nbb_cells.length; ++i) {\n",
       "                    if (nbb_cells[i].input_prompt_number == nbb_cell_id) {\n",
       "                        if (nbb_cells[i].get_text() == nbb_unformatted_code) {\n",
       "                             nbb_cells[i].set_text(nbb_formatted_code);\n",
       "                        }\n",
       "                        break;\n",
       "                    }\n",
       "                }\n",
       "            }, 500);\n",
       "            "
      ],
      "text/plain": [
       "<IPython.core.display.Javascript object>"
      ]
     },
     "metadata": {},
     "output_type": "display_data"
    }
   ],
   "source": [
    "data_modelling.columns"
   ]
  },
  {
   "cell_type": "markdown",
   "metadata": {},
   "source": [
    "# Modelling"
   ]
  },
  {
   "cell_type": "markdown",
   "metadata": {},
   "source": [
    "## Stepwise Logistic Regression"
   ]
  },
  {
   "cell_type": "markdown",
   "metadata": {},
   "source": [
    "### Model Iteration: 1"
   ]
  },
  {
   "cell_type": "code",
   "execution_count": 81,
   "metadata": {},
   "outputs": [
    {
     "data": {
      "application/javascript": [
       "\n",
       "            setTimeout(function() {\n",
       "                var nbb_cell_id = 81;\n",
       "                var nbb_unformatted_code = \"data_modelling2 = data_modelling[\\n    [\\n        \\\"default\\\",\\n        \\\"Good\\\",\\n        \\\"Very Good\\\",\\n        \\\"DTI 2: between 10 and 20%\\\",\\n        \\\"DTI 3: between 20 and 30%\\\",\\n        \\\"DTI 4: >30%\\\",\\n        \\\"CrHistory 2: 10-20\\\",\\n        \\\"CrHistory 3: >=20\\\",\\n        \\\"Purpose 2: Business\\\",\\n        \\\"Purpose 3: Debt Consolidation\\\",\\n        \\\"Purpose 4: Home\\\",\\n        \\\"Purpose 5: Car\\\",\\n        \\\"Purpose 6: Other\\\",\\n        \\\"Short Term\\\",\\n        \\\"Tax Liens 2: >0\\\",\\n    ]\\n]\";\n",
       "                var nbb_formatted_code = \"data_modelling2 = data_modelling[\\n    [\\n        \\\"default\\\",\\n        \\\"Good\\\",\\n        \\\"Very Good\\\",\\n        \\\"DTI 2: between 10 and 20%\\\",\\n        \\\"DTI 3: between 20 and 30%\\\",\\n        \\\"DTI 4: >30%\\\",\\n        \\\"CrHistory 2: 10-20\\\",\\n        \\\"CrHistory 3: >=20\\\",\\n        \\\"Purpose 2: Business\\\",\\n        \\\"Purpose 3: Debt Consolidation\\\",\\n        \\\"Purpose 4: Home\\\",\\n        \\\"Purpose 5: Car\\\",\\n        \\\"Purpose 6: Other\\\",\\n        \\\"Short Term\\\",\\n        \\\"Tax Liens 2: >0\\\",\\n    ]\\n]\";\n",
       "                var nbb_cells = Jupyter.notebook.get_cells();\n",
       "                for (var i = 0; i < nbb_cells.length; ++i) {\n",
       "                    if (nbb_cells[i].input_prompt_number == nbb_cell_id) {\n",
       "                        if (nbb_cells[i].get_text() == nbb_unformatted_code) {\n",
       "                             nbb_cells[i].set_text(nbb_formatted_code);\n",
       "                        }\n",
       "                        break;\n",
       "                    }\n",
       "                }\n",
       "            }, 500);\n",
       "            "
      ],
      "text/plain": [
       "<IPython.core.display.Javascript object>"
      ]
     },
     "metadata": {},
     "output_type": "display_data"
    }
   ],
   "source": [
    "data_modelling2 = data_modelling[\n",
    "    [\n",
    "        \"default\",\n",
    "        \"Good\",\n",
    "        \"Very Good\",\n",
    "        \"DTI 2: between 10 and 20%\",\n",
    "        \"DTI 3: between 20 and 30%\",\n",
    "        \"DTI 4: >30%\",\n",
    "        \"CrHistory 2: 10-20\",\n",
    "        \"CrHistory 3: >=20\",\n",
    "        \"Purpose 2: Business\",\n",
    "        \"Purpose 3: Debt Consolidation\",\n",
    "        \"Purpose 4: Home\",\n",
    "        \"Purpose 5: Car\",\n",
    "        \"Purpose 6: Other\",\n",
    "        \"Short Term\",\n",
    "        \"Tax Liens 2: >0\",\n",
    "    ]\n",
    "]"
   ]
  },
  {
   "cell_type": "code",
   "execution_count": 82,
   "metadata": {},
   "outputs": [
    {
     "data": {
      "application/javascript": [
       "\n",
       "            setTimeout(function() {\n",
       "                var nbb_cell_id = 82;\n",
       "                var nbb_unformatted_code = \"X = data_modelling2.loc[:, data_modelling2.columns != \\\"default\\\"]\\ny = data_modelling2.loc[:, data_modelling2.columns == \\\"default\\\"]\";\n",
       "                var nbb_formatted_code = \"X = data_modelling2.loc[:, data_modelling2.columns != \\\"default\\\"]\\ny = data_modelling2.loc[:, data_modelling2.columns == \\\"default\\\"]\";\n",
       "                var nbb_cells = Jupyter.notebook.get_cells();\n",
       "                for (var i = 0; i < nbb_cells.length; ++i) {\n",
       "                    if (nbb_cells[i].input_prompt_number == nbb_cell_id) {\n",
       "                        if (nbb_cells[i].get_text() == nbb_unformatted_code) {\n",
       "                             nbb_cells[i].set_text(nbb_formatted_code);\n",
       "                        }\n",
       "                        break;\n",
       "                    }\n",
       "                }\n",
       "            }, 500);\n",
       "            "
      ],
      "text/plain": [
       "<IPython.core.display.Javascript object>"
      ]
     },
     "metadata": {},
     "output_type": "display_data"
    }
   ],
   "source": [
    "X = data_modelling2.loc[:, data_modelling2.columns != \"default\"]\n",
    "y = data_modelling2.loc[:, data_modelling2.columns == \"default\"]"
   ]
  },
  {
   "cell_type": "code",
   "execution_count": 83,
   "metadata": {},
   "outputs": [
    {
     "data": {
      "application/javascript": [
       "\n",
       "            setTimeout(function() {\n",
       "                var nbb_cell_id = 83;\n",
       "                var nbb_unformatted_code = \"os = SMOTE(random_state=0)\\nX_train, X_test, y_train, y_test = train_test_split(X, y, test_size=0.3, random_state=0)\\ncolumns = X_train.columns\";\n",
       "                var nbb_formatted_code = \"os = SMOTE(random_state=0)\\nX_train, X_test, y_train, y_test = train_test_split(X, y, test_size=0.3, random_state=0)\\ncolumns = X_train.columns\";\n",
       "                var nbb_cells = Jupyter.notebook.get_cells();\n",
       "                for (var i = 0; i < nbb_cells.length; ++i) {\n",
       "                    if (nbb_cells[i].input_prompt_number == nbb_cell_id) {\n",
       "                        if (nbb_cells[i].get_text() == nbb_unformatted_code) {\n",
       "                             nbb_cells[i].set_text(nbb_formatted_code);\n",
       "                        }\n",
       "                        break;\n",
       "                    }\n",
       "                }\n",
       "            }, 500);\n",
       "            "
      ],
      "text/plain": [
       "<IPython.core.display.Javascript object>"
      ]
     },
     "metadata": {},
     "output_type": "display_data"
    }
   ],
   "source": [
    "os = SMOTE(random_state=0)\n",
    "X_train, X_test, y_train, y_test = train_test_split(X, y, test_size=0.3, random_state=0)\n",
    "columns = X_train.columns"
   ]
  },
  {
   "cell_type": "code",
   "execution_count": 84,
   "metadata": {},
   "outputs": [
    {
     "name": "stdout",
     "output_type": "stream",
     "text": [
      "length of oversampled data is  69936\n",
      "Number of no default in oversampled data 34968\n",
      "Number of default in oversampled data 34968\n",
      "Proportion of no default data in oversampled data is  0.5\n",
      "Proportion of default data in oversampled data is  0.5\n"
     ]
    },
    {
     "data": {
      "application/javascript": [
       "\n",
       "            setTimeout(function() {\n",
       "                var nbb_cell_id = 84;\n",
       "                var nbb_unformatted_code = \"os_data_X, os_data_y = os.fit_sample(X_train, y_train)\\nos_data_X = pd.DataFrame(data=os_data_X, columns=columns)\\nos_data_y = pd.DataFrame(data=os_data_y, columns=[\\\"default\\\"])\\n# we can Check the numbers of our data\\nprint(\\\"length of oversampled data is \\\", len(os_data_X))\\nprint(\\n    \\\"Number of no default in oversampled data\\\",\\n    len(os_data_y[os_data_y[\\\"default\\\"] == 0]),\\n)\\nprint(\\n    \\\"Number of default in oversampled data\\\", len(os_data_y[os_data_y[\\\"default\\\"] == 1])\\n)\\nprint(\\n    \\\"Proportion of no default data in oversampled data is \\\",\\n    len(os_data_y[os_data_y[\\\"default\\\"] == 0]) / len(os_data_X),\\n)\\nprint(\\n    \\\"Proportion of default data in oversampled data is \\\",\\n    len(os_data_y[os_data_y[\\\"default\\\"] == 1]) / len(os_data_X),\\n)\";\n",
       "                var nbb_formatted_code = \"os_data_X, os_data_y = os.fit_sample(X_train, y_train)\\nos_data_X = pd.DataFrame(data=os_data_X, columns=columns)\\nos_data_y = pd.DataFrame(data=os_data_y, columns=[\\\"default\\\"])\\n# we can Check the numbers of our data\\nprint(\\\"length of oversampled data is \\\", len(os_data_X))\\nprint(\\n    \\\"Number of no default in oversampled data\\\",\\n    len(os_data_y[os_data_y[\\\"default\\\"] == 0]),\\n)\\nprint(\\n    \\\"Number of default in oversampled data\\\", len(os_data_y[os_data_y[\\\"default\\\"] == 1])\\n)\\nprint(\\n    \\\"Proportion of no default data in oversampled data is \\\",\\n    len(os_data_y[os_data_y[\\\"default\\\"] == 0]) / len(os_data_X),\\n)\\nprint(\\n    \\\"Proportion of default data in oversampled data is \\\",\\n    len(os_data_y[os_data_y[\\\"default\\\"] == 1]) / len(os_data_X),\\n)\";\n",
       "                var nbb_cells = Jupyter.notebook.get_cells();\n",
       "                for (var i = 0; i < nbb_cells.length; ++i) {\n",
       "                    if (nbb_cells[i].input_prompt_number == nbb_cell_id) {\n",
       "                        if (nbb_cells[i].get_text() == nbb_unformatted_code) {\n",
       "                             nbb_cells[i].set_text(nbb_formatted_code);\n",
       "                        }\n",
       "                        break;\n",
       "                    }\n",
       "                }\n",
       "            }, 500);\n",
       "            "
      ],
      "text/plain": [
       "<IPython.core.display.Javascript object>"
      ]
     },
     "metadata": {},
     "output_type": "display_data"
    }
   ],
   "source": [
    "os_data_X, os_data_y = os.fit_sample(X_train, y_train)\n",
    "os_data_X = pd.DataFrame(data=os_data_X, columns=columns)\n",
    "os_data_y = pd.DataFrame(data=os_data_y, columns=[\"default\"])\n",
    "# we can Check the numbers of our data\n",
    "print(\"length of oversampled data is \", len(os_data_X))\n",
    "print(\n",
    "    \"Number of no default in oversampled data\",\n",
    "    len(os_data_y[os_data_y[\"default\"] == 0]),\n",
    ")\n",
    "print(\n",
    "    \"Number of default in oversampled data\", len(os_data_y[os_data_y[\"default\"] == 1])\n",
    ")\n",
    "print(\n",
    "    \"Proportion of no default data in oversampled data is \",\n",
    "    len(os_data_y[os_data_y[\"default\"] == 0]) / len(os_data_X),\n",
    ")\n",
    "print(\n",
    "    \"Proportion of default data in oversampled data is \",\n",
    "    len(os_data_y[os_data_y[\"default\"] == 1]) / len(os_data_X),\n",
    ")"
   ]
  },
  {
   "cell_type": "code",
   "execution_count": 85,
   "metadata": {},
   "outputs": [
    {
     "name": "stdout",
     "output_type": "stream",
     "text": [
      "Optimization terminated successfully.\n",
      "         Current function value: 0.684329\n",
      "         Iterations 11\n",
      "                                Results: Logit\n",
      "==============================================================================\n",
      "Model:                  Logit                Pseudo R-squared:     0.013      \n",
      "Dependent Variable:     default              AIC:                  95746.4682 \n",
      "Date:                   2020-05-30 23:58     BIC:                  95874.6429 \n",
      "No. Observations:       69936                Log-Likelihood:       -47859.    \n",
      "Df Model:               13                   LL-Null:              -48476.    \n",
      "Df Residuals:           69922                LLR p-value:          1.1418e-255\n",
      "Converged:              1.0000               Scale:                1.0000     \n",
      "No. Iterations:         11.0000                                               \n",
      "------------------------------------------------------------------------------\n",
      "                               Coef.  Std.Err.    z     P>|z|   [0.025  0.975]\n",
      "------------------------------------------------------------------------------\n",
      "Good                           0.0584   0.0166   3.5148 0.0004  0.0258  0.0909\n",
      "Very Good                      0.0070   0.0029   2.4295 0.0151  0.0014  0.0127\n",
      "DTI 2: between 10 and 20%      0.2442   0.0212  11.5090 0.0000  0.2026  0.2858\n",
      "DTI 3: between 20 and 30%      0.5199   0.0227  22.9354 0.0000  0.4755  0.5643\n",
      "DTI 4: >30%                    0.7211   0.0333  21.6690 0.0000  0.6558  0.7863\n",
      "CrHistory 2: 10-20             0.0153   0.0119   1.2851 0.1987 -0.0081  0.0387\n",
      "CrHistory 3: >=20              0.0060   0.0043   1.3948 0.1631 -0.0024  0.0145\n",
      "Purpose 2: Business            0.0946   0.0561   1.6879 0.0914 -0.0153  0.2045\n",
      "Purpose 3: Debt Consolidation -0.3870   0.0227 -17.0339 0.0000 -0.4315 -0.3424\n",
      "Purpose 4: Home               -0.4614   0.0362 -12.7333 0.0000 -0.5324 -0.3904\n",
      "Purpose 5: Car                 0.0133   0.0082   1.6221 0.1048 -0.0028  0.0293\n",
      "Purpose 6: Other              -0.3688   0.0298 -12.3606 0.0000 -0.4272 -0.3103\n",
      "Short Term                     0.0021   0.0024   0.8675 0.3857 -0.0026  0.0068\n",
      "Tax Liens 2: >0                0.1140   0.0322   3.5440 0.0004  0.0509  0.1770\n",
      "==============================================================================\n",
      "\n"
     ]
    },
    {
     "data": {
      "application/javascript": [
       "\n",
       "            setTimeout(function() {\n",
       "                var nbb_cell_id = 85;\n",
       "                var nbb_unformatted_code = \"logit_model = sm.Logit(os_data_y, os_data_X)\\nresult3 = logit_model.fit()\\nprint(result3.summary2())\";\n",
       "                var nbb_formatted_code = \"logit_model = sm.Logit(os_data_y, os_data_X)\\nresult3 = logit_model.fit()\\nprint(result3.summary2())\";\n",
       "                var nbb_cells = Jupyter.notebook.get_cells();\n",
       "                for (var i = 0; i < nbb_cells.length; ++i) {\n",
       "                    if (nbb_cells[i].input_prompt_number == nbb_cell_id) {\n",
       "                        if (nbb_cells[i].get_text() == nbb_unformatted_code) {\n",
       "                             nbb_cells[i].set_text(nbb_formatted_code);\n",
       "                        }\n",
       "                        break;\n",
       "                    }\n",
       "                }\n",
       "            }, 500);\n",
       "            "
      ],
      "text/plain": [
       "<IPython.core.display.Javascript object>"
      ]
     },
     "metadata": {},
     "output_type": "display_data"
    }
   ],
   "source": [
    "logit_model = sm.Logit(os_data_y, os_data_X)\n",
    "result3 = logit_model.fit()\n",
    "print(result3.summary2())"
   ]
  },
  {
   "cell_type": "markdown",
   "metadata": {},
   "source": [
    "Multiple variables appear insignificant, but we take step-wise approach and first try removing variables one at a time (highest p-values are removed first)."
   ]
  },
  {
   "cell_type": "markdown",
   "metadata": {},
   "source": [
    "### Model Iteration: 2 - excl. Term"
   ]
  },
  {
   "cell_type": "code",
   "execution_count": 86,
   "metadata": {},
   "outputs": [
    {
     "data": {
      "application/javascript": [
       "\n",
       "            setTimeout(function() {\n",
       "                var nbb_cell_id = 86;\n",
       "                var nbb_unformatted_code = \"data_modelling2 = data_modelling[\\n    [\\n        \\\"default\\\",\\n        \\\"Good\\\",\\n        \\\"Very Good\\\",\\n        \\\"DTI 2: between 10 and 20%\\\",\\n        \\\"DTI 3: between 20 and 30%\\\",\\n        \\\"DTI 4: >30%\\\",\\n        \\\"CrHistory 2: 10-20\\\",\\n        \\\"CrHistory 3: >=20\\\",\\n        \\\"Purpose 2: Business\\\",\\n        \\\"Purpose 3: Debt Consolidation\\\",\\n        \\\"Purpose 4: Home\\\",\\n        \\\"Purpose 5: Car\\\",\\n        \\\"Purpose 6: Other\\\",\\n        \\\"Tax Liens 2: >0\\\",\\n    ]\\n]\";\n",
       "                var nbb_formatted_code = \"data_modelling2 = data_modelling[\\n    [\\n        \\\"default\\\",\\n        \\\"Good\\\",\\n        \\\"Very Good\\\",\\n        \\\"DTI 2: between 10 and 20%\\\",\\n        \\\"DTI 3: between 20 and 30%\\\",\\n        \\\"DTI 4: >30%\\\",\\n        \\\"CrHistory 2: 10-20\\\",\\n        \\\"CrHistory 3: >=20\\\",\\n        \\\"Purpose 2: Business\\\",\\n        \\\"Purpose 3: Debt Consolidation\\\",\\n        \\\"Purpose 4: Home\\\",\\n        \\\"Purpose 5: Car\\\",\\n        \\\"Purpose 6: Other\\\",\\n        \\\"Tax Liens 2: >0\\\",\\n    ]\\n]\";\n",
       "                var nbb_cells = Jupyter.notebook.get_cells();\n",
       "                for (var i = 0; i < nbb_cells.length; ++i) {\n",
       "                    if (nbb_cells[i].input_prompt_number == nbb_cell_id) {\n",
       "                        if (nbb_cells[i].get_text() == nbb_unformatted_code) {\n",
       "                             nbb_cells[i].set_text(nbb_formatted_code);\n",
       "                        }\n",
       "                        break;\n",
       "                    }\n",
       "                }\n",
       "            }, 500);\n",
       "            "
      ],
      "text/plain": [
       "<IPython.core.display.Javascript object>"
      ]
     },
     "metadata": {},
     "output_type": "display_data"
    }
   ],
   "source": [
    "data_modelling2 = data_modelling[\n",
    "    [\n",
    "        \"default\",\n",
    "        \"Good\",\n",
    "        \"Very Good\",\n",
    "        \"DTI 2: between 10 and 20%\",\n",
    "        \"DTI 3: between 20 and 30%\",\n",
    "        \"DTI 4: >30%\",\n",
    "        \"CrHistory 2: 10-20\",\n",
    "        \"CrHistory 3: >=20\",\n",
    "        \"Purpose 2: Business\",\n",
    "        \"Purpose 3: Debt Consolidation\",\n",
    "        \"Purpose 4: Home\",\n",
    "        \"Purpose 5: Car\",\n",
    "        \"Purpose 6: Other\",\n",
    "        \"Tax Liens 2: >0\",\n",
    "    ]\n",
    "]"
   ]
  },
  {
   "cell_type": "code",
   "execution_count": 87,
   "metadata": {},
   "outputs": [
    {
     "data": {
      "application/javascript": [
       "\n",
       "            setTimeout(function() {\n",
       "                var nbb_cell_id = 87;\n",
       "                var nbb_unformatted_code = \"X = data_modelling2.loc[:, data_modelling2.columns != \\\"default\\\"]\\ny = data_modelling2.loc[:, data_modelling2.columns == \\\"default\\\"]\";\n",
       "                var nbb_formatted_code = \"X = data_modelling2.loc[:, data_modelling2.columns != \\\"default\\\"]\\ny = data_modelling2.loc[:, data_modelling2.columns == \\\"default\\\"]\";\n",
       "                var nbb_cells = Jupyter.notebook.get_cells();\n",
       "                for (var i = 0; i < nbb_cells.length; ++i) {\n",
       "                    if (nbb_cells[i].input_prompt_number == nbb_cell_id) {\n",
       "                        if (nbb_cells[i].get_text() == nbb_unformatted_code) {\n",
       "                             nbb_cells[i].set_text(nbb_formatted_code);\n",
       "                        }\n",
       "                        break;\n",
       "                    }\n",
       "                }\n",
       "            }, 500);\n",
       "            "
      ],
      "text/plain": [
       "<IPython.core.display.Javascript object>"
      ]
     },
     "metadata": {},
     "output_type": "display_data"
    }
   ],
   "source": [
    "X = data_modelling2.loc[:, data_modelling2.columns != \"default\"]\n",
    "y = data_modelling2.loc[:, data_modelling2.columns == \"default\"]"
   ]
  },
  {
   "cell_type": "code",
   "execution_count": 88,
   "metadata": {},
   "outputs": [
    {
     "data": {
      "application/javascript": [
       "\n",
       "            setTimeout(function() {\n",
       "                var nbb_cell_id = 88;\n",
       "                var nbb_unformatted_code = \"os = SMOTE(random_state=0)\\nX_train, X_test, y_train, y_test = train_test_split(X, y, test_size=0.3, random_state=0)\\ncolumns = X_train.columns\";\n",
       "                var nbb_formatted_code = \"os = SMOTE(random_state=0)\\nX_train, X_test, y_train, y_test = train_test_split(X, y, test_size=0.3, random_state=0)\\ncolumns = X_train.columns\";\n",
       "                var nbb_cells = Jupyter.notebook.get_cells();\n",
       "                for (var i = 0; i < nbb_cells.length; ++i) {\n",
       "                    if (nbb_cells[i].input_prompt_number == nbb_cell_id) {\n",
       "                        if (nbb_cells[i].get_text() == nbb_unformatted_code) {\n",
       "                             nbb_cells[i].set_text(nbb_formatted_code);\n",
       "                        }\n",
       "                        break;\n",
       "                    }\n",
       "                }\n",
       "            }, 500);\n",
       "            "
      ],
      "text/plain": [
       "<IPython.core.display.Javascript object>"
      ]
     },
     "metadata": {},
     "output_type": "display_data"
    }
   ],
   "source": [
    "os = SMOTE(random_state=0)\n",
    "X_train, X_test, y_train, y_test = train_test_split(X, y, test_size=0.3, random_state=0)\n",
    "columns = X_train.columns"
   ]
  },
  {
   "cell_type": "code",
   "execution_count": 89,
   "metadata": {},
   "outputs": [
    {
     "data": {
      "application/javascript": [
       "\n",
       "            setTimeout(function() {\n",
       "                var nbb_cell_id = 89;\n",
       "                var nbb_unformatted_code = \"os_data_X, os_data_y = os.fit_sample(X_train, y_train)\\nos_data_X = pd.DataFrame(data=os_data_X, columns=columns)\\nos_data_y = pd.DataFrame(data=os_data_y, columns=[\\\"default\\\"])\";\n",
       "                var nbb_formatted_code = \"os_data_X, os_data_y = os.fit_sample(X_train, y_train)\\nos_data_X = pd.DataFrame(data=os_data_X, columns=columns)\\nos_data_y = pd.DataFrame(data=os_data_y, columns=[\\\"default\\\"])\";\n",
       "                var nbb_cells = Jupyter.notebook.get_cells();\n",
       "                for (var i = 0; i < nbb_cells.length; ++i) {\n",
       "                    if (nbb_cells[i].input_prompt_number == nbb_cell_id) {\n",
       "                        if (nbb_cells[i].get_text() == nbb_unformatted_code) {\n",
       "                             nbb_cells[i].set_text(nbb_formatted_code);\n",
       "                        }\n",
       "                        break;\n",
       "                    }\n",
       "                }\n",
       "            }, 500);\n",
       "            "
      ],
      "text/plain": [
       "<IPython.core.display.Javascript object>"
      ]
     },
     "metadata": {},
     "output_type": "display_data"
    }
   ],
   "source": [
    "os_data_X, os_data_y = os.fit_sample(X_train, y_train)\n",
    "os_data_X = pd.DataFrame(data=os_data_X, columns=columns)\n",
    "os_data_y = pd.DataFrame(data=os_data_y, columns=[\"default\"])"
   ]
  },
  {
   "cell_type": "code",
   "execution_count": 90,
   "metadata": {},
   "outputs": [
    {
     "name": "stdout",
     "output_type": "stream",
     "text": [
      "Optimization terminated successfully.\n",
      "         Current function value: 0.683764\n",
      "         Iterations 11\n",
      "                                Results: Logit\n",
      "==============================================================================\n",
      "Model:                  Logit                Pseudo R-squared:     0.014      \n",
      "Dependent Variable:     default              AIC:                  95665.4963 \n",
      "Date:                   2020-05-30 23:58     BIC:                  95784.5157 \n",
      "No. Observations:       69936                Log-Likelihood:       -47820.    \n",
      "Df Model:               12                   LL-Null:              -48476.    \n",
      "Df Residuals:           69923                LLR p-value:          1.0673e-273\n",
      "Converged:              1.0000               Scale:                1.0000     \n",
      "No. Iterations:         11.0000                                               \n",
      "------------------------------------------------------------------------------\n",
      "                               Coef.  Std.Err.    z     P>|z|   [0.025  0.975]\n",
      "------------------------------------------------------------------------------\n",
      "Good                           0.0901   0.0169   5.3373 0.0000  0.0570  0.1232\n",
      "Very Good                      0.0061   0.0031   1.9759 0.0482  0.0000  0.0121\n",
      "DTI 2: between 10 and 20%      0.2999   0.0216  13.9096 0.0000  0.2576  0.3421\n",
      "DTI 3: between 20 and 30%      0.5723   0.0229  24.9505 0.0000  0.5273  0.6172\n",
      "DTI 4: >30%                    0.7754   0.0334  23.1978 0.0000  0.7099  0.8409\n",
      "CrHistory 2: 10-20             0.0382   0.0148   2.5755 0.0100  0.0091  0.0672\n",
      "CrHistory 3: >=20              0.0107   0.0047   2.2874 0.0222  0.0015  0.0199\n",
      "Purpose 2: Business            0.0351   0.0564   0.6221 0.5339 -0.0755  0.1456\n",
      "Purpose 3: Debt Consolidation -0.4697   0.0239 -19.6845 0.0000 -0.5165 -0.4229\n",
      "Purpose 4: Home               -0.5250   0.0368 -14.2767 0.0000 -0.5970 -0.4529\n",
      "Purpose 5: Car                -0.8654   0.0794 -10.8978 0.0000 -1.0210 -0.7097\n",
      "Purpose 6: Other              -0.4681   0.0306 -15.2976 0.0000 -0.5280 -0.4081\n",
      "Tax Liens 2: >0                0.1245   0.0367   3.3941 0.0007  0.0526  0.1964\n",
      "==============================================================================\n",
      "\n"
     ]
    },
    {
     "data": {
      "application/javascript": [
       "\n",
       "            setTimeout(function() {\n",
       "                var nbb_cell_id = 90;\n",
       "                var nbb_unformatted_code = \"logit_model = sm.Logit(os_data_y, os_data_X)\\nresult3 = logit_model.fit()\\nprint(result3.summary2())\";\n",
       "                var nbb_formatted_code = \"logit_model = sm.Logit(os_data_y, os_data_X)\\nresult3 = logit_model.fit()\\nprint(result3.summary2())\";\n",
       "                var nbb_cells = Jupyter.notebook.get_cells();\n",
       "                for (var i = 0; i < nbb_cells.length; ++i) {\n",
       "                    if (nbb_cells[i].input_prompt_number == nbb_cell_id) {\n",
       "                        if (nbb_cells[i].get_text() == nbb_unformatted_code) {\n",
       "                             nbb_cells[i].set_text(nbb_formatted_code);\n",
       "                        }\n",
       "                        break;\n",
       "                    }\n",
       "                }\n",
       "            }, 500);\n",
       "            "
      ],
      "text/plain": [
       "<IPython.core.display.Javascript object>"
      ]
     },
     "metadata": {},
     "output_type": "display_data"
    }
   ],
   "source": [
    "logit_model = sm.Logit(os_data_y, os_data_X)\n",
    "result3 = logit_model.fit()\n",
    "print(result3.summary2())"
   ]
  },
  {
   "cell_type": "markdown",
   "metadata": {},
   "source": [
    "### Model Iteration: 3 - excl. Purpose 2: Business due to insignificance (p-value >0.05)"
   ]
  },
  {
   "cell_type": "code",
   "execution_count": 91,
   "metadata": {},
   "outputs": [
    {
     "name": "stdout",
     "output_type": "stream",
     "text": [
      "Optimization terminated successfully.\n",
      "         Current function value: 0.684774\n",
      "         Iterations 11\n",
      "                                Results: Logit\n",
      "==============================================================================\n",
      "Model:                  Logit                Pseudo R-squared:     0.012      \n",
      "Dependent Variable:     default              AIC:                  95804.6572 \n",
      "Date:                   2020-05-30 23:58     BIC:                  95914.5213 \n",
      "No. Observations:       69936                Log-Likelihood:       -47890.    \n",
      "Df Model:               11                   LL-Null:              -48476.    \n",
      "Df Residuals:           69924                LLR p-value:          2.5728e-244\n",
      "Converged:              1.0000               Scale:                1.0000     \n",
      "No. Iterations:         11.0000                                               \n",
      "------------------------------------------------------------------------------\n",
      "                               Coef.  Std.Err.    z     P>|z|   [0.025  0.975]\n",
      "------------------------------------------------------------------------------\n",
      "Good                           0.0693   0.0165   4.2066 0.0000  0.0370  0.1017\n",
      "Very Good                      0.0027   0.0030   0.8771 0.3804 -0.0033  0.0086\n",
      "DTI 2: between 10 and 20%      0.2716   0.0209  13.0197 0.0000  0.2307  0.3125\n",
      "DTI 3: between 20 and 30%      0.5471   0.0224  24.4107 0.0000  0.5032  0.5910\n",
      "DTI 4: >30%                    0.7555   0.0331  22.8345 0.0000  0.6907  0.8204\n",
      "CrHistory 2: 10-20             0.0126   0.0157   0.7998 0.4238 -0.0182  0.0434\n",
      "CrHistory 3: >=20             -0.0026   0.0056  -0.4579 0.6470 -0.0136  0.0084\n",
      "Purpose 3: Debt Consolidation -0.4122   0.0223 -18.4560 0.0000 -0.4560 -0.3684\n",
      "Purpose 4: Home               -0.4719   0.0360 -13.1066 0.0000 -0.5424 -0.4013\n",
      "Purpose 5: Car                 0.0141   0.0069   2.0544 0.0399  0.0006  0.0275\n",
      "Purpose 6: Other              -0.4137   0.0296 -13.9624 0.0000 -0.4718 -0.3557\n",
      "Tax Liens 2: >0                0.1262   0.0374   3.3770 0.0007  0.0529  0.1994\n",
      "==============================================================================\n",
      "\n"
     ]
    },
    {
     "data": {
      "application/javascript": [
       "\n",
       "            setTimeout(function() {\n",
       "                var nbb_cell_id = 91;\n",
       "                var nbb_unformatted_code = \"data_modelling2 = data_modelling[\\n    [\\n        \\\"default\\\",\\n        \\\"Good\\\",\\n        \\\"Very Good\\\",\\n        \\\"DTI 2: between 10 and 20%\\\",\\n        \\\"DTI 3: between 20 and 30%\\\",\\n        \\\"DTI 4: >30%\\\",\\n        \\\"CrHistory 2: 10-20\\\",\\n        \\\"CrHistory 3: >=20\\\",\\n        \\\"Purpose 3: Debt Consolidation\\\",\\n        \\\"Purpose 4: Home\\\",\\n        \\\"Purpose 5: Car\\\",\\n        \\\"Purpose 6: Other\\\",\\n        \\\"Tax Liens 2: >0\\\",\\n    ]\\n]\\n\\nX = data_modelling2.loc[:, data_modelling2.columns != \\\"default\\\"]\\ny = data_modelling2.loc[:, data_modelling2.columns == \\\"default\\\"]\\n\\nos = SMOTE(random_state=0)\\nX_train, X_test, y_train, y_test = train_test_split(X, y, test_size=0.3, random_state=0)\\ncolumns = X_train.columns\\n\\nos_data_X, os_data_y = os.fit_sample(X_train, y_train)\\nos_data_X = pd.DataFrame(data=os_data_X, columns=columns)\\nos_data_y = pd.DataFrame(data=os_data_y, columns=[\\\"default\\\"])\\n\\nlogit_model = sm.Logit(os_data_y, os_data_X)\\nresult3 = logit_model.fit()\\nprint(result3.summary2())\";\n",
       "                var nbb_formatted_code = \"data_modelling2 = data_modelling[\\n    [\\n        \\\"default\\\",\\n        \\\"Good\\\",\\n        \\\"Very Good\\\",\\n        \\\"DTI 2: between 10 and 20%\\\",\\n        \\\"DTI 3: between 20 and 30%\\\",\\n        \\\"DTI 4: >30%\\\",\\n        \\\"CrHistory 2: 10-20\\\",\\n        \\\"CrHistory 3: >=20\\\",\\n        \\\"Purpose 3: Debt Consolidation\\\",\\n        \\\"Purpose 4: Home\\\",\\n        \\\"Purpose 5: Car\\\",\\n        \\\"Purpose 6: Other\\\",\\n        \\\"Tax Liens 2: >0\\\",\\n    ]\\n]\\n\\nX = data_modelling2.loc[:, data_modelling2.columns != \\\"default\\\"]\\ny = data_modelling2.loc[:, data_modelling2.columns == \\\"default\\\"]\\n\\nos = SMOTE(random_state=0)\\nX_train, X_test, y_train, y_test = train_test_split(X, y, test_size=0.3, random_state=0)\\ncolumns = X_train.columns\\n\\nos_data_X, os_data_y = os.fit_sample(X_train, y_train)\\nos_data_X = pd.DataFrame(data=os_data_X, columns=columns)\\nos_data_y = pd.DataFrame(data=os_data_y, columns=[\\\"default\\\"])\\n\\nlogit_model = sm.Logit(os_data_y, os_data_X)\\nresult3 = logit_model.fit()\\nprint(result3.summary2())\";\n",
       "                var nbb_cells = Jupyter.notebook.get_cells();\n",
       "                for (var i = 0; i < nbb_cells.length; ++i) {\n",
       "                    if (nbb_cells[i].input_prompt_number == nbb_cell_id) {\n",
       "                        if (nbb_cells[i].get_text() == nbb_unformatted_code) {\n",
       "                             nbb_cells[i].set_text(nbb_formatted_code);\n",
       "                        }\n",
       "                        break;\n",
       "                    }\n",
       "                }\n",
       "            }, 500);\n",
       "            "
      ],
      "text/plain": [
       "<IPython.core.display.Javascript object>"
      ]
     },
     "metadata": {},
     "output_type": "display_data"
    }
   ],
   "source": [
    "data_modelling2 = data_modelling[\n",
    "    [\n",
    "        \"default\",\n",
    "        \"Good\",\n",
    "        \"Very Good\",\n",
    "        \"DTI 2: between 10 and 20%\",\n",
    "        \"DTI 3: between 20 and 30%\",\n",
    "        \"DTI 4: >30%\",\n",
    "        \"CrHistory 2: 10-20\",\n",
    "        \"CrHistory 3: >=20\",\n",
    "        \"Purpose 3: Debt Consolidation\",\n",
    "        \"Purpose 4: Home\",\n",
    "        \"Purpose 5: Car\",\n",
    "        \"Purpose 6: Other\",\n",
    "        \"Tax Liens 2: >0\",\n",
    "    ]\n",
    "]\n",
    "\n",
    "X = data_modelling2.loc[:, data_modelling2.columns != \"default\"]\n",
    "y = data_modelling2.loc[:, data_modelling2.columns == \"default\"]\n",
    "\n",
    "os = SMOTE(random_state=0)\n",
    "X_train, X_test, y_train, y_test = train_test_split(X, y, test_size=0.3, random_state=0)\n",
    "columns = X_train.columns\n",
    "\n",
    "os_data_X, os_data_y = os.fit_sample(X_train, y_train)\n",
    "os_data_X = pd.DataFrame(data=os_data_X, columns=columns)\n",
    "os_data_y = pd.DataFrame(data=os_data_y, columns=[\"default\"])\n",
    "\n",
    "logit_model = sm.Logit(os_data_y, os_data_X)\n",
    "result3 = logit_model.fit()\n",
    "print(result3.summary2())"
   ]
  },
  {
   "cell_type": "markdown",
   "metadata": {},
   "source": [
    "### Model Iteration: 4 - excl. Cr. History due to insignificance and inverse trend"
   ]
  },
  {
   "cell_type": "code",
   "execution_count": 92,
   "metadata": {},
   "outputs": [
    {
     "name": "stdout",
     "output_type": "stream",
     "text": [
      "Optimization terminated successfully.\n",
      "         Current function value: 0.682313\n",
      "         Iterations 10\n",
      "                                Results: Logit\n",
      "==============================================================================\n",
      "Model:                   Logit                Pseudo R-squared:     0.016     \n",
      "Dependent Variable:      default              AIC:                  95456.4454\n",
      "Date:                    2020-05-30 23:58     BIC:                  95547.9987\n",
      "No. Observations:        69936                Log-Likelihood:       -47718.   \n",
      "Df Model:                9                    LL-Null:              -48476.   \n",
      "Df Residuals:            69926                LLR p-value:          0.0000    \n",
      "Converged:               1.0000               Scale:                1.0000    \n",
      "No. Iterations:          10.0000                                              \n",
      "------------------------------------------------------------------------------\n",
      "                               Coef.  Std.Err.    z     P>|z|   [0.025  0.975]\n",
      "------------------------------------------------------------------------------\n",
      "Good                          -0.3243   0.0210 -15.4406 0.0000 -0.3654 -0.2831\n",
      "Very Good                     -0.6333   0.0258 -24.5465 0.0000 -0.6838 -0.5827\n",
      "DTI 2: between 10 and 20%      0.3028   0.0203  14.9388 0.0000  0.2630  0.3425\n",
      "DTI 3: between 20 and 30%      0.5617   0.0219  25.6779 0.0000  0.5188  0.6046\n",
      "DTI 4: >30%                    0.7400   0.0327  22.6153 0.0000  0.6759  0.8042\n",
      "Purpose 3: Debt Consolidation -0.0146   0.0224  -0.6528 0.5139 -0.0585  0.0293\n",
      "Purpose 4: Home                0.0020   0.0098   0.2067 0.8362 -0.0172  0.0212\n",
      "Purpose 5: Car                 0.0086   0.0120   0.7113 0.4769 -0.0150  0.0322\n",
      "Purpose 6: Other              -0.0441   0.0296  -1.4911 0.1359 -0.1021  0.0139\n",
      "Tax Liens 2: >0                0.1291   0.0460   2.8083 0.0050  0.0390  0.2191\n",
      "==============================================================================\n",
      "\n"
     ]
    },
    {
     "data": {
      "application/javascript": [
       "\n",
       "            setTimeout(function() {\n",
       "                var nbb_cell_id = 92;\n",
       "                var nbb_unformatted_code = \"data_modelling2 = data_modelling[\\n    [\\n        \\\"default\\\",\\n        \\\"Good\\\",\\n        \\\"Very Good\\\",\\n        \\\"DTI 2: between 10 and 20%\\\",\\n        \\\"DTI 3: between 20 and 30%\\\",\\n        \\\"DTI 4: >30%\\\",\\n        \\\"Purpose 3: Debt Consolidation\\\",\\n        \\\"Purpose 4: Home\\\",\\n        \\\"Purpose 5: Car\\\",\\n        \\\"Purpose 6: Other\\\",\\n        \\\"Tax Liens 2: >0\\\",\\n    ]\\n]\\n\\nX = data_modelling2.loc[:, data_modelling2.columns != \\\"default\\\"]\\ny = data_modelling2.loc[:, data_modelling2.columns == \\\"default\\\"]\\n\\nos = SMOTE(random_state=0)\\nX_train, X_test, y_train, y_test = train_test_split(X, y, test_size=0.3, random_state=0)\\ncolumns = X_train.columns\\n\\nos_data_X, os_data_y = os.fit_sample(X_train, y_train)\\nos_data_X = pd.DataFrame(data=os_data_X, columns=columns)\\nos_data_y = pd.DataFrame(data=os_data_y, columns=[\\\"default\\\"])\\n\\nlogit_model = sm.Logit(os_data_y, os_data_X)\\nresult3 = logit_model.fit()\\nprint(result3.summary2())\";\n",
       "                var nbb_formatted_code = \"data_modelling2 = data_modelling[\\n    [\\n        \\\"default\\\",\\n        \\\"Good\\\",\\n        \\\"Very Good\\\",\\n        \\\"DTI 2: between 10 and 20%\\\",\\n        \\\"DTI 3: between 20 and 30%\\\",\\n        \\\"DTI 4: >30%\\\",\\n        \\\"Purpose 3: Debt Consolidation\\\",\\n        \\\"Purpose 4: Home\\\",\\n        \\\"Purpose 5: Car\\\",\\n        \\\"Purpose 6: Other\\\",\\n        \\\"Tax Liens 2: >0\\\",\\n    ]\\n]\\n\\nX = data_modelling2.loc[:, data_modelling2.columns != \\\"default\\\"]\\ny = data_modelling2.loc[:, data_modelling2.columns == \\\"default\\\"]\\n\\nos = SMOTE(random_state=0)\\nX_train, X_test, y_train, y_test = train_test_split(X, y, test_size=0.3, random_state=0)\\ncolumns = X_train.columns\\n\\nos_data_X, os_data_y = os.fit_sample(X_train, y_train)\\nos_data_X = pd.DataFrame(data=os_data_X, columns=columns)\\nos_data_y = pd.DataFrame(data=os_data_y, columns=[\\\"default\\\"])\\n\\nlogit_model = sm.Logit(os_data_y, os_data_X)\\nresult3 = logit_model.fit()\\nprint(result3.summary2())\";\n",
       "                var nbb_cells = Jupyter.notebook.get_cells();\n",
       "                for (var i = 0; i < nbb_cells.length; ++i) {\n",
       "                    if (nbb_cells[i].input_prompt_number == nbb_cell_id) {\n",
       "                        if (nbb_cells[i].get_text() == nbb_unformatted_code) {\n",
       "                             nbb_cells[i].set_text(nbb_formatted_code);\n",
       "                        }\n",
       "                        break;\n",
       "                    }\n",
       "                }\n",
       "            }, 500);\n",
       "            "
      ],
      "text/plain": [
       "<IPython.core.display.Javascript object>"
      ]
     },
     "metadata": {},
     "output_type": "display_data"
    }
   ],
   "source": [
    "data_modelling2 = data_modelling[\n",
    "    [\n",
    "        \"default\",\n",
    "        \"Good\",\n",
    "        \"Very Good\",\n",
    "        \"DTI 2: between 10 and 20%\",\n",
    "        \"DTI 3: between 20 and 30%\",\n",
    "        \"DTI 4: >30%\",\n",
    "        \"Purpose 3: Debt Consolidation\",\n",
    "        \"Purpose 4: Home\",\n",
    "        \"Purpose 5: Car\",\n",
    "        \"Purpose 6: Other\",\n",
    "        \"Tax Liens 2: >0\",\n",
    "    ]\n",
    "]\n",
    "\n",
    "X = data_modelling2.loc[:, data_modelling2.columns != \"default\"]\n",
    "y = data_modelling2.loc[:, data_modelling2.columns == \"default\"]\n",
    "\n",
    "os = SMOTE(random_state=0)\n",
    "X_train, X_test, y_train, y_test = train_test_split(X, y, test_size=0.3, random_state=0)\n",
    "columns = X_train.columns\n",
    "\n",
    "os_data_X, os_data_y = os.fit_sample(X_train, y_train)\n",
    "os_data_X = pd.DataFrame(data=os_data_X, columns=columns)\n",
    "os_data_y = pd.DataFrame(data=os_data_y, columns=[\"default\"])\n",
    "\n",
    "logit_model = sm.Logit(os_data_y, os_data_X)\n",
    "result3 = logit_model.fit()\n",
    "print(result3.summary2())"
   ]
  },
  {
   "cell_type": "markdown",
   "metadata": {},
   "source": [
    "### Model Iteration: 5 - excl. Purpose variables due to insignificance and inverse trend"
   ]
  },
  {
   "cell_type": "code",
   "execution_count": 93,
   "metadata": {},
   "outputs": [
    {
     "name": "stdout",
     "output_type": "stream",
     "text": [
      "Optimization terminated successfully.\n",
      "         Current function value: 0.680486\n",
      "         Iterations 7\n",
      "                              Results: Logit\n",
      "==========================================================================\n",
      "Model:                 Logit               Pseudo R-squared:    0.018     \n",
      "Dependent Variable:    default             AIC:                 95193.0076\n",
      "Date:                  2020-05-30 23:58    BIC:                 95247.9396\n",
      "No. Observations:      69936               Log-Likelihood:      -47591.   \n",
      "Df Model:              5                   LL-Null:             -48476.   \n",
      "Df Residuals:          69930               LLR p-value:         0.0000    \n",
      "Converged:             1.0000              Scale:               1.0000    \n",
      "No. Iterations:        7.0000                                             \n",
      "--------------------------------------------------------------------------\n",
      "                           Coef.  Std.Err.    z     P>|z|   [0.025  0.975]\n",
      "--------------------------------------------------------------------------\n",
      "Good                      -0.3806   0.0167 -22.7767 0.0000 -0.4133 -0.3478\n",
      "Very Good                 -0.7601   0.0223 -34.1096 0.0000 -0.8038 -0.7164\n",
      "DTI 2: between 10 and 20%  0.3523   0.0187  18.8746 0.0000  0.3157  0.3888\n",
      "DTI 3: between 20 and 30%  0.6087   0.0200  30.4588 0.0000  0.5695  0.6478\n",
      "DTI 4: >30%                0.7813   0.0313  24.9926 0.0000  0.7200  0.8426\n",
      "Tax Liens 2: >0            0.1684   0.0545   3.0887 0.0020  0.0616  0.2753\n",
      "==========================================================================\n",
      "\n"
     ]
    },
    {
     "data": {
      "application/javascript": [
       "\n",
       "            setTimeout(function() {\n",
       "                var nbb_cell_id = 93;\n",
       "                var nbb_unformatted_code = \"data_modelling2 = data_modelling[\\n    [\\n        \\\"default\\\",\\n        \\\"Good\\\",\\n        \\\"Very Good\\\",\\n        \\\"DTI 2: between 10 and 20%\\\",\\n        \\\"DTI 3: between 20 and 30%\\\",\\n        \\\"DTI 4: >30%\\\",\\n        \\\"Tax Liens 2: >0\\\",\\n    ]\\n]\\n\\nX = data_modelling2.loc[:, data_modelling2.columns != \\\"default\\\"]\\ny = data_modelling2.loc[:, data_modelling2.columns == \\\"default\\\"]\\n\\nos = SMOTE(random_state=0)\\nX_train, X_test, y_train, y_test = train_test_split(X, y, test_size=0.3, random_state=0)\\ncolumns = X_train.columns\\n\\nos_data_X, os_data_y = os.fit_sample(X_train, y_train)\\nos_data_X = pd.DataFrame(data=os_data_X, columns=columns)\\nos_data_y = pd.DataFrame(data=os_data_y, columns=[\\\"default\\\"])\\n\\nos_test_X, os_test_y = os.fit_sample(X_test, y_test)\\nos_test_X = pd.DataFrame(data=os_test_X, columns=columns)\\nos_test_y = pd.DataFrame(data=os_test_y, columns=[\\\"default\\\"])\\n\\nlogit_model = sm.Logit(os_data_y, os_data_X)\\nresult3 = logit_model.fit()\\nprint(result3.summary2())\";\n",
       "                var nbb_formatted_code = \"data_modelling2 = data_modelling[\\n    [\\n        \\\"default\\\",\\n        \\\"Good\\\",\\n        \\\"Very Good\\\",\\n        \\\"DTI 2: between 10 and 20%\\\",\\n        \\\"DTI 3: between 20 and 30%\\\",\\n        \\\"DTI 4: >30%\\\",\\n        \\\"Tax Liens 2: >0\\\",\\n    ]\\n]\\n\\nX = data_modelling2.loc[:, data_modelling2.columns != \\\"default\\\"]\\ny = data_modelling2.loc[:, data_modelling2.columns == \\\"default\\\"]\\n\\nos = SMOTE(random_state=0)\\nX_train, X_test, y_train, y_test = train_test_split(X, y, test_size=0.3, random_state=0)\\ncolumns = X_train.columns\\n\\nos_data_X, os_data_y = os.fit_sample(X_train, y_train)\\nos_data_X = pd.DataFrame(data=os_data_X, columns=columns)\\nos_data_y = pd.DataFrame(data=os_data_y, columns=[\\\"default\\\"])\\n\\nos_test_X, os_test_y = os.fit_sample(X_test, y_test)\\nos_test_X = pd.DataFrame(data=os_test_X, columns=columns)\\nos_test_y = pd.DataFrame(data=os_test_y, columns=[\\\"default\\\"])\\n\\nlogit_model = sm.Logit(os_data_y, os_data_X)\\nresult3 = logit_model.fit()\\nprint(result3.summary2())\";\n",
       "                var nbb_cells = Jupyter.notebook.get_cells();\n",
       "                for (var i = 0; i < nbb_cells.length; ++i) {\n",
       "                    if (nbb_cells[i].input_prompt_number == nbb_cell_id) {\n",
       "                        if (nbb_cells[i].get_text() == nbb_unformatted_code) {\n",
       "                             nbb_cells[i].set_text(nbb_formatted_code);\n",
       "                        }\n",
       "                        break;\n",
       "                    }\n",
       "                }\n",
       "            }, 500);\n",
       "            "
      ],
      "text/plain": [
       "<IPython.core.display.Javascript object>"
      ]
     },
     "metadata": {},
     "output_type": "display_data"
    }
   ],
   "source": [
    "data_modelling2 = data_modelling[\n",
    "    [\n",
    "        \"default\",\n",
    "        \"Good\",\n",
    "        \"Very Good\",\n",
    "        \"DTI 2: between 10 and 20%\",\n",
    "        \"DTI 3: between 20 and 30%\",\n",
    "        \"DTI 4: >30%\",\n",
    "        \"Tax Liens 2: >0\",\n",
    "    ]\n",
    "]\n",
    "\n",
    "X = data_modelling2.loc[:, data_modelling2.columns != \"default\"]\n",
    "y = data_modelling2.loc[:, data_modelling2.columns == \"default\"]\n",
    "\n",
    "os = SMOTE(random_state=0)\n",
    "X_train, X_test, y_train, y_test = train_test_split(X, y, test_size=0.3, random_state=0)\n",
    "columns = X_train.columns\n",
    "\n",
    "os_data_X, os_data_y = os.fit_sample(X_train, y_train)\n",
    "os_data_X = pd.DataFrame(data=os_data_X, columns=columns)\n",
    "os_data_y = pd.DataFrame(data=os_data_y, columns=[\"default\"])\n",
    "\n",
    "os_test_X, os_test_y = os.fit_sample(X_test, y_test)\n",
    "os_test_X = pd.DataFrame(data=os_test_X, columns=columns)\n",
    "os_test_y = pd.DataFrame(data=os_test_y, columns=[\"default\"])\n",
    "\n",
    "logit_model = sm.Logit(os_data_y, os_data_X)\n",
    "result3 = logit_model.fit()\n",
    "print(result3.summary2())"
   ]
  },
  {
   "cell_type": "markdown",
   "metadata": {},
   "source": [
    "*Interpretation of the coefficients:*\n",
    "The higher the value of the coefficient means the bucket contributes more to default status\n",
    "The results are logical. Very good credit scores are less likely to default than good scores; higher Debt-to-income ratios are more likely to default than lower ones. "
   ]
  },
  {
   "cell_type": "markdown",
   "metadata": {},
   "source": [
    "#### Residuals"
   ]
  },
  {
   "cell_type": "markdown",
   "metadata": {},
   "source": [
    "If the fitted logistic regression model is true, we would expect to see most of the residuals falling within ± 3. In our case this is true."
   ]
  },
  {
   "cell_type": "code",
   "execution_count": 94,
   "metadata": {},
   "outputs": [
    {
     "name": "stderr",
     "output_type": "stream",
     "text": [
      "C:\\Users\\Asus\\.conda\\envs\\py37\\lib\\site-packages\\statsmodels\\discrete\\discrete_model.py:3966: RuntimeWarning: invalid value encountered in true_divide\n",
      "  return (endog - M*p)/np.sqrt(M*p*(1-p))\n",
      "C:\\Users\\Asus\\.conda\\envs\\py37\\lib\\site-packages\\numpy\\lib\\histograms.py:824: RuntimeWarning: invalid value encountered in greater_equal\n",
      "  keep = (tmp_a >= first_edge)\n",
      "C:\\Users\\Asus\\.conda\\envs\\py37\\lib\\site-packages\\numpy\\lib\\histograms.py:825: RuntimeWarning: invalid value encountered in less_equal\n",
      "  keep &= (tmp_a <= last_edge)\n"
     ]
    },
    {
     "data": {
      "text/plain": [
       "Text(0.5, 0, 'Normalized residuals')"
      ]
     },
     "execution_count": 94,
     "metadata": {},
     "output_type": "execute_result"
    },
    {
     "data": {
      "image/png": "[encoded data removed]",
      "text/plain": [
       "<Figure size 432x288 with 1 Axes>"
      ]
     },
     "metadata": {
      "needs_background": "light"
     },
     "output_type": "display_data"
    },
    {
     "data": {
      "application/javascript": [
       "\n",
       "            setTimeout(function() {\n",
       "                var nbb_cell_id = 94;\n",
       "                var nbb_unformatted_code = \"plt.hist(result3.resid_pearson)\\nplt.ylabel(\\\"Count\\\")\\nplt.xlabel(\\\"Normalized residuals\\\")\";\n",
       "                var nbb_formatted_code = \"plt.hist(result3.resid_pearson)\\nplt.ylabel(\\\"Count\\\")\\nplt.xlabel(\\\"Normalized residuals\\\")\";\n",
       "                var nbb_cells = Jupyter.notebook.get_cells();\n",
       "                for (var i = 0; i < nbb_cells.length; ++i) {\n",
       "                    if (nbb_cells[i].input_prompt_number == nbb_cell_id) {\n",
       "                        if (nbb_cells[i].get_text() == nbb_unformatted_code) {\n",
       "                             nbb_cells[i].set_text(nbb_formatted_code);\n",
       "                        }\n",
       "                        break;\n",
       "                    }\n",
       "                }\n",
       "            }, 500);\n",
       "            "
      ],
      "text/plain": [
       "<IPython.core.display.Javascript object>"
      ]
     },
     "metadata": {},
     "output_type": "display_data"
    }
   ],
   "source": [
    "plt.hist(result3.resid_pearson)\n",
    "plt.ylabel(\"Count\")\n",
    "plt.xlabel(\"Normalized residuals\")"
   ]
  },
  {
   "cell_type": "markdown",
   "metadata": {},
   "source": [
    "## Logistic Regression"
   ]
  },
  {
   "cell_type": "code",
   "execution_count": 95,
   "metadata": {},
   "outputs": [
    {
     "name": "stderr",
     "output_type": "stream",
     "text": [
      "C:\\Users\\Asus\\.conda\\envs\\py37\\lib\\site-packages\\sklearn\\utils\\validation.py:73: DataConversionWarning: A column-vector y was passed when a 1d array was expected. Please change the shape of y to (n_samples, ), for example using ravel().\n",
      "  return f(**kwargs)\n"
     ]
    },
    {
     "name": "stdout",
     "output_type": "stream",
     "text": [
      "Accuracy of logistic regression classifier on test set: 0.55972\n"
     ]
    },
    {
     "data": {
      "image/png": "[encoded data removed]",
      "text/plain": [
       "<Figure size 432x288 with 1 Axes>"
      ]
     },
     "metadata": {
      "needs_background": "light"
     },
     "output_type": "display_data"
    },
    {
     "data": {
      "application/javascript": [
       "\n",
       "            setTimeout(function() {\n",
       "                var nbb_cell_id = 95;\n",
       "                var nbb_unformatted_code = \"logreg = LogisticRegression()\\nlogreg.fit(os_data_X, os_data_y)\\ny_pred = logreg.predict(os_test_X)\\nprint(\\n    \\\"Accuracy of logistic regression classifier on test set: {:.5f}\\\".format(\\n        logreg.score(os_test_X, os_test_y)\\n    )\\n)\\nlogit_roc_auc = roc_auc_score(os_test_y, logreg.predict(os_test_X))\\nfpr, tpr, thresholds = roc_curve(os_test_y, logreg.predict_proba(os_test_X)[:, 1])\\nplt.figure()\\nplt.plot(fpr, tpr, label=\\\"Logistic Regression (area = %0.2f)\\\" % logit_roc_auc)\\nplt.plot([0, 1], [0, 1], \\\"r--\\\")\\nplt.xlim([0.0, 1.0])\\nplt.ylim([0.0, 1.05])\\nplt.xlabel(\\\"False Positive Rate\\\")\\nplt.ylabel(\\\"True Positive Rate\\\")\\nplt.title(\\\"Receiver operating characteristic\\\")\\nplt.legend(loc=\\\"lower right\\\")\\nplt.savefig(\\\"Log_ROC\\\")\\nplt.show()\";\n",
       "                var nbb_formatted_code = \"logreg = LogisticRegression()\\nlogreg.fit(os_data_X, os_data_y)\\ny_pred = logreg.predict(os_test_X)\\nprint(\\n    \\\"Accuracy of logistic regression classifier on test set: {:.5f}\\\".format(\\n        logreg.score(os_test_X, os_test_y)\\n    )\\n)\\nlogit_roc_auc = roc_auc_score(os_test_y, logreg.predict(os_test_X))\\nfpr, tpr, thresholds = roc_curve(os_test_y, logreg.predict_proba(os_test_X)[:, 1])\\nplt.figure()\\nplt.plot(fpr, tpr, label=\\\"Logistic Regression (area = %0.2f)\\\" % logit_roc_auc)\\nplt.plot([0, 1], [0, 1], \\\"r--\\\")\\nplt.xlim([0.0, 1.0])\\nplt.ylim([0.0, 1.05])\\nplt.xlabel(\\\"False Positive Rate\\\")\\nplt.ylabel(\\\"True Positive Rate\\\")\\nplt.title(\\\"Receiver operating characteristic\\\")\\nplt.legend(loc=\\\"lower right\\\")\\nplt.savefig(\\\"Log_ROC\\\")\\nplt.show()\";\n",
       "                var nbb_cells = Jupyter.notebook.get_cells();\n",
       "                for (var i = 0; i < nbb_cells.length; ++i) {\n",
       "                    if (nbb_cells[i].input_prompt_number == nbb_cell_id) {\n",
       "                        if (nbb_cells[i].get_text() == nbb_unformatted_code) {\n",
       "                             nbb_cells[i].set_text(nbb_formatted_code);\n",
       "                        }\n",
       "                        break;\n",
       "                    }\n",
       "                }\n",
       "            }, 500);\n",
       "            "
      ],
      "text/plain": [
       "<IPython.core.display.Javascript object>"
      ]
     },
     "metadata": {},
     "output_type": "display_data"
    }
   ],
   "source": [
    "logreg = LogisticRegression()\n",
    "logreg.fit(os_data_X, os_data_y)\n",
    "y_pred = logreg.predict(os_test_X)\n",
    "print(\n",
    "    \"Accuracy of logistic regression classifier on test set: {:.5f}\".format(\n",
    "        logreg.score(os_test_X, os_test_y)\n",
    "    )\n",
    ")\n",
    "logit_roc_auc = roc_auc_score(os_test_y, logreg.predict(os_test_X))\n",
    "fpr, tpr, thresholds = roc_curve(os_test_y, logreg.predict_proba(os_test_X)[:, 1])\n",
    "plt.figure()\n",
    "plt.plot(fpr, tpr, label=\"Logistic Regression (area = %0.2f)\" % logit_roc_auc)\n",
    "plt.plot([0, 1], [0, 1], \"r--\")\n",
    "plt.xlim([0.0, 1.0])\n",
    "plt.ylim([0.0, 1.05])\n",
    "plt.xlabel(\"False Positive Rate\")\n",
    "plt.ylabel(\"True Positive Rate\")\n",
    "plt.title(\"Receiver operating characteristic\")\n",
    "plt.legend(loc=\"lower right\")\n",
    "plt.savefig(\"Log_ROC\")\n",
    "plt.show()"
   ]
  },
  {
   "cell_type": "markdown",
   "metadata": {},
   "source": [
    "## KNN"
   ]
  },
  {
   "cell_type": "code",
   "execution_count": 96,
   "metadata": {},
   "outputs": [
    {
     "name": "stderr",
     "output_type": "stream",
     "text": [
      "C:\\Users\\Asus\\.conda\\envs\\py37\\lib\\site-packages\\ipykernel_launcher.py:2: DataConversionWarning: A column-vector y was passed when a 1d array was expected. Please change the shape of y to (n_samples, ), for example using ravel().\n",
      "  \n"
     ]
    },
    {
     "name": "stdout",
     "output_type": "stream",
     "text": [
      "Accuracy Score:  0.5143722137201411\n"
     ]
    },
    {
     "data": {
      "application/javascript": [
       "\n",
       "            setTimeout(function() {\n",
       "                var nbb_cell_id = 96;\n",
       "                var nbb_unformatted_code = \"knnclassifier = KNeighborsClassifier(n_neighbors=int(X.shape[1] / 2))\\nknnclassifier.fit(os_data_X, os_data_y)\\nprediction = knnclassifier.predict(os_test_X)\\nprint(\\\"Accuracy Score: \\\", accuracy_score(os_test_y, prediction))\";\n",
       "                var nbb_formatted_code = \"knnclassifier = KNeighborsClassifier(n_neighbors=int(X.shape[1] / 2))\\nknnclassifier.fit(os_data_X, os_data_y)\\nprediction = knnclassifier.predict(os_test_X)\\nprint(\\\"Accuracy Score: \\\", accuracy_score(os_test_y, prediction))\";\n",
       "                var nbb_cells = Jupyter.notebook.get_cells();\n",
       "                for (var i = 0; i < nbb_cells.length; ++i) {\n",
       "                    if (nbb_cells[i].input_prompt_number == nbb_cell_id) {\n",
       "                        if (nbb_cells[i].get_text() == nbb_unformatted_code) {\n",
       "                             nbb_cells[i].set_text(nbb_formatted_code);\n",
       "                        }\n",
       "                        break;\n",
       "                    }\n",
       "                }\n",
       "            }, 500);\n",
       "            "
      ],
      "text/plain": [
       "<IPython.core.display.Javascript object>"
      ]
     },
     "metadata": {},
     "output_type": "display_data"
    }
   ],
   "source": [
    "knnclassifier = KNeighborsClassifier(n_neighbors=int(X.shape[1] / 2))\n",
    "knnclassifier.fit(os_data_X, os_data_y)\n",
    "prediction = knnclassifier.predict(os_test_X)\n",
    "print(\"Accuracy Score: \", accuracy_score(os_test_y, prediction))"
   ]
  },
  {
   "cell_type": "markdown",
   "metadata": {},
   "source": [
    "## SVC"
   ]
  },
  {
   "cell_type": "code",
   "execution_count": 97,
   "metadata": {},
   "outputs": [
    {
     "name": "stderr",
     "output_type": "stream",
     "text": [
      "C:\\Users\\Asus\\.conda\\envs\\py37\\lib\\site-packages\\sklearn\\utils\\validation.py:73: DataConversionWarning: A column-vector y was passed when a 1d array was expected. Please change the shape of y to (n_samples, ), for example using ravel().\n",
      "  return f(**kwargs)\n"
     ]
    },
    {
     "name": "stdout",
     "output_type": "stream",
     "text": [
      "Accuracy Score:  0.5401224299687272\n"
     ]
    },
    {
     "data": {
      "application/javascript": [
       "\n",
       "            setTimeout(function() {\n",
       "                var nbb_cell_id = 97;\n",
       "                var nbb_unformatted_code = \"clf = SVC(gamma=\\\"auto\\\", kernel=\\\"linear\\\")\\nclf.fit(os_data_X, os_data_y)\\npred = clf.predict(os_test_X)\\nprint(\\\"Accuracy Score: \\\", accuracy_score(os_test_y, pred))\";\n",
       "                var nbb_formatted_code = \"clf = SVC(gamma=\\\"auto\\\", kernel=\\\"linear\\\")\\nclf.fit(os_data_X, os_data_y)\\npred = clf.predict(os_test_X)\\nprint(\\\"Accuracy Score: \\\", accuracy_score(os_test_y, pred))\";\n",
       "                var nbb_cells = Jupyter.notebook.get_cells();\n",
       "                for (var i = 0; i < nbb_cells.length; ++i) {\n",
       "                    if (nbb_cells[i].input_prompt_number == nbb_cell_id) {\n",
       "                        if (nbb_cells[i].get_text() == nbb_unformatted_code) {\n",
       "                             nbb_cells[i].set_text(nbb_formatted_code);\n",
       "                        }\n",
       "                        break;\n",
       "                    }\n",
       "                }\n",
       "            }, 500);\n",
       "            "
      ],
      "text/plain": [
       "<IPython.core.display.Javascript object>"
      ]
     },
     "metadata": {},
     "output_type": "display_data"
    }
   ],
   "source": [
    "clf = SVC(gamma=\"auto\", kernel=\"linear\")\n",
    "clf.fit(os_data_X, os_data_y)\n",
    "pred = clf.predict(os_test_X)\n",
    "print(\"Accuracy Score: \", accuracy_score(os_test_y, pred))"
   ]
  },
  {
   "cell_type": "markdown",
   "metadata": {},
   "source": [
    "## Decision Tree Classifier"
   ]
  },
  {
   "cell_type": "code",
   "execution_count": 98,
   "metadata": {},
   "outputs": [
    {
     "name": "stdout",
     "output_type": "stream",
     "text": [
      "Accuracy Score:  0.5596846097544746\n"
     ]
    },
    {
     "data": {
      "application/javascript": [
       "\n",
       "            setTimeout(function() {\n",
       "                var nbb_cell_id = 98;\n",
       "                var nbb_unformatted_code = \"tree = DecisionTreeClassifier()\\ntree.fit(os_data_X, os_data_y)\\npred = tree.predict(os_test_X)\\nprint(\\\"Accuracy Score: \\\", accuracy_score(os_test_y, pred))\";\n",
       "                var nbb_formatted_code = \"tree = DecisionTreeClassifier()\\ntree.fit(os_data_X, os_data_y)\\npred = tree.predict(os_test_X)\\nprint(\\\"Accuracy Score: \\\", accuracy_score(os_test_y, pred))\";\n",
       "                var nbb_cells = Jupyter.notebook.get_cells();\n",
       "                for (var i = 0; i < nbb_cells.length; ++i) {\n",
       "                    if (nbb_cells[i].input_prompt_number == nbb_cell_id) {\n",
       "                        if (nbb_cells[i].get_text() == nbb_unformatted_code) {\n",
       "                             nbb_cells[i].set_text(nbb_formatted_code);\n",
       "                        }\n",
       "                        break;\n",
       "                    }\n",
       "                }\n",
       "            }, 500);\n",
       "            "
      ],
      "text/plain": [
       "<IPython.core.display.Javascript object>"
      ]
     },
     "metadata": {},
     "output_type": "display_data"
    }
   ],
   "source": [
    "tree = DecisionTreeClassifier()\n",
    "tree.fit(os_data_X, os_data_y)\n",
    "pred = tree.predict(os_test_X)\n",
    "print(\"Accuracy Score: \", accuracy_score(os_test_y, pred))"
   ]
  },
  {
   "cell_type": "markdown",
   "metadata": {},
   "source": [
    "## Random Forest Classifier"
   ]
  },
  {
   "cell_type": "code",
   "execution_count": 99,
   "metadata": {},
   "outputs": [
    {
     "name": "stderr",
     "output_type": "stream",
     "text": [
      "C:\\Users\\Asus\\.conda\\envs\\py37\\lib\\site-packages\\ipykernel_launcher.py:3: DataConversionWarning: A column-vector y was passed when a 1d array was expected. Please change the shape of y to (n_samples,), for example using ravel().\n",
      "  This is separate from the ipykernel package so we can avoid doing imports until\n"
     ]
    },
    {
     "name": "stdout",
     "output_type": "stream",
     "text": [
      "Accuracy Score:  0.5597844167941979\n"
     ]
    },
    {
     "data": {
      "application/javascript": [
       "\n",
       "            setTimeout(function() {\n",
       "                var nbb_cell_id = 99;\n",
       "                var nbb_unformatted_code = \"# 1000 decision trees\\nrf = RandomForestClassifier(n_estimators=1000, random_state=42)\\nrf.fit(os_data_X, os_data_y)\\npred = rf.predict(os_test_X)\\nprint(\\\"Accuracy Score: \\\", accuracy_score(os_test_y, pred))\";\n",
       "                var nbb_formatted_code = \"# 1000 decision trees\\nrf = RandomForestClassifier(n_estimators=1000, random_state=42)\\nrf.fit(os_data_X, os_data_y)\\npred = rf.predict(os_test_X)\\nprint(\\\"Accuracy Score: \\\", accuracy_score(os_test_y, pred))\";\n",
       "                var nbb_cells = Jupyter.notebook.get_cells();\n",
       "                for (var i = 0; i < nbb_cells.length; ++i) {\n",
       "                    if (nbb_cells[i].input_prompt_number == nbb_cell_id) {\n",
       "                        if (nbb_cells[i].get_text() == nbb_unformatted_code) {\n",
       "                             nbb_cells[i].set_text(nbb_formatted_code);\n",
       "                        }\n",
       "                        break;\n",
       "                    }\n",
       "                }\n",
       "            }, 500);\n",
       "            "
      ],
      "text/plain": [
       "<IPython.core.display.Javascript object>"
      ]
     },
     "metadata": {},
     "output_type": "display_data"
    }
   ],
   "source": [
    "# 1000 decision trees\n",
    "rf = RandomForestClassifier(n_estimators=1000, random_state=42)\n",
    "rf.fit(os_data_X, os_data_y)\n",
    "pred = rf.predict(os_test_X)\n",
    "print(\"Accuracy Score: \", accuracy_score(os_test_y, pred))"
   ]
  },
  {
   "cell_type": "markdown",
   "metadata": {},
   "source": [
    "## Fitting the final model also with Imbalanced data for comparison"
   ]
  },
  {
   "cell_type": "code",
   "execution_count": 100,
   "metadata": {},
   "outputs": [
    {
     "data": {
      "application/javascript": [
       "\n",
       "            setTimeout(function() {\n",
       "                var nbb_cell_id = 100;\n",
       "                var nbb_unformatted_code = \"data_modelling2 = data_modelling[\\n    [\\n        \\\"default\\\",\\n        \\\"Good\\\",\\n        \\\"Very Good\\\",\\n        \\\"DTI 2: between 10 and 20%\\\",\\n        \\\"DTI 3: between 20 and 30%\\\",\\n        \\\"DTI 4: >30%\\\",\\n        \\\"Tax Liens 2: >0\\\",\\n    ]\\n]\\n\\nX = data_modelling2.loc[:, data_modelling2.columns != \\\"default\\\"]\\ny = data_modelling2.loc[:, data_modelling2.columns == \\\"default\\\"]\\n\\nos_data_X, os_test_X, os_data_y, os_test_y = train_test_split(\\n    X, y, test_size=0.3, random_state=0\\n)\";\n",
       "                var nbb_formatted_code = \"data_modelling2 = data_modelling[\\n    [\\n        \\\"default\\\",\\n        \\\"Good\\\",\\n        \\\"Very Good\\\",\\n        \\\"DTI 2: between 10 and 20%\\\",\\n        \\\"DTI 3: between 20 and 30%\\\",\\n        \\\"DTI 4: >30%\\\",\\n        \\\"Tax Liens 2: >0\\\",\\n    ]\\n]\\n\\nX = data_modelling2.loc[:, data_modelling2.columns != \\\"default\\\"]\\ny = data_modelling2.loc[:, data_modelling2.columns == \\\"default\\\"]\\n\\nos_data_X, os_test_X, os_data_y, os_test_y = train_test_split(\\n    X, y, test_size=0.3, random_state=0\\n)\";\n",
       "                var nbb_cells = Jupyter.notebook.get_cells();\n",
       "                for (var i = 0; i < nbb_cells.length; ++i) {\n",
       "                    if (nbb_cells[i].input_prompt_number == nbb_cell_id) {\n",
       "                        if (nbb_cells[i].get_text() == nbb_unformatted_code) {\n",
       "                             nbb_cells[i].set_text(nbb_formatted_code);\n",
       "                        }\n",
       "                        break;\n",
       "                    }\n",
       "                }\n",
       "            }, 500);\n",
       "            "
      ],
      "text/plain": [
       "<IPython.core.display.Javascript object>"
      ]
     },
     "metadata": {},
     "output_type": "display_data"
    }
   ],
   "source": [
    "data_modelling2 = data_modelling[\n",
    "    [\n",
    "        \"default\",\n",
    "        \"Good\",\n",
    "        \"Very Good\",\n",
    "        \"DTI 2: between 10 and 20%\",\n",
    "        \"DTI 3: between 20 and 30%\",\n",
    "        \"DTI 4: >30%\",\n",
    "        \"Tax Liens 2: >0\",\n",
    "    ]\n",
    "]\n",
    "\n",
    "X = data_modelling2.loc[:, data_modelling2.columns != \"default\"]\n",
    "y = data_modelling2.loc[:, data_modelling2.columns == \"default\"]\n",
    "\n",
    "os_data_X, os_test_X, os_data_y, os_test_y = train_test_split(\n",
    "    X, y, test_size=0.3, random_state=0\n",
    ")"
   ]
  },
  {
   "cell_type": "code",
   "execution_count": 101,
   "metadata": {},
   "outputs": [
    {
     "name": "stdout",
     "output_type": "stream",
     "text": [
      "Accuracy of logistic regression classifier on test set: 0.75675\n"
     ]
    },
    {
     "name": "stderr",
     "output_type": "stream",
     "text": [
      "C:\\Users\\Asus\\.conda\\envs\\py37\\lib\\site-packages\\sklearn\\utils\\validation.py:73: DataConversionWarning: A column-vector y was passed when a 1d array was expected. Please change the shape of y to (n_samples, ), for example using ravel().\n",
      "  return f(**kwargs)\n",
      "C:\\Users\\Asus\\.conda\\envs\\py37\\lib\\site-packages\\ipykernel_launcher.py:13: DataConversionWarning: A column-vector y was passed when a 1d array was expected. Please change the shape of y to (n_samples, ), for example using ravel().\n",
      "  del sys.path[0]\n"
     ]
    },
    {
     "name": "stdout",
     "output_type": "stream",
     "text": [
      "Accuracy Score KNN:  0.7476837865055388\n"
     ]
    },
    {
     "name": "stderr",
     "output_type": "stream",
     "text": [
      "C:\\Users\\Asus\\.conda\\envs\\py37\\lib\\site-packages\\sklearn\\utils\\validation.py:73: DataConversionWarning: A column-vector y was passed when a 1d array was expected. Please change the shape of y to (n_samples, ), for example using ravel().\n",
      "  return f(**kwargs)\n"
     ]
    },
    {
     "name": "stdout",
     "output_type": "stream",
     "text": [
      "Accuracy Score:  0.7567472306143\n",
      "Accuracy Score:  0.7566465256797583\n"
     ]
    },
    {
     "name": "stderr",
     "output_type": "stream",
     "text": [
      "C:\\Users\\Asus\\.conda\\envs\\py37\\lib\\site-packages\\ipykernel_launcher.py:31: DataConversionWarning: A column-vector y was passed when a 1d array was expected. Please change the shape of y to (n_samples,), for example using ravel().\n"
     ]
    },
    {
     "name": "stdout",
     "output_type": "stream",
     "text": [
      "Accuracy Score:  0.7566465256797583\n"
     ]
    },
    {
     "data": {
      "application/javascript": [
       "\n",
       "            setTimeout(function() {\n",
       "                var nbb_cell_id = 101;\n",
       "                var nbb_unformatted_code = \"# Logistic Regression\\nlogreg = LogisticRegression()\\nlogreg.fit(os_data_X, os_data_y)\\ny_pred = logreg.predict(os_test_X)\\nprint(\\n    \\\"Accuracy of logistic regression classifier on test set: {:.5f}\\\".format(\\n        logreg.score(os_test_X, os_test_y)\\n    )\\n)\\n\\n#KNN\\nknnclassifier = KNeighborsClassifier(n_neighbors=int(X.shape[1] / 2))\\nknnclassifier.fit(os_data_X, os_data_y)\\nprediction = knnclassifier.predict(os_test_X)\\nprint(\\\"Accuracy Score KNN: \\\", accuracy_score(os_test_y, prediction))\\n\\n#SVC\\nclf = SVC(gamma=\\\"auto\\\", kernel=\\\"linear\\\")\\nclf.fit(os_data_X, os_data_y)\\npred = clf.predict(os_test_X)\\nprint(\\\"Accuracy Score: \\\", accuracy_score(os_test_y, pred))\\n\\n#Decision tree\\ntree = DecisionTreeClassifier()\\ntree.fit(os_data_X, os_data_y)\\npred = tree.predict(os_test_X)\\nprint(\\\"Accuracy Score: \\\", accuracy_score(os_test_y, pred))\\n\\n#Random Forest\\nrf = RandomForestClassifier(n_estimators=1000, random_state=42)\\nrf.fit(os_data_X, os_data_y)\\npred = rf.predict(os_test_X)\\nprint(\\\"Accuracy Score: \\\", accuracy_score(os_test_y, pred))\";\n",
       "                var nbb_formatted_code = \"# Logistic Regression\\nlogreg = LogisticRegression()\\nlogreg.fit(os_data_X, os_data_y)\\ny_pred = logreg.predict(os_test_X)\\nprint(\\n    \\\"Accuracy of logistic regression classifier on test set: {:.5f}\\\".format(\\n        logreg.score(os_test_X, os_test_y)\\n    )\\n)\\n\\n# KNN\\nknnclassifier = KNeighborsClassifier(n_neighbors=int(X.shape[1] / 2))\\nknnclassifier.fit(os_data_X, os_data_y)\\nprediction = knnclassifier.predict(os_test_X)\\nprint(\\\"Accuracy Score KNN: \\\", accuracy_score(os_test_y, prediction))\\n\\n# SVC\\nclf = SVC(gamma=\\\"auto\\\", kernel=\\\"linear\\\")\\nclf.fit(os_data_X, os_data_y)\\npred = clf.predict(os_test_X)\\nprint(\\\"Accuracy Score: \\\", accuracy_score(os_test_y, pred))\\n\\n# Decision tree\\ntree = DecisionTreeClassifier()\\ntree.fit(os_data_X, os_data_y)\\npred = tree.predict(os_test_X)\\nprint(\\\"Accuracy Score: \\\", accuracy_score(os_test_y, pred))\\n\\n# Random Forest\\nrf = RandomForestClassifier(n_estimators=1000, random_state=42)\\nrf.fit(os_data_X, os_data_y)\\npred = rf.predict(os_test_X)\\nprint(\\\"Accuracy Score: \\\", accuracy_score(os_test_y, pred))\";\n",
       "                var nbb_cells = Jupyter.notebook.get_cells();\n",
       "                for (var i = 0; i < nbb_cells.length; ++i) {\n",
       "                    if (nbb_cells[i].input_prompt_number == nbb_cell_id) {\n",
       "                        if (nbb_cells[i].get_text() == nbb_unformatted_code) {\n",
       "                             nbb_cells[i].set_text(nbb_formatted_code);\n",
       "                        }\n",
       "                        break;\n",
       "                    }\n",
       "                }\n",
       "            }, 500);\n",
       "            "
      ],
      "text/plain": [
       "<IPython.core.display.Javascript object>"
      ]
     },
     "metadata": {},
     "output_type": "display_data"
    }
   ],
   "source": [
    "# Logistic Regression\n",
    "logreg = LogisticRegression()\n",
    "logreg.fit(os_data_X, os_data_y)\n",
    "y_pred = logreg.predict(os_test_X)\n",
    "print(\n",
    "    \"Accuracy of logistic regression classifier on test set: {:.5f}\".format(\n",
    "        logreg.score(os_test_X, os_test_y)\n",
    "    )\n",
    ")\n",
    "\n",
    "#KNN\n",
    "knnclassifier = KNeighborsClassifier(n_neighbors=int(X.shape[1] / 2))\n",
    "knnclassifier.fit(os_data_X, os_data_y)\n",
    "prediction = knnclassifier.predict(os_test_X)\n",
    "print(\"Accuracy Score KNN: \", accuracy_score(os_test_y, prediction))\n",
    "\n",
    "#SVC\n",
    "clf = SVC(gamma=\"auto\", kernel=\"linear\")\n",
    "clf2.fit(os_data_X, os_data_y)\n",
    "pred = clf.predict(os_test_X)\n",
    "print(\"Accuracy Score SVC: \", accuracy_score(os_test_y, pred))\n",
    "\n",
    "#Decision tree\n",
    "tree = DecisionTreeClassifier()\n",
    "tree.fit(os_data_X, os_data_y)\n",
    "pred = tree2.predict(os_test_X)\n",
    "print(\"Accuracy Score Decision Tree: \", accuracy_score(os_test_y, pred))\n",
    "\n",
    "#Random Forest\n",
    "rf = RandomForestClassifier(n_estimators=1000, random_state=42)\n",
    "rf.fit(os_data_X, os_data_y)\n",
    "pred = rf.predict(os_test_X)\n",
    "print(\"Accuracy Score Random Forest: \", accuracy_score(os_test_y, pred))"
   ]
  },
  {
   "cell_type": "code",
   "execution_count": null,
   "metadata": {},
   "outputs": [],
   "source": []
  }
 ],
 "metadata": {
  "kernelspec": {
   "display_name": "Python 3",
   "language": "python",
   "name": "python3"
  },
  "language_info": {
   "codemirror_mode": {
    "name": "ipython",
    "version": 3
   },
   "file_extension": ".py",
   "mimetype": "text/x-python",
   "name": "python",
   "nbconvert_exporter": "python",
   "pygments_lexer": "ipython3",
   "version": "3.7.4"
  }
 },
 "nbformat": 4,
 "nbformat_minor": 2
}
