{
 "cells": [
  {
   "cell_type": "markdown",
   "metadata": {},
   "source": [
    "# QRM First Assignment"
   ]
  },
  {
   "cell_type": "markdown",
   "metadata": {},
   "source": [
    "#### Discussion Box (Keep track of resolved issues here, will delete later)\n",
    "\n",
    "**Questions so far:**\n",
    "1. What is the difference between Close and Adj. Close? Which to use?\n",
    "2. np.log is used for natural logarithm, right?\n",
    "(Natural logarithm, element-wise. --copied from documentation page)\n",
    "\n",
    "**Close price adjusted for splits.** \n",
    "<br>\n",
    "''The closing price of a stock is the price of that stock at the close of the trading day.''\n",
    "\n",
    "\n",
    "**Adjusted close price adjusted for both dividends and splits.**\n",
    "<br>\n",
    "''The adjusted closing price is a more complex analysis that uses the closing price as a starting point, but it takes into account factors such as dividends, stock splits and new stock offerings to determine a value. The adjusted closing price represents a more accurate reflection of a stock's value, since distributions and new offerings can alter the closing price.''\n",
    "\n",
    "So I think in the sense of these dataset, the close price is also a kind of adjusted price since it is adjusted for splits.<br>\n",
    "I personally would think the adjusted close price (both div and splits) would be better since it's more accurate.\n",
    "\n",
    "**Discussion:**\n",
    "**1. Drop the 20 rows for N225 dataset?** <br>\n",
    "AM: Correct and we need to synchronise with the rest of the data by only considering days where an observation is available for all risk factors <br>\n",
    "**2. The DE_1YBOND attribute doesn't match with other 4, will the attribute affect the analysis? If not then we can keep them** <br>\n",
    "AM: This is because the first 4 datasets are from Yahoo data and this one is from another source. It's not a problem as long as we can merge it by Date to the rest of the data.<br>\n",
    "**3. There would defo some outliers in the data, we shoud decide how to deal with them.**<br>\n",
    "AM: Good question, let's ask Svetlana and Sarah.\n",
    "\n",
    "**09.04 AM:**\n",
    "   1. I think that trying with 2 datasets should happen in a bit different way  ((done))\n",
    "   2. Isolate the columns of adj. price for each asset and give them clear names to which asset they belong ((done))\n",
    "   3. Perform a join with on the Date variable (I think the concat function is not doing the job here) ((done))\n",
    "\n",
    "**11.04 Pan:** I fixed the above probelms.\n",
    "\n",
    "##### I suggest to keep log of our Methodology and Questions and write email to Svetlana/Sarah next week to verify and ask - do you agree?\n",
    "\n",
    "**Methodology**\n",
    "1. Create lags for each individual asset and compute individual asset returns\n",
    "2. Merge the individual asset datasets and compute portfolio returns and portfolio standard deviation\n",
    "\n",
    "**Questions**\n",
    "1. How to deal with unmatching data (i.e. there is obs. for a particular dataset for one asset but none for another asset?). Should we delete all observations for that date altogether? How do we deal with the gap in history? <br>\n",
    "**Pan:** I took the intersection dates of all five assets. \n",
    "I am not sure if it is proper but this is the best we can do so far. <br>\n",
    "We can ask them!!\n",
    "\n",
    "2. How to deal with outliers? <br>\n",
    "**Pan:** The data looks normal so outlier doesn't seem to be a big probelm, but maybe it would affect <br>\n",
    "when adding the bond. Let's ask as well!\n",
    "\n",
    "##### Question: My code above looks ugly as I am doing the operations for each dataset separately instead of using some kind of loop to iterate. Can we, please, set up a short call so you can teach me how to do the iteration? :D I will appreciate some CS help! \n",
    "\n",
    "**Pan:** Sure, I also took some time to make it into function. <br>\n",
    "You can have a look and if you don't know some parts, we can have a call :D"
   ]
  },
  {
   "cell_type": "markdown",
   "metadata": {},
   "source": [
    "## Import Libraries"
   ]
  },
  {
   "cell_type": "code",
   "execution_count": 512,
   "metadata": {},
   "outputs": [],
   "source": [
    "import numpy as np\n",
    "import matplotlib.pyplot as plt\n",
    "import pandas as pd\n",
    "from datetime import datetime\n",
    "import statsmodels.api as sm\n",
    "from scipy.optimize import minimize\n",
    "from scipy.stats import norm\n",
    "import scipy as sc\n",
    "import glob\n",
    "import matplotlib.pyplot as plt\n",
    "import os\n",
    "#from arch import arch_model\n",
    "#from fnGARCH_2 import *"
   ]
  },
  {
   "cell_type": "markdown",
   "metadata": {},
   "source": [
    "## Exploratory Data Analysis"
   ]
  },
  {
   "cell_type": "code",
   "execution_count": 513,
   "metadata": {},
   "outputs": [
    {
     "name": "stdout",
     "output_type": "stream",
     "text": [
      "\n"
     ]
    }
   ],
   "source": [
    "'''Import data'''\n",
    "BTC = pd.read_csv(\"01_Data/BTCUSD.csv\",)\n",
    "DBC = pd.read_csv(\"01_Data/DBC.csv\")\n",
    "GSPC = pd.read_csv(\"01_Data/GSPC.csv\")\n",
    "N225 = pd.read_csv(\"01_Data/N225.csv\") \n",
    "DE_1YBOND = pd.read_csv(\"01_Data/DE_1YBOND.csv\")\n",
    "\n",
    "'''Check format of the datasets'''\n",
    "#print(BTC.shape)\n",
    "#print(DBC.shape)\n",
    "#print(DE_1YBOND.shape)\n",
    "#print(GSPC.shape)\n",
    "#print(N225.shape)\n",
    "\n",
    "'''The attribute format of DE bond is different from others'''\n",
    "#DE_1YBOND.head()\n",
    "\n",
    "'''Check if there is null or empty input for any of the datasets.'''\n",
    "#N225.isnull().sum()\n",
    "#BTC.isnull().sum()\n",
    "#DBC.isnull().sum()\n",
    "#GSPC.isnull().sum()\n",
    "#DE_1YBOND.isnull().sum()\n",
    "\n",
    "'''N225 has 20 missing values'''\n",
    "#missing_N225 = N225[N225.isna().any(axis=1)]['Date']\n",
    "#print(len(N225[N225.isna().any(axis=1)]))\n",
    "#print(missing_N225)\n",
    "print()"
   ]
  },
  {
   "cell_type": "markdown",
   "metadata": {},
   "source": [
    "**EDA shows 2 issues:**\n",
    "<br>\n",
    "1. The attribute format of the bond is different from the stocks\n",
    "<br>\n",
    "2. N225 contains 20 missing values, which need to be dropped"
   ]
  },
  {
   "cell_type": "code",
   "execution_count": 514,
   "metadata": {},
   "outputs": [],
   "source": [
    "''' Change the date format of DE_1YBOND'''\n",
    "from datetime import datetime\n",
    "\n",
    "new_date = []\n",
    "for i in DE_1YBOND['Date']:\n",
    "    new = datetime.strptime(i, '%b %d, %Y').strftime('%Y-%m-%d')\n",
    "    new_date.append(new)\n",
    "\n",
    "DE_1YBOND['Date']=new_date"
   ]
  },
  {
   "cell_type": "code",
   "execution_count": 515,
   "metadata": {},
   "outputs": [
    {
     "name": "stdout",
     "output_type": "stream",
     "text": [
      "2205\n"
     ]
    }
   ],
   "source": [
    "''' Drop the rows which contains missing value in N225'''\n",
    "N225_drop = N225.dropna(axis=0)\n",
    "N225_drop = N225_drop.reset_index(drop=True)\n",
    "print(len(N225_drop))\n",
    "#N225_drop.isnull().sum()"
   ]
  },
  {
   "cell_type": "markdown",
   "metadata": {},
   "source": [
    "## Data Processing"
   ]
  },
  {
   "cell_type": "markdown",
   "metadata": {},
   "source": [
    "### 1. Merge data"
   ]
  },
  {
   "cell_type": "code",
   "execution_count": 516,
   "metadata": {},
   "outputs": [
    {
     "name": "stdout",
     "output_type": "stream",
     "text": [
      "2118\n",
      "2118\n",
      "The dates exist in all five dataset: 2118 trading days\n"
     ]
    }
   ],
   "source": [
    "s1 = set(GSPC['Date'])\n",
    "s2 = set(DBC['Date'])\n",
    "s3 = set(N225_drop['Date'])\n",
    "s4 = set(BTC['Date'])\n",
    "s5 = set(DE_1YBOND['Date'])\n",
    "\n",
    "d = [x for x in s3 if x in s1 and x in s2 and x in s4 and x in s5]\n",
    "\n",
    "asset = [s1,s2,s3,s4,s5]\n",
    "\n",
    "intersec = s3.intersection(s1,s2,s4,s5)\n",
    "print(len(intersec))\n",
    "print(len(d))\n",
    "set(d) == set(intersec)\n",
    "\n",
    "print('The dates exist in all five dataset: 2118 trading days')"
   ]
  },
  {
   "cell_type": "code",
   "execution_count": 517,
   "metadata": {},
   "outputs": [],
   "source": [
    "'''  Create new dataframes, keep only the overlapping date-related data'''\n",
    "\n",
    "new = []\n",
    "asset = [BTC,DBC,DE_1YBOND,GSPC,N225]\n",
    "for item in asset:\n",
    "    miss = []\n",
    "    for i in item['Date']:\n",
    "        if i not in intersec:\n",
    "            miss = miss + item.index[item['Date']==i].tolist()\n",
    "    item = item.drop(miss)\n",
    "    item = item.reset_index(drop=True)\n",
    "    new.append(item)"
   ]
  },
  {
   "cell_type": "code",
   "execution_count": 518,
   "metadata": {},
   "outputs": [
    {
     "name": "stdout",
     "output_type": "stream",
     "text": [
      "(2118, 7)\n",
      "(2118, 7)\n",
      "(2118, 6)\n",
      "(2118, 7)\n",
      "(2118, 7)\n"
     ]
    }
   ],
   "source": [
    "''' Assign the dataframe '''\n",
    "\n",
    "BTC_new = new[0]\n",
    "DBC_new = new[1]\n",
    "DE_1YBOND_new = new[2]\n",
    "GSPC_new = new[3]\n",
    "N225_new = new[4]\n",
    "\n",
    "asset = [BTC_new,DBC_new,DE_1YBOND_new,GSPC_new,N225_new]\n",
    "\n",
    "for i in asset:\n",
    "    print(i.shape)"
   ]
  },
  {
   "cell_type": "code",
   "execution_count": 519,
   "metadata": {},
   "outputs": [],
   "source": [
    "''' Create new dataframe containing only the same dates related information  '''\n",
    "\n",
    "#asset_price , asset_adj_price , return\n",
    "\n",
    "asset = [BTC_new,DBC_new,GSPC_new,N225_new]\n",
    "asset_name = ['BTC','DBC','GSPC','N225']\n",
    "\n",
    "for i in range(len(asset)):\n",
    "    '''Rename Price column'''\n",
    "    asset[i].rename(columns={'Adj Close':'Price_'+asset_name[i]}, inplace=True)\n",
    "    '''Create lags for all assets'''\n",
    "    asset[i]['Price_'+asset_name[i]+'_lag'] = asset[i]['Price_'+asset_name[i]].shift(1)\n",
    "    '''Calculate individual asset returns'''\n",
    "    asset[i][asset_name[i]+'_return'] = np.log(asset[i]['Price_'+asset_name[i]]/asset[i]['Price_'+asset_name[i]+'_lag'])\n",
    "    \n",
    "#print(BTC_new)"
   ]
  },
  {
   "cell_type": "code",
   "execution_count": 520,
   "metadata": {},
   "outputs": [
    {
     "name": "stdout",
     "output_type": "stream",
     "text": [
      "BTC\n",
      "DBC\n",
      "GSPC\n",
      "N225\n"
     ]
    }
   ],
   "source": [
    "#Keep only relevant columns\n",
    "asset = [BTC_new,DBC_new,GSPC_new,N225_new]\n",
    "\n",
    "result = []\n",
    "for i in range(len(asset)):\n",
    "    print(asset_name[i])\n",
    "    if i == 0:\n",
    "        asset[i] = asset[i][['Date','Price_'+asset_name[i],'Price_'+asset_name[i]+'_lag',asset_name[i]+'_return']]\n",
    "    else:\n",
    "        asset[i] = asset[i][['Price_'+asset_name[i],'Price_'+asset_name[i]+'_lag',asset_name[i]+'_return']]\n",
    "    result.append(asset)"
   ]
  },
  {
   "cell_type": "code",
   "execution_count": 521,
   "metadata": {},
   "outputs": [
    {
     "name": "stdout",
     "output_type": "stream",
     "text": [
      "(2118, 4)\n",
      "(2118, 3)\n",
      "(2118, 3)\n",
      "(2118, 3)\n"
     ]
    }
   ],
   "source": [
    "# Check the shape\n",
    "for i in asset:\n",
    "    print(i.shape)"
   ]
  },
  {
   "cell_type": "code",
   "execution_count": 522,
   "metadata": {},
   "outputs": [
    {
     "data": {
      "text/html": [
       "<div>\n",
       "<style scoped>\n",
       "    .dataframe tbody tr th:only-of-type {\n",
       "        vertical-align: middle;\n",
       "    }\n",
       "\n",
       "    .dataframe tbody tr th {\n",
       "        vertical-align: top;\n",
       "    }\n",
       "\n",
       "    .dataframe thead th {\n",
       "        text-align: right;\n",
       "    }\n",
       "</style>\n",
       "<table border=\"1\" class=\"dataframe\">\n",
       "  <thead>\n",
       "    <tr style=\"text-align: right;\">\n",
       "      <th></th>\n",
       "      <th>Date</th>\n",
       "      <th>Price_BTC</th>\n",
       "      <th>Price_BTC_lag</th>\n",
       "      <th>BTC_return</th>\n",
       "      <th>Price_DBC</th>\n",
       "      <th>Price_DBC_lag</th>\n",
       "      <th>DBC_return</th>\n",
       "      <th>Price_GSPC</th>\n",
       "      <th>Price_GSPC_lag</th>\n",
       "      <th>GSPC_return</th>\n",
       "      <th>Price_N225</th>\n",
       "      <th>Price_N225_lag</th>\n",
       "      <th>N225_return</th>\n",
       "    </tr>\n",
       "  </thead>\n",
       "  <tbody>\n",
       "    <tr>\n",
       "      <td>2113</td>\n",
       "      <td>2020-03-24</td>\n",
       "      <td>6734.804688</td>\n",
       "      <td>6416.314941</td>\n",
       "      <td>0.048445</td>\n",
       "      <td>11.31</td>\n",
       "      <td>11.07</td>\n",
       "      <td>0.021449</td>\n",
       "      <td>2447.330078</td>\n",
       "      <td>2237.399902</td>\n",
       "      <td>0.089683</td>\n",
       "      <td>18092.349609</td>\n",
       "      <td>16887.779297</td>\n",
       "      <td>0.068899</td>\n",
       "    </tr>\n",
       "    <tr>\n",
       "      <td>2114</td>\n",
       "      <td>2020-03-25</td>\n",
       "      <td>6681.062500</td>\n",
       "      <td>6734.804688</td>\n",
       "      <td>-0.008012</td>\n",
       "      <td>11.50</td>\n",
       "      <td>11.31</td>\n",
       "      <td>0.016660</td>\n",
       "      <td>2475.560059</td>\n",
       "      <td>2447.330078</td>\n",
       "      <td>0.011469</td>\n",
       "      <td>19546.630859</td>\n",
       "      <td>18092.349609</td>\n",
       "      <td>0.077314</td>\n",
       "    </tr>\n",
       "    <tr>\n",
       "      <td>2115</td>\n",
       "      <td>2020-03-26</td>\n",
       "      <td>6716.439941</td>\n",
       "      <td>6681.062500</td>\n",
       "      <td>0.005281</td>\n",
       "      <td>11.46</td>\n",
       "      <td>11.50</td>\n",
       "      <td>-0.003484</td>\n",
       "      <td>2630.070068</td>\n",
       "      <td>2475.560059</td>\n",
       "      <td>0.060544</td>\n",
       "      <td>18664.599609</td>\n",
       "      <td>19546.630859</td>\n",
       "      <td>-0.046174</td>\n",
       "    </tr>\n",
       "    <tr>\n",
       "      <td>2116</td>\n",
       "      <td>2020-03-27</td>\n",
       "      <td>6469.799316</td>\n",
       "      <td>6716.439941</td>\n",
       "      <td>-0.037413</td>\n",
       "      <td>11.42</td>\n",
       "      <td>11.46</td>\n",
       "      <td>-0.003497</td>\n",
       "      <td>2541.469971</td>\n",
       "      <td>2630.070068</td>\n",
       "      <td>-0.034268</td>\n",
       "      <td>19389.429688</td>\n",
       "      <td>18664.599609</td>\n",
       "      <td>0.038099</td>\n",
       "    </tr>\n",
       "    <tr>\n",
       "      <td>2117</td>\n",
       "      <td>2020-03-30</td>\n",
       "      <td>6441.589355</td>\n",
       "      <td>6469.799316</td>\n",
       "      <td>-0.004370</td>\n",
       "      <td>11.39</td>\n",
       "      <td>11.42</td>\n",
       "      <td>-0.002630</td>\n",
       "      <td>2626.649902</td>\n",
       "      <td>2541.469971</td>\n",
       "      <td>0.032967</td>\n",
       "      <td>19084.970703</td>\n",
       "      <td>19389.429688</td>\n",
       "      <td>-0.015827</td>\n",
       "    </tr>\n",
       "  </tbody>\n",
       "</table>\n",
       "</div>"
      ],
      "text/plain": [
       "            Date    Price_BTC  Price_BTC_lag  BTC_return  Price_DBC  \\\n",
       "2113  2020-03-24  6734.804688    6416.314941    0.048445      11.31   \n",
       "2114  2020-03-25  6681.062500    6734.804688   -0.008012      11.50   \n",
       "2115  2020-03-26  6716.439941    6681.062500    0.005281      11.46   \n",
       "2116  2020-03-27  6469.799316    6716.439941   -0.037413      11.42   \n",
       "2117  2020-03-30  6441.589355    6469.799316   -0.004370      11.39   \n",
       "\n",
       "      Price_DBC_lag  DBC_return   Price_GSPC  Price_GSPC_lag  GSPC_return  \\\n",
       "2113          11.07    0.021449  2447.330078     2237.399902     0.089683   \n",
       "2114          11.31    0.016660  2475.560059     2447.330078     0.011469   \n",
       "2115          11.50   -0.003484  2630.070068     2475.560059     0.060544   \n",
       "2116          11.46   -0.003497  2541.469971     2630.070068    -0.034268   \n",
       "2117          11.42   -0.002630  2626.649902     2541.469971     0.032967   \n",
       "\n",
       "        Price_N225  Price_N225_lag  N225_return  \n",
       "2113  18092.349609    16887.779297     0.068899  \n",
       "2114  19546.630859    18092.349609     0.077314  \n",
       "2115  18664.599609    19546.630859    -0.046174  \n",
       "2116  19389.429688    18664.599609     0.038099  \n",
       "2117  19084.970703    19389.429688    -0.015827  "
      ]
     },
     "execution_count": 522,
     "metadata": {},
     "output_type": "execute_result"
    }
   ],
   "source": [
    "#Merge\n",
    "data = pd.concat(asset,axis=1)\n",
    "data.tail()"
   ]
  },
  {
   "cell_type": "code",
   "execution_count": 523,
   "metadata": {},
   "outputs": [],
   "source": [
    "#df_list = [BTC, DBC, GSPC, N225]\n",
    "#df_list[:4]"
   ]
  },
  {
   "cell_type": "markdown",
   "metadata": {},
   "source": [
    "### 2. Calculate portfolio returns"
   ]
  },
  {
   "cell_type": "code",
   "execution_count": 524,
   "metadata": {},
   "outputs": [
    {
     "data": {
      "text/plain": [
       "2113    0.057119\n",
       "2114    0.024358\n",
       "2115    0.004042\n",
       "2116   -0.009270\n",
       "2117    0.002535\n",
       "Name: portfolio_return, dtype: float64"
      ]
     },
     "execution_count": 524,
     "metadata": {},
     "output_type": "execute_result"
    }
   ],
   "source": [
    "'''Assume equal weight (0.25) for the 4 assets and calculate portfolio returns - later to change it when we also add the bond'''\n",
    "\n",
    "data['portfolio_return'] = 0.25*data['BTC_return'] + 0.25*data['DBC_return'] + 0.25*data['GSPC_return'] + 0.25*data['N225_return'] \n",
    "data['portfolio_return'] .tail()"
   ]
  },
  {
   "cell_type": "markdown",
   "metadata": {},
   "source": [
    "### 3. Create Histogram and QQ plot of the portfolio returns"
   ]
  },
  {
   "cell_type": "code",
   "execution_count": 528,
   "metadata": {
    "scrolled": false
   },
   "outputs": [
    {
     "data": {
      "image/png": "[encoded data removed]",
      "text/plain": [
       "<Figure size 1080x720 with 4 Axes>"
      ]
     },
     "metadata": {
      "needs_background": "light"
     },
     "output_type": "display_data"
    }
   ],
   "source": [
    "##assign df:\n",
    "df = 3\n",
    "### figure for t distr. and normal distr. comparison\n",
    "fig, ax = plt.subplots(nrows=2, ncols=2, figsize=(15,10))\n",
    "# normal\n",
    "plt.subplot(2,2,1)\n",
    "count, bins, ignored= plt.hist(data['portfolio_return'][1:], bins= 50, density = True)\n",
    "plt.plot(bins, normaldistr, linewidth= 2, color= \"r\")\n",
    "plt.xlabel(\"Portfolio Returns\")\n",
    "plt.ylabel(\"Frequency\")\n",
    "#plt.xlim( (-40000, 40000) )\n",
    "plt.title(\"Normal Distribution - Portfolio Returns\")\n",
    "# normal qq\n",
    "plt.subplot(2,2,2)\n",
    "sc.stats.probplot(data['portfolio_return'][1:], dist= \"norm\", plot=plt)\n",
    "plt.title(\"Q-Q Plot for Normal Distribution - Portfolio Returns\")\n",
    "# stundent t\n",
    "plt.subplot(2,2,3)\n",
    "count, bins, ignored= plt.hist(data['portfolio_return'][1:], bins= 50, density = True)\n",
    "plt.plot(tval, tdistr, linewidth= 2, color= \"r\")\n",
    "plt.xlabel(\"Portfolio Returns\")\n",
    "plt.ylabel(\"Frequency\")\n",
    "#plt.xlim( (-40000, 40000) )\n",
    "plt.title(\"Student-t Distribution - Portfolio Returns\")\n",
    "# student t qq\n",
    "plt.subplot(2,2,4)\n",
    "sc.stats.probplot(data['portfolio_return'][1:], dist= sc.stats.t(df), plot=plt)\n",
    "plt.title(\"Q-Q Plot for Student-t - Portfolio Returns\")\n",
    "plt.tight_layout()\n",
    "plt.show()"
   ]
  },
  {
   "cell_type": "markdown",
   "metadata": {},
   "source": [
    "## VaR and ES"
   ]
  },
  {
   "cell_type": "markdown",
   "metadata": {},
   "source": [
    "### 1. Normal Distribution"
   ]
  },
  {
   "cell_type": "code",
   "execution_count": 541,
   "metadata": {},
   "outputs": [],
   "source": [
    "def fnVaR_n(dfData, weights, alpha, lookback, percent, initial_investment):\n",
    "    \"\"\"\n",
    "    purpose:\n",
    "        calculates VaR and ES with variance-covariance method\n",
    "        using a normal distribution\n",
    "    input:\n",
    "        dfData, dataframe\n",
    "        weights, weights vector\n",
    "        alpha, significance value\n",
    "        lookback, lookback period\n",
    "        percent, True= express in percent\n",
    "    output:\n",
    "        VaR expressed in losses (positive value)\n",
    "    \"\"\"\n",
    "    # check alpha\n",
    "    if alpha > 0.5:\n",
    "        alpha= 1-alpha\n",
    "    \n",
    "    # express years in days\n",
    "    years= lookback\n",
    "    # select last n years of data\n",
    "    DataTemp= dfData.iloc[-years*250:,:-1]  #converted to days\n",
    "    \n",
    "    # calculate mean\n",
    "    mean= np.array(np.mean(DataTemp))@weights.T\n",
    "    mean= mean[0]\n",
    "    \n",
    "    \n",
    "    # calculate covariance\n",
    "    cov= np.cov(DataTemp, rowvar= False)\n",
    "    # calculate variance\n",
    "    variance= weights@cov@weights.T\n",
    "    std= np.sqrt(variance[0][0])\n",
    "    \n",
    "    # calculate quantile\n",
    "    z= sc.stats.norm.ppf(alpha)\n",
    "    VaR= -mean + z * std # μ is negative of the return over one day, so should be negative sign\n",
    "    VaR= -VaR\n",
    "    \n",
    "    #calculate ES - this is not working so far\n",
    "    #ES= -VaR\n",
    "    #DataTemp_ES= dfData.iloc[-years:,6]\n",
    "    #DataTemp_ES= DataTemp_ES[DataTemp_ES < ES]\n",
    "    #ES= -np.mean(DataTemp_ES)\n",
    "    \n",
    "    #if percent == False:\n",
    "        #VaR= VaR*dfData.iloc[-1,7]\n",
    "        #ES= ES*dfData.iloc[-1,7]\n",
    "        #ES= round(ES, 2)\n",
    "        #VaR= round(VaR, 2)\n",
    "    #ES = -mean + std*(sc.stats.norm.pdf(z)/(1-alpha))\n",
    "    mean_return = dfData['portfolio_return'][-years*250:]\n",
    "    ES_list = [x for x in mean_return if x < -VaR]\n",
    "    ES = -np.mean(ES_list)\n",
    "    \n",
    "    return VaR, ES"
   ]
  },
  {
   "cell_type": "code",
   "execution_count": 546,
   "metadata": {},
   "outputs": [
    {
     "name": "stdout",
     "output_type": "stream",
     "text": [
      "(97.5% VaR,ES) in percentage is:\n",
      "(0.03196171206049538, 0.05557158640486223)\n",
      "Monetary (97.5% VaR,ES) is:\n",
      "(31961.71206049538, 55571.58640486223)\n",
      "(99% VaR,ES) in percentage is:\n",
      "(0.037826587163407754, 0.06843686309698609)\n",
      "Monetary (99% VaR,ES) is:\n",
      "(37826.587163407756, 68436.86309698608)\n"
     ]
    }
   ],
   "source": [
    "# Set an initial investment level\n",
    "initial_investment = 1000000\n",
    "\n",
    "df_prices = data[['BTC_return', 'DBC_return', 'GSPC_return', 'N225_return','portfolio_return']]\n",
    "weights= np.array([[.25,.25,.25,.25]])\n",
    "alpha = 0.975\n",
    "lookback = 3\n",
    "percent = True\n",
    "\n",
    "VaR,ES = fnVaR_n(df_prices, weights, alpha, lookback, percent,initial_investment)\n",
    "print('(97.5% VaR,ES) in percentage is:')\n",
    "print((VaR,ES))\n",
    "print('Monetary (97.5% VaR,ES) is:')\n",
    "print((VaR*initial_investment,ES*initial_investment))\n",
    "\n",
    "alpha = 0.99\n",
    "\n",
    "VaR,ES = fnVaR_n(df_prices, weights, alpha, lookback, percent,initial_investment)\n",
    "print('(99% VaR,ES) in percentage is:')\n",
    "print((VaR,ES))\n",
    "print('Monetary (99% VaR,ES) is:')\n",
    "print((VaR*initial_investment,ES*initial_investment))"
   ]
  },
  {
   "cell_type": "markdown",
   "metadata": {},
   "source": [
    "**Pan:** Discussion points <br>\n",
    "1. Ask about the dates\n",
    "2. Ask about outliers\n",
    "3. I set the monetary values as the percertage * the initial investment values (initials values of the portfolio?) <br>\n",
    "Not sure if it's correct!!!!!!"
   ]
  },
  {
   "cell_type": "markdown",
   "metadata": {},
   "source": [
    "### 2. Student t-distribution"
   ]
  },
  {
   "cell_type": "markdown",
   "metadata": {},
   "source": [
    "### Check student t-assumption with QQ-plots"
   ]
  },
  {
   "cell_type": "code",
   "execution_count": 554,
   "metadata": {},
   "outputs": [
    {
     "data": {
      "image/png": "[encoded data removed]",
      "text/plain": [
       "<Figure size 1080x720 with 4 Axes>"
      ]
     },
     "metadata": {
      "needs_background": "light"
     },
     "output_type": "display_data"
    }
   ],
   "source": [
    "fig, ax = plt.subplots(nrows=2, ncols=2, figsize=(15,10))\n",
    "plt.subplot(2,2,1)\n",
    "sc.stats.probplot(data['portfolio_return'][1:], dist= sc.stats.t(3), plot=plt)\n",
    "plt.title(\"Q-Q Plot for Student-t (df=3)\")\n",
    "plt.tight_layout()\n",
    "plt.subplot(2,2,2)\n",
    "sc.stats.probplot(data['portfolio_return'][1:], dist= sc.stats.t(4), plot=plt)\n",
    "plt.title(\"Q-Q Plot for Student-t (df=4)\")\n",
    "plt.tight_layout()\n",
    "plt.subplot(2,2,3)\n",
    "sc.stats.probplot(data['portfolio_return'][1:], dist= sc.stats.t(5), plot=plt)\n",
    "plt.title(\"Q-Q Plot for Student-t (df=5)\")\n",
    "plt.tight_layout()\n",
    "plt.subplot(2,2,4)\n",
    "sc.stats.probplot(data['portfolio_return'][1:], dist= sc.stats.t(6), plot=plt)\n",
    "plt.title(\"Q-Q Plot for Student-t (df=6)\")\n",
    "plt.tight_layout()\n",
    "plt.show()"
   ]
  },
  {
   "cell_type": "code",
   "execution_count": 543,
   "metadata": {},
   "outputs": [],
   "source": [
    "def fnVaR_t(dfData, weights, alpha, lookback, percent, initial_investment):\n",
    "    \"\"\"\n",
    "    purpose:\n",
    "        calculates VaR and ES with variance-covariance method\n",
    "        using a t-distribution\n",
    "    input:\n",
    "        dfData, dataframe\n",
    "        weights, weights vector\n",
    "        apha, significance value\n",
    "        lookback, lookback period\n",
    "        df, degrees of freedom\n",
    "        percent, True= express in percent\n",
    "    output:\n",
    "        VaR expressed in losses (positive value)\n",
    "    \"\"\"\n",
    "    # check alpha\n",
    "    if alpha > 0.5:\n",
    "        alpha= 1-alpha\n",
    "    \n",
    "    # express years in days\n",
    "    years= lookback\n",
    "    # select last n years of data\n",
    "    DataTemp= dfData.iloc[-years*250:,:-1]  #converted to days\n",
    "    \n",
    "    # calculate mean\n",
    "    mean= np.array(np.mean(DataTemp))@weights.T\n",
    "    mean= mean[0]\n",
    "    \n",
    "    # calculate covariance\n",
    "    cov= np.cov(DataTemp, rowvar= False)\n",
    "    # calculate variance\n",
    "    variance= weights@cov@weights.T\n",
    "    variance= variance[0][0]*(df-2)/df # account for variance of standard student-t\n",
    "\n",
    "    # calculate quantile\n",
    "    t= sc.stats.t.ppf(alpha, df)\n",
    "    VaR= -mean + t * np.sqrt(variance)\n",
    "    VaR= -VaR\n",
    "    \n",
    "    #calculate ES\n",
    "    mean_return = dfData['portfolio_return'][-years*250:]\n",
    "    ES_list = [x for x in mean_return if x < -VaR]\n",
    "    ES = -np.mean(ES_list)\n",
    "    \n",
    "    return VaR, ES"
   ]
  },
  {
   "cell_type": "markdown",
   "metadata": {},
   "source": [
    "### df=3"
   ]
  },
  {
   "cell_type": "code",
   "execution_count": 545,
   "metadata": {},
   "outputs": [
    {
     "name": "stdout",
     "output_type": "stream",
     "text": [
      "(97.5% VaR,ES) in percentage is:\n",
      "(0.029999553692483662, 0.052098723573135365)\n",
      "Monetary (97.5% VaR,ES) is:\n",
      "(29999.553692483663, 52098.723573135365)\n",
      "(99% VaR,ES) in percentage is:\n",
      "(0.04255243958080498, 0.07120976029578312)\n",
      "Monetary (99% VaR,ES) is:\n",
      "(42552.43958080498, 71209.76029578311)\n"
     ]
    }
   ],
   "source": [
    "# Set an initial investment level\n",
    "df=3\n",
    "alpha = 0.975\n",
    "\n",
    "VaR,ES = fnVaR_t(df_prices, weights, alpha, lookback, percent,initial_investment)\n",
    "print('(97.5% VaR,ES) in percentage is:')\n",
    "print((VaR,ES))\n",
    "print('Monetary (97.5% VaR,ES) is:')\n",
    "print((VaR*initial_investment,ES*initial_investment))\n",
    "\n",
    "alpha = 0.99\n",
    "\n",
    "VaR,ES = fnVaR_t(df_prices, weights, alpha, lookback, percent,initial_investment)\n",
    "print('(99% VaR,ES) in percentage is:')\n",
    "print((VaR,ES))\n",
    "print('Monetary (99% VaR,ES) is:')\n",
    "print((VaR*initial_investment,ES*initial_investment))"
   ]
  },
  {
   "cell_type": "markdown",
   "metadata": {},
   "source": [
    "### df=4"
   ]
  },
  {
   "cell_type": "code",
   "execution_count": 550,
   "metadata": {},
   "outputs": [
    {
     "name": "stdout",
     "output_type": "stream",
     "text": [
      "(97.5% VaR,ES) in percentage is:\n",
      "(0.03201420335099681, 0.05557158640486223)\n",
      "Monetary (97.5% VaR,ES) is:\n",
      "(32014.203350996813, 55571.58640486223)\n",
      "(99% VaR,ES) in percentage is:\n",
      "(0.042999302030624055, 0.07120976029578312)\n",
      "Monetary (99% VaR,ES) is:\n",
      "(42999.30203062406, 71209.76029578311)\n"
     ]
    }
   ],
   "source": [
    "# Set an initial investment level\n",
    "df=4\n",
    "alpha = 0.975\n",
    "\n",
    "VaR,ES = fnVaR_t(df_prices, weights, alpha, lookback, percent,initial_investment)\n",
    "print('(97.5% VaR,ES) in percentage is:')\n",
    "print((VaR,ES))\n",
    "print('Monetary (97.5% VaR,ES) is:')\n",
    "print((VaR*initial_investment,ES*initial_investment))\n",
    "\n",
    "alpha = 0.99\n",
    "\n",
    "VaR,ES = fnVaR_t(df_prices, weights, alpha, lookback, percent,initial_investment)\n",
    "print('(99% VaR,ES) in percentage is:')\n",
    "print((VaR,ES))\n",
    "print('Monetary (99% VaR,ES) is:')\n",
    "print((VaR*initial_investment,ES*initial_investment))"
   ]
  },
  {
   "cell_type": "markdown",
   "metadata": {},
   "source": [
    "### df=5"
   ]
  },
  {
   "cell_type": "code",
   "execution_count": 551,
   "metadata": {},
   "outputs": [
    {
     "name": "stdout",
     "output_type": "stream",
     "text": [
      "(97.5% VaR,ES) in percentage is:\n",
      "(0.032461147089347275, 0.05557158640486223)\n",
      "Monetary (97.5% VaR,ES) is:\n",
      "(32461.147089347276, 55571.58640486223)\n",
      "(99% VaR,ES) in percentage is:\n",
      "(0.04231052768217189, 0.07120976029578312)\n",
      "Monetary (99% VaR,ES) is:\n",
      "(42310.52768217189, 71209.76029578311)\n"
     ]
    }
   ],
   "source": [
    "# Set an initial investment level\n",
    "df=5\n",
    "alpha = 0.975\n",
    "\n",
    "VaR,ES = fnVaR_t(df_prices, weights, alpha, lookback, percent,initial_investment)\n",
    "print('(97.5% VaR,ES) in percentage is:')\n",
    "print((VaR,ES))\n",
    "print('Monetary (97.5% VaR,ES) is:')\n",
    "print((VaR*initial_investment,ES*initial_investment))\n",
    "\n",
    "alpha = 0.99\n",
    "\n",
    "VaR,ES = fnVaR_t(df_prices, weights, alpha, lookback, percent,initial_investment)\n",
    "print('(99% VaR,ES) in percentage is:')\n",
    "print((VaR,ES))\n",
    "print('Monetary (99% VaR,ES) is:')\n",
    "print((VaR*initial_investment,ES*initial_investment))"
   ]
  },
  {
   "cell_type": "markdown",
   "metadata": {},
   "source": [
    "### df=6"
   ]
  },
  {
   "cell_type": "code",
   "execution_count": 552,
   "metadata": {},
   "outputs": [
    {
     "name": "stdout",
     "output_type": "stream",
     "text": [
      "(97.5% VaR,ES) in percentage is:\n",
      "(0.03256889377179361, 0.05557158640486223)\n",
      "Monetary (97.5% VaR,ES) is:\n",
      "(32568.89377179361, 55571.58640486223)\n",
      "(99% VaR,ES) in percentage is:\n",
      "(0.04166245668914624, 0.07120976029578312)\n",
      "Monetary (99% VaR,ES) is:\n",
      "(41662.45668914624, 71209.76029578311)\n"
     ]
    }
   ],
   "source": [
    "# Set an initial investment level\n",
    "df=6\n",
    "alpha = 0.975\n",
    "\n",
    "VaR,ES = fnVaR_t(df_prices, weights, alpha, lookback, percent,initial_investment)\n",
    "print('(97.5% VaR,ES) in percentage is:')\n",
    "print((VaR,ES))\n",
    "print('Monetary (97.5% VaR,ES) is:')\n",
    "print((VaR*initial_investment,ES*initial_investment))\n",
    "\n",
    "alpha = 0.99\n",
    "\n",
    "VaR,ES = fnVaR_t(df_prices, weights, alpha, lookback, percent,initial_investment)\n",
    "print('(99% VaR,ES) in percentage is:')\n",
    "print((VaR,ES))\n",
    "print('Monetary (99% VaR,ES) is:')\n",
    "print((VaR*initial_investment,ES*initial_investment))"
   ]
  },
  {
   "cell_type": "markdown",
   "metadata": {},
   "source": [
    "### 3. Historical simulation method"
   ]
  },
  {
   "cell_type": "code",
   "execution_count": 561,
   "metadata": {},
   "outputs": [],
   "source": [
    "def fnVaR_hist(dfData, weights, alpha, lookback, percent, initial_investment):\n",
    "    \"\"\"\n",
    "    purpose:\n",
    "        calculates VaR and ES with historical simulation\n",
    "    input:\n",
    "        dfData, dataframe\n",
    "        weights, weights vector\n",
    "        apha, significance value\n",
    "        lookback, lookback period\n",
    "        df, degrees of freedom\n",
    "        percent, True= express in percent\n",
    "    output:\n",
    "        VaR expressed in losses (positive value)\n",
    "    \"\"\"\n",
    "    # check alpha\n",
    "    if alpha > 0.5:\n",
    "        alpha= 1-alpha\n",
    "        \n",
    "    # because the percentile function takes alpha=e[0,100]\n",
    "    alpha= alpha*100\n",
    "    \n",
    "    # express years in days\n",
    "    years= lookback\n",
    "    # select last n years of data\n",
    "    DataTemp= dfData.iloc[-years*250:,:-1]  #converted to days\n",
    "    \n",
    "    # calculate mean\n",
    "    mean= np.array(np.mean(DataTemp))@weights.T\n",
    "    mean= mean[0]\n",
    "    \n",
    "    \n",
    "    # calculate covariance\n",
    "    cov= np.cov(DataTemp, rowvar= False)\n",
    "    # calculate variance\n",
    "    variance= weights@cov@weights.T\n",
    "    std= np.sqrt(variance[0][0])\n",
    "    \n",
    "    # calculate quantile\n",
    "    VaR= sc.percentile(DataTemp, alpha)\n",
    "    VaR= -VaR\n",
    "    \n",
    "    #calculate ES\n",
    "    mean_return = dfData['portfolio_return'][-years*250:]\n",
    "    ES_list = [x for x in mean_return if x < -VaR]\n",
    "    ES = -np.mean(ES_list)\n",
    "    \n",
    "    return VaR, ES"
   ]
  },
  {
   "cell_type": "code",
   "execution_count": 562,
   "metadata": {},
   "outputs": [
    {
     "name": "stdout",
     "output_type": "stream",
     "text": [
      "(97.5% VaR,ES) in percentage is:\n",
      "(0.060209738216457934, 0.09451172691727958)\n",
      "Monetary (97.5% VaR,ES) is:\n",
      "(60209.73821645793, 94511.72691727958)\n",
      "(99% VaR,ES) in percentage is:\n",
      "(0.09193740724518973, 0.16266894491945416)\n",
      "Monetary (99% VaR,ES) is:\n",
      "(91937.40724518972, 162668.94491945417)\n"
     ]
    }
   ],
   "source": [
    "# Set an initial investment level\n",
    "initial_investment = 1000000\n",
    "\n",
    "df_prices = data[['BTC_return', 'DBC_return', 'GSPC_return', 'N225_return','portfolio_return']]\n",
    "weights= np.array([[.25,.25,.25,.25]])\n",
    "alpha = 0.975\n",
    "lookback = 3\n",
    "percent = True\n",
    "\n",
    "VaR,ES = fnVaR_hist(df_prices, weights, alpha, lookback, percent,initial_investment)\n",
    "print('(97.5% VaR,ES) in percentage is:')\n",
    "print((VaR,ES))\n",
    "print('Monetary (97.5% VaR,ES) is:')\n",
    "print((VaR*initial_investment,ES*initial_investment))\n",
    "\n",
    "alpha = 0.99\n",
    "\n",
    "VaR,ES = fnVaR_hist(df_prices, weights, alpha, lookback, percent,initial_investment)\n",
    "print('(99% VaR,ES) in percentage is:')\n",
    "print((VaR,ES))\n",
    "print('Monetary (99% VaR,ES) is:')\n",
    "print((VaR*initial_investment,ES*initial_investment))"
   ]
  },
  {
   "cell_type": "code",
   "execution_count": null,
   "metadata": {},
   "outputs": [],
   "source": []
  }
 ],
 "metadata": {
  "kernelspec": {
   "display_name": "Python 3",
   "language": "python",
   "name": "python3"
  },
  "language_info": {
   "codemirror_mode": {
    "name": "ipython",
    "version": 3
   },
   "file_extension": ".py",
   "mimetype": "text/x-python",
   "name": "python",
   "nbconvert_exporter": "python",
   "pygments_lexer": "ipython3",
   "version": "3.7.4"
  }
 },
 "nbformat": 4,
 "nbformat_minor": 2
}
