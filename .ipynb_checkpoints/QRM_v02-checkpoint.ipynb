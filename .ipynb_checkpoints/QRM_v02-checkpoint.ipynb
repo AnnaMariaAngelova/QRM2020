{
 "cells": [
  {
   "cell_type": "markdown",
   "metadata": {},
   "source": [
    "# QRM First Assignment"
   ]
  },
  {
   "cell_type": "markdown",
   "metadata": {},
   "source": [
    "#### Discussion Box (Keep track of resolved issues here, will delete later)\n",
    "\n",
    "**Questions so far:**\n",
    "1. What is the difference between Close and Adj. Close? Which to use?\n",
    "2. np.log is used for natural logarithm, right?\n",
    "(Natural logarithm, element-wise. --copied from documentation page)\n",
    "\n",
    "**Close price adjusted for splits.** \n",
    "<br>\n",
    "''The closing price of a stock is the price of that stock at the close of the trading day.''\n",
    "\n",
    "\n",
    "**Adjusted close price adjusted for both dividends and splits.**\n",
    "<br>\n",
    "''The adjusted closing price is a more complex analysis that uses the closing price as a starting point, but it takes into account factors such as dividends, stock splits and new stock offerings to determine a value. The adjusted closing price represents a more accurate reflection of a stock's value, since distributions and new offerings can alter the closing price.''\n",
    "\n",
    "So I think in the sense of these dataset, the close price is also a kind of adjusted price since it is adjusted for splits.<br>\n",
    "I personally would think the adjusted close price (both div and splits) would be better since it's more accurate.\n",
    "\n",
    "**Discussion:**\n",
    "**1. Drop the 20 rows for N225 dataset?** <br>\n",
    "AM: Correct and we need to synchronise with the rest of the data by only considering days where an observation is available for all risk factors <br>\n",
    "**2. The DE_1YBOND attribute doesn't match with other 4, will the attribute affect the analysis? If not then we can keep them** <br>\n",
    "AM: This is because the first 4 datasets are from Yahoo data and this one is from another source. It's not a problem as long as we can merge it by Date to the rest of the data.<br>\n",
    "**3. There would defo some outliers in the data, we shoud decide how to deal with them.**<br>\n",
    "AM: Good question, let's ask Svetlana and Sarah.\n",
    "\n",
    "**09.04 AM:**\n",
    "   1. I think that trying with 2 datasets should happen in a bit different way  ((done))\n",
    "   2. Isolate the columns of adj. price for each asset and give them clear names to which asset they belong ((done))\n",
    "   3. Perform a join with on the Date variable (I think the concat function is not doing the job here) ((done))\n",
    "\n",
    "**11.04 Pan:** I fixed the above probelms.\n",
    "\n",
    "##### I suggest to keep log of our Methodology and Questions and write email to Svetlana/Sarah next week to verify and ask - do you agree?\n",
    "\n",
    "**Methodology**\n",
    "1. Create lags for each individual asset and compute individual asset returns\n",
    "2. Merge the individual asset datasets and compute portfolio returns and portfolio standard deviation\n",
    "\n",
    "**Questions**\n",
    "1. How to deal with unmatching data (i.e. there is obs. for a particular dataset for one asset but none for another asset?). Should we delete all observations for that date altogether? How do we deal with the gap in history? <br>\n",
    "**Pan:** I took the intersection dates of all five assets. \n",
    "I am not sure if it is proper but this is the best we can do so far. <br>\n",
    "We can ask them!!\n",
    "\n",
    "2. How to deal with outliers? <br>\n",
    "**Pan:** The data looks normal so outlier doesn't seem to be a big probelm, but maybe it would affect <br>\n",
    "when adding the bond. Let's ask as well!\n",
    "\n",
    "##### Question: My code above looks ugly as I am doing the operations for each dataset separately instead of using some kind of loop to iterate. Can we, please, set up a short call so you can teach me how to do the iteration? :D I will appreciate some CS help! \n",
    "\n",
    "**Pan:** Sure, I also took some time to make it into function. <br>\n",
    "You can have a look and if you don't know some parts, we can have a call :D"
   ]
  },
  {
   "cell_type": "markdown",
   "metadata": {},
   "source": [
    "## Import Libraries"
   ]
  },
  {
   "cell_type": "code",
   "execution_count": 1,
   "metadata": {},
   "outputs": [],
   "source": [
    "import numpy as np\n",
    "import matplotlib.pyplot as plt\n",
    "import pandas as pd\n",
    "from datetime import datetime\n",
    "import statsmodels.api as sm\n",
    "from scipy.optimize import minimize\n",
    "from scipy.stats import norm\n",
    "import scipy as sc\n",
    "import glob\n",
    "import matplotlib.pyplot as plt\n",
    "import os\n",
    "#from arch import arch_model\n",
    "#from fnGARCH_2 import *"
   ]
  },
  {
   "cell_type": "markdown",
   "metadata": {},
   "source": [
    "## Exploratory Data Analysis"
   ]
  },
  {
   "cell_type": "code",
   "execution_count": 2,
   "metadata": {},
   "outputs": [
    {
     "name": "stdout",
     "output_type": "stream",
     "text": [
      "(2349, 7)\n",
      "(2349, 7)\n",
      "         Date      Open      High       Low     Close  Adj Close  Volume\n",
      "0  2011-03-31  0.012027  0.012115  0.012019  0.012026   0.012026     0.0\n",
      "1  2011-04-01  0.011996  0.012008  0.011808  0.011996   0.011996     0.0\n",
      "2  2011-04-04  0.011874  0.011926  0.011865  0.011874   0.011874     0.0\n",
      "3  2011-04-05  0.011887  0.011891  0.011808  0.011886   0.011886     0.0\n",
      "4  2011-04-06  0.011744  0.011788  0.011699  0.011743   0.011743     0.0\n",
      "Date         0\n",
      "Open         5\n",
      "High         5\n",
      "Low          5\n",
      "Close        5\n",
      "Adj Close    5\n",
      "Volume       5\n",
      "dtype: int64\n",
      "Date         0\n",
      "Open         5\n",
      "High         5\n",
      "Low          5\n",
      "Close        5\n",
      "Adj Close    5\n",
      "Volume       5\n",
      "dtype: int64\n",
      "\n"
     ]
    }
   ],
   "source": [
    "'''Import data'''\n",
    "BTC = pd.read_csv(\"01_Data/BTCUSD.csv\",)\n",
    "DBC = pd.read_csv(\"01_Data/DBC.csv\")\n",
    "GSPC = pd.read_csv(\"01_Data/GSPC.csv\")\n",
    "N225 = pd.read_csv(\"01_Data/N225.csv\") \n",
    "DE_1YBOND = pd.read_csv(\"01_Data/DE_1YBOND.csv\")\n",
    "FX_YEN = pd.read_csv('01_Data/JPYUSD=X.csv')\n",
    "FX_EUR = pd.read_csv('01_Data/EURUSD=X.csv')\n",
    "\n",
    "\n",
    "\n",
    "'''Check format of the datasets'''\n",
    "#print(BTC.shape)\n",
    "#print(DBC.shape)\n",
    "#print(DE_1YBOND.shape)\n",
    "#print(GSPC.shape)\n",
    "#print(N225.shape)\n",
    "print(FX_YEN.shape)\n",
    "print(FX_EUR.shape)\n",
    "\n",
    "'''The attribute format of DE bond is different from others'''\n",
    "#DE_1YBOND.head()\n",
    "print(FX_YEN.head())\n",
    "\n",
    "'''Check if there is null or empty input for any of the datasets.'''\n",
    "#N225.isnull().sum()\n",
    "#BTC.isnull().sum()\n",
    "#DBC.isnull().sum()\n",
    "#GSPC.isnull().sum()\n",
    "#DE_1YBOND.isnull().sum()\n",
    "print(FX_YEN.isnull().sum())\n",
    "print(FX_EUR.isnull().sum())\n",
    "\n",
    "'''N225 has 20 missing values'''\n",
    "#missing_N225 = N225[N225.isna().any(axis=1)]['Date']\n",
    "#print(len(N225[N225.isna().any(axis=1)]))\n",
    "#print(missing_N225)\n",
    "print()"
   ]
  },
  {
   "cell_type": "markdown",
   "metadata": {},
   "source": [
    "**EDA shows 2 issues:**\n",
    "<br>\n",
    "1. The attribute format of the bond is different from the stocks\n",
    "<br>\n",
    "2. N225 contains 20 missing values, which need to be dropped"
   ]
  },
  {
   "cell_type": "code",
   "execution_count": 3,
   "metadata": {},
   "outputs": [],
   "source": [
    "''' Change the date format of DE_1YBOND'''\n",
    "from datetime import datetime\n",
    "\n",
    "new_date = []\n",
    "for i in DE_1YBOND['Date']:\n",
    "    new = datetime.strptime(i, '%b %d, %Y').strftime('%Y-%m-%d')\n",
    "    new_date.append(new)\n",
    "\n",
    "DE_1YBOND['Date']=new_date"
   ]
  },
  {
   "cell_type": "code",
   "execution_count": 4,
   "metadata": {},
   "outputs": [
    {
     "name": "stdout",
     "output_type": "stream",
     "text": [
      "2205\n"
     ]
    }
   ],
   "source": [
    "''' Drop the rows which contains missing value in N225'''\n",
    "N225_drop = N225.dropna(axis=0)\n",
    "N225_drop = N225_drop.reset_index(drop=True)\n",
    "print(len(N225_drop))\n",
    "#N225_drop.isnull().sum()"
   ]
  },
  {
   "cell_type": "code",
   "execution_count": 5,
   "metadata": {},
   "outputs": [
    {
     "name": "stdout",
     "output_type": "stream",
     "text": [
      "2344\n",
      "2344\n"
     ]
    }
   ],
   "source": [
    "''' Drop the rows which contains missing value in FX_YEN'''\n",
    "FX_YEN_drop = FX_YEN.dropna(axis=0)\n",
    "FX_YEN_drop = FX_YEN_drop.reset_index(drop=True)\n",
    "\n",
    "''' Drop the rows which contains missing value in FX_EUR'''\n",
    "FX_EUR_drop = FX_EUR.dropna(axis=0)\n",
    "FX_EUR_drop = FX_EUR_drop.reset_index(drop=True)\n",
    "\n",
    "print(len(FX_YEN_drop))\n",
    "print(len(FX_EUR_drop))"
   ]
  },
  {
   "cell_type": "markdown",
   "metadata": {},
   "source": [
    "## Data Processing"
   ]
  },
  {
   "cell_type": "markdown",
   "metadata": {},
   "source": [
    "### 1. Merge data"
   ]
  },
  {
   "cell_type": "code",
   "execution_count": 6,
   "metadata": {},
   "outputs": [
    {
     "name": "stdout",
     "output_type": "stream",
     "text": [
      "2112\n",
      "2112\n",
      "The dates exist in all five dataset: 2118 trading days\n"
     ]
    }
   ],
   "source": [
    "s1 = set(GSPC['Date'])\n",
    "s2 = set(DBC['Date'])\n",
    "s3 = set(N225_drop['Date'])\n",
    "s4 = set(BTC['Date'])\n",
    "s5 = set(DE_1YBOND['Date'])\n",
    "s6 = set(FX_YEN_drop['Date'])\n",
    "s7 = set(FX_EUR_drop['Date'])\n",
    "\n",
    "d = [x for x in s3 if x in s1 and x in s2 and x in s4 and x in s5 and x in s6 and x in s7]\n",
    "\n",
    "asset = [s1,s2,s3,s4,s5,s6,s7]\n",
    "\n",
    "intersec = s3.intersection(s1,s2,s4,s5,s6,s7)\n",
    "print(len(intersec))\n",
    "print(len(d))\n",
    "set(d) == set(intersec)\n",
    "\n",
    "print('The dates exist in all five dataset: 2118 trading days')"
   ]
  },
  {
   "cell_type": "code",
   "execution_count": 7,
   "metadata": {},
   "outputs": [],
   "source": [
    "'''  Create new dataframes, keep only the overlapping date-related data'''\n",
    "\n",
    "new = []\n",
    "asset = [BTC,DBC,DE_1YBOND,GSPC,N225_drop,FX_YEN_drop,FX_EUR_drop]\n",
    "for item in asset:\n",
    "    miss = []\n",
    "    for i in item['Date']:\n",
    "        if i not in intersec:\n",
    "            miss = miss + item.index[item['Date']==i].tolist()\n",
    "    item = item.drop(miss)\n",
    "    item = item.reset_index(drop=True)\n",
    "    new.append(item)"
   ]
  },
  {
   "cell_type": "code",
   "execution_count": 8,
   "metadata": {
    "scrolled": true
   },
   "outputs": [
    {
     "name": "stdout",
     "output_type": "stream",
     "text": [
      "(2112, 7)\n",
      "Date         0\n",
      "Open         0\n",
      "High         0\n",
      "Low          0\n",
      "Close        0\n",
      "Adj Close    0\n",
      "Volume       0\n",
      "dtype: int64\n",
      "(2112, 7)\n",
      "Date         0\n",
      "Open         0\n",
      "High         0\n",
      "Low          0\n",
      "Close        0\n",
      "Adj Close    0\n",
      "Volume       0\n",
      "dtype: int64\n",
      "(2112, 6)\n",
      "Date        0\n",
      "Price       0\n",
      "Open        0\n",
      "High        0\n",
      "Low         0\n",
      "Change %    0\n",
      "dtype: int64\n",
      "(2112, 7)\n",
      "Date         0\n",
      "Open         0\n",
      "High         0\n",
      "Low          0\n",
      "Close        0\n",
      "Adj Close    0\n",
      "Volume       0\n",
      "dtype: int64\n",
      "(2112, 7)\n",
      "Date         0\n",
      "Open         0\n",
      "High         0\n",
      "Low          0\n",
      "Close        0\n",
      "Adj Close    0\n",
      "Volume       0\n",
      "dtype: int64\n",
      "(2112, 7)\n",
      "Date         0\n",
      "Open         0\n",
      "High         0\n",
      "Low          0\n",
      "Close        0\n",
      "Adj Close    0\n",
      "Volume       0\n",
      "dtype: int64\n",
      "(2112, 7)\n",
      "Date         0\n",
      "Open         0\n",
      "High         0\n",
      "Low          0\n",
      "Close        0\n",
      "Adj Close    0\n",
      "Volume       0\n",
      "dtype: int64\n"
     ]
    }
   ],
   "source": [
    "''' Assign the dataframe '''\n",
    "\n",
    "BTC_new = new[0]\n",
    "DBC_new = new[1]\n",
    "DE_1YBOND_new = new[2]\n",
    "GSPC_new = new[3]\n",
    "N225_new = new[4]\n",
    "FX_YEN_new = new[5]\n",
    "FX_EUR_new = new[6]\n",
    "\n",
    "asset = [BTC_new,DBC_new,DE_1YBOND_new,GSPC_new,N225_new,FX_YEN_new,FX_EUR_new]\n",
    "\n",
    "for i in asset:\n",
    "    print(i.shape)\n",
    "    print(i.isnull().sum())"
   ]
  },
  {
   "cell_type": "code",
   "execution_count": 9,
   "metadata": {},
   "outputs": [],
   "source": [
    "''' Create new dataframe containing only the same dates related information  '''\n",
    "\n",
    "#asset_price , asset_adj_price , return\n",
    "\n",
    "asset = [BTC_new,DBC_new,GSPC_new,N225_new,FX_YEN_new,FX_EUR_new]\n",
    "asset_name = ['BTC','DBC','GSPC','N225','FX_YEN','FX_EUR']\n",
    "\n",
    "for i in range(len(asset)):\n",
    "    '''Rename Price column'''\n",
    "    asset[i].rename(columns={'Adj Close':'Price_'+asset_name[i]}, inplace=True)\n",
    "    '''Create lags for all assets'''\n",
    "    asset[i]['Price_'+asset_name[i]+'_lag'] = asset[i]['Price_'+asset_name[i]].shift(1)\n",
    "    '''Calculate individual asset returns'''\n",
    "    asset[i][asset_name[i]+'_return'] = np.log(asset[i]['Price_'+asset_name[i]]/asset[i]['Price_'+asset_name[i]+'_lag'])\n",
    "    \n",
    "#print(BTC_new)"
   ]
  },
  {
   "cell_type": "code",
   "execution_count": 10,
   "metadata": {},
   "outputs": [
    {
     "name": "stdout",
     "output_type": "stream",
     "text": [
      "BTC\n",
      "DBC\n",
      "GSPC\n",
      "N225\n",
      "FX_YEN\n",
      "FX_EUR\n"
     ]
    }
   ],
   "source": [
    "#Keep only relevant columns\n",
    "\n",
    "result = []\n",
    "for i in range(len(asset)):\n",
    "    print(asset_name[i])\n",
    "    if i == 0:\n",
    "        asset[i] = asset[i][['Date','Price_'+asset_name[i],'Price_'+asset_name[i]+'_lag',asset_name[i]+'_return']]\n",
    "        result.append(asset[i])\n",
    "    else:\n",
    "        asset[i] = asset[i][['Price_'+asset_name[i],'Price_'+asset_name[i]+'_lag',asset_name[i]+'_return']]\n",
    "        result.append(asset[i])"
   ]
  },
  {
   "cell_type": "code",
   "execution_count": 11,
   "metadata": {},
   "outputs": [
    {
     "name": "stdout",
     "output_type": "stream",
     "text": [
      "(2112, 4)\n",
      "(2112, 3)\n",
      "(2112, 3)\n",
      "(2112, 3)\n",
      "(2112, 3)\n",
      "(2112, 3)\n"
     ]
    }
   ],
   "source": [
    "# Check the shape\n",
    "BTC_new = result[0]\n",
    "DBC_new = result[1]\n",
    "GSPC_new = result[2]\n",
    "N225_new = result[3]\n",
    "FX_YEN_new = result[4]\n",
    "FX_EUR_new = result[5]\n",
    "\n",
    "asset = [BTC_new,DBC_new,GSPC_new,N225_new,FX_YEN_new,FX_EUR_new]\n",
    "\n",
    "\n",
    "for i in asset:\n",
    "    print(i.shape)\n"
   ]
  },
  {
   "cell_type": "code",
   "execution_count": 12,
   "metadata": {},
   "outputs": [
    {
     "name": "stdout",
     "output_type": "stream",
     "text": [
      "0         NaN\n",
      "1   -0.004800\n",
      "2    0.001081\n",
      "3   -0.010690\n",
      "4   -0.003248\n",
      "Name: N225_return, dtype: float64\n",
      "0         NaN\n",
      "1   -0.002498\n",
      "2   -0.010222\n",
      "3    0.001010\n",
      "4   -0.012104\n",
      "Name: FX_YEN_return, dtype: float64\n"
     ]
    }
   ],
   "source": [
    "print(N225_new['N225_return'].head())\n",
    "print(FX_YEN_new['FX_YEN_return'].head())"
   ]
  },
  {
   "cell_type": "code",
   "execution_count": 13,
   "metadata": {},
   "outputs": [
    {
     "name": "stderr",
     "output_type": "stream",
     "text": [
      "C:\\Users\\Asus\\.conda\\envs\\py37\\lib\\site-packages\\ipykernel_launcher.py:3: SettingWithCopyWarning: \n",
      "A value is trying to be set on a copy of a slice from a DataFrame.\n",
      "Try using .loc[row_indexer,col_indexer] = value instead\n",
      "\n",
      "See the caveats in the documentation: http://pandas.pydata.org/pandas-docs/stable/user_guide/indexing.html#returning-a-view-versus-a-copy\n",
      "  This is separate from the ipykernel package so we can avoid doing imports until\n"
     ]
    }
   ],
   "source": [
    "''' Add the Nikkei return and FX_YUAN together as one total N225 return'''\n",
    "\n",
    "N225_new['N225_return_all']  = N225_new['N225_return']  + FX_YEN_new['FX_YEN_return'] \n",
    "N225_new = N225_new.drop(['N225_return'],axis=1)\n",
    "N225_new.rename(columns={'N225_return_all':'N225_return'}, inplace=True)\n"
   ]
  },
  {
   "cell_type": "code",
   "execution_count": 14,
   "metadata": {},
   "outputs": [
    {
     "data": {
      "text/html": [
       "<div>\n",
       "<style scoped>\n",
       "    .dataframe tbody tr th:only-of-type {\n",
       "        vertical-align: middle;\n",
       "    }\n",
       "\n",
       "    .dataframe tbody tr th {\n",
       "        vertical-align: top;\n",
       "    }\n",
       "\n",
       "    .dataframe thead th {\n",
       "        text-align: right;\n",
       "    }\n",
       "</style>\n",
       "<table border=\"1\" class=\"dataframe\">\n",
       "  <thead>\n",
       "    <tr style=\"text-align: right;\">\n",
       "      <th></th>\n",
       "      <th>Price_N225</th>\n",
       "      <th>Price_N225_lag</th>\n",
       "      <th>N225_return</th>\n",
       "    </tr>\n",
       "  </thead>\n",
       "  <tbody>\n",
       "    <tr>\n",
       "      <td>0</td>\n",
       "      <td>9755.099609</td>\n",
       "      <td>NaN</td>\n",
       "      <td>NaN</td>\n",
       "    </tr>\n",
       "    <tr>\n",
       "      <td>1</td>\n",
       "      <td>9708.389648</td>\n",
       "      <td>9755.099609</td>\n",
       "      <td>-0.007297</td>\n",
       "    </tr>\n",
       "    <tr>\n",
       "      <td>2</td>\n",
       "      <td>9718.889648</td>\n",
       "      <td>9708.389648</td>\n",
       "      <td>-0.009141</td>\n",
       "    </tr>\n",
       "    <tr>\n",
       "      <td>3</td>\n",
       "      <td>9615.549805</td>\n",
       "      <td>9718.889648</td>\n",
       "      <td>-0.009680</td>\n",
       "    </tr>\n",
       "    <tr>\n",
       "      <td>4</td>\n",
       "      <td>9584.370117</td>\n",
       "      <td>9615.549805</td>\n",
       "      <td>-0.015352</td>\n",
       "    </tr>\n",
       "    <tr>\n",
       "      <td>...</td>\n",
       "      <td>...</td>\n",
       "      <td>...</td>\n",
       "      <td>...</td>\n",
       "    </tr>\n",
       "    <tr>\n",
       "      <td>2107</td>\n",
       "      <td>18092.349609</td>\n",
       "      <td>16887.779297</td>\n",
       "      <td>0.065580</td>\n",
       "    </tr>\n",
       "    <tr>\n",
       "      <td>2108</td>\n",
       "      <td>19546.630859</td>\n",
       "      <td>18092.349609</td>\n",
       "      <td>0.074650</td>\n",
       "    </tr>\n",
       "    <tr>\n",
       "      <td>2109</td>\n",
       "      <td>18664.599609</td>\n",
       "      <td>19546.630859</td>\n",
       "      <td>-0.043954</td>\n",
       "    </tr>\n",
       "    <tr>\n",
       "      <td>2110</td>\n",
       "      <td>19389.429688</td>\n",
       "      <td>18664.599609</td>\n",
       "      <td>0.054158</td>\n",
       "    </tr>\n",
       "    <tr>\n",
       "      <td>2111</td>\n",
       "      <td>19084.970703</td>\n",
       "      <td>19389.429688</td>\n",
       "      <td>-0.000130</td>\n",
       "    </tr>\n",
       "  </tbody>\n",
       "</table>\n",
       "<p>2112 rows × 3 columns</p>\n",
       "</div>"
      ],
      "text/plain": [
       "        Price_N225  Price_N225_lag  N225_return\n",
       "0      9755.099609             NaN          NaN\n",
       "1      9708.389648     9755.099609    -0.007297\n",
       "2      9718.889648     9708.389648    -0.009141\n",
       "3      9615.549805     9718.889648    -0.009680\n",
       "4      9584.370117     9615.549805    -0.015352\n",
       "...            ...             ...          ...\n",
       "2107  18092.349609    16887.779297     0.065580\n",
       "2108  19546.630859    18092.349609     0.074650\n",
       "2109  18664.599609    19546.630859    -0.043954\n",
       "2110  19389.429688    18664.599609     0.054158\n",
       "2111  19084.970703    19389.429688    -0.000130\n",
       "\n",
       "[2112 rows x 3 columns]"
      ]
     },
     "execution_count": 14,
     "metadata": {},
     "output_type": "execute_result"
    }
   ],
   "source": [
    "N225_new"
   ]
  },
  {
   "cell_type": "code",
   "execution_count": 15,
   "metadata": {},
   "outputs": [],
   "source": [
    "'''And drop FX_YEN and FX_EUR from the list '''\n",
    "asset = [BTC_new,DBC_new,GSPC_new,N225_new,FX_YEN_new,FX_EUR_new]\n",
    "\n",
    "asset = asset[:-2]"
   ]
  },
  {
   "cell_type": "code",
   "execution_count": 16,
   "metadata": {},
   "outputs": [
    {
     "data": {
      "text/html": [
       "<div>\n",
       "<style scoped>\n",
       "    .dataframe tbody tr th:only-of-type {\n",
       "        vertical-align: middle;\n",
       "    }\n",
       "\n",
       "    .dataframe tbody tr th {\n",
       "        vertical-align: top;\n",
       "    }\n",
       "\n",
       "    .dataframe thead th {\n",
       "        text-align: right;\n",
       "    }\n",
       "</style>\n",
       "<table border=\"1\" class=\"dataframe\">\n",
       "  <thead>\n",
       "    <tr style=\"text-align: right;\">\n",
       "      <th></th>\n",
       "      <th>Date</th>\n",
       "      <th>Price_BTC</th>\n",
       "      <th>Price_BTC_lag</th>\n",
       "      <th>BTC_return</th>\n",
       "      <th>Price_DBC</th>\n",
       "      <th>Price_DBC_lag</th>\n",
       "      <th>DBC_return</th>\n",
       "      <th>Price_GSPC</th>\n",
       "      <th>Price_GSPC_lag</th>\n",
       "      <th>GSPC_return</th>\n",
       "      <th>Price_N225</th>\n",
       "      <th>Price_N225_lag</th>\n",
       "      <th>N225_return</th>\n",
       "    </tr>\n",
       "  </thead>\n",
       "  <tbody>\n",
       "    <tr>\n",
       "      <td>0</td>\n",
       "      <td>2011-03-31</td>\n",
       "      <td>0.7846</td>\n",
       "      <td>NaN</td>\n",
       "      <td>NaN</td>\n",
       "      <td>29.643923</td>\n",
       "      <td>NaN</td>\n",
       "      <td>NaN</td>\n",
       "      <td>1325.829956</td>\n",
       "      <td>NaN</td>\n",
       "      <td>NaN</td>\n",
       "      <td>9755.099609</td>\n",
       "      <td>NaN</td>\n",
       "      <td>NaN</td>\n",
       "    </tr>\n",
       "    <tr>\n",
       "      <td>1</td>\n",
       "      <td>2011-04-01</td>\n",
       "      <td>0.7741</td>\n",
       "      <td>0.7846</td>\n",
       "      <td>-0.013473</td>\n",
       "      <td>29.847960</td>\n",
       "      <td>29.643923</td>\n",
       "      <td>0.006859</td>\n",
       "      <td>1332.410034</td>\n",
       "      <td>1325.829956</td>\n",
       "      <td>0.004951</td>\n",
       "      <td>9708.389648</td>\n",
       "      <td>9755.099609</td>\n",
       "      <td>-0.007297</td>\n",
       "    </tr>\n",
       "    <tr>\n",
       "      <td>2</td>\n",
       "      <td>2011-04-04</td>\n",
       "      <td>0.6800</td>\n",
       "      <td>0.7741</td>\n",
       "      <td>-0.129608</td>\n",
       "      <td>30.120012</td>\n",
       "      <td>29.847960</td>\n",
       "      <td>0.009073</td>\n",
       "      <td>1332.869995</td>\n",
       "      <td>1332.410034</td>\n",
       "      <td>0.000345</td>\n",
       "      <td>9718.889648</td>\n",
       "      <td>9708.389648</td>\n",
       "      <td>-0.009141</td>\n",
       "    </tr>\n",
       "    <tr>\n",
       "      <td>3</td>\n",
       "      <td>2011-04-05</td>\n",
       "      <td>0.7100</td>\n",
       "      <td>0.6800</td>\n",
       "      <td>0.043172</td>\n",
       "      <td>30.149160</td>\n",
       "      <td>30.120012</td>\n",
       "      <td>0.000967</td>\n",
       "      <td>1332.630005</td>\n",
       "      <td>1332.869995</td>\n",
       "      <td>-0.000180</td>\n",
       "      <td>9615.549805</td>\n",
       "      <td>9718.889648</td>\n",
       "      <td>-0.009680</td>\n",
       "    </tr>\n",
       "    <tr>\n",
       "      <td>4</td>\n",
       "      <td>2011-04-06</td>\n",
       "      <td>0.7400</td>\n",
       "      <td>0.7100</td>\n",
       "      <td>0.041385</td>\n",
       "      <td>30.236607</td>\n",
       "      <td>30.149160</td>\n",
       "      <td>0.002896</td>\n",
       "      <td>1335.540039</td>\n",
       "      <td>1332.630005</td>\n",
       "      <td>0.002181</td>\n",
       "      <td>9584.370117</td>\n",
       "      <td>9615.549805</td>\n",
       "      <td>-0.015352</td>\n",
       "    </tr>\n",
       "  </tbody>\n",
       "</table>\n",
       "</div>"
      ],
      "text/plain": [
       "         Date  Price_BTC  Price_BTC_lag  BTC_return  Price_DBC  Price_DBC_lag  \\\n",
       "0  2011-03-31     0.7846            NaN         NaN  29.643923            NaN   \n",
       "1  2011-04-01     0.7741         0.7846   -0.013473  29.847960      29.643923   \n",
       "2  2011-04-04     0.6800         0.7741   -0.129608  30.120012      29.847960   \n",
       "3  2011-04-05     0.7100         0.6800    0.043172  30.149160      30.120012   \n",
       "4  2011-04-06     0.7400         0.7100    0.041385  30.236607      30.149160   \n",
       "\n",
       "   DBC_return   Price_GSPC  Price_GSPC_lag  GSPC_return   Price_N225  \\\n",
       "0         NaN  1325.829956             NaN          NaN  9755.099609   \n",
       "1    0.006859  1332.410034     1325.829956     0.004951  9708.389648   \n",
       "2    0.009073  1332.869995     1332.410034     0.000345  9718.889648   \n",
       "3    0.000967  1332.630005     1332.869995    -0.000180  9615.549805   \n",
       "4    0.002896  1335.540039     1332.630005     0.002181  9584.370117   \n",
       "\n",
       "   Price_N225_lag  N225_return  \n",
       "0             NaN          NaN  \n",
       "1     9755.099609    -0.007297  \n",
       "2     9708.389648    -0.009141  \n",
       "3     9718.889648    -0.009680  \n",
       "4     9615.549805    -0.015352  "
      ]
     },
     "execution_count": 16,
     "metadata": {},
     "output_type": "execute_result"
    }
   ],
   "source": [
    "#Merge\n",
    "data = pd.concat(asset,axis=1)\n",
    "data.head()"
   ]
  },
  {
   "cell_type": "markdown",
   "metadata": {},
   "source": [
    "### 2. Calculate portfolio returns"
   ]
  },
  {
   "cell_type": "code",
   "execution_count": 17,
   "metadata": {},
   "outputs": [
    {
     "data": {
      "text/plain": [
       "2107    0.056289\n",
       "2108    0.023692\n",
       "2109    0.004597\n",
       "2110   -0.005255\n",
       "2111    0.006459\n",
       "Name: portfolio_return, dtype: float64"
      ]
     },
     "execution_count": 17,
     "metadata": {},
     "output_type": "execute_result"
    }
   ],
   "source": [
    "'''Assume equal weight (0.25) for the 4 assets and calculate portfolio returns - later to change it when we also add the bond'''\n",
    "\n",
    "data['portfolio_return'] = 0.25*data['BTC_return'] + 0.25*data['DBC_return'] + 0.25*data['GSPC_return'] + 0.25*data['N225_return'] \n",
    "data['portfolio_return'] .tail()"
   ]
  },
  {
   "cell_type": "code",
   "execution_count": 18,
   "metadata": {},
   "outputs": [
    {
     "data": {
      "text/plain": [
       "Text(0, 0.5, 'Average portfolio return')"
      ]
     },
     "execution_count": 18,
     "metadata": {},
     "output_type": "execute_result"
    },
    {
     "data": {
      "image/png": "[encoded data removed]",
      "text/plain": [
       "<Figure size 800x600 with 1 Axes>"
      ]
     },
     "metadata": {
      "needs_background": "light"
     },
     "output_type": "display_data"
    }
   ],
   "source": [
    "plt.figure(figsize=(8,6),dpi=100)\n",
    "plt.plot(data['portfolio_return'])\n",
    "plt.xlabel('Time',fontsize=13)\n",
    "plt.ylabel('Average portfolio return',fontsize=13)"
   ]
  },
  {
   "cell_type": "markdown",
   "metadata": {},
   "source": [
    "### 3. Create Histogram and QQ plot of the portfolio returns"
   ]
  },
  {
   "cell_type": "code",
   "execution_count": 27,
   "metadata": {
    "scrolled": false
   },
   "outputs": [
    {
     "data": {
      "image/png": "[encoded data removed]",
      "text/plain": [
       "<Figure size 1080x720 with 4 Axes>"
      ]
     },
     "metadata": {
      "needs_background": "light"
     },
     "output_type": "display_data"
    }
   ],
   "source": [
    "##assign df:\n",
    "df = 3\n",
    "#create distributions\n",
    "mu= np.mean(data['portfolio_return'][1:])\n",
    "sigma= np.std(data['portfolio_return'][1:])\n",
    "sigmat= np.sqrt(np.var(data['portfolio_return'][1:])*(df-2)/df)\n",
    "normaldistr= 1/(sigma*np.sqrt(2*np.pi))*np.exp(-(bins-mu)**2/(2*sigma**2))\n",
    "tval= np.linspace(sc.stats.t.ppf(0.01, df, mu, sigmat),\n",
    "                  sc.stats.t.ppf(0.99, df, mu, sigmat), 51)\n",
    "tdistr= sc.stats.t.pdf(tval, df, mu, sigmat)    # Simulate t-distribution\n",
    "### figure for t distr. and normal distr. comparison\n",
    "fig, ax = plt.subplots(nrows=2, ncols=2, figsize=(15,10))\n",
    "# normal\n",
    "plt.subplot(2,2,1)\n",
    "count, bins, ignored= plt.hist(data['portfolio_return'][1:], bins= 50, density = True)\n",
    "plt.plot(bins, normaldistr, linewidth= 2, color= \"r\")\n",
    "plt.xlabel(\"Portfolio Returns\")\n",
    "plt.ylabel(\"Frequency\")\n",
    "#plt.xlim( (-40000, 40000) )\n",
    "plt.title(\"Normal Distribution - Portfolio Returns\")\n",
    "# normal qq\n",
    "plt.subplot(2,2,2)\n",
    "sc.stats.probplot(data['portfolio_return'][1:], dist= \"norm\", plot=plt)\n",
    "plt.title(\"Q-Q Plot for Normal Distribution - Portfolio Returns\")\n",
    "# stundent t\n",
    "plt.subplot(2,2,3)\n",
    "count, bins, ignored= plt.hist(data['portfolio_return'][1:], bins= 50, density = True)\n",
    "plt.plot(tval, tdistr, linewidth= 2, color= \"r\")\n",
    "plt.xlabel(\"Portfolio Returns\")\n",
    "plt.ylabel(\"Frequency\")\n",
    "#plt.xlim( (-40000, 40000) )\n",
    "plt.title(\"Student-t Distribution - Portfolio Returns\")\n",
    "# student t qq\n",
    "plt.subplot(2,2,4)\n",
    "sc.stats.probplot(data['portfolio_return'][1:], dist= sc.stats.t(df), plot=plt)\n",
    "plt.title(\"Q-Q Plot for Student-t - Portfolio Returns\")\n",
    "plt.tight_layout()\n",
    "plt.show()"
   ]
  },
  {
   "cell_type": "markdown",
   "metadata": {},
   "source": [
    "## VaR and ES"
   ]
  },
  {
   "cell_type": "markdown",
   "metadata": {},
   "source": [
    "### 1. Normal Distribution"
   ]
  },
  {
   "cell_type": "code",
   "execution_count": 204,
   "metadata": {},
   "outputs": [],
   "source": [
    "def fnVaR_n(dfData, weights, alpha, lookback, percent, initial_investment):\n",
    "    \"\"\"\n",
    "    purpose:\n",
    "        calculates VaR and ES with variance-covariance method\n",
    "        using a normal distribution\n",
    "    input:\n",
    "        dfData, dataframe\n",
    "        weights, weights vector\n",
    "        alpha, significance value\n",
    "        lookback, lookback period\n",
    "        percent, True= express in percent\n",
    "    output:\n",
    "        VaR expressed in losses (positive value)\n",
    "    \"\"\"\n",
    "    # check alpha\n",
    "    if alpha > 0.5:\n",
    "        alpha= 1-alpha\n",
    "    \n",
    "    # express years in days\n",
    "    years= lookback\n",
    "    # select last n years of data\n",
    "    DataTemp= dfData.iloc[-years*250:,:-1]  #converted to days\n",
    "    \n",
    "    # calculate mean\n",
    "    mean= np.array(np.mean(DataTemp))@weights.T\n",
    "    mean= mean[0]\n",
    "    \n",
    "    \n",
    "    # calculate covariance\n",
    "    cov= np.cov(DataTemp, rowvar= False)\n",
    "    # calculate variance\n",
    "    variance= weights@cov@weights.T\n",
    "    std= np.sqrt(variance[0][0])\n",
    "    \n",
    "    # calculate quantile\n",
    "    z= sc.stats.norm.ppf(alpha)\n",
    "    VaR= -mean + z * std # μ is negative of the return over one day, so should be negative sign\n",
    "    VaR= -VaR\n",
    "    \n",
    "    #calculate ES - this is not working so far\n",
    "    #ES= -VaR\n",
    "    #DataTemp_ES= dfData.iloc[-years:,6]\n",
    "    #DataTemp_ES= DataTemp_ES[DataTemp_ES < ES]\n",
    "    #ES= -np.mean(DataTemp_ES)\n",
    "    \n",
    "    #if percent == False:\n",
    "        #VaR= VaR*dfData.iloc[-1,7]\n",
    "        #ES= ES*dfData.iloc[-1,7]\n",
    "        #ES= round(ES, 2)\n",
    "        #VaR= round(VaR, 2)\n",
    "    #ES = -mean + std*(sc.stats.norm.pdf(z)/(1-alpha))\n",
    "    mean_return = dfData['portfolio_return'][-years*250:]\n",
    "    ES_list = [x for x in mean_return if x < -VaR]\n",
    "    ES = -np.mean(ES_list)\n",
    "    \n",
    "    return VaR, ES"
   ]
  },
  {
   "cell_type": "code",
   "execution_count": 205,
   "metadata": {},
   "outputs": [
    {
     "name": "stdout",
     "output_type": "stream",
     "text": [
      "(97.5% VaR,ES) in percentage is:\n",
      "(0.03200838227913449, 0.05402005661742896)\n",
      "Monetary (97.5% VaR,ES) is:\n",
      "(32008.382279134486, 54020.056617428956)\n",
      "(99% VaR,ES) in percentage is:\n",
      "(0.037876047754226635, 0.06797494547638443)\n",
      "Monetary (99% VaR,ES) is:\n",
      "(37876.04775422664, 67974.94547638443)\n"
     ]
    }
   ],
   "source": [
    "# Set an initial investment level\n",
    "initial_investment = 1000000\n",
    "\n",
    "df_prices = data[['BTC_return', 'DBC_return', 'GSPC_return', 'N225_return','portfolio_return']]\n",
    "weights= np.array([[.25,.25,.25,.25]])\n",
    "alpha = 0.975\n",
    "lookback = 3\n",
    "percent = True\n",
    "\n",
    "VaR,ES = fnVaR_n(df_prices, weights, alpha, lookback, percent,initial_investment)\n",
    "print('(97.5% VaR,ES) in percentage is:')\n",
    "print((VaR,ES))\n",
    "print('Monetary (97.5% VaR,ES) is:')\n",
    "print((VaR*initial_investment,ES*initial_investment))\n",
    "\n",
    "alpha = 0.99\n",
    "\n",
    "VaR,ES = fnVaR_n(df_prices, weights, alpha, lookback, percent,initial_investment)\n",
    "print('(99% VaR,ES) in percentage is:')\n",
    "print((VaR,ES))\n",
    "print('Monetary (99% VaR,ES) is:')\n",
    "print((VaR*initial_investment,ES*initial_investment))"
   ]
  },
  {
   "cell_type": "markdown",
   "metadata": {},
   "source": [
    "**Pan:** Discussion points <br>\n",
    "1. Ask about the dates\n",
    "2. Ask about outliers\n",
    "3. I set the monetary values as the percertage * the initial investment values (initials values of the portfolio?) <br>\n",
    "Not sure if it's correct!!!!!!"
   ]
  },
  {
   "cell_type": "markdown",
   "metadata": {},
   "source": [
    "### 2. Student t-distribution"
   ]
  },
  {
   "cell_type": "markdown",
   "metadata": {},
   "source": [
    "### Check student t-assumption with QQ-plots"
   ]
  },
  {
   "cell_type": "code",
   "execution_count": 206,
   "metadata": {},
   "outputs": [
    {
     "data": {
      "image/png": "[encoded data removed]",
      "text/plain": [
       "<Figure size 1080x720 with 4 Axes>"
      ]
     },
     "metadata": {
      "needs_background": "light"
     },
     "output_type": "display_data"
    }
   ],
   "source": [
    "fig, ax = plt.subplots(nrows=2, ncols=2, figsize=(15,10))\n",
    "plt.subplot(2,2,1)\n",
    "sc.stats.probplot(data['portfolio_return'][1:], dist= sc.stats.t(3), plot=plt)\n",
    "plt.title(\"Q-Q Plot for Student-t (df=3)\")\n",
    "plt.tight_layout()\n",
    "plt.subplot(2,2,2)\n",
    "sc.stats.probplot(data['portfolio_return'][1:], dist= sc.stats.t(4), plot=plt)\n",
    "plt.title(\"Q-Q Plot for Student-t (df=4)\")\n",
    "plt.tight_layout()\n",
    "plt.subplot(2,2,3)\n",
    "sc.stats.probplot(data['portfolio_return'][1:], dist= sc.stats.t(5), plot=plt)\n",
    "plt.title(\"Q-Q Plot for Student-t (df=5)\")\n",
    "plt.tight_layout()\n",
    "plt.subplot(2,2,4)\n",
    "sc.stats.probplot(data['portfolio_return'][1:], dist= sc.stats.t(6), plot=plt)\n",
    "plt.title(\"Q-Q Plot for Student-t (df=6)\")\n",
    "plt.tight_layout()\n",
    "plt.show()"
   ]
  },
  {
   "cell_type": "code",
   "execution_count": 207,
   "metadata": {},
   "outputs": [],
   "source": [
    "def fnVaR_t(dfData, weights, alpha, lookback, percent, initial_investment):\n",
    "    \"\"\"\n",
    "    purpose:\n",
    "        calculates VaR and ES with variance-covariance method\n",
    "        using a t-distribution\n",
    "    input:\n",
    "        dfData, dataframe\n",
    "        weights, weights vector\n",
    "        apha, significance value\n",
    "        lookback, lookback period\n",
    "        df, degrees of freedom\n",
    "        percent, True= express in percent\n",
    "    output:\n",
    "        VaR expressed in losses (positive value)\n",
    "    \"\"\"\n",
    "    # check alpha\n",
    "    if alpha > 0.5:\n",
    "        alpha= 1-alpha\n",
    "    \n",
    "    # express years in days\n",
    "    years= lookback\n",
    "    # select last n years of data\n",
    "    DataTemp= dfData.iloc[-years*250:,:-1]  #converted to days\n",
    "    \n",
    "    # calculate mean\n",
    "    mean= np.array(np.mean(DataTemp))@weights.T\n",
    "    mean= mean[0]\n",
    "    \n",
    "    # calculate covariance\n",
    "    cov= np.cov(DataTemp, rowvar= False)\n",
    "    # calculate variance\n",
    "    variance= weights@cov@weights.T\n",
    "    variance= variance[0][0]*(df-2)/df # account for variance of standard student-t\n",
    "\n",
    "    # calculate quantile\n",
    "    t= sc.stats.t.ppf(alpha, df)\n",
    "    VaR= -mean + t * np.sqrt(variance)\n",
    "    VaR= -VaR\n",
    "    \n",
    "    #calculate ES\n",
    "    mean_return = dfData['portfolio_return'][-years*250:]\n",
    "    ES_list = [x for x in mean_return if x < -VaR]\n",
    "    ES = -np.mean(ES_list)\n",
    "    \n",
    "    return VaR, ES"
   ]
  },
  {
   "cell_type": "markdown",
   "metadata": {},
   "source": [
    "### df=3"
   ]
  },
  {
   "cell_type": "code",
   "execution_count": 208,
   "metadata": {},
   "outputs": [
    {
     "name": "stdout",
     "output_type": "stream",
     "text": [
      "(97.5% VaR,ES) in percentage is:\n",
      "(0.030045290361468878, 0.05185504460755116)\n",
      "Monetary (97.5% VaR,ES) is:\n",
      "(30045.290361468877, 51855.04460755116)\n",
      "(99% VaR,ES) in percentage is:\n",
      "(0.042604148623104895, 0.0739400525608479)\n",
      "Monetary (99% VaR,ES) is:\n",
      "(42604.1486231049, 73940.05256084791)\n"
     ]
    }
   ],
   "source": [
    "# Set an initial investment level\n",
    "df=3\n",
    "alpha = 0.975\n",
    "\n",
    "VaR,ES = fnVaR_t(df_prices, weights, alpha, lookback, percent,initial_investment)\n",
    "print('(97.5% VaR,ES) in percentage is:')\n",
    "print((VaR,ES))\n",
    "print('Monetary (97.5% VaR,ES) is:')\n",
    "print((VaR*initial_investment,ES*initial_investment))\n",
    "\n",
    "alpha = 0.99\n",
    "\n",
    "VaR,ES = fnVaR_t(df_prices, weights, alpha, lookback, percent,initial_investment)\n",
    "print('(99% VaR,ES) in percentage is:')\n",
    "print((VaR,ES))\n",
    "print('Monetary (99% VaR,ES) is:')\n",
    "print((VaR*initial_investment,ES*initial_investment))"
   ]
  },
  {
   "cell_type": "markdown",
   "metadata": {},
   "source": [
    "### df=4"
   ]
  },
  {
   "cell_type": "code",
   "execution_count": 209,
   "metadata": {},
   "outputs": [
    {
     "name": "stdout",
     "output_type": "stream",
     "text": [
      "(97.5% VaR,ES) in percentage is:\n",
      "(0.032060898543780136, 0.05402005661742896)\n",
      "Monetary (97.5% VaR,ES) is:\n",
      "(32060.898543780135, 54020.056617428956)\n",
      "(99% VaR,ES) in percentage is:\n",
      "(0.0430512236797615, 0.0739400525608479)\n",
      "Monetary (99% VaR,ES) is:\n",
      "(43051.2236797615, 73940.05256084791)\n"
     ]
    }
   ],
   "source": [
    "# Set an initial investment level\n",
    "df=4\n",
    "alpha = 0.975\n",
    "\n",
    "VaR,ES = fnVaR_t(df_prices, weights, alpha, lookback, percent,initial_investment)\n",
    "print('(97.5% VaR,ES) in percentage is:')\n",
    "print((VaR,ES))\n",
    "print('Monetary (97.5% VaR,ES) is:')\n",
    "print((VaR*initial_investment,ES*initial_investment))\n",
    "\n",
    "alpha = 0.99\n",
    "\n",
    "VaR,ES = fnVaR_t(df_prices, weights, alpha, lookback, percent,initial_investment)\n",
    "print('(99% VaR,ES) in percentage is:')\n",
    "print((VaR,ES))\n",
    "print('Monetary (99% VaR,ES) is:')\n",
    "print((VaR*initial_investment,ES*initial_investment))"
   ]
  },
  {
   "cell_type": "markdown",
   "metadata": {},
   "source": [
    "### df=5"
   ]
  },
  {
   "cell_type": "code",
   "execution_count": 210,
   "metadata": {},
   "outputs": [
    {
     "name": "stdout",
     "output_type": "stream",
     "text": [
      "(97.5% VaR,ES) in percentage is:\n",
      "(0.03250805492764335, 0.05657885706107275)\n",
      "Monetary (97.5% VaR,ES) is:\n",
      "(32508.054927643352, 56578.85706107275)\n",
      "(99% VaR,ES) in percentage is:\n",
      "(0.04236212162837512, 0.0739400525608479)\n",
      "Monetary (99% VaR,ES) is:\n",
      "(42362.12162837512, 73940.05256084791)\n"
     ]
    }
   ],
   "source": [
    "# Set an initial investment level\n",
    "df=5\n",
    "alpha = 0.975\n",
    "\n",
    "VaR,ES = fnVaR_t(df_prices, weights, alpha, lookback, percent,initial_investment)\n",
    "print('(97.5% VaR,ES) in percentage is:')\n",
    "print((VaR,ES))\n",
    "print('Monetary (97.5% VaR,ES) is:')\n",
    "print((VaR*initial_investment,ES*initial_investment))\n",
    "\n",
    "alpha = 0.99\n",
    "\n",
    "VaR,ES = fnVaR_t(df_prices, weights, alpha, lookback, percent,initial_investment)\n",
    "print('(99% VaR,ES) in percentage is:')\n",
    "print((VaR,ES))\n",
    "print('Monetary (99% VaR,ES) is:')\n",
    "print((VaR*initial_investment,ES*initial_investment))"
   ]
  },
  {
   "cell_type": "markdown",
   "metadata": {},
   "source": [
    "### df=6"
   ]
  },
  {
   "cell_type": "code",
   "execution_count": 211,
   "metadata": {},
   "outputs": [
    {
     "name": "stdout",
     "output_type": "stream",
     "text": [
      "(97.5% VaR,ES) in percentage is:\n",
      "(0.03261585287347379, 0.05657885706107275)\n",
      "Monetary (97.5% VaR,ES) is:\n",
      "(32615.85287347379, 56578.85706107275)\n",
      "(99% VaR,ES) in percentage is:\n",
      "(0.041713742298132094, 0.0739400525608479)\n",
      "Monetary (99% VaR,ES) is:\n",
      "(41713.74229813209, 73940.05256084791)\n"
     ]
    }
   ],
   "source": [
    "# Set an initial investment level\n",
    "df=6\n",
    "alpha = 0.975\n",
    "\n",
    "VaR,ES = fnVaR_t(df_prices, weights, alpha, lookback, percent,initial_investment)\n",
    "print('(97.5% VaR,ES) in percentage is:')\n",
    "print((VaR,ES))\n",
    "print('Monetary (97.5% VaR,ES) is:')\n",
    "print((VaR*initial_investment,ES*initial_investment))\n",
    "\n",
    "alpha = 0.99\n",
    "\n",
    "VaR,ES = fnVaR_t(df_prices, weights, alpha, lookback, percent,initial_investment)\n",
    "print('(99% VaR,ES) in percentage is:')\n",
    "print((VaR,ES))\n",
    "print('Monetary (99% VaR,ES) is:')\n",
    "print((VaR*initial_investment,ES*initial_investment))"
   ]
  },
  {
   "cell_type": "markdown",
   "metadata": {},
   "source": [
    "### 3. Historical simulation method"
   ]
  },
  {
   "cell_type": "code",
   "execution_count": 212,
   "metadata": {},
   "outputs": [],
   "source": [
    "def fnVaR_hist(dfData, weights, alpha, lookback, percent, initial_investment):\n",
    "    \"\"\"\n",
    "    purpose:\n",
    "        calculates VaR and ES with historical simulation\n",
    "    input:\n",
    "        dfData, dataframe\n",
    "        weights, weights vector\n",
    "        apha, significance value\n",
    "        lookback, lookback period\n",
    "        df, degrees of freedom\n",
    "        percent, True= express in percent\n",
    "    output:\n",
    "        VaR expressed in losses (positive value)\n",
    "    \"\"\"\n",
    "    # check alpha\n",
    "    if alpha > 0.5:\n",
    "        alpha= 1-alpha\n",
    "        \n",
    "    # because the percentile function takes alpha=e[0,100]\n",
    "    alpha= alpha*100\n",
    "    \n",
    "    # express years in days\n",
    "    years= lookback\n",
    "    # select last n years of data\n",
    "    DataTemp= dfData.iloc[-years*250:,:-1]  #converted to days\n",
    "    \n",
    "    # calculate mean\n",
    "    mean= np.array(np.mean(DataTemp))@weights.T\n",
    "    mean= mean[0]\n",
    "    \n",
    "    \n",
    "    # calculate covariance\n",
    "    cov= np.cov(DataTemp, rowvar= False)\n",
    "    # calculate variance\n",
    "    variance= weights@cov@weights.T\n",
    "    std= np.sqrt(variance[0][0])\n",
    "    \n",
    "    # calculate quantile\n",
    "    VaR= sc.percentile(DataTemp, alpha)\n",
    "    VaR= -VaR\n",
    "    \n",
    "    #calculate ES\n",
    "    mean_return = dfData['portfolio_return'][-years*250:]\n",
    "    ES_list = [x for x in mean_return if x < -VaR]\n",
    "    ES = -np.mean(ES_list)\n",
    "    \n",
    "    return VaR, ES"
   ]
  },
  {
   "cell_type": "code",
   "execution_count": 213,
   "metadata": {},
   "outputs": [
    {
     "name": "stdout",
     "output_type": "stream",
     "text": [
      "(97.5% VaR,ES) in percentage is:\n",
      "(0.060209738216457934, 0.09412611384464964)\n",
      "Monetary (97.5% VaR,ES) is:\n",
      "(60209.73821645793, 94126.11384464963)\n",
      "(99% VaR,ES) in percentage is:\n",
      "(0.09193740724518973, 0.1615162655222887)\n",
      "Monetary (99% VaR,ES) is:\n",
      "(91937.40724518972, 161516.2655222887)\n"
     ]
    }
   ],
   "source": [
    "# Set an initial investment level\n",
    "initial_investment = 1000000\n",
    "\n",
    "df_prices = data[['BTC_return', 'DBC_return', 'GSPC_return', 'N225_return','portfolio_return']]\n",
    "weights= np.array([[.25,.25,.25,.25]])\n",
    "alpha = 0.975\n",
    "lookback = 3\n",
    "percent = True\n",
    "\n",
    "VaR,ES = fnVaR_hist(df_prices, weights, alpha, lookback, percent,initial_investment)\n",
    "print('(97.5% VaR,ES) in percentage is:')\n",
    "print((VaR,ES))\n",
    "print('Monetary (97.5% VaR,ES) is:')\n",
    "print((VaR*initial_investment,ES*initial_investment))\n",
    "\n",
    "alpha = 0.99\n",
    "\n",
    "VaR,ES = fnVaR_hist(df_prices, weights, alpha, lookback, percent,initial_investment)\n",
    "print('(99% VaR,ES) in percentage is:')\n",
    "print((VaR,ES))\n",
    "print('Monetary (99% VaR,ES) is:')\n",
    "print((VaR*initial_investment,ES*initial_investment))"
   ]
  },
  {
   "cell_type": "markdown",
   "metadata": {},
   "source": [
    "**12.04 Pan**<br>\n",
    "The histogram and QQ-plot are not functioning due to some undefined functions, maybe you can have a look :) <br> **AM**: fixed <br>\n",
    "I still left out the bond one, you can add it into it!\n",
    "I added the price return and exchange rate return together to form a new return which includes the FX exposure,\n",
    "and I think it's correct. If it's wrong please let me know!"
   ]
  },
  {
   "cell_type": "code",
   "execution_count": null,
   "metadata": {},
   "outputs": [],
   "source": []
  }
 ],
 "metadata": {
  "kernelspec": {
   "display_name": "Python 3",
   "language": "python",
   "name": "python3"
  },
  "language_info": {
   "codemirror_mode": {
    "name": "ipython",
    "version": 3
   },
   "file_extension": ".py",
   "mimetype": "text/x-python",
   "name": "python",
   "nbconvert_exporter": "python",
   "pygments_lexer": "ipython3",
   "version": "3.7.4"
  }
 },
 "nbformat": 4,
 "nbformat_minor": 2
}
