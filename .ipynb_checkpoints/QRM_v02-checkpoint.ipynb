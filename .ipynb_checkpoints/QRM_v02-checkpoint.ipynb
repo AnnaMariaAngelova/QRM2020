{
 "cells": [
  {
   "cell_type": "code",
   "execution_count": null,
   "metadata": {},
   "outputs": [],
   "source": [
    "import numpy as np\n",
    "import matplotlib.pyplot as plt\n",
    "import pandas as pd\n",
    "from datetime import datetime\n",
    "import statsmodels.api as sm\n",
    "from scipy.optimize import minimize\n",
    "import scipy as sc\n",
    "import glob\n",
    "import matplotlib.pyplot as plt\n",
    "import os\n",
    "#from arch import arch_model\n",
    "#from fnGARCH_2 import *"
   ]
  },
  {
   "cell_type": "code",
   "execution_count": 21,
   "metadata": {},
   "outputs": [],
   "source": [
    "BTC = pd.read_csv(\"01_Data\\BTCUSD.csv\")\n",
    "DBC = pd.read_csv(\"01_Data\\DBC.csv\")\n",
    "DE_1YBOND = pd.read_csv(\"01_Data\\DE_1YBOND.csv\")\n",
    "GSPC = pd.read_csv(\"01_Data\\GSPC.csv\")\n",
    "#N225 = pd.read_csv(\"01_Data\\N225.csv\") #this is not working?"
   ]
  },
  {
   "cell_type": "code",
   "execution_count": 25,
   "metadata": {},
   "outputs": [
    {
     "data": {
      "text/html": [
       "<div>\n",
       "<style scoped>\n",
       "    .dataframe tbody tr th:only-of-type {\n",
       "        vertical-align: middle;\n",
       "    }\n",
       "\n",
       "    .dataframe tbody tr th {\n",
       "        vertical-align: top;\n",
       "    }\n",
       "\n",
       "    .dataframe thead th {\n",
       "        text-align: right;\n",
       "    }\n",
       "</style>\n",
       "<table border=\"1\" class=\"dataframe\">\n",
       "  <thead>\n",
       "    <tr style=\"text-align: right;\">\n",
       "      <th></th>\n",
       "      <th>Date</th>\n",
       "      <th>Open</th>\n",
       "      <th>High</th>\n",
       "      <th>Low</th>\n",
       "      <th>Close</th>\n",
       "      <th>Adj Close</th>\n",
       "      <th>Volume</th>\n",
       "    </tr>\n",
       "  </thead>\n",
       "  <tbody>\n",
       "    <tr>\n",
       "      <td>0</td>\n",
       "      <td>2011-03-31</td>\n",
       "      <td>0.7897</td>\n",
       "      <td>0.7680</td>\n",
       "      <td>0.8010</td>\n",
       "      <td>0.7846</td>\n",
       "      <td>0.7846</td>\n",
       "      <td>542900</td>\n",
       "    </tr>\n",
       "    <tr>\n",
       "      <td>1</td>\n",
       "      <td>2011-04-01</td>\n",
       "      <td>0.7846</td>\n",
       "      <td>0.7741</td>\n",
       "      <td>0.7970</td>\n",
       "      <td>0.7741</td>\n",
       "      <td>0.7741</td>\n",
       "      <td>248300</td>\n",
       "    </tr>\n",
       "    <tr>\n",
       "      <td>2</td>\n",
       "      <td>2011-04-04</td>\n",
       "      <td>0.7790</td>\n",
       "      <td>0.5619</td>\n",
       "      <td>0.7850</td>\n",
       "      <td>0.6800</td>\n",
       "      <td>0.6800</td>\n",
       "      <td>2165200</td>\n",
       "    </tr>\n",
       "    <tr>\n",
       "      <td>3</td>\n",
       "      <td>2011-04-05</td>\n",
       "      <td>0.6800</td>\n",
       "      <td>0.5800</td>\n",
       "      <td>0.7478</td>\n",
       "      <td>0.7100</td>\n",
       "      <td>0.7100</td>\n",
       "      <td>652200</td>\n",
       "    </tr>\n",
       "    <tr>\n",
       "      <td>4</td>\n",
       "      <td>2011-04-06</td>\n",
       "      <td>0.7100</td>\n",
       "      <td>0.6902</td>\n",
       "      <td>0.7500</td>\n",
       "      <td>0.7400</td>\n",
       "      <td>0.7400</td>\n",
       "      <td>626400</td>\n",
       "    </tr>\n",
       "  </tbody>\n",
       "</table>\n",
       "</div>"
      ],
      "text/plain": [
       "         Date    Open    High     Low   Close  Adj Close   Volume\n",
       "0  2011-03-31  0.7897  0.7680  0.8010  0.7846     0.7846   542900\n",
       "1  2011-04-01  0.7846  0.7741  0.7970  0.7741     0.7741   248300\n",
       "2  2011-04-04  0.7790  0.5619  0.7850  0.6800     0.6800  2165200\n",
       "3  2011-04-05  0.6800  0.5800  0.7478  0.7100     0.7100   652200\n",
       "4  2011-04-06  0.7100  0.6902  0.7500  0.7400     0.7400   626400"
      ]
     },
     "execution_count": 25,
     "metadata": {},
     "output_type": "execute_result"
    }
   ],
   "source": [
    "BTC.head() #what is the difference between close and adj. close? which to use?"
   ]
  },
  {
   "cell_type": "markdown",
   "metadata": {},
   "source": [
    "## Exploratory Data Analysis\n",
    "\n",
    "1. Create lag variable of the adj.close column to calculate portfolio returns\n",
    "2. Calculate portfolio returns using natural logarithm: log-return ui= ln(Si/Si-1)\n",
    "2. Using the historical returns, assess the validity of the normal approximation: a) by comparing the histograms to the densities of the normal distribution b) by a QQ-plot"
   ]
  },
  {
   "cell_type": "code",
   "execution_count": 30,
   "metadata": {},
   "outputs": [],
   "source": [
    "#1.Create lag\n",
    "BTC['adj_close_lag'] = BTC['Adj Close'].shift(1)\n",
    "#Calculate asset returns - later to be done for the whole portfolio\n",
    "BTC['btc_return'] = np.log(BTC['Adj Close']/BTC['adj_close_lag']) #np.log is the natura logarithm right?"
   ]
  },
  {
   "cell_type": "code",
   "execution_count": 37,
   "metadata": {},
   "outputs": [
    {
     "data": {
      "text/plain": [
       "((array([-3.43613514, -3.18806125, -3.05063292, ...,  3.05063292,\n",
       "          3.18806125,  3.43613514]),\n",
       "  array([-0.84876461, -0.46473041, -0.45154429, ...,  0.59337118,\n",
       "          1.47439456,         nan])),\n",
       " (nan, nan, nan))"
      ]
     },
     "execution_count": 37,
     "metadata": {},
     "output_type": "execute_result"
    },
    {
     "data": {
      "image/png": "[encoded data removed]",
      "text/plain": [
       "<Figure size 432x288 with 1 Axes>"
      ]
     },
     "metadata": {
      "needs_background": "light"
     },
     "output_type": "display_data"
    }
   ],
   "source": [
    "#Create QQ-plot \n",
    "sc.stats.probplot(BTC['btc_return'], dist=\"norm\", plot=plt) "
   ]
  },
  {
   "cell_type": "code",
   "execution_count": null,
   "metadata": {},
   "outputs": [],
   "source": []
  }
 ],
 "metadata": {
  "kernelspec": {
   "display_name": "Python 3",
   "language": "python",
   "name": "python3"
  },
  "language_info": {
   "codemirror_mode": {
    "name": "ipython",
    "version": 3
   },
   "file_extension": ".py",
   "mimetype": "text/x-python",
   "name": "python",
   "nbconvert_exporter": "python",
   "pygments_lexer": "ipython3",
   "version": "3.7.4"
  }
 },
 "nbformat": 4,
 "nbformat_minor": 2
}
