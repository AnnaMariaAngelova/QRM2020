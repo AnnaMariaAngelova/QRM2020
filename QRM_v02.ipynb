{
 "cells": [
  {
   "cell_type": "markdown",
   "metadata": {},
   "source": [
    "# QRM First Assignment"
   ]
  },
  {
   "cell_type": "markdown",
   "metadata": {},
   "source": [
    "Questions so far:\n",
    "1. What is the difference between Close and Adj. Close? Which to use?\n",
    "2. np.log is used for natural logarithm, right?\n",
    "(Natural logarithm, element-wise. --copied from documentation page)"
   ]
  },
  {
   "cell_type": "markdown",
   "metadata": {},
   "source": [
    "**Close price adjusted for splits.** \n",
    "<br>\n",
    "''The closing price of a stock is the price of that stock at the close of the trading day.''\n",
    "\n",
    "\n",
    "**Adjusted close price adjusted for both dividends and splits.**\n",
    "<br>\n",
    "''The adjusted closing price is a more complex analysis that uses the closing price as a starting point, but it takes into account factors such as dividends, stock splits and new stock offerings to determine a value. The adjusted closing price represents a more accurate reflection of a stock's value, since distributions and new offerings can alter the closing price.''\n",
    "\n",
    "So I think in the sense of these dataset, the close price is also a kind of adjusted price since it is adjusted for splits.<br>\n",
    "I personally would think the adjusted close price (both div and splits) would be better since it's more accurate."
   ]
  },
  {
   "cell_type": "code",
   "execution_count": 1,
   "metadata": {},
   "outputs": [],
   "source": [
    "import numpy as np\n",
    "import matplotlib.pyplot as plt\n",
    "import pandas as pd\n",
    "from datetime import datetime\n",
    "import statsmodels.api as sm\n",
    "from scipy.optimize import minimize\n",
    "import scipy as sc\n",
    "import glob\n",
    "import matplotlib.pyplot as plt\n",
    "import os\n",
    "#from arch import arch_model\n",
    "#from fnGARCH_2 import *"
   ]
  },
  {
   "cell_type": "code",
   "execution_count": 2,
   "metadata": {},
   "outputs": [],
   "source": [
    "BTC = pd.read_csv(\"01_Data/BTCUSD.csv\",)\n",
    "DBC = pd.read_csv(\"01_Data/DBC.csv\")\n",
    "DE_1YBOND = pd.read_csv(\"01_Data/DE_1YBOND.csv\")\n",
    "GSPC = pd.read_csv(\"01_Data/GSPC.csv\")\n",
    "N225 = pd.read_csv(\"01_Data/N225.csv\") "
   ]
  },
  {
   "cell_type": "code",
   "execution_count": 3,
   "metadata": {},
   "outputs": [
    {
     "data": {
      "text/html": [
       "<div>\n",
       "<style scoped>\n",
       "    .dataframe tbody tr th:only-of-type {\n",
       "        vertical-align: middle;\n",
       "    }\n",
       "\n",
       "    .dataframe tbody tr th {\n",
       "        vertical-align: top;\n",
       "    }\n",
       "\n",
       "    .dataframe thead th {\n",
       "        text-align: right;\n",
       "    }\n",
       "</style>\n",
       "<table border=\"1\" class=\"dataframe\">\n",
       "  <thead>\n",
       "    <tr style=\"text-align: right;\">\n",
       "      <th></th>\n",
       "      <th>Date</th>\n",
       "      <th>Open</th>\n",
       "      <th>High</th>\n",
       "      <th>Low</th>\n",
       "      <th>Close</th>\n",
       "      <th>Adj Close</th>\n",
       "      <th>Volume</th>\n",
       "    </tr>\n",
       "  </thead>\n",
       "  <tbody>\n",
       "    <tr>\n",
       "      <th>0</th>\n",
       "      <td>2011-03-31</td>\n",
       "      <td>0.7897</td>\n",
       "      <td>0.7680</td>\n",
       "      <td>0.8010</td>\n",
       "      <td>0.7846</td>\n",
       "      <td>0.7846</td>\n",
       "      <td>542900</td>\n",
       "    </tr>\n",
       "    <tr>\n",
       "      <th>1</th>\n",
       "      <td>2011-04-01</td>\n",
       "      <td>0.7846</td>\n",
       "      <td>0.7741</td>\n",
       "      <td>0.7970</td>\n",
       "      <td>0.7741</td>\n",
       "      <td>0.7741</td>\n",
       "      <td>248300</td>\n",
       "    </tr>\n",
       "    <tr>\n",
       "      <th>2</th>\n",
       "      <td>2011-04-04</td>\n",
       "      <td>0.7790</td>\n",
       "      <td>0.5619</td>\n",
       "      <td>0.7850</td>\n",
       "      <td>0.6800</td>\n",
       "      <td>0.6800</td>\n",
       "      <td>2165200</td>\n",
       "    </tr>\n",
       "    <tr>\n",
       "      <th>3</th>\n",
       "      <td>2011-04-05</td>\n",
       "      <td>0.6800</td>\n",
       "      <td>0.5800</td>\n",
       "      <td>0.7478</td>\n",
       "      <td>0.7100</td>\n",
       "      <td>0.7100</td>\n",
       "      <td>652200</td>\n",
       "    </tr>\n",
       "    <tr>\n",
       "      <th>4</th>\n",
       "      <td>2011-04-06</td>\n",
       "      <td>0.7100</td>\n",
       "      <td>0.6902</td>\n",
       "      <td>0.7500</td>\n",
       "      <td>0.7400</td>\n",
       "      <td>0.7400</td>\n",
       "      <td>626400</td>\n",
       "    </tr>\n",
       "  </tbody>\n",
       "</table>\n",
       "</div>"
      ],
      "text/plain": [
       "         Date    Open    High     Low   Close  Adj Close   Volume\n",
       "0  2011-03-31  0.7897  0.7680  0.8010  0.7846     0.7846   542900\n",
       "1  2011-04-01  0.7846  0.7741  0.7970  0.7741     0.7741   248300\n",
       "2  2011-04-04  0.7790  0.5619  0.7850  0.6800     0.6800  2165200\n",
       "3  2011-04-05  0.6800  0.5800  0.7478  0.7100     0.7100   652200\n",
       "4  2011-04-06  0.7100  0.6902  0.7500  0.7400     0.7400   626400"
      ]
     },
     "execution_count": 3,
     "metadata": {},
     "output_type": "execute_result"
    }
   ],
   "source": [
    "BTC.head() "
   ]
  },
  {
   "cell_type": "markdown",
   "metadata": {},
   "source": [
    "## Exploratory Data Analysis\n",
    "\n",
    "1. Create lag variable of the adj.close column to calculate portfolio returns\n",
    "2. Calculate portfolio returns using natural logarithm: log-return ui= ln(Si/Si-1)\n",
    "2. Using the historical returns, assess the validity of the normal approximation: a) by comparing the histograms to the densities of the normal distribution b) by a QQ-plot"
   ]
  },
  {
   "cell_type": "code",
   "execution_count": 4,
   "metadata": {},
   "outputs": [
    {
     "data": {
      "text/html": [
       "<div>\n",
       "<style scoped>\n",
       "    .dataframe tbody tr th:only-of-type {\n",
       "        vertical-align: middle;\n",
       "    }\n",
       "\n",
       "    .dataframe tbody tr th {\n",
       "        vertical-align: top;\n",
       "    }\n",
       "\n",
       "    .dataframe thead th {\n",
       "        text-align: right;\n",
       "    }\n",
       "</style>\n",
       "<table border=\"1\" class=\"dataframe\">\n",
       "  <thead>\n",
       "    <tr style=\"text-align: right;\">\n",
       "      <th></th>\n",
       "      <th>Date</th>\n",
       "      <th>Open</th>\n",
       "      <th>High</th>\n",
       "      <th>Low</th>\n",
       "      <th>Close</th>\n",
       "      <th>Adj Close</th>\n",
       "      <th>Volume</th>\n",
       "      <th>adj_close_lag</th>\n",
       "      <th>btc_return</th>\n",
       "    </tr>\n",
       "  </thead>\n",
       "  <tbody>\n",
       "    <tr>\n",
       "      <th>0</th>\n",
       "      <td>2011-03-31</td>\n",
       "      <td>0.7897</td>\n",
       "      <td>0.7680</td>\n",
       "      <td>0.8010</td>\n",
       "      <td>0.7846</td>\n",
       "      <td>0.7846</td>\n",
       "      <td>542900</td>\n",
       "      <td>NaN</td>\n",
       "      <td>NaN</td>\n",
       "    </tr>\n",
       "    <tr>\n",
       "      <th>1</th>\n",
       "      <td>2011-04-01</td>\n",
       "      <td>0.7846</td>\n",
       "      <td>0.7741</td>\n",
       "      <td>0.7970</td>\n",
       "      <td>0.7741</td>\n",
       "      <td>0.7741</td>\n",
       "      <td>248300</td>\n",
       "      <td>0.7846</td>\n",
       "      <td>-0.013473</td>\n",
       "    </tr>\n",
       "    <tr>\n",
       "      <th>2</th>\n",
       "      <td>2011-04-04</td>\n",
       "      <td>0.7790</td>\n",
       "      <td>0.5619</td>\n",
       "      <td>0.7850</td>\n",
       "      <td>0.6800</td>\n",
       "      <td>0.6800</td>\n",
       "      <td>2165200</td>\n",
       "      <td>0.7741</td>\n",
       "      <td>-0.129608</td>\n",
       "    </tr>\n",
       "    <tr>\n",
       "      <th>3</th>\n",
       "      <td>2011-04-05</td>\n",
       "      <td>0.6800</td>\n",
       "      <td>0.5800</td>\n",
       "      <td>0.7478</td>\n",
       "      <td>0.7100</td>\n",
       "      <td>0.7100</td>\n",
       "      <td>652200</td>\n",
       "      <td>0.6800</td>\n",
       "      <td>0.043172</td>\n",
       "    </tr>\n",
       "    <tr>\n",
       "      <th>4</th>\n",
       "      <td>2011-04-06</td>\n",
       "      <td>0.7100</td>\n",
       "      <td>0.6902</td>\n",
       "      <td>0.7500</td>\n",
       "      <td>0.7400</td>\n",
       "      <td>0.7400</td>\n",
       "      <td>626400</td>\n",
       "      <td>0.7100</td>\n",
       "      <td>0.041385</td>\n",
       "    </tr>\n",
       "  </tbody>\n",
       "</table>\n",
       "</div>"
      ],
      "text/plain": [
       "         Date    Open    High     Low   Close  Adj Close   Volume  \\\n",
       "0  2011-03-31  0.7897  0.7680  0.8010  0.7846     0.7846   542900   \n",
       "1  2011-04-01  0.7846  0.7741  0.7970  0.7741     0.7741   248300   \n",
       "2  2011-04-04  0.7790  0.5619  0.7850  0.6800     0.6800  2165200   \n",
       "3  2011-04-05  0.6800  0.5800  0.7478  0.7100     0.7100   652200   \n",
       "4  2011-04-06  0.7100  0.6902  0.7500  0.7400     0.7400   626400   \n",
       "\n",
       "   adj_close_lag  btc_return  \n",
       "0            NaN         NaN  \n",
       "1         0.7846   -0.013473  \n",
       "2         0.7741   -0.129608  \n",
       "3         0.6800    0.043172  \n",
       "4         0.7100    0.041385  "
      ]
     },
     "execution_count": 4,
     "metadata": {},
     "output_type": "execute_result"
    }
   ],
   "source": [
    "#1.Create lag\n",
    "BTC['adj_close_lag'] = BTC['Adj Close'].shift(1)\n",
    "#Calculate asset returns - later to be done for the whole portfolio\n",
    "BTC['btc_return'] = np.log(BTC['Adj Close']/BTC['adj_close_lag']) \n",
    "BTC.head()"
   ]
  },
  {
   "cell_type": "code",
   "execution_count": 5,
   "metadata": {},
   "outputs": [
    {
     "data": {
      "text/plain": [
       "((array([-3.43613514, -3.18806125, -3.05063292, ...,  3.05063292,\n",
       "          3.18806125,  3.43613514]),\n",
       "  array([-0.84876461, -0.46473041, -0.45154429, ...,  0.59337118,\n",
       "          1.47439456,         nan])),\n",
       " (nan, nan, nan))"
      ]
     },
     "execution_count": 5,
     "metadata": {},
     "output_type": "execute_result"
    },
    {
     "data": {
      "image/png": "[encoded data removed]",
      "text/plain": [
       "<Figure size 432x288 with 1 Axes>"
      ]
     },
     "metadata": {
      "needs_background": "light"
     },
     "output_type": "display_data"
    }
   ],
   "source": [
    "#Create QQ-plot \n",
    "sc.stats.probplot(BTC['btc_return'], dist=\"norm\", plot=plt) "
   ]
  },
  {
   "cell_type": "markdown",
   "metadata": {},
   "source": [
    "To-do (preprocessing):\n",
    "1. Debug Nikkei data (import-solved)\n",
    "2. Merge all datasets together\n",
    "3. Calculate portfolio returns\n",
    "4. Create QQ plot again for the whole portfolio"
   ]
  },
  {
   "cell_type": "code",
   "execution_count": 5,
   "metadata": {},
   "outputs": [
    {
     "name": "stdout",
     "output_type": "stream",
     "text": [
      "(2349, 9)\n",
      "(2264, 7)\n",
      "(2586, 6)\n",
      "(2264, 7)\n",
      "(2225, 7)\n"
     ]
    }
   ],
   "source": [
    "print(BTC.shape)\n",
    "print(DBC.shape)\n",
    "print(DE_1YBOND.shape)\n",
    "print(GSPC.shape)\n",
    "print(N225.shape)"
   ]
  },
  {
   "cell_type": "code",
   "execution_count": 4,
   "metadata": {},
   "outputs": [
    {
     "data": {
      "text/html": [
       "<div>\n",
       "<style scoped>\n",
       "    .dataframe tbody tr th:only-of-type {\n",
       "        vertical-align: middle;\n",
       "    }\n",
       "\n",
       "    .dataframe tbody tr th {\n",
       "        vertical-align: top;\n",
       "    }\n",
       "\n",
       "    .dataframe thead th {\n",
       "        text-align: right;\n",
       "    }\n",
       "</style>\n",
       "<table border=\"1\" class=\"dataframe\">\n",
       "  <thead>\n",
       "    <tr style=\"text-align: right;\">\n",
       "      <th></th>\n",
       "      <th>Date</th>\n",
       "      <th>Price</th>\n",
       "      <th>Open</th>\n",
       "      <th>High</th>\n",
       "      <th>Low</th>\n",
       "      <th>Change %</th>\n",
       "    </tr>\n",
       "  </thead>\n",
       "  <tbody>\n",
       "    <tr>\n",
       "      <th>0</th>\n",
       "      <td>Mar 31, 2020</td>\n",
       "      <td>-0.650</td>\n",
       "      <td>-0.717</td>\n",
       "      <td>-0.626</td>\n",
       "      <td>-0.748</td>\n",
       "      <td>-5.66%</td>\n",
       "    </tr>\n",
       "    <tr>\n",
       "      <th>1</th>\n",
       "      <td>Mar 30, 2020</td>\n",
       "      <td>-0.689</td>\n",
       "      <td>-0.685</td>\n",
       "      <td>-0.658</td>\n",
       "      <td>-0.881</td>\n",
       "      <td>-1.85%</td>\n",
       "    </tr>\n",
       "    <tr>\n",
       "      <th>2</th>\n",
       "      <td>Mar 27, 2020</td>\n",
       "      <td>-0.702</td>\n",
       "      <td>-0.626</td>\n",
       "      <td>-0.600</td>\n",
       "      <td>-0.920</td>\n",
       "      <td>14.89%</td>\n",
       "    </tr>\n",
       "    <tr>\n",
       "      <th>3</th>\n",
       "      <td>Mar 26, 2020</td>\n",
       "      <td>-0.611</td>\n",
       "      <td>-0.645</td>\n",
       "      <td>-0.562</td>\n",
       "      <td>-0.679</td>\n",
       "      <td>-3.63%</td>\n",
       "    </tr>\n",
       "    <tr>\n",
       "      <th>4</th>\n",
       "      <td>Mar 25, 2020</td>\n",
       "      <td>-0.634</td>\n",
       "      <td>-0.615</td>\n",
       "      <td>-0.557</td>\n",
       "      <td>-0.674</td>\n",
       "      <td>4.97%</td>\n",
       "    </tr>\n",
       "  </tbody>\n",
       "</table>\n",
       "</div>"
      ],
      "text/plain": [
       "           Date  Price   Open   High    Low Change %\n",
       "0  Mar 31, 2020 -0.650 -0.717 -0.626 -0.748   -5.66%\n",
       "1  Mar 30, 2020 -0.689 -0.685 -0.658 -0.881   -1.85%\n",
       "2  Mar 27, 2020 -0.702 -0.626 -0.600 -0.920   14.89%\n",
       "3  Mar 26, 2020 -0.611 -0.645 -0.562 -0.679   -3.63%\n",
       "4  Mar 25, 2020 -0.634 -0.615 -0.557 -0.674    4.97%"
      ]
     },
     "execution_count": 4,
     "metadata": {},
     "output_type": "execute_result"
    }
   ],
   "source": [
    "'''The attribute format of this bond is different from others, is it a problem? '''\n",
    "DE_1YBOND.head()"
   ]
  },
  {
   "cell_type": "code",
   "execution_count": 5,
   "metadata": {},
   "outputs": [],
   "source": [
    "''' Change the date format of DE_1YBOND'''\n",
    "from datetime import datetime\n",
    "\n",
    "new_date = []\n",
    "for i in DE_1YBOND['Date']:\n",
    "    new = datetime.strptime(i, '%b %d, %Y').strftime('%Y-%m-%d')\n",
    "    new_date.append(new)\n",
    "\n",
    "DE_1YBOND['Date']=new_date"
   ]
  },
  {
   "cell_type": "code",
   "execution_count": 6,
   "metadata": {},
   "outputs": [
    {
     "data": {
      "text/html": [
       "<div>\n",
       "<style scoped>\n",
       "    .dataframe tbody tr th:only-of-type {\n",
       "        vertical-align: middle;\n",
       "    }\n",
       "\n",
       "    .dataframe tbody tr th {\n",
       "        vertical-align: top;\n",
       "    }\n",
       "\n",
       "    .dataframe thead th {\n",
       "        text-align: right;\n",
       "    }\n",
       "</style>\n",
       "<table border=\"1\" class=\"dataframe\">\n",
       "  <thead>\n",
       "    <tr style=\"text-align: right;\">\n",
       "      <th></th>\n",
       "      <th>Date</th>\n",
       "      <th>Price</th>\n",
       "      <th>Open</th>\n",
       "      <th>High</th>\n",
       "      <th>Low</th>\n",
       "      <th>Change %</th>\n",
       "    </tr>\n",
       "  </thead>\n",
       "  <tbody>\n",
       "    <tr>\n",
       "      <th>0</th>\n",
       "      <td>2020-03-31</td>\n",
       "      <td>-0.650</td>\n",
       "      <td>-0.717</td>\n",
       "      <td>-0.626</td>\n",
       "      <td>-0.748</td>\n",
       "      <td>-5.66%</td>\n",
       "    </tr>\n",
       "    <tr>\n",
       "      <th>1</th>\n",
       "      <td>2020-03-30</td>\n",
       "      <td>-0.689</td>\n",
       "      <td>-0.685</td>\n",
       "      <td>-0.658</td>\n",
       "      <td>-0.881</td>\n",
       "      <td>-1.85%</td>\n",
       "    </tr>\n",
       "    <tr>\n",
       "      <th>2</th>\n",
       "      <td>2020-03-27</td>\n",
       "      <td>-0.702</td>\n",
       "      <td>-0.626</td>\n",
       "      <td>-0.600</td>\n",
       "      <td>-0.920</td>\n",
       "      <td>14.89%</td>\n",
       "    </tr>\n",
       "    <tr>\n",
       "      <th>3</th>\n",
       "      <td>2020-03-26</td>\n",
       "      <td>-0.611</td>\n",
       "      <td>-0.645</td>\n",
       "      <td>-0.562</td>\n",
       "      <td>-0.679</td>\n",
       "      <td>-3.63%</td>\n",
       "    </tr>\n",
       "    <tr>\n",
       "      <th>4</th>\n",
       "      <td>2020-03-25</td>\n",
       "      <td>-0.634</td>\n",
       "      <td>-0.615</td>\n",
       "      <td>-0.557</td>\n",
       "      <td>-0.674</td>\n",
       "      <td>4.97%</td>\n",
       "    </tr>\n",
       "  </tbody>\n",
       "</table>\n",
       "</div>"
      ],
      "text/plain": [
       "         Date  Price   Open   High    Low Change %\n",
       "0  2020-03-31 -0.650 -0.717 -0.626 -0.748   -5.66%\n",
       "1  2020-03-30 -0.689 -0.685 -0.658 -0.881   -1.85%\n",
       "2  2020-03-27 -0.702 -0.626 -0.600 -0.920   14.89%\n",
       "3  2020-03-26 -0.611 -0.645 -0.562 -0.679   -3.63%\n",
       "4  2020-03-25 -0.634 -0.615 -0.557 -0.674    4.97%"
      ]
     },
     "execution_count": 6,
     "metadata": {},
     "output_type": "execute_result"
    }
   ],
   "source": [
    "DE_1YBOND.head()"
   ]
  },
  {
   "cell_type": "markdown",
   "metadata": {},
   "source": [
    "Check if there is null or empty input"
   ]
  },
  {
   "cell_type": "code",
   "execution_count": 9,
   "metadata": {},
   "outputs": [
    {
     "data": {
      "text/plain": [
       "Date             0\n",
       "Open             0\n",
       "High             0\n",
       "Low              0\n",
       "Close            0\n",
       "Adj Close        0\n",
       "Volume           0\n",
       "adj_close_lag    1\n",
       "btc_return       1\n",
       "dtype: int64"
      ]
     },
     "execution_count": 9,
     "metadata": {},
     "output_type": "execute_result"
    }
   ],
   "source": [
    "BTC.isnull().sum()\n",
    "\n",
    "#this null value is due to the shift, so it won't cause problem"
   ]
  },
  {
   "cell_type": "code",
   "execution_count": 7,
   "metadata": {},
   "outputs": [
    {
     "data": {
      "text/html": [
       "<div>\n",
       "<style scoped>\n",
       "    .dataframe tbody tr th:only-of-type {\n",
       "        vertical-align: middle;\n",
       "    }\n",
       "\n",
       "    .dataframe tbody tr th {\n",
       "        vertical-align: top;\n",
       "    }\n",
       "\n",
       "    .dataframe thead th {\n",
       "        text-align: right;\n",
       "    }\n",
       "</style>\n",
       "<table border=\"1\" class=\"dataframe\">\n",
       "  <thead>\n",
       "    <tr style=\"text-align: right;\">\n",
       "      <th></th>\n",
       "      <th>Date</th>\n",
       "      <th>Open</th>\n",
       "      <th>High</th>\n",
       "      <th>Low</th>\n",
       "      <th>Close</th>\n",
       "      <th>Adj Close</th>\n",
       "      <th>Volume</th>\n",
       "    </tr>\n",
       "  </thead>\n",
       "  <tbody>\n",
       "    <tr>\n",
       "      <th>0</th>\n",
       "      <td>2011-03-31</td>\n",
       "      <td>30.490000</td>\n",
       "      <td>30.590000</td>\n",
       "      <td>30.350000</td>\n",
       "      <td>30.510000</td>\n",
       "      <td>29.643923</td>\n",
       "      <td>1834200</td>\n",
       "    </tr>\n",
       "    <tr>\n",
       "      <th>1</th>\n",
       "      <td>2011-04-01</td>\n",
       "      <td>30.559999</td>\n",
       "      <td>30.780001</td>\n",
       "      <td>30.410000</td>\n",
       "      <td>30.719999</td>\n",
       "      <td>29.847960</td>\n",
       "      <td>3428900</td>\n",
       "    </tr>\n",
       "    <tr>\n",
       "      <th>2</th>\n",
       "      <td>2011-04-04</td>\n",
       "      <td>30.879999</td>\n",
       "      <td>31.090000</td>\n",
       "      <td>30.830000</td>\n",
       "      <td>31.000000</td>\n",
       "      <td>30.120012</td>\n",
       "      <td>2009700</td>\n",
       "    </tr>\n",
       "    <tr>\n",
       "      <th>3</th>\n",
       "      <td>2011-04-05</td>\n",
       "      <td>31.020000</td>\n",
       "      <td>31.180000</td>\n",
       "      <td>30.990000</td>\n",
       "      <td>31.030001</td>\n",
       "      <td>30.149160</td>\n",
       "      <td>1533000</td>\n",
       "    </tr>\n",
       "    <tr>\n",
       "      <th>4</th>\n",
       "      <td>2011-04-06</td>\n",
       "      <td>31.270000</td>\n",
       "      <td>31.350000</td>\n",
       "      <td>31.049999</td>\n",
       "      <td>31.120001</td>\n",
       "      <td>30.236607</td>\n",
       "      <td>1309800</td>\n",
       "    </tr>\n",
       "  </tbody>\n",
       "</table>\n",
       "</div>"
      ],
      "text/plain": [
       "         Date       Open       High        Low      Close  Adj Close   Volume\n",
       "0  2011-03-31  30.490000  30.590000  30.350000  30.510000  29.643923  1834200\n",
       "1  2011-04-01  30.559999  30.780001  30.410000  30.719999  29.847960  3428900\n",
       "2  2011-04-04  30.879999  31.090000  30.830000  31.000000  30.120012  2009700\n",
       "3  2011-04-05  31.020000  31.180000  30.990000  31.030001  30.149160  1533000\n",
       "4  2011-04-06  31.270000  31.350000  31.049999  31.120001  30.236607  1309800"
      ]
     },
     "execution_count": 7,
     "metadata": {},
     "output_type": "execute_result"
    }
   ],
   "source": [
    "DBC.isnull().sum()\n",
    "DBC.head()"
   ]
  },
  {
   "cell_type": "code",
   "execution_count": 11,
   "metadata": {},
   "outputs": [
    {
     "data": {
      "text/plain": [
       "Date        0\n",
       "Price       0\n",
       "Open        0\n",
       "High        0\n",
       "Low         0\n",
       "Change %    0\n",
       "dtype: int64"
      ]
     },
     "execution_count": 11,
     "metadata": {},
     "output_type": "execute_result"
    }
   ],
   "source": [
    "DE_1YBOND.isnull().sum()"
   ]
  },
  {
   "cell_type": "code",
   "execution_count": 12,
   "metadata": {},
   "outputs": [
    {
     "data": {
      "text/plain": [
       "Date         0\n",
       "Open         0\n",
       "High         0\n",
       "Low          0\n",
       "Close        0\n",
       "Adj Close    0\n",
       "Volume       0\n",
       "dtype: int64"
      ]
     },
     "execution_count": 12,
     "metadata": {},
     "output_type": "execute_result"
    }
   ],
   "source": [
    "GSPC.isnull().sum()"
   ]
  },
  {
   "cell_type": "code",
   "execution_count": 175,
   "metadata": {},
   "outputs": [
    {
     "data": {
      "text/plain": [
       "Date         0\n",
       "Open         0\n",
       "High         0\n",
       "Low          0\n",
       "Close        0\n",
       "Adj Close    0\n",
       "Volume       0\n",
       "dtype: int64"
      ]
     },
     "execution_count": 175,
     "metadata": {},
     "output_type": "execute_result"
    }
   ],
   "source": [
    "N225.isnull().sum()"
   ]
  },
  {
   "cell_type": "code",
   "execution_count": 8,
   "metadata": {},
   "outputs": [
    {
     "name": "stdout",
     "output_type": "stream",
     "text": [
      "20\n",
      "1545    2017-07-17\n",
      "1564    2017-08-11\n",
      "1590    2017-09-18\n",
      "1605    2017-10-09\n",
      "1638    2017-11-23\n",
      "1665    2018-01-01\n",
      "1666    2018-01-02\n",
      "1667    2018-01-03\n",
      "1670    2018-01-08\n",
      "1695    2018-02-12\n",
      "1722    2018-03-21\n",
      "1750    2018-04-30\n",
      "1753    2018-05-03\n",
      "1754    2018-05-04\n",
      "1850    2018-09-17\n",
      "1855    2018-09-24\n",
      "1865    2018-10-08\n",
      "1899    2018-11-23\n",
      "1920    2018-12-24\n",
      "1925    2018-12-31\n",
      "Name: Date, dtype: object\n"
     ]
    }
   ],
   "source": [
    "missing_N225 = N225[N225.isna().any(axis=1)]['Date']\n",
    "print(len(N225[N225.isna().any(axis=1)]))\n",
    "print(missing_N225)"
   ]
  },
  {
   "cell_type": "code",
   "execution_count": 9,
   "metadata": {},
   "outputs": [
    {
     "name": "stdout",
     "output_type": "stream",
     "text": [
      "2205\n"
     ]
    },
    {
     "data": {
      "text/plain": [
       "Date         0\n",
       "Open         0\n",
       "High         0\n",
       "Low          0\n",
       "Close        0\n",
       "Adj Close    0\n",
       "Volume       0\n",
       "dtype: int64"
      ]
     },
     "execution_count": 9,
     "metadata": {},
     "output_type": "execute_result"
    }
   ],
   "source": [
    "''' Drop the rows which contains missing value in N225'''\n",
    "N225_drop = N225.dropna(axis=0)\n",
    "N225_drop = N225_drop.reset_index(drop=True)\n",
    "print(len(N225_drop))\n",
    "N225_drop.isnull().sum()\n",
    "\n",
    "\n"
   ]
  },
  {
   "cell_type": "markdown",
   "metadata": {},
   "source": [
    "Use N225 as a base date set (2205 trading dates)"
   ]
  },
  {
   "cell_type": "code",
   "execution_count": 95,
   "metadata": {},
   "outputs": [
    {
     "name": "stdout",
     "output_type": "stream",
     "text": [
      "2118\n",
      "2118\n",
      "The dates exist in all five dataset: 2118 trading days\n"
     ]
    }
   ],
   "source": [
    "s1 = set(GSPC['Date'])\n",
    "s2 = set(DBC['Date'])\n",
    "s3 = set(N225_drop['Date'])\n",
    "s4 = set(BTC['Date'])\n",
    "s5 = set(DE_1YBOND['Date'])\n",
    "\n",
    "d = [x for x in s3 if x in s1 and x in s2 and x in s4 and x in s5]\n",
    "\n",
    "asset = [s1,s2,s3,s4,s5]\n",
    "\n",
    "intersec = s3.intersection(s1,s2,s4,s5)\n",
    "print(len(intersec))\n",
    "print(len(d))\n",
    "set(d) == set(intersec)\n",
    "\n",
    "print('The dates exist in all five dataset: 2118 trading days')\n"
   ]
  },
  {
   "cell_type": "code",
   "execution_count": 103,
   "metadata": {},
   "outputs": [],
   "source": [
    "'''  Create new dataframes, keep only the overlapping date-related data'''\n",
    "\n",
    "new = []\n",
    "asset = [BTC,DBC,DE_1YBOND,GSPC,N225]\n",
    "for item in asset:\n",
    "    miss = []\n",
    "    for i in item['Date']:\n",
    "        if i not in intersec:\n",
    "            miss = miss + item.index[item['Date']==i].tolist()\n",
    "    item = item.drop(miss)\n",
    "    item = item.reset_index(drop=True)\n",
    "    new.append(item)"
   ]
  },
  {
   "cell_type": "code",
   "execution_count": 104,
   "metadata": {},
   "outputs": [
    {
     "name": "stdout",
     "output_type": "stream",
     "text": [
      "(2118, 7)\n",
      "(2118, 7)\n",
      "(2118, 6)\n",
      "(2118, 7)\n",
      "(2118, 7)\n"
     ]
    }
   ],
   "source": [
    "''' Assign the dataframe '''\n",
    "\n",
    "BTC_new = new[0]\n",
    "DBC_new = new[1]\n",
    "DE_1YBOND_new = new[2]\n",
    "GSPC_new = new[3]\n",
    "N225_new = new[4]\n",
    "\n",
    "asset = [BTC_new,DBC_new,DE_1YBOND_new,GSPC_new,N225_new]\n",
    "\n",
    "for i in asset:\n",
    "    print(i.shape)"
   ]
  },
  {
   "cell_type": "code",
   "execution_count": 105,
   "metadata": {},
   "outputs": [
    {
     "name": "stdout",
     "output_type": "stream",
     "text": [
      "            Date         Open         High          Low        Close  \\\n",
      "0     2011-03-31     0.789700     0.768000     0.801000     0.784600   \n",
      "1     2011-04-01     0.784600     0.774100     0.797000     0.774100   \n",
      "2     2011-04-04     0.779000     0.561900     0.785000     0.680000   \n",
      "3     2011-04-05     0.680000     0.580000     0.747800     0.710000   \n",
      "4     2011-04-06     0.710000     0.690200     0.750000     0.740000   \n",
      "...          ...          ...          ...          ...          ...   \n",
      "2113  2020-03-24  6436.642578  6411.065918  6789.022949  6734.804688   \n",
      "2114  2020-03-25  6738.717285  6536.926270  6892.511719  6681.062500   \n",
      "2115  2020-03-26  6675.170898  6590.962891  6735.462891  6716.439941   \n",
      "2116  2020-03-27  6719.386719  6466.703125  6793.838379  6469.799316   \n",
      "2117  2020-03-30  6458.755371  6480.871094  6441.589355  6441.589355   \n",
      "\n",
      "        Price_BTC   Volume  Price_BTC_lag  BTC_return  \n",
      "0        0.784600   542900            NaN         NaN  \n",
      "1        0.774100   248300       0.784600   -0.013473  \n",
      "2        0.680000  2165200       0.774100   -0.129608  \n",
      "3        0.710000   652200       0.680000    0.043172  \n",
      "4        0.740000   626400       0.710000    0.041385  \n",
      "...           ...      ...            ...         ...  \n",
      "2113  6734.804688        0    6416.314941    0.048445  \n",
      "2114  6681.062500        0    6734.804688   -0.008012  \n",
      "2115  6716.439941        0    6681.062500    0.005281  \n",
      "2116  6469.799316        0    6716.439941   -0.037413  \n",
      "2117  6441.589355        0    6469.799316   -0.004370  \n",
      "\n",
      "[2118 rows x 9 columns]\n"
     ]
    }
   ],
   "source": [
    "''' Create new dataframe containing only the same dates related information  '''\n",
    "\n",
    "#asset_price , asset_adj_price , return\n",
    "\n",
    "asset = [BTC_new,DBC_new,GSPC_new,N225_new]\n",
    "asset_name = ['BTC','DBC','GSPC','N225']\n",
    "\n",
    "for i in range(len(asset)):\n",
    "    asset[i].rename(columns={'Adj Close':'Price_'+asset_name[i]}, inplace=True)\n",
    "    asset[i]['Price_'+asset_name[i]+'_lag'] = asset[i]['Price_'+asset_name[i]].shift(1)\n",
    "    asset[i][asset_name[i]+'_return'] = np.log(asset[i]['Price_'+asset_name[i]]/asset[i]['Price_'+asset_name[i]+'_lag'])\n",
    "    \n",
    "print(BTC_new)"
   ]
  },
  {
   "cell_type": "code",
   "execution_count": 106,
   "metadata": {},
   "outputs": [
    {
     "name": "stdout",
     "output_type": "stream",
     "text": [
      "BTC\n",
      "DBC\n",
      "GSPC\n",
      "N225\n"
     ]
    }
   ],
   "source": [
    "asset = [BTC_new,DBC_new,GSPC_new,N225_new]\n",
    "\n",
    "result = []\n",
    "for i in range(len(asset)):\n",
    "    print(asset_name[i])\n",
    "    if i == 0:\n",
    "        asset[i] = asset[i][['Date','Price_'+asset_name[i],'Price_'+asset_name[i]+'_lag',asset_name[i]+'_return']]\n",
    "    else:\n",
    "        asset[i] = asset[i][['Price_'+asset_name[i],'Price_'+asset_name[i]+'_lag',asset_name[i]+'_return']]\n",
    "    result.append(a)"
   ]
  },
  {
   "cell_type": "code",
   "execution_count": 107,
   "metadata": {},
   "outputs": [
    {
     "name": "stdout",
     "output_type": "stream",
     "text": [
      "(2118, 4)\n",
      "(2118, 3)\n",
      "(2118, 3)\n",
      "(2118, 3)\n"
     ]
    }
   ],
   "source": [
    "# Check the shape\n",
    "for i in asset:\n",
    "    print(i.shape)"
   ]
  },
  {
   "cell_type": "code",
   "execution_count": 108,
   "metadata": {},
   "outputs": [
    {
     "data": {
      "text/html": [
       "<div>\n",
       "<style scoped>\n",
       "    .dataframe tbody tr th:only-of-type {\n",
       "        vertical-align: middle;\n",
       "    }\n",
       "\n",
       "    .dataframe tbody tr th {\n",
       "        vertical-align: top;\n",
       "    }\n",
       "\n",
       "    .dataframe thead th {\n",
       "        text-align: right;\n",
       "    }\n",
       "</style>\n",
       "<table border=\"1\" class=\"dataframe\">\n",
       "  <thead>\n",
       "    <tr style=\"text-align: right;\">\n",
       "      <th></th>\n",
       "      <th>Date</th>\n",
       "      <th>Price_BTC</th>\n",
       "      <th>Price_BTC_lag</th>\n",
       "      <th>BTC_return</th>\n",
       "      <th>Price_DBC</th>\n",
       "      <th>Price_DBC_lag</th>\n",
       "      <th>DBC_return</th>\n",
       "      <th>Price_GSPC</th>\n",
       "      <th>Price_GSPC_lag</th>\n",
       "      <th>GSPC_return</th>\n",
       "      <th>Price_N225</th>\n",
       "      <th>Price_N225_lag</th>\n",
       "      <th>N225_return</th>\n",
       "    </tr>\n",
       "  </thead>\n",
       "  <tbody>\n",
       "    <tr>\n",
       "      <th>2113</th>\n",
       "      <td>2020-03-24</td>\n",
       "      <td>6734.804688</td>\n",
       "      <td>6416.314941</td>\n",
       "      <td>0.048445</td>\n",
       "      <td>11.31</td>\n",
       "      <td>11.07</td>\n",
       "      <td>0.021449</td>\n",
       "      <td>2447.330078</td>\n",
       "      <td>2237.399902</td>\n",
       "      <td>0.089683</td>\n",
       "      <td>18092.349609</td>\n",
       "      <td>16887.779297</td>\n",
       "      <td>0.068899</td>\n",
       "    </tr>\n",
       "    <tr>\n",
       "      <th>2114</th>\n",
       "      <td>2020-03-25</td>\n",
       "      <td>6681.062500</td>\n",
       "      <td>6734.804688</td>\n",
       "      <td>-0.008012</td>\n",
       "      <td>11.50</td>\n",
       "      <td>11.31</td>\n",
       "      <td>0.016660</td>\n",
       "      <td>2475.560059</td>\n",
       "      <td>2447.330078</td>\n",
       "      <td>0.011469</td>\n",
       "      <td>19546.630859</td>\n",
       "      <td>18092.349609</td>\n",
       "      <td>0.077314</td>\n",
       "    </tr>\n",
       "    <tr>\n",
       "      <th>2115</th>\n",
       "      <td>2020-03-26</td>\n",
       "      <td>6716.439941</td>\n",
       "      <td>6681.062500</td>\n",
       "      <td>0.005281</td>\n",
       "      <td>11.46</td>\n",
       "      <td>11.50</td>\n",
       "      <td>-0.003484</td>\n",
       "      <td>2630.070068</td>\n",
       "      <td>2475.560059</td>\n",
       "      <td>0.060544</td>\n",
       "      <td>18664.599609</td>\n",
       "      <td>19546.630859</td>\n",
       "      <td>-0.046174</td>\n",
       "    </tr>\n",
       "    <tr>\n",
       "      <th>2116</th>\n",
       "      <td>2020-03-27</td>\n",
       "      <td>6469.799316</td>\n",
       "      <td>6716.439941</td>\n",
       "      <td>-0.037413</td>\n",
       "      <td>11.42</td>\n",
       "      <td>11.46</td>\n",
       "      <td>-0.003497</td>\n",
       "      <td>2541.469971</td>\n",
       "      <td>2630.070068</td>\n",
       "      <td>-0.034268</td>\n",
       "      <td>19389.429688</td>\n",
       "      <td>18664.599609</td>\n",
       "      <td>0.038099</td>\n",
       "    </tr>\n",
       "    <tr>\n",
       "      <th>2117</th>\n",
       "      <td>2020-03-30</td>\n",
       "      <td>6441.589355</td>\n",
       "      <td>6469.799316</td>\n",
       "      <td>-0.004370</td>\n",
       "      <td>11.39</td>\n",
       "      <td>11.42</td>\n",
       "      <td>-0.002630</td>\n",
       "      <td>2626.649902</td>\n",
       "      <td>2541.469971</td>\n",
       "      <td>0.032967</td>\n",
       "      <td>19084.970703</td>\n",
       "      <td>19389.429688</td>\n",
       "      <td>-0.015827</td>\n",
       "    </tr>\n",
       "  </tbody>\n",
       "</table>\n",
       "</div>"
      ],
      "text/plain": [
       "            Date    Price_BTC  Price_BTC_lag  BTC_return  Price_DBC  \\\n",
       "2113  2020-03-24  6734.804688    6416.314941    0.048445      11.31   \n",
       "2114  2020-03-25  6681.062500    6734.804688   -0.008012      11.50   \n",
       "2115  2020-03-26  6716.439941    6681.062500    0.005281      11.46   \n",
       "2116  2020-03-27  6469.799316    6716.439941   -0.037413      11.42   \n",
       "2117  2020-03-30  6441.589355    6469.799316   -0.004370      11.39   \n",
       "\n",
       "      Price_DBC_lag  DBC_return   Price_GSPC  Price_GSPC_lag  GSPC_return  \\\n",
       "2113          11.07    0.021449  2447.330078     2237.399902     0.089683   \n",
       "2114          11.31    0.016660  2475.560059     2447.330078     0.011469   \n",
       "2115          11.50   -0.003484  2630.070068     2475.560059     0.060544   \n",
       "2116          11.46   -0.003497  2541.469971     2630.070068    -0.034268   \n",
       "2117          11.42   -0.002630  2626.649902     2541.469971     0.032967   \n",
       "\n",
       "        Price_N225  Price_N225_lag  N225_return  \n",
       "2113  18092.349609    16887.779297     0.068899  \n",
       "2114  19546.630859    18092.349609     0.077314  \n",
       "2115  18664.599609    19546.630859    -0.046174  \n",
       "2116  19389.429688    18664.599609     0.038099  \n",
       "2117  19084.970703    19389.429688    -0.015827  "
      ]
     },
     "execution_count": 108,
     "metadata": {},
     "output_type": "execute_result"
    }
   ],
   "source": [
    "data = pd.concat(asset,axis=1)\n",
    "data.tail()"
   ]
  },
  {
   "cell_type": "markdown",
   "metadata": {},
   "source": [
    "**Discussion:**\n",
    "**1. Drop the 20 rows for N225 dataset?** <br>\n",
    "AM: Correct and we need to synchronise with the rest of the data by only considering days where an observation is available for all risk factors <br>\n",
    "**2. The DE_1YBOND attribute doesn't match with other 4, will the attribute affect the analysis? If not then we can keep them** <br>\n",
    "AM: This is because the first 4 datasets are from Yahoo data and this one is from another source. It's not a problem as long as we can merge it by Date to the rest of the data.<br>\n",
    "**3. There would defo some outliers in the data, we shoud decide how to deal with them.**<br>\n",
    "AM: Good question, let's ask Svetlana and Sarah."
   ]
  },
  {
   "cell_type": "markdown",
   "metadata": {
    "slideshow": {
     "slide_type": "subslide"
    }
   },
   "source": [
    "**09-April-2020**\n",
    "**AM Comments:**\n",
    "   1. I think that trying with 2 datasets should happen in a bit different way  ((done))\n",
    "   2. Isolate the columns of adj. price for each asset and give them clear names to which asset they belong ((done))\n",
    "   3. Perform a join with on the Date variable (I think the concat function is not doing the job here) ((done))\n",
    "\n",
    "**11.04 Pan:** I fixed the above probelms.\n",
    "\n",
    "I did these steps below:  "
   ]
  },
  {
   "cell_type": "code",
   "execution_count": 13,
   "metadata": {},
   "outputs": [],
   "source": [
    "df_list = [BTC, DBC, GSPC, N225]"
   ]
  },
  {
   "cell_type": "code",
   "execution_count": 15,
   "metadata": {},
   "outputs": [
    {
     "data": {
      "text/plain": [
       "[            Date         Open         High          Low        Close  \\\n",
       " 0     2011-03-31     0.789700     0.768000     0.801000     0.784600   \n",
       " 1     2011-04-01     0.784600     0.774100     0.797000     0.774100   \n",
       " 2     2011-04-04     0.779000     0.561900     0.785000     0.680000   \n",
       " 3     2011-04-05     0.680000     0.580000     0.747800     0.710000   \n",
       " 4     2011-04-06     0.710000     0.690200     0.750000     0.740000   \n",
       " ...          ...          ...          ...          ...          ...   \n",
       " 2344  2020-03-25  6738.717285  6536.926270  6892.511719  6681.062500   \n",
       " 2345  2020-03-26  6675.170898  6590.962891  6735.462891  6716.439941   \n",
       " 2346  2020-03-27  6719.386719  6466.703125  6793.838379  6469.799316   \n",
       " 2347  2020-03-30  6458.755371  6480.871094  6441.589355  6441.589355   \n",
       " 2348  2020-03-31  6458.755371  6501.539551  6390.799316  6399.855469   \n",
       " \n",
       "         Adj Close   Volume  adj_close_lag  btc_return  \n",
       " 0        0.784600   542900            NaN         NaN  \n",
       " 1        0.774100   248300       0.784600   -0.013473  \n",
       " 2        0.680000  2165200       0.774100   -0.129608  \n",
       " 3        0.710000   652200       0.680000    0.043172  \n",
       " 4        0.740000   626400       0.710000    0.041385  \n",
       " ...           ...      ...            ...         ...  \n",
       " 2344  6681.062500        0    6734.804688   -0.008012  \n",
       " 2345  6716.439941        0    6681.062500    0.005281  \n",
       " 2346  6469.799316        0    6716.439941   -0.037413  \n",
       " 2347  6441.589355        0    6469.799316   -0.004370  \n",
       " 2348  6399.855469        0    6441.589355   -0.006500  \n",
       " \n",
       " [2349 rows x 9 columns],\n",
       "             Date       Open       High        Low      Close  Adj Close  \\\n",
       " 0     2011-03-31  30.490000  30.590000  30.350000  30.510000  29.643923   \n",
       " 1     2011-04-01  30.559999  30.780001  30.410000  30.719999  29.847960   \n",
       " 2     2011-04-04  30.879999  31.090000  30.830000  31.000000  30.120012   \n",
       " 3     2011-04-05  31.020000  31.180000  30.990000  31.030001  30.149160   \n",
       " 4     2011-04-06  31.270000  31.350000  31.049999  31.120001  30.236607   \n",
       " ...          ...        ...        ...        ...        ...        ...   \n",
       " 2259  2020-03-24  11.300000  11.400000  11.220000  11.310000  11.310000   \n",
       " 2260  2020-03-25  11.350000  11.610000  11.300000  11.500000  11.500000   \n",
       " 2261  2020-03-26  11.470000  11.590000  11.330000  11.460000  11.460000   \n",
       " 2262  2020-03-27  11.280000  11.490000  11.280000  11.420000  11.420000   \n",
       " 2263  2020-03-30  11.330000  11.400000  11.180000  11.390000  11.390000   \n",
       " \n",
       "        Volume  \n",
       " 0     1834200  \n",
       " 1     3428900  \n",
       " 2     2009700  \n",
       " 3     1533000  \n",
       " 4     1309800  \n",
       " ...       ...  \n",
       " 2259  1040400  \n",
       " 2260  1486900  \n",
       " 2261  1839200  \n",
       " 2262  1420300  \n",
       " 2263  1668100  \n",
       " \n",
       " [2264 rows x 7 columns],\n",
       "             Date         Open         High          Low        Close  \\\n",
       " 0     2011-03-31  1327.439941  1329.770020  1325.030029  1325.829956   \n",
       " 1     2011-04-01  1329.479980  1337.849976  1328.890015  1332.410034   \n",
       " 2     2011-04-04  1333.560059  1336.739990  1329.099976  1332.869995   \n",
       " 3     2011-04-05  1332.030029  1338.209961  1330.030029  1332.630005   \n",
       " 4     2011-04-06  1335.939941  1339.380005  1331.089966  1335.540039   \n",
       " ...          ...          ...          ...          ...          ...   \n",
       " 2259  2020-03-24  2344.439941  2449.709961  2344.439941  2447.330078   \n",
       " 2260  2020-03-25  2457.770020  2571.419922  2407.530029  2475.560059   \n",
       " 2261  2020-03-26  2501.290039  2637.010010  2500.719971  2630.070068   \n",
       " 2262  2020-03-27  2555.870117  2615.909912  2520.020020  2541.469971   \n",
       " 2263  2020-03-30  2558.979980  2631.800049  2545.280029  2626.649902   \n",
       " \n",
       "         Adj Close      Volume  \n",
       " 0     1325.829956  3566270000  \n",
       " 1     1332.410034  4223740000  \n",
       " 2     1332.869995  4223740000  \n",
       " 3     1332.630005  3852280000  \n",
       " 4     1335.540039  4223740000  \n",
       " ...           ...         ...  \n",
       " 2259  2447.330078  7547350000  \n",
       " 2260  2475.560059  8285670000  \n",
       " 2261  2630.070068  7753160000  \n",
       " 2262  2541.469971  6194330000  \n",
       " 2263  2626.649902  5746220000  \n",
       " \n",
       " [2264 rows x 7 columns],\n",
       "             Date          Open          High           Low         Close  \\\n",
       " 0     2011-03-31   9765.280273   9765.809570   9658.639648   9755.099609   \n",
       " 1     2011-04-01   9757.280273   9822.059570   9698.599609   9708.389648   \n",
       " 2     2011-04-04   9773.910156   9808.599609   9718.889648   9718.889648   \n",
       " 3     2011-04-05   9732.259766   9732.259766   9566.049805   9615.549805   \n",
       " 4     2011-04-06   9668.110352   9671.459961   9562.160156   9584.370117   \n",
       " ...          ...           ...           ...           ...           ...   \n",
       " 2220  2020-03-25  18446.800781  19564.380859  18446.800781  19546.630859   \n",
       " 2221  2020-03-26  19234.769531  19240.289063  18512.810547  18664.599609   \n",
       " 2222  2020-03-27  19021.970703  19389.429688  18832.210938  19389.429688   \n",
       " 2223  2020-03-30  18884.070313  19084.970703  18578.199219  19084.970703   \n",
       " 2224  2020-03-31  19181.900391  19336.189453  18834.160156  18917.009766   \n",
       " \n",
       "          Adj Close    Volume  \n",
       " 0      9755.099609  187100.0  \n",
       " 1      9708.389648  191500.0  \n",
       " 2      9718.889648  171800.0  \n",
       " 3      9615.549805  182900.0  \n",
       " 4      9584.370117  203300.0  \n",
       " ...            ...       ...  \n",
       " 2220  19546.630859  147700.0  \n",
       " 2221  18664.599609  128100.0  \n",
       " 2222  19389.429688  148900.0  \n",
       " 2223  19084.970703  121000.0  \n",
       " 2224  18917.009766  122200.0  \n",
       " \n",
       " [2225 rows x 7 columns]]"
      ]
     },
     "execution_count": 15,
     "metadata": {},
     "output_type": "execute_result"
    }
   ],
   "source": [
    "df_list[:4]"
   ]
  },
  {
   "cell_type": "code",
   "execution_count": 32,
   "metadata": {},
   "outputs": [],
   "source": [
    "'''Rename Price column'''\n",
    "BTC.rename(columns={'Adj Close':'Price_BTC'}, \n",
    "                 inplace=True)\n",
    "DBC.rename(columns={'Adj Close':'Price_DBC'}, \n",
    "                 inplace=True)\n",
    "GSPC.rename(columns={'Adj Close':'Price_GSPC'}, \n",
    "                 inplace=True)\n",
    "N225.rename(columns={'Adj Close':'Price_N225'}, \n",
    "                 inplace=True)\n",
    "\n",
    "'''Create lags for all assets'''\n",
    "BTC['Price_BTC_lag'] = BTC['Price_BTC'].shift(1)\n",
    "DBC['Price_DBC_lag'] = DBC['Price_DBC'].shift(1)\n",
    "GSPC['Price_GSPC_lag'] = GSPC['Price_GSPC'].shift(1)\n",
    "N225['Price_N225_lag'] = N225['Price_N225'].shift(1)\n",
    "\n",
    "'''Calculate individual asset returns'''\n",
    "BTC['BTC_return'] = np.log(BTC['Price_BTC']/BTC['Price_BTC_lag']) \n",
    "DBC['DBC_return'] = np.log(DBC['Price_DBC']/DBC['Price_DBC_lag']) \n",
    "GSPC['GSPC_return'] = np.log(GSPC['Price_GSPC']/GSPC['Price_GSPC_lag']) \n",
    "N225['N225_return'] = np.log(N225['Price_N225']/N225['Price_N225_lag']) \n",
    "\n",
    "'''Keep only relevant columns'''\n",
    "BTC = BTC[['Date', 'Price_BTC', 'Price_BTC_lag', 'BTC_return']]\n",
    "DBC = DBC[['Date', 'Price_DBC', 'Price_DBC_lag', 'DBC_return']]\n",
    "GSPC = GSPC[['Date', 'Price_GSPC', 'Price_GSPC_lag', 'GSPC_return']]\n",
    "N225 = N225[['Date', 'Price_N225', 'Price_N225_lag', 'N225_return']]"
   ]
  },
  {
   "cell_type": "code",
   "execution_count": 33,
   "metadata": {},
   "outputs": [],
   "source": [
    "'''Merge asset datasets - inner join depending on BTC (first datset) - this needs to be updated'''\n",
    "result=pd.merge(BTC,DBC, how='inner', left_index=True, right_index=True)\n",
    "result2=pd.merge(result,GSPC, how='inner', left_index=True, right_index=True)\n",
    "df=pd.merge(result2,N225, how='inner', left_index=True, right_index=True)"
   ]
  },
  {
   "cell_type": "code",
   "execution_count": 34,
   "metadata": {},
   "outputs": [
    {
     "data": {
      "text/html": [
       "<div>\n",
       "<style scoped>\n",
       "    .dataframe tbody tr th:only-of-type {\n",
       "        vertical-align: middle;\n",
       "    }\n",
       "\n",
       "    .dataframe tbody tr th {\n",
       "        vertical-align: top;\n",
       "    }\n",
       "\n",
       "    .dataframe thead th {\n",
       "        text-align: right;\n",
       "    }\n",
       "</style>\n",
       "<table border=\"1\" class=\"dataframe\">\n",
       "  <thead>\n",
       "    <tr style=\"text-align: right;\">\n",
       "      <th></th>\n",
       "      <th>Date_x</th>\n",
       "      <th>Price_BTC</th>\n",
       "      <th>Price_BTC_lag</th>\n",
       "      <th>BTC_return</th>\n",
       "      <th>Date_y</th>\n",
       "      <th>Price_DBC</th>\n",
       "      <th>Price_DBC_lag</th>\n",
       "      <th>DBC_return</th>\n",
       "      <th>Date_x</th>\n",
       "      <th>Price_GSPC</th>\n",
       "      <th>Price_GSPC_lag</th>\n",
       "      <th>GSPC_return</th>\n",
       "      <th>Date_y</th>\n",
       "      <th>Price_N225</th>\n",
       "      <th>Price_N225_lag</th>\n",
       "      <th>N225_return</th>\n",
       "    </tr>\n",
       "  </thead>\n",
       "  <tbody>\n",
       "    <tr>\n",
       "      <th>0</th>\n",
       "      <td>2011-03-31</td>\n",
       "      <td>0.7846</td>\n",
       "      <td>NaN</td>\n",
       "      <td>NaN</td>\n",
       "      <td>2011-03-31</td>\n",
       "      <td>29.643923</td>\n",
       "      <td>NaN</td>\n",
       "      <td>NaN</td>\n",
       "      <td>2011-03-31</td>\n",
       "      <td>1325.829956</td>\n",
       "      <td>NaN</td>\n",
       "      <td>NaN</td>\n",
       "      <td>2011-03-31</td>\n",
       "      <td>9755.099609</td>\n",
       "      <td>NaN</td>\n",
       "      <td>NaN</td>\n",
       "    </tr>\n",
       "    <tr>\n",
       "      <th>1</th>\n",
       "      <td>2011-04-01</td>\n",
       "      <td>0.7741</td>\n",
       "      <td>0.7846</td>\n",
       "      <td>-0.013473</td>\n",
       "      <td>2011-04-01</td>\n",
       "      <td>29.847960</td>\n",
       "      <td>29.643923</td>\n",
       "      <td>0.006859</td>\n",
       "      <td>2011-04-01</td>\n",
       "      <td>1332.410034</td>\n",
       "      <td>1325.829956</td>\n",
       "      <td>0.004951</td>\n",
       "      <td>2011-04-01</td>\n",
       "      <td>9708.389648</td>\n",
       "      <td>9755.099609</td>\n",
       "      <td>-0.004800</td>\n",
       "    </tr>\n",
       "    <tr>\n",
       "      <th>2</th>\n",
       "      <td>2011-04-04</td>\n",
       "      <td>0.6800</td>\n",
       "      <td>0.7741</td>\n",
       "      <td>-0.129608</td>\n",
       "      <td>2011-04-04</td>\n",
       "      <td>30.120012</td>\n",
       "      <td>29.847960</td>\n",
       "      <td>0.009073</td>\n",
       "      <td>2011-04-04</td>\n",
       "      <td>1332.869995</td>\n",
       "      <td>1332.410034</td>\n",
       "      <td>0.000345</td>\n",
       "      <td>2011-04-04</td>\n",
       "      <td>9718.889648</td>\n",
       "      <td>9708.389648</td>\n",
       "      <td>0.001081</td>\n",
       "    </tr>\n",
       "    <tr>\n",
       "      <th>3</th>\n",
       "      <td>2011-04-05</td>\n",
       "      <td>0.7100</td>\n",
       "      <td>0.6800</td>\n",
       "      <td>0.043172</td>\n",
       "      <td>2011-04-05</td>\n",
       "      <td>30.149160</td>\n",
       "      <td>30.120012</td>\n",
       "      <td>0.000967</td>\n",
       "      <td>2011-04-05</td>\n",
       "      <td>1332.630005</td>\n",
       "      <td>1332.869995</td>\n",
       "      <td>-0.000180</td>\n",
       "      <td>2011-04-05</td>\n",
       "      <td>9615.549805</td>\n",
       "      <td>9718.889648</td>\n",
       "      <td>-0.010690</td>\n",
       "    </tr>\n",
       "    <tr>\n",
       "      <th>4</th>\n",
       "      <td>2011-04-06</td>\n",
       "      <td>0.7400</td>\n",
       "      <td>0.7100</td>\n",
       "      <td>0.041385</td>\n",
       "      <td>2011-04-06</td>\n",
       "      <td>30.236607</td>\n",
       "      <td>30.149160</td>\n",
       "      <td>0.002896</td>\n",
       "      <td>2011-04-06</td>\n",
       "      <td>1335.540039</td>\n",
       "      <td>1332.630005</td>\n",
       "      <td>0.002181</td>\n",
       "      <td>2011-04-06</td>\n",
       "      <td>9584.370117</td>\n",
       "      <td>9615.549805</td>\n",
       "      <td>-0.003248</td>\n",
       "    </tr>\n",
       "  </tbody>\n",
       "</table>\n",
       "</div>"
      ],
      "text/plain": [
       "       Date_x  Price_BTC  Price_BTC_lag  BTC_return      Date_y  Price_DBC  \\\n",
       "0  2011-03-31     0.7846            NaN         NaN  2011-03-31  29.643923   \n",
       "1  2011-04-01     0.7741         0.7846   -0.013473  2011-04-01  29.847960   \n",
       "2  2011-04-04     0.6800         0.7741   -0.129608  2011-04-04  30.120012   \n",
       "3  2011-04-05     0.7100         0.6800    0.043172  2011-04-05  30.149160   \n",
       "4  2011-04-06     0.7400         0.7100    0.041385  2011-04-06  30.236607   \n",
       "\n",
       "   Price_DBC_lag  DBC_return      Date_x   Price_GSPC  Price_GSPC_lag  \\\n",
       "0            NaN         NaN  2011-03-31  1325.829956             NaN   \n",
       "1      29.643923    0.006859  2011-04-01  1332.410034     1325.829956   \n",
       "2      29.847960    0.009073  2011-04-04  1332.869995     1332.410034   \n",
       "3      30.120012    0.000967  2011-04-05  1332.630005     1332.869995   \n",
       "4      30.149160    0.002896  2011-04-06  1335.540039     1332.630005   \n",
       "\n",
       "   GSPC_return      Date_y   Price_N225  Price_N225_lag  N225_return  \n",
       "0          NaN  2011-03-31  9755.099609             NaN          NaN  \n",
       "1     0.004951  2011-04-01  9708.389648     9755.099609    -0.004800  \n",
       "2     0.000345  2011-04-04  9718.889648     9708.389648     0.001081  \n",
       "3    -0.000180  2011-04-05  9615.549805     9718.889648    -0.010690  \n",
       "4     0.002181  2011-04-06  9584.370117     9615.549805    -0.003248  "
      ]
     },
     "execution_count": 34,
     "metadata": {},
     "output_type": "execute_result"
    }
   ],
   "source": [
    "df.head()"
   ]
  },
  {
   "cell_type": "markdown",
   "metadata": {},
   "source": [
    "From the below I change to the dataframe I used."
   ]
  },
  {
   "cell_type": "code",
   "execution_count": 109,
   "metadata": {},
   "outputs": [],
   "source": [
    "'''Assume equal weight (0.25) for the 4 assets and calculate portfolio returns - later to change it when we also add the bond'''\n",
    "\n",
    "\n",
    "data['portfolio_return'] = 0.25*data['BTC_return'] + 0.25*data['DBC_return'] + 0.25*data['GSPC_return'] + 0.25*data['N225_return'] "
   ]
  },
  {
   "cell_type": "code",
   "execution_count": 110,
   "metadata": {},
   "outputs": [
    {
     "data": {
      "text/plain": [
       "2113    0.057119\n",
       "2114    0.024358\n",
       "2115    0.004042\n",
       "2116   -0.009270\n",
       "2117    0.002535\n",
       "Name: portfolio_return, dtype: float64"
      ]
     },
     "execution_count": 110,
     "metadata": {},
     "output_type": "execute_result"
    }
   ],
   "source": [
    "data['portfolio_return'] .tail()"
   ]
  },
  {
   "cell_type": "code",
   "execution_count": 111,
   "metadata": {},
   "outputs": [
    {
     "data": {
      "text/plain": [
       "((array([-3.40786537, -3.15787453, -3.01927434, ...,  3.01927434,\n",
       "          3.15787453,  3.40786537]),\n",
       "  array([-0.21564289, -0.16266894, -0.11559075, ...,  0.11324129,\n",
       "          0.14570766,  0.36659216])),\n",
       " (0.017305511878786695, 0.0011114043472438358, 0.8590905557483958))"
      ]
     },
     "execution_count": 111,
     "metadata": {},
     "output_type": "execute_result"
    },
    {
     "data": {
      "image/png": "[encoded data removed]",
      "text/plain": [
       "<Figure size 432x288 with 1 Axes>"
      ]
     },
     "metadata": {
      "needs_background": "light"
     },
     "output_type": "display_data"
    }
   ],
   "source": [
    "'''Create QQ-plot'''\n",
    "sc.stats.probplot(data['portfolio_return'][1:], dist=\"norm\", plot=plt)"
   ]
  },
  {
   "cell_type": "markdown",
   "metadata": {},
   "source": [
    "##### I suggest to keep log of our Methodology and Questions and write email to Svetlana/Sarah next week to verify and ask - do you agree?\n",
    "\n",
    "**Methodology**\n",
    "1. Create lags for each individual asset and compute individual asset returns\n",
    "2. Merge the individual asset datasets and compute portfolio returns and portfolio standard deviation\n",
    "\n",
    "**Questions**\n",
    "1. How to deal with unmatching data (i.e. there is obs. for a particular dataset for one asset but none for another asset?). Should we delete all observations for that date altogether? How do we deal with the gap in history? <br>\n",
    "**Pan:** I took the intersection dates of all five assets. \n",
    "I am not sure if it is proper but this is the best we can do so far. <br>\n",
    "We can ask them!!\n",
    "\n",
    "2. How to deal with outliers? <br>\n",
    "**Pan:** The data looks normal so outlier doesn't seem to be a big probelm, but maybe it would affect <br>\n",
    "when adding the bond. Let's ask as well!\n",
    "\n",
    "##### Question: My code above looks ugly as I am doing the operations for each dataset separately instead of using some kind of loop to iterate. Can we, please, set up a short call so you can teach me how to do the iteration? :D I will appreciate some CS help! \n",
    "\n",
    "**Pan:** Sure, I also took some time to make it into function. <br>\n",
    "You can have a look and if you don't know some parts, we can have a call :D"
   ]
  },
  {
   "cell_type": "markdown",
   "metadata": {},
   "source": [
    "I was just trying stuff with VAR and ES below, but it's not working very well so far..maybe you can also take a look"
   ]
  },
  {
   "cell_type": "code",
   "execution_count": 93,
   "metadata": {},
   "outputs": [],
   "source": [
    "from scipy.stats import norm\n",
    "def fnVaR_n(dfData, weights, alpha, lookback, percent,initial_investment):\n",
    "    \"\"\"\n",
    "    purpose:\n",
    "        calculates VaR and ES with variance-covariance method\n",
    "        using a normal distribution\n",
    "    input:\n",
    "        dfData, dataframe\n",
    "        weights, weights vector\n",
    "        alpha, significance value\n",
    "        lookback, lookback period\n",
    "        percent, True= express in percent\n",
    "    output:\n",
    "        VaR expressed in losses (positive value)\n",
    "    \"\"\"\n",
    "    # check alpha\n",
    "    if alpha > 0.5:\n",
    "        alpha= 1-alpha\n",
    "    \n",
    "    # express years in days\n",
    "    years= lookback\n",
    "    # select last n years of data\n",
    "    DataTemp= dfData.iloc[-years*250:,:-1]  #converted to days\n",
    "    \n",
    "    # calculate mean\n",
    "    mean= np.array(np.mean(DataTemp))@weights.T\n",
    "    mean= mean[0]\n",
    "    \n",
    "    \n",
    "    # calculate covariance\n",
    "    cov= np.cov(DataTemp, rowvar= False)\n",
    "    # calculate variance\n",
    "    variance= weights@cov@weights.T\n",
    "    std= np.sqrt(variance[0][0])\n",
    "    \n",
    "    # calculate quantile\n",
    "    z= sc.stats.norm.ppf(alpha)\n",
    "    VaR= -mean + z * std # μ is negative of the return over one day, so should be negative sign\n",
    "    VaR= -VaR\n",
    "    \n",
    "    #calculate ES - this is not working so far\n",
    "    #ES= -VaR\n",
    "    #DataTemp_ES= dfData.iloc[-years:,6]\n",
    "    #DataTemp_ES= DataTemp_ES[DataTemp_ES < ES]\n",
    "    #ES= -np.mean(DataTemp_ES)\n",
    "    \n",
    "    #if percent == False:\n",
    "        #VaR= VaR*dfData.iloc[-1,7]\n",
    "        #ES= ES*dfData.iloc[-1,7]\n",
    "        #ES= round(ES, 2)\n",
    "        #VaR= round(VaR, 2)\n",
    "    #ES = -mean + std*(sc.stats.norm.pdf(z)/(1-alpha))\n",
    "    mean_return = dfData['portfolio_return'][-years*250:]\n",
    "    ES_list = [x for x in mean_return if x < -VaR]\n",
    "    ES = -np.mean(ES_list)\n",
    "    \n",
    "    return VaR, ES"
   ]
  },
  {
   "cell_type": "code",
   "execution_count": 112,
   "metadata": {},
   "outputs": [
    {
     "name": "stdout",
     "output_type": "stream",
     "text": [
      "(VaR,ES) in percentage is:\n",
      "(0.0269175959193376, 0.05104776691817315)\n",
      "Monetary (VaR,ES) is:\n",
      "(26917.5959193376, 51047.76691817315)\n"
     ]
    }
   ],
   "source": [
    "'''To use the function below we need a dataframe only with the prices, an array with the weights, and lookback'''\n",
    "# Set an initial investment level\n",
    "initial_investment = 1000000\n",
    "\n",
    "df_prices = data[['BTC_return', 'DBC_return', 'GSPC_return', 'N225_return','portfolio_return']]\n",
    "weights= np.array([[.25,.25,.25,.25]])\n",
    "alpha = 0.95\n",
    "lookback = 3\n",
    "percent = True\n",
    "\n",
    "VaR,ES = fnVaR_n(df_prices, weights, alpha, lookback, percent,1000000)\n",
    "print('(VaR,ES) in percentage is:')\n",
    "print((VaR,ES))\n",
    "print('Monetary (VaR,ES) is:')\n",
    "print((VaR*initial_investment,ES*initial_investment))"
   ]
  },
  {
   "cell_type": "markdown",
   "metadata": {},
   "source": [
    "**Pan:** Discussion points <br>\n",
    "1. Ask about the dates\n",
    "2. Ask about outliers\n",
    "3. I set the monetary values as the percertage * the initial investment values (initials values of the portfolio?) <br>\n",
    "Not sure if it's correct!!!!!!"
   ]
  },
  {
   "cell_type": "code",
   "execution_count": null,
   "metadata": {},
   "outputs": [],
   "source": []
  }
 ],
 "metadata": {
  "kernelspec": {
   "display_name": "Python 3",
   "language": "python",
   "name": "python3"
  },
  "language_info": {
   "codemirror_mode": {
    "name": "ipython",
    "version": 3
   },
   "file_extension": ".py",
   "mimetype": "text/x-python",
   "name": "python",
   "nbconvert_exporter": "python",
   "pygments_lexer": "ipython3",
   "version": "3.7.3"
  }
 },
 "nbformat": 4,
 "nbformat_minor": 2
}
