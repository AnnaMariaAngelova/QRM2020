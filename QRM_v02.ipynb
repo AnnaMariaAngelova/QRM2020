{
 "cells": [
  {
   "cell_type": "code",
   "execution_count": 4,
   "metadata": {},
   "outputs": [],
   "source": [
    "import numpy as np\n",
    "import matplotlib.pyplot as plt\n",
    "import pandas as pd\n",
    "from datetime import datetime\n",
    "import statsmodels.api as sm\n",
    "from scipy.optimize import minimize\n",
    "import scipy as sc\n",
    "import glob\n",
    "import matplotlib.pyplot as plt\n",
    "import os\n",
    "#from arch import arch_model\n",
    "#from fnGARCH_2 import *"
   ]
  },
  {
   "cell_type": "code",
   "execution_count": null,
   "metadata": {},
   "outputs": [],
   "source": [
    "data1 = pd.read_csv\""
   ]
  },
  {
   "cell_type": "code",
   "execution_count": 5,
   "metadata": {},
   "outputs": [],
   "source": [
    "\n",
    "def fnVaR_n(dfData, weights, alpha, lookback, percent):\n",
    "    \"\"\"\n",
    "    purpose:\n",
    "        calculates VaR and ES with variance-covariance method\n",
    "        using a normal distribution\n",
    "    input:\n",
    "        dfData, dataframe\n",
    "        weights, weights vector\n",
    "        apha, significance value\n",
    "        lookback, lookback period\n",
    "        percent, True= express in percent\n",
    "    output:\n",
    "        VaR expressed in losses (positive value)\n",
    "    \"\"\"\n",
    "    # check alpha\n",
    "    if alpha > 0.5:\n",
    "        alpha= 1-alpha\n",
    "    \n",
    "    # express years in days\n",
    "    years= lookback\n",
    "    # select last n years of data\n",
    "    DataTemp= dfData.iloc[-years:,0:4]\n",
    "    # calculate covariance\n",
    "    cov= np.cov(DataTemp, rowvar= False)\n",
    "    # calculate variance\n",
    "    variance= weights@cov@weights.T\n",
    "    variance= variance[0][0]\n",
    "    # calculate mean\n",
    "    mean= np.array(np.mean(DataTemp))@weights.T\n",
    "    mean= mean[0]\n",
    "    # calculate quantile\n",
    "    z= sc.stats.norm.ppf(alpha)\n",
    "    VaR= mean + z * np.sqrt(variance)\n",
    "    VaR= -VaR\n",
    "    \n",
    "    # calculate ES\n",
    "    ES= -VaR\n",
    "    DataTemp_ES= dfData.iloc[-years:,6]\n",
    "    DataTemp_ES= DataTemp_ES[DataTemp_ES < ES]\n",
    "    ES= -np.mean(DataTemp_ES)\n",
    "    \n",
    "    if percent == False:\n",
    "        VaR= VaR*dfData.iloc[-1,7]\n",
    "        ES= ES*dfData.iloc[-1,7]\n",
    "        ES= round(ES, 2)\n",
    "        VaR= round(VaR, 2)\n",
    "    \n",
    "    return VaR, ES\n"
   ]
  },
  {
   "cell_type": "code",
   "execution_count": null,
   "metadata": {},
   "outputs": [],
   "source": []
  }
 ],
 "metadata": {
  "kernelspec": {
   "display_name": "Python 3",
   "language": "python",
   "name": "python3"
  },
  "language_info": {
   "codemirror_mode": {
    "name": "ipython",
    "version": 3
   },
   "file_extension": ".py",
   "mimetype": "text/x-python",
   "name": "python",
   "nbconvert_exporter": "python",
   "pygments_lexer": "ipython3",
   "version": "3.7.4"
  }
 },
 "nbformat": 4,
 "nbformat_minor": 2
}
