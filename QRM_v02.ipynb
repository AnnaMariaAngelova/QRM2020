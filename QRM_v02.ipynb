{
 "cells": [
  {
   "cell_type": "markdown",
   "metadata": {},
   "source": [
    "# QRM First Assignment"
   ]
  },
  {
   "cell_type": "markdown",
   "metadata": {},
   "source": [
    "Questions so far:\n",
    "1. What is the difference between Close and Adj. Close? Which to use?\n",
    "2. np.log is used for natural logarithm, right?\n",
    "(Natural logarithm, element-wise. --copied from documentation page)"
   ]
  },
  {
   "cell_type": "markdown",
   "metadata": {},
   "source": [
    "**Close price adjusted for splits.** \n",
    "<br>\n",
    "''The closing price of a stock is the price of that stock at the close of the trading day.''\n",
    "\n",
    "\n",
    "**Adjusted close price adjusted for both dividends and splits.**\n",
    "<br>\n",
    "''The adjusted closing price is a more complex analysis that uses the closing price as a starting point, but it takes into account factors such as dividends, stock splits and new stock offerings to determine a value. The adjusted closing price represents a more accurate reflection of a stock's value, since distributions and new offerings can alter the closing price.''\n",
    "\n",
    "So I think in the sense of these dataset, the close price is also a kind of adjusted price since it is adjusted for splits.<br>\n",
    "I personally would think the adjusted close price (both div and splits) would be better since it's more accurate."
   ]
  },
  {
   "cell_type": "code",
   "execution_count": 1,
   "metadata": {},
   "outputs": [],
   "source": [
    "import numpy as np\n",
    "import matplotlib.pyplot as plt\n",
    "import pandas as pd\n",
    "from datetime import datetime\n",
    "import statsmodels.api as sm\n",
    "from scipy.optimize import minimize\n",
    "import scipy as sc\n",
    "import glob\n",
    "import matplotlib.pyplot as plt\n",
    "import os\n",
    "#from arch import arch_model\n",
    "#from fnGARCH_2 import *"
   ]
  },
  {
   "cell_type": "code",
   "execution_count": 2,
   "metadata": {},
   "outputs": [],
   "source": [
    "BTC = pd.read_csv(\"01_Data/BTCUSD.csv\",)\n",
    "DBC = pd.read_csv(\"01_Data/DBC.csv\")\n",
    "DE_1YBOND = pd.read_csv(\"01_Data/DE_1YBOND.csv\")\n",
    "GSPC = pd.read_csv(\"01_Data/GSPC.csv\")\n",
    "N225 = pd.read_csv(\"01_Data/N225.csv\") #this is not working?"
   ]
  },
  {
   "cell_type": "code",
   "execution_count": 3,
   "metadata": {},
   "outputs": [
    {
     "data": {
      "text/html": [
       "<div>\n",
       "<style scoped>\n",
       "    .dataframe tbody tr th:only-of-type {\n",
       "        vertical-align: middle;\n",
       "    }\n",
       "\n",
       "    .dataframe tbody tr th {\n",
       "        vertical-align: top;\n",
       "    }\n",
       "\n",
       "    .dataframe thead th {\n",
       "        text-align: right;\n",
       "    }\n",
       "</style>\n",
       "<table border=\"1\" class=\"dataframe\">\n",
       "  <thead>\n",
       "    <tr style=\"text-align: right;\">\n",
       "      <th></th>\n",
       "      <th>Date</th>\n",
       "      <th>Open</th>\n",
       "      <th>High</th>\n",
       "      <th>Low</th>\n",
       "      <th>Close</th>\n",
       "      <th>Adj Close</th>\n",
       "      <th>Volume</th>\n",
       "    </tr>\n",
       "  </thead>\n",
       "  <tbody>\n",
       "    <tr>\n",
       "      <td>0</td>\n",
       "      <td>2011-03-31</td>\n",
       "      <td>0.7897</td>\n",
       "      <td>0.7680</td>\n",
       "      <td>0.8010</td>\n",
       "      <td>0.7846</td>\n",
       "      <td>0.7846</td>\n",
       "      <td>542900</td>\n",
       "    </tr>\n",
       "    <tr>\n",
       "      <td>1</td>\n",
       "      <td>2011-04-01</td>\n",
       "      <td>0.7846</td>\n",
       "      <td>0.7741</td>\n",
       "      <td>0.7970</td>\n",
       "      <td>0.7741</td>\n",
       "      <td>0.7741</td>\n",
       "      <td>248300</td>\n",
       "    </tr>\n",
       "    <tr>\n",
       "      <td>2</td>\n",
       "      <td>2011-04-04</td>\n",
       "      <td>0.7790</td>\n",
       "      <td>0.5619</td>\n",
       "      <td>0.7850</td>\n",
       "      <td>0.6800</td>\n",
       "      <td>0.6800</td>\n",
       "      <td>2165200</td>\n",
       "    </tr>\n",
       "    <tr>\n",
       "      <td>3</td>\n",
       "      <td>2011-04-05</td>\n",
       "      <td>0.6800</td>\n",
       "      <td>0.5800</td>\n",
       "      <td>0.7478</td>\n",
       "      <td>0.7100</td>\n",
       "      <td>0.7100</td>\n",
       "      <td>652200</td>\n",
       "    </tr>\n",
       "    <tr>\n",
       "      <td>4</td>\n",
       "      <td>2011-04-06</td>\n",
       "      <td>0.7100</td>\n",
       "      <td>0.6902</td>\n",
       "      <td>0.7500</td>\n",
       "      <td>0.7400</td>\n",
       "      <td>0.7400</td>\n",
       "      <td>626400</td>\n",
       "    </tr>\n",
       "  </tbody>\n",
       "</table>\n",
       "</div>"
      ],
      "text/plain": [
       "         Date    Open    High     Low   Close  Adj Close   Volume\n",
       "0  2011-03-31  0.7897  0.7680  0.8010  0.7846     0.7846   542900\n",
       "1  2011-04-01  0.7846  0.7741  0.7970  0.7741     0.7741   248300\n",
       "2  2011-04-04  0.7790  0.5619  0.7850  0.6800     0.6800  2165200\n",
       "3  2011-04-05  0.6800  0.5800  0.7478  0.7100     0.7100   652200\n",
       "4  2011-04-06  0.7100  0.6902  0.7500  0.7400     0.7400   626400"
      ]
     },
     "execution_count": 3,
     "metadata": {},
     "output_type": "execute_result"
    }
   ],
   "source": [
    "BTC.head() "
   ]
  },
  {
   "cell_type": "markdown",
   "metadata": {},
   "source": [
    "## Exploratory Data Analysis\n",
    "\n",
    "1. Create lag variable of the adj.close column to calculate portfolio returns\n",
    "2. Calculate portfolio returns using natural logarithm: log-return ui= ln(Si/Si-1)\n",
    "2. Using the historical returns, assess the validity of the normal approximation: a) by comparing the histograms to the densities of the normal distribution b) by a QQ-plot"
   ]
  },
  {
   "cell_type": "code",
   "execution_count": 4,
   "metadata": {},
   "outputs": [
    {
     "data": {
      "text/html": [
       "<div>\n",
       "<style scoped>\n",
       "    .dataframe tbody tr th:only-of-type {\n",
       "        vertical-align: middle;\n",
       "    }\n",
       "\n",
       "    .dataframe tbody tr th {\n",
       "        vertical-align: top;\n",
       "    }\n",
       "\n",
       "    .dataframe thead th {\n",
       "        text-align: right;\n",
       "    }\n",
       "</style>\n",
       "<table border=\"1\" class=\"dataframe\">\n",
       "  <thead>\n",
       "    <tr style=\"text-align: right;\">\n",
       "      <th></th>\n",
       "      <th>Date</th>\n",
       "      <th>Open</th>\n",
       "      <th>High</th>\n",
       "      <th>Low</th>\n",
       "      <th>Close</th>\n",
       "      <th>Adj Close</th>\n",
       "      <th>Volume</th>\n",
       "      <th>adj_close_lag</th>\n",
       "      <th>btc_return</th>\n",
       "    </tr>\n",
       "  </thead>\n",
       "  <tbody>\n",
       "    <tr>\n",
       "      <td>0</td>\n",
       "      <td>2011-03-31</td>\n",
       "      <td>0.7897</td>\n",
       "      <td>0.7680</td>\n",
       "      <td>0.8010</td>\n",
       "      <td>0.7846</td>\n",
       "      <td>0.7846</td>\n",
       "      <td>542900</td>\n",
       "      <td>NaN</td>\n",
       "      <td>NaN</td>\n",
       "    </tr>\n",
       "    <tr>\n",
       "      <td>1</td>\n",
       "      <td>2011-04-01</td>\n",
       "      <td>0.7846</td>\n",
       "      <td>0.7741</td>\n",
       "      <td>0.7970</td>\n",
       "      <td>0.7741</td>\n",
       "      <td>0.7741</td>\n",
       "      <td>248300</td>\n",
       "      <td>0.7846</td>\n",
       "      <td>-0.013473</td>\n",
       "    </tr>\n",
       "    <tr>\n",
       "      <td>2</td>\n",
       "      <td>2011-04-04</td>\n",
       "      <td>0.7790</td>\n",
       "      <td>0.5619</td>\n",
       "      <td>0.7850</td>\n",
       "      <td>0.6800</td>\n",
       "      <td>0.6800</td>\n",
       "      <td>2165200</td>\n",
       "      <td>0.7741</td>\n",
       "      <td>-0.129608</td>\n",
       "    </tr>\n",
       "    <tr>\n",
       "      <td>3</td>\n",
       "      <td>2011-04-05</td>\n",
       "      <td>0.6800</td>\n",
       "      <td>0.5800</td>\n",
       "      <td>0.7478</td>\n",
       "      <td>0.7100</td>\n",
       "      <td>0.7100</td>\n",
       "      <td>652200</td>\n",
       "      <td>0.6800</td>\n",
       "      <td>0.043172</td>\n",
       "    </tr>\n",
       "    <tr>\n",
       "      <td>4</td>\n",
       "      <td>2011-04-06</td>\n",
       "      <td>0.7100</td>\n",
       "      <td>0.6902</td>\n",
       "      <td>0.7500</td>\n",
       "      <td>0.7400</td>\n",
       "      <td>0.7400</td>\n",
       "      <td>626400</td>\n",
       "      <td>0.7100</td>\n",
       "      <td>0.041385</td>\n",
       "    </tr>\n",
       "  </tbody>\n",
       "</table>\n",
       "</div>"
      ],
      "text/plain": [
       "         Date    Open    High     Low   Close  Adj Close   Volume  \\\n",
       "0  2011-03-31  0.7897  0.7680  0.8010  0.7846     0.7846   542900   \n",
       "1  2011-04-01  0.7846  0.7741  0.7970  0.7741     0.7741   248300   \n",
       "2  2011-04-04  0.7790  0.5619  0.7850  0.6800     0.6800  2165200   \n",
       "3  2011-04-05  0.6800  0.5800  0.7478  0.7100     0.7100   652200   \n",
       "4  2011-04-06  0.7100  0.6902  0.7500  0.7400     0.7400   626400   \n",
       "\n",
       "   adj_close_lag  btc_return  \n",
       "0            NaN         NaN  \n",
       "1         0.7846   -0.013473  \n",
       "2         0.7741   -0.129608  \n",
       "3         0.6800    0.043172  \n",
       "4         0.7100    0.041385  "
      ]
     },
     "execution_count": 4,
     "metadata": {},
     "output_type": "execute_result"
    }
   ],
   "source": [
    "#1.Create lag\n",
    "BTC['adj_close_lag'] = BTC['Adj Close'].shift(1)\n",
    "#Calculate asset returns - later to be done for the whole portfolio\n",
    "BTC['btc_return'] = np.log(BTC['Adj Close']/BTC['adj_close_lag']) \n",
    "BTC.head()"
   ]
  },
  {
   "cell_type": "code",
   "execution_count": 5,
   "metadata": {},
   "outputs": [
    {
     "name": "stderr",
     "output_type": "stream",
     "text": [
      "C:\\Users\\Asus\\.conda\\envs\\py37\\lib\\site-packages\\scipy\\stats\\_distn_infrastructure.py:901: RuntimeWarning: invalid value encountered in greater\n",
      "  return (a < x) & (x < b)\n",
      "C:\\Users\\Asus\\.conda\\envs\\py37\\lib\\site-packages\\scipy\\stats\\_distn_infrastructure.py:901: RuntimeWarning: invalid value encountered in less\n",
      "  return (a < x) & (x < b)\n",
      "C:\\Users\\Asus\\.conda\\envs\\py37\\lib\\site-packages\\scipy\\stats\\_distn_infrastructure.py:1892: RuntimeWarning: invalid value encountered in less_equal\n",
      "  cond2 = cond0 & (x <= _a)\n"
     ]
    },
    {
     "data": {
      "text/plain": [
       "((array([-3.43613514, -3.18806125, -3.05063292, ...,  3.05063292,\n",
       "          3.18806125,  3.43613514]),\n",
       "  array([-0.84876461, -0.46473041, -0.45154429, ...,  0.59337118,\n",
       "          1.47439456,         nan])),\n",
       " (nan, nan, nan))"
      ]
     },
     "execution_count": 5,
     "metadata": {},
     "output_type": "execute_result"
    },
    {
     "data": {
      "image/png": "[encoded data removed]",
      "text/plain": [
       "<Figure size 432x288 with 1 Axes>"
      ]
     },
     "metadata": {
      "needs_background": "light"
     },
     "output_type": "display_data"
    }
   ],
   "source": [
    "#Create QQ-plot \n",
    "sc.stats.probplot(BTC['btc_return'], dist=\"norm\", plot=plt) "
   ]
  },
  {
   "cell_type": "markdown",
   "metadata": {},
   "source": [
    "To-do (preprocessing):\n",
    "1. Debug Nikkei data (import-solved)\n",
    "2. Merge all datasets together\n",
    "3. Calculate portfolio returns\n",
    "4. Create QQ plot again for the whole portfolio"
   ]
  },
  {
   "cell_type": "code",
   "execution_count": 6,
   "metadata": {},
   "outputs": [
    {
     "name": "stdout",
     "output_type": "stream",
     "text": [
      "(2349, 9)\n",
      "(2264, 7)\n",
      "(2586, 6)\n",
      "(2264, 7)\n",
      "(2225, 7)\n"
     ]
    }
   ],
   "source": [
    "print(BTC.shape)\n",
    "print(DBC.shape)\n",
    "print(DE_1YBOND.shape)\n",
    "print(GSPC.shape)\n",
    "print(N225.shape)"
   ]
  },
  {
   "cell_type": "code",
   "execution_count": 7,
   "metadata": {},
   "outputs": [
    {
     "data": {
      "text/html": [
       "<div>\n",
       "<style scoped>\n",
       "    .dataframe tbody tr th:only-of-type {\n",
       "        vertical-align: middle;\n",
       "    }\n",
       "\n",
       "    .dataframe tbody tr th {\n",
       "        vertical-align: top;\n",
       "    }\n",
       "\n",
       "    .dataframe thead th {\n",
       "        text-align: right;\n",
       "    }\n",
       "</style>\n",
       "<table border=\"1\" class=\"dataframe\">\n",
       "  <thead>\n",
       "    <tr style=\"text-align: right;\">\n",
       "      <th></th>\n",
       "      <th>Date</th>\n",
       "      <th>Price</th>\n",
       "      <th>Open</th>\n",
       "      <th>High</th>\n",
       "      <th>Low</th>\n",
       "      <th>Change %</th>\n",
       "    </tr>\n",
       "  </thead>\n",
       "  <tbody>\n",
       "    <tr>\n",
       "      <td>0</td>\n",
       "      <td>Mar 31, 2020</td>\n",
       "      <td>-0.650</td>\n",
       "      <td>-0.717</td>\n",
       "      <td>-0.626</td>\n",
       "      <td>-0.748</td>\n",
       "      <td>-5.66%</td>\n",
       "    </tr>\n",
       "    <tr>\n",
       "      <td>1</td>\n",
       "      <td>Mar 30, 2020</td>\n",
       "      <td>-0.689</td>\n",
       "      <td>-0.685</td>\n",
       "      <td>-0.658</td>\n",
       "      <td>-0.881</td>\n",
       "      <td>-1.85%</td>\n",
       "    </tr>\n",
       "    <tr>\n",
       "      <td>2</td>\n",
       "      <td>Mar 27, 2020</td>\n",
       "      <td>-0.702</td>\n",
       "      <td>-0.626</td>\n",
       "      <td>-0.600</td>\n",
       "      <td>-0.920</td>\n",
       "      <td>14.89%</td>\n",
       "    </tr>\n",
       "    <tr>\n",
       "      <td>3</td>\n",
       "      <td>Mar 26, 2020</td>\n",
       "      <td>-0.611</td>\n",
       "      <td>-0.645</td>\n",
       "      <td>-0.562</td>\n",
       "      <td>-0.679</td>\n",
       "      <td>-3.63%</td>\n",
       "    </tr>\n",
       "    <tr>\n",
       "      <td>4</td>\n",
       "      <td>Mar 25, 2020</td>\n",
       "      <td>-0.634</td>\n",
       "      <td>-0.615</td>\n",
       "      <td>-0.557</td>\n",
       "      <td>-0.674</td>\n",
       "      <td>4.97%</td>\n",
       "    </tr>\n",
       "  </tbody>\n",
       "</table>\n",
       "</div>"
      ],
      "text/plain": [
       "           Date  Price   Open   High    Low Change %\n",
       "0  Mar 31, 2020 -0.650 -0.717 -0.626 -0.748   -5.66%\n",
       "1  Mar 30, 2020 -0.689 -0.685 -0.658 -0.881   -1.85%\n",
       "2  Mar 27, 2020 -0.702 -0.626 -0.600 -0.920   14.89%\n",
       "3  Mar 26, 2020 -0.611 -0.645 -0.562 -0.679   -3.63%\n",
       "4  Mar 25, 2020 -0.634 -0.615 -0.557 -0.674    4.97%"
      ]
     },
     "execution_count": 7,
     "metadata": {},
     "output_type": "execute_result"
    }
   ],
   "source": [
    "'''The attribute format of this bond is different from others, is it a problem? '''\n",
    "DE_1YBOND.head()"
   ]
  },
  {
   "cell_type": "markdown",
   "metadata": {},
   "source": [
    "Check if there is null or empty input"
   ]
  },
  {
   "cell_type": "code",
   "execution_count": 8,
   "metadata": {},
   "outputs": [
    {
     "data": {
      "text/plain": [
       "Date             0\n",
       "Open             0\n",
       "High             0\n",
       "Low              0\n",
       "Close            0\n",
       "Adj Close        0\n",
       "Volume           0\n",
       "adj_close_lag    1\n",
       "btc_return       1\n",
       "dtype: int64"
      ]
     },
     "execution_count": 8,
     "metadata": {},
     "output_type": "execute_result"
    }
   ],
   "source": [
    "BTC.isnull().sum()\n",
    "\n",
    "#this null value is due to the shift, so it won't cause problem"
   ]
  },
  {
   "cell_type": "code",
   "execution_count": 9,
   "metadata": {},
   "outputs": [
    {
     "data": {
      "text/plain": [
       "Date         0\n",
       "Open         0\n",
       "High         0\n",
       "Low          0\n",
       "Close        0\n",
       "Adj Close    0\n",
       "Volume       0\n",
       "dtype: int64"
      ]
     },
     "execution_count": 9,
     "metadata": {},
     "output_type": "execute_result"
    }
   ],
   "source": [
    "DBC.isnull().sum()"
   ]
  },
  {
   "cell_type": "code",
   "execution_count": 10,
   "metadata": {},
   "outputs": [
    {
     "data": {
      "text/plain": [
       "Date        0\n",
       "Price       0\n",
       "Open        0\n",
       "High        0\n",
       "Low         0\n",
       "Change %    0\n",
       "dtype: int64"
      ]
     },
     "execution_count": 10,
     "metadata": {},
     "output_type": "execute_result"
    }
   ],
   "source": [
    "DE_1YBOND.isnull().sum()"
   ]
  },
  {
   "cell_type": "code",
   "execution_count": 11,
   "metadata": {},
   "outputs": [
    {
     "data": {
      "text/plain": [
       "Date         0\n",
       "Open         0\n",
       "High         0\n",
       "Low          0\n",
       "Close        0\n",
       "Adj Close    0\n",
       "Volume       0\n",
       "dtype: int64"
      ]
     },
     "execution_count": 11,
     "metadata": {},
     "output_type": "execute_result"
    }
   ],
   "source": [
    "GSPC.isnull().sum()"
   ]
  },
  {
   "cell_type": "code",
   "execution_count": 12,
   "metadata": {},
   "outputs": [
    {
     "data": {
      "text/plain": [
       "Date          0\n",
       "Open         20\n",
       "High         20\n",
       "Low          20\n",
       "Close        20\n",
       "Adj Close    20\n",
       "Volume       20\n",
       "dtype: int64"
      ]
     },
     "execution_count": 12,
     "metadata": {},
     "output_type": "execute_result"
    }
   ],
   "source": [
    "N225.isnull().sum()"
   ]
  },
  {
   "cell_type": "markdown",
   "metadata": {},
   "source": [
    "There are 20 empty values in the data, we can maybe delete them \n",
    "\n",
    "20 data points are not much compared to 2225 data points total"
   ]
  },
  {
   "cell_type": "code",
   "execution_count": 13,
   "metadata": {},
   "outputs": [
    {
     "data": {
      "text/plain": [
       "(4528, 7)"
      ]
     },
     "execution_count": 13,
     "metadata": {},
     "output_type": "execute_result"
    }
   ],
   "source": [
    "'''Try with two datasets '''\n",
    "frames = [GSPC, DBC]\n",
    "result = pd.concat(frames)\n",
    "result.shape"
   ]
  },
  {
   "cell_type": "code",
   "execution_count": 66,
   "metadata": {},
   "outputs": [
    {
     "data": {
      "text/plain": [
       "(4528, 9)"
      ]
     },
     "execution_count": 66,
     "metadata": {},
     "output_type": "execute_result"
    }
   ],
   "source": [
    "#1.Create lag\n",
    "result['adj_close_lag'] = result['Adj Close'].shift(1)\n",
    "#Calculate asset returns - later to be done for the whole portfolio\n",
    "result['result_return'] = np.log(result['Adj Close']/result['adj_close_lag']) \n",
    "result.shape"
   ]
  },
  {
   "cell_type": "code",
   "execution_count": 67,
   "metadata": {},
   "outputs": [
    {
     "data": {
      "text/plain": [
       "((array([-3.61005085, -3.3731651 , -3.24252529, ...,  3.24252529,\n",
       "          3.3731651 ,  3.61005085]),\n",
       "  array([-4.48420737, -0.1276522 , -0.09994485, ...,  0.08880841,\n",
       "          0.08968323,         nan])),\n",
       " (nan, nan, nan))"
      ]
     },
     "execution_count": 67,
     "metadata": {},
     "output_type": "execute_result"
    },
    {
     "data": {
      "image/png": "[encoded data removed]",
      "text/plain": [
       "<Figure size 432x288 with 1 Axes>"
      ]
     },
     "metadata": {
      "needs_background": "light"
     },
     "output_type": "display_data"
    }
   ],
   "source": [
    "#Create QQ-plot \n",
    "sc.stats.probplot(result['result_return'], dist=\"norm\", plot=plt) "
   ]
  },
  {
   "cell_type": "markdown",
   "metadata": {},
   "source": [
    "Obviously there is an outlier"
   ]
  },
  {
   "cell_type": "code",
   "execution_count": 68,
   "metadata": {},
   "outputs": [
    {
     "data": {
      "text/plain": [
       "<matplotlib.collections.PathCollection at 0x7f1ab696b080>"
      ]
     },
     "execution_count": 68,
     "metadata": {},
     "output_type": "execute_result"
    },
    {
     "data": {
      "image/png": "[encoded data removed]",
      "text/plain": [
       "<Figure size 432x288 with 1 Axes>"
      ]
     },
     "metadata": {
      "needs_background": "light"
     },
     "output_type": "display_data"
    }
   ],
   "source": [
    "plt.scatter(result['adj_close_lag'],result['result_return'])"
   ]
  },
  {
   "cell_type": "code",
   "execution_count": 71,
   "metadata": {},
   "outputs": [
    {
     "data": {
      "text/plain": [
       "[0]"
      ]
     },
     "execution_count": 71,
     "metadata": {},
     "output_type": "execute_result"
    }
   ],
   "source": [
    "result.index[result['result_return']< -1].tolist()"
   ]
  },
  {
   "cell_type": "code",
   "execution_count": 72,
   "metadata": {},
   "outputs": [],
   "source": [
    "result_no_outlier = result.drop(result.index[0])"
   ]
  },
  {
   "cell_type": "code",
   "execution_count": 73,
   "metadata": {},
   "outputs": [
    {
     "data": {
      "text/plain": [
       "<matplotlib.collections.PathCollection at 0x7f1ab68c39b0>"
      ]
     },
     "execution_count": 73,
     "metadata": {},
     "output_type": "execute_result"
    },
    {
     "data": {
      "image/png": "[encoded data removed]",
      "text/plain": [
       "<Figure size 432x288 with 1 Axes>"
      ]
     },
     "metadata": {
      "needs_background": "light"
     },
     "output_type": "display_data"
    }
   ],
   "source": [
    "plt.scatter(result_no_outlier['adj_close_lag'],result_no_outlier['result_return'])"
   ]
  },
  {
   "cell_type": "code",
   "execution_count": 74,
   "metadata": {},
   "outputs": [
    {
     "data": {
      "text/plain": [
       "((array([-3.60993626, -3.37304347, -3.24239941, ...,  3.24239941,\n",
       "          3.37304347,  3.60993626]),\n",
       "  array([-0.1276522 , -0.09994485, -0.08104121, ...,  0.06054383,\n",
       "          0.08880841,  0.08968323])),\n",
       " (0.00981020111771014, -6.028519259216899e-05, 0.9466113868257154))"
      ]
     },
     "execution_count": 74,
     "metadata": {},
     "output_type": "execute_result"
    },
    {
     "data": {
      "image/png": "[encoded data removed]",
      "text/plain": [
       "<Figure size 432x288 with 1 Axes>"
      ]
     },
     "metadata": {
      "needs_background": "light"
     },
     "output_type": "display_data"
    }
   ],
   "source": [
    "sc.stats.probplot(result_no_outlier['result_return'], dist=\"norm\", plot=plt) "
   ]
  },
  {
   "cell_type": "markdown",
   "metadata": {},
   "source": [
    "**Discussion:**\n",
    "1. Drop the 20 rows for N225 dataset?\n",
    "AM: Good question, should we ask the professor how to deal with that? \n",
    "2. The DE_1YBOND attribute doesn't match with other 4, will the attribute affect the analysis? If not then we can keep them\n",
    "AM: This is because the first 4 datasets are from Yahoo data and this one is from another source. It's not a problem as long as we can merge it by Date to the rest of the data.\n",
    "3. There would defo some outliers in the data, we shoud decide how to deal with them.\n",
    "AM: Good question, let's ask."
   ]
  },
  {
   "cell_type": "markdown",
   "metadata": {
    "slideshow": {
     "slide_type": "subslide"
    }
   },
   "source": [
    "**09-April-2020**\n",
    "**AM Comments:**\n",
    "   1. I think that trying with 2 datasets should happen in a bit different way\n",
    "   2. Isolate the columns of adj. price for each asset and give them clear names to which asset they belong\n",
    "   3. Perform a join with on the Date variable (I think the concat function is not doing the job here)\n",
    "\n",
    "I did these steps below:  "
   ]
  },
  {
   "cell_type": "code",
   "execution_count": 59,
   "metadata": {},
   "outputs": [],
   "source": [
    "'''Rename Price column'''\n",
    "BTC.rename(columns={'Adj Close':'Price_BTC'}, \n",
    "                 inplace=True)\n",
    "DBC.rename(columns={'Adj Close':'Price_DBC'}, \n",
    "                 inplace=True)\n",
    "GSPC.rename(columns={'Adj Close':'Price_GSPC'}, \n",
    "                 inplace=True)\n",
    "N225.rename(columns={'Adj Close':'Price_N225'}, \n",
    "                 inplace=True)\n",
    "\n",
    "'''Create lags for all assets'''\n",
    "BTC['Price_BTC_lag'] = BTC['Price_BTC'].shift(1)\n",
    "DBC['Price_DBC_lag'] = DBC['Price_DBC'].shift(1)\n",
    "GSPC['Price_GSPC_lag'] = GSPC['Price_GSPC'].shift(1)\n",
    "N225['Price_N225_lag'] = N225['Price_N225'].shift(1)\n",
    "\n",
    "'''Calculate individual asset returns'''\n",
    "BTC['BTC_return'] = np.log(BTC['Price_BTC']/BTC['Price_BTC_lag']) \n",
    "DBC['DBC_return'] = np.log(DBC['Price_DBC']/DBC['Price_DBC_lag']) \n",
    "GSPC['GSPC_return'] = np.log(GSPC['Price_GSPC']/GSPC['Price_GSPC_lag']) \n",
    "N225['N225_return'] = np.log(N225['Price_N225']/N225['Price_N225_lag']) \n",
    "\n",
    "'''Keep only relevant columns'''\n",
    "BTC = BTC[['Date', 'Price_BTC', 'Price_BTC_lag', 'BTC_return']]\n",
    "DBC = DBC[['Date', 'Price_DBC', 'Price_DBC_lag', 'DBC_return']]\n",
    "GSPC = GSPC[['Date', 'Price_GSPC', 'Price_GSPC_lag', 'GSPC_return']]\n",
    "N225 = N225[['Date', 'Price_N225', 'Price_N225_lag', 'N225_return']]"
   ]
  },
  {
   "cell_type": "code",
   "execution_count": 60,
   "metadata": {},
   "outputs": [],
   "source": [
    "'''Merge asset datasets - inner join depending on BTC (first datset) - this needs to be updated'''\n",
    "result=pd.merge(BTC,DBC, how='inner', left_index=True, right_index=True)\n",
    "result2=pd.merge(result,GSPC, how='inner', left_index=True, right_index=True)\n",
    "df=pd.merge(result2,N225, how='inner', left_index=True, right_index=True)"
   ]
  },
  {
   "cell_type": "code",
   "execution_count": 61,
   "metadata": {},
   "outputs": [],
   "source": [
    "'''Assume equal weight (0.25) for the 4 assets and calculate portfolio returns - later to change it when we also add the bond'''\n",
    "df['portfolio_return'] = 0.25*df['BTC_return'] + 0.25*df['DBC_return'] + 0.25*df['GSPC_return'] + 0.25*df['N225_return'] "
   ]
  },
  {
   "cell_type": "code",
   "execution_count": 62,
   "metadata": {},
   "outputs": [
    {
     "data": {
      "text/plain": [
       "((array([-3.42141733, -3.17234904, -3.03431314, ...,  3.03431314,\n",
       "          3.17234904,  3.42141733]),\n",
       "  array([-0.21164006, -0.11377154, -0.09983359, ...,         nan,\n",
       "                 nan,         nan])),\n",
       " (nan, nan, nan))"
      ]
     },
     "execution_count": 62,
     "metadata": {},
     "output_type": "execute_result"
    },
    {
     "data": {
      "image/png": "[encoded data removed]",
      "text/plain": [
       "<Figure size 432x288 with 1 Axes>"
      ]
     },
     "metadata": {
      "needs_background": "light"
     },
     "output_type": "display_data"
    }
   ],
   "source": [
    "'''Create QQ-plot'''\n",
    "sc.stats.probplot(df['portfolio_return'], dist=\"norm\", plot=plt)"
   ]
  },
  {
   "cell_type": "markdown",
   "metadata": {},
   "source": [
    "##### I suggest to keep log of our Methodology and Questions and write email to Svetlana/Sarah next week to verify and ask - do you agree?\n",
    "\n",
    "**Methodology**\n",
    "1. Create lags for each individual asset and compute individual asset returns\n",
    "2. Merge the individual asset datasets and compute portfolio returns and portfolio standard deviation\n",
    "\n",
    "**Questions**\n",
    "1. How to deal with unmatching data (i.e. there is obs. for a particular dataset for one asset but none for another asset?). Should we delete all observations for that date altogether? How do we deal with the gap in history?\n",
    "2. How to deal with outlier\n",
    "\n",
    "##### Question: My code above looks ugly as I am doing the operations for each dataset separately instead of using some kind of loop to iterate. Can we, please, set up a short call so you can teach me how to do the iteration? :D "
   ]
  },
  {
   "cell_type": "code",
   "execution_count": null,
   "metadata": {},
   "outputs": [],
   "source": []
  }
 ],
 "metadata": {
  "kernelspec": {
   "display_name": "Python 3",
   "language": "python",
   "name": "python3"
  },
  "language_info": {
   "codemirror_mode": {
    "name": "ipython",
    "version": 3
   },
   "file_extension": ".py",
   "mimetype": "text/x-python",
   "name": "python",
   "nbconvert_exporter": "python",
   "pygments_lexer": "ipython3",
   "version": "3.7.4"
  }
 },
 "nbformat": 4,
 "nbformat_minor": 2
}
